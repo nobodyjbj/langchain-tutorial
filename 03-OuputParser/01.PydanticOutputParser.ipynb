{
 "cells": [
  {
   "cell_type": "markdown",
   "metadata": {},
   "source": [
    "### PydandicOutputParser\n",
    "  \n",
    "`PydanticOutputParser`는 Pydantic 모델을 기반으로 **LLM(Language Learning Model)**의 출력을 구조화된 Python 객체로 변환하는 클래스입니다.  \n",
    "이 클래스는 LLM의 자연어 처리 결과를 사용자가 필요로 하는 명확하고 체계적인 형태(스키마)로 변환합니다. 특히, JSON과 같은 구조화된 형식을 처리하거나 특정 필드와 조건을 강제해야 할 때 유용하게 활용됩니다.\n",
    "  \n",
    "`PydanticOutputParser` 에는 두 가지 핵심 메서드가 구현 되어야 합니다.  \n",
    "\n",
    "1. `parse()`: LLM의 출력 문자열을 받아 Pydantic 모델 인스턴스로 변환합니다.\n",
    "2. `get_format_instructions()`: LLM이 출력해야 할 데이터의 형식을 정의하는 지침을 제공합니다.\n",
    "  \n",
    "데이터의 일관성과 유효성을 보장하는 도구입니다.\n",
    "  \n",
    "Pydantic 공식 문서 : https://docs.pydantic.dev/latest/    "
   ]
  },
  {
   "cell_type": "code",
   "execution_count": 5,
   "metadata": {},
   "outputs": [],
   "source": [
    "from dotenv import load_dotenv\n",
    "import sys\n",
    "\n",
    "load_dotenv()\n",
    "\n",
    "sys.path.append(\"../common\")"
   ]
  },
  {
   "cell_type": "code",
   "execution_count": 6,
   "metadata": {},
   "outputs": [],
   "source": [
    "import os\n",
    "from langsmith_tracker import langsmith\n",
    "\n",
    "# 인스턴스를 생성할 때 필요한 매개변수를 전달합니다.\n",
    "langsmith(project_name=os.getenv(\"LANGCHAIN_PROJECT\"))"
   ]
  },
  {
   "cell_type": "code",
   "execution_count": null,
   "metadata": {},
   "outputs": [],
   "source": []
  }
 ],
 "metadata": {
  "kernelspec": {
   "display_name": "langchain-note-2024-PFhCXHTX-py3.12",
   "language": "python",
   "name": "python3"
  },
  "language_info": {
   "codemirror_mode": {
    "name": "ipython",
    "version": 3
   },
   "file_extension": ".py",
   "mimetype": "text/x-python",
   "name": "python",
   "nbconvert_exporter": "python",
   "pygments_lexer": "ipython3",
   "version": "3.12.7"
  }
 },
 "nbformat": 4,
 "nbformat_minor": 2
}
