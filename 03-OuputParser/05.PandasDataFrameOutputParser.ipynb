{
 "cells": [
  {
   "cell_type": "code",
   "execution_count": 1,
   "metadata": {},
   "outputs": [
    {
     "data": {
      "text/plain": [
       "True"
      ]
     },
     "execution_count": 1,
     "metadata": {},
     "output_type": "execute_result"
    }
   ],
   "source": [
    "from dotenv import load_dotenv\n",
    "import sys\n",
    "\n",
    "sys.path.append(\"../common\")\n",
    "load_dotenv()"
   ]
  },
  {
   "cell_type": "code",
   "execution_count": 2,
   "metadata": {},
   "outputs": [
    {
     "name": "stdout",
     "output_type": "stream",
     "text": [
      "Langsmith 추적이 활성화되었습니다. [프로젝트명: 03.OutputParser]\n"
     ]
    }
   ],
   "source": [
    "import os\n",
    "from langsmith_tracker import set_tracking\n",
    "from langchain_print import stream_response\n",
    "\n",
    "# 인스턴스를 생성할 때 필요한 매개변수를 전달합니다.\n",
    "set_tracking(project_name=\"03.OutputParser\")"
   ]
  },
  {
   "cell_type": "markdown",
   "metadata": {},
   "source": [
    "### PandasdataFrameOutputParser\n",
    "\n",
    "`Pandas DataFrame` 은 Python 언어에서 널리 사용되는 데이터 구조입니다.  \n",
    "데이터 조작 및 분석을 위한 도구입니다. 데이터의 정젝, 변환 및 분석과 같은 다양한 작업을 수행할 수 있습니다.   \n",
    "`Python` 을 한다면 꼭 스킬셋에 장착되어 있어야 하는 기술입니다.  \n",
    "  \n",
    "이 출력파서는 사용자가 임의의 Pandas DataFrame 을 지정하여 해당 DataFrame 에서 데이터를 추출하고, 이를 혁싱화된 dict 형태로 조회할 수 있게 해주는 LLM 기반의 도구입니다."
   ]
  },
  {
   "cell_type": "code",
   "execution_count": 3,
   "metadata": {},
   "outputs": [],
   "source": [
    "import pprint  # 이쁘게 출력\n",
    "from typing import Any, Dict\n",
    "\n",
    "import pandas as pd\n",
    "from langchain.output_parsers import PandasDataFrameOutputParser\n",
    "from langchain_core.prompts import PromptTemplate\n",
    "from langchain_openai import ChatOpenAI"
   ]
  },
  {
   "cell_type": "code",
   "execution_count": 29,
   "metadata": {},
   "outputs": [],
   "source": [
    "llm = ChatOpenAI(model=\"gpt-3.5-turbo\", temperature=0)"
   ]
  },
  {
   "cell_type": "markdown",
   "metadata": {},
   "source": [
    "`format_parser_output` 함수는 출력 파서를 dict 형식으로 변환하고 출력형식을 지정하는데 하용합니다."
   ]
  },
  {
   "cell_type": "code",
   "execution_count": 20,
   "metadata": {},
   "outputs": [],
   "source": [
    "# dict로 변환, 이쁘게 출력\n",
    "def format_parser_output(output_parser: Dict[str, Any]) -> None:\n",
    "    # output_parser fm를\n",
    "    for key in output_parser.keys():\n",
    "        output_parser[key] = output_parser[key].to_dict()\n",
    "    return pprint.PrettyPrinter(width=4, compact=True).pprint(output_parser)"
   ]
  },
  {
   "cell_type": "markdown",
   "metadata": {},
   "source": [
    "csv 파일을 불러옵니다."
   ]
  },
  {
   "cell_type": "code",
   "execution_count": 21,
   "metadata": {},
   "outputs": [
    {
     "data": {
      "text/html": [
       "<div>\n",
       "<style scoped>\n",
       "    .dataframe tbody tr th:only-of-type {\n",
       "        vertical-align: middle;\n",
       "    }\n",
       "\n",
       "    .dataframe tbody tr th {\n",
       "        vertical-align: top;\n",
       "    }\n",
       "\n",
       "    .dataframe thead th {\n",
       "        text-align: right;\n",
       "    }\n",
       "</style>\n",
       "<table border=\"1\" class=\"dataframe\">\n",
       "  <thead>\n",
       "    <tr style=\"text-align: right;\">\n",
       "      <th></th>\n",
       "      <th>Model</th>\n",
       "      <th>Release Date</th>\n",
       "      <th>Architecture</th>\n",
       "      <th>Memory</th>\n",
       "      <th>Key Features</th>\n",
       "    </tr>\n",
       "  </thead>\n",
       "  <tbody>\n",
       "    <tr>\n",
       "      <th>0</th>\n",
       "      <td>GeForce RTX 4090</td>\n",
       "      <td>2022-10</td>\n",
       "      <td>Ada Lovelace</td>\n",
       "      <td>24GB G6X</td>\n",
       "      <td>High performance gaming, AI-powered graphics, ...</td>\n",
       "    </tr>\n",
       "    <tr>\n",
       "      <th>1</th>\n",
       "      <td>GeForce RTX 4080 SUPER</td>\n",
       "      <td>2024-01</td>\n",
       "      <td>Ada Lovelace</td>\n",
       "      <td>16GB G6X</td>\n",
       "      <td>Enhanced compute speed, improved AI applicatio...</td>\n",
       "    </tr>\n",
       "    <tr>\n",
       "      <th>2</th>\n",
       "      <td>GeForce RTX 4070 Ti SUPER</td>\n",
       "      <td>2024-01</td>\n",
       "      <td>Ada Lovelace</td>\n",
       "      <td>12GB G6X</td>\n",
       "      <td>Improved performance and competitive pricing</td>\n",
       "    </tr>\n",
       "    <tr>\n",
       "      <th>3</th>\n",
       "      <td>GeForce RTX 4070 SUPER</td>\n",
       "      <td>2024-01</td>\n",
       "      <td>Ada Lovelace</td>\n",
       "      <td>12GB G6X</td>\n",
       "      <td>Improved efficiency and performance</td>\n",
       "    </tr>\n",
       "    <tr>\n",
       "      <th>4</th>\n",
       "      <td>GeForce RTX 4060 Ti</td>\n",
       "      <td>2023-05</td>\n",
       "      <td>Ada Lovelace</td>\n",
       "      <td>8GB G6</td>\n",
       "      <td>DLSS 3 support, power-efficient consumption</td>\n",
       "    </tr>\n",
       "  </tbody>\n",
       "</table>\n",
       "</div>"
      ],
      "text/plain": [
       "                       Model Release Date  Architecture    Memory  \\\n",
       "0           GeForce RTX 4090      2022-10  Ada Lovelace  24GB G6X   \n",
       "1     GeForce RTX 4080 SUPER      2024-01  Ada Lovelace  16GB G6X   \n",
       "2  GeForce RTX 4070 Ti SUPER      2024-01  Ada Lovelace  12GB G6X   \n",
       "3     GeForce RTX 4070 SUPER      2024-01  Ada Lovelace  12GB G6X   \n",
       "4        GeForce RTX 4060 Ti      2023-05  Ada Lovelace    8GB G6   \n",
       "\n",
       "                                        Key Features  \n",
       "0  High performance gaming, AI-powered graphics, ...  \n",
       "1  Enhanced compute speed, improved AI applicatio...  \n",
       "2       Improved performance and competitive pricing  \n",
       "3                Improved efficiency and performance  \n",
       "4        DLSS 3 support, power-efficient consumption  "
      ]
     },
     "execution_count": 21,
     "metadata": {},
     "output_type": "execute_result"
    }
   ],
   "source": [
    "df = pd.read_csv(\"./data/NVIDIA_latest_graphics_cards.csv\")\n",
    "df.head()"
   ]
  },
  {
   "cell_type": "code",
   "execution_count": 32,
   "metadata": {},
   "outputs": [
    {
     "name": "stdout",
     "output_type": "stream",
     "text": [
      "The output should be formatted as a string as the operation, followed by a colon, followed by the column or row to be queried on, followed by optional array parameters.\n",
      "1. The column names are limited to the possible columns below.\n",
      "2. Arrays must either be a comma-separated list of numbers formatted as [1,3,5], or it must be in range of numbers formatted as [0..4].\n",
      "3. Remember that arrays are optional and not necessarily required.\n",
      "4. If the column is not in the possible columns or the operation is not a valid Pandas DataFrame operation, return why it is invalid as a sentence starting with either \"Invalid column\" or \"Invalid operation\".\n",
      "\n",
      "As an example, for the formats:\n",
      "1. String \"column:num_legs\" is a well-formatted instance which gets the column num_legs, where num_legs is a possible column.\n",
      "2. String \"row:1\" is a well-formatted instance which gets row 1.\n",
      "3. String \"column:num_legs[1,2]\" is a well-formatted instance which gets the column num_legs for rows 1 and 2, where num_legs is a possible column.\n",
      "4. String \"row:1[num_legs]\" is a well-formatted instance which gets row 1, but for just column num_legs, where num_legs is a possible column.\n",
      "5. String \"mean:num_legs[1..3]\" is a well-formatted instance which takes the mean of num_legs from rows 1 to 3, where num_legs is a possible column and mean is a valid Pandas DataFrame operation.\n",
      "6. String \"do_something:num_legs\" is a badly-formatted instance, where do_something is not a valid Pandas DataFrame operation.\n",
      "7. String \"mean:invalid_col\" is a badly-formatted instance, where invalid_col is not a possible column.\n",
      "\n",
      "Here are the possible columns:\n",
      "```\n",
      "Model, Release Date, Architecture, Memory, Key Features\n",
      "```\n",
      "\n"
     ]
    }
   ],
   "source": [
    "output_parser = PandasDataFrameOutputParser(dataframe=df)\n",
    "\n",
    "print(output_parser.get_format_instructions())"
   ]
  },
  {
   "cell_type": "markdown",
   "metadata": {},
   "source": [
    "컬럼에 대해 조회할 수 있습니다."
   ]
  },
  {
   "cell_type": "code",
   "execution_count": 35,
   "metadata": {},
   "outputs": [
    {
     "name": "stdout",
     "output_type": "stream",
     "text": [
      "{'Memory': {0: '24GB '\n",
      "               'G6X',\n",
      "            1: '16GB '\n",
      "               'G6X',\n",
      "            2: '12GB '\n",
      "               'G6X',\n",
      "            3: '12GB '\n",
      "               'G6X',\n",
      "            4: '8GB '\n",
      "               'G6'}}\n"
     ]
    }
   ],
   "source": [
    "#  열 작업 예시\n",
    "question = \"Memory 컬럼을 조회해주세요.\"\n",
    "\n",
    "prompt = PromptTemplate(\n",
    "    template=\"Answer the user query.\\n{format_instructions}\\n{question}\\n\",\n",
    "    input_variables=[\"question\"],\n",
    "    partial_variables={\"format_instructions\": output_parser.get_format_instructions()},\n",
    ")\n",
    "\n",
    "chain = prompt | llm | output_parser\n",
    "\n",
    "response = chain.invoke({\"question\", question})\n",
    "\n",
    "format_parser_output(response)"
   ]
  }
 ],
 "metadata": {
  "kernelspec": {
   "display_name": "langchain-note-2024-PFhCXHTX-py3.12",
   "language": "python",
   "name": "python3"
  },
  "language_info": {
   "codemirror_mode": {
    "name": "ipython",
    "version": 3
   },
   "file_extension": ".py",
   "mimetype": "text/x-python",
   "name": "python",
   "nbconvert_exporter": "python",
   "pygments_lexer": "ipython3",
   "version": "3.12.7"
  }
 },
 "nbformat": 4,
 "nbformat_minor": 2
}
