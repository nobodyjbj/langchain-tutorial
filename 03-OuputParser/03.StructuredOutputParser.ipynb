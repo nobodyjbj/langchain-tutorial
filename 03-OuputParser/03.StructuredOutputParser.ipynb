{
 "cells": [
  {
   "cell_type": "code",
   "execution_count": 2,
   "metadata": {},
   "outputs": [
    {
     "data": {
      "text/plain": [
       "True"
      ]
     },
     "execution_count": 2,
     "metadata": {},
     "output_type": "execute_result"
    }
   ],
   "source": [
    "from dotenv import load_dotenv\n",
    "import sys\n",
    "\n",
    "sys.path.append(\"../common\")\n",
    "load_dotenv()"
   ]
  },
  {
   "cell_type": "code",
   "execution_count": 3,
   "metadata": {},
   "outputs": [
    {
     "name": "stdout",
     "output_type": "stream",
     "text": [
      "Langsmith 추적이 활성화되었습니다. [프로젝트명: 03.OutputParser]\n"
     ]
    }
   ],
   "source": [
    "import os\n",
    "from langsmith_tracker import set_tracking\n",
    "from langchain_print import stream_response\n",
    "\n",
    "# 인스턴스를 생성할 때 필요한 매개변수를 전달합니다.\n",
    "set_tracking(project_name=\"03.OutputParser\")"
   ]
  },
  {
   "cell_type": "markdown",
   "metadata": {},
   "source": [
    "### StructuredOutputParser\n",
    "\n",
    "`StructuredOutputParser`\n",
    "- LLM의 응답을 `dict` 형식으로 구성하고, key/value 쌍으로 여러 필드를 반환하고자 할때 사용합니다.    \n",
    "- Pydantic 을 쓰지 않고 `StructuredOutputParser` 를 써야 할 때가 있습니다.  \n",
    "GPT 말고도 Local 모델을 쓸때가 있는데, 이때 Pydantic이 적용이 안되는 경우도 있어서 더욱 강력한 `StructuredOutputParser` 를 사용합니다.\n",
    "\n",
    "`Response Schema`\n",
    "- 우리가 추출하고자 하는 내용들을 name, description 이라는 값들에 지정해줍니다."
   ]
  },
  {
   "cell_type": "code",
   "execution_count": 4,
   "metadata": {},
   "outputs": [],
   "source": [
    "from langchain.output_parsers import ResponseSchema, StructuredOutputParser\n",
    "from langchain_core.prompts import PromptTemplate\n",
    "from langchain_openai import ChatOpenAI"
   ]
  },
  {
   "cell_type": "code",
   "execution_count": 8,
   "metadata": {},
   "outputs": [
    {
     "name": "stdout",
     "output_type": "stream",
     "text": [
      "The output should be a markdown code snippet formatted in the following schema, including the leading and trailing \"```json\" and \"```\":\n",
      "\n",
      "```json\n",
      "{\n",
      "\t\"answer\": string  // 사용자의 질문에 대한 답변\n",
      "\t\"source\": string  // 사용자의 질문에 답하기 위해 사용된 `출처`, `웹사이트주소` 이여야 합니다.\n",
      "}\n",
      "```\n"
     ]
    }
   ],
   "source": [
    "# 사용자 질문에 대한 답변 스키마(양식)\n",
    "response_schemas = [\n",
    "    ResponseSchema(name=\"answer\", description=\"사용자의 질문에 대한 답변\"),\n",
    "    ResponseSchema(\n",
    "        name=\"source\",\n",
    "        description=\"사용자의 질문에 답하기 위해 사용된 `출처`, `웹사이트주소` 이여야 합니다.\",\n",
    "    ),\n",
    "]\n",
    "\n",
    "# 응답 스키마(양식)을 기반으로 한 구조화된 출력파서 초기화\n",
    "output_parser = StructuredOutputParser.from_response_schemas(\n",
    "    response_schemas=response_schemas\n",
    ")\n",
    "\n",
    "print(output_parser.get_format_instructions())"
   ]
  },
  {
   "cell_type": "code",
   "execution_count": 9,
   "metadata": {},
   "outputs": [],
   "source": [
    "format_insturctions = output_parser.get_format_instructions()\n",
    "\n",
    "prompt = PromptTemplate(\n",
    "    template=\"answer the users question as best as possible.\\n{format_instructions}\\n{question}\",\n",
    "    input_variables=[\"question\"],\n",
    "    partial_variables={\"format_instructions\": format_insturctions},\n",
    ")\n",
    "\n",
    "llm = ChatOpenAI(model=\"gpt-4o-mini\", temperature=0)\n",
    "chain = prompt | llm | output_parser"
   ]
  },
  {
   "cell_type": "code",
   "execution_count": 12,
   "metadata": {},
   "outputs": [
    {
     "name": "stdout",
     "output_type": "stream",
     "text": [
      "{'answer': '비트코인의 발명가는 사토시 나카모토(Satoshi Nakamoto)라는 가명으로 알려진 개인 또는 그룹입니다. 2008년에 비트코인 백서를 발표하고 2009년에 첫 번째 비트코인 소프트웨어를 출시했습니다.', 'source': 'https://bitcoin.org/bitcoin.pdf'}\n"
     ]
    }
   ],
   "source": [
    "response = chain.invoke({\"question\": \"비트코인의 발명가는 누구인가요?\"})\n",
    "print(response)"
   ]
  },
  {
   "cell_type": "markdown",
   "metadata": {},
   "source": [
    "`chain.stream` 을 사용합니다.  \n",
    "OutputParser 는 stream에 제한적입니다. 되도록 invoke를 사용하는 것이 좋습니다. 아직은.."
   ]
  },
  {
   "cell_type": "code",
   "execution_count": 14,
   "metadata": {},
   "outputs": [
    {
     "name": "stdout",
     "output_type": "stream",
     "text": [
      "{'answer': '비트코인의 발명가는 사토시 나카모토(Satoshi Nakamoto)라는 가명으로 알려진 개인 또는 그룹입니다. 2008년에 비트코인 백서를 발표하고 2009년에 첫 번째 비트코인 소프트웨어를 출시했습니다.', 'source': 'https://bitcoin.org/bitcoin.pdf'}\n"
     ]
    }
   ],
   "source": [
    "for token in chain.stream({\"question\": \"비트코인의 발명가는 누구인가요?\"}):\n",
    "    print(token)"
   ]
  }
 ],
 "metadata": {
  "kernelspec": {
   "display_name": "langchain-note-2024-PFhCXHTX-py3.12",
   "language": "python",
   "name": "python3"
  },
  "language_info": {
   "codemirror_mode": {
    "name": "ipython",
    "version": 3
   },
   "file_extension": ".py",
   "mimetype": "text/x-python",
   "name": "python",
   "nbconvert_exporter": "python",
   "pygments_lexer": "ipython3",
   "version": "3.12.7"
  }
 },
 "nbformat": 4,
 "nbformat_minor": 2
}
