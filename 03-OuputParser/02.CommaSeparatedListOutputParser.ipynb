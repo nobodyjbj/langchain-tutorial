{
 "cells": [
  {
   "cell_type": "code",
   "execution_count": 20,
   "metadata": {},
   "outputs": [
    {
     "data": {
      "text/plain": [
       "True"
      ]
     },
     "execution_count": 20,
     "metadata": {},
     "output_type": "execute_result"
    }
   ],
   "source": [
    "from dotenv import load_dotenv\n",
    "import sys\n",
    "\n",
    "sys.path.append(\"../common\")\n",
    "load_dotenv()"
   ]
  },
  {
   "cell_type": "code",
   "execution_count": 21,
   "metadata": {},
   "outputs": [
    {
     "name": "stdout",
     "output_type": "stream",
     "text": [
      "Langsmith 추적이 활성화되었습니다. [프로젝트명: 03.OutputParser]\n"
     ]
    }
   ],
   "source": [
    "import os\n",
    "from langsmith_tracker import set_tracking\n",
    "from langchain_print import stream_response\n",
    "\n",
    "# 인스턴스를 생성할 때 필요한 매개변수를 전달합니다.\n",
    "set_tracking(project_name=\"03.OutputParser\")"
   ]
  },
  {
   "cell_type": "markdown",
   "metadata": {},
   "source": [
    "### CommaSeparatedListOutputParser\n",
    "\n",
    "`CommaSeparatedListOutputParser` 는 쉼표로 구분된 항목 목록을 반환합니다.\n",
    "  \n",
    "입력된 데이터나 요청된 정보를 쉼표로 구분하여 명확하고 간결한 목록 형태로 제공할 수 있습니다.  \n",
    "예를 들어,  \n",
    "- 키워드 추출: 텍스트에서 키워드를 추출하여 쉼표로 구분된 형태로 반환하고자 할 때. (해시태그, 쇼핑목록)\n",
    "- 요약된 목록 생성:  여러 항목을 요약하여 간결한 쉼표로 구분된 목록으로 표시할 때.\n",
    "- 데터 정규화: 입력 데이터를 쉼표로 구분된 표준화된 출력 형식으로 변환하고자 할 때. (CSV)\n",
    "\n",
    "`CommaSeparatedListOutputParser` 는 정보를 구조화하고 가독성을 높이며, 데이터를 다루거나 리스트 형태의 결과를 출력해야 할때 유용합니다."
   ]
  },
  {
   "cell_type": "code",
   "execution_count": 22,
   "metadata": {},
   "outputs": [],
   "source": [
    "from langchain_core.output_parsers import CommaSeparatedListOutputParser\n",
    "from langchain_core.prompts import PromptTemplate\n",
    "from langchain_openai import ChatOpenAI\n",
    "\n",
    "ouput_parser = CommaSeparatedListOutputParser()\n",
    "\n",
    "format_instructions = ouput_parser.get_format_instructions()"
   ]
  },
  {
   "cell_type": "code",
   "execution_count": 23,
   "metadata": {},
   "outputs": [
    {
     "name": "stdout",
     "output_type": "stream",
     "text": [
      "Your response should be a list of comma separated values, eg: `foo, bar, baz` or `foo,bar,baz`\n"
     ]
    }
   ],
   "source": [
    "print(format_instructions)"
   ]
  },
  {
   "cell_type": "code",
   "execution_count": 39,
   "metadata": {},
   "outputs": [],
   "source": [
    "prompt = PromptTemplate(\n",
    "    template=\"Give me five lists that fit the Topic./n#Topic\\n{topic}\\n{format_instructions}\",\n",
    "    input_variables=[\"topic\"],\n",
    "    partial_variables={\"format_instructions\": format_instructions},\n",
    ")\n",
    "\n",
    "llm = ChatOpenAI(model=\"gpt-4o-mini\", temperature=0)\n",
    "\n",
    "chain = prompt | llm | ouput_parser"
   ]
  },
  {
   "cell_type": "code",
   "execution_count": 34,
   "metadata": {},
   "outputs": [
    {
     "name": "stdout",
     "output_type": "stream",
     "text": [
      "['1. 비트코인', '이더리움', '도지코인', '리플', '카르다노  ', '2. 솔라나', '폴카닷', '체인링크', '라이트코인', '스텔라  ', '3. 유니스왑', '에이다', '테조스', '트론', '비체인  ', '4. 아발란체', '파일코인', '스시스왑', '이오스', '퀀텀  ', '5. 스텔라루멘', '네오', '오미세고', '제트캐시', '스테이터스  ']\n"
     ]
    }
   ],
   "source": [
    "answer = chain.invoke({\"topic\": \"가장 많이 상승한 코인 종목\"})\n",
    "print(answer)"
   ]
  },
  {
   "cell_type": "markdown",
   "metadata": {},
   "source": [
    "`CommaSeparatedListOutputParser` 를 사용할때는 보통 stream을 사용하지 않습니다."
   ]
  },
  {
   "cell_type": "code",
   "execution_count": 43,
   "metadata": {},
   "outputs": [
    {
     "name": "stdout",
     "output_type": "stream",
     "text": [
      "['1. 비트코인']\n",
      "['이더리움']\n",
      "['도지코인']\n",
      "['리플']\n",
      "['카르다노  ']\n",
      "['2. 솔라나']\n",
      "['폴카닷']\n",
      "['체인링크']\n",
      "['라이트코인']\n",
      "['스텔라  ']\n",
      "['3. 유니스왑']\n",
      "['에이다']\n",
      "['테조스']\n",
      "['비체인']\n",
      "['트론  ']\n",
      "['4. 아발란체']\n",
      "['파일코인']\n",
      "['스시스왑']\n",
      "['퀀텀']\n",
      "['이오스  ']\n",
      "['5. 스텔라루멘']\n",
      "['네오']\n",
      "['오미세고']\n",
      "['제트캐시']\n",
      "['엘론드  ']\n"
     ]
    }
   ],
   "source": [
    "for s in chain.stream({\"topic\": \"가장 많이 상승한 코인 종목\"}):\n",
    "    print(s)"
   ]
  }
 ],
 "metadata": {
  "kernelspec": {
   "display_name": "langchain-note-2024-PFhCXHTX-py3.12",
   "language": "python",
   "name": "python3"
  },
  "language_info": {
   "codemirror_mode": {
    "name": "ipython",
    "version": 3
   },
   "file_extension": ".py",
   "mimetype": "text/x-python",
   "name": "python",
   "nbconvert_exporter": "python",
   "pygments_lexer": "ipython3",
   "version": "3.12.7"
  }
 },
 "nbformat": 4,
 "nbformat_minor": 2
}
