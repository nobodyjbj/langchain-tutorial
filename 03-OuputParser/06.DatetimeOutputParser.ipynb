{
 "cells": [
  {
   "cell_type": "code",
   "execution_count": 1,
   "metadata": {},
   "outputs": [
    {
     "data": {
      "text/plain": [
       "True"
      ]
     },
     "execution_count": 1,
     "metadata": {},
     "output_type": "execute_result"
    }
   ],
   "source": [
    "from dotenv import load_dotenv\n",
    "import sys\n",
    "\n",
    "sys.path.append(\"../common\")\n",
    "load_dotenv()"
   ]
  },
  {
   "cell_type": "code",
   "execution_count": 2,
   "metadata": {},
   "outputs": [
    {
     "name": "stdout",
     "output_type": "stream",
     "text": [
      "Langsmith 추적이 활성화되었습니다. [프로젝트명: 03.OutputParser]\n"
     ]
    }
   ],
   "source": [
    "import os\n",
    "from langsmith_tracker import set_tracking\n",
    "from langchain_print import stream_response\n",
    "\n",
    "# 인스턴스를 생성할 때 필요한 매개변수를 전달합니다.\n",
    "set_tracking(project_name=\"03.OutputParser\")"
   ]
  },
  {
   "cell_type": "markdown",
   "metadata": {},
   "source": [
    "### DatetimeOutputParser\n",
    "\n",
    "LLM의 출력을 datetime형식으로 출력하는 파서입니다."
   ]
  },
  {
   "cell_type": "markdown",
   "metadata": {},
   "source": [
    "| **형식 코드** | **설명**                 | **예시**             |\n",
    "|---------------|--------------------------|----------------------|\n",
    "| `%Y`          | 4자리 연도               | 2024                |\n",
    "| `%y`          | 2자리 연도               | 24                  |\n",
    "| `%m`          | 2자리 월 (01~12)         | 11                  |\n",
    "| `%d`          | 2자리 일 (01~31)         | 25                  |\n",
    "| `%H`          | 24시간 형식의 시 (00~23) | 14                  |\n",
    "| `%I`          | 12시간 형식의 시 (01~12) | 02                  |\n",
    "| `%p`          | AM/PM                    | PM                  |\n",
    "| `%M`          | 분 (00~59)               | 30                  |\n",
    "| `%S`          | 초 (00~59)               | 45                  |\n",
    "| `%f`          | 마이크로초 (000000~999999)| 123456              |\n",
    "| `%a`          | 요일의 짧은 이름         | Mon                 |\n",
    "| `%A`          | 요일의 전체 이름         | Monday              |\n",
    "| `%w`          | 요일을 숫자로 표시 (0~6, 일요일이 0) | 1 |\n",
    "| `%b`          | 월의 짧은 이름           | Nov                 |\n",
    "| `%B`          | 월의 전체 이름           | November            |\n",
    "| `%U`          | 연중 주 번호 (일요일 시작, 00~53) | 47 |\n",
    "| `%W`          | 연중 주 번호 (월요일 시작, 00~53) | 47 |\n",
    "| `%c`          | 로컬 날짜 및 시간 표시    | Mon Nov 25 14:30:45 2024 |\n",
    "| `%x`          | 로컬 날짜 표시           | 11/25/24            |\n",
    "| `%X`          | 로컬 시간 표시           | 14:30:45            |\n",
    "| `%j`          | 연중 일 번호 (001~366)   | 329                 |\n",
    "| `%z`          | UTC 오프셋               | +0900               |\n",
    "| `%Z`          | 시간대 이름              | KST                 |\n",
    "| `%%`          | `%` 문자 자체            | %                   |\n"
   ]
  },
  {
   "cell_type": "code",
   "execution_count": 8,
   "metadata": {},
   "outputs": [
    {
     "data": {
      "text/plain": [
       "PromptTemplate(input_variables=['question'], input_types={}, partial_variables={'format_instructions': \"Write a datetime string that matches the following pattern: '%Y-%m-%d'.\\n\\nExamples: 1395-04-20, 1172-11-17, 1618-11-21\\n\\nReturn ONLY this string, no other words!\"}, template='Answer the users question:\\n\\n#Format Instructions: \\n{format_instructions}\\n\\n#Question:\\n{question}\\n\\n#Answer: ')"
      ]
     },
     "execution_count": 8,
     "metadata": {},
     "output_type": "execute_result"
    }
   ],
   "source": [
    "from langchain.output_parsers import DatetimeOutputParser\n",
    "from langchain.prompts import PromptTemplate\n",
    "from langchain_openai import ChatOpenAI\n",
    "\n",
    "# 날짜 및 시간 출력 파서\n",
    "output_parser = DatetimeOutputParser()\n",
    "output_parser.format = \"%Y-%m-%d\"\n",
    "\n",
    "# 사용자 질문에 대한 답변 템플릿\n",
    "template = \"\"\"Answer the users question:\\n\\n#Format Instructions: \\n{format_instructions}\\n\\n#Question:\\n{question}\\n\\n#Answer: \"\"\"\n",
    "\n",
    "prompt = PromptTemplate.from_template(\n",
    "    template=template,\n",
    "    partial_variables={\"format_instructions\": output_parser.get_format_instructions()},\n",
    ")\n",
    "\n",
    "prompt"
   ]
  },
  {
   "cell_type": "code",
   "execution_count": 14,
   "metadata": {},
   "outputs": [
    {
     "data": {
      "text/plain": [
       "datetime.datetime(2015, 7, 30, 0, 0)"
      ]
     },
     "execution_count": 14,
     "metadata": {},
     "output_type": "execute_result"
    }
   ],
   "source": [
    "llm = ChatOpenAI(model=\"gpt-4o\", temperature=0)\n",
    "chain = prompt | llm | output_parser\n",
    "\n",
    "response = chain.invoke({\"question\": \"이더리움의 출시일은?\"})\n",
    "\n",
    "response"
   ]
  },
  {
   "cell_type": "code",
   "execution_count": 12,
   "metadata": {},
   "outputs": [
    {
     "data": {
      "text/plain": [
       "'2009-01-03'"
      ]
     },
     "execution_count": 12,
     "metadata": {},
     "output_type": "execute_result"
    }
   ],
   "source": [
    "response.strftime(\"%Y-%m-%d\")"
   ]
  },
  {
   "cell_type": "code",
   "execution_count": null,
   "metadata": {},
   "outputs": [],
   "source": []
  }
 ],
 "metadata": {
  "kernelspec": {
   "display_name": "langchain-note-2024-PFhCXHTX-py3.12",
   "language": "python",
   "name": "python3"
  },
  "language_info": {
   "codemirror_mode": {
    "name": "ipython",
    "version": 3
   },
   "file_extension": ".py",
   "mimetype": "text/x-python",
   "name": "python",
   "nbconvert_exporter": "python",
   "pygments_lexer": "ipython3",
   "version": "3.12.7"
  }
 },
 "nbformat": 4,
 "nbformat_minor": 2
}
