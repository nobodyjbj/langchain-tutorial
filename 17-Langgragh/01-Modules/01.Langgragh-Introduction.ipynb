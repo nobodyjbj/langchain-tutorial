{
 "cells": [
  {
   "cell_type": "code",
   "execution_count": 11,
   "metadata": {},
   "outputs": [
    {
     "data": {
      "text/plain": [
       "True"
      ]
     },
     "execution_count": 11,
     "metadata": {},
     "output_type": "execute_result"
    }
   ],
   "source": [
    "from dotenv import load_dotenv\n",
    "import sys\n",
    "\n",
    "sys.path.append(\"../../common\")\n",
    "load_dotenv()"
   ]
  },
  {
   "cell_type": "code",
   "execution_count": 6,
   "metadata": {},
   "outputs": [
    {
     "name": "stdout",
     "output_type": "stream",
     "text": [
      "Langsmith 추적이 활성화되었습니다. [프로젝트명: 17.LangGraph]\n"
     ]
    }
   ],
   "source": [
    "import os\n",
    "from langsmith_tracker import set_tracking\n",
    "from langchain_print import stream_response\n",
    "from multimodal import MultiModal\n",
    "from tools_news import GoogleNews\n",
    "\n",
    "# 인스턴스를 생성할 때 필요한 매개변수를 전달합니다.\n",
    "set_tracking(project_name=\"17.LangGraph\")"
   ]
  },
  {
   "cell_type": "markdown",
   "metadata": {},
   "source": [
    "### LangGraph 에서 자주 사용하는 문법들\n",
    "\n",
    "#### TypedDict\n",
    "\n",
    "`dict`와 `TypedDict` 의 차이점과 LangGragh에서 `TypedDict`를 사용하는 이유에 대한 설명입니다.\n",
    "\n",
    "1. `dict`와 `TypedDict` 의 차이점:\n",
    "\n",
    "    - 타입 검사:\n",
    "        - `dict` : 런타임에서 타입 검사를 하지 않습니다.\n",
    "        - `TypedDict` : 런타임에서 타입 검사를 합니다. 런타임에서 검사를 한다는 것은 IDE에서 타입 검사를 해주는 것을 의미합니다.\n",
    "        \n",
    "    - 키와 값의 타입\n",
    "        - `dict` : 키와 값의 타입을 일반적으로 지정합니다. (ex. `dict[str, int]`)\n",
    "        - `TypedDict` : 각 키에 대해 구체적인 타입을 지정할 수 있습니다. (ex. `TypedDict('MyDict', {'name': str, 'age': int})`)\n",
    "\n",
    "    - 유연성\n",
    "        - `dict` : 런타임에 키를 추가하거나 제거할 수 있습니다.\n",
    "        - `TypedDict` : 정의된 구조를 따라야 합니다. 추가적인 키는 타입오류를 발생시킵니다.\n",
    "\n",
    "2. LangGraph에서 `TypedDict`를 사용하는 이유:\n",
    "    - 타입 안정성 : 엄격한 타입 검사를 제공하여 잠재적인 버그를 미리 방지할 수 있습니다.\n",
    "    - 코드 가독성 : 딕셔너리의 구조를 명확하게 정의할 수 있어 코드의 가독성이 향상됩니다.\n",
    "    - IDE지원, 디버깅 용이성 : IDE에서 자동 완성 및 타입 힌트를 더 정확하게 제공받을 수 있고, 타입 오류를 미리 발견하여 디버깅을 용이하게 합니다.\n",
    "    - 협업 향상 : 타입 정의를 공유하여 팀원들 간의 협업을 용이하게 합니다. (문서화)"
   ]
  },
  {
   "cell_type": "markdown",
   "metadata": {},
   "source": [
    "##### 사용 예시"
   ]
  },
  {
   "cell_type": "code",
   "execution_count": 9,
   "metadata": {},
   "outputs": [
    {
     "data": {
      "text/plain": [
       "{'name': 'John', 'age': 30, 'job': 'Developer'}"
      ]
     },
     "execution_count": 9,
     "metadata": {},
     "output_type": "execute_result"
    }
   ],
   "source": [
    "# Dict와 TypedDict 차이점 예시\n",
    "from typing import Dict, TypedDict\n",
    "\n",
    "# Dict 예시\n",
    "a = dict()\n",
    "a[\"name\"] = \"John\"\n",
    "a\n",
    "\n",
    "\n",
    "# TypedDict 예시\n",
    "class Person(TypedDict):\n",
    "    name: str\n",
    "    age: int\n",
    "    job: str\n",
    "\n",
    "\n",
    "herry = Person(name=\"Sui\", age=20, job=\"Student\")\n",
    "john: Person = {\"name\": \"John\", \"age\": 30, \"job\": \"Developer\"}"
   ]
  },
  {
   "cell_type": "markdown",
   "metadata": {},
   "source": [
    "#### Annotated\n",
    "\n",
    "타입 힌트를 추가하는 방법입니다. 파이썬코드에서 코드에 대한 주석을 붙이듯이 타입에 대한 힌트를 제공하는 문법입니다.  \n",
    "\n",
    "##### Annotated 주요 기능\n",
    "1. 추가정보 제공: 타입 힌트에 메타데이터를 추가하여 더 상세한 정보를 제공합니다.\n",
    "2. 문서화: 코드 자체에 추가 설명을 포함시켜 문서화 효과를 얻습니다.\n",
    "3. 유효성 검사: Pydantic과 함께 사용하여 데이터 유효성 검사를 수행합니다.\n",
    "4. 프레임워크 지원: LangGragh에서는 Annotated를 사용하여 타입 힌트를 제공합니다."
   ]
  },
  {
   "cell_type": "markdown",
   "metadata": {},
   "source": [
    "##### 사용 예시\n",
    "\n",
    "기본 사용하는 예시입니다."
   ]
  },
  {
   "cell_type": "code",
   "execution_count": 10,
   "metadata": {},
   "outputs": [],
   "source": [
    "from typing import Annotated\n",
    "\n",
    "name: Annotated[str, \"사용자 이름\"]\n",
    "age: Annotated[int, \"사용자 나이(0-150)\"]"
   ]
  },
  {
   "cell_type": "markdown",
   "metadata": {},
   "source": [
    "Pydantic과 함께 사용하는 예시입니다."
   ]
  },
  {
   "cell_type": "code",
   "execution_count": 3,
   "metadata": {},
   "outputs": [
    {
     "name": "stdout",
     "output_type": "stream",
     "text": [
      "유효성 검사 오류: \n",
      "필드: salary, 오류: Input should be less than 100000\n"
     ]
    }
   ],
   "source": [
    "from typing import Annotated, List\n",
    "from pydantic import BaseModel, Field, ValidationError\n",
    "\n",
    "\n",
    "class Employee(BaseModel):\n",
    "    id: Annotated[int, Field(..., description=\"직원 ID\")]\n",
    "    name: Annotated[str, Field(..., description=\"직원 이름\")]\n",
    "    age: Annotated[int, Field(..., description=\"직원 생년월일\")]\n",
    "    salary: Annotated[\n",
    "        int, Field(gt=0, lt=100000, description=\"직원 연봉(단위: 만원, 최대 10억)\")\n",
    "    ]\n",
    "    skills: Annotated[\n",
    "        List[str], Field(min_item=1, max_items=10, description=\"보유 기술(1-10개\")\n",
    "    ]\n",
    "\n",
    "\n",
    "# 유요한 데이터로 객체 생성\n",
    "try:\n",
    "    valid_employee = Employee(\n",
    "        id=1, name=\"John\", age=30, salary=50000, skills=[\"Python\", \"Java\"]\n",
    "    )\n",
    "except ValidationError as e:\n",
    "    print(\"유효성 검사 오류: \", e)\n",
    "\n",
    "# 유효하지 않은 데이터로 객체 생성\n",
    "try:\n",
    "    invalid_employee = Employee(\n",
    "        id=1, name=\"John\", age=30, salary=200000, skills=[\"Python\", \"Java\"]\n",
    "    )\n",
    "except ValidationError as e:\n",
    "    print(\"유효성 검사 오류: \")\n",
    "    for error in e.errors():\n",
    "        print(f\"필드: {error['loc'][0]}, 오류: {error['msg']}\")"
   ]
  },
  {
   "cell_type": "markdown",
   "metadata": {},
   "source": [
    "#### LangGraph에서의 TypedDict, Annotated 사용(add_messages)\n",
    "\n",
    "`add_messages` 함수는 메시지를 추가하는 함수입니다. 메시지는 타입 힌트를 추가하는 역할을 합니다. `Reducer`라고 합니다.\n"
   ]
  },
  {
   "cell_type": "code",
   "execution_count": 5,
   "metadata": {},
   "outputs": [],
   "source": [
    "from typing import Annotated, TypedDict\n",
    "from langgraph.graph import add_messages\n",
    "\n",
    "\n",
    "class Mydata(TypedDict):\n",
    "    messages: Annotated[list, add_messages]"
   ]
  },
  {
   "cell_type": "code",
   "execution_count": 6,
   "metadata": {},
   "outputs": [
    {
     "data": {
      "text/plain": [
       "{'messages': ['Hello, world!']}"
      ]
     },
     "execution_count": 6,
     "metadata": {},
     "output_type": "execute_result"
    }
   ],
   "source": [
    "from typing import Annotated, TypedDict\n",
    "from langgraph.graph import add_messages\n",
    "\n",
    "\n",
    "class Mydata(TypedDict):\n",
    "    messages: Annotated[list, add_messages]\n",
    "\n",
    "\n",
    "mydata = Mydata(messages=[\"Hello, world!\"])\n",
    "mydata"
   ]
  },
  {
   "cell_type": "markdown",
   "metadata": {},
   "source": [
    "##### 참고\n",
    "1. `Annotated` 는 Python 3.9 이상에서 사용할 수 있습니다.\n",
    "2. 런타임에는 `Annotated`가 무시되므로, 실제 동작에는 영향을 주지 않습니다.\n",
    "3. 타입 검사도구나 IDE가 `Annotated`를 지원해야 그 효과를 볼 수 있습니다."
   ]
  },
  {
   "cell_type": "markdown",
   "metadata": {},
   "source": [
    "#### add_messages\n",
    "\n",
    "`messages` 키는 <span style=\"color:#1e73be; background-color:#363a43\">add_messages</span> Reducer  함수로 주석이 달려 있으며, LangGragh에게 기존 목록에 새 메시지는 append 하도록 지시합니다.  \n",
    "  \n",
    "주석이 없는 상태 키는 각 업데이트에 의해 덮어쓰여져 가장 최근의 값이 저장됩니다.  \n",
    "  \n",
    "<span style=\"color:#1e73be; background-color:#363a43\">add_messages</span> 함수는 두개의 인자(left, right)를 받습니다. left, rigth 메시지를 병합하여 반환합니다.  \n",
    "  \n",
    "**주요 기능**\n",
    "- 두개의 메세지 리스트를 병합합니다.\n",
    "- 기본적으로 \"append-only\" 모드로 동작합니다.\n",
    "- 동일한 ID를 가진 메세지는 덮어쓰여집니다.\n",
    "\n",
    "**동작방식**\n",
    "- `right` 메세지 중 `left` 에 동일한 ID를 가진 메시지가 있으면, `left` 메시지는 무시됩니다. `right` 메시지fh 대체됩니다.\n",
    "- 그 외의 경우 `right` 메시지가 `left` 메시지에 추가됩니다.\n",
    "\n",
    "**매개변수**\n",
    "- `left` (Messages): 기존 메시지 리스트\n",
    "- `right` (Messages): 병합할 메시지 리스트 또는 단일 메시지\n",
    "\n",
    "**반환값**\n",
    "- `Messages`: `right`의 메시지들이 `left`에 병합된 새로운 메시지 리스트"
   ]
  },
  {
   "cell_type": "markdown",
   "metadata": {},
   "source": [
    "기본 사용방법입니다."
   ]
  },
  {
   "cell_type": "code",
   "execution_count": 13,
   "metadata": {},
   "outputs": [
    {
     "name": "stdout",
     "output_type": "stream",
     "text": [
      "[HumanMessage(content='안녕하세요.', additional_kwargs={}, response_metadata={}, id='1'), AIMessage(content='반갑습니다.', additional_kwargs={}, response_metadata={}, id='2')]\n"
     ]
    }
   ],
   "source": [
    "from langchain_core.messages import AIMessage, HumanMessage\n",
    "from langgraph.graph import add_messages\n",
    "\n",
    "# 기본 사용 예시\n",
    "message1 = [HumanMessage(content=\"안녕하세요.\", id=\"1\")]\n",
    "message2 = [AIMessage(content=\"반갑습니다.\", id=\"2\")]\n",
    "\n",
    "merged_messages = add_messages(message1, message2)\n",
    "print(merged_messages)"
   ]
  },
  {
   "cell_type": "markdown",
   "metadata": {},
   "source": [
    "동일한 ID를 가진 Message가 있을 경우 대체됩니다."
   ]
  },
  {
   "cell_type": "code",
   "execution_count": 12,
   "metadata": {},
   "outputs": [
    {
     "name": "stdout",
     "output_type": "stream",
     "text": [
      "[AIMessage(content='반갑습니다.!', additional_kwargs={}, response_metadata={}, id='1')]\n"
     ]
    }
   ],
   "source": [
    "from langchain_core.messages import AIMessage, HumanMessage\n",
    "from langgraph.graph import add_messages\n",
    "\n",
    "# 기본 사용 예시\n",
    "message1 = [HumanMessage(content=\"안녕하세요!\", id=\"1\")]\n",
    "message2 = [AIMessage(content=\"반갑습니다.!\", id=\"1\")]\n",
    "\n",
    "merged_messages = add_messages(message1, message2)\n",
    "print(merged_messages)"
   ]
  },
  {
   "cell_type": "markdown",
   "metadata": {},
   "source": []
  }
 ],
 "metadata": {
  "kernelspec": {
   "display_name": "langchain-note-2024-PFhCXHTX-py3.12",
   "language": "python",
   "name": "python3"
  },
  "language_info": {
   "codemirror_mode": {
    "name": "ipython",
    "version": 3
   },
   "file_extension": ".py",
   "mimetype": "text/x-python",
   "name": "python",
   "nbconvert_exporter": "python",
   "pygments_lexer": "ipython3",
   "version": "3.12.7"
  }
 },
 "nbformat": 4,
 "nbformat_minor": 2
}
