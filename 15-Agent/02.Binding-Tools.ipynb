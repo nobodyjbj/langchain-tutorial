{
 "cells": [
  {
   "cell_type": "code",
   "execution_count": 2,
   "metadata": {},
   "outputs": [
    {
     "data": {
      "text/plain": [
       "True"
      ]
     },
     "execution_count": 2,
     "metadata": {},
     "output_type": "execute_result"
    }
   ],
   "source": [
    "from dotenv import load_dotenv\n",
    "import sys\n",
    "\n",
    "sys.path.append(\"../common\")\n",
    "load_dotenv()"
   ]
  },
  {
   "cell_type": "code",
   "execution_count": 3,
   "metadata": {},
   "outputs": [
    {
     "name": "stdout",
     "output_type": "stream",
     "text": [
      "Langsmith 추적이 활성화되었습니다. [프로젝트명: 15.Bind-Tools]\n"
     ]
    }
   ],
   "source": [
    "import os\n",
    "from langsmith_tracker import set_tracking\n",
    "from langchain_print import stream_response\n",
    "from multimodal import MultiModal\n",
    "from tools_news import GoogleNews\n",
    "\n",
    "# 인스턴스를 생성할 때 필요한 매개변수를 전달합니다.\n",
    "set_tracking(project_name=\"15.Bind-Tools\")"
   ]
  },
  {
   "cell_type": "markdown",
   "metadata": {},
   "source": [
    "### LLM 에 도구 바인딩(Binding Tools)\n",
    "\n",
    "LLM 에 받구를 바인딩하는 기법입니다.  \n",
    "LLM 에 도구를 바인드하여 스스로 판단하여 상황들에 따라 도구들을 적절히 사용할 수 있게 합니다.  \n",
    "**Function Calling**, **Tool Calling** 과 같이 표현하며 목적으로는 LLM 에 도구를 바인드하는 행위입니다.  \n",
    "  \n",
    "도구 호출을 지원하는 LangChain Chat Model 은 `.bind_tools()` 메서드를 구현하여 Langchain 도구 객체, Pydantic 클래스 또는 JSON 스키마 목록을 수신하고 공급자별 예상 형식으로 채팅 모델에 바인딩 합니다."
   ]
  },
  {
   "cell_type": "markdown",
   "metadata": {},
   "source": [
    "### LLM에 바인딩할 Tool 정의\n",
    "\n",
    "LLM 에 tools 를 한번에 여래개를 선언후 바인딩 할 수 있습니다. tools 를 선언하는 예시입니다."
   ]
  },
  {
   "cell_type": "code",
   "execution_count": 26,
   "metadata": {},
   "outputs": [],
   "source": [
    "import re\n",
    "import requests\n",
    "from bs4 import BeautifulSoup\n",
    "from langchain.agents import tool\n",
    "\n",
    "\n",
    "# 도구 정의\n",
    "@tool\n",
    "def get_word_length(word: str) -> int:\n",
    "    \"\"\"Return the length of a word.\"\"\"\n",
    "    return len(word)\n",
    "\n",
    "\n",
    "@tool\n",
    "def add_function(a: float, b: float) -> float:\n",
    "    \"\"\"Add two numbers together\"\"\"\n",
    "    return a + b\n",
    "\n",
    "\n",
    "@tool\n",
    "def naver_news_crawl(news_url: str) -> str:\n",
    "    \"\"\"Crawls a NAVER(www.naver.com) news atricle and returns the body content\"\"\"\n",
    "    # HTTP GET 요청\n",
    "    response = requests.get(news_url)\n",
    "\n",
    "    # 요청 확인\n",
    "    if response.status_code == 200:\n",
    "        # BeautifulSoup을 사용하여 HTML 파싱\n",
    "        soup = BeautifulSoup(response.text, \"html.parser\")\n",
    "\n",
    "        # 원하는 정보 추출\n",
    "        title = soup.find(\"h2\", id=\"title_area\").get_text()\n",
    "        content = soup.find(\"div\", id=\"contents\").get_text()\n",
    "        cleaned_title = re.sub(r\"\\n{2,}\", \"\\n\", title)\n",
    "        cleaned_content = re.sub(r\"\\n{2,}\", \"\\n\", content)\n",
    "    else:\n",
    "        print(f\"HTTP 요청 실패, 응답 코드 : {response.status_code}\")\n",
    "\n",
    "    return f\"{cleaned_title}\\n{cleaned_content}\"\n",
    "\n",
    "\n",
    "tools = [get_word_length, add_function, naver_news_crawl]"
   ]
  },
  {
   "cell_type": "markdown",
   "metadata": {},
   "source": [
    "#### `bind_toos()` 로 LLM 에 바인딩"
   ]
  },
  {
   "cell_type": "code",
   "execution_count": 7,
   "metadata": {},
   "outputs": [],
   "source": [
    "from langchain_openai import ChatOpenAI\n",
    "\n",
    "# 모델 생성\n",
    "llm = ChatOpenAI(model=\"gpt-4o-mini\", temperature=0)\n",
    "\n",
    "# 도구 바인딩\n",
    "llm_with_tools = llm.bind_tools(tools)"
   ]
  },
  {
   "cell_type": "markdown",
   "metadata": {},
   "source": [
    "도구 바인딩이 되어 있으면 바로 원하는 대답을 볼 수 없습니다. 도구를 사용했는지 안했는지는 `.tool_calls` 을 호출해볼면 알 수 있습니다.  \n",
    "type : `tool_call` 이 있으면 도구를 사용한 것입니다. 도구를 사용한 제대로된 답변을 받기 위해서는 직접 도구 호출을 해줘야 합니다.  \n",
    "실행 결과\n",
    "- name : 도구의 이름을 의미합니다.\n",
    "- args : 도구에 전달되는 인자를 의미합니다."
   ]
  },
  {
   "cell_type": "code",
   "execution_count": 8,
   "metadata": {},
   "outputs": [
    {
     "data": {
      "text/plain": [
       "[{'name': 'get_word_length',\n",
       "  'args': {'word': 'Bitcoin price rises'},\n",
       "  'id': 'call_9RpHrDdwmvWTshEBfaC51aUn',\n",
       "  'type': 'tool_call'}]"
      ]
     },
     "execution_count": 8,
     "metadata": {},
     "output_type": "execute_result"
    }
   ],
   "source": [
    "llm_with_tools.invoke(\"What is the length of the word 'Bitcoin price rises'\").tool_calls"
   ]
  },
  {
   "cell_type": "markdown",
   "metadata": {},
   "source": [
    "#### `JsonOutputToosParser` 를 연결하여 `tool_calls` 를 parsing 한 결과\n",
    "\n",
    "`JsonOutputToosParser` 로 `tool_calls` 의 결과를 파싱하면 인자와 실행해야 할 함수 정보를 알 수 있습니다."
   ]
  },
  {
   "cell_type": "code",
   "execution_count": 9,
   "metadata": {},
   "outputs": [],
   "source": [
    "from langchain_core.output_parsers.openai_tools import JsonOutputToolsParser\n",
    "\n",
    "# 도구 바인딩 + 도구 파서\n",
    "chain = llm_with_tools | JsonOutputToolsParser(tools=tools)\n",
    "\n",
    "# 실행 결과\n",
    "tool_call_results = chain.invoke(\"What is the length of the word 'Bitcoin price rises'\")"
   ]
  },
  {
   "cell_type": "code",
   "execution_count": 10,
   "metadata": {},
   "outputs": [
    {
     "name": "stdout",
     "output_type": "stream",
     "text": [
      "[{'args': {'word': 'Bitcoin price rises'}, 'type': 'get_word_length'}]\n"
     ]
    }
   ],
   "source": [
    "print(tool_call_results)"
   ]
  },
  {
   "cell_type": "code",
   "execution_count": 11,
   "metadata": {},
   "outputs": [
    {
     "name": "stdout",
     "output_type": "stream",
     "text": [
      "[{'args': {'word': 'Bitcoin price rises'}, 'type': 'get_word_length'}]\n",
      "\n",
      "==========\n",
      "\n",
      "get_word_length\n",
      "{'word': 'Bitcoin price rises'}\n"
     ]
    }
   ],
   "source": [
    "print(tool_call_results, end=\"\\n\\n==========\\n\\n\")\n",
    "# 첫 번째 도구 호출 결과\n",
    "single_result = tool_call_results[0]\n",
    "# 도구 이름\n",
    "print(single_result[\"type\"])\n",
    "# 도구 인자\n",
    "print(single_result[\"args\"])"
   ]
  },
  {
   "cell_type": "code",
   "execution_count": 12,
   "metadata": {},
   "outputs": [
    {
     "data": {
      "text/plain": [
       "('get_word_length', 'get_word_length')"
      ]
     },
     "execution_count": 12,
     "metadata": {},
     "output_type": "execute_result"
    }
   ],
   "source": [
    "tool_call_results[0][\"type\"], tools[0].name"
   ]
  },
  {
   "cell_type": "markdown",
   "metadata": {},
   "source": [
    "그래서 도구를 직접 호출하고 실행할 수 있는 함수를 정의하고 실행합니다."
   ]
  },
  {
   "cell_type": "code",
   "execution_count": 14,
   "metadata": {},
   "outputs": [
    {
     "name": "stdout",
     "output_type": "stream",
     "text": [
      "[실행도구] get_word_length\n",
      "[Argument] {'word': 'Bitcoin price rises'}\n",
      "[실행결과] 19\n"
     ]
    }
   ],
   "source": [
    "def execute_tool_calls(tool_call_results):\n",
    "    \"\"\"\n",
    "    도구 호출 결과를 실행하는 함수\n",
    "\n",
    "    :param tool_call_results: 도구 호출 결과 리스트\n",
    "    :param tools: 사용 가능한 도구 리스트\n",
    "    \"\"\"\n",
    "    # 도구 호출 결과 리스트를 순회합니다.\n",
    "    for tool_call_result in tool_call_results:\n",
    "        # 도구의 이름과 인자를 추출합니다.\n",
    "        tool_name = tool_call_result[\"type\"]  # 도구의 이름(함수명)\n",
    "        tool_args = tool_call_result[\"args\"]  # 도구에 전달되는 인자\n",
    "\n",
    "        # 도구 이름과 일치하는 도구를 찾아 실행합니다.\n",
    "        # next() 함수를 사용하여 일치하는 첫 번째 도구를 찾습니다.\n",
    "        matching_tool = next((tool for tool in tools if tool.name == tool_name), None)\n",
    "\n",
    "        if matching_tool:\n",
    "            # 일치하는 도구를 찾았다면 해당 도구를 실행합니다.\n",
    "            result = matching_tool.invoke(tool_args)\n",
    "            # 실행 결과를 출력합니다.\n",
    "            print(\n",
    "                f\"[실행도구] {tool_name}\\n[Argument] {tool_args}\\n[실행결과] {result}\"\n",
    "            )\n",
    "        else:\n",
    "            # 일치하는 도구를 찾지 못했다면 경고 메시지를 출력합니다.\n",
    "            print(f\"경고: {tool_name}에 해당하는 도구를 찾을 수 없습니다.\")\n",
    "\n",
    "\n",
    "# 도구 호출 실행\n",
    "# 이전에 얻은 tool_call_results를 인자로 전달하여 함수를 실행합니다.\n",
    "execute_tool_calls(tool_call_results)"
   ]
  },
  {
   "cell_type": "markdown",
   "metadata": {},
   "source": [
    "#### bind_tools + Parser + Execution\n",
    "llm_with_tools : 도구를 바인딩한 모델  \n",
    "JsonOutputToolsParser : 도구 호출 결과를 파싱하는 파서  \n",
    "execute_tool_calls : 도구 호출 결과를 실행하는 함수  \n",
    "  \n",
    "\n",
    "흐름 정리\n",
    "1. 모델에 도구를 바인딩\n",
    "2. 도구 호출 결과를 파싱\n",
    "3. 도구 호출 결과를 실행"
   ]
  },
  {
   "cell_type": "code",
   "execution_count": 17,
   "metadata": {},
   "outputs": [],
   "source": [
    "from langchain_core.output_parsers.openai_tools import JsonOutputToolsParser\n",
    "\n",
    "# bind_tools + Parser + Execution\n",
    "chain = llm_with_tools | JsonOutputToolsParser(tools=tools) | execute_tool_calls"
   ]
  },
  {
   "cell_type": "code",
   "execution_count": 18,
   "metadata": {},
   "outputs": [
    {
     "name": "stdout",
     "output_type": "stream",
     "text": [
      "[실행도구] get_word_length\n",
      "[Argument] {'word': 'Bitcoin price rises'}\n",
      "[실행결과] 19\n"
     ]
    }
   ],
   "source": [
    "# 실행 결과\n",
    "chain.invoke(\"What is the length of the word 'Bitcoin price rises'\")"
   ]
  },
  {
   "cell_type": "code",
   "execution_count": 19,
   "metadata": {},
   "outputs": [
    {
     "name": "stdout",
     "output_type": "stream",
     "text": [
      "[실행도구] add_fucntion\n",
      "[Argument] {'a': 188.7, 'b': 170.2}\n",
      "[실행결과] 358.9\n"
     ]
    }
   ],
   "source": [
    "# 실행 결과\n",
    "chain.invoke(\"188.7 + 170.2\")"
   ]
  },
  {
   "cell_type": "code",
   "execution_count": 24,
   "metadata": {},
   "outputs": [
    {
     "name": "stdout",
     "output_type": "stream",
     "text": [
      "[실행도구] naver_news_crawl\n",
      "[Argument] {'news_url': 'https://n.news.naver.com/mnews/article/001/0015077231'}\n",
      "[실행결과] 투자 스팸문자 사기 막는다…대량 발송·수신 차단 이달 시작\n",
      "\n",
      "투자 유도 스팸 급증에 금감원·KISA·이통3사 예방책 마련 \n",
      "금융감독원[연합뉴스TV 제공]    (서울=연합뉴스) 임수정 기자 = 금융감독원은 한국인터넷진흥원(KISA), 이동통신 3사와 함께 투자 스팸 문자 차단 방안을 마련해 이달 시행한다고 1일 밝혔다.    불법 개연성이 높은 키워드가 포함된 투자 유인 스팸 문자를 사전에 차단하는 방안들이다.    올해 상반기 투자 유인 불법 스팸 신고는 6천67만건으로 작년 하반기(673만건) 대비 약 8배 급증하는 등 투자 사기 피해를 예방할 필요성이 커졌다.    우선 KISA의 '스팸 전화번호 블랙리스트 제도' 적용 범위를 투자 유인 스팸 문자로 확대 적용한다.    금감원과 KISA는 투자 유인 스팸 문자 약 2만여개를 분석해 블랙리스트에 활용할 불법 금융투자 키워드를 선정했다.    이동통신사들은 '필터링 서비스'에 투자 관련 필터링을 강화하기로 했다.    현재 이동통신사들은 각 회사의 고유 분석 로직 및 차단 시스템을 통해 스팸을 걸러내고 있는데, 금감원과 KISA가 분석한 키워드를 추가 반영하기로 했다.    이들 3사의 수신 필터링 서비스는 해외에서 발송하는 스팸 문자도 걸러낼 수 있다는 장점이 있다.    금감원은 \"스팸 문자 발송과 수신 차단 방안이 상호 보완적으로 스팸 문자를 차단할 수 있을 것\"이라고 기대했다.    금감원은 불법 금융투자 스팸 문자 발송·수신 차단 방안을 테스트 해 본 결과 투자 유인 유형의 스팸 문자를 20%가량 추가 차단하는 효과가 있었다고 설명했다.    sj9974@yna.co.kr\n",
      "임수정(sj9974@yna.co.kr)\n",
      "기자 프로필\n",
      "연합뉴스\n",
      "연합뉴스\n",
      "임수정 기자\n",
      "구독\n",
      "구독중\n",
      "구독자 0\n",
      "응원수\n",
      "0\n",
      "저축은행 절반은 연체율 두자릿수…2곳엔 이달 적기시정조치\n",
      "예금보호 1억원으로 상향…시장쏠림 우려 속 시행 시기 관건\n",
      "연합뉴스의 구독 많은 기자를 구독해보세요!\n",
      "닫기\n",
      "Copyright ⓒ 연합뉴스. All rights reserved. 무단 전재-재배포, AI 학습 및 활용 금지.\n",
      " \n",
      "이 기사는 언론사에서 경제 섹션으로 분류했습니다.\n",
      "기사 섹션 분류 안내\n",
      "기사의 섹션 정보는 해당 언론사의 분류를 따르고 있습니다. 언론사는 개별 기사를 2개 이상 섹션으로 중복 분류할 수 있습니다.\n",
      "닫기\n",
      "구독\n",
      "메인에서 바로 보는 언론사 편집 뉴스 지금 바로 구독해보세요!\n",
      "구독중\n",
      "메인에서 바로 보는 언론사 편집 뉴스 지금 바로 확인해보세요!\n",
      "[앱 다운] 빠르고 정확한 연합뉴스를 받아보세요\n",
      "뉴스제보는 연합뉴스 okjebo 톡!\n",
      "연합뉴스\n",
      "연합뉴스\n",
      "\t\t\t주요뉴스해당 언론사에서 선정하며 언론사 페이지(아웃링크)로 이동해 볼 수 있습니다.\n",
      " \"못 살겠어…죽게 해줘\" 뇌종양 아내 부탁에 농약 먹인 남편\n",
      " 대한성공회 \"3억여원 빼돌린 신부 면직 후 횡령 혐의로 고발\"\n",
      " \"안산 상가화재 소방활동에 큰 감동\"…80대 예비역 원사의 선물\n",
      " \"여자 속이고 바람피우는 아들\"…美국방장관 지명자 모친의 탄식\n",
      " '국민 욕받이' 이기흥·정몽규 회장, 3선·4선 도전 강행 이유는\n",
      "이 기사를 추천합니다\n",
      "기사 추천은 24시간 내 50회까지 참여할 수 있습니다.\n",
      "닫기\n",
      "쏠쏠정보\n",
      "0\n",
      "흥미진진\n",
      "0\n",
      "공감백배\n",
      "0\n",
      "분석탁월\n",
      "0\n",
      "후속강추\n",
      "0\n",
      " \n",
      "모두에게 보여주고 싶은 기사라면?beta\n",
      "이 기사를 추천합니다 버튼을 눌러주세요.  집계 기간 동안 추천을 많이 받은 기사는 네이버 자동 기사배열 영역에 추천 요소로 활용됩니다.\n",
      "레이어 닫기\n",
      " \n",
      "연합뉴스 언론사가 직접 선정한 이슈\n",
      "\t\t\t\n",
      "이슈\n",
      "다시 트럼프 시대\n",
      "트럼프, FBI 국장에 40대 '충성파' 캐시 파텔 발탁\n",
      "이슈\n",
      "이스라엘-헤즈볼라, 휴전 전격 합의\n",
      "이스라엘, 또다시 가자지구 내 국제구호단체 직원들 공습 살해\n",
      "이슈\n",
      "북한, 러시아 파병\n",
      "러, 내년 전승절에 북한군 초대…김정은 방러는 언제\n",
      "이전\n",
      "다음\n",
      "연합뉴스 언론사홈 바로가기\n",
      " \n",
      "기자 구독 후 기사보기\n",
      "구독 없이 계속 보기\n",
      "\n"
     ]
    }
   ],
   "source": [
    "# 실행 결과\n",
    "chain.invoke(\n",
    "    \"뉴스 기사를 크롤링해주세요 : https://n.news.naver.com/mnews/article/001/0015077231\"\n",
    ")"
   ]
  },
  {
   "cell_type": "markdown",
   "metadata": {},
   "source": [
    "### bind_tools > Agnet & AgentExecutor 로 대체\n",
    "\n",
    "`bind_tools()` 는 모델에 사용할 수 있는 스키마(도구)를 제공합니다.  \n",
    "`AgentExecutor` 는 실제로 llm 호출, 올바른 도구로 라우팅, 실행, 모델 재호출 등을 위한 실행 루프를 생성합니다.  "
   ]
  },
  {
   "cell_type": "code",
   "execution_count": 28,
   "metadata": {},
   "outputs": [],
   "source": [
    "from langchain_core.prompts import ChatPromptTemplate, MessagesPlaceholder\n",
    "from langchain_openai import ChatOpenAI\n",
    "\n",
    "# Agent 프롬프트 생성\n",
    "prompt = ChatPromptTemplate.from_messages(\n",
    "    [\n",
    "        (\n",
    "            \"system\",\n",
    "            \"You are very powerful assistant, but don't know current events\",\n",
    "        ),\n",
    "        (\"user\", \"{input}\"),\n",
    "        MessagesPlaceholder(variable_name=\"agent_scratchpad\"),\n",
    "    ]\n",
    ")\n",
    "\n",
    "# 모델 생성\n",
    "llm = ChatOpenAI(model=\"gpt-4o-mini\", temperature=0)"
   ]
  },
  {
   "cell_type": "code",
   "execution_count": 29,
   "metadata": {},
   "outputs": [],
   "source": [
    "from langchain.agents import create_tool_calling_agent\n",
    "from langchain.agents import AgentExecutor\n",
    "\n",
    "# 이전에 정의한 도구 사용\n",
    "tools = [get_word_length, add_function, naver_news_crawl]\n",
    "\n",
    "# Agent 생성\n",
    "agent = create_tool_calling_agent(llm, tools, prompt)\n",
    "\n",
    "# AgentExecutor 생성\n",
    "agent_executor = AgentExecutor(\n",
    "    agent=agent,\n",
    "    tools=tools,\n",
    "    verbose=True,\n",
    "    handle_parsing_errors=True,\n",
    ")"
   ]
  },
  {
   "cell_type": "code",
   "execution_count": 30,
   "metadata": {},
   "outputs": [
    {
     "name": "stdout",
     "output_type": "stream",
     "text": [
      "\n",
      "\n",
      "\u001b[1m> Entering new AgentExecutor chain...\u001b[0m\n",
      "\u001b[32;1m\u001b[1;3m\n",
      "Invoking: `get_word_length` with `{'word': 'Bitcoin price rises'}`\n",
      "\n",
      "\n",
      "\u001b[0m\u001b[36;1m\u001b[1;3m19\u001b[0m\u001b[32;1m\u001b[1;3mThe phrase \"Bitcoin price rises\" contains 19 letters.\u001b[0m\n",
      "\n",
      "\u001b[1m> Finished chain.\u001b[0m\n",
      "The phrase \"Bitcoin price rises\" contains 19 letters.\n"
     ]
    }
   ],
   "source": [
    "# Agent 실행\n",
    "result = agent_executor.invoke(\n",
    "    {\"input\": \"How many letters in the word `Bitcoin price rises`?\"}\n",
    ")\n",
    "\n",
    "# 결과 확인\n",
    "print(result[\"output\"])"
   ]
  },
  {
   "cell_type": "code",
   "execution_count": 31,
   "metadata": {},
   "outputs": [
    {
     "name": "stdout",
     "output_type": "stream",
     "text": [
      "\n",
      "\n",
      "\u001b[1m> Entering new AgentExecutor chain...\u001b[0m\n",
      "\u001b[32;1m\u001b[1;3m\n",
      "Invoking: `add_function` with `{'a': 188.7, 'b': 170.2}`\n",
      "\n",
      "\n",
      "\u001b[0m\u001b[33;1m\u001b[1;3m358.9\u001b[0m\u001b[32;1m\u001b[1;3m188.7 + 170.2의 계산 결과는 358.9입니다.\u001b[0m\n",
      "\n",
      "\u001b[1m> Finished chain.\u001b[0m\n",
      "188.7 + 170.2의 계산 결과는 358.9입니다.\n"
     ]
    }
   ],
   "source": [
    "# Agent 실행\n",
    "result = agent_executor.invoke({\"input\": \"188.7 + 170.2 의 계산 결과는?\"})\n",
    "\n",
    "# 결과 확인\n",
    "print(result[\"output\"])"
   ]
  },
  {
   "cell_type": "code",
   "execution_count": 35,
   "metadata": {},
   "outputs": [
    {
     "name": "stdout",
     "output_type": "stream",
     "text": [
      "\n",
      "\n",
      "\u001b[1m> Entering new AgentExecutor chain...\u001b[0m\n",
      "\u001b[32;1m\u001b[1;3m\n",
      "Invoking: `add_function` with `{'a': 188.7, 'b': 170.2}`\n",
      "\n",
      "\n",
      "\u001b[0m\u001b[33;1m\u001b[1;3m358.9\u001b[0m\u001b[32;1m\u001b[1;3m\n",
      "Invoking: `add_function` with `{'a': 208.7, 'b': 40.2}`\n",
      "\n",
      "\n",
      "\u001b[0m\u001b[33;1m\u001b[1;3m248.89999999999998\u001b[0m\u001b[32;1m\u001b[1;3m\n",
      "Invoking: `add_function` with `{'a': 358.9, 'b': 248.89999999999998}`\n",
      "\n",
      "\n",
      "\u001b[0m\u001b[33;1m\u001b[1;3m607.8\u001b[0m\u001b[32;1m\u001b[1;3m188.7 + 170.2 + 208.7 + 40.2의 계산 결과는 607.8입니다.\u001b[0m\n",
      "\n",
      "\u001b[1m> Finished chain.\u001b[0m\n",
      "188.7 + 170.2 + 208.7 + 40.2의 계산 결과는 607.8입니다.\n",
      "==========\n",
      "\n",
      "607.8\n"
     ]
    }
   ],
   "source": [
    "# Agent 실행\n",
    "result = agent_executor.invoke({\"input\": \"188.7 + 170.2 + 208.7 + 40.2의 계산 결과는?\"})\n",
    "\n",
    "# 결과 확인\n",
    "print(result[\"output\"])\n",
    "print(\"==========\\n\")\n",
    "print(188.7 + 170.2 + 208.7 + 40.2)"
   ]
  },
  {
   "cell_type": "code",
   "execution_count": 33,
   "metadata": {},
   "outputs": [
    {
     "name": "stdout",
     "output_type": "stream",
     "text": [
      "\n",
      "\n",
      "\u001b[1m> Entering new AgentExecutor chain...\u001b[0m\n",
      "\u001b[32;1m\u001b[1;3m\n",
      "Invoking: `naver_news_crawl` with `{'news_url': 'https://n.news.naver.com/mnews/article/001/0015077231'}`\n",
      "\n",
      "\n",
      "\u001b[0m\u001b[38;5;200m\u001b[1;3m투자 스팸문자 사기 막는다…대량 발송·수신 차단 이달 시작\n",
      "\n",
      "투자 유도 스팸 급증에 금감원·KISA·이통3사 예방책 마련 \n",
      "금융감독원[연합뉴스TV 제공]    (서울=연합뉴스) 임수정 기자 = 금융감독원은 한국인터넷진흥원(KISA), 이동통신 3사와 함께 투자 스팸 문자 차단 방안을 마련해 이달 시행한다고 1일 밝혔다.    불법 개연성이 높은 키워드가 포함된 투자 유인 스팸 문자를 사전에 차단하는 방안들이다.    올해 상반기 투자 유인 불법 스팸 신고는 6천67만건으로 작년 하반기(673만건) 대비 약 8배 급증하는 등 투자 사기 피해를 예방할 필요성이 커졌다.    우선 KISA의 '스팸 전화번호 블랙리스트 제도' 적용 범위를 투자 유인 스팸 문자로 확대 적용한다.    금감원과 KISA는 투자 유인 스팸 문자 약 2만여개를 분석해 블랙리스트에 활용할 불법 금융투자 키워드를 선정했다.    이동통신사들은 '필터링 서비스'에 투자 관련 필터링을 강화하기로 했다.    현재 이동통신사들은 각 회사의 고유 분석 로직 및 차단 시스템을 통해 스팸을 걸러내고 있는데, 금감원과 KISA가 분석한 키워드를 추가 반영하기로 했다.    이들 3사의 수신 필터링 서비스는 해외에서 발송하는 스팸 문자도 걸러낼 수 있다는 장점이 있다.    금감원은 \"스팸 문자 발송과 수신 차단 방안이 상호 보완적으로 스팸 문자를 차단할 수 있을 것\"이라고 기대했다.    금감원은 불법 금융투자 스팸 문자 발송·수신 차단 방안을 테스트 해 본 결과 투자 유인 유형의 스팸 문자를 20%가량 추가 차단하는 효과가 있었다고 설명했다.    sj9974@yna.co.kr\n",
      "임수정(sj9974@yna.co.kr)\n",
      "기자 프로필\n",
      "연합뉴스\n",
      "연합뉴스\n",
      "임수정 기자\n",
      "구독\n",
      "구독중\n",
      "구독자 0\n",
      "응원수\n",
      "0\n",
      "저축은행 절반은 연체율 두자릿수…2곳엔 이달 적기시정조치\n",
      "예금보호 1억원으로 상향…시장쏠림 우려 속 시행 시기 관건\n",
      "연합뉴스의 구독 많은 기자를 구독해보세요!\n",
      "닫기\n",
      "Copyright ⓒ 연합뉴스. All rights reserved. 무단 전재-재배포, AI 학습 및 활용 금지.\n",
      " \n",
      "이 기사는 언론사에서 경제 섹션으로 분류했습니다.\n",
      "기사 섹션 분류 안내\n",
      "기사의 섹션 정보는 해당 언론사의 분류를 따르고 있습니다. 언론사는 개별 기사를 2개 이상 섹션으로 중복 분류할 수 있습니다.\n",
      "닫기\n",
      "구독\n",
      "메인에서 바로 보는 언론사 편집 뉴스 지금 바로 구독해보세요!\n",
      "구독중\n",
      "메인에서 바로 보는 언론사 편집 뉴스 지금 바로 확인해보세요!\n",
      "[앱 다운] 빠르고 정확한 연합뉴스를 받아보세요\n",
      "뉴스제보는 연합뉴스 okjebo 톡!\n",
      "연합뉴스\n",
      "연합뉴스\n",
      "\t\t\t주요뉴스해당 언론사에서 선정하며 언론사 페이지(아웃링크)로 이동해 볼 수 있습니다.\n",
      " \"못 살겠어…죽게 해줘\" 뇌종양 아내 부탁에 농약 먹인 남편\n",
      " 대한성공회 \"3억여원 빼돌린 신부 면직 후 횡령 혐의로 고발\"\n",
      " \"안산 상가화재 소방활동에 큰 감동\"…80대 예비역 원사의 선물\n",
      " \"여자 속이고 바람피우는 아들\"…美국방장관 지명자 모친의 탄식\n",
      " '국민 욕받이' 이기흥·정몽규 회장, 3선·4선 도전 강행 이유는\n",
      "이 기사를 추천합니다\n",
      "기사 추천은 24시간 내 50회까지 참여할 수 있습니다.\n",
      "닫기\n",
      "쏠쏠정보\n",
      "0\n",
      "흥미진진\n",
      "0\n",
      "공감백배\n",
      "0\n",
      "분석탁월\n",
      "0\n",
      "후속강추\n",
      "0\n",
      " \n",
      "모두에게 보여주고 싶은 기사라면?beta\n",
      "이 기사를 추천합니다 버튼을 눌러주세요.  집계 기간 동안 추천을 많이 받은 기사는 네이버 자동 기사배열 영역에 추천 요소로 활용됩니다.\n",
      "레이어 닫기\n",
      " \n",
      "연합뉴스 언론사가 직접 선정한 이슈\n",
      "\t\t\t\n",
      "이슈\n",
      "다시 트럼프 시대\n",
      "트럼프, FBI 국장에 40대 '충성파' 캐시 파텔 발탁\n",
      "이슈\n",
      "이스라엘-헤즈볼라, 휴전 전격 합의\n",
      "이스라엘, 또다시 가자지구 내 국제구호단체 직원들 공습 살해\n",
      "이슈\n",
      "북한, 러시아 파병\n",
      "러, 내년 전승절에 북한군 초대…김정은 방러는 언제\n",
      "이전\n",
      "다음\n",
      "연합뉴스 언론사홈 바로가기\n",
      " \n",
      "기자 구독 후 기사보기\n",
      "구독 없이 계속 보기\n",
      "\u001b[0m\u001b[32;1m\u001b[1;3m기사 제목: **투자 스팸문자 사기 막는다…대량 발송·수신 차단 이달 시작**\n",
      "\n",
      "금융감독원은 한국인터넷진흥원(KISA) 및 이동통신 3사와 함께 투자 스팸 문자 차단 방안을 마련하여 이달부터 시행한다고 발표했습니다. 올해 상반기 동안 투자 유인 불법 스팸 신고가 6천67만 건으로, 작년 하반기 대비 약 8배 증가했습니다. \n",
      "\n",
      "주요 내용은 다음과 같습니다:\n",
      "- KISA의 '스팸 전화번호 블랙리스트 제도'를 투자 유인 스팸 문자로 확대 적용.\n",
      "- 금감원과 KISA는 약 2만 개의 투자 유인 스팸 문자를 분석하여 불법 금융투자 키워드를 선정.\n",
      "- 이동통신사들은 필터링 서비스에 투자 관련 필터링을 강화.\n",
      "- 이들 3사의 수신 필터링 서비스는 해외에서 발송되는 스팸 문자도 차단할 수 있는 장점이 있음.\n",
      "\n",
      "금감원은 이 방안이 스팸 문자를 효과적으로 차단할 것으로 기대하고 있으며, 테스트 결과 투자 유인 유형의 스팸 문자를 약 20% 추가 차단하는 효과가 있었다고 설명했습니다.\u001b[0m\n",
      "\n",
      "\u001b[1m> Finished chain.\u001b[0m\n",
      "기사 제목: **투자 스팸문자 사기 막는다…대량 발송·수신 차단 이달 시작**\n",
      "\n",
      "금융감독원은 한국인터넷진흥원(KISA) 및 이동통신 3사와 함께 투자 스팸 문자 차단 방안을 마련하여 이달부터 시행한다고 발표했습니다. 올해 상반기 동안 투자 유인 불법 스팸 신고가 6천67만 건으로, 작년 하반기 대비 약 8배 증가했습니다. \n",
      "\n",
      "주요 내용은 다음과 같습니다:\n",
      "- KISA의 '스팸 전화번호 블랙리스트 제도'를 투자 유인 스팸 문자로 확대 적용.\n",
      "- 금감원과 KISA는 약 2만 개의 투자 유인 스팸 문자를 분석하여 불법 금융투자 키워드를 선정.\n",
      "- 이동통신사들은 필터링 서비스에 투자 관련 필터링을 강화.\n",
      "- 이들 3사의 수신 필터링 서비스는 해외에서 발송되는 스팸 문자도 차단할 수 있는 장점이 있음.\n",
      "\n",
      "금감원은 이 방안이 스팸 문자를 효과적으로 차단할 것으로 기대하고 있으며, 테스트 결과 투자 유인 유형의 스팸 문자를 약 20% 추가 차단하는 효과가 있었다고 설명했습니다.\n"
     ]
    }
   ],
   "source": [
    "result = agent_executor.invoke(\n",
    "    {\n",
    "        \"input\": \"뉴스 기사를 크롤링해주세요 : https://n.news.naver.com/mnews/article/001/0015077231\"\n",
    "    }\n",
    ")\n",
    "print(result[\"output\"])"
   ]
  }
 ],
 "metadata": {
  "kernelspec": {
   "display_name": "langchain-note-2024-PFhCXHTX-py3.12",
   "language": "python",
   "name": "python3"
  },
  "language_info": {
   "codemirror_mode": {
    "name": "ipython",
    "version": 3
   },
   "file_extension": ".py",
   "mimetype": "text/x-python",
   "name": "python",
   "nbconvert_exporter": "python",
   "pygments_lexer": "ipython3",
   "version": "3.12.7"
  }
 },
 "nbformat": 4,
 "nbformat_minor": 2
}
