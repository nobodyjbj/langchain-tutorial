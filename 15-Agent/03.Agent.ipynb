{
 "cells": [
  {
   "cell_type": "code",
   "execution_count": 31,
   "metadata": {},
   "outputs": [
    {
     "data": {
      "text/plain": [
       "True"
      ]
     },
     "execution_count": 31,
     "metadata": {},
     "output_type": "execute_result"
    }
   ],
   "source": [
    "from dotenv import load_dotenv\n",
    "import sys\n",
    "\n",
    "sys.path.append(\"../common\")\n",
    "load_dotenv()"
   ]
  },
  {
   "cell_type": "code",
   "execution_count": 32,
   "metadata": {},
   "outputs": [
    {
     "name": "stdout",
     "output_type": "stream",
     "text": [
      "Langsmith 추적이 활성화되었습니다. [프로젝트명: 15.Agent, AgentExcutor]\n"
     ]
    }
   ],
   "source": [
    "import os\n",
    "from langsmith_tracker import set_tracking\n",
    "from langchain_print import stream_response\n",
    "from multimodal import MultiModal\n",
    "from tools_news import GoogleNews\n",
    "\n",
    "# 인스턴스를 생성할 때 필요한 매개변수를 전달합니다.\n",
    "set_tracking(project_name=\"15.Agent, AgentExcutor\")"
   ]
  },
  {
   "cell_type": "markdown",
   "metadata": {},
   "source": [
    "### 도구 호출 에이전트(Tool Calling Agent)\n",
    "\n",
    "`Tool Calling Agent`는 도구를 바인딩 하고 알아서 판단하여 도구를 사용할 수 있게 합니다.  \n",
    "`Agent`는 사이클의 개념도 포함합니다. 아래는 도식화한 그림입니다.  \n",
    "즉, **Tool Calling Agent는 LLM 에 도구를 바인딩하고 Agent 사이클이 추가된 개념**이라고 할 수 있습니다.  \n",
    "Tool Calling Agent를 Langchain 에서는 여러 모델을 통합시켜두었습니다. OpenAI, Anthropic, Google Gemini, Mistral, Ollama 과 같은 공급자 구현을 지원합니다.  "
   ]
  },
  {
   "cell_type": "markdown",
   "metadata": {},
   "source": [
    "![toos_binding_agent.png](./images/toos_binding_agent.png)"
   ]
  },
  {
   "cell_type": "code",
   "execution_count": 7,
   "metadata": {},
   "outputs": [
    {
     "name": "stdout",
     "output_type": "stream",
     "text": [
      "도구 이름: search_news\n",
      "도구 설명: Search Google News by input keyword\n",
      "도구 이름: python_repl_tool\n",
      "도구 설명: Use this to excute python code. If you want to see the output of a value, you should print it out with `print(...)`. This is visible to the user.\n"
     ]
    }
   ],
   "source": [
    "from langchain.tools import tool\n",
    "from typing import List, Dict, Annotated\n",
    "from tools_news import GoogleNews\n",
    "from langchain_experimental.utilities import PythonREPL\n",
    "\n",
    "\n",
    "# 구글 뉴스 검색 도구 생성\n",
    "@tool\n",
    "def search_news(query: str) -> List[Dict[str, str]]:\n",
    "    \"\"\"Search Google News by input keyword\"\"\"\n",
    "    news_tool = GoogleNews()\n",
    "    return news_tool.search_by_keyword(query, k=5)\n",
    "\n",
    "\n",
    "# 코드 생성 도구 생성\n",
    "@tool\n",
    "def python_repl_tool(\n",
    "    code: Annotated[str, \"The python code to excute to generate your chart.\"]\n",
    "):\n",
    "    \"\"\"Use this to excute python code. If you want to see the output of a value, you should print it out with `print(...)`. This is visible to the user.\"\"\"\n",
    "    result = \"\"\n",
    "    try:\n",
    "        result = PythonREPL().run(code)\n",
    "    except BaseException as e:\n",
    "        print(f\"Failed to excute. Error: {repr(e)}\")\n",
    "    finally:\n",
    "        return result\n",
    "\n",
    "\n",
    "print(f\"도구 이름: {search_news.name}\")\n",
    "print(f\"도구 설명: {search_news.description}\")\n",
    "print(f\"도구 이름: {python_repl_tool.name}\")\n",
    "print(f\"도구 설명: {python_repl_tool.description}\")"
   ]
  },
  {
   "cell_type": "code",
   "execution_count": 9,
   "metadata": {},
   "outputs": [],
   "source": [
    "# tools 정의\n",
    "tools = [search_news, python_repl_tool]"
   ]
  },
  {
   "cell_type": "markdown",
   "metadata": {},
   "source": [
    "### Agent Prompt 생성\n",
    "- `chat_history`: 이전 대화 내용을 저장하는 변수(멀티턴을 지원하지 않는다면, 생략 가능합니다.)\n",
    "- `agent_scratchpad`: 에이전트가 임시로 저장하는 변수\n",
    "- `input`: 사용자 입력"
   ]
  },
  {
   "cell_type": "code",
   "execution_count": 14,
   "metadata": {},
   "outputs": [],
   "source": [
    "from langchain_core.prompts import ChatPromptTemplate\n",
    "\n",
    "# 프롬프트 생성\n",
    "# 프롬프트는 에이전트에게 모델이 수행할 작업을 설명하는 텍스트를 제공, 도구의 이름과 역할 전달\n",
    "prompt = ChatPromptTemplate.from_messages(\n",
    "    [\n",
    "        (\n",
    "            \"system\",\n",
    "            \"You are helpful assistant. Make sure to use the `search_news` tool for searching keyword related news.\",\n",
    "        ),\n",
    "        (\"placeholder\", \"{chat_history}\"),\n",
    "        (\"human\", \"{input}\"),\n",
    "        (\"placeholder\", \"{agent_scratchpad}\"),\n",
    "    ]\n",
    ")"
   ]
  },
  {
   "cell_type": "markdown",
   "metadata": {},
   "source": [
    "### Agent 생성"
   ]
  },
  {
   "cell_type": "code",
   "execution_count": 16,
   "metadata": {},
   "outputs": [],
   "source": [
    "from langchain_openai import ChatOpenAI\n",
    "from langchain.agents import create_tool_calling_agent\n",
    "\n",
    "# 모델 정의\n",
    "llm = ChatOpenAI(model=\"gpt-4o-mini\", temperature=0)\n",
    "\n",
    "# Agent 설정\n",
    "agent = create_tool_calling_agent(llm, tools, prompt)"
   ]
  },
  {
   "cell_type": "markdown",
   "metadata": {},
   "source": [
    "### AgentExcutor\n",
    "\n",
    "AgentExcutor 는 도구를 사용하는 에이전트를 실행하는 클래스입니다. 실행함에 있어서 Agent Cycle을 제어하기 위한 클래스 입니다.  \n",
    "  \n",
    "\n",
    "**주요 속성**\n",
    "- `agent`: 실행 루프의 각 단계에서 계획을 생성하고 행동을 결정하는 에이전트\n",
    "- `tools`: 에이전트가 사용할 수 있는 유효한 도구 목록\n",
    "- `return_intermediate_steps`: 최종 출력과 함께 에이전트의 중간 단계 경로를 반환할지 여부\n",
    "- `max_iterations`: 실행 루프를 종료하기 전 최대 단계 수\n",
    "- `max_execution_time`: 실행 루프에 소요될 수 있는 최대 시간\n",
    "- `early_stopping_method`: 에이전트가 `AgentFinish를` 반환하지 않을 때 사용할 조기 종료 방법. (\"force\" or \"generate\")\n",
    "  - `\"force\"` 는 시간 또는 반복 제한에 도달하여 중지되었다는 문자열을 반환합니다.\n",
    "  - `\"generate\"` 는 에이전트의 LLM 체인을 마지막으로 한 번 호출하여 이전 단계에 따라 최종 답변을 생성합니다.\n",
    "- `handle_parsing_errors`: 에이전트의 출력 파서에서 발생한 오류 처리 방법. (True, False, 또는 오류 처리 함수)\n",
    "- `trim_intermediate_steps`: 중간 단계를 트리밍하는 방법. (-1 trim 하지 않음, 또는 트리밍 함수)\n",
    "\n",
    "**주요 메서드**\n",
    "- `invoke`: 에이전트 실행\n",
    "- `stream`: 최종 출력에 도달하는 데 필요한 단계를 스트리밍\n",
    "\n",
    "**주요 기능**\n",
    "- 도구 검증: 에이전트와 호환되는 도구인지 확인\n",
    "- 실행 제어: 최대 반복 횟수 및 실행 시간 제한 설정 가능\n",
    "- 오류 처리: 출력 파싱 오류에 대한 다양한 처리 옵션 제공\n",
    "- 중간 단계 관리: 중간 단계 트리밍 및 반환 옵션\n",
    "- 비동기 지원: 비동기 실행 및 스트리밍 지원\n",
    "\n",
    "**최적화 팁**\n",
    "- max_iterations와 max_execution_time을 적절히 설정하여 실행 시간 관리\n",
    "- trim_intermediate_steps를 활용하여 메모리 사용량 최적화\n",
    "- 복잡한 작업의 경우 stream 메서드를 사용하여 단계별 결과 모니터링"
   ]
  },
  {
   "cell_type": "code",
   "execution_count": 24,
   "metadata": {},
   "outputs": [
    {
     "name": "stdout",
     "output_type": "stream",
     "text": [
      "\n",
      "\n",
      "\u001b[1m> Entering new AgentExecutor chain...\u001b[0m\n",
      "\u001b[32;1m\u001b[1;3m\n",
      "Invoking: `search_news` with `{'query': '비트코인 투자'}`\n",
      "\n",
      "\n",
      "\u001b[0m\u001b[36;1m\u001b[1;3m[{'url': 'https://news.google.com/rss/articles/CBMic0FVX3lxTE5EYWRObmltSllQbTVCZnBCTDl4dS1hQUlGaEMtQWJ2Q2VfSy13S3FTTVpMQ2t6Tm1WeGVoNjRwM0owcUk2dzlhMWt3WGgxRlhpWUxGNHE3ODdzLVRQclRtYzBDang2WkQ4OXVWeHVXazY5SVU?oc=5', 'content': '우리도 마이크로스트래티지처럼…현금부자 美 기업, 암호화폐 투자 러시 - 디지털투데이'}, {'url': 'https://news.google.com/rss/articles/CBMifkFVX3lxTE5JanUtanRwV0NJQXUzUWR4Qm10SVlQbzh5RGZEZmlzM3NhWExXWDBhUHpDWjY3NUJWMFVFQmtPWWRXMnkwdW9ndmotcUtzSUtrUzktR1JLSDItNFZTRFc1ZnkyeW10TDdJRGUwOXNXbUYxV0t6SW1lUk1oZHFuZw?oc=5', 'content': '코인으로 벼락부자?…투자 고민된다면[왓츠 유어 ETF] - 이데일리'}, {'url': 'https://news.google.com/rss/articles/CBMib0FVX3lxTFBqaVhiN05tUU1EdFB6ci1mNXoyY1NOVk9NX3VURlFkSzhVblNIS2w3TTJ6enZmUi1NNV9ZVXhTZnVKUTljVW9tZnNBd3F1Unk0b3dIQV9hWm1TOWZpS1BNVGJsTF9SMS1ySVpxT2ZTbw?oc=5', 'content': '[재테크+] 10년 전 1억 투자했더라면…코인·금·삼전 비교해보니 - 서울신문'}, {'url': 'https://news.google.com/rss/articles/CBMiVEFVX3lxTE11VjVIY21jNW5wS3MtTjVrM0xOTWgxVGhmN3AzQnhGdXRTeTl3SzJ0Z0VKbEJzYVhLWTN6d293TWJpRWY0UHhCY3NVSlJvSk0wbDVkWg?oc=5', 'content': '트럼프발 가상화폐 랠리 벌써 끝?...‘닥터 둠’ 투자자들에게 경고 또 날렸다 - 매일경제'}, {'url': 'https://news.google.com/rss/articles/CBMihgFBVV95cUxQdVNWUzFqZzJVV3ZaN1M3eXR2dHc0THk3dEEwLVliSFgtcnhhSDlSWDRaSnlRUmE2SnVNNWMyMi1VNURMeElFMVpHakM3ZGxVVldkcUdQMnJPT3dfOTBmeFlSM1VLV0pmX3NKUG5kRkR5NHZTTURQM0FpdjRpREJGTWo3NGx4QdIBmgFBVV95cUxQZFVEampRMmNYTFZlQ1pySE5RWnlneHBpRUNnd3JzZTBLeERVUG9abG9Vem5pQjRXUzh0eFpMbUl3YWF4eG03emI1dVpJYjVMOXFLdHFiNWNHMkpiSzBHaTFmSUpOU3FuTEdBNVlja1dzU016RWRJaUVHVHpWNkN2aVMwM3gxTnVwamp6ZFNlTGVIaW05LVlWVWtR?oc=5', 'content': '비트코인 과세 2년 더 늦추기로 - 조선일보'}]\u001b[0m\u001b[32;1m\u001b[1;3m다음은 비트코인 투자와 관련된 최근 뉴스 기사들입니다:\n",
      "\n",
      "1. [우리도 마이크로스트래티지처럼…현금부자 美 기업, 암호화폐 투자 러시 - 디지털투데이](https://news.google.com/rss/articles/CBMic0FVX3lxTE5EYWRObmltSllQbTVCZnBCTDl4dS1hQUlGaEMtQWJ2Q2VfSy13S3FTTVpMQ2t6Tm1WeGVoNjRwM0owcUk2dzlhMWt3WGgxRlhpWUxGNHE3ODdzLVRQclRtYzBDang2WkQ4OXVWeHVXazY5SVU?oc=5)\n",
      "\n",
      "2. [코인으로 벼락부자?…투자 고민된다면[왓츠 유어 ETF] - 이데일리](https://news.google.com/rss/articles/CBMifkFVX3lxTE5JanUtanRwV0NJQXUzUWR4Qm10SVlQbzh5RGZEZmlzM3NhWExXWDBhUHpDWjY3NUJWMFVFQmtPWWRXMnkwdW9ndmotcUtzSUtrUzktR1JLSDItNFZTRFc1ZnkyeW10TDdJRGUwOXNXbUYxV0t6SW1lUk1oZHFuZw?oc=5)\n",
      "\n",
      "3. [10년 전 1억 투자했더라면…코인·금·삼전 비교해보니 - 서울신문](https://news.google.com/rss/articles/CBMib0FVX3lxTFBqaVhiN05tUU1EdFB6ci1mNXoyY1NOVk9NX3VURlFkSzhVblNIS2w3TTJ6enZmUi1NNV9ZVXhTZnVKUTljVW9tZnNBd3F1Unk0b3dIQV9hWm1TOWZpS1BNVGJsTF9SMS1ySVpxT2ZTbw?oc=5)\n",
      "\n",
      "4. [트럼프발 가상화폐 랠리 벌써 끝?...‘닥터 둠’ 투자자들에게 경고 또 날렸다 - 매일경제](https://news.google.com/rss/articles/CBMiVEFVX3lxTE11VjVIY21jNW5wS3MtTjVrM0xOTWgxVGhmN3AzQnhGdXRTeTl3SzJ0Z0VKbEJzYVhLWTN6d293TWJpRWY0UHhCY3NVSlJvSk0wbDVkWg?oc=5)\n",
      "\n",
      "5. [비트코인 과세 2년 더 늦추기로 - 조선일보](https://news.google.com/rss/articles/CBMihgFBVV95cUxQdVNWUzFqZzJVV3ZaN1M3eXR2dHc0THk3dEEwLVliSFgtcnhhSDlSWDRaSnlRUmE2SnVNNWMyMi1VNURMeElFMVpHakM3ZGxVVldkcUdQMnJPT3dfOTBmeFlSM1VLV0pmX3NKUG5kRkR5NHZTTURQM0FpdjRpREJGTWo3NGx4QdIBmgFBVV95cUxQZFVEampRMmNYTFZlQ1pySE5RWnlneHBpRUNnd3JzZTBLeERVUG9abG9Vem5pQjRXUzh0eFpMbUl3YWF4eG03emI1dVpJYjVMOXFLdHFiNWNHMkpiSzBHaTFmSUpOU3FuTEdBNVlja1dzU016RWRJaUVHVHpWNkN2aVMwM3gxTnVwamp6ZFNlTGVIaW05LVlWVWtR?oc=5)\n",
      "\n",
      "이 기사를 통해 비트코인 투자에 대한 다양한 관점과 최신 동향을 확인할 수 있습니다.\u001b[0m\n",
      "\n",
      "\u001b[1m> Finished chain.\u001b[0m\n",
      "Agent 실행 결과:\n",
      "다음은 비트코인 투자와 관련된 최근 뉴스 기사들입니다:\n",
      "\n",
      "1. [우리도 마이크로스트래티지처럼…현금부자 美 기업, 암호화폐 투자 러시 - 디지털투데이](https://news.google.com/rss/articles/CBMic0FVX3lxTE5EYWRObmltSllQbTVCZnBCTDl4dS1hQUlGaEMtQWJ2Q2VfSy13S3FTTVpMQ2t6Tm1WeGVoNjRwM0owcUk2dzlhMWt3WGgxRlhpWUxGNHE3ODdzLVRQclRtYzBDang2WkQ4OXVWeHVXazY5SVU?oc=5)\n",
      "\n",
      "2. [코인으로 벼락부자?…투자 고민된다면[왓츠 유어 ETF] - 이데일리](https://news.google.com/rss/articles/CBMifkFVX3lxTE5JanUtanRwV0NJQXUzUWR4Qm10SVlQbzh5RGZEZmlzM3NhWExXWDBhUHpDWjY3NUJWMFVFQmtPWWRXMnkwdW9ndmotcUtzSUtrUzktR1JLSDItNFZTRFc1ZnkyeW10TDdJRGUwOXNXbUYxV0t6SW1lUk1oZHFuZw?oc=5)\n",
      "\n",
      "3. [10년 전 1억 투자했더라면…코인·금·삼전 비교해보니 - 서울신문](https://news.google.com/rss/articles/CBMib0FVX3lxTFBqaVhiN05tUU1EdFB6ci1mNXoyY1NOVk9NX3VURlFkSzhVblNIS2w3TTJ6enZmUi1NNV9ZVXhTZnVKUTljVW9tZnNBd3F1Unk0b3dIQV9hWm1TOWZpS1BNVGJsTF9SMS1ySVpxT2ZTbw?oc=5)\n",
      "\n",
      "4. [트럼프발 가상화폐 랠리 벌써 끝?...‘닥터 둠’ 투자자들에게 경고 또 날렸다 - 매일경제](https://news.google.com/rss/articles/CBMiVEFVX3lxTE11VjVIY21jNW5wS3MtTjVrM0xOTWgxVGhmN3AzQnhGdXRTeTl3SzJ0Z0VKbEJzYVhLWTN6d293TWJpRWY0UHhCY3NVSlJvSk0wbDVkWg?oc=5)\n",
      "\n",
      "5. [비트코인 과세 2년 더 늦추기로 - 조선일보](https://news.google.com/rss/articles/CBMihgFBVV95cUxQdVNWUzFqZzJVV3ZaN1M3eXR2dHc0THk3dEEwLVliSFgtcnhhSDlSWDRaSnlRUmE2SnVNNWMyMi1VNURMeElFMVpHakM3ZGxVVldkcUdQMnJPT3dfOTBmeFlSM1VLV0pmX3NKUG5kRkR5NHZTTURQM0FpdjRpREJGTWo3NGx4QdIBmgFBVV95cUxQZFVEampRMmNYTFZlQ1pySE5RWnlneHBpRUNnd3JzZTBLeERVUG9abG9Vem5pQjRXUzh0eFpMbUl3YWF4eG03emI1dVpJYjVMOXFLdHFiNWNHMkpiSzBHaTFmSUpOU3FuTEdBNVlja1dzU016RWRJaUVHVHpWNkN2aVMwM3gxTnVwamp6ZFNlTGVIaW05LVlWVWtR?oc=5)\n",
      "\n",
      "이 기사를 통해 비트코인 투자에 대한 다양한 관점과 최신 동향을 확인할 수 있습니다.\n"
     ]
    }
   ],
   "source": [
    "from langchain.agents import AgentExecutor\n",
    "\n",
    "#  AgentExecutor 생성\n",
    "agent_executor = AgentExecutor(\n",
    "    agent=agent,\n",
    "    tools=tools,\n",
    "    verbose=True,\n",
    "    max_iterations=10,\n",
    "    max_execution_time=10,\n",
    "    handle_parsing_errors=True,  # 웬만하면 True\n",
    ")\n",
    "\n",
    "# AgentExecutor 실행\n",
    "result = agent_executor.invoke(\n",
    "    {\n",
    "        \"input\": \"비트코인 투자와 관련된 뉴스를 검색해 주세요.\"\n",
    "    }  # 구어체로 input을 주어도 아래 query 를 확인하면 정확한 키워드를 찾아서 검색을 시도\n",
    ")\n",
    "\n",
    "print(\"Agent 실행 결과:\")\n",
    "print(result[\"output\"])"
   ]
  },
  {
   "cell_type": "markdown",
   "metadata": {},
   "source": [
    "### Stream 출력으로 단계별 결과 확인\n",
    "AgentExecutor의 `stream()` 메소드를 사용하여 에이전트의 중간 단계를 스트리밍할 것입니다.  \n",
    "  \n",
    "`stream()`의 출력은 (Action, Observation) 쌍 사이에서 번갈아 나타나며, 최종적으로 에이전트가 목표를 달성했다면 답변으로 마무리됩니다.  \n",
    "  \n",
    "다음과 같은 형태로 보일 것입니다.  \n",
    "1. Action 출력\n",
    "2. Observation 출력\n",
    "3. Action 출력\n",
    "4. Observation 출력\n",
    "\n",
    "... (목표 달성까지 계속) ...  \n",
    "  \n",
    "그 다음, 최종 목표가 달성되면 에이전트는 최종 답변을 출력할 것입니다.  \n",
    "  \n",
    "이러한 출력의 내용은 다음과 같이 요약됩니다.  \n",
    "\n",
    "<table>\n",
    "  <tr>\n",
    "    <th>출력</th>\n",
    "    <th>내용</th>\n",
    "  </tr>\n",
    "  <tr>\n",
    "    <td>Action</td>\n",
    "    <td>\n",
    "      <b>actions</b>: AgentAction 또는 그 하위 클래스, 도구를 선택하는 과정<br />\n",
    "      <b>messages</b>: 액션 호출에 해당하는 채팅 메시지\n",
    "    </td>\n",
    "  </tr>\n",
    "  <tr>\n",
    "    <td>Observation</td>\n",
    "    <td>\n",
    "      <b>steps</b>: 현재 액션과 그 관찰을 포함한 에이전트가 지금까지 수행한 작업의 기록<br/>\n",
    "      <b>messages</b>: 함수 호출 결과(즉, 관찰)를 포함한 채팅 메시지\n",
    "    </td>\n",
    "  </tr>\n",
    "  <tr>\n",
    "    <td>Final Answer</td>\n",
    "    <td>\n",
    "      <b>output</b>: AgentFinish<br/>\n",
    "      <b>messages</b>: 최종 출력을 포함한 채팅 메시지\n",
    "    </td>\n",
    "  </tr>\n",
    "</table>"
   ]
  },
  {
   "cell_type": "code",
   "execution_count": 33,
   "metadata": {},
   "outputs": [],
   "source": [
    "from langchain.agents import AgentExecutor\n",
    "\n",
    "# AgentExecutor 생성\n",
    "agent_executor = AgentExecutor(\n",
    "    agent=agent,\n",
    "    tools=tools,\n",
    "    verbose=False,\n",
    "    handle_parsing_errors=True,\n",
    ")"
   ]
  },
  {
   "cell_type": "code",
   "execution_count": 25,
   "metadata": {},
   "outputs": [
    {
     "name": "stdout",
     "output_type": "stream",
     "text": [
      "\n",
      "\n",
      "\u001b[1m> Entering new None chain...\u001b[0m\n",
      "{'actions': [ToolAgentAction(tool='search_news', tool_input={'query': '비트코인 투자'}, log=\"\\nInvoking: `search_news` with `{'query': '비트코인 투자'}`\\n\\n\\n\", message_log=[AIMessageChunk(content='', additional_kwargs={'tool_calls': [{'index': 0, 'id': 'call_JpbSGsEDBHiQmAXd0WQI23uX', 'function': {'arguments': '{\"query\":\"비트코인 투자\"}', 'name': 'search_news'}, 'type': 'function'}]}, response_metadata={'finish_reason': 'tool_calls', 'model_name': 'gpt-4o-mini-2024-07-18', 'system_fingerprint': 'fp_3de1288069'}, id='run-7d126e40-1552-4fb7-973d-c8a13f510137', tool_calls=[{'name': 'search_news', 'args': {'query': '비트코인 투자'}, 'id': 'call_JpbSGsEDBHiQmAXd0WQI23uX', 'type': 'tool_call'}], tool_call_chunks=[{'name': 'search_news', 'args': '{\"query\":\"비트코인 투자\"}', 'id': 'call_JpbSGsEDBHiQmAXd0WQI23uX', 'index': 0, 'type': 'tool_call_chunk'}])], tool_call_id='call_JpbSGsEDBHiQmAXd0WQI23uX')], 'messages': [AIMessageChunk(content='', additional_kwargs={'tool_calls': [{'index': 0, 'id': 'call_JpbSGsEDBHiQmAXd0WQI23uX', 'function': {'arguments': '{\"query\":\"비트코인 투자\"}', 'name': 'search_news'}, 'type': 'function'}]}, response_metadata={'finish_reason': 'tool_calls', 'model_name': 'gpt-4o-mini-2024-07-18', 'system_fingerprint': 'fp_3de1288069'}, id='run-7d126e40-1552-4fb7-973d-c8a13f510137', tool_calls=[{'name': 'search_news', 'args': {'query': '비트코인 투자'}, 'id': 'call_JpbSGsEDBHiQmAXd0WQI23uX', 'type': 'tool_call'}], tool_call_chunks=[{'name': 'search_news', 'args': '{\"query\":\"비트코인 투자\"}', 'id': 'call_JpbSGsEDBHiQmAXd0WQI23uX', 'index': 0, 'type': 'tool_call_chunk'}])]}\n",
      "============================================================\n",
      "\u001b[32;1m\u001b[1;3m\n",
      "Invoking: `search_news` with `{'query': '비트코인 투자'}`\n",
      "\n",
      "\n",
      "\u001b[0m\u001b[36;1m\u001b[1;3m[{'url': 'https://news.google.com/rss/articles/CBMic0FVX3lxTE5EYWRObmltSllQbTVCZnBCTDl4dS1hQUlGaEMtQWJ2Q2VfSy13S3FTTVpMQ2t6Tm1WeGVoNjRwM0owcUk2dzlhMWt3WGgxRlhpWUxGNHE3ODdzLVRQclRtYzBDang2WkQ4OXVWeHVXazY5SVU?oc=5', 'content': '우리도 마이크로스트래티지처럼…현금부자 美 기업, 암호화폐 투자 러시 - 디지털투데이'}, {'url': 'https://news.google.com/rss/articles/CBMifkFVX3lxTE5JanUtanRwV0NJQXUzUWR4Qm10SVlQbzh5RGZEZmlzM3NhWExXWDBhUHpDWjY3NUJWMFVFQmtPWWRXMnkwdW9ndmotcUtzSUtrUzktR1JLSDItNFZTRFc1ZnkyeW10TDdJRGUwOXNXbUYxV0t6SW1lUk1oZHFuZw?oc=5', 'content': '코인으로 벼락부자?…투자 고민된다면[왓츠 유어 ETF] - 이데일리'}, {'url': 'https://news.google.com/rss/articles/CBMib0FVX3lxTFBqaVhiN05tUU1EdFB6ci1mNXoyY1NOVk9NX3VURlFkSzhVblNIS2w3TTJ6enZmUi1NNV9ZVXhTZnVKUTljVW9tZnNBd3F1Unk0b3dIQV9hWm1TOWZpS1BNVGJsTF9SMS1ySVpxT2ZTbw?oc=5', 'content': '[재테크+] 10년 전 1억 투자했더라면…코인·금·삼전 비교해보니 - 서울신문'}, {'url': 'https://news.google.com/rss/articles/CBMiVEFVX3lxTE11VjVIY21jNW5wS3MtTjVrM0xOTWgxVGhmN3AzQnhGdXRTeTl3SzJ0Z0VKbEJzYVhLWTN6d293TWJpRWY0UHhCY3NVSlJvSk0wbDVkWg?oc=5', 'content': '트럼프발 가상화폐 랠리 벌써 끝?...‘닥터 둠’ 투자자들에게 경고 또 날렸다 - 매일경제'}, {'url': 'https://news.google.com/rss/articles/CBMiVkFVX3lxTFBldWlEZnp1bHotUmlwYjhGUG9SWXVMV3I3NnZ6OUVlQXliM01fUXVDaGlzWEF1UjkwdkVXamxMRVJkV0JZR0lMMjc0QmZpUnk2ZE9DZ1Rn?oc=5', 'content': '과거와 다른 ‘알트장’…대형 코인 매수세 확산 [암호화폐 투자 랠리] - 헤럴드경제'}]\u001b[0m{'steps': [AgentStep(action=ToolAgentAction(tool='search_news', tool_input={'query': '비트코인 투자'}, log=\"\\nInvoking: `search_news` with `{'query': '비트코인 투자'}`\\n\\n\\n\", message_log=[AIMessageChunk(content='', additional_kwargs={'tool_calls': [{'index': 0, 'id': 'call_JpbSGsEDBHiQmAXd0WQI23uX', 'function': {'arguments': '{\"query\":\"비트코인 투자\"}', 'name': 'search_news'}, 'type': 'function'}]}, response_metadata={'finish_reason': 'tool_calls', 'model_name': 'gpt-4o-mini-2024-07-18', 'system_fingerprint': 'fp_3de1288069'}, id='run-7d126e40-1552-4fb7-973d-c8a13f510137', tool_calls=[{'name': 'search_news', 'args': {'query': '비트코인 투자'}, 'id': 'call_JpbSGsEDBHiQmAXd0WQI23uX', 'type': 'tool_call'}], tool_call_chunks=[{'name': 'search_news', 'args': '{\"query\":\"비트코인 투자\"}', 'id': 'call_JpbSGsEDBHiQmAXd0WQI23uX', 'index': 0, 'type': 'tool_call_chunk'}])], tool_call_id='call_JpbSGsEDBHiQmAXd0WQI23uX'), observation=[{'url': 'https://news.google.com/rss/articles/CBMic0FVX3lxTE5EYWRObmltSllQbTVCZnBCTDl4dS1hQUlGaEMtQWJ2Q2VfSy13S3FTTVpMQ2t6Tm1WeGVoNjRwM0owcUk2dzlhMWt3WGgxRlhpWUxGNHE3ODdzLVRQclRtYzBDang2WkQ4OXVWeHVXazY5SVU?oc=5', 'content': '우리도 마이크로스트래티지처럼…현금부자 美 기업, 암호화폐 투자 러시 - 디지털투데이'}, {'url': 'https://news.google.com/rss/articles/CBMifkFVX3lxTE5JanUtanRwV0NJQXUzUWR4Qm10SVlQbzh5RGZEZmlzM3NhWExXWDBhUHpDWjY3NUJWMFVFQmtPWWRXMnkwdW9ndmotcUtzSUtrUzktR1JLSDItNFZTRFc1ZnkyeW10TDdJRGUwOXNXbUYxV0t6SW1lUk1oZHFuZw?oc=5', 'content': '코인으로 벼락부자?…투자 고민된다면[왓츠 유어 ETF] - 이데일리'}, {'url': 'https://news.google.com/rss/articles/CBMib0FVX3lxTFBqaVhiN05tUU1EdFB6ci1mNXoyY1NOVk9NX3VURlFkSzhVblNIS2w3TTJ6enZmUi1NNV9ZVXhTZnVKUTljVW9tZnNBd3F1Unk0b3dIQV9hWm1TOWZpS1BNVGJsTF9SMS1ySVpxT2ZTbw?oc=5', 'content': '[재테크+] 10년 전 1억 투자했더라면…코인·금·삼전 비교해보니 - 서울신문'}, {'url': 'https://news.google.com/rss/articles/CBMiVEFVX3lxTE11VjVIY21jNW5wS3MtTjVrM0xOTWgxVGhmN3AzQnhGdXRTeTl3SzJ0Z0VKbEJzYVhLWTN6d293TWJpRWY0UHhCY3NVSlJvSk0wbDVkWg?oc=5', 'content': '트럼프발 가상화폐 랠리 벌써 끝?...‘닥터 둠’ 투자자들에게 경고 또 날렸다 - 매일경제'}, {'url': 'https://news.google.com/rss/articles/CBMiVkFVX3lxTFBldWlEZnp1bHotUmlwYjhGUG9SWXVMV3I3NnZ6OUVlQXliM01fUXVDaGlzWEF1UjkwdkVXamxMRVJkV0JZR0lMMjc0QmZpUnk2ZE9DZ1Rn?oc=5', 'content': '과거와 다른 ‘알트장’…대형 코인 매수세 확산 [암호화폐 투자 랠리] - 헤럴드경제'}])], 'messages': [FunctionMessage(content='[{\"url\": \"https://news.google.com/rss/articles/CBMic0FVX3lxTE5EYWRObmltSllQbTVCZnBCTDl4dS1hQUlGaEMtQWJ2Q2VfSy13S3FTTVpMQ2t6Tm1WeGVoNjRwM0owcUk2dzlhMWt3WGgxRlhpWUxGNHE3ODdzLVRQclRtYzBDang2WkQ4OXVWeHVXazY5SVU?oc=5\", \"content\": \"우리도 마이크로스트래티지처럼…현금부자 美 기업, 암호화폐 투자 러시 - 디지털투데이\"}, {\"url\": \"https://news.google.com/rss/articles/CBMifkFVX3lxTE5JanUtanRwV0NJQXUzUWR4Qm10SVlQbzh5RGZEZmlzM3NhWExXWDBhUHpDWjY3NUJWMFVFQmtPWWRXMnkwdW9ndmotcUtzSUtrUzktR1JLSDItNFZTRFc1ZnkyeW10TDdJRGUwOXNXbUYxV0t6SW1lUk1oZHFuZw?oc=5\", \"content\": \"코인으로 벼락부자?…투자 고민된다면[왓츠 유어 ETF] - 이데일리\"}, {\"url\": \"https://news.google.com/rss/articles/CBMib0FVX3lxTFBqaVhiN05tUU1EdFB6ci1mNXoyY1NOVk9NX3VURlFkSzhVblNIS2w3TTJ6enZmUi1NNV9ZVXhTZnVKUTljVW9tZnNBd3F1Unk0b3dIQV9hWm1TOWZpS1BNVGJsTF9SMS1ySVpxT2ZTbw?oc=5\", \"content\": \"[재테크+] 10년 전 1억 투자했더라면…코인·금·삼전 비교해보니 - 서울신문\"}, {\"url\": \"https://news.google.com/rss/articles/CBMiVEFVX3lxTE11VjVIY21jNW5wS3MtTjVrM0xOTWgxVGhmN3AzQnhGdXRTeTl3SzJ0Z0VKbEJzYVhLWTN6d293TWJpRWY0UHhCY3NVSlJvSk0wbDVkWg?oc=5\", \"content\": \"트럼프발 가상화폐 랠리 벌써 끝?...‘닥터 둠’ 투자자들에게 경고 또 날렸다 - 매일경제\"}, {\"url\": \"https://news.google.com/rss/articles/CBMiVkFVX3lxTFBldWlEZnp1bHotUmlwYjhGUG9SWXVMV3I3NnZ6OUVlQXliM01fUXVDaGlzWEF1UjkwdkVXamxMRVJkV0JZR0lMMjc0QmZpUnk2ZE9DZ1Rn?oc=5\", \"content\": \"과거와 다른 ‘알트장’…대형 코인 매수세 확산 [암호화폐 투자 랠리] - 헤럴드경제\"}]', additional_kwargs={}, response_metadata={}, name='search_news')]}\n",
      "============================================================\n",
      "\u001b[32;1m\u001b[1;3m다음은 비트코인 투자와 관련된 최근 뉴스 기사들입니다:\n",
      "\n",
      "1. [우리도 마이크로스트래티지처럼…현금부자 美 기업, 암호화폐 투자 러시 - 디지털투데이](https://news.google.com/rss/articles/CBMic0FVX3lxTE5EYWRObmltSllQbTVCZnBCTDl4dS1hQUlGaEMtQWJ2Q2VfSy13S3FTTVpMQ2t6Tm1WeGVoNjRwM0owcUk2dzlhMWt3WGgxRlhpWUxGNHE3ODdzLVRQclRtYzBDang2WkQ4OXVWeHVXazY5SVU?oc=5)\n",
      "\n",
      "2. [코인으로 벼락부자?…투자 고민된다면[왓츠 유어 ETF] - 이데일리](https://news.google.com/rss/articles/CBMifkFVX3lxTE5JanUtanRwV0NJQXUzUWR4Qm10SVlQbzh5RGZEZmlzM3NhWExXWDBhUHpDWjY3NUJWMFVFQmtPWWRXMnkwdW9ndmotcUtzSUtrUzktR1JLSDItNFZTRFc1ZnkyeW10TDdJRGUwOXNXbUYxV0t6SW1lUk1oZHFuZw?oc=5)\n",
      "\n",
      "3. [10년 전 1억 투자했더라면…코인·금·삼전 비교해보니 - 서울신문](https://news.google.com/rss/articles/CBMib0FVX3lxTFBqaVhiN05tUU1EdFB6ci1mNXoyY1NOVk9NX3VURlFkSzhVblNIS2w3TTJ6enZmUi1NNV9ZVXhTZnVKUTljVW9tZnNBd3F1Unk0b3dIQV9hWm1TOWZpS1BNVGJsTF9SMS1ySVpxT2ZTbw?oc=5)\n",
      "\n",
      "4. [트럼프발 가상화폐 랠리 벌써 끝?...‘닥터 둠’ 투자자들에게 경고 또 날렸다 - 매일경제](https://news.google.com/rss/articles/CBMiVEFVX3lxTE11VjVIY21jNW5wS3MtTjVrM0xOTWgxVGhmN3AzQnhGdXRTeTl3SzJ0Z0VKbEJzYVhLWTN6d293TWJpRWY0UHhCY3NVSlJvSk0wbDVkWg?oc=5)\n",
      "\n",
      "5. [과거와 다른 ‘알트장’…대형 코인 매수세 확산 [암호화폐 투자 랠리] - 헤럴드경제](https://news.google.com/rss/articles/CBMiVkFVX3lxTFBldWlEZnp1bHotUmlwYjhGUG9SWXVMV3I3NnZ6OUVlQXliM01fUXVDaGlzWEF1UjkwdkVXamxMRVJkV0JZR0lMMjc0QmZpUnk2ZE9DZ1Rn?oc=5)\n",
      "\n",
      "각 기사를 클릭하시면 더 자세한 내용을 확인하실 수 있습니다.\u001b[0m\n",
      "\n",
      "\u001b[1m> Finished chain.\u001b[0m\n",
      "{'output': '다음은 비트코인 투자와 관련된 최근 뉴스 기사들입니다:\\n\\n1. [우리도 마이크로스트래티지처럼…현금부자 美 기업, 암호화폐 투자 러시 - 디지털투데이](https://news.google.com/rss/articles/CBMic0FVX3lxTE5EYWRObmltSllQbTVCZnBCTDl4dS1hQUlGaEMtQWJ2Q2VfSy13S3FTTVpMQ2t6Tm1WeGVoNjRwM0owcUk2dzlhMWt3WGgxRlhpWUxGNHE3ODdzLVRQclRtYzBDang2WkQ4OXVWeHVXazY5SVU?oc=5)\\n\\n2. [코인으로 벼락부자?…투자 고민된다면[왓츠 유어 ETF] - 이데일리](https://news.google.com/rss/articles/CBMifkFVX3lxTE5JanUtanRwV0NJQXUzUWR4Qm10SVlQbzh5RGZEZmlzM3NhWExXWDBhUHpDWjY3NUJWMFVFQmtPWWRXMnkwdW9ndmotcUtzSUtrUzktR1JLSDItNFZTRFc1ZnkyeW10TDdJRGUwOXNXbUYxV0t6SW1lUk1oZHFuZw?oc=5)\\n\\n3. [10년 전 1억 투자했더라면…코인·금·삼전 비교해보니 - 서울신문](https://news.google.com/rss/articles/CBMib0FVX3lxTFBqaVhiN05tUU1EdFB6ci1mNXoyY1NOVk9NX3VURlFkSzhVblNIS2w3TTJ6enZmUi1NNV9ZVXhTZnVKUTljVW9tZnNBd3F1Unk0b3dIQV9hWm1TOWZpS1BNVGJsTF9SMS1ySVpxT2ZTbw?oc=5)\\n\\n4. [트럼프발 가상화폐 랠리 벌써 끝?...‘닥터 둠’ 투자자들에게 경고 또 날렸다 - 매일경제](https://news.google.com/rss/articles/CBMiVEFVX3lxTE11VjVIY21jNW5wS3MtTjVrM0xOTWgxVGhmN3AzQnhGdXRTeTl3SzJ0Z0VKbEJzYVhLWTN6d293TWJpRWY0UHhCY3NVSlJvSk0wbDVkWg?oc=5)\\n\\n5. [과거와 다른 ‘알트장’…대형 코인 매수세 확산 [암호화폐 투자 랠리] - 헤럴드경제](https://news.google.com/rss/articles/CBMiVkFVX3lxTFBldWlEZnp1bHotUmlwYjhGUG9SWXVMV3I3NnZ6OUVlQXliM01fUXVDaGlzWEF1UjkwdkVXamxMRVJkV0JZR0lMMjc0QmZpUnk2ZE9DZ1Rn?oc=5)\\n\\n각 기사를 클릭하시면 더 자세한 내용을 확인하실 수 있습니다.', 'messages': [AIMessage(content='다음은 비트코인 투자와 관련된 최근 뉴스 기사들입니다:\\n\\n1. [우리도 마이크로스트래티지처럼…현금부자 美 기업, 암호화폐 투자 러시 - 디지털투데이](https://news.google.com/rss/articles/CBMic0FVX3lxTE5EYWRObmltSllQbTVCZnBCTDl4dS1hQUlGaEMtQWJ2Q2VfSy13S3FTTVpMQ2t6Tm1WeGVoNjRwM0owcUk2dzlhMWt3WGgxRlhpWUxGNHE3ODdzLVRQclRtYzBDang2WkQ4OXVWeHVXazY5SVU?oc=5)\\n\\n2. [코인으로 벼락부자?…투자 고민된다면[왓츠 유어 ETF] - 이데일리](https://news.google.com/rss/articles/CBMifkFVX3lxTE5JanUtanRwV0NJQXUzUWR4Qm10SVlQbzh5RGZEZmlzM3NhWExXWDBhUHpDWjY3NUJWMFVFQmtPWWRXMnkwdW9ndmotcUtzSUtrUzktR1JLSDItNFZTRFc1ZnkyeW10TDdJRGUwOXNXbUYxV0t6SW1lUk1oZHFuZw?oc=5)\\n\\n3. [10년 전 1억 투자했더라면…코인·금·삼전 비교해보니 - 서울신문](https://news.google.com/rss/articles/CBMib0FVX3lxTFBqaVhiN05tUU1EdFB6ci1mNXoyY1NOVk9NX3VURlFkSzhVblNIS2w3TTJ6enZmUi1NNV9ZVXhTZnVKUTljVW9tZnNBd3F1Unk0b3dIQV9hWm1TOWZpS1BNVGJsTF9SMS1ySVpxT2ZTbw?oc=5)\\n\\n4. [트럼프발 가상화폐 랠리 벌써 끝?...‘닥터 둠’ 투자자들에게 경고 또 날렸다 - 매일경제](https://news.google.com/rss/articles/CBMiVEFVX3lxTE11VjVIY21jNW5wS3MtTjVrM0xOTWgxVGhmN3AzQnhGdXRTeTl3SzJ0Z0VKbEJzYVhLWTN6d293TWJpRWY0UHhCY3NVSlJvSk0wbDVkWg?oc=5)\\n\\n5. [과거와 다른 ‘알트장’…대형 코인 매수세 확산 [암호화폐 투자 랠리] - 헤럴드경제](https://news.google.com/rss/articles/CBMiVkFVX3lxTFBldWlEZnp1bHotUmlwYjhGUG9SWXVMV3I3NnZ6OUVlQXliM01fUXVDaGlzWEF1UjkwdkVXamxMRVJkV0JZR0lMMjc0QmZpUnk2ZE9DZ1Rn?oc=5)\\n\\n각 기사를 클릭하시면 더 자세한 내용을 확인하실 수 있습니다.', additional_kwargs={}, response_metadata={})]}\n",
      "============================================================\n"
     ]
    }
   ],
   "source": [
    "# 스트리밍 모드로 실행합니다\n",
    "result = agent_executor.stream(\n",
    "    {\"input\": \"비트코인 투자와 관련된 뉴스를 검색해 주세요.\"}\n",
    ")\n",
    "\n",
    "for step in result:\n",
    "    # 중간 단계 출력\n",
    "    print(step)\n",
    "    print(\"===\" * 20)"
   ]
  },
  {
   "cell_type": "markdown",
   "metadata": {},
   "source": [
    "#### 중간 단계 출력을 사용자 정의 함수로 출력\n",
    "\n",
    "다음의 3개 함수를 정의하고 이를 통해 중간 단계 출력을 사용자 정의합니다.  \n",
    "- tool_callback: 도구 호출 출력을 처리하는 함수\n",
    "- observation_callback: 관찰(Observation) 출력을 처리하는 함수\n",
    "- result_callback: 최종 답변 출력을 처리하는 함수"
   ]
  },
  {
   "cell_type": "code",
   "execution_count": 34,
   "metadata": {},
   "outputs": [],
   "source": [
    "from langchain_print import AgentStreamParser\n",
    "\n",
    "agent_stream_parser = AgentStreamParser()"
   ]
  },
  {
   "cell_type": "markdown",
   "metadata": {},
   "source": [
    "스트리밍 방식으로 Agent의 응답 과정을 확인합니다."
   ]
  },
  {
   "cell_type": "code",
   "execution_count": 35,
   "metadata": {},
   "outputs": [
    {
     "data": {
      "image/png": "[encoded data removed]",
      "text/plain": [
       "<Figure size 800x600 with 1 Axes>"
      ]
     },
     "metadata": {},
     "output_type": "display_data"
    },
    {
     "name": "stdout",
     "output_type": "stream",
     "text": [
      "[도구 호출]\n",
      "Tool: python_repl_tool\n",
      "code: import matplotlib.pyplot as plt\n",
      "\n",
      "# 데이터\n",
      "sizes = [15, 30, 45, 10]\n",
      "labels = ['A', 'B', 'C', 'D']\n",
      "colors = ['gold', 'lightcoral', 'lightskyblue', 'lightgreen']\n",
      "\n",
      "# 파이 차트 그리기\n",
      "plt.figure(figsize=(8, 6))\n",
      "plt.pie(sizes, labels=labels, colors=colors, autopct='%1.1f%%', startangle=140)\n",
      "plt.axis('equal')  # Equal aspect ratio ensures that pie is drawn as a circle.\n",
      "plt.title('Sample Pie Chart')\n",
      "plt.show()\n",
      "Log: \n",
      "Invoking: `python_repl_tool` with `{'code': \"import matplotlib.pyplot as plt\\n\\n# 데이터\\nsizes = [15, 30, 45, 10]\\nlabels = ['A', 'B', 'C', 'D']\\ncolors = ['gold', 'lightcoral', 'lightskyblue', 'lightgreen']\\n\\n# 파이 차트 그리기\\nplt.figure(figsize=(8, 6))\\nplt.pie(sizes, labels=labels, colors=colors, autopct='%1.1f%%', startangle=140)\\nplt.axis('equal')  # Equal aspect ratio ensures that pie is drawn as a circle.\\nplt.title('Sample Pie Chart')\\nplt.show()\"}`\n",
      "\n",
      "\n",
      "\n",
      "[관찰 내용]\n",
      "Observation: \n",
      "[최종 답변]\n",
      "파이 차트가 성공적으로 그려졌습니다. 차트에는 A, B, C, D라는 레이블이 있으며, 각 섹션의 비율이 표시되어 있습니다. 차트의 비율은 다음과 같습니다:\n",
      "\n",
      "- A: 15%\n",
      "- B: 30%\n",
      "- C: 45%\n",
      "- D: 10%\n",
      "\n",
      "이 차트는 데이터의 분포를 시각적으로 나타내는 좋은 방법입니다. 추가적인 질문이 있으시면 말씀해 주세요!\n"
     ]
    }
   ],
   "source": [
    "# 질의에 대한 답변을 스트리밍으로 출력 요청\n",
    "result = agent_executor.stream(\n",
    "    {\"input\": \"matplotlib 을 사용하여 pie 차트를 그리는 코드를 작성하고 실행하세요.\"}\n",
    ")\n",
    "\n",
    "for step in result:\n",
    "    # 중간 단계를 parser 를 사용하여 단계별로 출력\n",
    "    # print(step)\n",
    "    agent_stream_parser.process_agent_steps(step)"
   ]
  },
  {
   "cell_type": "code",
   "execution_count": 36,
   "metadata": {},
   "outputs": [],
   "source": [
    "from langchain_print import AgentStreamParser, AgentCallbacks\n",
    "\n",
    "\n",
    "# 도구 호출 시 실행되는 콜백 함수입니다.\n",
    "def tool_callback(tool) -> None:\n",
    "    print(\"<<<<<<< 도구 호출 >>>>>>\")\n",
    "    print(f\"Tool: {tool.get('tool')}\")  # 사용된 도구의 이름을 출력합니다.\n",
    "    print(\"<<<<<<< 도구 호출 >>>>>>\")\n",
    "\n",
    "\n",
    "# 관찰 결과를 출력하는 콜백 함수입니다.\n",
    "def observation_callback(observation) -> None:\n",
    "    print(\"<<<<<<< 관찰 내용 >>>>>>\")\n",
    "    print(\n",
    "        f\"Observation: {observation.get('observation')[0]}\"\n",
    "    )  # 관찰 내용을 출력합니다.\n",
    "    print(\"<<<<<<< 관찰 내용 >>>>>>\")\n",
    "\n",
    "\n",
    "# 최종 결과를 출력하는 콜백 함수입니다.\n",
    "def result_callback(result: str) -> None:\n",
    "    print(\"<<<<<<< 최종 답변 >>>>>>\")\n",
    "    print(result)  # 최종 답변을 출력합니다.\n",
    "    print(\"<<<<<<< 최종 답변 >>>>>>\")\n",
    "\n",
    "\n",
    "# AgentCallbacks 객체를 생성하여 각 단계별 콜백 함수를 설정합니다.\n",
    "agent_callbacks = AgentCallbacks(\n",
    "    tool_callback=tool_callback,\n",
    "    observation_callback=observation_callback,\n",
    "    result_callback=result_callback,\n",
    ")\n",
    "\n",
    "# AgentStreamParser 객체를 생성하여 에이전트의 실행 과정을 파싱합니다.\n",
    "agent_stream_parser = AgentStreamParser(agent_callbacks)"
   ]
  },
  {
   "cell_type": "markdown",
   "metadata": {},
   "source": [
    "출력 값이 수정한 콜백 함수의 출력 값으로 변경된 것을 확인할 수 있습니다."
   ]
  },
  {
   "cell_type": "code",
   "execution_count": 37,
   "metadata": {},
   "outputs": [
    {
     "name": "stdout",
     "output_type": "stream",
     "text": [
      "<<<<<<< 도구 호출 >>>>>>\n",
      "Tool: search_news\n",
      "<<<<<<< 도구 호출 >>>>>>\n",
      "<<<<<<< 관찰 내용 >>>>>>\n",
      "Observation: {'url': 'https://news.google.com/rss/articles/CBMic0FVX3lxTE5EYWRObmltSllQbTVCZnBCTDl4dS1hQUlGaEMtQWJ2Q2VfSy13S3FTTVpMQ2t6Tm1WeGVoNjRwM0owcUk2dzlhMWt3WGgxRlhpWUxGNHE3ODdzLVRQclRtYzBDang2WkQ4OXVWeHVXazY5SVU?oc=5', 'content': '우리도 마이크로스트래티지처럼…현금부자 美 기업, 암호화폐 투자 러시 - 디지털투데이'}\n",
      "<<<<<<< 관찰 내용 >>>>>>\n",
      "<<<<<<< 최종 답변 >>>>>>\n",
      "다음은 비트코인 투자와 관련된 최근 뉴스 기사들입니다:\n",
      "\n",
      "1. [우리도 마이크로스트래티지처럼…현금부자 美 기업, 암호화폐 투자 러시 - 디지털투데이](https://news.google.com/rss/articles/CBMic0FVX3lxTE5EYWRObmltSllQbTVCZnBCTDl4dS1hQUlGaEMtQWJ2Q2VfSy13S3FTTVpMQ2t6Tm1WeGVoNjRwM0owcUk2dzlhMWt3WGgxRlhpWUxGNHE3ODdzLVRQclRtYzBDang2WkQ4OXVWeHVXazY5SVU?oc=5)\n",
      "\n",
      "2. [코인으로 벼락부자?…투자 고민된다면[왓츠 유어 ETF] - 이데일리](https://news.google.com/rss/articles/CBMifkFVX3lxTE5JanUtanRwV0NJQXUzUWR4Qm10SVlQbzh5RGZEZmlzM3NhWExXWDBhUHpDWjY3NUJWMFVFQmtPWWRXMnkwdW9ndmotcUtzSUtrUzktR1JLSDItNFZTRFc1ZnkyeW10TDdJRGUwOXNXbUYxV0t6SW1lUk1oZHFuZw?oc=5)\n",
      "\n",
      "3. [10년 전 1억 투자했더라면…코인·금·삼전 비교해보니 - 서울신문](https://news.google.com/rss/articles/CBMib0FVX3lxTFBqaVhiN05tUU1EdFB6ci1mNXoyY1NOVk9NX3VURlFkSzhVblNIS2w3TTJ6enZmUi1NNV9ZVXhTZnVKUTljVW9tZnNBd3F1Unk0b3dIQV9hWm1TOWZpS1BNVGJsTF9SMS1ySVpxT2ZTbw?oc=5)\n",
      "\n",
      "4. [트럼프발 가상화폐 랠리 벌써 끝?...‘닥터 둠’ 투자자들에게 경고 또 날렸다 - 매일경제](https://news.google.com/rss/articles/CBMiVEFVX3lxTE11VjVIY21jNW5wS3MtTjVrM0xOTWgxVGhmN3AzQnhGdXRTeTl3SzJ0Z0VKbEJzYVhLWTN6d293TWJpRWY0UHhCY3NVSlJvSk0wbDVkWg?oc=5)\n",
      "\n",
      "5. [과거와 다른 ‘알트장’…대형 코인 매수세 확산 [암호화폐 투자 랠리] - 헤럴드경제](https://news.google.com/rss/articles/CBMiVkFVX3lxTFBldWlEZnp1bHotUmlwYjhGUG9SWXVMV3I3NnZ6OUVlQXliM01fUXVDaGlzWEF1UjkwdkVXamxMRVJkV0JZR0lMMjc0QmZpUnk2ZE9DZ1Rn?oc=5)\n",
      "\n",
      "이 기사들을 통해 비트코인 투자에 대한 다양한 관점과 정보를 확인할 수 있습니다.\n",
      "<<<<<<< 최종 답변 >>>>>>\n"
     ]
    }
   ],
   "source": [
    "# 질의에 대한 답변을 스트리밍으로 출력 요청\n",
    "result = agent_executor.stream({\"input\": \"비트코인 투자관련 뉴스를 검색해 주세요.\"})\n",
    "\n",
    "for step in result:\n",
    "    # 중간 단계를 parser 를 사용하여 단계별로 출력\n",
    "    agent_stream_parser.process_agent_steps(step)"
   ]
  },
  {
   "cell_type": "markdown",
   "metadata": {},
   "source": [
    "### 이전 대화내용 기억하는 Agent, 멀티턴\n",
    "이전의 대화내용을 기억하기 위해서는 `RunnableWithMessageHistory` 를 사용하여 `AgentExecutor` 를 감싸줍니다.  \n",
    "  \n",
    "`RunnableWithMessageHistory` 에 대한 자세한 내용은 아래 링크를 참고해 주세요.  \n",
    "  \n",
    "참고\n",
    "- [RunnableWithMessageHistory](https://wikidocs.net/254682)"
   ]
  },
  {
   "cell_type": "code",
   "execution_count": 38,
   "metadata": {},
   "outputs": [],
   "source": [
    "from langchain_community.chat_message_histories import ChatMessageHistory\n",
    "from langchain_core.runnables.history import RunnableWithMessageHistory\n",
    "\n",
    "# session_id 를 저장할 딕셔너리 생성\n",
    "store = {}\n",
    "\n",
    "\n",
    "# session_id 를 기반으로 세션 기록을 가져오는 함수\n",
    "def get_session_history(session_ids):\n",
    "    if session_ids not in store:  # session_id 가 store에 없는 경우\n",
    "        # 새로운 ChatMessageHistory 객체를 생성하여 store에 저장\n",
    "        store[session_ids] = ChatMessageHistory()\n",
    "    return store[session_ids]  # 해당 세션 ID에 대한 세션 기록 반환\n",
    "\n",
    "\n",
    "# 채팅 메시지 기록이 추가된 에이전트를 생성합니다.\n",
    "agent_with_chat_history = RunnableWithMessageHistory(\n",
    "    agent_executor,\n",
    "    # 대화 session_id\n",
    "    get_session_history,\n",
    "    # 프롬프트의 질문이 입력되는 key: \"input\"\n",
    "    input_messages_key=\"input\",\n",
    "    # 프롬프트의 메시지가 입력되는 key: \"chat_history\"\n",
    "    history_messages_key=\"chat_history\",\n",
    ")"
   ]
  },
  {
   "cell_type": "code",
   "execution_count": 39,
   "metadata": {},
   "outputs": [
    {
     "name": "stdout",
     "output_type": "stream",
     "text": [
      "<<<<<<< 최종 답변 >>>>>>\n",
      "안녕하세요, 노바디님! 어떻게 도와드릴까요?\n",
      "<<<<<<< 최종 답변 >>>>>>\n"
     ]
    }
   ],
   "source": [
    "# 질의에 대한 답변을 스트리밍으로 출력 요청\n",
    "response = agent_with_chat_history.stream(\n",
    "    {\"input\": \"안녕? 내 이름은 노바디야!\"},\n",
    "    # session_id 설정\n",
    "    config={\"configurable\": {\"session_id\": \"251202history\"}},\n",
    ")\n",
    "\n",
    "# 출력 확인\n",
    "for step in response:\n",
    "    agent_stream_parser.process_agent_steps(step)"
   ]
  },
  {
   "cell_type": "code",
   "execution_count": 40,
   "metadata": {},
   "outputs": [
    {
     "name": "stdout",
     "output_type": "stream",
     "text": [
      "<<<<<<< 최종 답변 >>>>>>\n",
      "당신의 이름은 노바디입니다!\n",
      "<<<<<<< 최종 답변 >>>>>>\n"
     ]
    }
   ],
   "source": [
    "# 질의에 대한 답변을 스트리밍으로 출력 요청\n",
    "response = agent_with_chat_history.stream(\n",
    "    {\"input\": \"내 이름이 뭐라고?\"},\n",
    "    # session_id 설정\n",
    "    config={\"configurable\": {\"session_id\": \"251202history\"}},\n",
    ")\n",
    "\n",
    "# 출력 확인\n",
    "for step in response:\n",
    "    agent_stream_parser.process_agent_steps(step)"
   ]
  },
  {
   "cell_type": "code",
   "execution_count": 41,
   "metadata": {},
   "outputs": [
    {
     "name": "stdout",
     "output_type": "stream",
     "text": [
      "<<<<<<< 최종 답변 >>>>>>\n",
      "알겠습니다, 노바디님! 라이징 투자 회사와 관련하여 어떤 정보를 원하시나요? 또는 다른 도움이 필요하신가요?\n",
      "<<<<<<< 최종 답변 >>>>>>\n"
     ]
    }
   ],
   "source": [
    "# 질의에 대한 답변을 스트리밍으로 출력 요청\n",
    "response = agent_with_chat_history.stream(\n",
    "    {\n",
    "        \"input\": \"내 이메일 주소는 nobody@agent.com 이야. 회사 이름은 라이징 투자 회사야.\"\n",
    "    },\n",
    "    # session_id 설정\n",
    "    config={\"configurable\": {\"session_id\": \"251202history\"}},\n",
    ")\n",
    "\n",
    "# 출력 확인\n",
    "for step in response:\n",
    "    agent_stream_parser.process_agent_steps(step)"
   ]
  },
  {
   "cell_type": "code",
   "execution_count": 43,
   "metadata": {},
   "outputs": [
    {
     "name": "stdout",
     "output_type": "stream",
     "text": [
      "<<<<<<< 도구 호출 >>>>>>\n",
      "Tool: search_news\n",
      "<<<<<<< 도구 호출 >>>>>>\n",
      "<<<<<<< 관찰 내용 >>>>>>\n",
      "Observation: {'url': 'https://news.google.com/rss/articles/CBMic0FVX3lxTE5EYWRObmltSllQbTVCZnBCTDl4dS1hQUlGaEMtQWJ2Q2VfSy13S3FTTVpMQ2t6Tm1WeGVoNjRwM0owcUk2dzlhMWt3WGgxRlhpWUxGNHE3ODdzLVRQclRtYzBDang2WkQ4OXVWeHVXazY5SVU?oc=5', 'content': '우리도 마이크로스트래티지처럼…현금부자 美 기업, 암호화폐 투자 러시 - 디지털투데이'}\n",
      "<<<<<<< 관찰 내용 >>>>>>\n",
      "<<<<<<< 최종 답변 >>>>>>\n",
      "아래는 워렛버핏 투자자님께 보낼 이메일 본문입니다.\n",
      "\n",
      "---\n",
      "\n",
      "제목: 비트코인 투자 관련 최신 뉴스 업데이트\n",
      "\n",
      "워렛버핏 투자자님,\n",
      "\n",
      "안녕하세요. 라이징 투자 회사의 노바디입니다. 급한 업무로 인해 비트코인 투자와 관련된 최신 뉴스를 정리하여 전달드립니다. 아래는 최근의 주요 뉴스 5개입니다.\n",
      "\n",
      "1. [우리도 마이크로스트래티지처럼…현금부자 美 기업, 암호화폐 투자 러시 - 디지털투데이](https://news.google.com/rss/articles/CBMic0FVX3lxTE5EYWRObmltSllQbTVCZnBCTDl4dS1hQUlGaEMtQWJ2Q2VfSy13S3FTTVpMQ2t6Tm1WeGVoNjRwM0owcUk2dzlhMWt3WGgxRlhpWUxGNHE3ODdzLVRQclRtYzBDang2WkQ4OXVWeHVXazY5SVU?oc=5)\n",
      "\n",
      "2. [코인으로 벼락부자?…투자 고민된다면[왓츠 유어 ETF] - 이데일리](https://news.google.com/rss/articles/CBMifkFVX3lxTE5JanUtanRwV0NJQXUzUWR4Qm10SVlQbzh5RGZEZmlzM3NhWExXWDBhUHpDWjY3NUJWMFVFQmtPWWRXMnkwdW9ndmotcUtzSUtrUzktR1JLSDItNFZTRFc1ZnkyeW10TDdJRGUwOXNXbUYxV0t6SW1lUk1oZHFuZw?oc=5)\n",
      "\n",
      "3. [10년 전 1억 투자했더라면…코인·금·삼전 비교해보니 - 서울신문](https://news.google.com/rss/articles/CBMib0FVX3lxTFBqaVhiN05tUU1EdFB6ci1mNXoyY1NOVk9NX3VURlFkSzhVblNIS2w3TTJ6enZmUi1NNV9ZVXhTZnVKUTljVW9tZnNBd3F1Unk0b3dIQV9hWm1TOWZpS1BNVGJsTF9SMS1ySVpxT2ZTbw?oc=5)\n",
      "\n",
      "4. [트럼프발 가상화폐 랠리 벌써 끝?...‘닥터 둠’ 투자자들에게 경고 또 날렸다 - 매일경제](https://news.google.com/rss/articles/CBMiVEFVX3lxTE11VjVIY21jNW5wS3MtTjVrM0xOTWgxVGhmN3AzQnhGdXRTeTl3SzJ0Z0VKbEJzYVhLWTN6d293TWJpRWY0UHhCY3NVSlJvSk0wbDVkWg?oc=5)\n",
      "\n",
      "5. [과거와 다른 ‘알트장’…대형 코인 매수세 확산 [암호화폐 투자 랠리] - 헤럴드경제](https://news.google.com/rss/articles/CBMiVkFVX3lxTFBldWlEZnp1bHotUmlwYjhGUG9SWXVMV3I3NnZ6OUVlQXliM01fUXVDaGlzWEF1UjkwdkVXamxMRVJkV0JZR0lMMjc0QmZpUnk2ZE9DZ1Rn?oc=5)\n",
      "\n",
      "급한 업무로 인해 빠르게 전달드립니다. 추가적인 정보가 필요하시면 언제든지 말씀해 주세요.\n",
      "\n",
      "감사합니다.\n",
      "\n",
      "노바디  \n",
      "nobody@agent.com  \n",
      "라이징 투자 회사\n",
      "\n",
      "---\n",
      "\n",
      "이메일을 보내실 준비가 되셨나요? 추가로 수정할 부분이 있으면 말씀해 주세요!\n",
      "<<<<<<< 최종 답변 >>>>>>\n"
     ]
    }
   ],
   "source": [
    "# 질의에 대한 답변을 스트리밍으로 출력 요청\n",
    "response = agent_with_chat_history.stream(\n",
    "    {\n",
    "        \"input\": \"비트코인 투자에 관련한 최신 뉴스 5개를 검색해서 이메일의 본문으로 작성해줘. \"\n",
    "        \"수신인에는 `워렛버핏 투자자님` 그리고, 발신인에는 내 인적정보를 적어줘.\"\n",
    "        \"급한 업무니 빠르게 답변부탁드린다고 전해주고, 정중한 어조로 작성하고, 메일의 시작과 끝에는 적절한 인사말과 맺음말을 적어줘.\"\n",
    "    },\n",
    "    # session_id 설정\n",
    "    config={\"configurable\": {\"session_id\": \"251202history\"}},\n",
    ")\n",
    "\n",
    "# 출력 확인\n",
    "for step in response:\n",
    "    agent_stream_parser.process_agent_steps(step)"
   ]
  },
  {
   "cell_type": "markdown",
   "metadata": {},
   "source": [
    "세션 아이디가 바뀌면 기억하지 못합니다. 아래 예시입니다."
   ]
  },
  {
   "cell_type": "code",
   "execution_count": 44,
   "metadata": {},
   "outputs": [
    {
     "name": "stdout",
     "output_type": "stream",
     "text": [
      "<<<<<<< 최종 답변 >>>>>>\n",
      "죄송하지만, 당신의 이름을 알 수 있는 정보가 없습니다. 당신의 이름을 알려주시면 좋겠습니다!\n",
      "<<<<<<< 최종 답변 >>>>>>\n"
     ]
    }
   ],
   "source": [
    "# 질의에 대한 답변을 스트리밍으로 출력 요청\n",
    "response = agent_with_chat_history.stream(\n",
    "    {\"input\": \"내 이름이 뭐야?\"},\n",
    "    # session_id 설정\n",
    "    config={\"configurable\": {\"session_id\": \"def456\"}},\n",
    ")\n",
    "\n",
    "# 출력 확인\n",
    "for step in response:\n",
    "    agent_stream_parser.process_agent_steps(step)"
   ]
  }
 ],
 "metadata": {
  "kernelspec": {
   "display_name": "langchain-note-2024-PFhCXHTX-py3.12",
   "language": "python",
   "name": "python3"
  },
  "language_info": {
   "codemirror_mode": {
    "name": "ipython",
    "version": 3
   },
   "file_extension": ".py",
   "mimetype": "text/x-python",
   "name": "python",
   "nbconvert_exporter": "python",
   "pygments_lexer": "ipython3",
   "version": "3.12.7"
  }
 },
 "nbformat": 4,
 "nbformat_minor": 2
}
