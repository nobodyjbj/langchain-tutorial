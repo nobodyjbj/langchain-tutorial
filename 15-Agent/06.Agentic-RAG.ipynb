{
 "cells": [
  {
   "cell_type": "code",
   "execution_count": 18,
   "metadata": {},
   "outputs": [
    {
     "data": {
      "text/plain": [
       "True"
      ]
     },
     "execution_count": 18,
     "metadata": {},
     "output_type": "execute_result"
    }
   ],
   "source": [
    "from dotenv import load_dotenv\n",
    "import sys\n",
    "\n",
    "sys.path.append(\"../common\")\n",
    "load_dotenv()"
   ]
  },
  {
   "cell_type": "code",
   "execution_count": 19,
   "metadata": {},
   "outputs": [
    {
     "name": "stdout",
     "output_type": "stream",
     "text": [
      "Langsmith 추적이 활성화되었습니다. [프로젝트명: 15.Agent, Agentic RAG]\n"
     ]
    }
   ],
   "source": [
    "import os\n",
    "from langsmith_tracker import set_tracking\n",
    "from langchain_print import stream_response\n",
    "from multimodal import MultiModal\n",
    "from tools_news import GoogleNews\n",
    "\n",
    "# 인스턴스를 생성할 때 필요한 매개변수를 전달합니다.\n",
    "set_tracking(project_name=\"15.Agent, Agentic RAG\")"
   ]
  },
  {
   "cell_type": "markdown",
   "metadata": {},
   "source": [
    "### Agentic RAG\n",
    "\n",
    "Agent 로 RAG 를 진행합니다.  \n",
    "예를 들면, 파일시스템을 사용하여 파일의 내용을 보정하거나 csv 데이터를 활용하여 데이터 분석을 하기도 합니다.  \n",
    "이메일 자동 답변 에이전트, 이메일 발송 등의 에이전트 구현이 가능합니다. 이외에도 사용자가 원하는 에이전트를 구현 할 수 있게 합니다.  \n",
    "  \n",
    "Agent RAG를 사용하면 `LLM + 도구` 를 사용한다는 점이 기존의 RAG 와는 다른 점입니다. (Agent RAG가 이점은 있지만 모든 상황에서 유리한 것은 아닙니다. RAG만 사용해도 될 경우는 RAG만 사용하는 것이 좋습니다.)  \n",
    "예를 들면, retirever(검색기) + (웹검색 + 코드작성 + ...)  "
   ]
  },
  {
   "cell_type": "markdown",
   "metadata": {},
   "source": [
    "#### 예제\n",
    "웹검색 도구, 코드 생성 도구를 사용하여 Agent RAG 를 구현합니다."
   ]
  },
  {
   "cell_type": "markdown",
   "metadata": {},
   "source": [
    "#### 웹 검색 도구"
   ]
  },
  {
   "cell_type": "code",
   "execution_count": 28,
   "metadata": {},
   "outputs": [],
   "source": [
    "from langchain_community.tools.tavily_search import TavilySearchResults\n",
    "\n",
    "# search 라는 변수로 TavilySearchResults를 선언\n",
    "# k : 검색 결과 수\n",
    "search = TavilySearchResults(name=\"web_search\", k=5)"
   ]
  },
  {
   "cell_type": "markdown",
   "metadata": {},
   "source": [
    "`search.invoke()` 함수는 주어진 문자열에 대한 검색을 실행합니다.  "
   ]
  },
  {
   "cell_type": "code",
   "execution_count": 9,
   "metadata": {},
   "outputs": [
    {
     "data": {
      "text/plain": [
       "[{'url': 'https://kgon.tistory.com/entry/2024년-스타벅스-프리퀀시-적립-방법과-팁-2025플래너-캘린더-포터블-램프-24-WINTER-e-FREQUENCY-STARBUCKS-PORTABLE-LAMP-크리스마스-프로모션-음료-3잔-리저브-카테고리-음료',\n",
       "  'content': '2024년 스타벅스 프리퀀시 적립 방법과 팁 - 2025플래너 캘린더 포터블 램프 ( 24 winter e-frequency ) ( starbucks portable lamp ) [ 크리스마스 프로모션 음료 3잔 + 리저브 카테고리 음료 ]1. ... • 품절 대비: 프리퀀시 기획 상품은 조기 품절이 될 수 있으니, 빠르게 교환하는'},\n",
       " {'url': 'https://m.blog.naver.com/kmin046/223665366076',\n",
       "  'content': '(스타벅스) 2024년 스벅 겨울 e-프리퀀시 쉽게 모으기 (프리퀀시 소개/팁, 방법/예약/후기) ... 이번에 스타벅스 e-프리퀀시의 상품은 저도 아주 탐이 나더라구요! ... #스타벅스 #스타벅스프리퀀시 #스타벅스e #스타벅스e프리퀀시 #스벅 #스벅프리퀀시 #스타벅스'},\n",
       " {'url': 'https://thanksposting.com/entry/2024-스타벅스-프리퀀시-겨울-증정품-8종플래너-캘린더-포터블램프',\n",
       "  'content': '2024년 스타벅스 겨울 e-프리퀀시 이벤트가 돌아왔습니다! 올해는 어떤 증정품들이 준비되어 있는지 확인해 보겠습니다. 프리퀀시 참여 방법에 대한 정보도 함께 공유하겠습니다. ≣ 목차 e-프리퀀시 증정품 소개 ☑️2024 겨울 e-프리퀀시 증정품과 디지털 혜택 이번 겨울 시즌 e-프리퀀시는 오랜 시간'},\n",
       " {'url': 'https://m.post.naver.com/viewer/postView.naver?volumeNo=39791101&memberNo=25041664',\n",
       "  'content': \"스타벅스 코리아가 11월 1일부터 12월 31일까지 특별한 매일의 순간을 함께 할 '2024 겨울 e-프리퀀시' 이벤트를 진행한다. ... 전속의 2024년 포브스코리아가 선정한 30세 미만 30인(ART)에 이름을 올린 이희조 작가와 협업하여, '커피 모먼트'를 주제로 13개의\"},\n",
       " {'url': 'https://namthink.com/entry/2024-겨울-스타벅스-프리퀀시-이벤트-참여방법-증정품-예약방법',\n",
       "  'content': '2. 2024 겨울 스타벅스 프리퀀시 증정품 소개 . 가장 궁금한건 바로 2024 윈터 프리퀀시 증정품 입니다. 이번 증정품은 3가지 종류로 진행 된다고 하는데요, 가장 먼저 매년 빠지지 않는 플래너, 최근 반응이 좋은 캘린더, 그리고 올해 스페셜 증정품으로 바로 포터블 램프가 포함되었습니다.'}]"
      ]
     },
     "execution_count": 9,
     "metadata": {},
     "output_type": "execute_result"
    }
   ],
   "source": [
    "search.invoke(\"2024년 스타벅스 프리퀀시 상품은 무엇인가요?\")"
   ]
  },
  {
   "cell_type": "markdown",
   "metadata": {},
   "source": [
    "### 문서 기반 문서 검색 도구 : Retriever\n",
    "\n",
    "예제에 사용할 문서는 data 폴더 하위에 넣습니다.   \n",
    "  \n",
    "아래 예제 코드는 웹 기반 문서 로더, 문서 분할기, 벡터 저장소, 그리고 OpenAI 임베딩을 사용하여 문서 검색 기능을 구축합니다.  \n",
    "PDF 문서를 FAISS 메모리 저장소에 저장하고 조회하는 retirever를 생성합니다."
   ]
  },
  {
   "cell_type": "code",
   "execution_count": 10,
   "metadata": {},
   "outputs": [],
   "source": [
    "from langchain_text_splitters import RecursiveCharacterTextSplitter\n",
    "from langchain_community.vectorstores import FAISS\n",
    "from langchain_openai import OpenAIEmbeddings\n",
    "from langchain.document_loaders import PyPDFLoader\n",
    "\n",
    "# PDF 파일 로드\n",
    "loader = PyPDFLoader(\"./data/IS-183_AI 위험 유형 및 사례 분석(최종).pdf\")\n",
    "\n",
    "# 텍스트 분할기 선언\n",
    "text_splitter = RecursiveCharacterTextSplitter(chunk_size=1000, chunk_overlap=100)\n",
    "\n",
    "# 문서 로드 후 분할\n",
    "split_docs = loader.load_and_split(text_splitter)\n",
    "\n",
    "# VectorStore 생성\n",
    "vector = FAISS.from_documents(documents=split_docs, embedding=OpenAIEmbeddings())\n",
    "\n",
    "# Retriever 생성\n",
    "retriever = vector.as_retriever()"
   ]
  },
  {
   "cell_type": "markdown",
   "metadata": {},
   "source": [
    "`retiriever.invoke()` 함수를 사용하여 사용자의 질문에 대해 **가장 관련성이 높은 문서**를 찾습니다."
   ]
  },
  {
   "cell_type": "code",
   "execution_count": 11,
   "metadata": {},
   "outputs": [
    {
     "data": {
      "text/plain": [
       "[Document(metadata={'source': './data/IS-183_AI 위험 유형 및 사례 분석(최종).pdf', 'page': 28}, page_content='47 과학기술정보통신부 (2024.10), “AI안전연구소 설립·운영계획”, 보도자료'),\n",
       " Document(metadata={'source': './data/IS-183_AI 위험 유형 및 사례 분석(최종).pdf', 'page': 21}, page_content='ㅇ KB국민, 하나, 신한은행 등 금융 분야를 비롯하여 다양한 분야에서의 AI 상담 서비스(콜센터)의 도입으로 AI가 상담사의 역할을 대체 (2024.2.17)38ㅇ 개발자의 단순 코딩 업무 대체, 제조 분야에서의 공정 자동화, 문서 작성 등 AI는 높은 생산성을 제공하여 사람보다 더 효율적인 작업이 가능 (2024.2.17)ㅇ 포스코는 무인로봇·비전AI 등을 활용한 공정 자동화로 인텔리전트 팩토리로의 전환을 실현하여 최소한의 인력만 유지39 (2024.6.18)사진: American Banker(2018)40■(글로벌AI\\x00격차)\\x00고급AI\\x00개발자원의보유여부에따른국가간격차발생●고급 AI 개발을 위한 다양한 필요조건들로 인해 AI 빅테크 기업들의 지배력 확대∙디지털 기술 활용률, 컴퓨팅 자원 접근성, 인프라, 경제적 의존도 등은 범용 AI 개발 및 배포에 있어 중요한 요소로서, 이로 인해 범용 AI의 개발은 현재 서구 국가 및 중국에 집중된 경향*특히 미국에 기반을 둔 소수 기업들이 시장을 선도하며, 가치 및 문화 편향, 공급망 불평등 등 글로벌 격차가 야기되는 상황∙숙련된 인재 집중도의 불균형과 개발 및 유지에 드는 막대한 재정적 비용은 글로벌 AI 격차를 더욱 심화●AI에 관한 연구는 미국과 중국이 주도하고 있으며, 주요 AI 선도국들은 연구 및 자원 보유 여부에 따라 AI 산업의 영향력을 보유∙기계 학습 모델 개발은 미국, 캐나다, 영국 및 중국 등 일부 국가에 집중되어 있고, 대규모 언어 및 멀티모달 모델의 절반 이상은 미국에서 개발 중인 상황∙평균 임금이 낮은 저소득 국가의 근로자들은 상대적으로 낮은 수준의 AI 작업(ghost work)*을 수행*AI 훈련을 위한 인간 피드백, 데이터 수요 증가에 따른 콘텐츠 교정, 데이터 라벨링 등 노동집약적 업무■(시장집중및단일장애점)\\x00소수기업으로의시장집중,\\x00결함으로인한광범위한피해가능성●최첨단 AI 모델 개발을 위해서는 막대한 초기 비용이 요구되어 높은 진입 장벽을 형성∙대규모의 범용 AI 모델을 구축할 수 있는'),\n",
       " Document(metadata={'source': './data/IS-183_AI 위험 유형 및 사례 분석(최종).pdf', 'page': 19}, page_content='ㅇ LLM에 의해 생성된 추천서(recommendation letters)에서 언어 스타일이나 허위 등에서 성별 간 차이가 발생30ㅇ 생성 AI가 만든 이미지에서 장애에 대한 사회적 고정관념이 표현하는 경향31(예) 프롬프트에 “장애가 있는 사람, 사진(a person with a disability, photo)”을 요청하였을 때의 결과로, 장애인이 앉은 상태에서 어떤 활동에 참여하지 않으며 텅 빈 도로를 바라보는 모습으로 수동적이고 외롭게 묘사●편향을 해결하는 방안으로 사용자 피드백에 의한 강화학습( Reinforcement Learning from Human Feedback, RLHF)이 제안되고 있으나, 사용자의 피드백이 일관적이지 않은 문제로 인해 야기되는 편향성이 높아 이와 관련한 더 많은 연구를 요구■(통제력상실)\\x00잠재적인미래시나리오로AI\\x00모델이통제되지않는위험에대한우려●AI 에이전트의 개발 속도가 빨라짐에 따라, 의도하지 않은 결과로 인해 발생하는 위험에 대한 우려 목소리가 증가∙AI 시스템에게 국방, 공공 정책 등 중요한 책임과 의사결정을 맡겼을 때, 인간이 과도하게 AI 시스템에 의존함에 따라 통제 및 감독의 어려움이 발생할 가능성 존재∙중요 분야에서 AI 기술 기반 의사결정 지원 시스템을 도입하였을 때, AI의 재량권과 인간의 통제 정도를 분석하여 인간의 책임 범위에 대해 중요하게 고려해야 함32(사례9) 국방 분야에서 AI의 통제력 상실 사례'),\n",
       " Document(metadata={'source': './data/IS-183_AI 위험 유형 및 사례 분석(최종).pdf', 'page': 23}, page_content='ㅇ 주요 AI 모델 저작권 침해 평가에 따르면, 오픈AI의 GPT-4가 100개의 의도적 프롬프트에 대해 44%의 답변에서 책 내용을 정확하게 복제한 내용 생성 (2024.3)ㅇ 엔비디아의 생성 AI 플랫폼 ‘네모’가 소설 저작권을 침해했다고 기소하는 등 데이터 저작권에 대한 분쟁 확대 (2024.3)ㅇ 미국 저작권청은 미드저니를 통해 생성한 작품인 ‘새벽의 자리야’는 작품 자체에 대한 저작권은 인정하지 않고, AI로 만든 이미지와 텍스트를 조정한 것에 대해서만 인정 (2023.9)\\n43 Nasr 외(2023.11), Scalable Extraction of Training D ata from  (Production) Language M odels, arXiv:2311.17035v1')]"
      ]
     },
     "execution_count": 11,
     "metadata": {},
     "output_type": "execute_result"
    }
   ],
   "source": [
    "# 문서에서 관련성 높은 문서 찾기\n",
    "retriever.invoke(\"네이버가 개발하 생성형 AI 관련 내용을 문서에서 찾아주세요.\")"
   ]
  },
  {
   "cell_type": "markdown",
   "metadata": {},
   "source": [
    "위에 만든 `retirever`를 도구로 변환시키기 위해 `create_retriever_tool()` 함수를 사용합니다."
   ]
  },
  {
   "cell_type": "code",
   "execution_count": 26,
   "metadata": {},
   "outputs": [],
   "source": [
    "from langchain.tools.retriever import create_retriever_tool\n",
    "\n",
    "retriever_tool = create_retriever_tool(retriever, name=\"pdf_search\", description=\"use this tool to search in a pdf file\") # 도구에 대한 설명을 자세히 기입!!"
   ]
  },
  {
   "cell_type": "markdown",
   "metadata": {},
   "source": [
    "#### Agent가 사용할 도구 목록 정의\n",
    "\n",
    "두 가지 도구를 생성했으므로, Agent 가 사용할 도구 목록(tools)을 생성합니다.  \n",
    "`tools` 라는 리스트는 `search` 와 `retrieval` 을 포함합니다.  "
   ]
  },
  {
   "cell_type": "code",
   "execution_count": 27,
   "metadata": {},
   "outputs": [],
   "source": [
    "# tools 라는 list 형 변수에 search와 retrieval_tool 넣음\n",
    "tools = [search, retriever_tool]"
   ]
  },
  {
   "cell_type": "markdown",
   "metadata": {},
   "source": [
    "### Agent 생성\n",
    "\n",
    "Agent가 사용할 도구가 생성되었으니 Agent를 구현할 차례입니다.  \n",
    "Agent 는 LLM + Tools + Prompt 이기 때문에 이제 LLM과 Prompt 를 정의할 일이 남아있습니다.  \n",
    "LLM을 생성하고 Prompt를 정의합니다.  "
   ]
  },
  {
   "cell_type": "code",
   "execution_count": 45,
   "metadata": {},
   "outputs": [],
   "source": [
    "from langchain_openai import ChatOpenAI\n",
    "from langchain.prompts import ChatPromptTemplate\n",
    "\n",
    "# LLM 생성\n",
    "llm = ChatOpenAI(model=\"gpt-4o-mini\", temperature=0)\n",
    "\n",
    "# Prompt 정의\n",
    "prompt = ChatPromptTemplate.from_messages(\n",
    "    [\n",
    "        (\n",
    "            \"system\", \n",
    "            \"You are a helpful assistant. \"\n",
    "            \"Make sure to use the `pdf_search` tool for searching information form the PDF document.\"\n",
    "            \"If you can't find the exact iinformation from the PDF document, please use the `web_search` tool for searching information form the web.\"\n",
    "        ),\n",
    "        (\"placeholder\", \"{chat_history}\"),\n",
    "        (\"user\", \"{user_input}\"),\n",
    "        (\"placeholder\", \"{agent_scratchpad}\"),\n",
    "    ]\n",
    ")"
   ]
  },
  {
   "cell_type": "markdown",
   "metadata": {},
   "source": [
    "다음으로 LLM 에 tools 를 바인딩하는 `Tool Calling Agent` 를 생성합니다.  \n",
    "이 단계에서 Agent가 생성되는 것 입니다."
   ]
  },
  {
   "cell_type": "code",
   "execution_count": 41,
   "metadata": {},
   "outputs": [],
   "source": [
    "from langchain.agents import create_tool_calling_agent\n",
    "\n",
    "# Agent 생성, tool calling agent\n",
    "agent = create_tool_calling_agent(llm, tools, prompt)"
   ]
  },
  {
   "cell_type": "markdown",
   "metadata": {},
   "source": [
    "생성된 Agent를 실행하기 위해서는 `AgentExecutor` 가 필요합니다.  \n",
    "`AgentExecutor` 를 생성합니다. "
   ]
  },
  {
   "cell_type": "code",
   "execution_count": 42,
   "metadata": {},
   "outputs": [],
   "source": [
    "from langchain.agents.agent import AgentExecutor \n",
    "\n",
    "# AgentExecutor 생성\n",
    "agent_executor = AgentExecutor(agent=agent, tools=tools, verbose=False) # verbose 는 중간단계 출력을 위한 설정 값"
   ]
  },
  {
   "cell_type": "markdown",
   "metadata": {},
   "source": [
    "#### Agent 실행 하기\n",
    "\n",
    "몇 가지 질의에 대해 에이전트를 실행할 수 있습니다.  \n",
    "현재 이러한 셀에서 작성한 모든 에이전트는 **상태(Stateless)가 없는 질의**입니다. 이전 상호작용을 기억하지 않습니다.  \n",
    "  \n",
    "\n",
    "agent_executors는 invoke(), stream() 함수를 통해 딕셔너리 인자를 받아 실행합니다.  "
   ]
  },
  {
   "cell_type": "code",
   "execution_count": 20,
   "metadata": {},
   "outputs": [],
   "source": [
    "from langchain_print import AgentStreamParser\n",
    "\n",
    "# 각 단계별 출력을 위한 파서 생성\n",
    "agent_stream_parser = AgentStreamParser()"
   ]
  },
  {
   "cell_type": "markdown",
   "metadata": {},
   "source": [
    "아래는 web_search 도구를 선택할만한 질의를 한 예제입니다."
   ]
  },
  {
   "cell_type": "code",
   "execution_count": 46,
   "metadata": {},
   "outputs": [
    {
     "name": "stdout",
     "output_type": "stream",
     "text": [
      "[도구 호출]\n",
      "Tool: tavily_search_results_json\n",
      "query: 스타벅스 2024년 winter 프리퀀시 미션음료 증정품\n",
      "Log: \n",
      "Invoking: `tavily_search_results_json` with `{'query': '스타벅스 2024년 winter 프리퀀시 미션음료 증정품'}`\n",
      "\n",
      "\n",
      "\n",
      "[관찰 내용]\n",
      "Observation: [{'url': 'https://m.post.naver.com/viewer/postView.naver?volumeNo=40042593&memberNo=1758487', 'content': '2024년 스타벅스 겨울 프리퀀시 이벤트 증정품 3개 및 미션음료 참가방법 ... 스타벅스 2024 winter e-frequency 이벤트는 11월 1일부터 12월 31일까지 진행됩니다. 겨울 시즌 동안 따뜻한 스타벅스 음료와 함께 특별한 증정품을 즐기며 추운 겨울을 감성적으로 보내 보세요.'}, {'url': 'https://hobakkoong.tistory.com/163', 'content': '2024년 스타벅스 윈터 e-프리퀀시 (증정품- 다이어리, 캘린더, 펜), 미션음료 종류 *구성 : 스타벅스 데일리 플래너 2종 - 카멜, 샌드\\xa0 \\xa0 \\xa0 \\xa0 \\xa0 스타벅스 언데이티드 플래너 1종 - 블랙\\xa0이번 2024년 스타벅스 다이어리에는 음료 지류쿠폰이\\xa0포함되어 있지 않다고 하네요(증정용only)\\xa011월2일부터 6일까지 5일간 더블 플래너이벤트도 진행한다고 합니다. ♣ e-프리퀀시 이벤트 유의사항 ◎ 참여방법 : 스타벅스 모바일 APP 또는 홈페이지(PC 또는 모바일)에 등록된 e-프리퀀시 바코드 화면또는 스타벅스 카드를 매장파트너에게 제시하시면제조 음료 구매시 e-스티커를 적립가능\\xa0◎ 2024년 1월 1일부터 사용하지 않은 e-프리퀀시\\xa0증정품 교환 e-쿠폰, e-스티커, 예약확인증은모두 소멸됩니다. ◎\\xa0 당일예약(예약 완료일과 수령일이 동일한 경우)에 한해 매장 영업 종료1시간까지 예약취소 가능\\xa0◎\\xa0 매장 영업 종료시간을 기준으로 수령일에증정품 미수령(NO SHOW)시, 예약이 취소되며다음날로부터 7일간 증정품 예약이 불가\\xa0\\xa0◎ 증정품 예약일자는 상이할 수 있으며, 증정품의색상 및 품목 관계없이 계정당 7일간 최대 5까지예약 가능!'}, {'url': 'https://kinddesertfox.tistory.com/entry/2024-스타벅스-겨울-e-프리퀀시11-1-12-31-증정품을-받으려면', 'content': '2024 스타벅스 겨울 e-프리퀀시(11. 2024 스타벅스 겨울 e-프리퀀시(11. 2024 스타벅스 겨울 e-프리퀀시 2024 겨울 스타벅스 프리퀀시 이벤트가 돌아왔습니다. 이번 겨울시즌에도 프리퀀시 증정품이 알차게 구성되어 있습니다.미션음료 3잔과 제조 음료 17잔을 사이렌오더나 매장에서 구매한 후 e-스티커 적립을 완성한 고객에게 증정품을 줍니다. 2024 스타벅스 겨울 e-프리퀀시 기간 2024 스타벅스 겨울 e-프리퀀시 증정품 ● 스타벅스 2025 플래너 글로벌 필기앱 굿노트(Good Notes)와 겨울 e-프리퀀시 최초로 선보이는 것으로 스타벅스 앱을 통해 증정됩니다. 스타벅스 e-프리퀀시 스티커 모으는 방법 프리퀀시 이벤트 참여 시 스타벅스 어플 다운로드하여 설치한 후 스타벅스 회원가입을 해야 합니다. 스타벅스 어플 중앙에 e-Frequency라고 있는데 이벤트 기간에 확인이 가능합니다. 프리퀀시 이벤트기간에 스티커를 다 모아서 스타벅스 앱에서 증정품 예약하기를 클릭한 후 상품을 선택하고 매장을 선택한 뒤 매장에서 증정품을 받으시면 됩니다. ● 예약 : 스타벅스 앱 내\\xa0예약시스템에서\\xa0참여'}, {'url': 'https://namthink.com/entry/2024-겨울-스타벅스-프리퀀시-이벤트-참여방법-증정품-예약방법', 'content': '2024 겨울 스타벅스 프리퀀시 이벤트, 참여방법, 증정품, 예약방법 2024 겨울 스타벅스 프리퀀시 이벤트, 참여방법, 증정품, 예약방법 그러면 지금부터 2024년 겨울 스타벅스 프리퀀시 이벤트 참여방법과 증정품 소개 그리고 증정품 예약방법까지 총정리 해보겠습니다. 2024 겨울 스타벅스 프리퀀시 증정품 소개\\xa03. 스타벅스 프리퀀시 증정품 예약방법 상세안내 참여방법은 스타벅스 모바일 APP 또는 홈페이지(PC 및 모바일)에 등록된 e-프리퀀시 바코드 화면 또는 스타벅스 카드를 매장 파트너에게 제시하면 제조 음료 구매 시, e-스티커를 적립할 수 있습니다. 저도 11월이 되고 스타벅스 앱에 들어가보니 프리퀀시 페이지가 상단에 자동으로 생성되어 있었는데요, 누르면 적립 가능한 바코드가 보여지니 바로 적립하실 수 있습니다. 2. 2024 겨울 스타벅스 프리퀀시 증정품 소개 MOLESKINE과 함께 만든 스타벅스 플래너는 매년 빠지지 않은 증정품으로 프리퀀시 증정품의 원조라고 할 수 있습니다. 3. 스타벅스 프리퀀시 증정품 예약방법 상세안내'}, {'url': 'https://m.blog.naver.com/peach_planet_/223640872810', 'content': '2024 스타벅스 신메뉴와 프리퀀시 정보와 꿀팁 그리고 주의사항까지 : 네이버 블로그 2024 스타벅스 신메뉴와 프리퀀시 정보와 꿀팁 그리고 주의사항까지 윈터 프리퀀시 이벤트에 대한 정보와 꿀팁 그리고 스타벅스 윈터 e-프리퀀시 기간 스타벅스 윈터 프리퀀시 기간은 스타벅스 윈터 e-프리퀀시 정보 스타벅스 윈터 e-프리퀀시 미션 음료 논알코올홀리데이패션티뱅쇼 영양정보입니다 아이스 논알코올홀리데이패션티뱅쇼 영양정보입니다 골든캐모마일릴렉서 영양정보입니다 스타벅스 딸기라떼 영양정보입니다 토피넛라떼 영양정보입니다 아이스 토피넛라떼 영양정보입니다 스타벅스 윈터 프리퀀시 증정품 ● 몰스킨과 함께 만든 스타벅스 플래너 3종 스타벅스 프리퀀시 플래너 수령 고객 대상으로 ● 이희조 작가님과 함께 만든 스타벅스 2025 캘린더 다양하게 활용이 가능합니다 ● 보나키아와 함께 만든 스타벅스 포터블램프 스타벅스 프리퀀시 하루만에 완성하는 꿀팁 스타벅스 에스프레소 14잔을 개인컵사용을 체크해서 하루만에 프리퀀시 완성이 가능합니다 ! 스타벅스 겨울 디저트 신메뉴 #스타벅스2024 {\"title\":\"2024 스타벅스 신메뉴와 프리퀀시 정보와 꿀팁 그리고 주의사항까지\",\"source\":\"https://blog.naver.com/peach_planet_/223640872810\",\"blogName\":\"피치 플래..\",\"blogId\":\"718004\",\"domainIdOrBlogId\":\"peach_planet_\",\"nicknameOrBlogId\":\"피치\",\"logNo\":223640872810,\"smartEditorVersion\":4,\"meDisplay\":true,\"lineDisplay\":true,\"outsideDisplay\":false,\"cafeDisplay\":true,\"blogDisplay\":true}'}]\n",
      "[최종 답변]\n",
      "2024년 스타벅스 겨울 프리퀀시 이벤트는 11월 1일부터 12월 31일까지 진행됩니다. 이 이벤트에 참여하기 위해서는 미션 음료 3잔과 제조 음료 17잔을 구매하여 e-스티커를 적립해야 합니다.\n",
      "\n",
      "### 미션 음료\n",
      "미션 음료의 종류는 다음과 같습니다:\n",
      "- 토피넛 라떼\n",
      "- 딸기 라떼\n",
      "- 골든 캐모마일 릴렉서\n",
      "\n",
      "### 증정품\n",
      "2024년 겨울 프리퀀시 이벤트의 증정품은 다음과 같습니다:\n",
      "1. **스타벅스 2025 플래너** (MOLESKINE과 협업)\n",
      "2. **스타벅스 캘린더** (이희조 작가와 협업)\n",
      "3. **스타벅스 포터블 램프** (보나키아와 협업)\n",
      "\n",
      "이 외에도 이벤트 참여 방법은 스타벅스 모바일 앱 또는 홈페이지에서 e-프리퀀시 바코드를 제시하여 음료를 구매하고 스티커를 적립하는 방식입니다.\n"
     ]
    }
   ],
   "source": [
    "\n",
    "# AgentExecutor 실행\n",
    "result = agent_executor.stream(\n",
    "    {\n",
    "        \"user_input\": \"스타벅스의 2024년 winter 프리퀀시의 미션음료와 증정품은 무엇인가요?\"\n",
    "    } # 구어체로 input을 주어도 아래 query 를 확인하면 정확한 키워드를 찾아서 검색을 시도\n",
    ")\n",
    "\n",
    "for step in result:\n",
    "    # 중간 단계를 parser 를 사용하여 단계별 출력\n",
    "    agent_stream_parser.process_agent_steps(step)"
   ]
  },
  {
   "cell_type": "markdown",
   "metadata": {},
   "source": [
    "아래는 pdf_search 도구를 선택할만한 질의를 한 예제입니다."
   ]
  },
  {
   "cell_type": "code",
   "execution_count": 48,
   "metadata": {},
   "outputs": [
    {
     "name": "stdout",
     "output_type": "stream",
     "text": [
      "[도구 호출]\n",
      "Tool: pdf_search\n",
      "query: 네이버 생성형 AI\n",
      "Log: \n",
      "Invoking: `pdf_search` with `{'query': '네이버 생성형 AI'}`\n",
      "\n",
      "\n",
      "\n",
      "[관찰 내용]\n",
      "Observation: ㅇ 주요 AI 모델 저작권 침해 평가에 따르면, 오픈AI의 GPT-4가 100개의 의도적 프롬프트에 대해 44%의 답변에서 책 내용을 정확하게 복제한 내용 생성 (2024.3)ㅇ 엔비디아의 생성 AI 플랫폼 ‘네모’가 소설 저작권을 침해했다고 기소하는 등 데이터 저작권에 대한 분쟁 확대 (2024.3)ㅇ 미국 저작권청은 미드저니를 통해 생성한 작품인 ‘새벽의 자리야’는 작품 자체에 대한 저작권은 인정하지 않고, AI로 만든 이미지와 텍스트를 조정한 것에 대해서만 인정 (2023.9)\n",
      "43 Nasr 외(2023.11), Scalable Extraction of Training D ata from  (Production) Language M odels, arXiv:2311.17035v1\n",
      "\n",
      "ㅇ KB국민, 하나, 신한은행 등 금융 분야를 비롯하여 다양한 분야에서의 AI 상담 서비스(콜센터)의 도입으로 AI가 상담사의 역할을 대체 (2024.2.17)38ㅇ 개발자의 단순 코딩 업무 대체, 제조 분야에서의 공정 자동화, 문서 작성 등 AI는 높은 생산성을 제공하여 사람보다 더 효율적인 작업이 가능 (2024.2.17)ㅇ 포스코는 무인로봇·비전AI 등을 활용한 공정 자동화로 인텔리전트 팩토리로의 전환을 실현하여 최소한의 인력만 유지39 (2024.6.18)사진: American Banker(2018)40■(글로벌AI\u0000격차)\u0000고급AI\u0000개발자원의보유여부에따른국가간격차발생●고급 AI 개발을 위한 다양한 필요조건들로 인해 AI 빅테크 기업들의 지배력 확대∙디지털 기술 활용률, 컴퓨팅 자원 접근성, 인프라, 경제적 의존도 등은 범용 AI 개발 및 배포에 있어 중요한 요소로서, 이로 인해 범용 AI의 개발은 현재 서구 국가 및 중국에 집중된 경향*특히 미국에 기반을 둔 소수 기업들이 시장을 선도하며, 가치 및 문화 편향, 공급망 불평등 등 글로벌 격차가 야기되는 상황∙숙련된 인재 집중도의 불균형과 개발 및 유지에 드는 막대한 재정적 비용은 글로벌 AI 격차를 더욱 심화●AI에 관한 연구는 미국과 중국이 주도하고 있으며, 주요 AI 선도국들은 연구 및 자원 보유 여부에 따라 AI 산업의 영향력을 보유∙기계 학습 모델 개발은 미국, 캐나다, 영국 및 중국 등 일부 국가에 집중되어 있고, 대규모 언어 및 멀티모달 모델의 절반 이상은 미국에서 개발 중인 상황∙평균 임금이 낮은 저소득 국가의 근로자들은 상대적으로 낮은 수준의 AI 작업(ghost work)*을 수행*AI 훈련을 위한 인간 피드백, 데이터 수요 증가에 따른 콘텐츠 교정, 데이터 라벨링 등 노동집약적 업무■(시장집중및단일장애점)\u0000소수기업으로의시장집중,\u0000결함으로인한광범위한피해가능성●최첨단 AI 모델 개발을 위해서는 막대한 초기 비용이 요구되어 높은 진입 장벽을 형성∙대규모의 범용 AI 모델을 구축할 수 있는\n",
      "\n",
      "ㅇ LLM에 의해 생성된 추천서(recommendation letters)에서 언어 스타일이나 허위 등에서 성별 간 차이가 발생30ㅇ 생성 AI가 만든 이미지에서 장애에 대한 사회적 고정관념이 표현하는 경향31(예) 프롬프트에 “장애가 있는 사람, 사진(a person with a disability, photo)”을 요청하였을 때의 결과로, 장애인이 앉은 상태에서 어떤 활동에 참여하지 않으며 텅 빈 도로를 바라보는 모습으로 수동적이고 외롭게 묘사●편향을 해결하는 방안으로 사용자 피드백에 의한 강화학습( Reinforcement Learning from Human Feedback, RLHF)이 제안되고 있으나, 사용자의 피드백이 일관적이지 않은 문제로 인해 야기되는 편향성이 높아 이와 관련한 더 많은 연구를 요구■(통제력상실)\u0000잠재적인미래시나리오로AI\u0000모델이통제되지않는위험에대한우려●AI 에이전트의 개발 속도가 빨라짐에 따라, 의도하지 않은 결과로 인해 발생하는 위험에 대한 우려 목소리가 증가∙AI 시스템에게 국방, 공공 정책 등 중요한 책임과 의사결정을 맡겼을 때, 인간이 과도하게 AI 시스템에 의존함에 따라 통제 및 감독의 어려움이 발생할 가능성 존재∙중요 분야에서 AI 기술 기반 의사결정 지원 시스템을 도입하였을 때, AI의 재량권과 인간의 통제 정도를 분석하여 인간의 책임 범위에 대해 중요하게 고려해야 함32(사례9) 국방 분야에서 AI의 통제력 상실 사례\n",
      "\n",
      "SPRi\u0000이슈리포트IS-183 AI\u0000위험유형및사례분석\n",
      "13\n",
      "(사례4) 이스라엘-하마스 갈등 허위정보 확산ㅇ 이스라엘-하마스 갈등과 관련하여 아이 앞에 폭격된 집, 이스라엘 난민을 위한 임시 텐트, 팔레스타인을 지지하는 사진 등 허위 정보가 담긴 생성 AI 이미지가 확산 (2023.10.24)21 \n",
      "●챗GPT 등 생성 AI를 활용하여 생산된 허위 사실은 소셜 미디어의 가짜 계정을 통해 대량 배포∙Yang & Menczer (2023)의 연구에 따르면 Twitter에 존재하는 악성 소셜 봇 계정 1,140개를 통해 의심스러운 웹사이트를 홍보하고 답글과 리트윗으로 유해한 댓글이 확산22■(사이버범죄)\u0000대량의사이버공격을통한보안위험의악화●시스템이 AI에 의해 사이버 보안 공격에 취약하도록 설계되어 사이버 공격에 악용될 우려 제기∙AI를 코딩 보조 도구로 활용했을 때 소프트웨어의 취약성이 발생할 수 있으며, AI가 자율적으로 웹사이트 해킹과 같은 작업을 수행하기도 함(사례5) 생성된 코드의 보안 위험\n",
      "[도구 호출]\n",
      "Tool: tavily_search_results_json\n",
      "query: 네이버 생성형 AI\n",
      "Log: \n",
      "Invoking: `tavily_search_results_json` with `{'query': '네이버 생성형 AI'}`\n",
      "responded: 문서에서 네이버의 생성형 AI에 대한 구체적인 정보는 발견되지 않았습니다. 그러나 생성형 AI와 관련된 여러 이슈와 사례들이 언급되고 있습니다. \n",
      "\n",
      "네이버의 생성형 AI에 대한 정보를 찾기 위해 웹에서 추가 검색을 진행하겠습니다.\n",
      "\n",
      "\n",
      "[관찰 내용]\n",
      "Observation: [{'url': 'https://clova-x.naver.com/welcome', 'content': 'ai 생태계를 확장해 나가는 도전. clova x는 네이버 외부의 생태계와 유기적으로 연동하여 사용자들에게 새롭고 다양한 탐색 사용성을 제공합니다. 가능성을 확장해 나가는 우리의 여정에 함께해 보세요. 비즈니스 제안 문의'}, {'url': 'https://campaign.nbilly.naver.com/navergenerativeai', 'content': 'HyperCLOVA X는 네이버의 초대규모 AI로, 자체 데이터를 HyperCLOVA X와 결합하면 사용자 니즈에 맞는 응답을 즉각 제공할 수 있습니다. 네이버 서비스부터 기업형 서비스까지 다양한 AI 프로덕트를 만들어. 새로운 사용자 경험과 비즈니스 기회를 만들어 갑니다.'}, {'url': 'https://cue.search.naver.com/', 'content': 'Cue:는 새로운 검색 경험을 위해 네이버에서 새롭게 선보이는 AI 검색 서비스입니다. Cue:는 언어 모델에 추론(reasoning), 검색 계획(planning), 도구 사용(tool usage), 검색 기반 생성(retrieval-augmented generation) 기술을 녹여내어 네이버 검색과 결합한 AI 생성형 검색 서비스로써 네이버 버티컬의 정보를 요약하여'}, {'url': 'https://clova.ai/hyperclova', 'content': '* 네이버 사례 ### 캐릭터챗 by 네이버웹툰 네이버웹툰의 캐릭터들과 일상 대화 및 롤플레잉을 할 수 있는 ‘AI 캐릭터챗’에 HyperCLOVA X의 생성형 AI 기술이 활용되었습니다. * 고객 사례 ### AI 에디터 by 가비아CNS 상품명을 입력하면 상품 상세 페이지가 자동으로 만들어지는 ‘AI 에디터’ 문장 생성 기능에 HyperCLOVA X의 생성형 AI 기술이 활용되었습니다. * 해커톤 사례 ### 또랑또랑 by 발표명장 발표 준비에 어려움을 겪는 사용자들을 위한 AI 발표문 교정, 예상 질문 제공 서비스로 HyperCLOVA X 문장 생성, 요약 기술이 활용되었습니다. * 고객 사례 ### 뤼튼(wrtn) by 뤼튼테크놀로지스 간단한 키워드만으로 완성도 높은 문구와 글 초안을 작성할 수 있는 AI 카피라이팅 서비스로 광고카피, 제품 소개 문구 등 CLOVA Studio의 한국어 문장 창작 능력이 활용되었습니다. * 네이버 사례 ### CLOVA Studio HyperCLOVA 언어모델을 통해 누구나 쉽게 AI를 만들 수 있는 No code AI 플랫폼 환경을 제공합니다.'}, {'url': 'https://m.blog.naver.com/kwlsghd1/223199144175', 'content': '② 네이버 생성형 AI 검색 서비스, Cue 네이버가 가진 양질의 콘텐츠를 바탕으로 확장된 검색 경험을 제공합니다. 여러 의도를 포함한 긴 질문을 이해하고, 신뢰도 있는 최신 정보를 요약하여 제공할 수 있습니다.'}]\n",
      "[최종 답변]\n",
      "네이버에서 개발한 생성형 AI에 대한 정보는 다음과 같습니다:\n",
      "\n",
      "1. **HyperCLOVA X**: 네이버의 초대규모 AI로, 자체 데이터를 HyperCLOVA X와 결합하여 사용자 니즈에 맞는 응답을 즉각 제공할 수 있습니다. 이 AI는 네이버 서비스와 기업형 서비스에 활용되어 새로운 사용자 경험과 비즈니스 기회를 창출하고 있습니다. [자세히 보기](https://campaign.nbilly.naver.com/navergenerativeai)\n",
      "\n",
      "2. **AI 캐릭터챗**: 네이버웹툰의 캐릭터들과 대화 및 롤플레잉을 할 수 있는 서비스로, HyperCLOVA X의 생성형 AI 기술이 활용되고 있습니다. [자세히 보기](https://clova.ai/hyperclova)\n",
      "\n",
      "3. **Cue**: 네이버에서 새롭게 선보이는 AI 검색 서비스로, 언어 모델에 추론, 검색 계획, 도구 사용, 검색 기반 생성 기술을 결합하여 네이버 검색과 통합된 AI 생성형 검색 서비스입니다. [자세히 보기](https://cue.search.naver.com/)\n",
      "\n",
      "4. **CLOVA Studio**: HyperCLOVA 언어모델을 통해 누구나 쉽게 AI를 만들 수 있는 No code AI 플랫폼 환경을 제공합니다. [자세히 보기](https://clova.ai/hyperclova)\n",
      "\n",
      "이 외에도 다양한 고객 사례와 해커톤 사례에서 HyperCLOVA X의 생성형 AI 기술이 활용되고 있습니다.\n"
     ]
    }
   ],
   "source": [
    "# AgentExecutor 실행\n",
    "result = agent_executor.stream(\n",
    "    {\n",
    "        \"user_input\": \"네이버에서 자체 개발한 생성형 AI 관련된 정보를 문서에서 찾아주세요.\"\n",
    "    } # 구어체로 input을 주어도 아래 query 를 확인하면 정확한 키워드를 찾아서 검색을 시도\n",
    ")\n",
    "\n",
    "for step in result:\n",
    "    # 중간 단계를 parser 를 사용하여 단계별 출력\n",
    "    agent_stream_parser.process_agent_steps(step)"
   ]
  },
  {
   "cell_type": "markdown",
   "metadata": {},
   "source": [
    "### 이전 대화를 기억하는 Agent\n",
    "\n",
    "이전 대화를 기억하기 위해서는 `RunnableWithMessageHistory` 를 사용하고 `AgentExcutor` 를 감싸줍니다.  \n",
    "- [RunnableWithMessageHistory](https://wikidocs.net/254682)"
   ]
  },
  {
   "cell_type": "code",
   "execution_count": 49,
   "metadata": {},
   "outputs": [],
   "source": [
    "from langchain_community.chat_message_histories import ChatMessageHistory\n",
    "from langchain_core.runnables.history import RunnableWithMessageHistory\n",
    "\n",
    "# session_id 를 저장할 딕셔너리 생성\n",
    "store = {}\n",
    "\n",
    "# session_id 를 기반으로 세션 기록을 가져오는 함수, store - 기억 저장소\n",
    "def get_session_history(session_ids):\n",
    "    if session_ids not in store:  # session_id 가 store에 없는 경우\n",
    "        store[session_ids] = ChatMessageHistory() # 새로운 ChatMessageHistory 객체를 생성하여 store에 저장\n",
    "    return store[session_ids]  # 해당 세션 ID에 대한 세션 기록 반환\n",
    "\n",
    "\n",
    "# 채팅 메시지 기록이 추가된 에이전트 생성\n",
    "agent_with_chat_history = RunnableWithMessageHistory(\n",
    "    agent_executor, # agent_excutor\n",
    "    get_session_history, # 대화 session_id\n",
    "    input_messages_key=\"user_input\", # 프롬프트의 질문이 입력되는 key: \"user_input\"\n",
    "    history_messages_key=\"chat_history\", # 프롬프트의 메시지가 입력되는 key: \"chat_history\"\n",
    ")"
   ]
  },
  {
   "cell_type": "code",
   "execution_count": 54,
   "metadata": {},
   "outputs": [
    {
     "name": "stdout",
     "output_type": "stream",
     "text": [
      "[도구 호출]\n",
      "Tool: pdf_search\n",
      "query: Naver generative AI\n",
      "Log: \n",
      "Invoking: `pdf_search` with `{'query': 'Naver generative AI'}`\n",
      "\n",
      "\n",
      "\n",
      "[관찰 내용]\n",
      "Observation: ㅇ 주요 AI 모델 저작권 침해 평가에 따르면, 오픈AI의 GPT-4가 100개의 의도적 프롬프트에 대해 44%의 답변에서 책 내용을 정확하게 복제한 내용 생성 (2024.3)ㅇ 엔비디아의 생성 AI 플랫폼 ‘네모’가 소설 저작권을 침해했다고 기소하는 등 데이터 저작권에 대한 분쟁 확대 (2024.3)ㅇ 미국 저작권청은 미드저니를 통해 생성한 작품인 ‘새벽의 자리야’는 작품 자체에 대한 저작권은 인정하지 않고, AI로 만든 이미지와 텍스트를 조정한 것에 대해서만 인정 (2023.9)\n",
      "43 Nasr 외(2023.11), Scalable Extraction of Training D ata from  (Production) Language M odels, arXiv:2311.17035v1\n",
      "\n",
      "ㅇ 국방 분야의 워게임 시뮬레이션에 생성 AI를 적용했을 때 사용자가 예측하기 어려운 전술 의사결정을 보이며, 드물게 고위험성의 핵무기 배치까지 이어지는 것으로 확인(2024.1.7)33ㅇ 미국의 프로젝트 메이븐, 중국의 인민해방군 AI 사령관, 이스라엘의 라벤더는 군사용 AI로 실전에 투입되어, 시뮬레이션, 공격대상 타격, 적 탐지 등의 용도로 활용29 Jinzhe Tan 외 (2023.7), \"ChatGPT as an Artificial Lawyer?\" 30 Yixin Wan 외 (2023.12), ““Kelly is a Warm Person, Joseph is a Role Model”: Gender Biases in LLM-Generated Reference Letters“31 Kelly Avery Mack 외 (2024.5), ““They only care to show us the wheelchair”: disability representation in text-to-image AI models“32 Lilian Mitrou 외(2022.1), “Human Control and Discretion in AI-driven Decision-making in Government”\n",
      "\n",
      "SPRi\u0000이슈리포트IS-183 AI\u0000위험유형및사례분석\n",
      "13\n",
      "(사례4) 이스라엘-하마스 갈등 허위정보 확산ㅇ 이스라엘-하마스 갈등과 관련하여 아이 앞에 폭격된 집, 이스라엘 난민을 위한 임시 텐트, 팔레스타인을 지지하는 사진 등 허위 정보가 담긴 생성 AI 이미지가 확산 (2023.10.24)21 \n",
      "●챗GPT 등 생성 AI를 활용하여 생산된 허위 사실은 소셜 미디어의 가짜 계정을 통해 대량 배포∙Yang & Menczer (2023)의 연구에 따르면 Twitter에 존재하는 악성 소셜 봇 계정 1,140개를 통해 의심스러운 웹사이트를 홍보하고 답글과 리트윗으로 유해한 댓글이 확산22■(사이버범죄)\u0000대량의사이버공격을통한보안위험의악화●시스템이 AI에 의해 사이버 보안 공격에 취약하도록 설계되어 사이버 공격에 악용될 우려 제기∙AI를 코딩 보조 도구로 활용했을 때 소프트웨어의 취약성이 발생할 수 있으며, AI가 자율적으로 웹사이트 해킹과 같은 작업을 수행하기도 함(사례5) 생성된 코드의 보안 위험\n",
      "\n",
      "ㅇ 영국 옥스퍼드 대 연구진은 웹에서 수집된 대규모 데이터로부터 학습이 지속되면 모델 붕괴의 가능성으로 이어질 수 있음을 검증한 논문을 네이처에 게재(‘24.7)35ㅇ 연구진은“시간이 지남에 따라 모델은 기본적으로 오류만 학습하고, 오류들은 계속 쌓인다\"고 주장, 하니 패리드(Hany Farid) UC버클리대 교수도 이 문제가 마치 생물 종의 ’근친 교배‘와 유사하다고 지적하며 유전자 풀이 다양하지 않을 경우 종의 붕괴로 이어질 수 있다고 경고3.3\u0000시스템적위험■(노동시장위험)\u0000AI\u0000기반의자동화로인한변화는노동시장에단·장기적영향우려●범용 AI는 매우 광범위한 작업을 자동화할 수 있는 능력을 갖추고 있어 작업자의 업무의 질과 생산성을 향상시키고 새로운 일자리의 창출 등 긍정적 영향을 미칠 수 있음●한 편, 특 정  영 역 에서 는  잠 재 적인  일자 리  손 실  및  대 체  등  노 동시 장 에  부 정 적 영향 을  미 칠  가 능 성이  존 재∙다양한 산업에서 범용 AI 시스템의 활용·도입으로 인한 기존 서비스에 대한 수요 감소가 야기*△ 전략 컨설팅 분야 생산성, 품질 및 속도 개선, △컴퓨터 프로그래밍 향상, △대규모 언어 번역, 글쓰기 등에서의 인간 대체∙새로운 기술 등장에 따라 발생 가능한 노동 시장에서의 마찰은, 단기적으로는 실업이 유발될 수 있으며, 아직까지 임금에 대한 영향은 불확실하지만 장기적으로 소득 불평등을 높일 수 있음●산업연구원(2024)은 국내 사람의 일자리 327만 개를 AI가 대체할 것이라는 전망을 발표하는 등 AI의 노동 대체 가능성을 제시3637∙제 조 업  분 야 가  93만  개 로  가 장  많 은  일 자 리  대 체 가  전 망 되 었 으 며, 직 종 으 로 는  193만  개 의  전 문 직(약  60%)이 소멸할 것으로 전망33 Juan-Pablo Rivera 외(2024.7), “Escalation Risks from Language Models in Military and Diplomatic\n",
      "[최종 답변]\n",
      "The document contains information related to generative AI developed by Naver, including various aspects of AI models and their implications. Here are some key points:\n",
      "\n",
      "1. **Copyright Issues**: There are ongoing disputes regarding copyright infringement related to generative AI, such as OpenAI's GPT-4 generating content that closely replicates book material.\n",
      "\n",
      "2. **Military Applications**: Generative AI has been applied in military simulations, showing unpredictable tactical decision-making, which can lead to high-risk scenarios, including nuclear weapon deployment.\n",
      "\n",
      "3. **Misinformation**: There has been a spread of misinformation related to the Israel-Hamas conflict, with generative AI images depicting false narratives being disseminated through social media.\n",
      "\n",
      "4. **Cybersecurity Risks**: The use of AI in coding can lead to vulnerabilities in software, raising concerns about the potential for AI to autonomously conduct cyberattacks.\n",
      "\n",
      "5. **Labor Market Impact**: The rise of generative AI is expected to have both positive and negative effects on the labor market, including job creation and potential job losses in certain sectors.\n",
      "\n",
      "These points highlight the multifaceted implications of generative AI, including legal, military, social, and economic dimensions. If you need more specific information or details, please let me know!\n"
     ]
    }
   ],
   "source": [
    "# 질의에 대한 답변을 스트리밍으로 출력 요청\n",
    "response = agent_with_chat_history.stream(\n",
    "    {\"user_input\": \"네이버가 개발한 생성형 AI 관련된 정보를 문서에서 찾아주세요.\"},\n",
    "    # session_id 설정\n",
    "    config={\"configurable\": {\"session_id\": \"agent1\"}},\n",
    ")\n",
    "\n",
    "# 출력 확인\n",
    "for step in response:\n",
    "    agent_stream_parser.process_agent_steps(step)"
   ]
  },
  {
   "cell_type": "code",
   "execution_count": 55,
   "metadata": {},
   "outputs": [
    {
     "name": "stdout",
     "output_type": "stream",
     "text": [
      "[도구 호출]\n",
      "Tool: pdf_search\n",
      "query: Naver generative AI\n",
      "Log: \n",
      "Invoking: `pdf_search` with `{'query': 'Naver generative AI'}`\n",
      "\n",
      "\n",
      "\n",
      "[관찰 내용]\n",
      "Observation: ㅇ 주요 AI 모델 저작권 침해 평가에 따르면, 오픈AI의 GPT-4가 100개의 의도적 프롬프트에 대해 44%의 답변에서 책 내용을 정확하게 복제한 내용 생성 (2024.3)ㅇ 엔비디아의 생성 AI 플랫폼 ‘네모’가 소설 저작권을 침해했다고 기소하는 등 데이터 저작권에 대한 분쟁 확대 (2024.3)ㅇ 미국 저작권청은 미드저니를 통해 생성한 작품인 ‘새벽의 자리야’는 작품 자체에 대한 저작권은 인정하지 않고, AI로 만든 이미지와 텍스트를 조정한 것에 대해서만 인정 (2023.9)\n",
      "43 Nasr 외(2023.11), Scalable Extraction of Training D ata from  (Production) Language M odels, arXiv:2311.17035v1\n",
      "\n",
      "ㅇ 국방 분야의 워게임 시뮬레이션에 생성 AI를 적용했을 때 사용자가 예측하기 어려운 전술 의사결정을 보이며, 드물게 고위험성의 핵무기 배치까지 이어지는 것으로 확인(2024.1.7)33ㅇ 미국의 프로젝트 메이븐, 중국의 인민해방군 AI 사령관, 이스라엘의 라벤더는 군사용 AI로 실전에 투입되어, 시뮬레이션, 공격대상 타격, 적 탐지 등의 용도로 활용29 Jinzhe Tan 외 (2023.7), \"ChatGPT as an Artificial Lawyer?\" 30 Yixin Wan 외 (2023.12), ““Kelly is a Warm Person, Joseph is a Role Model”: Gender Biases in LLM-Generated Reference Letters“31 Kelly Avery Mack 외 (2024.5), ““They only care to show us the wheelchair”: disability representation in text-to-image AI models“32 Lilian Mitrou 외(2022.1), “Human Control and Discretion in AI-driven Decision-making in Government”\n",
      "\n",
      "SPRi\u0000이슈리포트IS-183 AI\u0000위험유형및사례분석\n",
      "13\n",
      "(사례4) 이스라엘-하마스 갈등 허위정보 확산ㅇ 이스라엘-하마스 갈등과 관련하여 아이 앞에 폭격된 집, 이스라엘 난민을 위한 임시 텐트, 팔레스타인을 지지하는 사진 등 허위 정보가 담긴 생성 AI 이미지가 확산 (2023.10.24)21 \n",
      "●챗GPT 등 생성 AI를 활용하여 생산된 허위 사실은 소셜 미디어의 가짜 계정을 통해 대량 배포∙Yang & Menczer (2023)의 연구에 따르면 Twitter에 존재하는 악성 소셜 봇 계정 1,140개를 통해 의심스러운 웹사이트를 홍보하고 답글과 리트윗으로 유해한 댓글이 확산22■(사이버범죄)\u0000대량의사이버공격을통한보안위험의악화●시스템이 AI에 의해 사이버 보안 공격에 취약하도록 설계되어 사이버 공격에 악용될 우려 제기∙AI를 코딩 보조 도구로 활용했을 때 소프트웨어의 취약성이 발생할 수 있으며, AI가 자율적으로 웹사이트 해킹과 같은 작업을 수행하기도 함(사례5) 생성된 코드의 보안 위험\n",
      "\n",
      "ㅇ 영국 옥스퍼드 대 연구진은 웹에서 수집된 대규모 데이터로부터 학습이 지속되면 모델 붕괴의 가능성으로 이어질 수 있음을 검증한 논문을 네이처에 게재(‘24.7)35ㅇ 연구진은“시간이 지남에 따라 모델은 기본적으로 오류만 학습하고, 오류들은 계속 쌓인다\"고 주장, 하니 패리드(Hany Farid) UC버클리대 교수도 이 문제가 마치 생물 종의 ’근친 교배‘와 유사하다고 지적하며 유전자 풀이 다양하지 않을 경우 종의 붕괴로 이어질 수 있다고 경고3.3\u0000시스템적위험■(노동시장위험)\u0000AI\u0000기반의자동화로인한변화는노동시장에단·장기적영향우려●범용 AI는 매우 광범위한 작업을 자동화할 수 있는 능력을 갖추고 있어 작업자의 업무의 질과 생산성을 향상시키고 새로운 일자리의 창출 등 긍정적 영향을 미칠 수 있음●한 편, 특 정  영 역 에서 는  잠 재 적인  일자 리  손 실  및  대 체  등  노 동시 장 에  부 정 적 영향 을  미 칠  가 능 성이  존 재∙다양한 산업에서 범용 AI 시스템의 활용·도입으로 인한 기존 서비스에 대한 수요 감소가 야기*△ 전략 컨설팅 분야 생산성, 품질 및 속도 개선, △컴퓨터 프로그래밍 향상, △대규모 언어 번역, 글쓰기 등에서의 인간 대체∙새로운 기술 등장에 따라 발생 가능한 노동 시장에서의 마찰은, 단기적으로는 실업이 유발될 수 있으며, 아직까지 임금에 대한 영향은 불확실하지만 장기적으로 소득 불평등을 높일 수 있음●산업연구원(2024)은 국내 사람의 일자리 327만 개를 AI가 대체할 것이라는 전망을 발표하는 등 AI의 노동 대체 가능성을 제시3637∙제 조 업  분 야 가  93만  개 로  가 장  많 은  일 자 리  대 체 가  전 망 되 었 으 며, 직 종 으 로 는  193만  개 의  전 문 직(약  60%)이 소멸할 것으로 전망33 Juan-Pablo Rivera 외(2024.7), “Escalation Risks from Language Models in Military and Diplomatic\n",
      "[최종 답변]\n",
      "Here is the translation of the previous answer into English:\n",
      "\n",
      "1. **Copyright Issues**: According to an evaluation of major AI model copyright infringements, OpenAI's GPT-4 generated content that accurately replicated book material in 44% of responses to 100 intentional prompts (March 2024). There has been an expansion of disputes over data copyright, including a lawsuit against NVIDIA's generative AI platform 'Nemo' for infringing on novel copyrights (March 2024). The U.S. Copyright Office does not recognize copyright for the work 'Dawn's Zaria' created through Midjourney, only acknowledging the adjustments made to the AI-generated images and texts (September 2023).\n",
      "\n",
      "2. **Military Applications**: When generative AI was applied to military wargame simulations, it exhibited unpredictable tactical decision-making, occasionally leading to high-risk scenarios, including nuclear weapon deployment (January 7, 2024). Military AI systems like the U.S. Project Maven, China's People's Liberation Army AI commander, and Israel's Lavender have been deployed for simulations, targeting attacks, and enemy detection.\n",
      "\n",
      "3. **Misinformation**: There has been a spread of misinformation related to the Israel-Hamas conflict, with generative AI images depicting bombed houses, temporary tents for Israeli refugees, and pro-Palestinian photos circulating false narratives (October 24, 2023). False information produced using generative AI, such as ChatGPT, has been widely distributed through fake accounts on social media.\n",
      "\n",
      "4. **Cybersecurity Risks**: There are concerns that systems designed to be vulnerable to cyber security attacks could be exploited by AI. Using AI as a coding assistant can lead to software vulnerabilities, and AI may autonomously perform tasks like hacking websites.\n",
      "\n",
      "5. **Labor Market Impact**: The changes brought about by AI-based automation are expected to have both short-term and long-term effects on the labor market. General-purpose AI has the potential to automate a wide range of tasks, improving job quality and productivity while creating new jobs. However, there is also the potential for job losses and negative impacts on the labor market in certain areas. The introduction of general-purpose AI systems across various industries may lead to decreased demand for existing services, with projections suggesting that AI could replace 3.27 million jobs in South Korea, particularly in manufacturing and specialized professions.\n",
      "\n",
      "These points highlight the multifaceted implications of generative AI, including legal, military, social, and economic dimensions. If you need more specific information or details, please let me know!\n"
     ]
    }
   ],
   "source": [
    "response = agent_with_chat_history.stream(\n",
    "    {\"user_input\": \"이전의 답변을 영어로 번역해 주세요.\"},\n",
    "    config={\"configurable\": {\"session_id\": \"agent1\"}}, # 기억된 정보를 불러오기위해 세션아이디를 동일하게 설정\n",
    ")\n",
    "\n",
    "# 출력 확인\n",
    "for step in response:\n",
    "    agent_stream_parser.process_agent_steps(step)"
   ]
  },
  {
   "cell_type": "markdown",
   "metadata": {},
   "source": [
    "### Agent Template\n",
    "\n",
    "템플릿 코드로서 프로젝트를 진행할때 복사기 편하게 한 셀에 모아두었습니다. "
   ]
  },
  {
   "cell_type": "code",
   "execution_count": 57,
   "metadata": {},
   "outputs": [],
   "source": [
    "# 필요한 모듈 import\n",
    "from langchain_core.prompts import ChatPromptTemplate\n",
    "from langchain_community.tools.tavily_search import TavilySearchResults\n",
    "from langchain_community.vectorstores import FAISS\n",
    "from langchain_community.chat_message_histories import ChatMessageHistory\n",
    "from langchain.text_splitter import RecursiveCharacterTextSplitter\n",
    "from langchain_openai import OpenAIEmbeddings, ChatOpenAI\n",
    "from langchain.document_loaders import PyMuPDFLoader\n",
    "from langchain.tools.retriever import create_retriever_tool\n",
    "from langchain.agents import create_tool_calling_agent, AgentExecutor\n",
    "from langchain_core.runnables.history import RunnableWithMessageHistory\n",
    "from langchain_print import AgentStreamParser\n",
    "\n",
    "########## 1. 도구 정의##########\n",
    "\n",
    "### 1-1. Search 도구 ###\n",
    "# TavilySearchResults 클래스의 인스턴스를 생성\n",
    "# k : 검색 결과 갯수\n",
    "search = TavilySearchResults(k=6)\n",
    "\n",
    "### 1-2. PDF 문서 검색 도구 (Retriever) ###\n",
    "# PDF 파일 로드. 파일의 경로 입력\n",
    "loader = PyMuPDFLoader(\"./data/IS-183_AI 위험 유형 및 사례 분석(최종).pdf\")\n",
    "\n",
    "# 텍스트 분할기를 사용하여 문서 분할\n",
    "text_splitter = RecursiveCharacterTextSplitter(chunk_size=1000, chunk_overlap=100)\n",
    "\n",
    "# 문서를 로드, text_spllitter에 맞게 분할\n",
    "split_docs = loader.load_and_split(text_splitter)\n",
    "\n",
    "# VectorStore 생성\n",
    "vector = FAISS.from_documents(split_docs, OpenAIEmbeddings())\n",
    "\n",
    "# Retriever 생성\n",
    "retriever = vector.as_retriever()\n",
    "\n",
    "retriever_tool = create_retriever_tool(\n",
    "    retriever,\n",
    "    name=\"pdf_search\",  # 도구 이름 설정\n",
    "    description=\"use this tool to search information from the PDF document\",  # 도구에 대한 설명, 자세히 기입하는 것이 성능에 좋음\n",
    ")\n",
    "\n",
    "### 1-3. tools 정의, 리스트에 도구 목록을 추가###\n",
    "# tools 리스트에 search와 retriever_tool을 추가\n",
    "tools = [search, retriever_tool]\n",
    "\n",
    "########## 2. LLM 정의 ##########\n",
    "# LLM 모델 생성\n",
    "llm = ChatOpenAI(model=\"gpt-4o\", temperature=0)\n",
    "\n",
    "########## 3. Prompt 정의 ##########\n",
    "\n",
    "# Prompt 정의\n",
    "prompt = ChatPromptTemplate.from_messages(\n",
    "    [\n",
    "        (\n",
    "            \"system\",\n",
    "            \"You are a helpful assistant. \"\n",
    "            \"Make sure to use the `pdf_search` tool for searching information from the PDF document. \"\n",
    "            \"If you can't find the information from the PDF document, use the `web_search` tool for searching information from the web.\",\n",
    "        ),\n",
    "        (\"placeholder\", \"{chat_history}\"),\n",
    "        (\"human\", \"{user_input}\"),\n",
    "        (\"placeholder\", \"{agent_scratchpad}\"),\n",
    "    ]\n",
    ")\n",
    "\n",
    "########## 4. Agent 정의 ##########\n",
    "\n",
    "# create_tool_calling_agent() 함수를 사용하여 agent 정의, llm, tools, prompt 를 연결\n",
    "# llm, tools, prompt를 인자로 사용합니다.\n",
    "agent = create_tool_calling_agent(llm, tools, prompt)\n",
    "\n",
    "########## 5. AgentExecutor 정의 ##########\n",
    "\n",
    "# AgentExecutor 클래스를 사용하여 agent와 tools 설정\n",
    "# 상세한 로그를 출력하도록 verbose를 True로 설정\n",
    "agent_executor = AgentExecutor(agent=agent, tools=tools, verbose=False)\n",
    "\n",
    "########## 6. 채팅 기록을 수행하는 메모리 추가 ##########\n",
    "\n",
    "# session_id 를 저장할 딕셔너리 생성\n",
    "store = {}\n",
    "\n",
    "\n",
    "# session_id 를 기반으로 세션 기록을 가져오는 함수\n",
    "def get_session_history(session_ids):\n",
    "    if session_ids not in store:  # session_id 가 store에 없는 경우\n",
    "        # 새로운 ChatMessageHistory 객체를 생성하여 store에 저장\n",
    "        store[session_ids] = ChatMessageHistory()\n",
    "    return store[session_ids]  # 해당 세션 ID에 대한 세션 기록 반환\n",
    "\n",
    "\n",
    "# 채팅 메시지 기록이 추가된 에이전트를 생성합니다.\n",
    "agent_with_chat_history = RunnableWithMessageHistory(\n",
    "    agent_executor, # agent_executor 설정\n",
    "    get_session_history, # 대화 session_id\n",
    "    input_messages_key=\"user_input\", # 프롬프트의 질문이 입력되는 key: \"input\"\n",
    "    history_messages_key=\"chat_history\", # 프롬프트의 메시지가 입력되는 key: \"chat_history\"\n",
    ")\n",
    "\n",
    "########## 7. Agent 파서 정의 ##########\n",
    "agent_stream_parser = AgentStreamParser()"
   ]
  },
  {
   "cell_type": "code",
   "execution_count": 59,
   "metadata": {},
   "outputs": [
    {
     "name": "stdout",
     "output_type": "stream",
     "text": [
      "[도구 호출]\n",
      "Tool: pdf_search\n",
      "query: AI의 위험 유형\n",
      "Log: \n",
      "Invoking: `pdf_search` with `{'query': 'AI의 위험 유형'}`\n",
      "\n",
      "\n",
      "\n",
      "[관찰 내용]\n",
      "Observation: SPRi\u0001이슈리포트IS-183\n",
      "AI\u0001위험유형및사례분석\n",
      "5\n",
      "■현재의연구들은다양한관점과범위에따라AI\u0001위험요인을정의하고있어,\u0001본장에서는\n",
      "네가지주요연구자료에서제시하고있는위험과위험요인들을비교하고분석을수행\n",
      "●현재 논의되고 있는 AI 위험 요인들은 다양한 기준에 의해 수집 및 분류되어 제시되고 있어, AI \n",
      "위험에 관한 포괄적 분류체계 마련을 위해 비교·분석이 필요\n",
      "∙AI 위험 요인들은 유사하지만 다양한 정의와 분류에 따라 혼재하고 있고, 각 위험 요인의 대응 방안에 관한 \n",
      "해결 방식도 다른 경향을 보여, 혼재된 위험 요인들을 같은 수준에서 비교할 필요가 있음 \n",
      "* 미국 NIST의 생성 AI 프로파일(2024.7), MIT 연구진의 AI 위험 분류(2024.8), 중국 연구진의 AI 위험 분류(2024.6) 등\n",
      "■(연구1)\u0001영국에서는AI\u0001안전성정상회의이후,\u0001AI의안전에관한최초의국제과학보고서가\n",
      "발표되었고,\u0001위험유형과위험완화를위한기술적접근방식등주요내용을포함12\n",
      "●세계적인 인공지능 전문가 요슈아 벤지오 교수의 책임 하에 다양한 AI 전문가들이 참여하여 \n",
      "6개월 동안 수행한 연구로, 향후 예상되는 첨단 AI의 기능과 위험, 기술적 대응 방안에 관한 \n",
      "다양한 의견을 수렴\n",
      "●범용 AI에 초점을 두고, 범용 AI가 유발할 수 있는 AI 위험을 △ 악의적 사용 위험, △ 오작동 위험 \n",
      "△ 시스템적 위험 △ 교차(cross-cutting) 위험 요인의 4가지로 구분하여 제시\n",
      "∙(악의적 사용 위험) 범용 AI는 광범위한 지식 영역을 다루는 만큼, 악의적인 목적으로 기존 용도가 변경되어 \n",
      "사용될 위험이 존재\n",
      "∙(오작동 위험) 기능에 대한 오해, 부적절한 지침, 편향된 학습 데이터와 결함이 있는 시스템의 배포 등으로 \n",
      "오작동의 위험이 증가\n",
      "∙(시스템적 위험)  AI 활용 증가에 따른 부정적 영향들을 포함하며, 사회·경제·윤리 등 다양한 관점에서의 위험\n",
      "∙(교차 위험 요인) 범용 AI 위험을 직접적으로 초래하는 기술적 요소와 개발·배포의 비기술적 측면 및 사회적 위험 요인을 포함\n",
      "\n",
      "SPRi\u0001이슈리포트IS-183\n",
      "AI\u0001위험유형및사례분석\n",
      "3\n",
      "■안전한AI\u0001개발및활용을목표로각국의AI\u0001안전전담기관과기업들은AI\u0001위험요소를\n",
      "식별·분류하고,\u0001자체적인대응방안을수립하고있으나위험분류기준이혼재\n",
      "●영국, 미국, 일본 등 주요국은 전담기관인 AI 안전연구소를 통해 AI의 위험에 관한 연구를 \n",
      "수행하고, 안전성 평가 기반을 마련하는 등 AI 안전을 최우선 과제 중 하나로 추진 중\n",
      "∙영국 AISI에서 공개한 요슈아 벤지오 연구팀의 국제 과학보고서6에서는 △악의적 사용 △오작동 \n",
      "△시스템적 위험 △교차 위험으로 주요 위험 유형을 구분하고 위험 완화를 위한 접근 방식을 평가\n",
      "●기업 및 학계에서도  AI 위험 요인을 정의하고 분석하는 등 다양한 AI 위험 연구 보고서를 공개\n",
      "∙오픈AI, 앤트로픽, 메타, 구글, 코히어 등은 기업의 AI 서비스 제공에 있어, 정책 문서에서 콘텐츠 안전, \n",
      "시스템, 법적·사회적 위험 등에 관한 규정을 정의하고 있음\n",
      "∙MIT 연구진은 AI 위험 저장소를 개발하여 다양한 정보를 제공하고, AI 위험을 7개의 도메인으로 구분7\n",
      "* 7개의 주요 위험 도메인 : △차별 및 독성 △프라이버시 및 보안 △잘못된 정보 △악의적 행위 및 오남용 △인간-컴퓨터 상호\n",
      "작용 △사회경제적 및 환경 피해 △AI 시스템 안전, 실패 및 한계\n",
      "●여러 연구 결과에서 AI 위험 요인을 제시하고 있으나 상이한 정의 및 분류 기준을 바탕으로 \n",
      "논의되고 있어, 다양한 위험 분류 체계가 혼재하고 있는 상황\n",
      "■본보고서에서는AI\u0001안전위험요인과사례들을종합적으로분석하여,\u0001국내AI\u0001안전정책\n",
      "수립을위한시사점을도출\n",
      "●현재 각국 정부 차원의 국제적 논의에도 불구하고 AI로 인해 발생하는 사건·사고는 급증하는 \n",
      "추세이고, AI 기술 활용의 위험성에 관한 국민 인식은 저조\n",
      "∙특히 범용 AI(General-purpose AI, GPAI)의 활용 확대에 따른 문제가 급증하고 있으나, 한국 국민의 AI \n",
      "기술의 활용에 대한 위험 인식 수준은 낮은 상태로 활용 이점에 집중하는 경향\n",
      "\n",
      "SPRi\u0001이슈리포트IS-183\n",
      "AI\u0001위험유형및사례분석\n",
      "CONTENT\n",
      "Ⅰ.\n",
      "배경····························································································· 1\n",
      "Ⅱ.\n",
      "AI 안전과 위험 유형································································· 4\n",
      "Ⅲ.\n",
      "AI 위험별 사례 분석······························································· 11\n",
      "3.1  악의적 사용 위험····························································· 11\n",
      "3.2  오작동 위험······································································ 14\n",
      "3.3  시스템적 위험·································································· 16\n",
      "3.4  교차 위험 요인································································ 20\n",
      "3.5  소결··················································································· 21\n",
      "Ⅳ. 결론 및 시사점 ··········································································· 22\n",
      "참고문헌····························································································· 25\n",
      "\n",
      "SPRi\u0001이슈리포트IS-183\n",
      "AI\u0001위험유형및사례분석\n",
      "9\n",
      "■결과적으로모든제시되고있는위험요인을포함한자료는부재한상태이고,\u0001광의의AI\u0001\n",
      "안전범위에서사회적영향과관련된위험요인들에대한추가적인연구가필요\n",
      "●선제적인 연구인 요슈아 벤지오 연구팀의 위험 분류 체계를 기준으로 <표 2-5>과 같이 주요 \n",
      "자료들에서 제시하고 있는 AI 위험 요인에 대한 분류와 고려 범위를 비교·분석하여 도출\n",
      "∙요슈아 벤지오 연구팀의 분류에서 정의되어 있지 않은 위험 요인은 추가하고, 각 자료에서 특정 위험에 대해 \n",
      "얼마나 포괄적인 범위를 고려하는지에 따라 ‘대부분 포함’, ‘일부 포함’, ‘미포함’으로 구분 \n",
      "●‘악의적 사용 위험’과 ‘오작동 위험’은 대부분의 연구에서 공통적으로 고려하고 있는 중요한 요인\n",
      "∙‘악의적 사용 위험’은 AI의 활용 방식에 따라 발생하는 위험인 반면, ‘오작동 위험’은 주로 AI의 기술적인 특성 \n",
      "또는 데이터로부터 발생하는 위험으로, 대응책 마련에 있어 이와 같은 차이 고려 필요\n",
      "●NIST의 위험 관리 프레임워크 프로파일은 생성 AI에 특화된 위험에 초점을 두고 있어, 사회적 \n",
      "측면의 영향보다 기업들이 참고하여 위험을 관리할 수 있는 실질적인 요인들을 포함\n",
      "●MIT와 중국 연구진의 연구 자료는 많은 문헌을 기반으로 수백 개의 세부 위험을 식별하였고, \n",
      "AI의 사용 사례에 따른 위험이 주를 이루고 있어 부가적인 영향에 대한 요인은 상대적으로 부족\n",
      "●결론적으로, 요슈아 벤지오 연구팀의 AI 위험 분류가 가장 다각적인 측면에서 위험을 정의하고 \n",
      "있으며, 특히 사회적인 측면의 위험까지 고려하고 있다는 점에서 다른 자료들과 차이를 보임\n",
      "∙특히 ‘교차 위험 요인’ 항목들은 정부의 규제 및 제도 등 정책 수립 측면에서 중요하게 고려해야 할 요인들을 \n",
      "포함하고 있어, AI 위험에 관한 논의에 반드시 포함되어야 할 자료\n",
      "[최종 답변]\n",
      "AI의 위험 유형은 여러 연구에서 다양한 기준에 따라 분류되고 있습니다. 주요 위험 유형은 다음과 같습니다:\n",
      "\n",
      "1. **악의적 사용 위험**: AI가 악의적인 목적으로 사용될 가능성을 의미합니다. 이는 AI의 광범위한 지식 영역이 악용될 수 있는 위험을 포함합니다.\n",
      "\n",
      "2. **오작동 위험**: AI 시스템의 기능에 대한 오해, 부적절한 지침, 편향된 학습 데이터, 결함 있는 시스템의 배포 등으로 인해 발생할 수 있는 오작동의 위험입니다.\n",
      "\n",
      "3. **시스템적 위험**: AI 활용 증가에 따른 사회적, 경제적, 윤리적 관점에서의 부정적 영향을 포함합니다.\n",
      "\n",
      "4. **교차 위험 요인**: 기술적 요소와 개발·배포의 비기술적 측면 및 사회적 위험 요인을 포함하여 범용 AI가 초래할 수 있는 다양한 위험을 포괄합니다.\n",
      "\n",
      "이러한 위험 유형들은 AI의 안전한 개발 및 활용을 위해 각국의 AI 안전 전담 기관과 기업들이 식별하고 대응 방안을 수립하는 데 중요한 역할을 하고 있습니다.\n"
     ]
    }
   ],
   "source": [
    "########## 8. 에이전트 실행, 결과 확인 ##########\n",
    "\n",
    "response = agent_with_chat_history.stream(\n",
    "    {\"user_input\": \"AI의 위험 유형에 대해 간략하게 소개해주세요.\"},\n",
    "    config={\"configurable\": {\"session_id\": \"sessionid:result1\"}},\n",
    ")\n",
    "\n",
    "for step in response:\n",
    "    agent_stream_parser.process_agent_steps(step)"
   ]
  },
  {
   "cell_type": "code",
   "execution_count": 61,
   "metadata": {},
   "outputs": [
    {
     "name": "stdout",
     "output_type": "stream",
     "text": [
      "[최종 답변]\n",
      "Here is the translation of the previous answer into English:\n",
      "\n",
      "The types of AI risks are categorized in various ways across different studies. The main types of risks include:\n",
      "\n",
      "1. **Malicious Use Risk**: This refers to the potential for AI to be used for malicious purposes. It includes the risk of AI's extensive knowledge being exploited.\n",
      "\n",
      "2. **Malfunction Risk**: This involves the risk of malfunctions due to misunderstandings of AI system functions, inappropriate instructions, biased training data, and the deployment of defective systems.\n",
      "\n",
      "3. **Systemic Risk**: This includes negative impacts from social, economic, and ethical perspectives due to the increased use of AI.\n",
      "\n",
      "4. **Cross-Risk Factors**: This encompasses various risks that general AI might pose, including technical elements, non-technical aspects of development and deployment, and social risk factors.\n",
      "\n",
      "These types of risks play a crucial role in identifying and establishing response measures by AI safety agencies and companies worldwide for the safe development and utilization of AI.\n"
     ]
    }
   ],
   "source": [
    "########## 8. 에이전트 실행, 결과 확인 ##########\n",
    "\n",
    "response = agent_with_chat_history.stream(\n",
    "    {\"user_input\": \"이전의 답변을 영어로 번역해 주세요\"},\n",
    "    config={\"configurable\": {\"session_id\": \"sessionid:result1\"}},\n",
    ")\n",
    "\n",
    "for step in response:\n",
    "    agent_stream_parser.process_agent_steps(step)"
   ]
  },
  {
   "cell_type": "code",
   "execution_count": 66,
   "metadata": {},
   "outputs": [
    {
     "name": "stdout",
     "output_type": "stream",
     "text": [
      "[도구 호출]\n",
      "Tool: tavily_search_results_json\n",
      "query: 스타벅스 2024 winter 프리퀀시 미션음료\n",
      "Log: \n",
      "Invoking: `tavily_search_results_json` with `{'query': '스타벅스 2024 winter 프리퀀시 미션음료'}`\n",
      "\n",
      "\n",
      "\n",
      "[관찰 내용]\n",
      "Observation: [{'url': 'https://m.post.naver.com/viewer/postView.naver?volumeNo=40042593&memberNo=1758487', 'content': '스타벅스 2024 winter e-frequency 이벤트는 11월 1일부터 12월 31일까지 진행됩니다. 겨울 시즌 동안 따뜻한 스타벅스 음료와 함께 특별한 증정품을 즐기며 추운 겨울을 감성적으로 보내 보세요. #프리퀀시 #미션음료 #스타벅스미션음료 #스타벅스프리퀀시 #frequency #'}, {'url': 'https://m.blog.naver.com/hxxxx_u/223630058429', 'content': '2024 스타벅스 겨울 e-프리퀀시 총정리 : 네이버 블로그 본문 바로가기 카테고리 이동 님의 블로그 2024 스타벅스 겨울 e-프리퀀시 총정리 이웃추가 본문 기타 기능 공유하기 2024 스타벅스 겨울 e-프리퀀시가 스타벅스 2025 플래너 데일리 플래너 2종 (그린, 핑크) 언데이티드 플래너 1종 (브라운) 3.글로벌 필기앱 굿노트(Good Notes)와 협업 디지털 플래너 1종 (앱 제공) 스타벅스 포터블 램프 4종 디자인 조명 전문 브랜드 보나키아와 협업 스타벅스 2025 캘린더 이희조 작가와 협업 e-프리퀀시 미션 음료 겨울 -프리퀀시 미션 음료는 11월 1일 출시되는 크리스마스 시즌 음료 4.스타벅스 딸기 라떼 리저브 카테고리 e-프리퀀시 이용방법 플래너, 포터블 램프, 캘린더 중 1종 증정 e-프리퀀시 기간 및 예약 방법 11월 1일부터 12월 31일까지 스타벅스 앱에서 가능해요 #스타벅스 댓글 50 공유하기 {\"title\":\"2024 스타벅스 겨울 e-프리퀀시 총정리\",\"source\":\"https://blog.naver.com/hxxxx_u/223630058429\",\"blogName\":\"님의 블로..\",\"blogId\":\"yerld\",\"domainIdOrBlogId\":\"hxxxx_u\",\"nicknameOrBlogId\":\"oun\",\"logNo\":223630058429,\"smartEditorVersion\":4,\"blogDisplay\":true,\"cafeDisplay\":true,\"outsideDisplay\":true,\"meDisplay\":true,\"lineDisplay\":true} 카테고리 댓글 50 공유하기 취소 이웃추가'}, {'url': 'https://cleris00.com/entry/2024-스타벅스-겨울-프리퀸시-일정-및-증정품-소개', 'content': '2024 스타벅스 겨울 e-프리퀀시가 며칠 후 시작됩니다. 이번 이벤트는 11 월 1 일부터 12 월 31 일까지 진행되며, 다양한 혜택과 함께 스타벅스의 특별한 음료를 즐길 수 있는 기회입니다. 이번 포스팅에서는 e-프리퀀시의 주요 내용과 함께 미션 음료, 그리고 증정품에 대해 자세히 알아보겠습니다.'}, {'url': 'https://m.blog.naver.com/usicgoon/223648541976', 'content': '스타벅스 24년 겨울 프리퀀시 일정, 미션음료, 굿즈 종류와 실물 후기 정보 입니다 : 네이버 블로그 카테고리 이동 Sicgoon\\'s IT Talk 스타벅스 24년 겨울 프리퀀시 일정, 미션음료, 굿즈 종류와 실물 후기 정보 입니다 스타벅스 2024년 겨울 프리퀀시 이벤트가 시작되었습니다 2024년 스타벅스 윈터 프리퀀시 일정은 스타벅스 플래너 3종과 LED 포터블 램프 4종 그리고 달력 입니다 논알코올 홀리데이 패션 티 뱅쇼, 스타벅스 딸기 라떼, 얼그레이 바닐라 티 라떼 그리고 리저브 카테고리 제조 음료 총 8종 중에서 LED 포터블 램프 2종 실물이 없는데 디지털 플래너도 함께 사용할수 있어요 요건 LED 포터블 램프 삿갓형 그동안 스타벅스 램프 시리즈는 항상 실망스러웠는데 요건 2024 윈터 프리퀀시 굿즈 실물 동영상 갈수록 퀄리티나 흥미가 떨어지는 스타벅스 프리퀀시 #스타벅스 {\"title\":\"스타벅스 24년 겨울 프리퀀시 일정, 미션음료, 굿즈 종류와 실물 후기 정보 입니다\",\"source\":\"https://blog.naver.com/usicgoon/223648541976\",\"blogName\":\"Sicgoon\\'s..\",\"blogId\":\"azuresora\",\"domainIdOrBlogId\":\"usicgoon\",\"nicknameOrBlogId\":\"해믿\",\"logNo\":223648541976,\"smartEditorVersion\":4,\"cafeDisplay\":true,\"blogDisplay\":true,\"lineDisplay\":true,\"meDisplay\":true,\"outsideDisplay\":false}'}, {'url': 'https://m.blog.naver.com/peach_planet_/223640872810', 'content': '2024 스타벅스 신메뉴와 프리퀀시 정보와 꿀팁 그리고 주의사항까지 : 네이버 블로그 2024 스타벅스 신메뉴와 프리퀀시 정보와 꿀팁 그리고 주의사항까지 윈터 프리퀀시 이벤트에 대한 정보와 꿀팁 그리고 스타벅스 윈터 e-프리퀀시 기간 스타벅스 윈터 프리퀀시 기간은 스타벅스 윈터 e-프리퀀시 정보 스타벅스 윈터 e-프리퀀시 미션 음료 논알코올홀리데이패션티뱅쇼 영양정보입니다 아이스 논알코올홀리데이패션티뱅쇼 영양정보입니다 골든캐모마일릴렉서 영양정보입니다 스타벅스 딸기라떼 영양정보입니다 토피넛라떼 영양정보입니다 아이스 토피넛라떼 영양정보입니다 스타벅스 윈터 프리퀀시 증정품 ● 몰스킨과 함께 만든 스타벅스 플래너 3종 스타벅스 프리퀀시 플래너 수령 고객 대상으로 ● 이희조 작가님과 함께 만든 스타벅스 2025 캘린더 다양하게 활용이 가능합니다 ● 보나키아와 함께 만든 스타벅스 포터블램프 스타벅스 프리퀀시 하루만에 완성하는 꿀팁 스타벅스 에스프레소 14잔을 개인컵사용을 체크해서 하루만에 프리퀀시 완성이 가능합니다 ! 스타벅스 겨울 디저트 신메뉴 #스타벅스2024 {\"title\":\"2024 스타벅스 신메뉴와 프리퀀시 정보와 꿀팁 그리고 주의사항까지\",\"source\":\"https://blog.naver.com/peach_planet_/223640872810\",\"blogName\":\"피치 플래..\",\"blogId\":\"718004\",\"domainIdOrBlogId\":\"peach_planet_\",\"nicknameOrBlogId\":\"피치\",\"logNo\":223640872810,\"smartEditorVersion\":4,\"meDisplay\":true,\"lineDisplay\":true,\"outsideDisplay\":false,\"cafeDisplay\":true,\"blogDisplay\":true}'}]\n",
      "[최종 답변]\n",
      "스타벅스 2024년 겨울 프리퀀시 미션 음료는 다음과 같습니다:\n",
      "\n",
      "1. 논알코올 홀리데이 패션 티 뱅쇼\n",
      "2. 스타벅스 딸기 라떼\n",
      "3. 얼그레이 바닐라 티 라떼\n",
      "4. 리저브 카테고리 제조 음료\n",
      "\n",
      "이 음료들 중 3잔을 포함하여 총 17잔의 음료를 구매하면 프리퀀시를 완성할 수 있습니다.\n"
     ]
    }
   ],
   "source": [
    "########## 8. 에이전트 실행, 결과 확인 ##########\n",
    "\n",
    "response = agent_with_chat_history.stream(\n",
    "    {\n",
    "        \"user_input\": \"스타벅스 2024 winter 프리퀀시 미션음료는 무엇인가요?\"\n",
    "    },\n",
    "    # 세션 ID를 설정합니다.\n",
    "    # 여기서는 간단한 메모리 내 ChatMessageHistory를 사용하기 때문에 실제로 사용되지 않습니다\n",
    "    config={\"configurable\": {\"session_id\": \"sessionid:result2\"}},\n",
    ")\n",
    "\n",
    "for step in response:\n",
    "    agent_stream_parser.process_agent_steps(step)"
   ]
  },
  {
   "cell_type": "code",
   "execution_count": 68,
   "metadata": {},
   "outputs": [
    {
     "name": "stdout",
     "output_type": "stream",
     "text": [
      "[최종 답변]\n",
      "스타벅스 2024 겨울 프리퀀시! 미션 음료: 논알콜 홀리데이 패션 티 뱅쇼, 딸기 라떼, 얼그레이 바닐라 티 라떼, 리저브 음료. 3잔 포함 총 17잔으로 프리퀀시 완성!\n"
     ]
    }
   ],
   "source": [
    "########## 8. 에이전트 실행, 결과 확인 ##########\n",
    "\n",
    "response = agent_with_chat_history.stream(\n",
    "    {\"user_input\": \"이전의 답변을 SNS 게시글 형태로 100자 내외로 작성하세요.\"},\n",
    "    config={\"configurable\": {\"session_id\": \"sessionid:result2\"}},\n",
    ")\n",
    "\n",
    "for step in response:\n",
    "    agent_stream_parser.process_agent_steps(step)"
   ]
  },
  {
   "cell_type": "code",
   "execution_count": 71,
   "metadata": {},
   "outputs": [
    {
     "name": "stdout",
     "output_type": "stream",
     "text": [
      "[도구 호출]\n",
      "Tool: tavily_search_results_json\n",
      "query: 스타벅스 2024 winter 프리퀀시 증정품\n",
      "Log: \n",
      "Invoking: `tavily_search_results_json` with `{'query': '스타벅스 2024 winter 프리퀀시 증정품'}`\n",
      "\n",
      "\n",
      "\n",
      "[관찰 내용]\n",
      "Observation: [{'url': 'https://m.post.naver.com/viewer/postView.naver?volumeNo=40042593&memberNo=1758487', 'content': '2024년 스타벅스 겨울 프리퀀시 이벤트 증정품 3개 및 미션음료 참가방법 ... 스타벅스 2024 winter e-frequency 이벤트는 11월 1일부터 12월 31일까지 진행됩니다. 겨울 시즌 동안 따뜻한 스타벅스 음료와 함께 특별한 증정품을 즐기며 추운 겨울을 감성적으로 보내 보세요.'}, {'url': 'https://icelattematcha.tistory.com/5', 'content': '[스타벅스 2024 winter e-frequency 증정품 안내] 2024 윈터 이프리퀀시 윈터 프리퀀시 2024.11.07 01:02 [스타벅스 리유저블백] [투고 사이렌 리유저블 백] 시그니처 요소를 담은 리유저블 백 출시! 2024.11.01 15:19'}, {'url': 'https://blog.naver.com/PostView.naver?blogId=enrong912&logNo=223642696366', 'content': '블로그 블로그 검색 블로그 메뉴 블로그  블로그 스타벅스 2024년 WINTER e-프리퀀시 시작 /증정품 종류 및 수령 방법 출처-스타벅스 다시 스타벅스 e-프리퀀시의 계절이 돌아왔네요. 미션음료 3잔 포함 총 17잔의 음료를 구매하시면, 스타벅스 플래너, 스타벅스 캘린더, 스타벅스 포터블 램프 중 1개를 증정 스타벅스 모바일 APP 또는 홈페이지(PC 및 모바일)에 등록된 -프리퀸시 바코드 화면 또는 스타벅스 카드를 매장 파트너에게 제시하면 제조 음료 구매 시, e-스티커를 적립할 수 있습니다. 수령 방법 및 주의사항\\u200b 모든 증정품은 스타벅스 모바일 APP을 통해 예약 후 지정한 수령일자에 매장 방문 시에만 수령 가능합니다. 매장별 영업시간이 상이하니, 스타벅스 모바일 APP에서 증정품을 수령할 매장의 영업시간을 반드시 확인해 주시기 바랍니다 스타벅스 플래너 첫 번째로 스타벅스 시그니처 컬러인  두 번째 빠지면 섭섭한 핑크  스타벅스e-프리퀀시 #스타벅스프리퀀시 #스타벅프리퀀시다이어리 #스타벅스2024겨울e-프리퀀시 #스타벅스 #스타벅스다이어리종류 #스타벅스e-프리퀀시제공제품 이 블로그 전체 카테고리 글 글 검색'}, {'url': 'https://blog.naver.com/PostView.naver?blogId=t_hunk&logNo=223643239396', 'content': '2024 스타벅스 겨울 윈터 프리퀀시 증정품 중 플래너와 램프를 미리 영상으로 확인해 보세요. ... 이렇게 이번 2024 스타벅스 윈터 e-프리퀀시 증정품들을 확인해 보았는데요, 개인적으로 다이어리 플래너는 선택하지 않을 것 같습니다. 정말 심플하더라고요.'}, {'url': 'https://namthink.com/entry/2024-겨울-스타벅스-프리퀀시-이벤트-참여방법-증정품-예약방법', 'content': '2024 겨울 스타벅스 프리퀀시 이벤트, 참여방법, 증정품, 예약방법 2024 겨울 스타벅스 프리퀀시 이벤트, 참여방법, 증정품, 예약방법 그러면 지금부터 2024년 겨울 스타벅스 프리퀀시 이벤트 참여방법과 증정품 소개 그리고 증정품 예약방법까지 총정리 해보겠습니다. 2024 겨울 스타벅스 프리퀀시 증정품 소개\\xa03. 스타벅스 프리퀀시 증정품 예약방법 상세안내 참여방법은 스타벅스 모바일 APP 또는 홈페이지(PC 및 모바일)에 등록된 e-프리퀀시 바코드 화면 또는 스타벅스 카드를 매장 파트너에게 제시하면 제조 음료 구매 시, e-스티커를 적립할 수 있습니다. 저도 11월이 되고 스타벅스 앱에 들어가보니 프리퀀시 페이지가 상단에 자동으로 생성되어 있었는데요, 누르면 적립 가능한 바코드가 보여지니 바로 적립하실 수 있습니다. 2. 2024 겨울 스타벅스 프리퀀시 증정품 소개 MOLESKINE과 함께 만든 스타벅스 플래너는 매년 빠지지 않은 증정품으로 프리퀀시 증정품의 원조라고 할 수 있습니다. 3. 스타벅스 프리퀀시 증정품 예약방법 상세안내'}]\n",
      "[최종 답변]\n",
      "스타벅스 2024 겨울 프리퀀시! 미션 음료: 논알콜 홀리데이 패션 티 뱅쇼, 딸기 라떼, 얼그레이 바닐라 티 라떼, 리저브 음료. 3잔 포함 총 17잔으로 프리퀀시 완성!  \n",
      "한국 시리즈 일정: 10월 21일부터 29일까지.  \n",
      "증정품: 스타벅스 플래너, 스타벅스 캘린더, 스타벅스 포터블 램프.\n"
     ]
    }
   ],
   "source": [
    "########## 8. 에이전트 실행, 결과 확인 ##########\n",
    "\n",
    "response = agent_with_chat_history.stream(\n",
    "    {\"user_input\": \"이전의 답변에 스타벅스 2024 winter 증정품을 추가하세요.\"},\n",
    "    config={\"configurable\": {\"session_id\": \"sessionid:result2\"}},\n",
    ")\n",
    "\n",
    "for step in response:\n",
    "    agent_stream_parser.process_agent_steps(step)"
   ]
  }
 ],
 "metadata": {
  "kernelspec": {
   "display_name": "langchain-note-2024-PFhCXHTX-py3.12",
   "language": "python",
   "name": "python3"
  },
  "language_info": {
   "codemirror_mode": {
    "name": "ipython",
    "version": 3
   },
   "file_extension": ".py",
   "mimetype": "text/x-python",
   "name": "python",
   "nbconvert_exporter": "python",
   "pygments_lexer": "ipython3",
   "version": "3.12.7"
  }
 },
 "nbformat": 4,
 "nbformat_minor": 2
}
