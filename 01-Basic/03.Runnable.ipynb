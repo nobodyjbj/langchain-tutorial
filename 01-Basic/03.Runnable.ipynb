{
 "cells": [
  {
   "cell_type": "markdown",
   "metadata": {},
   "source": [
    "### 데이터를 효과적으로 전달하는 방법\n",
    "\n",
    "- `RunnablePassthrough()`: 입력을 변경하지 않거나 추가 키를 더하여 전달하는 방법입니다. 막약 `RunnablePassthrough()`가 단독으로 호출되면 단순히 입력을 받아 그대로 다음 단계에 전달합니다.\n",
    "- `RunnablePassthrough.assign(...)`: 입력을 받아 assign 함수에 전달된 인수를 추가합니다."
   ]
  },
  {
   "cell_type": "markdown",
   "metadata": {},
   "source": [
    "### RunnablePassthrough"
   ]
  },
  {
   "cell_type": "code",
   "execution_count": 24,
   "metadata": {},
   "outputs": [],
   "source": [
    "from langchain_core.prompts import PromptTemplate\n",
    "from langchain_openai import ChatOpenAI\n",
    "\n",
    "prompt = PromptTemplate.from_template(\"다음 문장을 영어로 번역하세요: {input}\")\n",
    "llm = ChatOpenAI(temperature=0)\n",
    "\n",
    "chain = prompt | llm"
   ]
  },
  {
   "cell_type": "code",
   "execution_count": 25,
   "metadata": {},
   "outputs": [
    {
     "data": {
      "text/plain": [
       "{'input': '안녕하세요'}"
      ]
     },
     "execution_count": 25,
     "metadata": {},
     "output_type": "execute_result"
    }
   ],
   "source": [
    "from langchain_core.runnables import RunnablePassthrough\n",
    "\n",
    "RunnablePassthrough().invoke({\"input\": \"안녕하세요\"})  # 입력을 그대로 전달"
   ]
  },
  {
   "cell_type": "markdown",
   "metadata": {},
   "source": [
    "아래는 `RunnablePassthrough()` 로 체인을 생성하는 예제입니다."
   ]
  },
  {
   "cell_type": "code",
   "execution_count": 26,
   "metadata": {},
   "outputs": [
    {
     "data": {
      "text/plain": [
       "AIMessage(content='Hello', additional_kwargs={'refusal': None}, response_metadata={'token_usage': {'completion_tokens': 1, 'prompt_tokens': 25, 'total_tokens': 26, 'completion_tokens_details': {'accepted_prediction_tokens': 0, 'audio_tokens': 0, 'reasoning_tokens': 0, 'rejected_prediction_tokens': 0}, 'prompt_tokens_details': {'audio_tokens': 0, 'cached_tokens': 0}}, 'model_name': 'gpt-3.5-turbo-0125', 'system_fingerprint': None, 'finish_reason': 'stop', 'logprobs': None}, id='run-3da8d110-3ad2-4015-8e79-75e01a88ab54-0', usage_metadata={'input_tokens': 25, 'output_tokens': 1, 'total_tokens': 26, 'input_token_details': {'audio': 0, 'cache_read': 0}, 'output_token_details': {'audio': 0, 'reasoning': 0}})"
      ]
     },
     "execution_count": 26,
     "metadata": {},
     "output_type": "execute_result"
    }
   ],
   "source": [
    "runnable_chain = {\n",
    "    \"input\": RunnablePassthrough()\n",
    "} | chain  # RunnablePassthrough() 를 사용해서 invoke() 때 키:값 형식이 아니라 값만 받을 수 있게 하는 문법을 많이 사용한다.\n",
    "runnable_chain.invoke(\"안녕하세요\")"
   ]
  },
  {
   "cell_type": "markdown",
   "metadata": {},
   "source": [
    "아래는 `RunnablePassthrough.assign()` 로 체인을 생성하는 예제입니다.  \n",
    "assign() 메서드를 활용하면 입력의 일부 요소를 추출하거나, 입력 데이터를 수정하여 다른 구조로 매핑할 수 있습니다.  \n",
    "예를 들어, JSON 데이터의 특정 필드만을 전달하거나 입력 데이터의 구조를 변경하는 작업에서 유용하게 사용할 수 있습니다.  \n",
    "용도: 데이터 필터링 또는 재구조화가 필요한 경우에 사용됩니다.  "
   ]
  },
  {
   "cell_type": "code",
   "execution_count": 27,
   "metadata": {},
   "outputs": [
    {
     "data": {
      "text/plain": [
       "{'input': '안녕하세요.', 'new_input': '안녕하세요. 좋은 하루 되세요!'}"
      ]
     },
     "execution_count": 27,
     "metadata": {},
     "output_type": "execute_result"
    }
   ],
   "source": [
    "RunnablePassthrough().assign(\n",
    "    new_input=lambda x: x[\"input\"] + \" 좋은 하루 되세요!\"\n",
    ").invoke({\"input\": \"안녕하세요.\"})"
   ]
  },
  {
   "cell_type": "markdown",
   "metadata": {},
   "source": [
    "### RunnableParallel\n",
    "\n",
    "- RunnableParallel은 여러 Runnable 객체를 동시에 실행하여 병렬 처리합니다. \n",
    "- 각 Runnable에 입력 데이터를 전달하고, 그 결과를 동시에 반환합니다.\n",
    "- 여러 작업을 병렬로 처리하여 성능을 높이려는 경우 유용합니다. 예를 들어, 여러 API 호출을 병렬로 실행하거나, 여러 모델을 동시에 호출할 때 사용할 수 있습니다.  \n",
    "\n",
    "용도: 작업을 병렬로 처리하여 효율성을 높이고 시간을 절약하려는 경우에 적합합니다."
   ]
  },
  {
   "cell_type": "code",
   "execution_count": 28,
   "metadata": {},
   "outputs": [
    {
     "data": {
      "text/plain": [
       "{'passed': {'input': '안녕하세요.'},\n",
       " 'extra': {'input': '안녕하세요.', 'new_input': '안녕하세요. 좋은 하루 되세요!'},\n",
       " 'modified': '안녕하세요. 반갑습니다!'}"
      ]
     },
     "execution_count": 28,
     "metadata": {},
     "output_type": "execute_result"
    }
   ],
   "source": [
    "from langchain_core.runnables import RunnableParallel\n",
    "\n",
    "runnable = RunnableParallel(\n",
    "    passed=RunnablePassthrough(),\n",
    "    extra=RunnablePassthrough().assign(\n",
    "        new_input=lambda x: x[\"input\"] + \" 좋은 하루 되세요!\"\n",
    "    ),\n",
    "    modified=lambda x: x[\"input\"] + \" 반갑습니다!\",\n",
    ")\n",
    "runnable.invoke({\"input\": \"안녕하세요.\"})"
   ]
  },
  {
   "cell_type": "markdown",
   "metadata": {},
   "source": [
    "Chain에 RunnableParallel 를 사용하는 예제입니다."
   ]
  },
  {
   "cell_type": "code",
   "execution_count": 29,
   "metadata": {},
   "outputs": [
    {
     "data": {
      "text/plain": [
       "{'capital': AIMessage(content='서울입니다.', additional_kwargs={'refusal': None}, response_metadata={'token_usage': {'completion_tokens': 5, 'prompt_tokens': 14, 'total_tokens': 19, 'completion_tokens_details': {'accepted_prediction_tokens': 0, 'audio_tokens': 0, 'reasoning_tokens': 0, 'rejected_prediction_tokens': 0}, 'prompt_tokens_details': {'audio_tokens': 0, 'cached_tokens': 0}}, 'model_name': 'gpt-3.5-turbo-0125', 'system_fingerprint': None, 'finish_reason': 'stop', 'logprobs': None}, id='run-e5bb52f7-88d8-4dd2-a173-17acca800812-0', usage_metadata={'input_tokens': 14, 'output_tokens': 5, 'total_tokens': 19, 'input_token_details': {'audio': 0, 'cache_read': 0}, 'output_token_details': {'audio': 0, 'reasoning': 0}}),\n",
       " 'area': AIMessage(content='대한민국의 총 면적은 약 100,363km² 입니다.', additional_kwargs={'refusal': None}, response_metadata={'token_usage': {'completion_tokens': 25, 'prompt_tokens': 15, 'total_tokens': 40, 'completion_tokens_details': {'accepted_prediction_tokens': 0, 'audio_tokens': 0, 'reasoning_tokens': 0, 'rejected_prediction_tokens': 0}, 'prompt_tokens_details': {'audio_tokens': 0, 'cached_tokens': 0}}, 'model_name': 'gpt-3.5-turbo-0125', 'system_fingerprint': None, 'finish_reason': 'stop', 'logprobs': None}, id='run-9dde91ab-e376-41a2-afc7-b4b3ac0a4170-0', usage_metadata={'input_tokens': 15, 'output_tokens': 25, 'total_tokens': 40, 'input_token_details': {'audio': 0, 'cache_read': 0}, 'output_token_details': {'audio': 0, 'reasoning': 0}})}"
      ]
     },
     "execution_count": 29,
     "metadata": {},
     "output_type": "execute_result"
    }
   ],
   "source": [
    "from langchain_openai import ChatOpenAI\n",
    "from langchain_core.runnables import RunnablePassthrough\n",
    "\n",
    "llm = ChatOpenAI(temperature=0)\n",
    "\n",
    "chain1 = (\n",
    "    {\"country\": RunnablePassthrough()}\n",
    "    | PromptTemplate.from_template(\"{country}의 수도는?\")\n",
    "    | llm\n",
    ")\n",
    "chain2 = (\n",
    "    {\"country\": RunnablePassthrough()}\n",
    "    | PromptTemplate.from_template(\"{country}의 면적은?\")\n",
    "    | llm\n",
    ")\n",
    "\n",
    "combined_chain = RunnableParallel(capital=chain1, area=chain2)\n",
    "\n",
    "combined_chain.invoke(\"Korea\")"
   ]
  },
  {
   "cell_type": "markdown",
   "metadata": {},
   "source": [
    "### RunnableLambda\n",
    "\n",
    "- RunnableLambda 를 사용하여 사용자 정의 함수를 맵핑할 수 있습니다. \n",
    "- **매개변수가 하나** 일때만 사용합니다. 여러개를 받으려면 dictionary 타입으로 래핑하여 사용하는 방법을 구현 할 수 있습니다."
   ]
  },
  {
   "cell_type": "code",
   "execution_count": 21,
   "metadata": {},
   "outputs": [],
   "source": [
    "from langchain_core.output_parsers import StrOutputParser\n",
    "from langchain_core.prompts import PromptTemplate\n",
    "from langchain_openai import ChatOpenAI\n",
    "from datetime import datetime\n",
    "\n",
    "\n",
    "# 왜 굳이 없어도 되는 매개변수를 지정했는가? invoke 함수에 정의된 매개변수가 사용자가 정의한 함수에 들어오긴 들어와야 하는 구조이기 때문에 변수가 있어야 한다.\n",
    "def get_today(a):\n",
    "    print(f\"입력받은 변수 a의 값: {a}\")\n",
    "    print(f\"입력받은 n의 값: {a['n']}\")\n",
    "    return datetime.now().strftime(\"%m월 %d일\")\n",
    "\n",
    "\n",
    "# 오늘 날짜 출력\n",
    "# get_today(None)"
   ]
  },
  {
   "cell_type": "code",
   "execution_count": 18,
   "metadata": {},
   "outputs": [
    {
     "name": "stdout",
     "output_type": "stream",
     "text": [
      "- 유명인 이름: 이승기  \n",
      "- 생일 날짜: 1987년 11월 11일  \n",
      "\n",
      "- 유명인 이름: 박정현  \n",
      "- 생일 날짜: 1976년 11월 11일  \n",
      "\n",
      "- 유명인 이름: 김소현  \n",
      "- 생일 날짜: 1999년 11월 11일  \n"
     ]
    }
   ],
   "source": [
    "from langchain_core.runnables import RunnableLambda, RunnablePassthrough\n",
    "\n",
    "template = \"\"\"\n",
    "{today} 이 생일인 한국이 유명인 {n} 명을 나열해주세요.\n",
    "양식은 [FORMAT]을 참고하여 표기해주세요.\n",
    "\n",
    "# FORMAT\n",
    "- 유명인 이름:\n",
    "- 생일 날짜:\n",
    "\"\"\"\n",
    "\n",
    "prompt = PromptTemplate.from_template(template)\n",
    "llm = ChatOpenAI(model=\"gpt-4o-mini\", temperature=0)\n",
    "\n",
    "chain = (\n",
    "    {\"today\": RunnableLambda(get_today), \"n\": RunnablePassthrough()}\n",
    "    | prompt\n",
    "    | llm\n",
    "    | StrOutputParser()\n",
    ")\n",
    "\n",
    "answer = chain.invoke(3)\n",
    "print(answer)"
   ]
  },
  {
   "cell_type": "markdown",
   "metadata": {},
   "source": [
    "`itemgetter` 를 사용하여 특정 키를 추출할 수 있습니다."
   ]
  },
  {
   "cell_type": "code",
   "execution_count": 22,
   "metadata": {},
   "outputs": [
    {
     "name": "stdout",
     "output_type": "stream",
     "text": [
      "입력받은 변수 a의 값: {'n': 3}\n",
      "입력받은 n의 값: 3\n",
      "- 유명인 이름: 이승기  \n",
      "- 생일 날짜: 1987년 11월 11일  \n",
      "\n",
      "- 유명인 이름: 박정현  \n",
      "- 생일 날짜: 1976년 11월 11일  \n",
      "\n",
      "- 유명인 이름: 김소현  \n",
      "- 생일 날짜: 1999년 11월 11일  \n"
     ]
    }
   ],
   "source": [
    "from operator import itemgetter\n",
    "\n",
    "chain = (\n",
    "    {\"today\": RunnableLambda(get_today), \"n\": itemgetter(\"n\")}\n",
    "    | prompt\n",
    "    | llm\n",
    "    | StrOutputParser()\n",
    ")\n",
    "\n",
    "answer = chain.invoke({\"n\": 3})\n",
    "print(answer)"
   ]
  },
  {
   "cell_type": "markdown",
   "metadata": {},
   "source": [
    "`_multiple_function()` 예시입니다. 다중매개변수를 받는 방법입니다."
   ]
  },
  {
   "cell_type": "code",
   "execution_count": 34,
   "metadata": {},
   "outputs": [],
   "source": [
    "def number_function(num: int):\n",
    "    return num\n",
    "\n",
    "\n",
    "def _multiple_num_function(num1, num2):\n",
    "    return num1 + num2\n",
    "\n",
    "\n",
    "def multiple_num_function(_dict):\n",
    "    return _multiple_num_function(_dict[\"num1\"], _dict[\"num2\"])"
   ]
  },
  {
   "cell_type": "code",
   "execution_count": 36,
   "metadata": {},
   "outputs": [
    {
     "name": "stdout",
     "output_type": "stream",
     "text": [
      "2\n",
      "2 * 5는 10 입니다.\n"
     ]
    }
   ],
   "source": [
    "from langchain_core.prompts import ChatPromptTemplate\n",
    "from langchain_openai import ChatOpenAI\n",
    "from operator import itemgetter\n",
    "from langchain_core.runnables import RunnableLambda\n",
    "\n",
    "prompt = ChatPromptTemplate.from_template(\"{a} * {b} 는 무엇인가요?\")\n",
    "llm = ChatOpenAI(temperature=0)\n",
    "\n",
    "chain = (\n",
    "    {\n",
    "        \"a\": itemgetter(\"num1\") | RunnableLambda(number_function),\n",
    "        \"b\": {\"num1\": itemgetter(\"num1\"), \"num2\": itemgetter(\"num2\")}\n",
    "        | RunnableLambda(multiple_num_function),\n",
    "    }\n",
    "    | prompt\n",
    "    | llm\n",
    ")\n",
    "\n",
    "answer = chain.invoke({\"num1\": 2, \"num2\": 3})\n",
    "print(answer.content)"
   ]
  }
 ],
 "metadata": {
  "kernelspec": {
   "display_name": "langchain-note-2024-PFhCXHTX-py3.12",
   "language": "python",
   "name": "python3"
  },
  "language_info": {
   "codemirror_mode": {
    "name": "ipython",
    "version": 3
   },
   "file_extension": ".py",
   "mimetype": "text/x-python",
   "name": "python",
   "nbconvert_exporter": "python",
   "pygments_lexer": "ipython3",
   "version": "3.12.7"
  }
 },
 "nbformat": 4,
 "nbformat_minor": 2
}
