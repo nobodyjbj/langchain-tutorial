{
 "cells": [
  {
   "cell_type": "markdown",
   "metadata": {},
   "source": [
    "### PromptTemplate\n",
    "\n",
    "- 사용자의 입력 변수를 사용하여 완전한 프롬프트 문자열을 만드는데 사용되는 템플릿입니다.\n",
    "- 템플릿에 변수를 사용하여 동적으로 프롬프트를 생성할 수 있습니다.\n",
    "- 사용법\n",
    "  - `template`: 프롬프트 템플릿 문자열입니다. 이 문자열에서 {}는 변수를 나타냅니다.\n",
    "  - `input_variables`: 프롬프트에 사용할 변수 목록입니다. 중괄호 안에 들어갈 이름을 리스트로 정의합니다.\n",
    "\n",
    "`input_variables`\n",
    "- input_variables에 정의된 변수는 PromptTemplate 에서 사용할 수 있습니다."
   ]
  },
  {
   "cell_type": "code",
   "execution_count": 2,
   "metadata": {},
   "outputs": [],
   "source": [
    "from langchain.prompts import PromptTemplate"
   ]
  },
  {
   "cell_type": "markdown",
   "metadata": {},
   "source": [
    "`from_template()` 메소드를 사용하여 PromptTemplate 인스턴스를 생성합니다."
   ]
  },
  {
   "cell_type": "code",
   "execution_count": 9,
   "metadata": {},
   "outputs": [
    {
     "data": {
      "text/plain": [
       "PromptTemplate(input_variables=['food'], input_types={}, partial_variables={}, template='{food}의 요리법은?')"
      ]
     },
     "execution_count": 9,
     "metadata": {},
     "output_type": "execute_result"
    }
   ],
   "source": [
    "# template 정의\n",
    "template = \"{food}의 요리법은?\"\n",
    "\n",
    "# PromptTemplate 인스턴스 생성\n",
    "prompt_template = PromptTemplate.from_template(template)\n",
    "prompt_template"
   ]
  },
  {
   "cell_type": "code",
   "execution_count": 11,
   "metadata": {},
   "outputs": [
    {
     "data": {
      "text/plain": [
       "'고로케의 요리법은?'"
      ]
     },
     "execution_count": 11,
     "metadata": {},
     "output_type": "execute_result"
    }
   ],
   "source": [
    "# prompt 설정\n",
    "prompt = prompt_template.format(food=\"고로케\")\n",
    "prompt"
   ]
  },
  {
   "cell_type": "code",
   "execution_count": 12,
   "metadata": {},
   "outputs": [
    {
     "data": {
      "text/plain": [
       "'단팥빵의 요리법은?'"
      ]
     },
     "execution_count": 12,
     "metadata": {},
     "output_type": "execute_result"
    }
   ],
   "source": [
    "# prompt 설정\n",
    "prompt = prompt_template.format(food=\"단팥빵\")\n",
    "prompt"
   ]
  },
  {
   "cell_type": "markdown",
   "metadata": {},
   "source": [
    "### Chain 생성\n",
    "\n",
    "#### LECL (Langchain Expression Language)\n",
    "\n",
    "![image.png](image.png)\n",
    "\n",
    "`chain = prompt | model | output_parser`\n",
    "\n",
    "`|` 기호는 unix 파이프 연산자와 유사하며, 서로 다른 구성 요소를 연결하고 한 구성 요소의 축력을 다음 구성요소의 입력으로 전달합니다.  \n",
    "아래 코드에서 사용자의 입력은 PromptTemplate 로 전달된 후 처리 결과는 LLM 모델로 전달되고 처리됩니다. 그리고 그 결과는 OutputParser 로 전달되어 출력을 나타냅니다.\n"
   ]
  },
  {
   "cell_type": "code",
   "execution_count": 16,
   "metadata": {},
   "outputs": [],
   "source": [
    "from langchain_openai import ChatOpenAI\n",
    "\n",
    "prompt = PromptTemplate.from_template(\"{food}의 요리법을 {language}로 설명해주세요.\")\n",
    "model = ChatOpenAI()\n",
    "\n",
    "chain = prompt | model"
   ]
  },
  {
   "cell_type": "markdown",
   "metadata": {},
   "source": [
    "### Invocke() 호출\n",
    "\n",
    "- 실행은 기본적인 방법으로 invoke() 메소드를 사용합니다. 딕셔너리 형태로 잆력값을 전달합니다.{키:값}\n",
    "- invoke() 함수 호출 시, 사용자의 입력(input)을 전달합니다.\n",
    "- 옵션으로는 추가적인 매개변수를 전달할 수 있습니다."
   ]
  },
  {
   "cell_type": "code",
   "execution_count": 21,
   "metadata": {},
   "outputs": [
    {
     "data": {
      "text/plain": [
       "AIMessage(content=\"Korokke is a popular Japanese dish made with mashed potatoes and various fillings, coated in breadcrumbs and deep-fried until crispy. Here's how to make it:\\n\\nIngredients:\\n- 2 large potatoes, peeled and diced\\n- 1/2 cup cooked vegetables (corn, peas, carrots, etc.)\\n- 1/4 cup minced onion\\n- Salt and pepper to taste\\n- 1/2 cup flour\\n- 2 eggs, beaten\\n- 1 cup breadcrumbs\\n- Oil for frying\\n\\nInstructions:\\n1. Boil the diced potatoes in a pot of salted water until tender. Drain and mash the potatoes in a large bowl.\\n2. Add the cooked vegetables, minced onion, salt, and pepper to the mashed potatoes. Mix well to combine.\\n3. Shape the potato mixture into small patties or croquettes.\\n4. Dredge each patty in flour, dip in beaten eggs, and coat with breadcrumbs.\\n5. Heat oil in a deep fryer or a large skillet over medium heat. Fry the korokke until golden brown on all sides.\\n6. Remove the korokke from the oil and drain on paper towels.\\n7. Serve hot with tonkatsu sauce or your favorite dipping sauce.\\n\\nEnjoy your delicious homemade korokke!\", additional_kwargs={'refusal': None}, response_metadata={'token_usage': {'completion_tokens': 263, 'prompt_tokens': 27, 'total_tokens': 290, 'completion_tokens_details': {'accepted_prediction_tokens': 0, 'audio_tokens': 0, 'reasoning_tokens': 0, 'rejected_prediction_tokens': 0}, 'prompt_tokens_details': {'audio_tokens': 0, 'cached_tokens': 0}}, 'model_name': 'gpt-3.5-turbo-0125', 'system_fingerprint': None, 'finish_reason': 'stop', 'logprobs': None}, id='run-6939fd0b-7331-445a-99f1-5ee983bf3a75-0', usage_metadata={'input_tokens': 27, 'output_tokens': 263, 'total_tokens': 290, 'input_token_details': {'audio': 0, 'cache_read': 0}, 'output_token_details': {'audio': 0, 'reasoning': 0}})"
      ]
     },
     "execution_count": 21,
     "metadata": {},
     "output_type": "execute_result"
    }
   ],
   "source": [
    "input = {\"food\": \"고로케\", \"language\": \"영어\"}\n",
    "\n",
    "answer = chain.invoke(input)\n",
    "answer"
   ]
  },
  {
   "cell_type": "code",
   "execution_count": 23,
   "metadata": {},
   "outputs": [
    {
     "data": {
      "text/plain": [
       "\"Korokke is a popular Japanese dish made with mashed potatoes and various fillings, coated in breadcrumbs and deep-fried until crispy. Here's how to make it:\\n\\nIngredients:\\n- 2 large potatoes, peeled and diced\\n- 1/2 cup cooked vegetables (corn, peas, carrots, etc.)\\n- 1/4 cup minced onion\\n- Salt and pepper to taste\\n- 1/2 cup flour\\n- 2 eggs, beaten\\n- 1 cup breadcrumbs\\n- Oil for frying\\n\\nInstructions:\\n1. Boil the diced potatoes in a pot of salted water until tender. Drain and mash the potatoes in a large bowl.\\n2. Add the cooked vegetables, minced onion, salt, and pepper to the mashed potatoes. Mix well to combine.\\n3. Shape the potato mixture into small patties or croquettes.\\n4. Dredge each patty in flour, dip in beaten eggs, and coat with breadcrumbs.\\n5. Heat oil in a deep fryer or a large skillet over medium heat. Fry the korokke until golden brown on all sides.\\n6. Remove the korokke from the oil and drain on paper towels.\\n7. Serve hot with tonkatsu sauce or your favorite dipping sauce.\\n\\nEnjoy your delicious homemade korokke!\""
      ]
     },
     "execution_count": 23,
     "metadata": {},
     "output_type": "execute_result"
    }
   ],
   "source": [
    "answer.content\n",
    "# answer.response"
   ]
  },
  {
   "cell_type": "markdown",
   "metadata": {},
   "source": [
    "### 출력 파서 (OutputParser)\n",
    "\n",
    "- 출력 파서는 모델의 출력을 원하는 형식으로 변환하는 역할을 합니다."
   ]
  },
  {
   "cell_type": "code",
   "execution_count": 26,
   "metadata": {},
   "outputs": [],
   "source": [
    "from langchain_core.output_parsers import StrOutputParser\n",
    "\n",
    "output_parser = StrOutputParser()"
   ]
  },
  {
   "cell_type": "code",
   "execution_count": 28,
   "metadata": {},
   "outputs": [
    {
     "data": {
      "text/plain": [
       "'Korokke Recipe\\n\\nIngredients:\\n- 2 large potatoes, peeled and diced\\n- 1/2 cup cooked vegetables (carrots, peas, corn)\\n- 1/2 cup chopped onion\\n- 1/2 cup ground meat (beef or pork)\\n- Salt and pepper to taste\\n- 1/4 cup flour\\n- 1/4 cup breadcrumbs\\n- 1 egg, beaten\\n- Oil for frying\\n\\nInstructions:\\n1. Boil the diced potatoes in a pot of water until they are soft. Drain and mash the potatoes in a bowl.\\n2. In a separate pan, sauté the chopped onion until translucent. Add the ground meat and cook until browned.\\n3. Mix the cooked vegetables, onion and meat mixture, salt, and pepper with the mashed potatoes until well combined.\\n4. Shape the potato mixture into oval or round patties.\\n5. Dip each patty into flour, then egg, and finally breadcrumbs, making sure to coat each side evenly.\\n6. Heat oil in a frying pan over medium heat. Fry the patties until they are golden brown on each side.\\n7. Remove the korokke from the pan and place them on a paper towel to drain excess oil.\\n8. Serve the korokke hot with tonkatsu sauce or Worcestershire sauce on the side. Enjoy!'"
      ]
     },
     "execution_count": 28,
     "metadata": {},
     "output_type": "execute_result"
    }
   ],
   "source": [
    "# 프롬프트, 모델, 출력 파서를 연결하여 처리 체인을 구성합니다.\n",
    "chain = prompt | model | output_parser\n",
    "\n",
    "# chain 객체의 invoke() 메서드를 사용하여 input을 전달합니다.\n",
    "input = {\"food\": \"고로케\", \"language\": \"영어\"}\n",
    "\n",
    "answer = chain.invoke(input)\n",
    "answer"
   ]
  },
  {
   "cell_type": "markdown",
   "metadata": {},
   "source": [
    "### 템플릿을 변경하여 사용"
   ]
  },
  {
   "cell_type": "code",
   "execution_count": 32,
   "metadata": {},
   "outputs": [
    {
     "name": "stdout",
     "output_type": "stream",
     "text": [
      "- 요리명: 덜 매운 떡볶이\n",
      "\n",
      "- 요리법:\n",
      "  ### 재료\n",
      "  - 떡볶이 떡 300g\n",
      "  - 어묵 100g\n",
      "  - 대파 1대\n",
      "  - 양배추 100g\n",
      "  - 고추장 1.5 큰술\n",
      "  - 고춧가루 1/2 큰술 (선택 사항)\n",
      "  - 설탕 2 큰술\n",
      "  - 간장 1 큰술\n",
      "  - 다진 마늘 1 작은술\n",
      "  - 물 500ml\n",
      "\n",
      "  ### 만드는 방법\n",
      "  1. 떡볶이 떡은 찬물에 20분 정도 담가 불린 후, 물기를 제거합니다.\n",
      "  2. 어묵은 적당한 크기로 썰고, 대파는 송송 썰어 준비합니다. 양배추는 깨끗이 씻어 깍둑썰기로 썰어 줍니다.\n",
      "  3. 큰 팬이나 냄비에 물 500ml를 붓고, 고추장, 간장, 설탕, 다진 마늘을 넣고 잘 섞어줍니다.\n",
      "  4. 소스가 섞인 냄비에 떡볶이 떡, 어묵, 양배추를 넣고 중불에서 끓여줍니다.\n",
      "  5. 떡볶이가 어느 정도 익으면 대파를 넣고 5분 정도 더 끓여줍니다.\n",
      "  6. 맛을 보고 필요한 경우 설탕이나 간장으로 간을 맞춥니다. 고춧가루는 매운 맛을 조절하기 위해 추가하는 것이므로, 덜 매운 맛을 원할 경우 생략하거나 적게 넣습니다.\n",
      "  7. 모든 재료가 충분히 익고 맛이 어우러졌다면 불을 끄고 그릇에 담아서 제공합니다.\n",
      "\n",
      "  ### 팁\n",
      "  - 덜 매운 떡볶이를 원하면 고춧가루 대신 파프리카 가루를 사용하는 것도 좋은 대안이 될 수 있습니다.\n",
      "  - 매운맛의 강도를 원하는 대로 조절하기 위해 고추장의 양을 조절하거나 순한 고추장을 사용하세요.\n",
      "  - 더 풍부한 맛을 위해 토마토 소스를 조금 추가하는 것도 맛있을 수 있습니다.\n"
     ]
    }
   ],
   "source": [
    "template = \"\"\"\n",
    "당신은 세계에서 가장 실력있는 셰프입니다.\n",
    "음식에 맞는 요리법을 작성해주세요.\n",
    "양식은 [FORMAT]을 참고하여 작성해주세요.\n",
    "\n",
    "# 질문\n",
    "{question}\n",
    "\n",
    "# FORMAT\n",
    "- 요리명:\n",
    "- 요리법:\n",
    "\"\"\"\n",
    "\n",
    "prompt = PromptTemplate.from_template(template)\n",
    "\n",
    "model = ChatOpenAI(model=\"gpt-4-turbo\")\n",
    "\n",
    "output_parser = StrOutputParser()\n",
    "\n",
    "chain = prompt | model | output_parser\n",
    "\n",
    "answer = chain.invoke({\"question\": \"덜 매운 떡볶이의 요리법\"})\n",
    "\n",
    "print(answer)"
   ]
  },
  {
   "cell_type": "markdown",
   "metadata": {},
   "source": [
    "### LangSmith 확인\n",
    "\n",
    "- langsmith 에서 확인하면 완성된 프롬프트를 볼 수 있습니다.\n",
    "\n",
    "![langsmith_check.png](langsmith_check.png)"
   ]
  },
  {
   "cell_type": "markdown",
   "metadata": {},
   "source": [
    "### steam: 실시간 출력\n",
    "\n",
    "이 함수는 chain.stream() 메서드를 사용하면 스트림을 반복하여 각 데이터 내용(`content`)을 즉시 출력합니다.  \n",
    "  \n",
    "`end=\"\"` 인자는 출력 후 줄바꿈이 되지 않도록 합니다.  \n",
    "`flush=True` 인자는 출력 버퍼를 비우도록 합니다.  "
   ]
  },
  {
   "cell_type": "code",
   "execution_count": 35,
   "metadata": {},
   "outputs": [
    {
     "name": "stdout",
     "output_type": "stream",
     "text": [
      "- 요리명: 덜 매운 떡볶이\n",
      "\n",
      "- 요리법:\n",
      "  ### 재료\n",
      "  - 떡볶이 떡 300g\n",
      "  - 어묵 2장\n",
      "  - 대파 1대\n",
      "  - 양파 1/2개\n",
      "  - 당근 조금\n",
      "  - 매운 고추장 1큰술\n",
      "  - 고추가루 1/2큰술\n",
      "  - 간장 2큰술\n",
      "  - 설탕 2큰술\n",
      "  - 다진 마늘 1작은술\n",
      "  - 물 2컵 (약 500ml)\n",
      "  - 소금 약간\n",
      "\n",
      "  ### 조리 방법\n",
      "  1. 떡볶이 떡은 미지근한 물에 20분 정도 불려주세요.\n",
      "  2. 어묵은 물에 먼저 데쳐 기름기를 빼고, 적당한 크기로 자릅니다.\n",
      "  3. 대파, 양파, 당근은 씻어서 얇게 썰어 준비합니다.\n",
      "  4. 냄비에 물 2컵을 붓고, 매운 고추장, 고추가루, 간장, 설탕, 다진 마늘을 넣어 잘 섞으면서 중불에서 끓입니다.\n",
      "  5. 양념이 골고루 섞이면 불린 떡볶이 떡을 넣고, 끓는 동안 중간중간 저어줍니다.\n",
      "  6. 떡이 어느 정도 익었다 싶으면, 어묵과 야채를 넣고 함께 볶아줍니다.\n",
      "  7. 모든 재료가 양념에 잘 버무려지고, 떡볶이 떡이 부드러워질 때까지 중불에서 조리합니다.\n",
      "  8. 맛을 보고 소금으로 간을 조절한 후, 대파를 넣고 한 번 더 끓여준 뒤 불을 끕니다.\n",
      "\n",
      "  ### 팁\n",
      "  - 고추가루의 양을 줄이거나 고추장 대신 토마토 소스를 사용하면 더욱 덜 매우면서도 맛있는 떡볶이를 만들 수 있습니다.\n",
      "  - 약간의 치즈를 추가하면 매운 맛이 중화되면서도 고소한 맛을 즐길 수 있습니다."
     ]
    }
   ],
   "source": [
    "answer = chain.stream({\"question\": \"덜 매운 떡볶이의 요리법\"})\n",
    "\n",
    "for chunk in answer:\n",
    "    print(chunk, end=\"\", flush=True)"
   ]
  },
  {
   "cell_type": "markdown",
   "metadata": {},
   "source": [
    "### invoke: 호출\n",
    "\n",
    "- 이 함수는 chain.invoke() 메서드를 사용하여 체인을 호출하고 즉시 출력합니다.\n",
    "- 이 함수는 체인의 출력을 반환하며, 출력 파서를 사용하여 출력을 파싱합니다.\n",
    "- 출력 파서는 체인의 마지막 구성 요소로 사용되며, 체인의 출력을 원하는 형식으로 변환합니다.\n"
   ]
  },
  {
   "cell_type": "code",
   "execution_count": 36,
   "metadata": {},
   "outputs": [
    {
     "data": {
      "text/plain": [
       "'- 요리명: 덜 매운 떡볶이\\n\\n- 요리법:\\n  ### 재료\\n  - 떡볶이 떡 300g\\n  - 어묵 2장\\n  - 당근 소량\\n  - 양파 1/2개\\n  - 대파 1대\\n  - 고춧가루 1/2큰술\\n  - 간장 1큰술\\n  - 설탕 1큰술\\n  - 마늘 1큰술 (다진 마늘)\\n  - 물 2컵 (약 480ml)\\n  - 참기름 1/2큰술\\n\\n  ### 조리 방법\\n  1. 떡볶이 떡은 물에 20분 정도 불리어 부드럽게 합니다.\\n  2. 어묵은 먹기 좋은 크기로 자르고, 당근과 양파는 채 썰어 준비합니다. 대파는 송송 썰어두세요.\\n  3. 중간 크기의 팬에 물 2컵을 붓고, 불에 올립니다.\\n  4. 물이 끓기 시작하면 고춧가루, 간장, 설탕, 다진 마늘을 넣고 잘 섞어줍니다.\\n  5. 약간의 끓는 물에 떡볶이 떡, 어묵, 당근, 양파를 넣고 중불에서 10분 정도 끓여줍니다.\\n  6. 모든 재료가 잘 익고 양념이 배어들면 대파를 넣고 2분 더 끓입니다.\\n  7. 마지막으로 참기름을 넣고 한 번 더 잘 섞어 준 후 불을 끕니다.\\n  8. 그릇에 담아서 서빙합니다.\\n\\n  ### 팁\\n  - 조리 중 매운 맛을 조절하고 싶다면 고춧가루의 양을 조절하거나 대신 고추장을 소량 사용해도 좋습니다.\\n  - 더욱 풍부한 맛을 위해 토마토 소스를 조금 추가해도 좋습니다.'"
      ]
     },
     "execution_count": 36,
     "metadata": {},
     "output_type": "execute_result"
    }
   ],
   "source": [
    "answer = chain.invoke({\"question\": \"덜 매운 떡볶이의 요리법\"})\n",
    "answer"
   ]
  },
  {
   "cell_type": "markdown",
   "metadata": {},
   "source": [
    "### Batch: 배치(단위실행, 묶음실행, 일괄실행, 그룹단위 실행)\n",
    "\n",
    "- 이 함수는 chain.batch() 메서드를 사용하여 여러개의 딕셔너리를 포함하는 리스트를 인자로 받아 일괄 처리합니다."
   ]
  },
  {
   "cell_type": "code",
   "execution_count": 38,
   "metadata": {},
   "outputs": [
    {
     "data": {
      "text/plain": [
       "['- 요리명: 덜 매운 떡볶이\\n\\n- 요리법:\\n  1. **재료 준비**: 떡볶이 떡 300g, 어묵 2장, 대파 1대, 양배추 조금, 간장 1 큰술, 설탕 1 큰술, 고추장 1 큰술, 고춧가루 1/2 큰술, 다진 마늘 1/2 큰술, 물 2컵.\\n  2. **떡 불리기**: 떡볶이 떡은 찬물에 20분 정도 불린 후 물기를 제거합니다.\\n  3. **야채 준비**: 양배추는 한입 크기로, 대파는 송송 썰어 준비합니다.\\n  4. **어묵 준비**: 어묵은 끓는 물에 살짝 데친 후 물기를 빼고 적당한 크기로 썰어 준비합니다.\\n  5. **양념장 만들기**: 볼에 간장, 설탕, 고추장, 고춧가루, 다진 마늘을 넣고 잘 섞어 양념장을 만듭니다.\\n  6. **조리 시작**: 큰 팬에 물 2컵과 양념장을 넣고 섞은 뒤 중불에서 끓입니다.\\n  7. **재료 추가**: 떡볶이 떡, 어묵, 양배추를 넣고 끓입니다.\\n  8. **마무리**: 재료들이 어느 정도 익으면 대파를 넣고 2~3분 더 끓인 후 불을 끕니다.\\n  9. **서빙**: 완성된 떡볶이를 그릇에 담아 뜨거울 때 바로 서빙합니다.\\n\\n이 레시피는 고춧가루의 양을 줄여 맵기를 낮췄으며, 간장과 설탕의 조합으로 맛의 균형을 맞췄습니다. 양배추와 대파는 요리에 신선한 맛과 향을 더해줍니다.',\n",
       " '- 요리명: 고로케\\n\\n- 요리법:\\n  1. **재료 준비**: 감자 500g, 양파 1개, 당근 1/2개, 소고기 다짐육 200g (또는 참치캔), 밀가루 1/2컵, 계란 2개, 빵가루 1컵, 소금, 후추, 식용유.\\n  2. **감자 삶기**: 감자는 깨끗이 씻어 껍질을 벗기고 큰 주사위 모양으로 자른 후, 물이 끓으면 소금을 약간 넣고 감자가 부드러워질 때까지 삶아주세요. 삶아진 감자는 체에 받쳐 물기를 빼고 매시해주세요.\\n  3. **야채와 고기 볶기**: 팬에 식용유를 두르고 잘게 다진 양파와 당근을 볶다가 투명해지면 다진 소고기를 넣고 갈색이 될 때까지 볶아주세요. 소금과 후추로 간을 맞춥니다.\\n  4. **고로케 속 재료 만들기**: 볶은 고기와 야채를 매시한 감자에 넣고 잘 섞어주세요. 소금과 후추로 간을 다시 한번 조절해주세요.\\n  5. **모양 만들기**: 준비된 고로케 속 재료를 손에 덜어 원하는 크기의 원형 또는 타원형으로 모양을 잡아주세요.\\n  6. **반죽 입히기**: 준비한 고로케를 먼저 밀가루에 굴려서 얇게 입힌 다음, 이어서 풀어놓은 계란에 담갔다가 빵가루를 고루 입혀주세요.\\n  7. **튀기기**: 팬에 충분한 식용유를 두르고 중간 온도로 예열한 뒤, 고로케를 넣고 주변이 골든 브라운이 될 때까지 튀겨주세요.\\n  8. **기름기 제거**: 튀겨진 고로케는 키친타월 위에 올려 기름기를 제거합니다.\\n  9. **서빙**: 따뜻할 때 바로 내어서 케첩, 머스터드, 또는 달콤한 칠리소스와 함께 제공합니다.\\n\\n이렇게 하면 바삭바삭하고 속은 부드러운 고로케가 완성됩니다. 맛있게 드세요!',\n",
       " '- 요리명: 단팥빵\\n\\n- 요리법:\\n  ### 재료\\n  - 강력분: 250g\\n  - 드라이 이스트: 5g\\n  - 설탕: 50g\\n  - 소금: 5g\\n  - 계란: 1개\\n  - 우유: 150ml\\n  - 버터: 30g\\n  - 팥앙금: 300g\\n\\n  ### 만드는 법\\n  1. **반죽 준비**: 강력분, 드라이 이스트, 설탕, 소금을 큰 볼에 넣고 섞습니다. 중간에 계란을 깨뜨려 넣고, 우유를 조금씩 부으면서 반죽합니다.\\n  2. **버터 추가**: 반죽이 어느 정도 섞였다면, 실온에서 부드럽게 된 버터를 넣고 반죽을 매끄럽고 탄력 있게 될 때까지 반죽합니다.\\n  3. **1차 발효**: 반죽을 볼에 담고 표면에 랩을 씌워 따뜻한 곳에서 1시간 정도 발효시켜 반죽이 두 배 정도 부풀어 오르게 합니다.\\n  4. **성형**: 발효된 반죽을 내린 후 50g 정도로 나누어 둥글리고, 각각의 반죽에 팥앙금을 넣어 모양을 잡습니다.\\n  5. **2차 발효**: 성형된 단팥빵을 오븐 팬에 올리고 다시 30분간 발효시켜 크기가 약간 더 커지게 합니다.\\n  6. **굽기**: 오븐을 180°C로 예열한 후, 발효된 단팥빵을 넣고 약 15-20분간 굽습니다. 빵의 표면이 골든 브라운이 될 때까지 굽습니다.\\n  7. **냉각**: 오븐에서 꺼낸 단팥빵을 식힘망에 올려 완전히 식힙니다.\\n\\n  ### 팁\\n  - 팥앙금은 가게에서 사오거나 직접 만들 수 있습니다. 직접 만들 경우, 팥은 미리 삶아서 부드럽게 으깨고 설탕을 첨가하여 졸여줍니다.\\n  - 반죽은 충분히 발효시키는 것이 중요합니다. 발효 시간은 실내 온도에 따라 다를 수 있으니 확인하면서 진행하세요. \\n  - 빵의 표면이 너무 빨리 갈색이 될 경우, 알루미늄 호일로 덮어서 굽기를 계속합니다.']"
      ]
     },
     "execution_count": 38,
     "metadata": {},
     "output_type": "execute_result"
    }
   ],
   "source": [
    "# 주어진 변수를 포함하는 리스트를 인자로 받아 일괄 처리합니다.\n",
    "answer = chain.batch(\n",
    "    [\n",
    "        {\"question\": \"덜 매운 떡볶이의 요리법\"},\n",
    "        {\"question\": \"고로케의 요리법\"},\n",
    "        {\"question\": \"단팥빵의 요리법\"},\n",
    "    ],\n",
    "    config={\"max_concurrency\": 3},  # 동시 실행 개수\n",
    ")\n",
    "answer"
   ]
  },
  {
   "cell_type": "markdown",
   "metadata": {},
   "source": [
    "### async stream: 비동기 스트림\n",
    "\n",
    "함수 `chain.astream()` 메서드를 사용하여 비동기 스트림을 실행합니다. 주어진 질의에 대한 메시지를 비동기적으로 처리합니다.  \n",
    "  \n",
    "비동기 for 루프(async for)를 사용하여 스트림에서 메시지를 순차적으로 받아오고, `print`함수를 통해 메시지의 내용(s.content)을 출력합니다.  \n",
    "`end=\"\"` 인자는 출력 후 줄바꿈이 되지 않도록 합니다.  \n",
    "`flush=True` 인자는 출력 버퍼를 비워 즉시 출력되도록 합니다.  "
   ]
  },
  {
   "cell_type": "code",
   "execution_count": 44,
   "metadata": {},
   "outputs": [
    {
     "name": "stdout",
     "output_type": "stream",
     "text": [
      "- 요리명: 덜 매운 떡볶이\n",
      "\n",
      "- 요리법:\n",
      "  **재료**\n",
      "  - 떡볶이 떡 300g\n",
      "  - 어묵 100g\n",
      "  - 당근 1/4개 (얇게 썬 것)\n",
      "  - 양파 1/2개 (얇게 썬 것)\n",
      "  - 대파 1대 (송송 썰기)\n",
      "  - 고추장 1 큰술\n",
      "  - 고춧가루 1/2 큰술\n",
      "  - 간장 1 큰술\n",
      "  - 설탕 1 큰술\n",
      "  - 다진 마늘 1/2 큰술\n",
      "  - 물 2컵\n",
      "\n",
      "  **만드는 방법**\n",
      "  1. 떡은 찬물에 20분 정도 불린 후, 물기를 제거합니다.\n",
      "  2. 중간 크기의 팬에 물 2컵을 넣고 고추장, 고춧가루, 간장, 설탕, 다진 마늘을 넣어 잘 섞습니다.\n",
      "  3. 양념이 섞인 물을 중불에서 끓입니다.\n",
      "  4. 물이 끓기 시작하면 불린 떡, 어묵, 당근, 양파를 넣고 함께 끓입니다.\n",
      "  5. 재료들이 어느 정도 익으면 대파를 추가하고 2~3분 더 끓여 마무리합니다.\n",
      "  6. 매운맛을 조절하고 싶다면 고춧가루의 양을 줄이거나 고추장 대신 토마토 소스를 약간 추가해도 좋습니다.\n",
      "\n",
      "  **팁**\n",
      "  - 덜 매운 떡볶이를 위해서는 고춧가루 대신 파프리카 가루를 사용하거나 고춧가루를 아예 생략하는 것도 좋습니다.\n",
      "  - 고추장의 양을 줄이면 자연스럽게 매운맛이 줄어듭니다.\n",
      "  - 추가적으로 치즈를 올려주면 매운맛을 중화시키는데 도움이 됩니다.\n"
     ]
    }
   ],
   "source": [
    "# 비동기 스트림 실행\n",
    "async for token in chain.astream({\"question\": \"덜 매운 떡볶이의 요리법\"}):\n",
    "    print(token, end=\"\", flush=True)"
   ]
  },
  {
   "cell_type": "markdown",
   "metadata": {},
   "source": [
    "### async invoke: 비동기 호출\n",
    "\n",
    "- 이 함수는 chain.ainvoke() 메서드를 사용하여 비동기 호출을 실행합니다.\n",
    "- 이 함수는 체인을 비동기적으로 호출하고 즉시 출력합니다.\n",
    "- 이 함수는 체인의 출력을 반환하며, 출력 파서를 사용하여 출력을 파싱합니다."
   ]
  },
  {
   "cell_type": "code",
   "execution_count": 46,
   "metadata": {},
   "outputs": [
    {
     "data": {
      "text/plain": [
       "'- 요리명: 덜 매운 떡볶이\\n\\n- 요리법:\\n  ### 재료\\n  - 떡볶이 떡 500g\\n  - 어묵 2장\\n  - 대파 1대\\n  - 양파 1개\\n  - 당근 1/2개\\n  - 고춧가루 1/2큰술\\n  - 고추장 2큰술\\n  - 간장 1큰술\\n  - 설탕 1큰술\\n  - 마늘 2쪽(다진 것)\\n  - 물 2컵 (500ml)\\n  - 식용유 약간\\n\\n  ### 준비\\n  1. 떡볶이 떡은 물에 20분 정도 불려 두어 부드럽게 합니다.\\n  2. 어묵은 적당한 크기로 자르고, 대파는 송송 썰어 준비합니다.\\n  3. 양파와 당근은 채 썰기 합니다.\\n\\n  ### 조리 방법\\n  1. 큰 팬에 식용유를 약간 두르고 준비된 양파와 당근을 볶습니다.\\n  2. 야채가 어느 정도 익으면 다진 마늘을 추가하여 향이 나게 볶습니다.\\n  3. 고추장, 고춧가루, 간장, 설탕을 넣고 잘 섞은 후 물을 부어줍니다.\\n  4. 소스가 끓기 시작하면 불린 떡과 어묵을 넣고 중불에서 10분 정도 끓여줍니다.\\n  5. 떡이 부드러워지고 어묵이 잘 어우러지면 마지막으로 대파를 넣고 2분 정도 더 끓인 후 불을 끕니다.\\n\\n  ### 팁\\n  - 고추장과 고춧가루의 양을 조절하여 매운 정도를 원하는 대로 조절할 수 있습니다.\\n  - 매운맛을 더욱 줄이고 싶다면 고춧가루 대신 파프리카 가루를 사용하거나 고추장의 양을 줄이고 토마토 소스를 조금 추가해 보세요.'"
      ]
     },
     "execution_count": 46,
     "metadata": {},
     "output_type": "execute_result"
    }
   ],
   "source": [
    "# 비동기 호출 실행\n",
    "answer = chain.ainvoke({\"question\": \"덜 매운 떡볶이의 요리법\"})\n",
    "await answer"
   ]
  },
  {
   "cell_type": "markdown",
   "metadata": {},
   "source": [
    "### async batch: 비동기 배치\n",
    "\n",
    "- 이 함수는 chain.abatch() 메서드를 사용하여 비동기 배치를 실행합니다.\n",
    "- 이 함수는 여러 입력을 받아 각각의 체인을 비동기적으로 실행하고 결과를 반환합니다.\n",
    "- `await` 키워드는 비동기 작업이 완료될 때까지 기다리는데 사용됩니다."
   ]
  },
  {
   "cell_type": "code",
   "execution_count": 47,
   "metadata": {},
   "outputs": [
    {
     "data": {
      "text/plain": [
       "['- 요리명: 덜 매운 떡볶이\\n\\n- 요리법:\\n  1. **재료 준비**: 떡볶이 떡 300g, 어묵 2장, 대파 1대, 양배추 조금, 고추장 2큰술, 고춧가루 1작은술, 간장 1큰술, 설탕 1큰술, 다진 마늘 1작은술, 물 2컵, 깨소금 약간, 참기름 조금\\n\\n  2. **떡 불리기**: 떡볶이 떡은 물에 20분 정도 불려 부드러워지게 합니다.\\n\\n  3. **소스 만들기**: 볼에 고추장, 고춧가루(덜 매운 맛을 원하시면 반으로 줄여주세요), 간장, 설탕, 다진 마늘을 넣고 잘 섞어 소스를 준비합니다.\\n\\n  4. **재료 손질**: 어묵은 적당한 크기로 자르고, 대파는 송송 썰고, 양배추도 적당한 크기로 썰어 준비합니다.\\n\\n  5. **조리 시작**: 중간 불로 달군 팬에 소스를 넣고 잘 저으면서 가열합니다. 물 2컵을 추가하고 섞은 후, 불린 떡을 넣고 끓입니다.\\n\\n  6. **재료 추가**: 떡이 어느 정도 익으면 썰어둔 어묵과 양배추, 대파를 넣고 함께 볶습니다.\\n\\n  7. **마무리 조리**: 모든 재료가 잘 섞이고 떡이 완전히 익을 때까지 중불에서 조리합니다. 만약 소스가 너무 빨리 졸아든다면 적당량의 물을 추가할 수 있습니다.\\n\\n  8. **시즈닝 및 서빙**: 최종적으로 참기름을 약간 뿌리고 깨소금을 뿌려 재료의 맛을 더욱 살립니다. 온기가 있는 상태로 그릇에 담아서 서빙합니다.\\n\\n이 레시피는 고춧가루의 양을 줄여 매운맛을 조절하였으며, 달콤한 간장과 설탕이 떡볶이의 매운맛을 완화시키는 데 도움을 줍니다. 각자의 취향에 맞게 매운 정도를 조절하여 맛있게 드실 수 있습니다.',\n",
       " '- 요리명: 고로케\\n\\n- 요리법:\\n1. **재료 준비**: 감자 500g, 양파 1개, 당근 1/2개, 소금 약간, 후추 약간, 밀가루, 달걀 2개, 빵가루, 식용유\\n\\n2. **감자 삶기**:\\n   - 감자는 껍질을 벗기고 큼직하게 썰어서 물에 담근 후, 냄비에 넣고 물이 끓으면 중불로 줄여 20분 정도 삶아 부드럽게 합니다.\\n\\n3. **재료 손질 및 볶기**:\\n   - 양파와 당근은 작은 크기로 잘게 다집니다.\\n   - 팬에 기름을 두르고 잘게 다진 양파와 당근을 볶아줍니다. 양파가 투명해질 때까지 볶은 후, 소금과 후추로 간을 맞춥니다.\\n\\n4. **감자 으깨기**:\\n   - 삶은 감자는 체에 받쳐 물기를 빼고 잘 으깨줍니다.\\n\\n5. **재료 섞기**:\\n   - 으깬 감자에 볶은 양파와 당근을 넣고 잘 섞어줍니다.\\n\\n6. **모양 만들기**:\\n   - 준비된 감자 혼합물을 한 움큼씩 떼어내 원하는 모양으로 만듭니다. 보통은 원형이나 타원형으로 만듭니다.\\n\\n7. **반죽 입히기**:\\n   - 밀가루, 풀어놓은 달걀, 빵가루를 차례로 고로케에 입힙니다. 각각 밀가루, 달걀, 빵가루 순으로 고루 입혀줍니다.\\n\\n8. **튀기기**:\\n   - 준비된 고로케를 160~170도의 식용유에서 금방색이 나도록 튀깁니다. 한 번에 너무 많이 튀기면 온도가 떨어져 고로케가 기름을 많이 먹을 수 있으므로 주의합니다.\\n\\n9. **기름 빼기**:\\n   - 고로케를 튀긴 후, 키친타월 위에 올려 기름기를 제거합니다.\\n\\n10. **서빙**:\\n    - 완성된 고로케를 접시에 담고, 케찹이나 타르타르 소스와 함께 내어 제공합니다.',\n",
       " '- 요리명: 단팥빵\\n\\n- 요리법:\\n  ### 재료\\n  - 강력분 250g\\n  - 소금 5g\\n  - 설탕 50g\\n  - 드라이이스트 5g\\n  - 달걀 1개\\n  - 물 125ml\\n  - 무염버터 25g\\n  - 팥앙금 300g\\n\\n  ### 준비\\n  1. 팥앙금은 미리 준비합니다. 팥을 삶아서 부드럽게 으깬 후 설탕을 넣고 졸여 앙금을 만듭니다.\\n\\n  ### 반죽 만들기\\n  1. 강력분, 소금, 설탕을 큰 볼에 넣고 섞습니다.\\n  2. 따뜻한 물에 드라이이스트를 녹인 후, 강력분 혼합물에 추가합니다.\\n  3. 달걀을 풀어 넣고, 반죽을 잘 섞습니다.\\n  4. 반죽이 어느 정도 섞이면, 실온에서 녹인 무염버터를 추가하고 반죽을 부드럽게 될 때까지 치대줍니다.\\n  5. 반죽이 부드럽고 탄력을 갖추면, 큰 볼에 올리브 오일을 살짝 바르고 반죽을 넣어 봉투로 덮고 1시간 정도 발효시킵니다.\\n\\n  ### 모양 내기\\n  1. 발효된 반죽을 내려놓고, 기포를 눌러 가스를 빼줍니다.\\n  2. 반죽을 8등분으로 나누고 각각을 원형으로 만듭니다.\\n  3. 각 원형 반죽에 팥앙금을 약 40g씩 넣고, 반죽으로 팥앙금을 감싸듯 모양을 잡아줍니다.\\n  4. 팬 위에 유산지를 깔고, 모양을 잡은 반죽들을 올립니다.\\n  5. 두 번째 발효를 위해 약 30분간 방치합니다.\\n\\n  ### 굽기\\n  1. 오븐을 180°C로 예열합니다.\\n  2. 발효된 단팥빵 위에 달걀물(달걀 1개와 물 1큰술을 섞은 것)을 발라줍니다.\\n  3. 예열된 오븐에서 약 15-20분간 굽습니다.\\n\\n  ### 완성\\n  - 오븐에서 꺼낸 단팥빵은 그물에 올려 식힙니다.\\n  - 식힌 단팥빵은 따뜻할 때 가장 맛있습니다.']"
      ]
     },
     "execution_count": 47,
     "metadata": {},
     "output_type": "execute_result"
    }
   ],
   "source": [
    "answer = chain.abatch(\n",
    "    [\n",
    "        {\"question\": \"덜 매운 떡볶이의 요리법\"},\n",
    "        {\"question\": \"고로케의 요리법\"},\n",
    "        {\"question\": \"단팥빵의 요리법\"},\n",
    "    ],\n",
    "    config={\"max_concurrency\": 3},\n",
    ")\n",
    "await answer"
   ]
  },
  {
   "cell_type": "markdown",
   "metadata": {},
   "source": [
    "### Parallel: 병렬 실행\n",
    "\n",
    "Lnagchain Expression Language가 병렬 요청을 지원하는 방법입니다. RunnableParallel을 사용합니다.  \n",
    "`invoke()`를 호출 할 수 있으면 모두 runnable이라고 생각하면 됩니다.\n",
    "  \n",
    "`langchain.core.runnables` 모듈에서 RunnableParallel 클래스를 사용하여 두 가지 작업을 병렬로 실행할 수 있습니다.  \n",
    "`ChatPromptTemplate.from_template()` 메서드를 사용하여 주어진 `country`에 대한 수도와 면적을 구하는 두 개의 체인(chain1, chain2)을 만듭니다.  \n",
    "체인과 체인과의 연결은 |(연결파이프라인)을 통해서 연결합니다. 마지막으로 RunnableParallel 클래스를 사용하여 `capital`과 `area`라는 키로 결합하여 동시에 실행할 수 있는 `combined` 객첼를 생성합니다.  "
   ]
  },
  {
   "cell_type": "code",
   "execution_count": 48,
   "metadata": {},
   "outputs": [
    {
     "data": {
      "text/plain": [
       "'대한민국(남한)의 수도는 서울입니다. 북한의 수도는 평양입니다.'"
      ]
     },
     "execution_count": 48,
     "metadata": {},
     "output_type": "execute_result"
    }
   ],
   "source": [
    "from langchain_core.runnables import RunnableParallel\n",
    "\n",
    "chain1 = PromptTemplate.from_template(\"{country}의 수도는?\") | model | StrOutputParser()\n",
    "chain2 = PromptTemplate.from_template(\"{country}의 면적은?\") | model | StrOutputParser()\n",
    "\n",
    "combined = RunnableParallel(capital=chain1, area=chain2)\n",
    "\n",
    "chain1.invoke({\"country\": \"Korea\"})"
   ]
  },
  {
   "cell_type": "code",
   "execution_count": 49,
   "metadata": {},
   "outputs": [
    {
     "data": {
      "text/plain": [
       "'한반도의 전체 면적은 대략 22만 평방킬로미터입니다. 여기에는 남한과 북한의 면적이 포함됩니다. 남한, 즉 대한민국의 면적은 약 10만 평방킬로미터이며, 북한은 약 12만 평방킬로미터입니다. 이 수치는 다소 변동이 있을 수 있으니, 정확한 정보가 필요하다면 최신 자료를 참고하는 것이 좋습니다.'"
      ]
     },
     "execution_count": 49,
     "metadata": {},
     "output_type": "execute_result"
    }
   ],
   "source": [
    "chain2.invoke({\"country\": \"Korea\"})"
   ]
  },
  {
   "cell_type": "code",
   "execution_count": 50,
   "metadata": {},
   "outputs": [
    {
     "data": {
      "text/plain": [
       "{'capital': '대한민국(남한)의 수도는 서울입니다. 북한의 수도는 평양입니다.',\n",
       " 'area': '2023년 기준으로 한반도 전체의 면적은 대략 220,748 제곱킬로미터입니다. 이는 남한과 북한을 포함한 수치입니다. 남한만의 면적은 약 100,210 제곱킬로미터, 북한의 면적은 약 120,538 제곱킬로미터입니다. 여기서 제공된 수치는 대략적인 것이며, 정확한 면적은 각각의 정부나 국제 기구의 최신 자료를 참고하시는 것이 좋습니다.'}"
      ]
     },
     "execution_count": 50,
     "metadata": {},
     "output_type": "execute_result"
    }
   ],
   "source": [
    "combined.invoke({\"country\": \"Korea\"})"
   ]
  },
  {
   "cell_type": "markdown",
   "metadata": {},
   "source": [
    "### 배치에서 병렬처리"
   ]
  },
  {
   "cell_type": "code",
   "execution_count": 53,
   "metadata": {},
   "outputs": [
    {
     "data": {
      "text/plain": [
       "['한국의 수도는 서울입니다.', '미국의 수도는 워싱턴 D.C.입니다.']"
      ]
     },
     "execution_count": 53,
     "metadata": {},
     "output_type": "execute_result"
    }
   ],
   "source": [
    "chain1.batch([{\"country\": \"한국\"}, {\"country\": \"미국\"}])"
   ]
  },
  {
   "cell_type": "code",
   "execution_count": 54,
   "metadata": {},
   "outputs": [
    {
     "data": {
      "text/plain": [
       "['한국, 즉 대한민국의 총 면적은 약 100,210제곱킬로미터 (38,691제곱마일) 입니다. 이는 남한만의 면적을 기준으로 한 수치입니다.',\n",
       " '미국의 총 면적은 약 983만 평방킬로미터(3,796,742 평방마일) 입니다. 이는 육지 면적과 내수 면적을 합친 수치로, 세계에서 세 번째로 큰 면적을 가진 국가입니다.']"
      ]
     },
     "execution_count": 54,
     "metadata": {},
     "output_type": "execute_result"
    }
   ],
   "source": [
    "chain2.batch([{\"country\": \"한국\"}, {\"country\": \"미국\"}])"
   ]
  },
  {
   "cell_type": "code",
   "execution_count": 55,
   "metadata": {},
   "outputs": [
    {
     "data": {
      "text/plain": [
       "[{'capital': '한국(대한민국)의 수도는 서울입니다.',\n",
       "  'area': '한국, 즉 대한민국의 총 면적은 약 100,210 제곱킬로미터(㎢)입니다. 이는 남한만의 면적으로, 북한을 포함한 전체 한반도의 면적은 약 220,000 제곱킬로미터에 달합니다.'},\n",
       " {'capital': '미국의 수도는 워싱턴 D.C.입니다.',\n",
       "  'area': '미국의 총 면적은 약 983만 3520 제곱킬로미터(3,796,742 제곱마일)입니다. 이는 육지 면적과 내수면을 포함한 수치입니다. 미국은 세계에서 러시아, 캐나다, 중국에 이어 네 번째로 큰 국가입니다.'}]"
      ]
     },
     "execution_count": 55,
     "metadata": {},
     "output_type": "execute_result"
    }
   ],
   "source": [
    "combined.batch([{\"country\": \"한국\"}, {\"country\": \"미국\"}])"
   ]
  }
 ],
 "metadata": {
  "kernelspec": {
   "display_name": "langchain-note-2024-PFhCXHTX-py3.12",
   "language": "python",
   "name": "python3"
  },
  "language_info": {
   "codemirror_mode": {
    "name": "ipython",
    "version": 3
   },
   "file_extension": ".py",
   "mimetype": "text/x-python",
   "name": "python",
   "nbconvert_exporter": "python",
   "pygments_lexer": "ipython3",
   "version": "3.12.7"
  }
 },
 "nbformat": 4,
 "nbformat_minor": 2
}
