{
 "cells": [
  {
   "cell_type": "markdown",
   "metadata": {},
   "source": [
    "### PromptTemplate\n",
    "\n",
    "- 사용자의 입력 변수를 사용하여 완전한 프롬프트 문자열을 만드는데 사용되는 템플릿입니다.\n",
    "- 템플릿에 변수를 사용하여 동적으로 프롬프트를 생성할 수 있습니다.\n",
    "- 사용법\n",
    "  - `template`: 프롬프트 템플릿 문자열입니다. 이 문자열에서 {}는 변수를 나타냅니다.\n",
    "  - `input_variables`: 프롬프트에 사용할 변수 목록입니다. 중괄호 안에 들어갈 이름을 리스트로 정의합니다.\n",
    "\n",
    "`input_variables`\n",
    "- input_variables에 정의된 변수는 PromptTemplate 에서 사용할 수 있습니다."
   ]
  },
  {
   "cell_type": "code",
   "execution_count": 2,
   "metadata": {},
   "outputs": [],
   "source": [
    "from langchain.prompts import PromptTemplate"
   ]
  },
  {
   "cell_type": "markdown",
   "metadata": {},
   "source": [
    "`from_template()` 메소드를 사용하여 PromptTemplate 인스턴스를 생성합니다."
   ]
  },
  {
   "cell_type": "code",
   "execution_count": 9,
   "metadata": {},
   "outputs": [
    {
     "data": {
      "text/plain": [
       "PromptTemplate(input_variables=['food'], input_types={}, partial_variables={}, template='{food}의 요리법은?')"
      ]
     },
     "execution_count": 9,
     "metadata": {},
     "output_type": "execute_result"
    }
   ],
   "source": [
    "# template 정의\n",
    "template = \"{food}의 요리법은?\"\n",
    "\n",
    "# PromptTemplate 인스턴스 생성\n",
    "prompt_template = PromptTemplate.from_template(template)\n",
    "prompt_template"
   ]
  },
  {
   "cell_type": "code",
   "execution_count": 11,
   "metadata": {},
   "outputs": [
    {
     "data": {
      "text/plain": [
       "'고로케의 요리법은?'"
      ]
     },
     "execution_count": 11,
     "metadata": {},
     "output_type": "execute_result"
    }
   ],
   "source": [
    "# prompt 설정\n",
    "prompt = prompt_template.format(food=\"고로케\")\n",
    "prompt"
   ]
  },
  {
   "cell_type": "code",
   "execution_count": 12,
   "metadata": {},
   "outputs": [
    {
     "data": {
      "text/plain": [
       "'단팥빵의 요리법은?'"
      ]
     },
     "execution_count": 12,
     "metadata": {},
     "output_type": "execute_result"
    }
   ],
   "source": [
    "# prompt 설정\n",
    "prompt = prompt_template.format(food=\"단팥빵\")\n",
    "prompt"
   ]
  },
  {
   "cell_type": "markdown",
   "metadata": {},
   "source": [
    "### Chain 생성\n",
    "\n",
    "#### LECL (Langchain Expression Language)\n",
    "\n",
    "![image.png](image.png)\n",
    "\n",
    "`chain = prompt | model | output_parser`\n",
    "\n",
    "`|` 기호는 unix 파이프 연산자와 유사하며, 서로 다른 구성 요소를 연결하고 한 구성 요소의 축력을 다음 구성요소의 입력으로 전달합니다.  \n",
    "아래 코드에서 사용자의 입력은 PromptTemplate 로 전달된 후 처리 결과는 LLM 모델로 전달되고 처리됩니다. 그리고 그 결과는 OutputParser 로 전달되어 출력을 나타냅니다.\n"
   ]
  },
  {
   "cell_type": "code",
   "execution_count": 16,
   "metadata": {},
   "outputs": [],
   "source": [
    "from langchain_openai import ChatOpenAI\n",
    "\n",
    "prompt = PromptTemplate.from_template(\"{food}의 요리법을 {language}로 설명해주세요.\")\n",
    "model = ChatOpenAI()\n",
    "\n",
    "chain = prompt | model"
   ]
  },
  {
   "cell_type": "markdown",
   "metadata": {},
   "source": [
    "### Invocke() 호출\n",
    "\n",
    "- 실행은 기본적인 방법으로 invoke() 메소드를 사용합니다. 딕셔너리 형태로 잆력값을 전달합니다.{키:값}\n",
    "- invoke() 함수 호출 시, 사용자의 입력(input)을 전달합니다.\n",
    "- 옵션으로는 추가적인 매개변수를 전달할 수 있습니다."
   ]
  },
  {
   "cell_type": "code",
   "execution_count": 21,
   "metadata": {},
   "outputs": [
    {
     "data": {
      "text/plain": [
       "AIMessage(content=\"Korokke is a popular Japanese dish made with mashed potatoes and various fillings, coated in breadcrumbs and deep-fried until crispy. Here's how to make it:\\n\\nIngredients:\\n- 2 large potatoes, peeled and diced\\n- 1/2 cup cooked vegetables (corn, peas, carrots, etc.)\\n- 1/4 cup minced onion\\n- Salt and pepper to taste\\n- 1/2 cup flour\\n- 2 eggs, beaten\\n- 1 cup breadcrumbs\\n- Oil for frying\\n\\nInstructions:\\n1. Boil the diced potatoes in a pot of salted water until tender. Drain and mash the potatoes in a large bowl.\\n2. Add the cooked vegetables, minced onion, salt, and pepper to the mashed potatoes. Mix well to combine.\\n3. Shape the potato mixture into small patties or croquettes.\\n4. Dredge each patty in flour, dip in beaten eggs, and coat with breadcrumbs.\\n5. Heat oil in a deep fryer or a large skillet over medium heat. Fry the korokke until golden brown on all sides.\\n6. Remove the korokke from the oil and drain on paper towels.\\n7. Serve hot with tonkatsu sauce or your favorite dipping sauce.\\n\\nEnjoy your delicious homemade korokke!\", additional_kwargs={'refusal': None}, response_metadata={'token_usage': {'completion_tokens': 263, 'prompt_tokens': 27, 'total_tokens': 290, 'completion_tokens_details': {'accepted_prediction_tokens': 0, 'audio_tokens': 0, 'reasoning_tokens': 0, 'rejected_prediction_tokens': 0}, 'prompt_tokens_details': {'audio_tokens': 0, 'cached_tokens': 0}}, 'model_name': 'gpt-3.5-turbo-0125', 'system_fingerprint': None, 'finish_reason': 'stop', 'logprobs': None}, id='run-6939fd0b-7331-445a-99f1-5ee983bf3a75-0', usage_metadata={'input_tokens': 27, 'output_tokens': 263, 'total_tokens': 290, 'input_token_details': {'audio': 0, 'cache_read': 0}, 'output_token_details': {'audio': 0, 'reasoning': 0}})"
      ]
     },
     "execution_count": 21,
     "metadata": {},
     "output_type": "execute_result"
    }
   ],
   "source": [
    "input = {\"food\": \"고로케\", \"language\": \"영어\"}\n",
    "\n",
    "answer = chain.invoke(input)\n",
    "answer"
   ]
  },
  {
   "cell_type": "code",
   "execution_count": 23,
   "metadata": {},
   "outputs": [
    {
     "data": {
      "text/plain": [
       "\"Korokke is a popular Japanese dish made with mashed potatoes and various fillings, coated in breadcrumbs and deep-fried until crispy. Here's how to make it:\\n\\nIngredients:\\n- 2 large potatoes, peeled and diced\\n- 1/2 cup cooked vegetables (corn, peas, carrots, etc.)\\n- 1/4 cup minced onion\\n- Salt and pepper to taste\\n- 1/2 cup flour\\n- 2 eggs, beaten\\n- 1 cup breadcrumbs\\n- Oil for frying\\n\\nInstructions:\\n1. Boil the diced potatoes in a pot of salted water until tender. Drain and mash the potatoes in a large bowl.\\n2. Add the cooked vegetables, minced onion, salt, and pepper to the mashed potatoes. Mix well to combine.\\n3. Shape the potato mixture into small patties or croquettes.\\n4. Dredge each patty in flour, dip in beaten eggs, and coat with breadcrumbs.\\n5. Heat oil in a deep fryer or a large skillet over medium heat. Fry the korokke until golden brown on all sides.\\n6. Remove the korokke from the oil and drain on paper towels.\\n7. Serve hot with tonkatsu sauce or your favorite dipping sauce.\\n\\nEnjoy your delicious homemade korokke!\""
      ]
     },
     "execution_count": 23,
     "metadata": {},
     "output_type": "execute_result"
    }
   ],
   "source": [
    "answer.content\n",
    "# answer.response"
   ]
  },
  {
   "cell_type": "markdown",
   "metadata": {},
   "source": [
    "### 출력 파서 (OutputParser)\n",
    "\n",
    "- 출력 파서는 모델의 출력을 원하는 형식으로 변환하는 역할을 합니다."
   ]
  },
  {
   "cell_type": "code",
   "execution_count": 26,
   "metadata": {},
   "outputs": [],
   "source": [
    "from langchain_core.output_parsers import StrOutputParser\n",
    "\n",
    "output_parser = StrOutputParser()"
   ]
  },
  {
   "cell_type": "code",
   "execution_count": 28,
   "metadata": {},
   "outputs": [
    {
     "data": {
      "text/plain": [
       "'Korokke Recipe\\n\\nIngredients:\\n- 2 large potatoes, peeled and diced\\n- 1/2 cup cooked vegetables (carrots, peas, corn)\\n- 1/2 cup chopped onion\\n- 1/2 cup ground meat (beef or pork)\\n- Salt and pepper to taste\\n- 1/4 cup flour\\n- 1/4 cup breadcrumbs\\n- 1 egg, beaten\\n- Oil for frying\\n\\nInstructions:\\n1. Boil the diced potatoes in a pot of water until they are soft. Drain and mash the potatoes in a bowl.\\n2. In a separate pan, sauté the chopped onion until translucent. Add the ground meat and cook until browned.\\n3. Mix the cooked vegetables, onion and meat mixture, salt, and pepper with the mashed potatoes until well combined.\\n4. Shape the potato mixture into oval or round patties.\\n5. Dip each patty into flour, then egg, and finally breadcrumbs, making sure to coat each side evenly.\\n6. Heat oil in a frying pan over medium heat. Fry the patties until they are golden brown on each side.\\n7. Remove the korokke from the pan and place them on a paper towel to drain excess oil.\\n8. Serve the korokke hot with tonkatsu sauce or Worcestershire sauce on the side. Enjoy!'"
      ]
     },
     "execution_count": 28,
     "metadata": {},
     "output_type": "execute_result"
    }
   ],
   "source": [
    "# 프롬프트, 모델, 출력 파서를 연결하여 처리 체인을 구성합니다.\n",
    "chain = prompt | model | output_parser\n",
    "\n",
    "# chain 객체의 invoke() 메서드를 사용하여 input을 전달합니다.\n",
    "input = {\"food\": \"고로케\", \"language\": \"영어\"}\n",
    "\n",
    "answer = chain.invoke(input)\n",
    "answer"
   ]
  },
  {
   "cell_type": "markdown",
   "metadata": {},
   "source": [
    "### 템플릿을 변경하여 사용"
   ]
  },
  {
   "cell_type": "code",
   "execution_count": 32,
   "metadata": {},
   "outputs": [
    {
     "name": "stdout",
     "output_type": "stream",
     "text": [
      "- 요리명: 덜 매운 떡볶이\n",
      "\n",
      "- 요리법:\n",
      "  ### 재료\n",
      "  - 떡볶이 떡 300g\n",
      "  - 어묵 100g\n",
      "  - 대파 1대\n",
      "  - 양배추 100g\n",
      "  - 고추장 1.5 큰술\n",
      "  - 고춧가루 1/2 큰술 (선택 사항)\n",
      "  - 설탕 2 큰술\n",
      "  - 간장 1 큰술\n",
      "  - 다진 마늘 1 작은술\n",
      "  - 물 500ml\n",
      "\n",
      "  ### 만드는 방법\n",
      "  1. 떡볶이 떡은 찬물에 20분 정도 담가 불린 후, 물기를 제거합니다.\n",
      "  2. 어묵은 적당한 크기로 썰고, 대파는 송송 썰어 준비합니다. 양배추는 깨끗이 씻어 깍둑썰기로 썰어 줍니다.\n",
      "  3. 큰 팬이나 냄비에 물 500ml를 붓고, 고추장, 간장, 설탕, 다진 마늘을 넣고 잘 섞어줍니다.\n",
      "  4. 소스가 섞인 냄비에 떡볶이 떡, 어묵, 양배추를 넣고 중불에서 끓여줍니다.\n",
      "  5. 떡볶이가 어느 정도 익으면 대파를 넣고 5분 정도 더 끓여줍니다.\n",
      "  6. 맛을 보고 필요한 경우 설탕이나 간장으로 간을 맞춥니다. 고춧가루는 매운 맛을 조절하기 위해 추가하는 것이므로, 덜 매운 맛을 원할 경우 생략하거나 적게 넣습니다.\n",
      "  7. 모든 재료가 충분히 익고 맛이 어우러졌다면 불을 끄고 그릇에 담아서 제공합니다.\n",
      "\n",
      "  ### 팁\n",
      "  - 덜 매운 떡볶이를 원하면 고춧가루 대신 파프리카 가루를 사용하는 것도 좋은 대안이 될 수 있습니다.\n",
      "  - 매운맛의 강도를 원하는 대로 조절하기 위해 고추장의 양을 조절하거나 순한 고추장을 사용하세요.\n",
      "  - 더 풍부한 맛을 위해 토마토 소스를 조금 추가하는 것도 맛있을 수 있습니다.\n"
     ]
    }
   ],
   "source": [
    "template = \"\"\"\n",
    "당신은 세계에서 가장 실력있는 셰프입니다.\n",
    "음식에 맞는 요리법을 작성해주세요.\n",
    "양식은 [FORMAT]을 참고하여 작성해주세요.\n",
    "\n",
    "# 질문\n",
    "{question}\n",
    "\n",
    "# FORMAT\n",
    "- 요리명:\n",
    "- 요리법:\n",
    "\"\"\"\n",
    "\n",
    "prompt = PromptTemplate.from_template(template)\n",
    "\n",
    "model = ChatOpenAI(model=\"gpt-4-turbo\")\n",
    "\n",
    "output_parser = StrOutputParser()\n",
    "\n",
    "chain = prompt | model | output_parser\n",
    "\n",
    "answer = chain.invoke({\"question\": \"덜 매운 떡볶이의 요리법\"})\n",
    "\n",
    "print(answer)"
   ]
  },
  {
   "cell_type": "markdown",
   "metadata": {},
   "source": [
    "### LangSmith 확인\n",
    "\n",
    "- langsmith 에서 확인하면 완성된 프롬프트를 볼 수 있습니다.\n",
    "\n",
    "![langsmith_check.png](langsmith_check.png)"
   ]
  }
 ],
 "metadata": {
  "kernelspec": {
   "display_name": "langchain-note-2024-PFhCXHTX-py3.12",
   "language": "python",
   "name": "python3"
  },
  "language_info": {
   "codemirror_mode": {
    "name": "ipython",
    "version": 3
   },
   "file_extension": ".py",
   "mimetype": "text/x-python",
   "name": "python",
   "nbconvert_exporter": "python",
   "pygments_lexer": "ipython3",
   "version": "3.12.7"
  }
 },
 "nbformat": 4,
 "nbformat_minor": 2
}
