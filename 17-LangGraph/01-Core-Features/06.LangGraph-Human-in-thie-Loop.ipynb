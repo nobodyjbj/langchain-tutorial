{
 "cells": [
  {
   "cell_type": "code",
   "execution_count": 21,
   "metadata": {},
   "outputs": [
    {
     "data": {
      "text/plain": [
       "True"
      ]
     },
     "execution_count": 21,
     "metadata": {},
     "output_type": "execute_result"
    }
   ],
   "source": [
    "from dotenv import load_dotenv\n",
    "import sys\n",
    "\n",
    "sys.path.append(\"../../common\")\n",
    "load_dotenv()"
   ]
  },
  {
   "cell_type": "code",
   "execution_count": 22,
   "metadata": {},
   "outputs": [
    {
     "name": "stdout",
     "output_type": "stream",
     "text": [
      "Langsmith 추적이 활성화되었습니다. [프로젝트명: 17.LangGraph]\n"
     ]
    }
   ],
   "source": [
    "import os\n",
    "from langsmith_tracker import set_tracking\n",
    "\n",
    "# 인스턴스를 생성할 때 필요한 매개변수를 전달합니다.\n",
    "set_tracking(project_name=\"17.LangGraph\")"
   ]
  },
  {
   "cell_type": "markdown",
   "metadata": {},
   "source": [
    "### Human in the Loop\n",
    "\n",
    "사람이 참여하는 루프를 만들어 보겠습니다.  \n",
    "  \n",
    "`human_in_the_loop` 은 고유명사처럼 사용하는 문장입니다.   \n",
    "  \n",
    "특정 노드에서 인터럽트를 걸어서 사람이 개입을 해서 상태값 조회를 하거나 수정, 재개 할 수 있습니다.  \n",
    "  \n",
    "LangGraph의 가장 큰 장점 중에 하나가 `human_in_the_loop` 입니다.   \n",
    "  \n",
    "LangGraph는 여러 가지 방법으로 human-in-the-loop 워크플로를 지원합니다."
   ]
  },
  {
   "cell_type": "code",
   "execution_count": 23,
   "metadata": {},
   "outputs": [],
   "source": [
    "from typing import Annotated, List, Dict\n",
    "from typing_extensions import TypedDict\n",
    "\n",
    "from langchain_core.tools import tool\n",
    "from langchain_google_genai import ChatGoogleGenerativeAI\n",
    "from langgraph.checkpoint.memory import MemorySaver\n",
    "from langgraph.graph import StateGraph, START, END\n",
    "from langgraph.graph.message import add_messages\n",
    "from langgraph.prebuilt import ToolNode, tools_condition\n",
    "from graphs import visualize_graph\n",
    "from tools_news import GoogleNews\n",
    "\n",
    "\n",
    "##### 1. 상태(State) 정의\n",
    "class State(TypedDict):\n",
    "    # 메모리 저장소 추가\n",
    "    messages: Annotated[list, add_messages]\n",
    "\n",
    "\n",
    "##### 2. 도구 정의 및 바인딩\n",
    "# 도구 초기화\n",
    "news_tool = GoogleNews()\n",
    "\n",
    "\n",
    "@tool\n",
    "def search_keyword(query: str) -> List[Dict[str, str]]:\n",
    "    \"\"\"Look up news by keyword\"\"\"\n",
    "    news_tool = GoogleNews()\n",
    "    return news_tool.search_by_keyword(query, k=5)\n",
    "\n",
    "\n",
    "tools = [search_keyword]\n",
    "\n",
    "# llm 초기화\n",
    "llm = ChatGoogleGenerativeAI(model=\"gemini-1.5-pro\")\n",
    "# llm = ChatOpenAI(model=\"gpt-4o-mini\", temperature=0)\n",
    "\n",
    "# llm과 도구 바인딩\n",
    "llm_with_tools = llm.bind_tools(tools)\n",
    "\n",
    "\n",
    "##### 3. 노드 추가\n",
    "# 챗봇 함수 정의, 노드 정의\n",
    "def chatbot(state: State):\n",
    "    # 메시지 호출 및 반환\n",
    "    return {\n",
    "        \"messages\": llm_with_tools.invoke(state[\"messages\"]),\n",
    "    }\n",
    "\n",
    "\n",
    "# 상태 그래프 생성\n",
    "graph_builder = StateGraph(State)\n",
    "\n",
    "# 챗봇 노드 추가\n",
    "graph_builder.add_node(\"chatbot\", chatbot)\n",
    "\n",
    "# 도구 노드 생성 및 추가\n",
    "tool_node = ToolNode(tools=tools)\n",
    "\n",
    "# 도구 노드 추가\n",
    "graph_builder.add_node(\"tools\", tool_node)\n",
    "\n",
    "# 조건부 엣지\n",
    "graph_builder.add_conditional_edges(\n",
    "    \"chatbot\",\n",
    "    tools_condition,\n",
    ")\n",
    "\n",
    "##### 4. 엣지 추가\n",
    "# START > chatbot\n",
    "graph_builder.add_edge(START, \"chatbot\")\n",
    "\n",
    "# tools > chatbot\n",
    "graph_builder.add_edge(\"tools\", \"chatbot\")\n",
    "\n",
    "# chatbot > END\n",
    "graph_builder.add_edge(\"chatbot\", END)\n",
    "\n",
    "##### 메모리 저장소 초기화\n",
    "memory = MemorySaver()"
   ]
  },
  {
   "cell_type": "markdown",
   "metadata": {},
   "source": [
    "`human_in_the_loop` 를 사용하기 위해서는 메모리 저장소가 필요합니다.  \n",
    "  \n",
    "메모리를 상용하여 intrrupt_before 를 추가합니다."
   ]
  },
  {
   "cell_type": "code",
   "execution_count": 24,
   "metadata": {},
   "outputs": [
    {
     "data": {
      "image/png": "[encoded data removed]",
      "text/plain": [
       "<IPython.core.display.Image object>"
      ]
     },
     "metadata": {},
     "output_type": "display_data"
    }
   ],
   "source": [
    "###### 6. interrupt_before 추가\n",
    "# 그래프 빌더 컴파일\n",
    "graph = graph_builder.compile(checkpointer=memory)\n",
    "\n",
    "# 그래프 시각화\n",
    "visualize_graph(graph)"
   ]
  },
  {
   "cell_type": "markdown",
   "metadata": {},
   "source": [
    "메세지 출력을 합니다."
   ]
  },
  {
   "cell_type": "code",
   "execution_count": 25,
   "metadata": {},
   "outputs": [
    {
     "name": "stdout",
     "output_type": "stream",
     "text": [
      "\n",
      "[ messages ]\n",
      "\n",
      "================================\u001b[1m Human Message \u001b[0m=================================\n",
      "\n",
      "2024년 노벨 문학상 관련 뉴스를 알려주세요.\n",
      "\n",
      "[ messages ]\n",
      "\n",
      "================================\u001b[1m Human Message \u001b[0m=================================\n",
      "\n",
      "2024년 노벨 문학상 관련 뉴스를 알려주세요.\n",
      "==================================\u001b[1m Ai Message \u001b[0m==================================\n",
      "Tool Calls:\n",
      "  search_keyword (96f92bd6-7354-441f-a5f6-5d64b2aea01d)\n",
      " Call ID: 96f92bd6-7354-441f-a5f6-5d64b2aea01d\n",
      "  Args:\n",
      "    query: 2024년 노벨 문학상\n"
     ]
    }
   ],
   "source": [
    "from langchain_print import pretty_print_messages\n",
    "from langchain_core.runnables import RunnableConfig\n",
    "\n",
    "# 질문\n",
    "question = \"2024년 노벨 문학상 관련 뉴스를 알려주세요.\"\n",
    "\n",
    "# 초기 입력 State 를 정의\n",
    "user_input = State(messages=[(\"user\", question)])\n",
    "\n",
    "# config 설정\n",
    "config = RunnableConfig(\n",
    "    recursion_limit=10,\n",
    "    configurable={\"thread_id\": \"1\"},\n",
    "    tags=[\"my-rag\"],\n",
    ")\n",
    "\n",
    "# 그래프 실행\n",
    "for event in graph.stream(\n",
    "    input=user_input,\n",
    "    config=config,\n",
    "    stream_mode=\"values\",\n",
    "    interrupt_before=[\"tools\"],  # tools 노드 전에 inturrpt 실행\n",
    "):\n",
    "    for key, value in event.items():\n",
    "        print(f\"\\n[ {key} ]\\n\")\n",
    "        pretty_print_messages(value)"
   ]
  },
  {
   "cell_type": "markdown",
   "metadata": {},
   "source": [
    "그래프 상태를 확인하여 제대로 동작하였는지 확인합니다."
   ]
  },
  {
   "cell_type": "code",
   "execution_count": 26,
   "metadata": {},
   "outputs": [
    {
     "data": {
      "text/plain": [
       "('tools',)"
      ]
     },
     "execution_count": 26,
     "metadata": {},
     "output_type": "execute_result"
    }
   ],
   "source": [
    "# 그래프 상태 스냅샷 설정\n",
    "snapshot = graph.get_state(config)\n",
    "\n",
    "# 다음 스냅샷 상태 확인, \"다음노드 어디로 가야해?\"\n",
    "snapshot.next"
   ]
  },
  {
   "cell_type": "markdown",
   "metadata": {},
   "source": [
    "메시지 트리를 확인해봅니다. 다음이 툴노드로 가는 것을 확인할 수 있습니다."
   ]
  },
  {
   "cell_type": "code",
   "execution_count": 28,
   "metadata": {},
   "outputs": [
    {
     "name": "stdout",
     "output_type": "stream",
     "text": [
      "    \u001b[96mindex [0]\u001b[0m\n",
      "        \u001b[94mname\u001b[0m: \"search_keyword\"\n",
      "        \u001b[94margs\u001b[0m:\n",
      "            \u001b[95mquery\u001b[0m: \"2024년 노벨 문학상\"\n",
      "        \u001b[94mid\u001b[0m: \"96f92bd6-7354-441f-a5f6-5d64b2aea01d\"\n",
      "        \u001b[94mtype\u001b[0m: \"tool_call\"\n"
     ]
    }
   ],
   "source": [
    "from langchain_print import display_message_tree\n",
    "\n",
    "# 메시지 스냅샷에서 마지막 메시지 추출\n",
    "exsisting_message = snapshot.values[\"messages\"][-1]\n",
    "\n",
    "# 메시지 트리 표시\n",
    "display_message_tree(exsisting_message.tool_calls)"
   ]
  },
  {
   "cell_type": "markdown",
   "metadata": {},
   "source": [
    "다음으로는 이전에 종료된 지점 이후부터 이어서 그래프를 진행 하는 방법입니다.  \n",
    "  \n",
    "진행을 재개할때는 입력에 None 을 전달하면 됩니다."
   ]
  },
  {
   "cell_type": "code",
   "execution_count": 29,
   "metadata": {},
   "outputs": [
    {
     "name": "stdout",
     "output_type": "stream",
     "text": [
      "==================================\u001b[1m Ai Message \u001b[0m==================================\n",
      "Tool Calls:\n",
      "  search_keyword (96f92bd6-7354-441f-a5f6-5d64b2aea01d)\n",
      " Call ID: 96f92bd6-7354-441f-a5f6-5d64b2aea01d\n",
      "  Args:\n",
      "    query: 2024년 노벨 문학상\n",
      "=================================\u001b[1m Tool Message \u001b[0m=================================\n",
      "Name: search_keyword\n",
      "\n",
      "[{\"url\": \"https://news.google.com/rss/articles/CBMiVEFVX3lxTE9ncG5WS2Z6aUc4Sm03RWlDTGtYdmlHZG9WTVpMdTE3c240eVZ2d0tsZmdFa0t4NHhpYWRDellRV1Q2eVQ5ZDEtc0xfQUVaa2lrcUZDRg?oc=5\", \"content\": \"“문학은 생명 파괴에 맞서는 일” 한강, 세계를 울렸다 [2024 노벨문학상] - 매일경제\"}, {\"url\": \"https://news.google.com/rss/articles/CBMiggFBVV95cUxNWEF1akxLeHFsZ2pVT1VrT0xqNmdEUnBuUkxxazZkZ0JubVEwMjMxSkxkMUJpS0lyUWdhZlAtZlBxMWdBSkFMZWNmWVk3b1Q2Tzl6RHBiRE5kX09RS0V5WDZiSzJNMG82blM0cU9MXzYtbGJzYXBRZ0FuQ01MYkJkc2Rn?oc=5\", \"content\": \"한강, 노벨상 시상식 섰다…“글 속의 인물들 결코 잊힐 수 없어” - 한겨레\"}, {\"url\": \"https://news.google.com/rss/articles/CBMieEFVX3lxTFBQNGlRR1pyT3oyME81NzNlaE52SWpUbENhUWdiWjk3QVp4V2d0cm0xcFR6aTFudWVDTzVNcXRVZEJxMGF2am51NmY1TjFtZUJVcDF4MVdEenpRNmFXbEVsT015NmRkWk1DVDhEY1k1Q1JqUnFCdTdLYQ?oc=5\", \"content\": \"50년간 봉인되는 노벨문학상의 비밀…한강, 대한민국의 새 역사를 쓰다 [스프] - 네이트 뉴스\"}, {\"url\": \"https://news.google.com/rss/articles/CBMi6AFBVV95cUxPOTJDcW15YnVXQ1BmZFl0OGhWaURDUlo5UU54bEpRZVNtWXhFX3AzX2tZOHA3S1d2N2ljWUNFeDhVOFhDMGRFM2diaGhfUER4XzFRdVZpYVNJQjAzaEV3V2x4RjAzWEFGUnhQcm0zQkhUeVIzeGVRN0JkZlEyU192UFdjdEVrckdxdVBZWHdxV05LTU9hckw4RHl1NDI5TG5Qc0RzOV9iSVR5ZE5DR1V2cE85LVI5eEtMelBJWkM1TWg4U242N3QtUjIxRndNWXpPVTl4NGJEQjNXekFpYnN0T0lVWGpiRG5C?oc=5\", \"content\": \"한강, 2024 노벨 문학상 수상의 순간 - 보그 코리아\"}, {\"url\": \"https://news.google.com/rss/articles/CBMiU0FVX3lxTE1TRkt2XzRSemd5ckdtWGRaSmtfclJWbWpEUWltX3lqcWI3VXdCdXBhMzlsZjlfMEtOcm5SbW9GMHV4SHpDRkpKUU16bk9Gb0UyMThn0gFXQVVfeXFMT2VTZmpZemRlS3VCSVMxTGR1ZUh6VEZKQ3c0MG55cWlXVzdrZmNyMFI5aU1qdGVjSUNpb0dvUXE5bzNxTEtRTTE5ZGNscEVhQm9qbjRwUlRj?oc=5\", \"content\": \"축제 마친 한강 '계속 쓰던대로 쓸 것… 기념관 사업 대신 책으로 만나달라' - 서울경제신문\"}]\n",
      "==================================\u001b[1m Ai Message \u001b[0m==================================\n",
      "\n",
      "2024년 노벨 문학상은 한국 작가 한강에게 수여되었습니다. 수상 이유는 \"문학은 생명 파괴에 맞서는 일\"이라는 그녀의 작품 세계를 인정받았기 때문입니다. 한강 작가는 시상식에서 \"글 속의 인물들 결코 잊힐 수 없어\"라는 소감을 밝혔습니다.  한강 작가의 수상은 한국 문학의 새로운 역사를 쓴 쾌거로 평가됩니다. 작가는 수상 후에도 계속해서 작품 활동을 이어갈 것이며, 기념관 사업 대신 책으로 독자들과 만나고 싶다는 뜻을 전했습니다.\n"
     ]
    }
   ],
   "source": [
    "# `None`은 현재 상태에 아무것도 추가 하지 않는 것을 의미\n",
    "events = graph.stream(None, config=config, stream_mode=\"values\")\n",
    "\n",
    "for event in events:\n",
    "    for key, value in event.items():\n",
    "        event[\"messages\"][-1].pretty_print()"
   ]
  },
  {
   "cell_type": "markdown",
   "metadata": {},
   "source": [
    "위에 메모리를 사용하였기때문에 각 단계별 상태값들이 스냅샷으로 메모리에 저장이 되어 있습니다.  \n",
    "  \n",
    "스냅샷으로 저장된 메모리안에 상태값들을 출력해보겠습니다."
   ]
  },
  {
   "cell_type": "code",
   "execution_count": 31,
   "metadata": {},
   "outputs": [
    {
     "name": "stdout",
     "output_type": "stream",
     "text": [
      "메시지 수:  4 다음 노드 :  ()\n",
      "메시지 수:  3 다음 노드 :  ('chatbot',)\n",
      "메시지 수:  2 다음 노드 :  ('tools',)\n",
      "메시지 수:  1 다음 노드 :  ('chatbot',)\n",
      "메시지 수:  0 다음 노드 :  ('__start__',)\n"
     ]
    }
   ],
   "source": [
    "to_replay = None\n",
    "\n",
    "# 상태 기록 가져오기\n",
    "for state in graph.get_state_history(config):\n",
    "    print(\"메시지 수: \", len(state.values[\"messages\"]), \"다음 노드 : \", state.next)\n",
    "\n",
    "    if len(state.values[\"messages\"]) == 3:\n",
    "        to_replay = state"
   ]
  },
  {
   "cell_type": "markdown",
   "metadata": {},
   "source": [
    "결과를 보면 그래프의 모든 단계에 대해 체크포인트가 저장되어 있습니다.  \n",
    "  \n",
    "환인하고자 하는 지점, 원하는 지점은 `to_replay` 변수에 저장되어 있습니다.  \n",
    "  \n",
    "이 방법을 활용하면 다시 시작하고자 하는 지점을 지정할 수 있습니다."
   ]
  },
  {
   "cell_type": "code",
   "execution_count": 34,
   "metadata": {},
   "outputs": [
    {
     "name": "stdout",
     "output_type": "stream",
     "text": [
      "('chatbot',)\n",
      "{'configurable': {'thread_id': '1', 'checkpoint_ns': '', 'checkpoint_id': '1efb8303-0ecb-6b98-8002-b041c6cabb0c'}}\n"
     ]
    }
   ],
   "source": [
    "# 다음 항목의 다음 요소 출력\n",
    "print(to_replay.next)\n",
    "\n",
    "# 다음 항목의 설정 정보 출력\n",
    "print(to_replay.config)"
   ]
  },
  {
   "cell_type": "markdown",
   "metadata": {},
   "source": [
    "`to_replay.config`에  `checkpoint_id`가 포함된 것을 확인할 수 있습니다."
   ]
  },
  {
   "cell_type": "code",
   "execution_count": 35,
   "metadata": {},
   "outputs": [
    {
     "data": {
      "text/plain": [
       "{'configurable': {'thread_id': '1',\n",
       "  'checkpoint_ns': '',\n",
       "  'checkpoint_id': '1efb8303-0ecb-6b98-8002-b041c6cabb0c'}}"
      ]
     },
     "execution_count": 35,
     "metadata": {},
     "output_type": "execute_result"
    }
   ],
   "source": [
    "to_replay.config"
   ]
  },
  {
   "cell_type": "markdown",
   "metadata": {},
   "source": [
    "`checkpoint_id`는 체크포인트의 고유 식별자입니다.  \n",
    "  \n",
    "아마 내부적으로는 체크포인트의 아이디를 참조하여 그 상태 값으로 돌아가 복원하는 듯 합니다.  \n",
    "  \n",
    "이 값을 사용하여 체크포인트를 다시 로드할 수 있습니다.  \n",
    "- 단, 이때는 입력값을 None 으로 전달해야 합니다."
   ]
  },
  {
   "cell_type": "code",
   "execution_count": 36,
   "metadata": {},
   "outputs": [
    {
     "name": "stdout",
     "output_type": "stream",
     "text": [
      "=================================\u001b[1m Tool Message \u001b[0m=================================\n",
      "Name: search_keyword\n",
      "\n",
      "[{\"url\": \"https://news.google.com/rss/articles/CBMiVEFVX3lxTE9ncG5WS2Z6aUc4Sm03RWlDTGtYdmlHZG9WTVpMdTE3c240eVZ2d0tsZmdFa0t4NHhpYWRDellRV1Q2eVQ5ZDEtc0xfQUVaa2lrcUZDRg?oc=5\", \"content\": \"“문학은 생명 파괴에 맞서는 일” 한강, 세계를 울렸다 [2024 노벨문학상] - 매일경제\"}, {\"url\": \"https://news.google.com/rss/articles/CBMiggFBVV95cUxNWEF1akxLeHFsZ2pVT1VrT0xqNmdEUnBuUkxxazZkZ0JubVEwMjMxSkxkMUJpS0lyUWdhZlAtZlBxMWdBSkFMZWNmWVk3b1Q2Tzl6RHBiRE5kX09RS0V5WDZiSzJNMG82blM0cU9MXzYtbGJzYXBRZ0FuQ01MYkJkc2Rn?oc=5\", \"content\": \"한강, 노벨상 시상식 섰다…“글 속의 인물들 결코 잊힐 수 없어” - 한겨레\"}, {\"url\": \"https://news.google.com/rss/articles/CBMieEFVX3lxTFBQNGlRR1pyT3oyME81NzNlaE52SWpUbENhUWdiWjk3QVp4V2d0cm0xcFR6aTFudWVDTzVNcXRVZEJxMGF2am51NmY1TjFtZUJVcDF4MVdEenpRNmFXbEVsT015NmRkWk1DVDhEY1k1Q1JqUnFCdTdLYQ?oc=5\", \"content\": \"50년간 봉인되는 노벨문학상의 비밀…한강, 대한민국의 새 역사를 쓰다 [스프] - 네이트 뉴스\"}, {\"url\": \"https://news.google.com/rss/articles/CBMi6AFBVV95cUxPOTJDcW15YnVXQ1BmZFl0OGhWaURDUlo5UU54bEpRZVNtWXhFX3AzX2tZOHA3S1d2N2ljWUNFeDhVOFhDMGRFM2diaGhfUER4XzFRdVZpYVNJQjAzaEV3V2x4RjAzWEFGUnhQcm0zQkhUeVIzeGVRN0JkZlEyU192UFdjdEVrckdxdVBZWHdxV05LTU9hckw4RHl1NDI5TG5Qc0RzOV9iSVR5ZE5DR1V2cE85LVI5eEtMelBJWkM1TWg4U242N3QtUjIxRndNWXpPVTl4NGJEQjNXekFpYnN0T0lVWGpiRG5C?oc=5\", \"content\": \"한강, 2024 노벨 문학상 수상의 순간 - 보그 코리아\"}, {\"url\": \"https://news.google.com/rss/articles/CBMiU0FVX3lxTE1TRkt2XzRSemd5ckdtWGRaSmtfclJWbWpEUWltX3lqcWI3VXdCdXBhMzlsZjlfMEtOcm5SbW9GMHV4SHpDRkpKUU16bk9Gb0UyMThn0gFXQVVfeXFMT2VTZmpZemRlS3VCSVMxTGR1ZUh6VEZKQ3c0MG55cWlXVzdrZmNyMFI5aU1qdGVjSUNpb0dvUXE5bzNxTEtRTTE5ZGNscEVhQm9qbjRwUlRj?oc=5\", \"content\": \"축제 마친 한강 '계속 쓰던대로 쓸 것… 기념관 사업 대신 책으로 만나달라' - 서울경제신문\"}]\n",
      "==================================\u001b[1m Ai Message \u001b[0m==================================\n",
      "\n",
      "2024년 노벨 문학상은 한국 작가 한강에게 수여되었습니다. 수상 이유는 \"문학은 생명 파괴에 맞서는 일\"이며, 세계적으로 큰 반향을 일으켰습니다. 한강 작가는 노벨상 시상식에서 \"글 속의 인물들 결코 잊힐 수 없어\"라고 소감을 밝혔습니다. 또한, 작가의 50년간 봉인되는 노벨문학상 수상 비밀과 관련된 이야기도 주목받고 있습니다.  수상 후 인터뷰에서 한강 작가는 기념관 사업 대신, 앞으로도 계속 글을 쓰는 작가로서 독자들과 만나고 싶다는 뜻을 전했습니다.\n"
     ]
    }
   ],
   "source": [
    "# `to_replay.config`는 `checkpoint_id`는 체크포인터에 저장된 상태에 해당\n",
    "for event in graph.stream(None, to_replay.config, stream_mode=\"values\"):\n",
    "    # 메시지가 이벤트에 포함된 경우\n",
    "    if \"messages\" in event:\n",
    "        # 마지막 메시지 출력\n",
    "        event[\"messages\"][-1].pretty_print()"
   ]
  },
  {
   "cell_type": "markdown",
   "metadata": {},
   "source": [
    "#### 정리.\n",
    "\n",
    "1. `MemorySaver를` 통해 그래프 실행 중의 모든 상태(state)가 체크포인트로 저장됩니다.\n",
    "2. 각 체크포인트는 고유한 `checkpoint_id를` 가지고 있으며, 이는 `to_replay.config` 안에 저장됩니다:\n",
    "\n",
    "    ```python\n",
    "    {\n",
    "        'configurable': {\n",
    "            'thread_id': '1',\n",
    "            'checkpoint_ns': '',\n",
    "            'checkpoint_id': '1efb8303-0ecb-6b98-8002-b041c6cabb0c'\n",
    "        }\n",
    "    }\n",
    "    ```\n",
    "\n",
    "3. 특정 상태로 돌아가고 싶을 때:\n",
    "\n",
    "    ```python\n",
    "    # config에 있는 checkpoint_id를 사용해 해당 상태부터 실행\n",
    "    graph.stream(None, to_replay.config, stream_mode=\"values\")\n",
    "    ```\n",
    "\n",
    "- 입력값으로 `None`을 주는 것은 기존 상태를 그대로 사용하겠다는 의미입니다\n",
    "- `to_replay.config`를 전달하면 LangGraph는 내부적으로 이 config에 있는 `checkpoint_id`를 참조하여 해당 시점의 상태를 복원하고 거기서부터 실행을 재개합니다\n",
    "\n",
    "\n",
    "이런 방식으로 human-in-the-loop 시스템에서 특정 시점으로 돌아가거나, 중단된 지점에서 다시 시작하는 것이 가능해집니다."
   ]
  }
 ],
 "metadata": {
  "kernelspec": {
   "display_name": "langchain-note-2024-PFhCXHTX-py3.12",
   "language": "python",
   "name": "python3"
  },
  "language_info": {
   "codemirror_mode": {
    "name": "ipython",
    "version": 3
   },
   "file_extension": ".py",
   "mimetype": "text/x-python",
   "name": "python",
   "nbconvert_exporter": "python",
   "pygments_lexer": "ipython3",
   "version": "3.12.7"
  }
 },
 "nbformat": 4,
 "nbformat_minor": 2
}
