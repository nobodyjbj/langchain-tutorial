{
 "cells": [
  {
   "cell_type": "code",
   "execution_count": 1,
   "metadata": {},
   "outputs": [
    {
     "data": {
      "text/plain": [
       "True"
      ]
     },
     "execution_count": 1,
     "metadata": {},
     "output_type": "execute_result"
    }
   ],
   "source": [
    "from dotenv import load_dotenv\n",
    "import sys\n",
    "\n",
    "sys.path.append(\"../../common\")\n",
    "load_dotenv()"
   ]
  },
  {
   "cell_type": "code",
   "execution_count": 2,
   "metadata": {},
   "outputs": [
    {
     "name": "stdout",
     "output_type": "stream",
     "text": [
      "Langsmith 추적이 활성화되었습니다. [프로젝트명: 17.LangGraph]\n"
     ]
    }
   ],
   "source": [
    "import os\n",
    "from langsmith_tracker import set_tracking\n",
    "\n",
    "# 인스턴스를 생성할 때 필요한 매개변수를 전달합니다.\n",
    "set_tracking(project_name=\"17.LangGraph\")"
   ]
  },
  {
   "cell_type": "markdown",
   "metadata": {},
   "source": [
    "### 메시지 삭제\n",
    "\n",
    "메세지를 삭제하는 방법입니다.  \n",
    "  \n",
    "대화 내용이 자동으로 쌓이게 되는데, 메모리에 저장이되고 내용이 길어져서 컨텍스트 길이가 길어지게 됩니다. 이런 경우를 위해 필요없는 구간의 메시지를 삭제하는 경우가 있습니다.  \n",
    "  \n",
    "이때 remover라는 reducer를 사용해서 메시지를 삭제합니다.  \n",
    "  \n",
    "동일한 아이디에 대해서 삭제해주는 기능입니다."
   ]
  },
  {
   "cell_type": "code",
   "execution_count": 3,
   "metadata": {},
   "outputs": [],
   "source": [
    "from typing import Literal\n",
    "\n",
    "from langchain_core.tools import tool\n",
    "from langchain_openai import ChatOpenAI\n",
    "from langgraph.checkpoint.memory import MemorySaver\n",
    "from langgraph.graph import MessagesState, StateGraph, START, END\n",
    "from langgraph.prebuilt import ToolNode, tools_condition\n",
    "\n",
    "# 체크포인트 저장을 위한 메모리 객체 초기화\n",
    "memory = MemorySaver()\n",
    "\n",
    "\n",
    "# 웹 검색 기능을 모방하는 도구 함수 정의\n",
    "@tool\n",
    "def search(query: str):\n",
    "    \"\"\"Call to surf on the web.\"\"\"\n",
    "    return \"웹 검색 결과: LangGraph 한글 튜토리얼은 https://wikidocs.net/233785 에서 확인할 수 있습니다.\"\n",
    "\n",
    "\n",
    "# 도구 목록 생성 및 도구 노드 초기화\n",
    "tools = [search]\n",
    "tool_node = ToolNode(tools)\n",
    "\n",
    "# 모델 초기화 및 도구 바인딩\n",
    "model = ChatOpenAI(model_name=\"gpt-4o-mini\")\n",
    "bound_model = model.bind_tools(tools)\n",
    "\n",
    "\n",
    "# # 대화 상태에 따른 다음 실행 노드 결정 함수\n",
    "def should_continue(state: MessagesState):\n",
    "    last_message = state[\"messages\"][-1]\n",
    "    if not last_message.tool_calls:\n",
    "        return END\n",
    "    return \"tool\"\n",
    "\n",
    "\n",
    "# LLM 모델 호출 및 응답 처리 함수\n",
    "def call_model(state: MessagesState):\n",
    "    response = model.invoke(state[\"messages\"])\n",
    "    return {\"messages\": response}\n",
    "\n",
    "\n",
    "# 상태 기반 워크플로우 그래프 초기화\n",
    "workflow = StateGraph(MessagesState)\n",
    "\n",
    "# 에이전트와 액션 노드 추가\n",
    "workflow.add_node(\"agent\", call_model)\n",
    "workflow.add_node(\"tool\", tool_node)\n",
    "\n",
    "# 시작점을 에이전트 노드로 설정\n",
    "workflow.add_edge(START, \"agent\")\n",
    "\n",
    "# 조건부 엣지 설정: 에이전트 노드 이후의 실행 흐름 정의\n",
    "workflow.add_conditional_edges(\"agent\", should_continue, {\"tool\": \"tool\", END: END})\n",
    "\n",
    "# 도구 실행 후 에이전트로 돌아가는 엣지 추가\n",
    "workflow.add_edge(\"tool\", \"agent\")\n",
    "\n",
    "# 체크포인터가 포함된 최종 실행 가능한 워크플로우 컴파일\n",
    "app = workflow.compile(checkpointer=memory)"
   ]
  },
  {
   "cell_type": "markdown",
   "metadata": {},
   "source": [
    "그래프를 시각화합니다."
   ]
  },
  {
   "cell_type": "code",
   "execution_count": 5,
   "metadata": {},
   "outputs": [
    {
     "data": {
      "image/png": "[encoded data removed]",
      "text/plain": [
       "<IPython.core.display.Image object>"
      ]
     },
     "metadata": {},
     "output_type": "display_data"
    }
   ],
   "source": [
    "from graphs import visualize_graph\n",
    "\n",
    "visualize_graph(app)"
   ]
  },
  {
   "cell_type": "code",
   "execution_count": 7,
   "metadata": {},
   "outputs": [
    {
     "name": "stdout",
     "output_type": "stream",
     "text": [
      "================================\u001b[1m Human Message \u001b[0m=================================\n",
      "\n",
      "안녕하세요! 제 이름은 Coin입니다. 잘 부탁드립니다.\n",
      "==================================\u001b[1m Ai Message \u001b[0m==================================\n",
      "\n",
      "안녕하세요, Coin님! 만나서 반갑습니다. 어떻게 도와드릴까요?\n"
     ]
    }
   ],
   "source": [
    "from langchain_core.messages import HumanMessage\n",
    "\n",
    "# 스레드 ID가 1인 기본 설정 객체 초기화\n",
    "config = {\"configurable\": {\"thread_id\": \"1\"}}\n",
    "\n",
    "# 1번째 질문 수행\n",
    "input_message = HumanMessage(\n",
    "    content=\"안녕하세요! 제 이름은 Coin입니다. 잘 부탁드립니다.\"\n",
    ")\n",
    "\n",
    "# 스트림 모드로 메시지 처리 및 응답 출력, 마지막 메시지의 상세 정보 표시\n",
    "for event in app.stream({\"messages\": [input_message]}, config, stream_mode=\"values\"):\n",
    "    event[\"messages\"][-1].pretty_print()"
   ]
  },
  {
   "cell_type": "code",
   "execution_count": 8,
   "metadata": {},
   "outputs": [
    {
     "name": "stdout",
     "output_type": "stream",
     "text": [
      "================================\u001b[1m Human Message \u001b[0m=================================\n",
      "\n",
      "내 이름이 뭐라고요?\n",
      "==================================\u001b[1m Ai Message \u001b[0m==================================\n",
      "\n",
      "당신의 이름은 Coin입니다! 도움이 필요하시면 언제든지 말씀해 주세요.\n"
     ]
    }
   ],
   "source": [
    "# 후속 질문 수행\n",
    "input_message = HumanMessage(content=\"내 이름이 뭐라고요?\")\n",
    "\n",
    "# 스트림 모드로 두 번째 메시지 처리 및 응답 출력\n",
    "for event in app.stream({\"messages\": [input_message]}, config, stream_mode=\"values\"):\n",
    "    event[\"messages\"][-1].pretty_print()"
   ]
  },
  {
   "cell_type": "code",
   "execution_count": 9,
   "metadata": {},
   "outputs": [
    {
     "name": "stdout",
     "output_type": "stream",
     "text": [
      "================================\u001b[1m Human Message \u001b[0m=================================\n",
      "\n",
      "안녕하세요! 제 이름은 Teddy입니다. 잘 부탁드립니다.\n",
      "==================================\u001b[1m Ai Message \u001b[0m==================================\n",
      "\n",
      "안녕하세요, Teddy님! 만나서 반갑습니다. 어떻게 도와드릴까요?\n",
      "================================\u001b[1m Human Message \u001b[0m=================================\n",
      "\n",
      "안녕하세요! 제 이름은 Coin입니다. 잘 부탁드립니다.\n",
      "==================================\u001b[1m Ai Message \u001b[0m==================================\n",
      "\n",
      "안녕하세요, Coin님! 만나서 반갑습니다. 어떻게 도와드릴까요?\n",
      "================================\u001b[1m Human Message \u001b[0m=================================\n",
      "\n",
      "내 이름이 뭐라고요?\n",
      "==================================\u001b[1m Ai Message \u001b[0m==================================\n",
      "\n",
      "당신의 이름은 Coin입니다! 도움이 필요하시면 언제든지 말씀해 주세요.\n"
     ]
    }
   ],
   "source": [
    "# 단계별 상태 확인\n",
    "messages = app.get_state(config).values[\"messages\"]\n",
    "for message in messages:\n",
    "    message.pretty_print()"
   ]
  },
  {
   "cell_type": "markdown",
   "metadata": {},
   "source": [
    "#### RemoveMessage 수정자를 사용하여 메시지 삭제\n",
    "\n",
    "먼저 메시지를 수동으로 삭제하는 방법을 살펴보겠습니다. 현재 스레드의 상태를 확인해보겠습니다:"
   ]
  },
  {
   "cell_type": "code",
   "execution_count": 24,
   "metadata": {},
   "outputs": [
    {
     "data": {
      "text/plain": [
       "[AIMessage(content='안녕하세요, Coin님! 반갑습니다. 무엇을 도와드릴까요?', additional_kwargs={'refusal': None}, response_metadata={'token_usage': {'completion_tokens': 18, 'prompt_tokens': 59, 'total_tokens': 77, 'completion_tokens_details': {'accepted_prediction_tokens': 0, 'audio_tokens': 0, 'reasoning_tokens': 0, 'rejected_prediction_tokens': 0}, 'prompt_tokens_details': {'audio_tokens': 0, 'cached_tokens': 0}}, 'model_name': 'gpt-4o-mini-2024-07-18', 'system_fingerprint': 'fp_6fc10e10eb', 'finish_reason': 'stop', 'logprobs': None}, id='run-39b5af7c-5bef-4cb4-97dc-d008f4421918-0', usage_metadata={'input_tokens': 59, 'output_tokens': 18, 'total_tokens': 77, 'input_token_details': {'audio': 0, 'cache_read': 0}, 'output_token_details': {'audio': 0, 'reasoning': 0}}),\n",
       " HumanMessage(content='내 이름이 뭐라고요?', additional_kwargs={}, response_metadata={}, id='858aef6f-6bf0-46db-8f9b-e1ff957cc8ab'),\n",
       " AIMessage(content='당신의 이름은 Coin님입니다! 맞나요?', additional_kwargs={'refusal': None}, response_metadata={'token_usage': {'completion_tokens': 12, 'prompt_tokens': 75, 'total_tokens': 87, 'completion_tokens_details': {'accepted_prediction_tokens': 0, 'audio_tokens': 0, 'reasoning_tokens': 0, 'rejected_prediction_tokens': 0}, 'prompt_tokens_details': {'audio_tokens': 0, 'cached_tokens': 0}}, 'model_name': 'gpt-4o-mini-2024-07-18', 'system_fingerprint': 'fp_6fc10e10eb', 'finish_reason': 'stop', 'logprobs': None}, id='run-44781430-4bdd-4149-b654-c9e6c32a7a75-0', usage_metadata={'input_tokens': 75, 'output_tokens': 12, 'total_tokens': 87, 'input_token_details': {'audio': 0, 'cache_read': 0}, 'output_token_details': {'audio': 0, 'reasoning': 0}})]"
      ]
     },
     "execution_count": 24,
     "metadata": {},
     "output_type": "execute_result"
    }
   ],
   "source": [
    "# 앱 상태에서 메시지 목록 추출 및 저장\n",
    "messages = app.get_state(config).values[\"messages\"]\n",
    "messages"
   ]
  },
  {
   "cell_type": "markdown",
   "metadata": {},
   "source": [
    "##### `update_state` 메서드를 사용하여 메시지 삭제합니다. 아이디를 넣어주면 Reducer가 찾아서 삭제하게 됩니다."
   ]
  },
  {
   "cell_type": "code",
   "execution_count": 26,
   "metadata": {},
   "outputs": [
    {
     "data": {
      "text/plain": [
       "{'configurable': {'thread_id': '2',\n",
       "  'checkpoint_ns': '',\n",
       "  'checkpoint_id': '1efb91f1-0f2a-6588-800b-535cf7e277e9'}}"
      ]
     },
     "execution_count": 26,
     "metadata": {},
     "output_type": "execute_result"
    }
   ],
   "source": [
    "from langchain_core.messages import RemoveMessage\n",
    "\n",
    "app.update_state(config, {\"messages\": [RemoveMessage(id=messages[0].id)]})"
   ]
  },
  {
   "cell_type": "markdown",
   "metadata": {},
   "source": [
    "messages 를 확인하여 첫번째 메시지가 삭제되었는지 확인합니다."
   ]
  },
  {
   "cell_type": "code",
   "execution_count": 27,
   "metadata": {},
   "outputs": [
    {
     "data": {
      "text/plain": [
       "[HumanMessage(content='내 이름이 뭐라고요?', additional_kwargs={}, response_metadata={}, id='858aef6f-6bf0-46db-8f9b-e1ff957cc8ab'),\n",
       " AIMessage(content='당신의 이름은 Coin님입니다! 맞나요?', additional_kwargs={'refusal': None}, response_metadata={'token_usage': {'completion_tokens': 12, 'prompt_tokens': 75, 'total_tokens': 87, 'completion_tokens_details': {'accepted_prediction_tokens': 0, 'audio_tokens': 0, 'reasoning_tokens': 0, 'rejected_prediction_tokens': 0}, 'prompt_tokens_details': {'audio_tokens': 0, 'cached_tokens': 0}}, 'model_name': 'gpt-4o-mini-2024-07-18', 'system_fingerprint': 'fp_6fc10e10eb', 'finish_reason': 'stop', 'logprobs': None}, id='run-44781430-4bdd-4149-b654-c9e6c32a7a75-0', usage_metadata={'input_tokens': 75, 'output_tokens': 12, 'total_tokens': 87, 'input_token_details': {'audio': 0, 'cache_read': 0}, 'output_token_details': {'audio': 0, 'reasoning': 0}})]"
      ]
     },
     "execution_count": 27,
     "metadata": {},
     "output_type": "execute_result"
    }
   ],
   "source": [
    "messages = app.get_state(config).values[\"messages\"]\n",
    "messages"
   ]
  },
  {
   "cell_type": "markdown",
   "metadata": {},
   "source": [
    "#### 더 많은 메시지를 동적으로 삭제하는 방법입니다.\n",
    "\n",
    "그래프 내부에서 프로그래밍 방식으로 메시지를 삭제할 수 있습니다.  \n",
    "  \n",
    "그래프 실행이 종료될때 오래된 메시지를 삭제하도록 그래프를 수정하는 방법입니다.  \n",
    "  \n",
    "3개 이전의 메시지를 삭제하는 방법입니다."
   ]
  },
  {
   "cell_type": "code",
   "execution_count": 18,
   "metadata": {},
   "outputs": [],
   "source": [
    "from langchain_core.messages import RemoveMessage\n",
    "from langgraph.graph import END\n",
    "\n",
    "\n",
    "# 메시지 개수가 3개 초과 시 오래된 메시지 삭제 및 최신 메시지만 유지\n",
    "def delete_messages(state):\n",
    "    messages = state[\"messages\"]\n",
    "    if len(messages) > 3:\n",
    "        return {\"messages\": [RemoveMessage(id=m.id) for m in messages[:-3]]}\n",
    "\n",
    "\n",
    "# 메시지 상태에 따른 다음 실행 노드 결정 로직\n",
    "def should_continue(state: MessagesState) -> Literal[\"action\", \"delete_messages\"]:\n",
    "    \"\"\"Return the next node to execute.\"\"\"\n",
    "    last_message = state[\"messages\"][-1]\n",
    "    # 함수 호출이 없는 경우 메시지 삭제 함수 실행\n",
    "    if not last_message.tool_calls:\n",
    "        return \"delete_messages\"\n",
    "    # 함수 호출이 있는 경우 액션 실행\n",
    "    return \"action\"\n",
    "\n",
    "\n",
    "# 메시지 상태 기반 워크플로우 그래프 정의\n",
    "workflow = StateGraph(MessagesState)\n",
    "\n",
    "# 에이전트와 액션 노드 추가\n",
    "workflow.add_node(\"agent\", call_model)\n",
    "workflow.add_node(\"action\", tool_node)\n",
    "\n",
    "# 메시지 삭제 노드 추가\n",
    "workflow.add_node(delete_messages)\n",
    "\n",
    "# 시작 노드에서 에이전트 노드로 연결\n",
    "workflow.add_edge(START, \"agent\")\n",
    "\n",
    "# 조건부 엣지 추가를 통한 노드 간 흐름 제어\n",
    "workflow.add_conditional_edges(\n",
    "    \"agent\",\n",
    "    should_continue,\n",
    ")\n",
    "\n",
    "# 액션 노드에서 에이전트 노드로 연결\n",
    "workflow.add_edge(\"action\", \"agent\")\n",
    "\n",
    "# 메시지 삭제 노드에서 종료 노드로 연결\n",
    "workflow.add_edge(\"delete_messages\", END)\n",
    "\n",
    "# 메모리 체크포인터를 사용하여 워크플로우 컴파일\n",
    "app = workflow.compile(checkpointer=memory)"
   ]
  },
  {
   "cell_type": "markdown",
   "metadata": {},
   "source": [
    "그래프를 시각화합니다."
   ]
  },
  {
   "cell_type": "code",
   "execution_count": 19,
   "metadata": {},
   "outputs": [
    {
     "data": {
      "image/png": "[encoded data removed]",
      "text/plain": [
       "<IPython.core.display.Image object>"
      ]
     },
     "metadata": {},
     "output_type": "display_data"
    }
   ],
   "source": [
    "from graphs import visualize_graph\n",
    "\n",
    "visualize_graph(app)"
   ]
  },
  {
   "cell_type": "code",
   "execution_count": 32,
   "metadata": {},
   "outputs": [
    {
     "name": "stdout",
     "output_type": "stream",
     "text": [
      "[('human', '안녕하세요! 제 이름은 Coin입니다. 잘 부탁드립니다.')]\n",
      "[('human', '안녕하세요! 제 이름은 Coin입니다. 잘 부탁드립니다.'), ('ai', '안녕하세요, Coin님! 만나서 반갑습니다. 무엇을 도와드릴까요? 궁금한 점이나 이야기하고 싶은 주제가 있다면 말씀해 주세요!')]\n"
     ]
    }
   ],
   "source": [
    "# LangChain 메시지 처리를 위한 HumanMessage 클래스 임포트\n",
    "from langchain_core.messages import HumanMessage\n",
    "\n",
    "# 스레드 ID가 포함된 설정 객체 초기화\n",
    "config = {\"configurable\": {\"thread_id\": \"3\"}}\n",
    "\n",
    "# 1번째 질문 수행\n",
    "input_message = HumanMessage(\n",
    "    content=\"안녕하세요! 제 이름은 Coin입니다. 잘 부탁드립니다.\"\n",
    ")\n",
    "for event in app.stream({\"messages\": [input_message]}, config, stream_mode=\"values\"):\n",
    "    print([(message.type, message.content) for message in event[\"messages\"]])"
   ]
  },
  {
   "cell_type": "code",
   "execution_count": 33,
   "metadata": {},
   "outputs": [
    {
     "name": "stdout",
     "output_type": "stream",
     "text": [
      "[('human', '안녕하세요! 제 이름은 Coin입니다. 잘 부탁드립니다.'), ('ai', '안녕하세요, Coin님! 만나서 반갑습니다. 무엇을 도와드릴까요? 궁금한 점이나 이야기하고 싶은 주제가 있다면 말씀해 주세요!'), ('human', '내 이름이 뭐라고요?')]\n",
      "[('human', '안녕하세요! 제 이름은 Coin입니다. 잘 부탁드립니다.'), ('ai', '안녕하세요, Coin님! 만나서 반갑습니다. 무엇을 도와드릴까요? 궁금한 점이나 이야기하고 싶은 주제가 있다면 말씀해 주세요!'), ('human', '내 이름이 뭐라고요?'), ('ai', '당신의 이름은 Coin입니다! 맞나요?')]\n",
      "[('ai', '안녕하세요, Coin님! 만나서 반갑습니다. 무엇을 도와드릴까요? 궁금한 점이나 이야기하고 싶은 주제가 있다면 말씀해 주세요!'), ('human', '내 이름이 뭐라고요?'), ('ai', '당신의 이름은 Coin입니다! 맞나요?')]\n"
     ]
    }
   ],
   "source": [
    "# 2번째 질문 수행\n",
    "input_message = HumanMessage(content=\"내 이름이 뭐라고요?\")\n",
    "\n",
    "for event in app.stream({\"messages\": [input_message]}, config, stream_mode=\"values\"):\n",
    "    print([(message.type, message.content) for message in event[\"messages\"]])"
   ]
  },
  {
   "cell_type": "code",
   "execution_count": 34,
   "metadata": {},
   "outputs": [
    {
     "name": "stdout",
     "output_type": "stream",
     "text": [
      "==================================\u001b[1m Ai Message \u001b[0m==================================\n",
      "\n",
      "안녕하세요, Coin님! 만나서 반갑습니다. 무엇을 도와드릴까요? 궁금한 점이나 이야기하고 싶은 주제가 있다면 말씀해 주세요!\n",
      "================================\u001b[1m Human Message \u001b[0m=================================\n",
      "\n",
      "내 이름이 뭐라고요?\n",
      "==================================\u001b[1m Ai Message \u001b[0m==================================\n",
      "\n",
      "당신의 이름은 Coin입니다! 맞나요?\n"
     ]
    }
   ],
   "source": [
    "# 앱 상태에서 메시지 목록 추출 및 저장\n",
    "messages = app.get_state(config).values[\"messages\"]\n",
    "# 메시지 목록 반환\n",
    "for message in messages:\n",
    "    message.pretty_print()"
   ]
  }
 ],
 "metadata": {
  "kernelspec": {
   "display_name": "langchain-note-2024-PFhCXHTX-py3.12",
   "language": "python",
   "name": "python3"
  },
  "language_info": {
   "codemirror_mode": {
    "name": "ipython",
    "version": 3
   },
   "file_extension": ".py",
   "mimetype": "text/x-python",
   "name": "python",
   "nbconvert_exporter": "python",
   "pygments_lexer": "ipython3",
   "version": "3.12.7"
  }
 },
 "nbformat": 4,
 "nbformat_minor": 2
}
