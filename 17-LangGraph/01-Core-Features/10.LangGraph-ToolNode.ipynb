{
 "cells": [
  {
   "cell_type": "code",
   "execution_count": 2,
   "metadata": {},
   "outputs": [
    {
     "data": {
      "text/plain": [
       "True"
      ]
     },
     "execution_count": 2,
     "metadata": {},
     "output_type": "execute_result"
    }
   ],
   "source": [
    "from dotenv import load_dotenv\n",
    "import sys\n",
    "\n",
    "sys.path.append(\"../../common\")\n",
    "load_dotenv()"
   ]
  },
  {
   "cell_type": "code",
   "execution_count": 3,
   "metadata": {},
   "outputs": [
    {
     "name": "stdout",
     "output_type": "stream",
     "text": [
      "Langsmith 추적이 활성화되었습니다. [프로젝트명: 17.LangGraph]\n"
     ]
    }
   ],
   "source": [
    "import os\n",
    "from langsmith_tracker import set_tracking\n",
    "\n",
    "# 인스턴스를 생성할 때 필요한 매개변수를 전달합니다.\n",
    "\n",
    "set_tracking(project_name=\"17.LangGraph\")"
   ]
  },
  {
   "cell_type": "markdown",
   "metadata": {},
   "source": [
    "### ToolNode 를 사용하여 도구를 호출하는 방법\n",
    "\n",
    "ToolNode는 여러개의 도구를 바인딩 하여 직접 실행할 수 있습니다.\n",
    "  \n",
    "도구를 노드로서 활용해야 하므로 패키징이 필요한데, 그때 사용하는 것이 ToolNode 입니다."
   ]
  },
  {
   "cell_type": "markdown",
   "metadata": {},
   "source": [
    "##### 1. 도구 정의"
   ]
  },
  {
   "cell_type": "code",
   "execution_count": 4,
   "metadata": {},
   "outputs": [],
   "source": [
    "from langchain_core.messages import AIMessage\n",
    "from langchain_core.tools import tool\n",
    "from langchain_experimental.tools.python.tool import PythonAstREPLTool\n",
    "from tools_news import GoogleNews\n",
    "from typing import List, Dict\n",
    "\n",
    "\n",
    "@tool\n",
    "def search_news(query: str) -> List[Dict[str, str]]:\n",
    "    \"\"\"Search news for the given query.\"\"\"\n",
    "    news_tool = GoogleNews()\n",
    "    return news_tool.search_by_keyword(query, k=5)\n",
    "\n",
    "\n",
    "@tool\n",
    "def python_code_interpreter(code: str):\n",
    "    \"\"\"Call to excute python code.\"\"\"\n",
    "    return PythonAstREPLTool().invoke(code)"
   ]
  },
  {
   "cell_type": "markdown",
   "metadata": {},
   "source": [
    "##### 2. ToolNode 초기화"
   ]
  },
  {
   "cell_type": "code",
   "execution_count": 5,
   "metadata": {},
   "outputs": [],
   "source": [
    "from langgraph.prebuilt import ToolNode, tools_condition\n",
    "\n",
    "# 도구 리스트 생성\n",
    "tools = [search_news, python_code_interpreter]\n",
    "\n",
    "# ToolNode 초기화\n",
    "tool_node = ToolNode(tools=tools)"
   ]
  },
  {
   "cell_type": "markdown",
   "metadata": {},
   "source": [
    "##### 3. ToolNode 사용\n",
    "\n",
    "수동으로 호출합니다."
   ]
  },
  {
   "cell_type": "code",
   "execution_count": 7,
   "metadata": {},
   "outputs": [
    {
     "data": {
      "text/plain": [
       "{'messages': [ToolMessage(content='[{\"url\": \"https://news.google.com/rss/articles/CBMiakFVX3lxTE1IRWtJT3VTVmZ5WkNaWGh6bnRnTmQxT1ZzdHVaM0RaZW5peFJrSEU0cnVOaGt2c3Z3cXZYLXNSYlNFZXVPc1Fpdkh4MG5KaGd6eHI3RnhkbnNYRjFOSzE2VkFvV1Y2UU9tR3c?oc=5\", \"content\": \"오픈AI \\\\\"AI 에이전트 별도 출시 없이 \\'챗GPT\\'에 추가\\\\\" - AI타임스\"}, {\"url\": \"https://news.google.com/rss/articles/CBMiWkFVX3lxTE03cFVWLXl3SDJ2cHlmazdoNUF5RWVNQVV0dkxJWW9FUEZmY1Q4YlJOUVlyRnNCUE5SbzY4dzZpaFcxR1QzUndKS2tiMlVYcnJuSEtrXzFpc2E2Z9IBVEFVX3lxTFB3LXpCOVR5bmdla25CM3dFM0lDdVVkOW1LSlFiREJUOFAwanNjMVlqZVhjM3prRGJIWWNjQUtELS1VYTUtUTFYTlhYQXh1T25KSWNwZg?oc=5\", \"content\": \"\\'챗GPT\\' 수능 국어 풀었더니…1년 만에 \\'대반전\\' 일어났다 - 한국경제\"}, {\"url\": \"https://news.google.com/rss/articles/CBMiTEFVX3lxTE9VN2tWdUpLNHFCYjZtQmtPdXdzMktPWUdCYk1va09DTTQxMjJMTG1xTVNmZ0VHelhrSmJ6VUFGVGxnemVwVS1hd1JXNzY?oc=5\", \"content\": \"챗GPT 맘껏 사용하려면 월28만원…오픈AI, 수익화 시동 [AI브리핑] - 아이뉴스24\"}, {\"url\": \"https://news.google.com/rss/articles/CBMiTkFVX3lxTE9UR0h6ekhRRXFVM0prZENEQWJudHk1cDNpTFRULWFCNHE5emdKV181MFhsMlJwQ2g2U3pQX0puTWVpaE5BdzcwbkZHQ0xnQQ?oc=5\", \"content\": \"2024 대한민국 교육혁신 박람회에서 AI 디지털교과서 체험하는 참관객 - 전자신문\"}, {\"url\": \"https://news.google.com/rss/articles/CBMiWkFVX3lxTFBURmh5eDk2ZUZ4dGFXc3AzemJTd3VoUXlYZmcwbnVtWnNQSUZkaGxHQ0FuRjNKeTFYbkZNUnpVWWpWZjh2TUR3bEN6ME9iTk5RZTFPSThwYjktUdIBXEFVX3lxTE1BVFNzUDJpd3pZN3NSTnZad05nSW9hc2xDNXQ2RWU4TEp4UXg0Z1NlNWpLSDdKOWNyWnUxZFBEeGtfSkFtY25rTTI3NGxQQTRVVmY2Q0VDWnRUTlJM?oc=5\", \"content\": \"‘교육혁신 박람회’ AI 교과서, 인터넷 끊기면 수업도 멈춰 - 경향신문\"}]', name='search_news', tool_call_id='tool_call_id')]}"
      ]
     },
     "execution_count": 7,
     "metadata": {},
     "output_type": "execute_result"
    }
   ],
   "source": [
    "message_with_single_tool_call = AIMessage(\n",
    "    content=\"\",\n",
    "    tool_calls=[\n",
    "        {\n",
    "            \"name\": \"search_news\",  # 도구 이름, 수동으로 지정\n",
    "            \"args\": {\"query\": \"AI\"},  # 도구 매개변수\n",
    "            \"id\": \"tool_call_id\",  # 도구 호출 ID\n",
    "            \"type\": \"tool_call\",  # 도구 호출 유형\n",
    "        }\n",
    "    ],\n",
    ")\n",
    "\n",
    "# 도구 노드를 통한 메시지 처리 및 날씨 정보 요청 실행\n",
    "tool_node.invoke({\"messages\": [message_with_single_tool_call]})"
   ]
  },
  {
   "cell_type": "markdown",
   "metadata": {},
   "source": [
    "두개 이상의 도구호출을 병렬적으로 호출합니다."
   ]
  },
  {
   "cell_type": "code",
   "execution_count": 10,
   "metadata": {},
   "outputs": [
    {
     "data": {
      "text/plain": [
       "{'messages': [ToolMessage(content='[{\"url\": \"https://news.google.com/rss/articles/CBMiakFVX3lxTE1IRWtJT3VTVmZ5WkNaWGh6bnRnTmQxT1ZzdHVaM0RaZW5peFJrSEU0cnVOaGt2c3Z3cXZYLXNSYlNFZXVPc1Fpdkh4MG5KaGd6eHI3RnhkbnNYRjFOSzE2VkFvV1Y2UU9tR3c?oc=5\", \"content\": \"오픈AI \\\\\"AI 에이전트 별도 출시 없이 \\'챗GPT\\'에 추가\\\\\" - AI타임스\"}, {\"url\": \"https://news.google.com/rss/articles/CBMiWkFVX3lxTE03cFVWLXl3SDJ2cHlmazdoNUF5RWVNQVV0dkxJWW9FUEZmY1Q4YlJOUVlyRnNCUE5SbzY4dzZpaFcxR1QzUndKS2tiMlVYcnJuSEtrXzFpc2E2Z9IBVEFVX3lxTFB3LXpCOVR5bmdla25CM3dFM0lDdVVkOW1LSlFiREJUOFAwanNjMVlqZVhjM3prRGJIWWNjQUtELS1VYTUtUTFYTlhYQXh1T25KSWNwZg?oc=5\", \"content\": \"\\'챗GPT\\' 수능 국어 풀었더니…1년 만에 \\'대반전\\' 일어났다 - 한국경제\"}, {\"url\": \"https://news.google.com/rss/articles/CBMiTEFVX3lxTE9VN2tWdUpLNHFCYjZtQmtPdXdzMktPWUdCYk1va09DTTQxMjJMTG1xTVNmZ0VHelhrSmJ6VUFGVGxnemVwVS1hd1JXNzY?oc=5\", \"content\": \"챗GPT 맘껏 사용하려면 월28만원…오픈AI, 수익화 시동 [AI브리핑] - 아이뉴스24\"}, {\"url\": \"https://news.google.com/rss/articles/CBMiTkFVX3lxTE9UR0h6ekhRRXFVM0prZENEQWJudHk1cDNpTFRULWFCNHE5emdKV181MFhsMlJwQ2g2U3pQX0puTWVpaE5BdzcwbkZHQ0xnQQ?oc=5\", \"content\": \"2024 대한민국 교육혁신 박람회에서 AI 디지털교과서 체험하는 참관객 - 전자신문\"}, {\"url\": \"https://news.google.com/rss/articles/CBMiWkFVX3lxTFBURmh5eDk2ZUZ4dGFXc3AzemJTd3VoUXlYZmcwbnVtWnNQSUZkaGxHQ0FuRjNKeTFYbkZNUnpVWWpWZjh2TUR3bEN6ME9iTk5RZTFPSThwYjktUdIBXEFVX3lxTE1BVFNzUDJpd3pZN3NSTnZad05nSW9hc2xDNXQ2RWU4TEp4UXg0Z1NlNWpLSDdKOWNyWnUxZFBEeGtfSkFtY25rTTI3NGxQQTRVVmY2Q0VDWnRUTlJM?oc=5\", \"content\": \"‘교육혁신 박람회’ AI 교과서, 인터넷 끊기면 수업도 멈춰 - 경향신문\"}]', name='search_news', tool_call_id='tool_call_id'),\n",
       "  ToolMessage(content='Hello, World!\\n', name='python_code_interpreter', tool_call_id='tool_call_id')]}"
      ]
     },
     "execution_count": 10,
     "metadata": {},
     "output_type": "execute_result"
    }
   ],
   "source": [
    "message_with_multiple_tool_call = AIMessage(\n",
    "    content=\"\",\n",
    "    tool_calls=[\n",
    "        {\n",
    "            \"name\": \"search_news\",\n",
    "            \"args\": {\"query\": \"AI\"},\n",
    "            \"id\": \"tool_call_id\",\n",
    "            \"type\": \"tool_call\",\n",
    "        },\n",
    "        {\n",
    "            \"name\": \"python_code_interpreter\",\n",
    "            \"args\": {\"code\": \"print('Hello, World!')\"},\n",
    "            \"id\": \"tool_call_id\",\n",
    "            \"type\": \"tool_call\",\n",
    "        },\n",
    "    ],\n",
    ")\n",
    "\n",
    "# 도구 노드를 통한 메시지 처리 및 날씨 정보 요청 실행\n",
    "tool_node.invoke({\"messages\": [message_with_multiple_tool_call]})"
   ]
  },
  {
   "cell_type": "markdown",
   "metadata": {},
   "source": [
    "##### 4. LLM과 함께 사용하기\n",
    "\n",
    "도구 호출 기능이 있는 채팅 모델을 사용하기 위해서는 먼저 모델이 사용 가능한 도구들을 인식하도록 해야합니다.  \n",
    "  \n",
    "`ChatOpenAI` 모델에서 `.bind_tools()` 메서드를 호출하여 수행합니다."
   ]
  },
  {
   "cell_type": "code",
   "execution_count": 12,
   "metadata": {},
   "outputs": [
    {
     "data": {
      "text/plain": [
       "[{'name': 'python_code_interpreter',\n",
       "  'args': {'code': 'def first_five_primes():\\n    primes = []\\n    num = 2  # Starting from the first prime number\\n    while len(primes) < 5:\\n        is_prime = True\\n        for i in range(2, int(num**0.5) + 1):\\n            if num % i == 0:\\n                is_prime = False\\n                break\\n        if is_prime:\\n            primes.append(num)\\n        num += 1\\n    return primes\\n\\nfirst_five_primes()'},\n",
       "  'id': 'call_vUpDtAFYiIrUgUZRdvfLS5P6',\n",
       "  'type': 'tool_call'}]"
      ]
     },
     "execution_count": 12,
     "metadata": {},
     "output_type": "execute_result"
    }
   ],
   "source": [
    "from langchain_openai import ChatOpenAI\n",
    "\n",
    "# llm 초기화 및 도구 바인딩\n",
    "model_with_tools = ChatOpenAI(model_name=\"gpt-4o-mini\", temperature=0).bind_tools(tools)\n",
    "\n",
    "# 도구 호출 확인, 어떤 판단을 내리는지 확인\n",
    "model_with_tools.invoke(\n",
    "    \"처음 다섯개의 소수를 출력하는 Python code 를 작성해줘\"\n",
    ").tool_calls"
   ]
  },
  {
   "cell_type": "markdown",
   "metadata": {},
   "source": [
    "이렇게 자동으로 작성된 내용은 위의 message_with_single_tool_call 과 같은 역할을 합니다. "
   ]
  },
  {
   "cell_type": "code",
   "execution_count": 13,
   "metadata": {},
   "outputs": [
    {
     "data": {
      "text/plain": [
       "{'messages': [ToolMessage(content='[2, 3, 5, 7, 11]', name='python_code_interpreter', tool_call_id='call_bMVZrk1lVliZvuS6UFvTdVR8')]}"
      ]
     },
     "execution_count": 13,
     "metadata": {},
     "output_type": "execute_result"
    }
   ],
   "source": [
    "# 도구 노드를 통한 메시지 처리 및 LLM 모델의 도구 기반 응답 생성\n",
    "tool_node.invoke(\n",
    "    {\n",
    "        \"messages\": [\n",
    "            model_with_tools.invoke(\n",
    "                \"처음 다섯개의 소수를 출력하는 Python code 를 작성해줘\"\n",
    "            )\n",
    "        ]\n",
    "    }\n",
    ")"
   ]
  },
  {
   "cell_type": "markdown",
   "metadata": {},
   "source": [
    "##### 5. Agent와 함께 사용하기\n",
    "\n",
    "LangGraph 내에서 `ToolNode` 를 사용하는 방법입니다."
   ]
  },
  {
   "cell_type": "code",
   "execution_count": 14,
   "metadata": {},
   "outputs": [],
   "source": [
    "# LangGraph 워크플로우 상태 및 메시지 처리를 위한 타입 임포트\n",
    "from langgraph.graph import StateGraph, MessagesState, START, END\n",
    "\n",
    "\n",
    "# LLM 모델을 사용하여 메시지 처리 및 응답 생성, 도구 호출이 포함된 응답 반환\n",
    "def call_model(state: MessagesState):\n",
    "    messages = state[\"messages\"]\n",
    "    response = model_with_tools.invoke(messages)\n",
    "    return {\"messages\": [response]}\n",
    "\n",
    "\n",
    "# 메시지 상태 기반 워크플로우 그래프 초기화\n",
    "workflow = StateGraph(MessagesState)\n",
    "\n",
    "# 에이전트와 도구 노드 정의 및 워크플로우 그래프에 추가\n",
    "workflow.add_node(\"agent\", call_model)\n",
    "workflow.add_node(\"tools\", tool_node)\n",
    "\n",
    "# 워크플로우 시작점에서 에이전트 노드로 연결\n",
    "workflow.add_edge(START, \"agent\")\n",
    "\n",
    "# 에이전트 노드에서 조건부 분기 설정, 도구 노드 또는 종료 지점으로 연결\n",
    "workflow.add_conditional_edges(\"agent\", tools_condition)\n",
    "\n",
    "# 도구 노드에서 에이전트 노드로 순환 연결\n",
    "workflow.add_edge(\"tools\", \"agent\")\n",
    "\n",
    "# 에이전트 노드에서 종료 지점으로 연결\n",
    "workflow.add_edge(\"agent\", END)\n",
    "\n",
    "\n",
    "# 정의된 워크플로우 그래프 컴파일 및 실행 가능한 애플리케이션 생성\n",
    "app = workflow.compile()"
   ]
  },
  {
   "cell_type": "code",
   "execution_count": 16,
   "metadata": {},
   "outputs": [
    {
     "data": {
      "image/png": "[encoded data removed]",
      "text/plain": [
       "<IPython.core.display.Image object>"
      ]
     },
     "metadata": {},
     "output_type": "display_data"
    }
   ],
   "source": [
    "from graphs import visualize_graph\n",
    "\n",
    "visualize_graph(app)"
   ]
  },
  {
   "cell_type": "markdown",
   "metadata": {},
   "source": [
    "##### 6. 실행결과를 확인합니다."
   ]
  },
  {
   "cell_type": "code",
   "execution_count": 17,
   "metadata": {},
   "outputs": [
    {
     "name": "stdout",
     "output_type": "stream",
     "text": [
      "================================\u001b[1m Human Message \u001b[0m=================================\n",
      "\n",
      "처음 5개의 소수를 출력하는 python code 를 작성해줘\n",
      "==================================\u001b[1m Ai Message \u001b[0m==================================\n",
      "Tool Calls:\n",
      "  python_code_interpreter (call_FM7PB9FR9jIUFRSPVXiEZsp6)\n",
      " Call ID: call_FM7PB9FR9jIUFRSPVXiEZsp6\n",
      "  Args:\n",
      "    code: def first_n_primes(n):\n",
      "    primes = []\n",
      "    num = 2  # Starting from the first prime number\n",
      "    while len(primes) < n:\n",
      "        is_prime = True\n",
      "        for i in range(2, int(num**0.5) + 1):\n",
      "            if num % i == 0:\n",
      "                is_prime = False\n",
      "                break\n",
      "        if is_prime:\n",
      "            primes.append(num)\n",
      "        num += 1\n",
      "    return primes\n",
      "\n",
      "# Get the first 5 prime numbers\n",
      "first_n_primes(5)\n",
      "=================================\u001b[1m Tool Message \u001b[0m=================================\n",
      "Name: python_code_interpreter\n",
      "\n",
      "[2, 3, 5, 7, 11]\n",
      "==================================\u001b[1m Ai Message \u001b[0m==================================\n",
      "\n",
      "처음 5개의 소수는 다음과 같습니다: [2, 3, 5, 7, 11]\n"
     ]
    }
   ],
   "source": [
    "# 실행 및 결과 확인\n",
    "for chunk in app.stream(\n",
    "    {\"messages\": [(\"human\", \"처음 5개의 소수를 출력하는 python code 를 작성해줘\")]},\n",
    "    stream_mode=\"values\",\n",
    "):\n",
    "    # 마지막 메시지 출력\n",
    "    chunk[\"messages\"][-1].pretty_print()"
   ]
  },
  {
   "cell_type": "code",
   "execution_count": 18,
   "metadata": {},
   "outputs": [
    {
     "name": "stdout",
     "output_type": "stream",
     "text": [
      "================================\u001b[1m Human Message \u001b[0m=================================\n",
      "\n",
      "search google news about AI\n",
      "==================================\u001b[1m Ai Message \u001b[0m==================================\n",
      "Tool Calls:\n",
      "  search_news (call_NEWV5sZIKWw1wEe9LcJCzqu2)\n",
      " Call ID: call_NEWV5sZIKWw1wEe9LcJCzqu2\n",
      "  Args:\n",
      "    query: AI\n",
      "=================================\u001b[1m Tool Message \u001b[0m=================================\n",
      "Name: search_news\n",
      "\n",
      "[{\"url\": \"https://news.google.com/rss/articles/CBMiakFVX3lxTE1IRWtJT3VTVmZ5WkNaWGh6bnRnTmQxT1ZzdHVaM0RaZW5peFJrSEU0cnVOaGt2c3Z3cXZYLXNSYlNFZXVPc1Fpdkh4MG5KaGd6eHI3RnhkbnNYRjFOSzE2VkFvV1Y2UU9tR3c?oc=5\", \"content\": \"오픈AI \\\"AI 에이전트 별도 출시 없이 '챗GPT'에 추가\\\" - AI타임스\"}, {\"url\": \"https://news.google.com/rss/articles/CBMiWkFVX3lxTE03cFVWLXl3SDJ2cHlmazdoNUF5RWVNQVV0dkxJWW9FUEZmY1Q4YlJOUVlyRnNCUE5SbzY4dzZpaFcxR1QzUndKS2tiMlVYcnJuSEtrXzFpc2E2Z9IBVEFVX3lxTFB3LXpCOVR5bmdla25CM3dFM0lDdVVkOW1LSlFiREJUOFAwanNjMVlqZVhjM3prRGJIWWNjQUtELS1VYTUtUTFYTlhYQXh1T25KSWNwZg?oc=5\", \"content\": \"'챗GPT' 수능 국어 풀었더니…1년 만에 '대반전' 일어났다 - 한국경제\"}, {\"url\": \"https://news.google.com/rss/articles/CBMiVEFVX3lxTE5FZmxjdlF0UFV2ZEpKSmh1YXYwcXp2dnNXbXZYaTRsWHZWcGZjdUttZVdiUFpMSFBZcHYzTmI4ZVFEVTMwMGhkVVhiSGhBWkN1RDBnRg?oc=5\", \"content\": \"에이닷, 챗GPT o1 추가...월 200달러 AI 서비스 '무료' - 이투데이\"}, {\"url\": \"https://news.google.com/rss/articles/CBMiTkFVX3lxTFB2M2FkUmdtcTJ3aHBaMXhBTXp2UTY2d09JT09EdWxLZWJFejFNb3VMQUF1UW9aRkctbDFfLUVlNGFKWm9PS3lSNG1zVVJSZw?oc=5\", \"content\": \"AI 디지털교과서로 수업해보니…“교사·학생 맞춤형 수업 구성 강점” - 전자신문\"}, {\"url\": \"https://news.google.com/rss/articles/CBMiWkFVX3lxTE4wUWhVRHA5bGgxMkdTUWZpSnBTVzZHSmwwWnY0Y2tLR2xXeGZ6Q0JIV1I4SU81MVlqMjRoMm5LNk5iRHJsVW9FcnFISzRmYlV2d3ZvWUtZVmQwZ9IBVEFVX3lxTFBHaEVPZ01wR1Z1dmE4bHl5UEl1TlNOcFpSWVVCTU5saTlqN29PSW9La2ZQeFZnbU04T2NaZGRkdjRzTnJsX1JWMmJ2eGxmbElJaUgxaQ?oc=5\", \"content\": \"'AI 3.1시대' 10대 유망산업은 전력반도체·융합형 자율주행차 - 한국경제\"}]\n",
      "==================================\u001b[1m Ai Message \u001b[0m==================================\n",
      "\n",
      "Here are some recent news articles about AI:\n",
      "\n",
      "1. **오픈AI \"AI 에이전트 별도 출시 없이 '챗GPT'에 추가\"** - [AI타임스](https://news.google.com/rss/articles/CBMiakFVX3lxTE1IRWtJT3VTVmZ5WkNaWGh6bnRnTmQxT1ZzdHVaM0RaZW5peFJrSEU0cnVOaGt2c3Z3cXZYLXNSYlNFZXVPc1Fpdkh4MG5KaGd6eHI3RnhkbnNYRjFOSzE2VkFvV1Y2UU9tR3c?oc=5)\n",
      "\n",
      "2. **'챗GPT' 수능 국어 풀었더니…1년 만에 '대반전' 일어났다** - [한국경제](https://news.google.com/rss/articles/CBMiWkFVX3lxTE03cFVWLXl3SDJ2cHlmazdoNUF5RWVNQVV0dkxJWW9FUEZmY1Q4YlJOUVlyRnNCUE5SbzY4dzZpaFcxR1QzUndKS2tiMlVYcnJuSEtrXzFpc2E2Z9IBVEFVX3lxTFB3LXpCOVR5bmdla25CM3dFM0lDdVVkOW1LSlFiREJUOFAwanNjMVlqZVhjM3prRGJIWWNjQUtELS1VYTUtUTFYTlhYQXh1T25KSWNwZg?oc=5)\n",
      "\n",
      "3. **에이닷, 챗GPT o1 추가...월 200달러 AI 서비스 '무료'** - [이투데이](https://news.google.com/rss/articles/CBMiVEFVX3lxTE5FZmxjdlF0UFV2ZEpKSmh1YXYwcXp2dnNXbXZYaTRsWHZWcGZjdUttZVdiUFpMSFBZcHYzTmI4ZVFEVTMwMGhkVVhiSGhBWkN1RDBnRg?oc=5)\n",
      "\n",
      "4. **AI 디지털교과서로 수업해보니…“교사·학생 맞춤형 수업 구성 강점”** - [전자신문](https://news.google.com/rss/articles/CBMiTkFVX3lxTFB2M2FkUmdtcTJ3aHBaMXhBTXp2UTY2d09JT09EdWxLZWJFejFNb3VMQUF1UW9aRkctbDFfLUVlNGFKWm9PS3lSNG1zVVJSZw?oc=5)\n",
      "\n",
      "5. **'AI 3.1시대' 10대 유망산업은 전력반도체·융합형 자율주행차** - [한국경제](https://news.google.com/rss/articles/CBMiWkFVX3lxTE4wUWhVRHA5bGgxMkdTUWZpSnBTVzZHSmwwWnY0Y2tLR2xXeGZ6Q0JIV1I4SU81MVlqMjRoMm5LNk5iRHJsVW9FcnFISzRmYlV2d3ZvWUtZVmQwZ9IBVEFVX3lxTFBHaEVPZ01wR1Z1dmE4bHl5UEl1TlNOcFpSWVVCTU5saTlqN29PSW9La2ZQeFZnbU04T2NaZGRkdjRzTnJsX1JWMmJ2eGxmbElJaUgxaQ?oc=5)\n",
      "\n",
      "Feel free to click on the links to read more about each article!\n"
     ]
    }
   ],
   "source": [
    "# 검색 질문 수행\n",
    "for chunk in app.stream(\n",
    "    {\"messages\": [(\"human\", \"search google news about AI\")]},\n",
    "    stream_mode=\"values\",\n",
    "):\n",
    "    chunk[\"messages\"][-1].pretty_print()"
   ]
  },
  {
   "cell_type": "code",
   "execution_count": 19,
   "metadata": {},
   "outputs": [
    {
     "name": "stdout",
     "output_type": "stream",
     "text": [
      "================================\u001b[1m Human Message \u001b[0m=================================\n",
      "\n",
      "안녕? 반가워\n",
      "==================================\u001b[1m Ai Message \u001b[0m==================================\n",
      "\n",
      "안녕하세요! 반가워요. 어떻게 도와드릴까요?\n"
     ]
    }
   ],
   "source": [
    "# 도구 호출이 필요 없는 질문 수행\n",
    "for chunk in app.stream(\n",
    "    {\"messages\": [(\"human\", \"안녕? 반가워\")]},\n",
    "    stream_mode=\"values\",\n",
    "):\n",
    "    chunk[\"messages\"][-1].pretty_print()"
   ]
  }
 ],
 "metadata": {
  "kernelspec": {
   "display_name": "langchain-note-2024-PFhCXHTX-py3.12",
   "language": "python",
   "name": "python3"
  },
  "language_info": {
   "codemirror_mode": {
    "name": "ipython",
    "version": 3
   },
   "file_extension": ".py",
   "mimetype": "text/x-python",
   "name": "python",
   "nbconvert_exporter": "python",
   "pygments_lexer": "ipython3",
   "version": "3.12.7"
  }
 },
 "nbformat": 4,
 "nbformat_minor": 2
}
