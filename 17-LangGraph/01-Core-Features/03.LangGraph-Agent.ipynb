{
 "cells": [
  {
   "cell_type": "code",
   "execution_count": 2,
   "metadata": {},
   "outputs": [
    {
     "data": {
      "text/plain": [
       "True"
      ]
     },
     "execution_count": 2,
     "metadata": {},
     "output_type": "execute_result"
    }
   ],
   "source": [
    "from dotenv import load_dotenv\n",
    "import sys\n",
    "\n",
    "sys.path.append(\"../../common\")\n",
    "load_dotenv()"
   ]
  },
  {
   "cell_type": "code",
   "execution_count": 3,
   "metadata": {},
   "outputs": [
    {
     "name": "stdout",
     "output_type": "stream",
     "text": [
      "Langsmith 추적이 활성화되었습니다. [프로젝트명: 17.LangGraph]\n"
     ]
    }
   ],
   "source": [
    "import os\n",
    "from langsmith_tracker import set_tracking\n",
    "from langchain_print import stream_response\n",
    "from multimodal import MultiModal\n",
    "from tools_news import GoogleNews\n",
    "\n",
    "# 인스턴스를 생성할 때 필요한 매개변수를 전달합니다.\n",
    "set_tracking(project_name=\"17.LangGraph\")"
   ]
  },
  {
   "cell_type": "markdown",
   "metadata": {},
   "source": [
    "### LangGraph 활용 Agent 구축\n",
    "\n",
    "도구를 통해 챗봇에 웹검색을 수행하는 Agent를 구축해봅니다. function_calling 형태로 도구를 호출합니다.  \n",
    "\n",
    "LangGraph와 Agent 를 함께 사용하면 Agent의 자유분방합을 제어하고 Controlvility를 높일 수 있습니다.  \n",
    "  \n",
    "LLM에 도구를 바인딩하여 입력된 요청에 따라 필요시 도구를 후출하는 Agent를 구축합니다.  \n",
    "  \n",
    "조건부 엣지를 통해 도구 호출 여부에 따라 다른 노드로 라우팅하는 방법입니다.\n",
    "\n",
    "\n",
    "#### 도구(Tools) 사용하기\n",
    "\n",
    "웹검색 도구를 예시로 구성합니다.  \n",
    "  \n",
    "웹검색 도구를 생성하기 위해 Tavily api 를 활용합니다. \n"
   ]
  },
  {
   "cell_type": "code",
   "execution_count": 4,
   "metadata": {},
   "outputs": [
    {
     "name": "stdout",
     "output_type": "stream",
     "text": [
      "[{'title': '비트코인 Etf 초라한 성적표…현물보다 손실폭 더 커 | 한국경제', 'url': 'https://www.hankyung.com/article/2022101214601', 'content': \"비트코인 ETF '초라한 성적표'…현물보다 손실폭 더 커, 프로셰어스 전략ETF 70% 폭락 같은 기간 비트코인보다 더 하락 CME 선물가 추종, 실가격과 차이\", 'score': 0.9976495, 'raw_content': '검색\\n\\n\\n                                금융\\n                            \\n\\n\\n\\n\\t\\t\\t\\t\\t\\t비트코인 ETF \\'초라한 성적표\\'…현물보다 손실폭 더 커\\n                        \\n\\n\\n\\n                                                암호화폐 투자 뉴스레터 \\'코알라\\' 무료구독하세요\\n                                            \\n\\n\\n\\n                                                트론, 도미니카 연방과 협력…\"국가 블록체인 인프라 개발\"\\n                                            \\n\\n\\n\\n                                                삼성화재 자녀보험 신상품 \\'마이 슈퍼스타\\' 호평\\n                                            \\n\\n\\n\"가뜩이나 힘든데\" 자영업자 패닉…\\'대형 폭탄\\' 또 터졌다\\n\\n\\nJYP 걸그룹 美 멤버 탈퇴 선언…\"극단 선택 시도하게 하는 K팝\"\\n\\n\\n\"9조짜리 수출계약 날아갈 판\"…비상계엄 유탄 맞은 \\'K-방산\\'\\n\\n\\n\\'오빠 기다릴게요\\'…쉴 새 없이 울리는 휴대폰에 \\'공포\\'\\n\\n\\n\\'코스피 구출 작전\\'…연기금이 쓸어 담은 종목 봤더니\\n\\n\\n                        로그인이 필요한 서비스 입니다.\\n                        로그인 하시겠습니까?\\n                    \\n\\n\\n\\n                        스크랩한 기사를 삭제 하시겠습니까?\\n                    \\nCopyright 1999-2024. 한경닷컴 All rights reserved.\\n'}, {'title': '비트코인 ETF — 한 페이지에 있는 모든 BTC ETF — TradingView', 'url': 'https://kr.tradingview.com/markets/etfs/funds-bitcoin/', 'content': '비트코인 ETF — 한 페이지에 있는 모든 BTC ETF — TradingView 최대가장 높은 AUM 성장률최고 수익률하락률 상위Equity비트코인이더리움금채권부동산전체 시장상품자산 배분인버스레버리지 활용가장 많이 거래된가장 많은 유입유출 규모가 가장 큰 ETFNAV 최고 할인NAV에 대한 최고 프리미엄최고 배당배당금월간 배포최고의 다각화적극적 관리섹터가장 높은 베타가장 낮은 베타네거티브 베타가장 높은 비용 비율전체기간 고가전체기간 저가52주 고가52주 저가미국 ETF캐나다 ETF영국 ETF독일 ETF일본 ETF호주 ETF스크리너에서 더 많은 리스트 만들기 최대가장 높은 AUM 성장률최고 수익률하락률 상위Equity비트코인이더리움금채권부동산전체 시장상품자산 배분인버스레버리지 활용가장 많이 거래된가장 많은 유입유출 규모가 가장 큰 ETFNAV 최고 할인NAV에 대한 최고 프리미엄최고 배당배당금월간 배포최고의 다각화적극적 관리섹터가장 높은 베타가장 낮은 베타네거티브 베타가장 높은 비용 비율전체기간 고가전체기간 저가52주 고가52주 저가미국 ETF캐나다 ETF영국 ETF독일 ETF일본 ETF호주 ETF | BITBBitwise Bitcoin ETF 사용자가 공유한 커스텀 스크립트 및 아이디어. ETF 스크리너', 'score': 0.97671366, 'raw_content': '비트코인 ETF — 한 페이지에 있는 모든 BTC ETF — TradingView\\n\\n찾기\\n\\n프로덕트\\n커뮤니티\\n마켓\\n뉴스\\n브로커\\n더보기\\n\\nKO \\nCyber Monday 세일최대 70% 싸게\\n\\n마켓\\n/ETF 마켓\\n/펀드\\n/비트코인\\n\\nETF 마켓\\n펀드\\n\\n최대가장 높은 AUM 성장률최고 수익률하락률 상위Equity비트코인이더리움금채권부동산전체 시장상품자산 배분인버스레버리지 활용가장 많이 거래된가장 많은 유입유출 규모가 가장 큰 ETFNAV 최고 할인NAV에 대한 최고 프리미엄최고 배당배당금월간 배포최고의 다각화적극적 관리섹터가장 높은 베타가장 낮은 베타네거티브 베타가장 높은 비용 비율전체기간 고가전체기간 저가52주 고가52주 저가미국 ETF캐나다 ETF영국 ETF독일 ETF일본 ETF호주 ETF스크리너에서 더 많은 리스트 만들기\\n최대가장 높은 AUM 성장률최고 수익률하락률 상위Equity비트코인이더리움금채권부동산전체 시장상품자산 배분인버스레버리지 활용가장 많이 거래된가장 많은 유입유출 규모가 가장 큰 ETFNAV 최고 할인NAV에 대한 최고 프리미엄최고 배당배당금월간 배포최고의 다각화적극적 관리섹터가장 높은 베타가장 낮은 베타네거티브 베타가장 높은 비용 비율전체기간 고가전체기간 저가52주 고가52주 저가미국 ETF캐나다 ETF영국 ETF독일 ETF일본 ETF호주 ETF\\n스크리너에서 더 많은 리스트 만들기\\n비트코인에 투자하는 ETF\\n이러한 펀드는 많은 투자자에게 비싼 암호화폐 시장에서 가장 큰 자산에 투자하는 데 도움이 됩니다. 운용자산(AUM)별로 소팅하고 기타 유용한 통계를 제공하는 아래의 비트코인 ETF를 참조하세요.\\n오버뷰오버뷰성과성과시간외시간외자금 흐름자금 흐름배당배당NAV 실적NAV 실적홀딩스홀딩스리스크리스크테크니컬즈테크니컬즈더보기더보기\\n| \\n심볼\\n| \\nAUM\\n| \\n가격\\n| \\n변화 %\\n| \\n볼륨 * 프라이스\\n| \\n상대적 거래량\\n| \\n지출 비율\\n| \\n자산 클래스\\n| \\n포커스\\n|\\n| --- | --- | --- | --- | --- | --- | --- | --- | --- |\\n| IBITiShares Bitcoin Trust\\n| 48.03\\u202fB USD | 54.48 USD | −1.32% | 2.87\\u202fB USD | 0.81 | 0.12% | 통화 | 비트코인 매수, USD 매도 |\\n| GBTCGrayscale Bitcoin Trust (BTC)\\n| 20.83\\u202fB USD | 76.03 USD | −1.38% | 232.06\\u202fM USD | 0.63 | 1.50% | 통화 | 비트코인 매수, USD 매도 |\\n| FBTCFidelity Wise Origin Bitcoin Fund\\n| 19.07\\u202fB USD | 83.70 USD | −1.43% | 376.17\\u202fM USD | 0.64 | 0.00% | 통화 | 비트코인 매수, USD 매도 |\\n| ARKBARK 21Shares Bitcoin ETF\\n| 4.76\\u202fB USD | 95.64 USD | −1.37% | 169.55\\u202fM USD | 0.93 | 0.21% | 통화 | 비트코인 매수, USD 매도 |\\n| BITBBitwise Bitcoin ETF\\n| 4\\u202fB USD | 52.15 USD | −1.47% | 101.85\\u202fM USD | 0.72 | 0.00% | 통화 | 비트코인 매수, USD 매도 |\\n| HODLVanEck Bitcoin Trust\\n| 1.29\\u202fB USD | 108.32 USD | −1.33% | 27.8\\u202fM USD | 0.95 | 0.00% | 통화 | 비트코인 매수, USD 매도 |\\n| BRRRCoinshares Valkyrie Bitcoin Fund\\n| 901.16\\u202fM USD | 27.09 USD | −1.42% | 8.78\\u202fM USD | 1.37 | 0.00% | 통화 | 비트코인 매수, USD 매도 |\\n| BTCOInvesco Galaxy Bitcoin ETF\\n| 855.71\\u202fM USD | 95.65 USD | −1.40% | 34.16\\u202fM USD | 1.68 | 0.00% | 통화 | 비트코인 매수, USD 매도 |\\n| EZBCFranklin Templeton Digital Holdings Trust Shares of Franklin Bitcoin ETF\\n| 727.83\\u202fM USD | 55.55 USD | −1.37% | 18.41\\u202fM USD | 1.48 | 0.29% | 통화 | 비트코인 매수, USD 매도 |\\n| BTCWWisdomTree Bitcoin Fund\\n| 365.15\\u202fM USD | 101.57 USD | −1.42% | 14.76\\u202fM USD | 1.69 | 0.00% | 통화 | 비트코인 매수, USD 매도 |\\n| DEFITidal Commodities Trust I Hashdex Bitcoin ETF\\n| 14.31\\u202fM USD | 108.85 USD | −1.76% | 205.73\\u202fK USD | 0.58 | 0.94% | 통화 | 비트코인 매수, USD 매도 |\\n모든 곳에서 사랑받는 #TradingView\\n90M+\\n매달 우리를 찾아 오시는 트레이더 및 인베스터분들.\\n1\\n세계 최고의 웹사이트 .\\n1.5M+\\n4.9 평균 평점이 있는 모바일 리뷰. 이보다 더 사랑받는 핀테크 앱은 없습니다.\\n10M+\\n사용자가 공유한 커스텀 스크립트 및 아이디어.\\n @jrod4x @mariodelpo @retirewithforex @rajpalgore @michaelbamber @ale.brovelli @miahouse9 @twobrokeboystrading @santiagomartinez.tk @hiramedina @bradfairbridge @johndollery @shirin_m_moghaddam @hellocolinmarshall @olka_gadzieva @ya_tu_sabes_1983 @javier.vasquezpalacios @Cenobar\\n어떤 거래든\\n이유는 다음과 같습니다이유는 다음과 같습니다\\n\\n\\n\\n\\n\\n\\n\\n\\n\\n\\n\\n\\n한국어\\n프로덕트\\n\\n슈퍼차트\\nPine Script™\\n스탁 스크리너\\nETF 스크리너\\n본드 스크리너\\n포렉스 스크리너\\n암호화폐 스크리너\\n암호화폐 페어 스크리너\\nDEX 페어 스크리너\\n스탁 히트맵\\nETF 히트맵\\n크립토 히트맵\\n경제 캘린더\\n실적 캘린더\\n스파크스\\n뉴스\\nTradingView Desktop\\n모바일 앱\\nCME 그룹 선물\\n유렉스 선물\\n미국 주식 번들\\n\\n회사\\n\\n정보\\n특징\\n프라이싱\\n소셜 네트웍\\n사랑의 벽\\n애쓸릿\\n선언문\\n커리어\\n블로그\\n보안 취약성\\n상태 페이지\\n사용조건\\n면책사항\\n개인정보처리방침\\n쿠키 정책\\n미디어 키트\\n접근성 정책\\n트레이더를 위한 타로 카드\\n\\n커뮤니티\\n\\n프렌드 리퍼하기\\n아이디어\\n스크립트\\n하우스룰(내부규정)\\n모더레이터\\nPine Script™ 위저드\\n채팅\\n\\n비지니스\\n\\n위젯\\n광고\\n차팅 라이브러리\\nLightweight Charts™\\n고급 차트\\n트레이딩 플랫폼\\n브로커 통합\\n파트너 프로그램\\n교육 프로그램\\n\\n  \\n  \\n엄선된 마켓 데이터 제공 ICE Data Services FactSet에서 제공한 참조 데이터를 선택하세요. 저작권 ©\\xa02024\\xa0FactSet\\xa0Research\\xa0Systems\\xa0Inc. © 2024 TradingView, Inc. US 폰 넘버 833 247 1523'}, {'title': '비트코인etf종류, 옵션 자산운용사별 특징부터 투자위험 : 네이버 블로그', 'url': 'https://m.blog.naver.com/cwcount/223687451544', 'content': '비트코인etf는 주식처럼 거래소에서 매매할 수 있으며, 비트코인의 가격 변동을 추적하는 상장지수펀드입니다. 2024년 1월 미국 sec의 현물 비트코인 etf 승인 이후, 이 투자 수단은 더욱 주목받고 있습니다.', 'score': 0.9180404, 'raw_content': \"\\n블로그\\n\\n\\n\\n\\n\\n카테고리 이동\\n\\n\\n\\n\\nBrian's 머니플로우\\n\\n\\n\\n\\n비트코인ETF종류, 옵션 자산운용사별 특징부터 투자위험\\n19시간 전\\n\\t\\n비트코인ETF종류, 옵션 자산운용사별 특징부터 투자위험\\n\\u200b\\n자금 관리를 효율적으로 하기 위해 암호화폐 투자 시작해도 괜찮을까? \\u200b\\n\\u200b\\n\\u200b\\n\\u200b\\n정보를 알아보는 사람들이 많습니다.\\n\\u200b\\n그중에도 비트코인ETF종류와 투자 정보에 대해 알아보도록 하겠습니다.\\n\\u200b\\n비트코인ETF종류, 옵션 자산운용사별 특징부터 투자위험\\n\\u200b\\n\\u200b\\n비트코인ETF의 이해\\n\\u200b\\n비트코인ETF는 주식처럼 거래소에서 매매할 수 있으며, \\n\\u200b\\n비트코인의 가격 변동을 추적하는 상장지수펀드입니다.\\n\\u200b\\n2024년 1월 미국 SEC의 현물 비트코인 ETF 승인 이후, 이 투자 수단은 더욱 주목받고 있습니다.\\n\\u200b\\n\\u200b\\n비트코인을 직접 소유하지 않아도 투자할 수 있는 금융 상품으로 투자 절차가 복잡하지 않아 \\n\\u200b\\n초보자가 시작하기에 적합하며, \\n\\u200b\\n제도권 내에서 거래되어 안정성이 높아 암호화폐 시장의 진입 장벽을 낮추었습니다.\\n\\u200b\\n\\u200b\\n비트코인ETF종류, 옵션 자산운용사별 특징부터 투자위험\\n\\u200b\\n\\u200b\\n비트코인ETF의 다양한 유형\\n\\u200b\\n비트코인ETF는 실물 기반, 선물 계약 기반, 혼합형, 지수연동 4가지로 나눠볼 수 있습니다.\\n\\u200b\\n실물 기반 ETF는 실제 비트코인을 보유하기에 가격 추적을 통해 비트코인의 움직임이 \\n\\u200b\\n그대로 반영되지만, 비트코인 보관 및 관리에 추가 비용이 발생할 수 있다는 것을 주의해야 합니다.\\n\\u200b\\n\\u200b\\n선물 계약 기반 ETF는 실제 비트코인을 소유하지 않아도 가격 변화에 따라 수익을 얻을 수 있으며 \\n\\u200b\\n분산투자가 가능하지만, 선물 시장의 특성상 현물 가격과의 괴리나 롤오버 비용 등 \\n\\u200b\\n복잡한 요소들을 고려해야 합니다.\\n\\u200b\\n\\u200b\\n혼합형 ETF는 실물과 선물 계약을 적절히 배합한 칵테일 같은 상품으로 분산 투자 효과를 누릴 수 \\n\\u200b\\n있지만, 각 요소의 특성을 정확히 이해해야 합니다\\n\\u200b\\n지수 연동 ETF는 비트코인 관련 지수를 추종하며, 시장의 다양한 측면을 반영하지만, \\n\\u200b\\n지수 구성 방식에 따라 변동성이 커질 수 있으니 신중한 접근이 필요합니다.\\n\\u200b\\n\\u200b\\n비트코인ETF종류, 옵션 자산운용사별 특징부터 투자위험\\n\\u200b\\n비트코인ETF종류와 장점 알아보기\\n\\u200b\\n대표적으로 글로벌 X 블록체인, 아크핀테크 이노베이션, \\n\\u200b\\n피델리티 어드밴티지 비트코인 등 다양한 종류가 있습니다.\\n\\u200b\\n일반 코인과 다르게 거래소를 통해 간단하게 매매할 수 있으며, \\n\\u200b\\n금융권의 규제를 받아 운영되기에 신뢰도가 높습니다.\\n\\u200b\\n\\u200b\\n또한, 다양한 자산군에 분산 투자를 할 수 있어 리스크 분산 및 변동성을 줄일 수 있습니다.\\n\\u200b\\n특히 혼합형, 지수 연동 유형은 개인의 투자 목적과 성향에 맞춰 전략을 구성할 수 있습니다.\\n\\u200b\\n다양한 장점이 많지만, 종류에 따라 특성이나 수익률이 모두 다르기에 투자 전략에 맞는 \\n\\u200b\\n신중한 결정이 중요합니다.\\n\\u200b\\n\\u200b\\n비트코인ETF종류, 옵션 자산운용사별 특징부터 투자위험\\n\\u200b\\n\\u200b\\n투자 위험과 전문가 자문의 중요성\\n\\u200b\\n비트코인ETF종류가 매우 다양한만큼 직접 구매하고 투자 관리하기 위해서는 시장의 흐름에 맞춰 \\n\\u200b\\n코인 가격 변동성을 예측하고, 적절한 시점에 매수, 매도를 진행해야 합니다.\\n\\u200b\\n투자 과정에 대한 전반적인 이해가 필수적이기에 상품의 특성을 파악하고 시장 상황을 고려한 \\n\\u200b\\n매매 전략이 중요합니다.\\n\\u200b\\n\\u200b\\n이럴 때는 다양한 투자 경험과 노하우를 보유한 전문 운용사를 통해 비트코인 투자에 많은 도움을 \\n\\u200b\\n받을 수 있습니다.\\n\\u200b\\n\\u200b\\n\\u200b\\n\\u200b\\n\\u200b\\n브라이언김 머니플로우와 함께하는 간단한 투자\\n\\u200b\\n\\u200b\\n브라이언김 머니플로우에서는 비트코인ETF종류에 대한 쉽게 얻기 힘든 정보와 함께 \\n\\u200b\\n시장 흐름 파악 후 그에 맞춰 포트폴리오 조정을 통해 투자 방향을 보다 쉽게 설정할 수 있습니다.\\n\\u200b\\n\\u200b\\n전통적인 투자 방식으로 암호화폐 시장에 참가할 수 있는 혁신적인 금융상품입니다. \\n\\u200b\\n다만, 투자에 앞서 충분한 학습과 시장 분석이 선행되어야 하며, 필요한 경우\\n 전문가의 조언을 구하는 것이 바람직합니다.\\n\\u200b\\n\\u200b\\n\\u200b\\n브라이언김 머니플로우 \\n브라이언김 머니플로우 홈페이지\\n브라이언김 머니플로우 페이스북 공식페이지 \\n빠른 대화연결 \\n\\u200b\\n\\u200b\\n\\u200b\\n-더 다양한 글을 보고 싶다면? \\n\\u200b\\n\\u200b\\n[필독] 본 자료는 7월 30일 녹화를 진행했던 내용을 정리하여 작성한 것입니다. 꼭 확인하시고 읽어주시길 ...\\nblog.naver.com\\n\\u200b\\n\\u200b\\n\\u200b\\n\\u200b\\n\\u200b\\n\\u200b\\n\\u200b\\n카테고리\\n\"}]\n"
     ]
    }
   ],
   "source": [
    "from tools_tavily import TavilySearch\n",
    "\n",
    "tool = TavilySearch(max_results=3)\n",
    "\n",
    "tools = [tool]\n",
    "\n",
    "print(tool.invoke(\"비트코인 ETF 성적\"))"
   ]
  },
  {
   "cell_type": "markdown",
   "metadata": {},
   "source": [
    "상태를 정의합니다.  \n",
    "LLM에 `bind_tools` 메서드를 통해 도구를 바인딩합니다."
   ]
  },
  {
   "cell_type": "code",
   "execution_count": 5,
   "metadata": {},
   "outputs": [],
   "source": [
    "from typing import Annotated\n",
    "from typing_extensions import TypedDict\n",
    "from langgraph.graph.message import add_messages\n",
    "\n",
    "\n",
    "# State 정의\n",
    "class State(TypedDict):\n",
    "    messages: Annotated[list, add_messages]"
   ]
  },
  {
   "cell_type": "code",
   "execution_count": 6,
   "metadata": {},
   "outputs": [],
   "source": [
    "from langchain_openai import ChatOpenAI\n",
    "\n",
    "# LLM 초기화\n",
    "llm = ChatOpenAI(model=\"gpt-4o-mini\", temperature=0)\n",
    "\n",
    "# LLM 에 도구 바인딩\n",
    "llm_with_tools = llm.bind_tools(tools)"
   ]
  },
  {
   "cell_type": "markdown",
   "metadata": {},
   "source": [
    "노드를 정의합니다."
   ]
  },
  {
   "cell_type": "code",
   "execution_count": 7,
   "metadata": {},
   "outputs": [],
   "source": [
    "# 노드 함수 정의\n",
    "def chatbot(state: State):\n",
    "    answer = llm_with_tools.invoke(state[\"messages\"])\n",
    "    # 메세지 목록 반환\n",
    "    return {\"messages\": [answer]}"
   ]
  },
  {
   "cell_type": "markdown",
   "metadata": {},
   "source": [
    "그래프 생성 및 노드를 추가합니다."
   ]
  },
  {
   "cell_type": "code",
   "execution_count": 8,
   "metadata": {},
   "outputs": [
    {
     "data": {
      "text/plain": [
       "<langgraph.graph.state.StateGraph at 0x12a8ce2a0>"
      ]
     },
     "execution_count": 8,
     "metadata": {},
     "output_type": "execute_result"
    }
   ],
   "source": [
    "from langgraph.graph import StateGraph\n",
    "\n",
    "# 상태 그래프 초기화\n",
    "graph_builder = StateGraph(State)\n",
    "\n",
    "# 노드 추가\n",
    "graph_builder.add_node(chatbot)"
   ]
  },
  {
   "cell_type": "markdown",
   "metadata": {},
   "source": [
    "#### 도구 노드(Tool Node)\n",
    "\n",
    "도구가 호출될 경우 실제로 실행할 수 있는 함수를 만들어야 합니다. 이를 위해 새로운 노드에 도구를 추가합니다.  \n",
    "  \n",
    "가장 최근의 메시지를 확인하고 메시지에 tool_calls가 포함되어 있으면 도구를 필요로 하는 질의라고 판단하여 도구를 사용할 수 있게 해야합니다.   \n",
    "  \n",
    "그렇기 때문에 도구를 호출하는 BasicToolNode를 구현합니다.  \n",
    "  \n",
    "지금은 직접 구현하지만, 나중에는 LangGraph의 pre-built 되어있는 [ToolNode](https://langchain-ai.github.io/langgraph/reference/prebuilt/#langgraph.prebuilt.tool_node.ToolNode) 로 대체할 수 있습니다.  "
   ]
  },
  {
   "cell_type": "code",
   "execution_count": 9,
   "metadata": {},
   "outputs": [
    {
     "data": {
      "text/plain": [
       "<langgraph.graph.state.StateGraph at 0x12a8ce2a0>"
      ]
     },
     "execution_count": 9,
     "metadata": {},
     "output_type": "execute_result"
    }
   ],
   "source": [
    "import json\n",
    "from langchain_core.messages import ToolMessage\n",
    "\n",
    "\n",
    "class BasicToolNode:\n",
    "    \"\"\"Run tools requested in the last AIMessage node\"\"\"\n",
    "\n",
    "    def __init__(self, tools: list) -> None:\n",
    "        # 도구 리스트\n",
    "        self.tools_list = {tool.name: tool for tool in tools}\n",
    "\n",
    "    def __call__(self, inputs: dict):\n",
    "        # 메시지가 존재할 경우 가장 최근 메시지 1개 추출\n",
    "        if messages := inputs.get(\"messages\", []):\n",
    "            message = messages[-1]\n",
    "        else:\n",
    "            raise ValueError(\"No message found in input\")\n",
    "\n",
    "        # 도구 호출 결과\n",
    "        outputs = []\n",
    "        for (\n",
    "            tool_call\n",
    "        ) in message.tool_calls:  # 도구가 필요한 메세지는 tool_calls 가 존재\n",
    "            # 가지고 있는 도구 중에서 도구 이름을 통해 도구 호출하고 도구의 args(검색쿼리)를 통해 검색 결과를 받음\n",
    "            tool_result = self.tools_list[tool_call[\"name\"]].invoke(tool_call[\"args\"])\n",
    "\n",
    "            # return messges는 ToolMessage 형태로 반환, 이 안에는 도구 호출 결과, 도구 이름, 콜 아이디가 포함되어 반환\n",
    "            outputs.append(\n",
    "                # 도구 호출 결과를 메시지로 저장\n",
    "                ToolMessage(\n",
    "                    content=json.dumps(\n",
    "                        tool_result, ensure_ascii=False\n",
    "                    ),  # 도구 호출 결과를 문자열로 변환\n",
    "                    name=tool_call[\"name\"],\n",
    "                    tool_call_id=tool_call[\"id\"],\n",
    "                )\n",
    "            )\n",
    "\n",
    "        return {\"messages\": outputs}\n",
    "\n",
    "\n",
    "# 도구 노드 생성\n",
    "tool_node = BasicToolNode(tools=[tool])\n",
    "\n",
    "# 그래프에 도구 노드 추가\n",
    "graph_builder.add_node(\"tools\", tool_node)"
   ]
  },
  {
   "cell_type": "markdown",
   "metadata": {},
   "source": [
    "#### 조건부 엣지(Conditional Edge)\n",
    "\n",
    "도구 노드가 추가되면 `conditional_edges`를 정의할 수 있습니다.  \n",
    "  \n",
    "Edges는 한 노드에서 다음 노드로 제어 흐름을 라우팅합니다. 분기할때 사용합니다.  \n",
    "  \n",
    "Conditional edges는 일반적으로 \"if\" 문을 포함하여 현재 그래프 상태에 따라 다른 노드로 라우팅합니다. 이러한 함수는 현재 그래프 state를 받아 다음에 호출할 Node 를 나타내는 문자열 또는 문자열 목록 을 반환합니다.  \n",
    "  \n",
    "아래에서는 route_tools라는 라우터 함수를 정의하여 챗봇의 출력에서 tool_calls를 확인합니다.  \n",
    "  \n",
    "이 함수를 add_conditional_edges를 호출하여 그래프에 제공하면, chatbot 노드가 완료될 때마다 이 함수를 확인하여 다음으로 어디로 갈지 결정합니다.  \n",
    "  \n",
    "조건은 도구 호출이 있으면 tools로, 없으면 END로 라우팅됩니다.  \n",
    "  \n",
    "**참고**\n",
    "- langgraph 에 pre-built 되어 있는 tools_condition 으로 대체할 수 있습니다.\n",
    "\n",
    "--- \n",
    "  \n",
    "`add_conditional_edges` 메서드는 시작 노드에서 여러 대상 노드로의 조건부 엣지를 추가합니다.  \n",
    "  \n",
    "**매개변수**  \n",
    "  \n",
    "- source (str): 시작 노드. 이 노드를 나갈 때 조건부 엣지가 실행됩니다.\n",
    "- path (Union[Callable, Runnable]): 다음 노드를 결정하는 호출 가능한 객체 또는 Runnable. path_map을 지정하지 않으면 하나 이상의 노드를 반환해야 합니다. END를 반환하면 그래프 실행이 중지됩니다.\n",
    "- path_map (Optional[Union[dict[Hashable, str], list[str]]]): 경로와 노드 이름 간의 매핑. 생략하면 path가 반환하는 값이 노드 이름이어야 합니다.\n",
    "- then (Optional[str]): path로 선택된 노드 실행 후 실행할 노드의 이름.\n",
    "  \n",
    "\n",
    "**반환값**\n",
    "\n",
    "- Self: 메서드 체이닝을 위해 자기 자신을 반환합니다.\n",
    "  \n",
    "**주요 기능**  \n",
    " \n",
    "- 조건부 엣지를 그래프에 추가합니다.\n",
    "- path_map을 딕셔너리로 변환합니다.\n",
    "- path 함수의 반환 타입을 분석하여 자동으로 path_map을 생성할 수 있습니다.\n",
    "- 조건부 분기를 그래프에 저장합니다.\n",
    "  \n",
    "**참고**  \n",
    "\n",
    "- 이미 컴파일된 그래프에 엣지를 추가하면 경고 메시지가 출력됩니다.\n",
    "- path 함수의 반환 값에 대한 타입 힌트가 없거나 path_map이 제공되지 않으면, 그래프 시각화 시 해당 엣지가 그래프의 모든 노드로 전환될 수 있다고 가정합니다.\n",
    "- 동일한 이름의 분기가 이미 존재하는 경우 ValueError가 발생합니다.\n"
   ]
  },
  {
   "cell_type": "code",
   "execution_count": 10,
   "metadata": {},
   "outputs": [],
   "source": [
    "from langgraph.graph import START, END\n",
    "\n",
    "\n",
    "def route_tools(\n",
    "    state: State,\n",
    "):\n",
    "    if messages := state.get(\"messages\", []):\n",
    "        # 가장 최근 AI 메시지 추출\n",
    "        ai_message = messages[-1]\n",
    "    else:\n",
    "        # 입력 상태에 메시지가 없는 경우 예외 발생\n",
    "        raise ValueError(f\"No messages found in input state to tool_edge: {state}\")\n",
    "\n",
    "    # AI 메시지에 도구 호출이 있는 경우 \"tools\" 반환\n",
    "    if hasattr(ai_message, \"tool_calls\") and len(ai_message.tool_calls) > 0:\n",
    "        # 도구 호출이 있는 경우 \"tools\" 반환\n",
    "        return \"tools\"\n",
    "    # 도구 호출이 없는 경우 \"END\" 반환\n",
    "    return END\n",
    "\n",
    "\n",
    "# `tools_condition` 함수는 챗봇이 도구 사용을 요청하면 \"tools\"를 반환하고, 직접 응답이 가능한 경우 \"END\"를 반환\n",
    "graph_builder.add_conditional_edges(\n",
    "    source=\"chatbot\",\n",
    "    path=route_tools,\n",
    "    # route_tools 의 반환값이 \"tools\" 인 경우 \"tools\" 노드로, 그렇지 않으면 END 노드로 라우팅\n",
    "    path_map={\"tools\": \"tools\", END: END},\n",
    ")\n",
    "\n",
    "# tools > chatbot\n",
    "graph_builder.add_edge(\"tools\", \"chatbot\")\n",
    "\n",
    "# START > chatbot\n",
    "graph_builder.add_edge(START, \"chatbot\")\n",
    "\n",
    "# 그래프 컴파일\n",
    "graph = graph_builder.compile()"
   ]
  },
  {
   "cell_type": "markdown",
   "metadata": {},
   "source": [
    "**조건부 엣지**가 단일 노드에서 시작해야 합니다.  \n",
    "  \n",
    "이는 그래프에 \"chatbot\" 노드가 실행될 때마다 도구를 호출하면 'tools'로 이동하고, 직접 응답하면 루프를 종료하라는 의미입니다.  \n",
    "  \n",
    "사전 구축된 tools_condition처럼, 함수는 도구 호출이 없을 경우 END 문자열을 반환(그래프 종료) 합니다. 그래프가 END로 전환되면 더 이상 완료할 작업이 없으며 실행을 중지합니다.  "
   ]
  },
  {
   "cell_type": "code",
   "execution_count": 12,
   "metadata": {},
   "outputs": [
    {
     "data": {
      "image/png": "[encoded data removed]",
      "text/plain": [
       "<IPython.core.display.Image object>"
      ]
     },
     "metadata": {},
     "output_type": "display_data"
    }
   ],
   "source": [
    "from graphs import visualize_graph\n",
    "\n",
    "# 그래프 시각화\n",
    "visualize_graph(graph)"
   ]
  },
  {
   "cell_type": "markdown",
   "metadata": {},
   "source": [
    "질의합니다."
   ]
  },
  {
   "cell_type": "code",
   "execution_count": 13,
   "metadata": {},
   "outputs": [
    {
     "name": "stdout",
     "output_type": "stream",
     "text": [
      "\n",
      "==============\n",
      "STEP: messages\n",
      "==============\n",
      "\n",
      "content='코인 종류에 대해 검색해 줘' additional_kwargs={} response_metadata={} id='064787cf-e8a8-45a3-9fe8-facb4c475f09'\n",
      "\n",
      "==============\n",
      "STEP: messages\n",
      "==============\n",
      "\n",
      "content='' additional_kwargs={'tool_calls': [{'id': 'call_vM57Ciin02R3NujxVmXJwaob', 'function': {'arguments': '{\"query\":\"코인 종류\"}', 'name': 'tavily_web_search'}, 'type': 'function'}], 'refusal': None} response_metadata={'token_usage': {'completion_tokens': 19, 'prompt_tokens': 100, 'total_tokens': 119, 'completion_tokens_details': {'accepted_prediction_tokens': 0, 'audio_tokens': 0, 'reasoning_tokens': 0, 'rejected_prediction_tokens': 0}, 'prompt_tokens_details': {'audio_tokens': 0, 'cached_tokens': 0}}, 'model_name': 'gpt-4o-mini-2024-07-18', 'system_fingerprint': 'fp_bba3c8e70b', 'finish_reason': 'tool_calls', 'logprobs': None} id='run-d00dcbd0-7cc7-4f5d-9324-bf7be97c8986-0' tool_calls=[{'name': 'tavily_web_search', 'args': {'query': '코인 종류'}, 'id': 'call_vM57Ciin02R3NujxVmXJwaob', 'type': 'tool_call'}] usage_metadata={'input_tokens': 100, 'output_tokens': 19, 'total_tokens': 119, 'input_token_details': {'audio': 0, 'cache_read': 0}, 'output_token_details': {'audio': 0, 'reasoning': 0}}\n",
      "\n",
      "==============\n",
      "STEP: messages\n",
      "==============\n",
      "\n",
      "content='[{\"title\": \"코인하는 방법과 코인 종류, 거래시간 알아보기 : 네이버 블로그\", \"url\": \"https://m.blog.naver.com/sainthera/223362818946\", \"content\": \"2. 대표적인 코인 종류. 코인 종류가 너무 많아 대표적인 코인인 비트코인(Bitcoin), 이더리움(Ethereum), 리플(Ripple), 요즘 떠오르는 AI테마 코인 등을 알아보고 그외 우리나라에서의 채굴률이 높다는 파이 코인에 대해 알아보겠습니다.\", \"score\": 0.99686414, \"raw_content\": \"\\\\n블로그\\\\n\\\\n\\\\n\\\\n\\\\n\\\\n카테고리 이동\\\\n\\\\n\\\\n\\\\n\\\\n머니로그\\\\n\\\\n\\\\n\\\\n\\\\n코인하는 방법과 코인 종류, 거래시간 알아보기\\\\n2024. 2. 23. 13:53\\\\n\\\\t\\\\n\\u200b\\\\n안녕하세요.\\\\n어제 보다는 한풀 꺾인 추위, 오늘은 따스한 햇볕이 쏟아지는 창가에서 커피 한 잔 놓고, Andre Gagnon 음악을 들으며 노트북을 열었습니다, 평안합니다. 여러분도 평안하신가요?^^\\\\n\\u200b\\\\n 오늘은 제가 잠시 재미삼아 해본 적도 있고, 여전히 매력적인 투자라고 생각되는 코인에 대해 공부해 보고자 합니다. 코인이 낯설게만 느껴지시는 분들을 위해 코인이 무엇인지 알아보고, 코인하는 방법과 종류에 관해서도  알아보죠.\\\\n\\u200b\\\\n\\u200b\\\\n목차\\\\n1, 코인이란 무엇인가?\\\\n2.코인의 종류\\\\n3.코인하는 방법\\\\n4.코인 거래시간\\\\n\\u200b\\\\n\\u200b\\\\n코인 코인 하던데 코인이 대체 뭔가요?\\\\n1. 코인이란 무엇인가?\\\\n\\u200b\\\\n\\'코인\\'이라는 용어는 일반적으로 디지털화폐 또는 가상화폐를 가리킵니다. \\\\n코인은 일반적으로 블록체인 기술을 기반으로 하며, 중앙기관이나 정부의 개입 없이 전자적으로 자산을 송금하고 저장하는 데 사용됩니다. 코인을 이야기할 때 \\'탈중앙화\\'라는 말을 많이 들어보셨을 겁니다. 기존의 화폐가 정부에 의해 조절되고 통제된다면 코인은 정부의 간섭 없이 유통될 수 있음을 의미하는 거죠. \\\\n 코인은 블록체인 네트워크에서 거래되며, 각각의 코인에는 고유한 기술과 용도가 있습니다. 따라서 코인의 종류와 사용 용도는 다양합니다. 최근에는 코인에 대한 인식도 좋아지고 있고, 점차 활용 범위가 확대되고 있습니다.\\\\n\\u200b\\\\n2. 대표적인 코인 종류\\\\n 코인 종류가 너무 많아 대표적인 코인인 비트코인(Bitcoin), 이더리움(Ethereum), 리플(Ripple),  요즘 떠오르는 AI테마 코인 등을 알아보고 그외 우리나라에서의 채굴률이 높다는 파이 코인에 대해 알아보겠습니다.  \\\\n\\u200b\\\\n1)비트코인\\\\n가장 유명하고 오래된 암호화폐(가상화폐) 중 하나인 비트코인(Bitcoin)은 2009년에 사토시 나카모토라(가명) 개인이 개발했습니다. 비트코인은 중앙은행이나 정부와 같은 중앙기관의 개입 없이 전 세계적으로 거래될 수 있는 디지털 화폐로 블록체인에 기록함으로써 중앙 관리자 없이 안전하고 투명한 거래가 가능합니다. 요즘엔 가상화폐의 상징적인 존재가 되어버렸죠. 코인 한 개 값이 칠천만원 이상이라니...최고가를 달리던 때에 비해 많이 하락한 가격이 저정도 입니다. 코인이 대중화되기 전에는 무상으로 나눠주기도 했다는데...확실히 선견지명이 있는 사람이 부의 추월차선에 오르는 건 당연한 현상 같습니다. \\\\n\\u200b\\\\n\\u200b\\\\n2)이더리움(Ethereum)\\\\n 2015년에 Vitalik Buterin을 중심으로 개발된 이더리움은 비트코인과 함께 가장 유명한 암호화폐 중 하나입니다. 하지만 이더리움은 단순한 디지털 화폐가 아니라, 분산 애플리케이션을 실행하기 위한 플랫폼으로서의 역할을 합니다. 블록체인에 기록되어 변경할 수 없고, 조건에 따라 자동으로 실행되는 계약 즉 스마트 컨트랙트로 유명합니다. \\\\n\\u200b\\\\n\\u200b\\\\n3)리플 (XRP)\\\\nRipple Labs가 개발한 디지털 화폐인 리플코인(XRP)은  전 세계 금융 거래를 보다 효율적으로 만들기 위한 목적으로 설계되었습니다. 리플 네트워크는 중앙화된 금융기관과 연결돼 있지만 블록체인기술을 사용하여 금융 기관 간의 국제 송금을 용이하게 하는 데 중점을 두고 있습니다. 기존의 국제 송금 방식은 비용이 많이 들고 시간이 오래 걸리는 반면, 리플은 거래를 실시간으로 처리할 수 있도록 설계되었으며, 또한 더 낮은 수수료를 제공한다는 측면에서 꽤 매력있는 코인이 아닐까 합니다. 이름도 예쁘죠?^^\\\\n4) AI테마코인\\\\n인공지능 기술을 중심으로 한 블록체인 기반의 가상화폐로 AI 만큼이나 요즘 핫한 코인이죠. \\\\n블록체인과 인공지능 기술의 융합을 통해 다양한 분야에서 더 안전하고 효율적인 시스템을 구축하고자 하는 여러 기술적인 혁신을 지원하고 촉진하기 위해 만들어진 가상화폐입니다. \\\\nSingularityNET (AGI)\\\\nFetch.AI (FET)\\\\nDeepBrain Chain (DBC)\\\\nMatrix AI Network (MAN)\\\\n\\u200b\\\\n5)파이 코인\\\\n아직 상장이 안 된 코인이지만 현금처럼 사용할 수 있는 매장이 점차 늘고있고,  우리나라의 채굴률이 높다는 점에서 흥미로운 코인이 아닌가 싶습니다. 상장되기만을 기다리는 분들 많으실 거라 예상합니다.\\\\n\\u200b\\\\n3. 코인하는 방법\\\\n우리나라 대표적인 거래소인 업비트, 빗썸, 코인원, 코빗 등에서 상장된 코인을 거래할 수 있습니다. 우리나라는 코인 거래에 대해 엄격한 편으로 거래소에서 정한 계좌 연동이나 실명 인증등의 여러 인증 단계를 거쳐야 하고, 거래소 마다 일일 거래액이 정해져있습니다. \\\\n업비트- 케이뱅크\\\\n빗썸- NH농협은행\\\\n코인원-NH농협은행\\\\n코빗-신한은행\\\\n\\u200b\\\\n\\u200b\\\\n4. 코인 거래시간\\\\n코인 거래는 24시간 가능합니다. 고객센터도 24시간 운영되고 있어 만약 문제가 생겼을 시 새벽1시에도 전화가 걸려오기도 합니다. \\\\n\\u200b\\\\n\\u200b\\\\n5.주목할 만한 소식(2024.02. 23일 기준)\\\\n더불어민주당은 21일 비트코인 등 가상자산의 상장지수펀드(ETF) 발행, 상장, 거래에 관한 총선 공약을\\\\n발표했다. 가상자산 매매수익에 관한 공제 한도를 현행 250만원에서 5,000만원까지 늘리고 손익익 통상 및 손실 이월 공제를 5년간 도입하기로 했다.\\\\nNEWSIS\\\\n\\u200b\\\\n\\u200b\\\\n오늘은 코인\\\\n이 무엇인지 알아보고, 코인하는 방법과 종류, 거래시간 등을 중심으로 코인의 기초를 알아보았습니다. \\\\n저도 머릿속 여기저기에 중구난방으로 흩어져있던 얕은 지식을 텍스트로 정리하다보니 뭔가 개념이 잡히는 것 같아 의미있는 시간이었습니다.\\\\n\\u200b\\\\n\\u200b\\\\n벌써 나무들은 푸릇푸릇한 기운이 올라오던데 곧 찾아올 봄과 함께 여러분 마음에도 평안과 희망이 드리우길 기원합니다. 오늘 남은 시간도 행복하게 보내세요^^\\\\n카테고리\\\\n\"}, {\"title\": \"가상화폐의 종류와 분류, 코인 총정리 : 네이버 블로그\", \"url\": \"https://m.blog.naver.com/factorymon/223501209138\", \"content\": \"가상화폐의 개념과 코인 종류. 가상화폐는 크게 코인과 토큰으로 나뉩니다. 코인은 자체 블록체인을 가지고 있으며, 비트코인과 이더리움이 대표적입니다. 반면 토큰은 기존 블록체인을 기반으로 발행되는 디지털 자산입니다. 예를 들어, 이더리움 블록체인\", \"score\": 0.99341017, \"raw_content\": \"\\\\n블로그\\\\n\\\\n\\\\n\\\\n\\\\n\\\\n카테고리 이동\\\\n\\\\n\\\\n\\\\n\\\\n스마트 챌린지 혁신적인 솔루션 탐구, 팩토리몬\\\\n\\\\n\\\\n\\\\n\\\\n가상화폐의 종류와 분류, 코인 총정리\\\\n2024. 7. 4. 15:26\\\\n\\\\t\\\\n   2009년 비트코인의 탄생으로 시작된 가상화폐 시장은 현재 1만 개 이상의 가상화폐가 존재하는 거대한 시장으로 성장했습니다. 이번 글에서는 다양한 가상화폐의 종류와 주요 프로젝트 그리고 그들 간의 차이점을 살펴보겠습니다.\\\\n가상화폐의 개념과 코인 종류\\\\n   가상화폐는 크게 코인과 토큰으로 나뉩니다. 코인은 자체 블록체인을 가지고 있으며, 비트코인과 이더리움이 대표적입니다. 반면 토큰은 기존 블록체인을 기반으로 발행되는 디지털 자산입니다. 예를 들어, 이더리움 블록체인 위에서 발행되는 ERC-20 토큰이 있습니다.\\\\n\\\\n\\\\n\\\\n\\\\n\\\\n\\\\n\\\\n\\\\n\\\\n\\\\n주요 가상화폐 프로젝트\\\\n• 비트코인 (BTC) : 최초의 가상화폐로, 디지털 금으로 불리며 가치 저장 수단으로 사용됩니다.\\\\n• 이더리움 (ETH) : 스마트 계약 기능을 제공하며, 분산 애플리케이션(DApp)의 기반이 됩니다.\\\\n• 라이트코인 (LTC) : 비트코인의 포크로, 더 빠른 거래 속도를 제공합니다.\\\\n• 리플 (XRP) : 국제 송금을 목표로 한 디지털 결제 프로토콜입니다.\\\\n• 폴카닷 (DOT) : 여러 블록체인을 연결하는 인터체인 프로토콜로, 상호운용성을 강조합니다.\\\\n\\\\n\\\\n\\\\n\\\\n\\\\n\\\\n\\\\n\\\\n\\\\n\\\\n알트코인과 그 역할\\\\n   알트코인은 비트코인을 제외한 모든 가상화폐를 의미하는데, 이들은 주로 비트코인의 한계를 극복하고 새로운 기능을 추가하기 위해 개발되었습니다. 예를 들어, 솔라나와 카르다노는 이더리움의 확장성 문제를 해결하기 위해 개발된 스마트 계약 플랫폼입니다.\\\\n\\\\n\\\\n\\\\n\\\\n\\\\n\\\\n\\\\n\\\\n\\\\n\\\\n가상화폐의 생태계와 혁신\\\\n   가상화폐 생태계는 빠르게 발전하며, 기존의 문제를 해결하고 새로운 기능을 도입하기 위한 다양한 프로젝트가 계속해서 등장하고 있습니다. 이러한 혁신은 주로 오픈 소스 코드의 공유를 통해 이루어지고 있으며, 많은 프로젝트가 오픈 소스 저장소를 통해 코드를 공개하며, 이를 통해 다른 개발자들이 프로젝트를 개선할 수 있습니다.\\\\n\\\\n\\\\n\\\\n\\\\n\\\\n\\\\n\\\\n\\\\n\\\\n\\\\n가상화폐의 기초 이해\\\\n   가상화폐를 이해하기 위해서는 몇 가지 기본 개념을 알아야 합니다.\\\\n\\u200b\\\\n• 블록체인 : 모든 거래 기록이 저장되는 분산 장부로, 탈중앙화된 네트워크에서 운영됩니다.\\\\n• 탈중앙화 : 중앙 권위 없이 네트워크 참여자들이 공동으로 운영하는 방식입니다.\\\\n• 스마트 계약 : 특정 조건이 충족되면 자동으로 실행되는 계약으로, 주로 이더리움에서 사용됩니다.\\\\n• DApp : 블록체인에서 실행되는 분산 애플리케이션으로, 중앙 서버 없이 운영됩니다.\\\\n\\\\n\\\\n\\\\n\\\\n\\\\n\\\\n\\\\n\\\\n\\\\n\\\\n가상화폐 투자 위험성\\\\n   가상화폐 투자는 높은 수익을 기대할 수 있는 반면, 그만큼 높은 위험성을 동반합니다. 가격 변동성이 매우 크기 때문에 단기간 내에 큰 손실을 볼 수 있고 규제의 불확실성도 투자 위험을 높입니다. 각국 정부의 정책 변화에 따라 가상화폐 시장이 급격히 변동할 수 있으며, 이는 투자자들에게 큰 영향을 미칩니다. 마지막으로, 보안 문제 역시 중요한 투자 위험 요소입니다. 해킹 및 사기 사건이 빈번하게 발생할 수 있으며, 이를 통해 큰 손실을 입을 수 있습니다.\\\\n\\\\n\\\\n\\\\n\\\\n\\\\n\\\\n\\\\n\\\\n\\\\n\\\\n가상화폐 투자 전망\\\\n   가상화폐 시장은 여전히 빠르게 성장하고 있으며, 앞으로도 많은 가능성을 가지고 있습니다. 블록체인 기술의 발전과 함께 새로운 애플리케이션과 플랫폼이 등장하면서 가상화폐의 활용 범위는 더욱 넓어질 것입니다. 예를 들어, 디파이(DeFi)와 NFT(Non-Fungible Token) 시장은 가상화폐의 새로운 응용 분야로 주목받고 있습니다. 하지만 이러한 성장과 발전에도 불구하고, 규제와 보안 문제는 여전히 중요한 과제로 남아 있습니다. 따라서 투자자들은 이러한 요인을 충분히 고려하여 신중하게 투자 결정을 내려야 합니다.\\\\n\\\\n\\\\n\\\\n\\\\n\\\\n\\\\n\\\\n\\\\n\\\\n\\\\n   가상화폐는 비트코인부터 시작하여 다양한 혁신과 발전을 이루어 왔습니다. 코인과 토큰의 개념, 주요 프로젝트들의 차별화된 기능, 그리고 블록체인 기술의 발전을 통해 가상화폐 시장은 계속해서 성장하고 있습니다. 앞으로도 많은 프로젝트들이 등장할 것이며, 이들 간의 경쟁과 협력을 통해 더 나은 기술과 생태계가 구축될 것입니다. 그러나 투자 시에는 높은 변동성과 규제의 불확실성, 보안 문제 등을 고려하여 신중하게 접근해야 합니다.\\\\n\\u200b\\\\n\\u200b\\\\n\\u200b\\\\n카테고리\\\\n\"}, {\"title\": \"알트코인 종류 25가지 총정리 - 정보택시\", \"url\": \"https://financialtaxi.kr/알트코인-종류-25가지-총정리/\", \"content\": \"알트코인 종류 1. 이더리움 (Ethereum) 알트코인 종류의 첫 번째는 이더리움입니다. 이더리움은 스마트 컨트랙트를 실행할 수 있는 플랫폼으로, 블록체인 기술의 발전에 큰 영향을 미친 암호화폐입니다. 이더리움은 개발자들이 탈중앙화된 애플리케이션(DApp)을\", \"score\": 0.98986953, \"raw_content\": null}]' name='tavily_web_search' id='0e707170-0b36-498f-8f0f-99cc54f08f64' tool_call_id='call_vM57Ciin02R3NujxVmXJwaob'\n",
      "\n",
      "==============\n",
      "STEP: messages\n",
      "==============\n",
      "\n",
      "content='코인 종류에 대한 정보는 다음과 같습니다:\\n\\n1. **비트코인 (Bitcoin)**: 가장 유명하고 오래된 암호화폐로, 2009년에 개발되었습니다. 중앙기관의 개입 없이 전 세계적으로 거래될 수 있는 디지털 화폐입니다.\\n\\n2. **이더리움 (Ethereum)**: 2015년에 개발된 이더리움은 단순한 디지털 화폐가 아니라, 분산 애플리케이션을 실행하기 위한 플랫폼으로서의 역할을 합니다. 스마트 계약 기능이 특징입니다.\\n\\n3. **리플 (Ripple)**: 국제 송금을 효율적으로 만들기 위해 설계된 디지털 화폐로, 금융 기관 간의 국제 송금을 용이하게 하는 데 중점을 두고 있습니다.\\n\\n4. **라이트코인 (Litecoin)**: 비트코인의 포크로, 더 빠른 거래 속도를 제공합니다.\\n\\n5. **폴카닷 (Polkadot)**: 여러 블록체인을 연결하는 인터체인 프로토콜로, 상호운용성을 강조합니다.\\n\\n6. **AI 테마 코인**: 인공지능 기술을 중심으로 한 블록체인 기반의 가상화폐로, 다양한 분야에서 혁신을 지원합니다.\\n\\n7. **파이 코인 (Pi Network)**: 아직 상장되지 않았지만, 현금처럼 사용할 수 있는 매장이 늘어나고 있는 코인입니다.\\n\\n이 외에도 많은 알트코인들이 존재하며, 각 코인은 고유한 기술과 용도를 가지고 있습니다. 더 자세한 정보는 [여기](https://m.blog.naver.com/sainthera/223362818946)와 [여기](https://m.blog.naver.com/factorymon/223501209138)에서 확인할 수 있습니다.' additional_kwargs={'refusal': None} response_metadata={'token_usage': {'completion_tokens': 378, 'prompt_tokens': 3523, 'total_tokens': 3901, 'completion_tokens_details': {'accepted_prediction_tokens': 0, 'audio_tokens': 0, 'reasoning_tokens': 0, 'rejected_prediction_tokens': 0}, 'prompt_tokens_details': {'audio_tokens': 0, 'cached_tokens': 0}}, 'model_name': 'gpt-4o-mini-2024-07-18', 'system_fingerprint': 'fp_bba3c8e70b', 'finish_reason': 'stop', 'logprobs': None} id='run-dedf8e9c-6300-402a-8fde-cd44c52dbea8-0' usage_metadata={'input_tokens': 3523, 'output_tokens': 378, 'total_tokens': 3901, 'input_token_details': {'audio': 0, 'cache_read': 0}, 'output_token_details': {'audio': 0, 'reasoning': 0}}\n"
     ]
    }
   ],
   "source": [
    "inputs = {\"messages\": \"코인 종류에 대해 검색해 줘\"}\n",
    "\n",
    "for event in graph.stream(inputs, stream_mode=\"values\"):\n",
    "    for key, value in event.items():\n",
    "        print(f\"\\n==============\\nSTEP: {key}\\n==============\\n\")\n",
    "        # display_message_tree(value[\"messages\"][-1])\n",
    "        print(value[-1])"
   ]
  },
  {
   "cell_type": "markdown",
   "metadata": {},
   "source": [
    "![image.png](./image/langgraph-toolcalling-flow.png)"
   ]
  }
 ],
 "metadata": {
  "kernelspec": {
   "display_name": "langchain-note-2024-PFhCXHTX-py3.12",
   "language": "python",
   "name": "python3"
  },
  "language_info": {
   "codemirror_mode": {
    "name": "ipython",
    "version": 3
   },
   "file_extension": ".py",
   "mimetype": "text/x-python",
   "name": "python",
   "nbconvert_exporter": "python",
   "pygments_lexer": "ipython3",
   "version": "3.12.7"
  }
 },
 "nbformat": 4,
 "nbformat_minor": 2
}
