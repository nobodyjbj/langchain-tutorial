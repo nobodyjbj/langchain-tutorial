{
 "cells": [
  {
   "cell_type": "code",
   "execution_count": 1,
   "metadata": {},
   "outputs": [
    {
     "data": {
      "text/plain": [
       "True"
      ]
     },
     "execution_count": 1,
     "metadata": {},
     "output_type": "execute_result"
    }
   ],
   "source": [
    "from dotenv import load_dotenv\n",
    "import sys\n",
    "\n",
    "sys.path.append(\"../../common\")\n",
    "load_dotenv()"
   ]
  },
  {
   "cell_type": "code",
   "execution_count": 2,
   "metadata": {},
   "outputs": [
    {
     "name": "stdout",
     "output_type": "stream",
     "text": [
      "Langsmith 추적이 활성화되었습니다. [프로젝트명: 17.LangGraph]\n"
     ]
    }
   ],
   "source": [
    "import os\n",
    "from langsmith_tracker import set_tracking\n",
    "\n",
    "# 인스턴스를 생성할 때 필요한 매개변수를 전달합니다.\n",
    "\n",
    "set_tracking(project_name=\"17.LangGraph\")"
   ]
  },
  {
   "cell_type": "markdown",
   "metadata": {},
   "source": [
    "### 스트리밍 모드\n",
    "\n",
    "`graph` 의 전체 상태를 스트리밍 하는 방법입니다.  \n",
    "  \n",
    "주요 모드는 다음과 같습니다:\n",
    "  \n",
    "- values: 이 스트리밍 모드는 그래프의 값들을 스트리밍합니다. 이는 각 노드가 호출된 후의 **그래프의 전체 상태를 의미**합니다.\n",
    "- updates: 이 스트리밍 모드는 그래프의 업데이트 내용을 스트리밍합니다. 이는 각 노드가 호출된 후의 **그래프 상태에 대한 업데이트를 의미**합니다.\n",
    "- messages: 이 스트리밍 모드는 각 노드의 메시지를 스트리밍합니다. **이때 LLM 의 토큰 단위의 출력 스트리밍 도 가능**합니다."
   ]
  },
  {
   "cell_type": "code",
   "execution_count": 9,
   "metadata": {},
   "outputs": [
    {
     "data": {
      "image/png": "[encoded data removed]",
      "text/plain": [
       "<IPython.core.display.Image object>"
      ]
     },
     "metadata": {},
     "output_type": "display_data"
    }
   ],
   "source": [
    "from typing import Annotated, List, Dict\n",
    "from typing_extensions import TypedDict\n",
    "\n",
    "from langchain_core.tools import tool\n",
    "from langchain_openai import ChatOpenAI\n",
    "from langgraph.checkpoint.memory import MemorySaver\n",
    "from langgraph.graph import StateGraph, START, END\n",
    "from langgraph.graph.message import add_messages\n",
    "from langgraph.prebuilt import ToolNode, tools_condition\n",
    "from graphs import visualize_graph\n",
    "from tools_news import GoogleNews\n",
    "\n",
    "\n",
    "##### 1. 상태(State) 정의\n",
    "class State(TypedDict):\n",
    "    messages: Annotated[list, add_messages]\n",
    "\n",
    "\n",
    "##### 2. 도구 정의 및 바인딩\n",
    "@tool\n",
    "def search_keyword(query: str) -> List[Dict[str, str]]:\n",
    "    \"\"\"Look up news by keyword\"\"\"\n",
    "    news_tool = GoogleNews()\n",
    "    return \"\\n\".join(\n",
    "        f'-{news[\"content\"]}' for news in news_tool.search_by_keyword(query, k=5)\n",
    "    )\n",
    "\n",
    "\n",
    "tools = [search_keyword]\n",
    "llm = ChatOpenAI(model=\"gpt-4o-mini\", temperature=0)\n",
    "llm_with_tools = llm.bind_tools(tools)\n",
    "\n",
    "\n",
    "##### 3. 노드 추가\n",
    "def chatbot(state: State):\n",
    "    return {\n",
    "        \"messages\": [llm_with_tools.invoke(state[\"messages\"])],\n",
    "    }\n",
    "\n",
    "\n",
    "graph_builder = StateGraph(State)\n",
    "graph_builder.add_node(\"chatbot\", chatbot)\n",
    "\n",
    "tool_node = ToolNode(tools=tools)\n",
    "graph_builder.add_node(\"tools\", tool_node)\n",
    "\n",
    "graph_builder.add_conditional_edges(\n",
    "    \"chatbot\",\n",
    "    tools_condition,\n",
    ")\n",
    "\n",
    "##### 4. 엣지 추가\n",
    "graph_builder.add_edge(START, \"chatbot\")\n",
    "graph_builder.add_edge(\"tools\", \"chatbot\")\n",
    "graph_builder.add_edge(\"chatbot\", END)\n",
    "\n",
    "##### 5. 그래프 컴파일\n",
    "graph = graph_builder.compile()\n",
    "\n",
    "##### 6. 그래프 시각화\n",
    "visualize_graph(graph)"
   ]
  },
  {
   "cell_type": "markdown",
   "metadata": {},
   "source": [
    "##### 1. `stream_mode = \"values\"`\n",
    "\n",
    "values 모드는 그래프의 전체 상태를 스트리밍합니다.\n",
    "\n",
    "**참고**   \n",
    "\n",
    "`chunk.items()`\n",
    "- key : state 의 key 값\n",
    "- value : State 의 Key 에 대한하는 value\n",
    "\n",
    "##### 동기(Synchronous) 방식의 스트리밍\n",
    "- `chunk` 는 dictionary 형태 (key: State 의 key, value: State 의 value)"
   ]
  },
  {
   "cell_type": "code",
   "execution_count": 10,
   "metadata": {},
   "outputs": [
    {
     "name": "stdout",
     "output_type": "stream",
     "text": [
      "================================\u001b[1m Human Message \u001b[0m=================================\n",
      "\n",
      "AI 관련된 최신 뉴스를 검색해줘\n",
      "==================================\u001b[1m Ai Message \u001b[0m==================================\n",
      "Tool Calls:\n",
      "  search_keyword (call_gaGskHQDjodl4WqRDpZDJnIK)\n",
      " Call ID: call_gaGskHQDjodl4WqRDpZDJnIK\n",
      "  Args:\n",
      "    query: AI\n",
      "=================================\u001b[1m Tool Message \u001b[0m=================================\n",
      "Name: search_keyword\n",
      "\n",
      "-AI에 돈 쓰느라 직원들 공짜 마사지·공짜 밥 중단 - 조선일보\n",
      "-'소라' 출시 후 달라진 분위기...\"동영상 AI는 위협적 존재 아니야\" - AI타임스\n",
      "-이창용 “AI 소프트웨어, 韓 서비스 수출의 새로운 성장 동력” - 이투데이\n",
      "-한은 총재 \"AI로 금융시장 리스크 감지하는 시스템 개발 중\" - 연합뉴스\n",
      "-한은 총재 “AI, 한국의 새로운 성장엔진 될 것” - 헤럴드경제\n",
      "==================================\u001b[1m Ai Message \u001b[0m==================================\n",
      "\n",
      "다음은 AI 관련 최신 뉴스입니다:\n",
      "\n",
      "1. **AI에 돈 쓰느라 직원들 공짜 마사지·공짜 밥 중단** - 조선일보\n",
      "2. **'소라' 출시 후 달라진 분위기...\"동영상 AI는 위협적 존재 아니야\"** - AI타임스\n",
      "3. **이창용 “AI 소프트웨어, 韓 서비스 수출의 새로운 성장 동력”** - 이투데이\n",
      "4. **한은 총재 \"AI로 금융시장 리스크 감지하는 시스템 개발 중\"** - 연합뉴스\n",
      "5. **한은 총재 “AI, 한국의 새로운 성장엔진 될 것”** - 헤럴드경제\n",
      "\n",
      "더 궁금한 내용이 있으면 말씀해 주세요!\n"
     ]
    }
   ],
   "source": [
    "# 질문 입력\n",
    "inputs = {\"messages\": [(\"human\", \"AI 관련된 최신 뉴스를 검색해줘\")]}\n",
    "\n",
    "# 동기 스트림 처리(stream_mode=\"values\")\n",
    "for chunk in graph.stream(inputs, stream_mode=\"values\"):\n",
    "\n",
    "    # chunk 는 dictionary 형태(key: State 의 key, value: State 의 value)\n",
    "    for state_key, state_value in chunk.items():\n",
    "        if state_key == \"messages\":\n",
    "            state_value[-1].pretty_print()"
   ]
  },
  {
   "cell_type": "markdown",
   "metadata": {},
   "source": [
    "##### 비동기(Asynchronous) 방식의 스트리밍\n",
    "\n",
    "**참고**   \n",
    "- `astream()`: 메서드는 비동기 스트림 처리를 통해 그래프를 실행하고 값 모드로 청크 단위 응답을 생성합니다.\n",
    "- `async for`: 문을 사용하여 비동기 스트림 처리를 수행합니다."
   ]
  },
  {
   "cell_type": "code",
   "execution_count": 11,
   "metadata": {},
   "outputs": [
    {
     "name": "stdout",
     "output_type": "stream",
     "text": [
      "================================\u001b[1m Human Message \u001b[0m=================================\n",
      "\n",
      "AI 관련된 최신 뉴스를 검색해줘\n",
      "==================================\u001b[1m Ai Message \u001b[0m==================================\n",
      "Tool Calls:\n",
      "  search_keyword (call_ctNqZZ90RxZei196KBltJDQB)\n",
      " Call ID: call_ctNqZZ90RxZei196KBltJDQB\n",
      "  Args:\n",
      "    query: AI\n",
      "=================================\u001b[1m Tool Message \u001b[0m=================================\n",
      "Name: search_keyword\n",
      "\n",
      "-AI에 돈 쓰느라 직원들 공짜 마사지·공짜 밥 중단 - 조선일보\n",
      "-'소라' 출시 후 달라진 분위기...\"동영상 AI는 위협적 존재 아니야\" - AI타임스\n",
      "-이창용 “AI 소프트웨어, 韓 서비스 수출의 새로운 성장 동력” - 이투데이\n",
      "-한은 총재 \"AI로 금융시장 리스크 감지하는 시스템 개발 중\" - 연합뉴스\n",
      "-한은 총재 “AI, 한국의 새로운 성장엔진 될 것” - 헤럴드경제\n",
      "==================================\u001b[1m Ai Message \u001b[0m==================================\n",
      "\n",
      "다음은 AI 관련 최신 뉴스입니다:\n",
      "\n",
      "1. **AI에 돈 쓰느라 직원들 공짜 마사지·공짜 밥 중단** - 조선일보\n",
      "2. **'소라' 출시 후 달라진 분위기...\"동영상 AI는 위협적 존재 아니야\"** - AI타임스\n",
      "3. **이창용 “AI 소프트웨어, 韓 서비스 수출의 새로운 성장 동력”** - 이투데이\n",
      "4. **한은 총재 \"AI로 금융시장 리스크 감지하는 시스템 개발 중\"** - 연합뉴스\n",
      "5. **한은 총재 “AI, 한국의 새로운 성장엔진 될 것”** - 헤럴드경제\n",
      "\n",
      "더 궁금한 내용이 있으면 말씀해 주세요!\n"
     ]
    }
   ],
   "source": [
    "# 질문 입력\n",
    "inputs = {\"messages\": [(\"human\", \"AI 관련된 최신 뉴스를 검색해줘\")]}\n",
    "\n",
    "# 비동기 스트림 처리(stream_mode=\"values\")\n",
    "async for chunk in graph.astream(inputs, stream_mode=\"values\"):\n",
    "    # chunk 는 dictionary 형태(key: State 의 key, value: State 의 value)\n",
    "    for state_key, state_value in chunk.items():\n",
    "        if state_key == \"messages\":\n",
    "            state_value[-1].pretty_print()"
   ]
  },
  {
   "cell_type": "markdown",
   "metadata": {},
   "source": [
    "아래는 최종 결과만 확인하고 싶은 경우에 대한 예시입니다."
   ]
  },
  {
   "cell_type": "code",
   "execution_count": 5,
   "metadata": {},
   "outputs": [
    {
     "name": "stdout",
     "output_type": "stream",
     "text": [
      "다음은 AI 관련 최신 뉴스입니다:\n",
      "\n",
      "1. **소라 출시 후 달라진 분위기**: \"동영상 AI는 위협적 존재 아니야\" - AI타임스\n",
      "2. **정부전용 AI 플랫폼 개발**: 새해 1분기 사업자 선정 - 전자신문\n",
      "3. **AI 영화에 대한 실망**: ‘나야 문희’와 ‘엠호텔’ - 조선일보\n",
      "4. **이창용 발언**: \"AI 소프트웨어, 韓 서비스 수출의 새로운 성장 동력\" - 이투데이\n",
      "5. **한은 총재 발언**: \"AI로 금융시장 리스크 감지하는 시스템 개발 중\" - 연합뉴스\n",
      "\n",
      "더 궁금한 내용이 있으면 말씀해 주세요!\n"
     ]
    }
   ],
   "source": [
    "# 질문 입력\n",
    "inputs = {\"messages\": [(\"human\", \"AI 관련된 최신 뉴스를 검색해줘\")]}\n",
    "\n",
    "final_result = None\n",
    "\n",
    "# 비동기 스트림 처리(stream_mode=\"values\")\n",
    "async for chunk in graph.astream(inputs, stream_mode=\"values\"):\n",
    "    final_result = chunk\n",
    "\n",
    "# 최종 결과 출력\n",
    "print(final_result[\"messages\"][-1].content)"
   ]
  },
  {
   "cell_type": "markdown",
   "metadata": {},
   "source": [
    "##### 2. `stream_mode = \"updates\"`\n",
    "\n",
    "updates 모드는 그래프의 업데이트 내용을 스트리밍합니다.\n",
    "\n",
    "**참고**   \n",
    "\n",
    "`chunk.items()`\n",
    "- key : 노드의 이름\n",
    "- value : 해당 노드 단계에서의 출력 값, 즉, 여러개의 key-value 쌍을 가진 dict 입니다.\n",
    "\n",
    "##### 동기(Synchronous) 방식의 스트리밍\n"
   ]
  },
  {
   "cell_type": "code",
   "execution_count": 12,
   "metadata": {},
   "outputs": [
    {
     "name": "stdout",
     "output_type": "stream",
     "text": [
      "\n",
      "[Node: chatbot]\n",
      "\n",
      "==================================\u001b[1m Ai Message \u001b[0m==================================\n",
      "Tool Calls:\n",
      "  search_keyword (call_EINWAaDWpWdLNTFvEMtBz5XB)\n",
      " Call ID: call_EINWAaDWpWdLNTFvEMtBz5XB\n",
      "  Args:\n",
      "    query: AI\n",
      "\n",
      "[Node: tools]\n",
      "\n",
      "=================================\u001b[1m Tool Message \u001b[0m=================================\n",
      "Name: search_keyword\n",
      "\n",
      "-AI에 돈 쓰느라 직원들 공짜 마사지·공짜 밥 중단 - 조선일보\n",
      "-'소라' 출시 후 달라진 분위기...\"동영상 AI는 위협적 존재 아니야\" - AI타임스\n",
      "-이창용 “AI 소프트웨어, 韓 서비스 수출의 새로운 성장 동력” - 이투데이\n",
      "-한은 총재 \"AI로 금융시장 리스크 감지하는 시스템 개발 중\" - 연합뉴스\n",
      "-한은 총재 “AI, 한국의 새로운 성장엔진 될 것” - 헤럴드경제\n",
      "\n",
      "[Node: chatbot]\n",
      "\n",
      "==================================\u001b[1m Ai Message \u001b[0m==================================\n",
      "\n",
      "다음은 AI 관련 최신 뉴스입니다:\n",
      "\n",
      "1. **AI에 돈 쓰느라 직원들 공짜 마사지·공짜 밥 중단** - 조선일보\n",
      "2. **'소라' 출시 후 달라진 분위기...\"동영상 AI는 위협적 존재 아니야\"** - AI타임스\n",
      "3. **이창용 “AI 소프트웨어, 韓 서비스 수출의 새로운 성장 동력”** - 이투데이\n",
      "4. **한은 총재 \"AI로 금융시장 리스크 감지하는 시스템 개발 중\"** - 연합뉴스\n",
      "5. **한은 총재 “AI, 한국의 새로운 성장엔진 될 것”** - 헤럴드경제\n",
      "\n",
      "더 궁금한 내용이 있으면 말씀해 주세요!\n"
     ]
    }
   ],
   "source": [
    "# 질문 입력\n",
    "inputs = {\"messages\": [(\"human\", \"AI 관련된 최신 뉴스를 검색해줘\")]}\n",
    "\n",
    "# 동기 스트림 처리(stream_mode=\"updates\")\n",
    "for chunk in graph.stream(inputs, stream_mode=\"updates\"):\n",
    "    # chunk 는 dictionary 형태(key: 노드, value: 노드의 상태 값)\n",
    "    for node, value in chunk.items():\n",
    "        if node:\n",
    "            print(f\"\\n[Node: {node}]\\n\")\n",
    "        if \"messages\" in value:\n",
    "            value[\"messages\"][-1].pretty_print()"
   ]
  },
  {
   "cell_type": "markdown",
   "metadata": {},
   "source": [
    "##### 비동기(Asynchronous) 방식의 스트리밍"
   ]
  },
  {
   "cell_type": "code",
   "execution_count": 13,
   "metadata": {},
   "outputs": [
    {
     "name": "stdout",
     "output_type": "stream",
     "text": [
      "-AI에 돈 쓰느라 직원들 공짜 마사지·공짜 밥 중단 - 조선일보\n",
      "-'소라' 출시 후 달라진 분위기...\"동영상 AI는 위협적 존재 아니야\" - AI타임스\n",
      "-이창용 “AI 소프트웨어, 韓 서비스 수출의 새로운 성장 동력” - 이투데이\n",
      "-한은 총재 \"AI로 금융시장 리스크 감지하는 시스템 개발 중\" - 연합뉴스\n",
      "-한은 총재 “AI, 한국의 새로운 성장엔진 될 것” - 헤럴드경제\n",
      "다음은 AI 관련 최신 뉴스입니다:\n",
      "\n",
      "1. **AI에 돈 쓰느라 직원들 공짜 마사지·공짜 밥 중단** - 조선일보\n",
      "2. **'소라' 출시 후 달라진 분위기...\"동영상 AI는 위협적 존재 아니야\"** - AI타임스\n",
      "3. **이창용 “AI 소프트웨어, 韓 서비스 수출의 새로운 성장 동력”** - 이투데이\n",
      "4. **한은 총재 \"AI로 금융시장 리스크 감지하는 시스템 개발 중\"** - 연합뉴스\n",
      "5. **한은 총재 “AI, 한국의 새로운 성장엔진 될 것”** - 헤럴드경제\n",
      "\n",
      "더 궁금한 내용이 있으면 말씀해 주세요!"
     ]
    }
   ],
   "source": [
    "# 질문 입력\n",
    "inputs = {\"messages\": [(\"human\", \"AI 관련된 최신 뉴스를 검색해줘\")]}\n",
    "\n",
    "# 비동기 스트림 처리(stream_mode=\"messages\")\n",
    "# chunk_msg: 실시간 출력 메시지, metadata: 노드 정보\n",
    "async for chunk_msg, metadata in graph.astream(inputs, stream_mode=\"messages\"):\n",
    "    # chatbot 노드에서 출력된 메시지만 출력\n",
    "    if metadata[\"langgraph_node\"] == \"chatbot\":\n",
    "        if chunk_msg.content:\n",
    "            print(chunk_msg.content, end=\"\", flush=True)\n",
    "    else:\n",
    "        print(chunk_msg.content)"
   ]
  },
  {
   "cell_type": "markdown",
   "metadata": {},
   "source": [
    "##### 3. `stream_mode = \"messages\"`\n",
    "\n",
    "messages 모드는 각 노드의 메시지를 스트리밍합니다.\n",
    "\n",
    "**참고**   \n",
    "- `chunk_msg`: 실시간 출력 메시지입니다.\n",
    "- `metadata`: 노드의 정보입니다.\n",
    "\n",
    "##### 동기(Synchronous) 방식의 스트리밍"
   ]
  },
  {
   "cell_type": "code",
   "execution_count": 14,
   "metadata": {},
   "outputs": [
    {
     "name": "stdout",
     "output_type": "stream",
     "text": [
      "-AI에 돈 쓰느라 직원들 공짜 마사지·공짜 밥 중단 - 조선일보\n",
      "-'소라' 출시 후 달라진 분위기...\"동영상 AI는 위협적 존재 아니야\" - AI타임스\n",
      "-한은 총재 \"AI로 금융시장 리스크 감지하는 시스템 개발 중\" - 연합뉴스\n",
      "-이창용 “AI 소프트웨어, 韓 서비스 수출의 새로운 성장 동력” - 이투데이\n",
      "-한은 총재 “AI, 한국의 새로운 성장엔진 될 것” - 헤럴드경제\n",
      "\n",
      "\n",
      "metadata: \n",
      "{'langgraph_step': 2, 'langgraph_node': 'tools', 'langgraph_triggers': ['branch:chatbot:tools_condition:tools'], 'langgraph_path': ('__pregel_pull', 'tools'), 'langgraph_checkpoint_ns': 'tools:b3990b2a-25e1-e314-ba36-f699fcb0eb71'}\n",
      "\n",
      "\n",
      "다음은 AI 관련 최신 뉴스입니다:\n",
      "\n",
      "1. **AI에 돈 쓰느라 직원들 공짜 마사지·공짜 밥 중단** - 조선일보\n",
      "2. **'소라' 출시 후 달라진 분위기...\"동영상 AI는 위협적 존재 아니야\"** - AI타임스\n",
      "3. **한은 총재 \"AI로 금융시장 리스크 감지하는 시스템 개발 중\"** - 연합뉴스\n",
      "4. **이창용 “AI 소프트웨어, 韓 서비스 수출의 새로운 성장 동력”** - 이투데이\n",
      "5. **한은 총재 “AI, 한국의 새로운 성장엔진 될 것”** - 헤럴드경제\n",
      "\n",
      "더 궁금한 내용이 있으면 말씀해 주세요!"
     ]
    }
   ],
   "source": [
    "# 질문 입력\n",
    "inputs = {\"messages\": [(\"human\", \"AI 관련된 최신 뉴스를 검색해줘\")]}\n",
    "\n",
    "# 동기 스트림 처리(stream_mode=\"messages\")\n",
    "# chunk_msg: 실시간 출력 메시지, metadata: 노드 정보\n",
    "for chunk_msg, metadata in graph.stream(inputs, stream_mode=\"messages\"):\n",
    "\n",
    "    # chatbot 노드에서 출력된 메시지만 출력\n",
    "    if metadata[\"langgraph_node\"] == \"chatbot\":\n",
    "        if chunk_msg.content:\n",
    "            print(chunk_msg.content, end=\"\", flush=True)\n",
    "\n",
    "    else:\n",
    "        print(chunk_msg.content)\n",
    "        print(f\"\\n\\nmetadata: \\n{metadata}\\n\\n\")"
   ]
  },
  {
   "cell_type": "markdown",
   "metadata": {},
   "source": [
    "##### 비동기(Asynchronous) 방식의 스트리밍"
   ]
  },
  {
   "cell_type": "code",
   "execution_count": 16,
   "metadata": {},
   "outputs": [
    {
     "name": "stdout",
     "output_type": "stream",
     "text": [
      "-AI에 돈 쓰느라 직원들 공짜 마사지·공짜 밥 중단 - 조선일보\n",
      "-'소라' 출시 후 달라진 분위기...\"동영상 AI는 위협적 존재 아니야\" - AI타임스\n",
      "-한은 총재 \"AI로 금융시장 리스크 감지하는 시스템 개발 중\" - 연합뉴스\n",
      "-이창용 “AI 소프트웨어, 韓 서비스 수출의 새로운 성장 동력” - 이투데이\n",
      "-한은 총재 “AI, 한국의 새로운 성장엔진 될 것” - 헤럴드경제\n",
      "다음은 AI 관련 최신 뉴스입니다:\n",
      "\n",
      "1. **AI에 돈 쓰느라 직원들 공짜 마사지·공짜 밥 중단** - 조선일보\n",
      "2. **'소라' 출시 후 달라진 분위기...\"동영상 AI는 위협적 존재 아니야\"** - AI타임스\n",
      "3. **한은 총재 \"AI로 금융시장 리스크 감지하는 시스템 개발 중\"** - 연합뉴스\n",
      "4. **이창용 “AI 소프트웨어, 韓 서비스 수출의 새로운 성장 동력”** - 이투데이\n",
      "5. **한은 총재 “AI, 한국의 새로운 성장엔진 될 것”** - 헤럴드경제\n",
      "\n",
      "더 궁금한 내용이 있으면 말씀해 주세요!"
     ]
    }
   ],
   "source": [
    "# 질문 입력\n",
    "inputs = {\"messages\": [(\"human\", \"AI 관련된 최신 뉴스를 검색해줘\")]}\n",
    "\n",
    "# 비동기 스트림 처리(stream_mode=\"messages\")\n",
    "# chunk_msg: 실시간 출력 메시지, metadata: 노드 정보\n",
    "async for chunk_msg, metadata in graph.astream(inputs, stream_mode=\"messages\"):\n",
    "    # chatbot 노드에서 출력된 메시지만 출력\n",
    "    if metadata[\"langgraph_node\"] == \"chatbot\":\n",
    "        if chunk_msg.content:\n",
    "            print(chunk_msg.content, end=\"\", flush=True)\n",
    "    else:\n",
    "        print(chunk_msg.content)"
   ]
  },
  {
   "cell_type": "markdown",
   "metadata": {},
   "source": [
    "##### 특정 노드에 대한 출력 스트리밍\n",
    "\n",
    "**참고**   \n",
    "- `metadata[\"langgraph_node\"]` 를 통해 특정 노드에서 출력된 메시지만 출력할 수 있습니다.\n"
   ]
  },
  {
   "cell_type": "code",
   "execution_count": 20,
   "metadata": {},
   "outputs": [
    {
     "data": {
      "image/png": "[encoded data removed]",
      "text/plain": [
       "<IPython.core.display.Image object>"
      ]
     },
     "metadata": {},
     "output_type": "display_data"
    }
   ],
   "source": [
    "# 1. 상태정의\n",
    "class State(TypedDict):\n",
    "    messages: Annotated[list, add_messages]\n",
    "\n",
    "\n",
    "# 2. 도구 노드 정의 및 바인딩\n",
    "@tool\n",
    "def search_keyword(query: str) -> List[Dict[str, str]]:\n",
    "    \"\"\"Look up news by keyword\"\"\"\n",
    "    news_tool = GoogleNews()\n",
    "    return \"\\n\".join(\n",
    "        f'-{news[\"content\"]}' for news in news_tool.search_by_keyword(query, k=5)\n",
    "    )\n",
    "\n",
    "\n",
    "# 도구 리스트 생성\n",
    "tools = [search_keyword]\n",
    "\n",
    "# llm 초기화\n",
    "llm = ChatOpenAI(model=\"gpt-4o-mini\", temperature=0)\n",
    "\n",
    "# 도구와 LLM 결합\n",
    "llm_with_tools = llm.bind_tools(tools).with_config(tags=[\"WANT_TO_STREAM\"])\n",
    "\n",
    "\n",
    "# 3. 노드 추가\n",
    "def chatbot(state: State):\n",
    "    return {\n",
    "        \"messages\": [llm_with_tools.invoke(state[\"messages\"])],\n",
    "    }\n",
    "\n",
    "\n",
    "# 상태 그래프 생성\n",
    "graph_builder = StateGraph(State)\n",
    "\n",
    "# 노드 추가\n",
    "graph_builder.add_node(\"chatbot\", chatbot)\n",
    "\n",
    "# 도구 노드 추가\n",
    "tool_node = ToolNode(tools=[search_keyword])\n",
    "graph_builder.add_node(\"tools\", tool_node)\n",
    "\n",
    "# 조건부 엣지 추가\n",
    "graph_builder.add_conditional_edges(\"chatbot\", tools_condition)\n",
    "\n",
    "# 5. 엣지 추가\n",
    "graph_builder.add_edge(START, \"chatbot\")\n",
    "graph_builder.add_edge(\"tools\", \"chatbot\")\n",
    "graph_builder.add_edge(\"chatbot\", END)\n",
    "\n",
    "# 그래프 컴파일\n",
    "graph = graph_builder.compile()\n",
    "\n",
    "# 그래프 시각화\n",
    "visualize_graph(graph, xray=True)"
   ]
  },
  {
   "cell_type": "markdown",
   "metadata": {},
   "source": [
    "특정 노드(Node) 에 대해서 출력하고 싶은 경우, `stream_mode=\"messages\"` 를 통해 설정할 수 있습니다.  \n",
    "  \n",
    "`stream_mode=\"messages\"` 설정시, (`chunk_msg`, `metadata`) 형태로 메시지를 받습니다.  \n",
    "  \n",
    "- `chunk_msg` 는 실시간 출력 메시지\n",
    "- `metadata` 는 노드 정보를 의미합니다.  \n",
    "\n",
    "\n",
    "`metadata[\"langgraph_node\"]` 를 통해 특정 노드에서 출력된 메시지만 출력할 수 있습니다.  \n",
    "  \n",
    "(예시) chatbot 노드에서 출력된 메시지만 출력하는 경우  \n",
    "  \n",
    "`metadata[\"langgraph_node\"] == \"chatbot\"`"
   ]
  },
  {
   "cell_type": "code",
   "execution_count": 21,
   "metadata": {},
   "outputs": [
    {
     "name": "stdout",
     "output_type": "stream",
     "text": [
      "다음은 AI 관련 최신 뉴스입니다:\n",
      "\n",
      "1. **AI에 돈 쓰느라 직원들 공짜 마사지·공짜 밥 중단** - 조선일보\n",
      "2. **'소라' 출시 후 달라진 분위기...\"동영상 AI는 위협적 존재 아니야\"** - AI타임스\n",
      "3. **한은 총재 \"AI로 금융시장 리스크 감지하는 시스템 개발 중\"** - 연합뉴스\n",
      "4. **이창용 “AI 소프트웨어, 韓 서비스 수출의 새로운 성장 동력”** - 이투데이\n",
      "5. **한은 총재 “AI, 한국의 새로운 성장엔진 될 것”** - 헤럴드경제\n",
      "\n",
      "더 궁금한 내용이 있으면 말씀해 주세요!"
     ]
    }
   ],
   "source": [
    "from langchain_core.messages import HumanMessage\n",
    "\n",
    "# 사용자의 메시지를 딕셔너리 형태로 입력 데이터 구성\n",
    "inputs = {\"messages\": [(\"human\", \"AI 관련된 최신 뉴스를 검색해줘\")]}\n",
    "\n",
    "# stream_mode=\"messages\" 를 통한 스트리밍 처리\n",
    "for chunk_msg, metadata in graph.stream(inputs, stream_mode=\"messages\"):\n",
    "    # HumanMessage 가 아닌 최종 노드의 유효한 컨텐츠만 출력 처리\n",
    "    if (\n",
    "        chunk_msg.content\n",
    "        and not isinstance(chunk_msg, HumanMessage)\n",
    "        and metadata[\"langgraph_node\"] == \"chatbot\"\n",
    "    ):\n",
    "        print(chunk_msg.content, end=\"\", flush=True)"
   ]
  },
  {
   "cell_type": "code",
   "execution_count": 22,
   "metadata": {},
   "outputs": [
    {
     "data": {
      "text/plain": [
       "{'langgraph_step': 3,\n",
       " 'langgraph_node': 'chatbot',\n",
       " 'langgraph_triggers': ['tools'],\n",
       " 'langgraph_path': ('__pregel_pull', 'chatbot'),\n",
       " 'langgraph_checkpoint_ns': 'chatbot:8265b7fc-fce1-9a71-8bde-233c4b8c2643',\n",
       " 'checkpoint_ns': 'chatbot:8265b7fc-fce1-9a71-8bde-233c4b8c2643',\n",
       " 'ls_provider': 'openai',\n",
       " 'ls_model_name': 'gpt-4o-mini',\n",
       " 'ls_model_type': 'chat',\n",
       " 'ls_temperature': 0.0}"
      ]
     },
     "execution_count": 22,
     "metadata": {},
     "output_type": "execute_result"
    }
   ],
   "source": [
    "metadata"
   ]
  },
  {
   "cell_type": "markdown",
   "metadata": {},
   "source": [
    "##### 사용자 정의 tag 필터링 된 스트리밍\n",
    "\n",
    "**tag 가 있는 llm 결과를 출력할 때는 `astream_events` 를 사용해야 합니다.**\n",
    "\n",
    "LLM 의 출력이 여러 군데에서 발생하는 경우, 특정 노드에서 출력된 메시지만 출력하고 싶은 경우가 있습니다.  \n",
    "  \n",
    "이러한 경우, `tags` 를 추가하여 출력하고 싶은 노드만 선별할 수 있습니다.  \n",
    "  \n",
    "llm 에 tags 를 추가하는 방법은 다음과 같습니다. tags 는 리스트 형태로 추가할 수 있습니다.  \n",
    "  \n",
    "`llm.with_config(tags=[\"WANT_TO_STREAM\"])  `\n",
    "  \n",
    "이를 통해 이벤트를 더 정확하게 필터링하여 해당 모델에서 발생한 이벤트만 유지할 수 있습니다.  \n",
    "  \n",
    "아래 예시는 `WANT_TO_STREAM` 태그가 있는 경우만 출력하는 예시입니다.  "
   ]
  },
  {
   "cell_type": "code",
   "execution_count": 23,
   "metadata": {},
   "outputs": [
    {
     "name": "stdout",
     "output_type": "stream",
     "text": [
      "다음은 AI 관련 최신 뉴스입니다:\n",
      "\n",
      "1. **AI에 돈 쓰느라 직원들 공짜 마사지·공짜 밥 중단** - 조선일보\n",
      "2. **'소라' 출시 후 달라진 분위기...\"동영상 AI는 위협적 존재 아니야\"** - AI타임스\n",
      "3. **한은 총재 \"AI로 금융시장 리스크 감지하는 시스템 개발 중\"** - 연합뉴스\n",
      "4. **기대 못 미친 AI폰… \"지금까지 나온 AI 기능, 별 도움 안돼\"** - ZD넷 코리아\n",
      "5. **정부전용 AI 플랫폼 개발…새해 1분기 사업자 선정** - 전자신문\n",
      "\n",
      "더 궁금한 내용이 있으면 말씀해 주세요!"
     ]
    }
   ],
   "source": [
    "# 질문 입력\n",
    "inputs = {\"messages\": [(\"human\", \"AI 관련된 최신 뉴스를 검색해줘\")]}\n",
    "\n",
    "# 비동기 이벤트 스트림 처리(astream_events)\n",
    "async for event in graph.astream_events(inputs, version=\"v2\"):\n",
    "    # 이벤트 종류와 태그 정보 추출\n",
    "    kind = event[\"event\"]\n",
    "    tags = event.get(\"tags\", [])\n",
    "\n",
    "    # 채팅 모델 스트림 이벤트 및 최종 노드 태그 필터링\n",
    "    if kind == \"on_chat_model_stream\" and \"WANT_TO_STREAM\" in tags:\n",
    "        # 이벤트 데이터 추출\n",
    "        data = event[\"data\"]\n",
    "\n",
    "        # 출력 메시지\n",
    "        if data[\"chunk\"].content:\n",
    "            print(data[\"chunk\"].content, end=\"\", flush=True)"
   ]
  },
  {
   "cell_type": "markdown",
   "metadata": {},
   "source": [
    "##### 도구 호출에 대한 스트리밍 출력\n",
    "\n",
    "- AIMessageChunk: 실시간 토큰 단위의 출력 메시지\n",
    "- tool_call_chunks: 도구 호출 청크. 만약 tool_call_chunks 가 존재하는 경우, 도구 호출 청크를 누적하여 출력합니다. (도구 토큰은 이 속성을 보고 판단하여 출력)"
   ]
  },
  {
   "cell_type": "code",
   "execution_count": 24,
   "metadata": {},
   "outputs": [
    {
     "name": "stdout",
     "output_type": "stream",
     "text": [
      "{}\n",
      "{}\n",
      "{}\n",
      "{'query': ''}\n",
      "{'query': 'AI'}\n",
      "{'query': 'AI'}\n",
      "-AI에 돈 쓰느라 직원들 공짜 마사지·공짜 밥 중단 - 조선일보\n",
      "-'소라' 출시 후 달라진 분위기...\"동영상 AI는 위협적 존재 아니야\" - AI타임스\n",
      "-한은 총재 \"AI로 금융시장 리스크 감지하는 시스템 개발 중\" - 연합뉴스\n",
      "-기대 못 미친 AI폰… \"지금까지 나온 AI 기능, 별 도움 안돼\" - ZD넷 코리아\n",
      "-정부전용 AI 플랫폼 개발…새해 1분기 사업자 선정 - 전자신문다음은 AI 관련 최신 뉴스입니다:\n",
      "\n",
      "1. **AI에 돈 쓰느라 직원들 공짜 마사지·공짜 밥 중단** - 조선일보\n",
      "2. **'소라' 출시 후 달라진 분위기...\"동영상 AI는 위협적 존재 아니야\"** - AI타임스\n",
      "3. **한은 총재 \"AI로 금융시장 리스크 감지하는 시스템 개발 중\"** - 연합뉴스\n",
      "4. **기대 못 미친 AI폰… \"지금까지 나온 AI 기능, 별 도움 안돼\"** - ZD넷 코리아\n",
      "5. **정부전용 AI 플랫폼 개발…새해 1분기 사업자 선정** - 전자신문\n",
      "\n",
      "더 궁금한 내용이 있으면 말씀해 주세요!"
     ]
    }
   ],
   "source": [
    "from langchain_core.messages import AIMessageChunk, HumanMessage\n",
    "\n",
    "# 질문 입력\n",
    "inputs = {\"messages\": [(\"human\", \"AI 관련된 최신 뉴스를 검색해줘\")]}\n",
    "\n",
    "# 첫 번째 메시지 처리 여부 플래그 설정\n",
    "first = True\n",
    "\n",
    "for msg, metadata in graph.stream(inputs, stream_mode=\"messages\"):\n",
    "    # 사용자 메시지가 아닌 경우의 컨텐츠 출력 처리\n",
    "    if msg.content and not isinstance(msg, HumanMessage):\n",
    "        print(msg.content, end=\"\", flush=True)\n",
    "\n",
    "    # AI 메시지 청크 처리 및 누적\n",
    "    if isinstance(msg, AIMessageChunk):\n",
    "        if first:\n",
    "            gathered = msg\n",
    "            first = False\n",
    "        else:\n",
    "            gathered = gathered + msg\n",
    "\n",
    "        # 도구 호출 청크 존재 시 누적된 도구 호출 정보 출력\n",
    "        if msg.tool_call_chunks:\n",
    "            print(gathered.tool_calls[0][\"args\"])"
   ]
  },
  {
   "cell_type": "markdown",
   "metadata": {},
   "source": [
    "##### Subgraphs 스트리밍 출력\n",
    "\n",
    "이번에는 Subgraphs 를 통해 스트리밍 출력을 확인하는 방법을 알아보겠습니다.  \n",
    "  \n",
    "Subgraphs 는 그래프의 일부를 서브그래프로 정의하는 기능입니다.  \n",
    "  \n",
    "**흐름**  \n",
    "\n",
    "- Subgraphs 에서는 기존의 최신 뉴스를 검색하는 기능을 재사용합니다.\n",
    "- Parent Graph 에서는 검색된 최신 뉴스를 바탕으로 SNS 포스트를 생성하는 기능을 추가합니다."
   ]
  },
  {
   "cell_type": "code",
   "execution_count": 26,
   "metadata": {},
   "outputs": [
    {
     "data": {
      "image/png": "[encoded data removed]",
      "text/plain": [
       "<IPython.core.display.Image object>"
      ]
     },
     "metadata": {},
     "output_type": "display_data"
    }
   ],
   "source": [
    "from typing import Annotated, List, Dict\n",
    "from typing_extensions import TypedDict\n",
    "from langchain.tools import tool\n",
    "from tools_news import GoogleNews\n",
    "from langchain_openai import ChatOpenAI\n",
    "from langgraph.graph import StateGraph, START, END\n",
    "from langgraph.graph.message import add_messages\n",
    "from langgraph.prebuilt import ToolNode, tools_condition\n",
    "\n",
    "\n",
    "########## 1. 상태 정의 ##########\n",
    "# 상태 정의\n",
    "class State(TypedDict):\n",
    "    # 메시지 목록 주석 추가\n",
    "    messages: Annotated[list, add_messages]\n",
    "\n",
    "\n",
    "########## 2. 도구 정의 및 바인딩 ##########\n",
    "# 도구 초기화\n",
    "# 키워드로 뉴스 검색하는 도구 생성\n",
    "@tool\n",
    "def search_keyword(query: str) -> List[Dict[str, str]]:\n",
    "    \"\"\"Look up news by keyword\"\"\"\n",
    "    news_tool = GoogleNews()\n",
    "    return \"\\n\".join(\n",
    "        [f'- {news[\"content\"]}' for news in news_tool.search_by_keyword(query, k=5)]\n",
    "    )\n",
    "\n",
    "\n",
    "# 도구 리스트 생성\n",
    "tools = [search_keyword]\n",
    "\n",
    "# LLM 초기화\n",
    "llm = ChatOpenAI(model=\"gpt-4o-mini\")\n",
    "\n",
    "# 도구와 LLM 결합 (tags 추가)\n",
    "llm_with_tools = llm.bind_tools(tools).with_config(tags=[\"WANT_TO_STREAM\"])\n",
    "\n",
    "\n",
    "########## 3. 노드 추가 ##########\n",
    "# 챗봇 함수 정의\n",
    "def chatbot(state: State):\n",
    "    # 메시지 호출 및 반환\n",
    "    return {\"messages\": [llm_with_tools.invoke(state[\"messages\"])]}\n",
    "\n",
    "\n",
    "# SNS 포스트 생성 함수 정의\n",
    "def create_sns_post(state: State):\n",
    "    # SNS 포스트 생성을 위한 프롬프트\n",
    "    sns_prompt = \"\"\"\n",
    "    이전 대화 내용을 바탕으로 SNS 게시글 형식으로 변환해주세요.\n",
    "    다음 형식을 따라주세요:\n",
    "    - 해시태그 포함\n",
    "    - 이모지 사용\n",
    "    - 간결하고 흥미로운 문체 사용\n",
    "    - 200자 이내로 작성\n",
    "    \"\"\"\n",
    "    messages = state[\"messages\"] + [(\"human\", sns_prompt)]\n",
    "    sns_llm = ChatOpenAI(model=\"gpt-4o-mini\").with_config(tags=[\"WANT_TO_STREAM2\"])\n",
    "    return {\"messages\": [sns_llm.invoke(messages)]}\n",
    "\n",
    "\n",
    "# 서브그래프 생성\n",
    "def create_subgraph():\n",
    "    # 서브그래프용 상태 그래프 생성\n",
    "    subgraph = StateGraph(State)\n",
    "\n",
    "    # 챗봇 노드 추가\n",
    "    subgraph.add_node(\"chatbot\", chatbot)\n",
    "\n",
    "    # 도구 노드 생성 및 추가\n",
    "    tool_node = ToolNode(tools=[search_keyword])\n",
    "    subgraph.add_node(\"tools\", tool_node)\n",
    "\n",
    "    # 조건부 엣지 추가\n",
    "    subgraph.add_conditional_edges(\n",
    "        \"chatbot\",\n",
    "        tools_condition,\n",
    "    )\n",
    "\n",
    "    # tools > chatbot\n",
    "    subgraph.add_edge(\"tools\", \"chatbot\")\n",
    "\n",
    "    # START > chatbot\n",
    "    subgraph.add_edge(START, \"chatbot\")\n",
    "\n",
    "    # chatbot > END\n",
    "    subgraph.add_edge(\"chatbot\", END)\n",
    "\n",
    "    return subgraph.compile()\n",
    "\n",
    "\n",
    "# 메인 그래프 생성\n",
    "graph_builder = StateGraph(State)\n",
    "\n",
    "# 서브그래프 추가\n",
    "subgraph = create_subgraph()\n",
    "graph_builder.add_node(\"news_subgraph\", subgraph)\n",
    "\n",
    "# SNS 포스트 생성 노드 추가\n",
    "graph_builder.add_node(\"sns_post\", create_sns_post)\n",
    "\n",
    "# START > news_subgraph\n",
    "graph_builder.add_edge(START, \"news_subgraph\")\n",
    "\n",
    "# news_subgraph > sns_post\n",
    "graph_builder.add_edge(\"news_subgraph\", \"sns_post\")\n",
    "\n",
    "# sns_post > END\n",
    "graph_builder.add_edge(\"sns_post\", END)\n",
    "\n",
    "# 그래프 컴파일\n",
    "graph = graph_builder.compile()\n",
    "\n",
    "# 그래프 시각화\n",
    "visualize_graph(graph, xray=True)"
   ]
  },
  {
   "cell_type": "markdown",
   "metadata": {},
   "source": [
    "##### Subgraphs 출력을 '생략' 하는 경우"
   ]
  },
  {
   "cell_type": "code",
   "execution_count": 27,
   "metadata": {},
   "outputs": [
    {
     "name": "stdout",
     "output_type": "stream",
     "text": [
      "\n",
      "========= Update from node news_subgraph =========\n",
      "\n",
      "==================================\u001b[1m Ai Message \u001b[0m==================================\n",
      "\n",
      "다음은 AI와 관련된 최신 뉴스입니다:\n",
      "\n",
      "1. **AI에 돈 쓰느라 직원들 공짜 마사지·공짜 밥 중단** - 조선일보\n",
      "2. **'소라' 출시 후 달라진 분위기...\"동영상 AI는 위협적 존재 아니야\"** - AI타임스\n",
      "3. **한은 총재 \"AI로 금융시장 리스크 감지하는 시스템 개발 중\"** - 연합뉴스\n",
      "4. **이창용 “AI 소프트웨어, 韓 서비스 수출의 새로운 성장 동력”** - 이투데이\n",
      "5. **한은 총재 “AI, 한국의 새로운 성장엔진 될 것”** - 헤럴드경제\n",
      "\n",
      "이 뉴스들은 AI 기술이 경제, 금융 및 서비스 산업에 미치는 영향을 다루고 있습니다.\n",
      "\n",
      "========= Update from node sns_post =========\n",
      "\n",
      "==================================\u001b[1m Ai Message \u001b[0m==================================\n",
      "\n",
      "🌟 AI의 시대가 도래했습니다! 🚀 한국은행 총재는 AI가 금융시장 리스크 감지 시스템 개발에 중요한 역할을 할 것이라고 밝혔습니다. 💡 또한, AI 소프트웨어가 한국 서비스 수출의 새로운 성장 동력이 될 것이라고 합니다! 🇰🇷✨ #AI #인공지능 #금융혁신 #성장동력 #한국경제\n"
     ]
    }
   ],
   "source": [
    "# 질문 입력\n",
    "inputs = {\"messages\": [(\"human\", \"AI 관련된 최신 뉴스를 검색해줘\")]}\n",
    "\n",
    "# 노드 업데이트 정보 순차적 처리 및 출력\n",
    "for chunk in graph.stream(inputs, stream_mode=\"updates\"):\n",
    "    # node_name: 현재 처리 중인 노드명, node_chunk: 해당 노드의 청크 데이터\n",
    "    for node_name, node_chunk in chunk.items():\n",
    "        # 현재 처리 중인 노드 구분선 출력\n",
    "        print(f\"\\n========= Update from node {node_name} =========\\n\")\n",
    "        # 해당 노드의 업데이트된 데이터 출력\n",
    "        if \"messages\" in node_chunk:\n",
    "            node_chunk[\"messages\"][-1].pretty_print()\n",
    "        else:\n",
    "            print(node_chunk)"
   ]
  },
  {
   "cell_type": "markdown",
   "metadata": {},
   "source": [
    "##### Subgraphs 출력도 '포함' 하는 경우\n",
    "\n",
    "**참고**\n",
    "\n",
    "- `subgraphs=True` 를 통해 Subgraphs 의 출력도 포함할 수 있습니다.\n",
    "- (namespace, chunk) 형태로 출력됩니다."
   ]
  },
  {
   "cell_type": "code",
   "execution_count": 28,
   "metadata": {},
   "outputs": [
    {
     "name": "stdout",
     "output_type": "stream",
     "text": [
      "\n",
      "========= Update from node [chatbot] in [news_subgraph] =========\n",
      "\n",
      "==================================\u001b[1m Ai Message \u001b[0m==================================\n",
      "Tool Calls:\n",
      "  search_keyword (call_Lq2KqYWLR1FM8NhiRpxUlrVM)\n",
      " Call ID: call_Lq2KqYWLR1FM8NhiRpxUlrVM\n",
      "  Args:\n",
      "    query: AI\n",
      "\n",
      "========= Update from node [tools] in [news_subgraph] =========\n",
      "\n",
      "=================================\u001b[1m Tool Message \u001b[0m=================================\n",
      "Name: search_keyword\n",
      "\n",
      "- AI에 돈 쓰느라 직원들 공짜 마사지·공짜 밥 중단 - 조선일보\n",
      "- '소라' 출시 후 달라진 분위기...\"동영상 AI는 위협적 존재 아니야\" - AI타임스\n",
      "- 한은 총재 \"AI로 금융시장 리스크 감지하는 시스템 개발 중\" - 연합뉴스\n",
      "- 이창용 “AI 소프트웨어, 韓 서비스 수출의 새로운 성장 동력” - 이투데이\n",
      "- 한은 총재 “AI, 한국의 새로운 성장엔진 될 것” - 헤럴드경제\n",
      "\n",
      "========= Update from node [chatbot] in [news_subgraph] =========\n",
      "\n",
      "==================================\u001b[1m Ai Message \u001b[0m==================================\n",
      "\n",
      "최근 AI 관련 뉴스는 다음과 같습니다:\n",
      "\n",
      "1. **AI에 돈 쓰느라 직원들 공짜 마사지·공짜 밥 중단** - 조선일보\n",
      "2. **'소라' 출시 후 달라진 분위기...\"동영상 AI는 위협적 존재 아니야\"** - AI타임스\n",
      "3. **한은 총재 \"AI로 금융시장 리스크 감지하는 시스템 개발 중\"** - 연합뉴스\n",
      "4. **이창용 “AI 소프트웨어, 韓 서비스 수출의 새로운 성장 동력”** - 이투데이\n",
      "5. **한은 총재 “AI, 한국의 새로운 성장엔진 될 것”** - 헤럴드경제\n",
      "\n",
      "더 궁금한 점이 있으면 말씀해 주세요!\n",
      "\n",
      "========= Update from node [news_subgraph] in [parent graph] =========\n",
      "\n",
      "==================================\u001b[1m Ai Message \u001b[0m==================================\n",
      "\n",
      "최근 AI 관련 뉴스는 다음과 같습니다:\n",
      "\n",
      "1. **AI에 돈 쓰느라 직원들 공짜 마사지·공짜 밥 중단** - 조선일보\n",
      "2. **'소라' 출시 후 달라진 분위기...\"동영상 AI는 위협적 존재 아니야\"** - AI타임스\n",
      "3. **한은 총재 \"AI로 금융시장 리스크 감지하는 시스템 개발 중\"** - 연합뉴스\n",
      "4. **이창용 “AI 소프트웨어, 韓 서비스 수출의 새로운 성장 동력”** - 이투데이\n",
      "5. **한은 총재 “AI, 한국의 새로운 성장엔진 될 것”** - 헤럴드경제\n",
      "\n",
      "더 궁금한 점이 있으면 말씀해 주세요!\n",
      "\n",
      "========= Update from node [sns_post] in [parent graph] =========\n",
      "\n",
      "==================================\u001b[1m Ai Message \u001b[0m==================================\n",
      "\n",
      "🚀 최신 AI 뉴스 모아봤어요! 🤖\n",
      "\n",
      "1️⃣ 직원 복지 축소? AI 투자에 집중! 💼\n",
      "2️⃣ 동영상 AI, 이제 위협이 아닐까? 🎥\n",
      "3️⃣ 금융시장 리스크 감지 시스템 개발 중! 📈\n",
      "4️⃣ AI 소프트웨어, 한국의 새로운 성장 동력! 🇰🇷\n",
      "\n",
      "AI의 미래가 기대되네요! 🌟 #AI #기술혁신 #미래전망 #금융 #서비스수출\n"
     ]
    }
   ],
   "source": [
    "# 사용자의 메시지를 딕셔너리 형태로 입력 데이터 구성\n",
    "inputs = {\"messages\": [(\"human\", \"AI 관련된 최신 뉴스를 검색해줘\")]}\n",
    "\n",
    "\n",
    "# 네임스페이스 문자열을 보기 좋은 형식으로 변환하는 포맷팅 함수\n",
    "def format_namespace(namespace):\n",
    "    return namespace[-1].split(\":\")[0] if len(namespace) > 0 else \"parent graph\"\n",
    "\n",
    "\n",
    "# subgraphs=True 를 통해 서브그래프의 출력도 포함(namespace, chunk) 형태로 출력됩니다.\n",
    "for namespace, chunk in graph.stream(inputs, stream_mode=\"updates\", subgraphs=True):\n",
    "    # node_name: 현재 처리 중인 노드명, node_chunk: 해당 노드의 청크 데이터\n",
    "    for node_name, node_chunk in chunk.items():\n",
    "        print(\n",
    "            f\"\\n========= Update from node [{node_name}] in [{format_namespace(namespace)}] =========\\n\"\n",
    "        )\n",
    "\n",
    "        # 노드의 청크 데이터 출력\n",
    "        if \"messages\" in node_chunk:\n",
    "            node_chunk[\"messages\"][-1].pretty_print()\n",
    "        else:\n",
    "            print(node_chunk)"
   ]
  },
  {
   "cell_type": "markdown",
   "metadata": {},
   "source": [
    "##### Subgraphs 안에서 LLM 출력 토큰 단위 스트리밍\n",
    "\n",
    "**참고**\n",
    "\n",
    "- `kind` 는 이벤트 종류를 나타냅니다.\n",
    "- 이벤트 종류는 `StreamEvent` 타입별 정리 에서 확인하세요!\n"
   ]
  },
  {
   "cell_type": "code",
   "execution_count": 29,
   "metadata": {},
   "outputs": [
    {
     "name": "stdout",
     "output_type": "stream",
     "text": [
      "\n",
      "========= on_chat_model_start =========\n",
      "\n",
      "\n",
      "========= tool_start =========\n",
      "\n",
      "{'query': 'AI'}\n",
      "\n",
      "========= tool_end =========\n",
      "\n",
      "- AI에 돈 쓰느라 직원들 공짜 마사지·공짜 밥 중단 - 조선일보\n",
      "- '소라' 출시 후 달라진 분위기...\"동영상 AI는 위협적 존재 아니야\" - AI타임스\n",
      "- 한은 총재 \"AI로 금융시장 리스크 감지하는 시스템 개발 중\" - 연합뉴스\n",
      "- 이창용 “AI 소프트웨어, 韓 서비스 수출의 새로운 성장 동력” - 이투데이\n",
      "- 한은 총재 “AI, 한국의 새로운 성장엔진 될 것” - 헤럴드경제\n",
      "\n",
      "========= on_chat_model_start =========\n",
      "\n",
      "다음은 AI 관련 최신 뉴스입니다:\n",
      "\n",
      "1. **AI에 돈 쓰느라 직원들 공짜 마사지·공짜 밥 중단** - 조선일보\n",
      "2. **'소라' 출시 후 달라진 분위기...\"동영상 AI는 위협적 존재 아니야\"** - AI타임스\n",
      "3. **한은 총재 \"AI로 금융시장 리스크 감지하는 시스템 개발 중\"** - 연합뉴스\n",
      "4. **이창용 “AI 소프트웨어, 韓 서비스 수출의 새로운 성장 동력”** - 이투데이\n",
      "5. **한은 총재 “AI, 한국의 새로운 성장엔진 될 것”** - 헤럴드경제\n",
      "\n",
      "더 궁금한 사항이 있으시면 말씀해 주세요!\n",
      "========= on_chat_model_start =========\n",
      "\n",
      "🚀 AI의 발전이 우리 삶을 변화시키고 있어요! 💡 한은 총재는 AI가 금융 리스크 감지와 한국 서비스 수출의 새로운 성장 동력이 될 것이라고 강조했습니다. 😲 여러분은 AI의 미래를 어떻게 생각하시나요? #AI #미래기술 #성장엔진 #금융혁신"
     ]
    }
   ],
   "source": [
    "# 네임스페이스 정보를 파싱하는 함수\n",
    "def parse_namespace_info(info: tuple) -> tuple[str, str]:\n",
    "    if len(info) > 1:\n",
    "        namespace, node_name = info\n",
    "        return node_name.split(\":\")[0], namespace.split(\":\")[0]\n",
    "    return info[0].split(\":\")[0], \"parent graph\"\n",
    "\n",
    "\n",
    "kind = None\n",
    "\n",
    "async for event in graph.astream_events(inputs, version=\"v2\", subgraphs=True):\n",
    "    kind = event[\"event\"]\n",
    "\n",
    "    # 이벤트 종류와 태그 정보 추출\n",
    "    if kind == \"on_chat_model_start\":\n",
    "        print(f\"\\n========= on_chat_model_start =========\\n\")\n",
    "\n",
    "    # 채팅 모델 스트림 이벤트 및 최종 노드 태그 필터링\n",
    "    elif kind == \"on_chat_model_stream\":\n",
    "        # 이벤트 데이터 추출\n",
    "        data = event[\"data\"]\n",
    "\n",
    "        # 토큰 단위의 스트리밍 출력\n",
    "        if data[\"chunk\"].content:\n",
    "            print(data[\"chunk\"].content, end=\"\", flush=True)\n",
    "\n",
    "    elif kind == \"on_tool_start\":\n",
    "        print(f\"\\n========= tool_start =========\\n\")\n",
    "        data = event[\"data\"]\n",
    "        if \"input\" in data:\n",
    "            tool_msg = data[\"input\"]\n",
    "            print(tool_msg)\n",
    "\n",
    "    elif kind == \"on_tool_end\":\n",
    "        print(f\"\\n========= tool_end =========\\n\")\n",
    "        data = event[\"data\"]\n",
    "        if \"output\" in data:\n",
    "            tool_msg = data[\"output\"]\n",
    "            print(tool_msg.content)"
   ]
  },
  {
   "cell_type": "markdown",
   "metadata": {},
   "source": [
    "##### 특정 tags 만 스트리밍 출력하는 경우\n",
    "- `ONLY_STREAM_TAGS` 를 통해 스트리밍 출력하고 싶은 tags 만 설정할 수 있습니다.\n",
    "- 여기서는 \"WANT_TO_STREAM\" 는 출력에서 배제하고 \"WANT_TO_STREAM2\" 만 출력하는 경우를 확인합니다."
   ]
  },
  {
   "cell_type": "code",
   "execution_count": 30,
   "metadata": {},
   "outputs": [
    {
     "name": "stdout",
     "output_type": "stream",
     "text": [
      "\n",
      "========= tags: ['seq:step:1', 'WANT_TO_STREAM'] =========\n",
      "\n",
      "\n",
      "========= tool_start =========\n",
      "\n",
      "{'query': 'AI'}\n",
      "\n",
      "========= tool_end =========\n",
      "\n",
      "- AI에 돈 쓰느라 직원들 공짜 마사지·공짜 밥 중단 - 조선일보\n",
      "- '소라' 출시 후 달라진 분위기...\"동영상 AI는 위협적 존재 아니야\" - AI타임스\n",
      "- 한은 총재 \"AI로 금융시장 리스크 감지하는 시스템 개발 중\" - 연합뉴스\n",
      "- 이창용 “AI 소프트웨어, 韓 서비스 수출의 새로운 성장 동력” - 이투데이\n",
      "- 한은 총재 “AI, 한국의 새로운 성장엔진 될 것” - 헤럴드경제\n",
      "\n",
      "========= tags: ['seq:step:1', 'WANT_TO_STREAM'] =========\n",
      "\n",
      "최신 AI 관련 뉴스는 다음과 같습니다:\n",
      "\n",
      "1. **AI에 돈 쓰느라 직원들 공짜 마사지·공짜 밥 중단** - 조선일보\n",
      "2. **'소라' 출시 후 달라진 분위기...\"동영상 AI는 위협적 존재 아니야\"** - AI타임스\n",
      "3. **한은 총재 \"AI로 금융시장 리스크 감지하는 시스템 개발 중\"** - 연합뉴스\n",
      "4. **이창용 “AI 소프트웨어, 韓 서비스 수출의 새로운 성장 동력”** - 이투데이\n",
      "5. **한은 총재 “AI, 한국의 새로운 성장엔진 될 것”** - 헤럴드경제\n",
      "\n",
      "더 궁금한 내용이 있으시면 말씀해 주세요!\n",
      "========= tags: ['seq:step:1', 'WANT_TO_STREAM2'] =========\n",
      "\n"
     ]
    }
   ],
   "source": [
    "# 네임스페이스 정보를 파싱하는 함수\n",
    "def parse_namespace_info(info: tuple) -> tuple[str, str]:\n",
    "    if len(info) > 1:\n",
    "        namespace, node_name = info\n",
    "        return node_name.split(\":\")[0], namespace.split(\":\")[0]\n",
    "    return info[0].split(\":\")[0], \"parent graph\"\n",
    "\n",
    "\n",
    "# 스트리밍 출력하고 싶은 tags 만 설정 (여기서는 \"WANT_TO_STREAM\" 는 출력에서 배제)\n",
    "ONLY_STREAM_TAGS = [\"WANT_TO_STREAM\"]\n",
    "\n",
    "kind = None\n",
    "tags = None\n",
    "\n",
    "async for event in graph.astream_events(inputs, version=\"v2\", subgraphs=True):\n",
    "    kind = event[\"event\"]\n",
    "    tags = event.get(\"tags\", [])\n",
    "\n",
    "    # 이벤트 종류와 태그 정보 추출\n",
    "    if kind == \"on_chat_model_start\":\n",
    "        print(f\"\\n========= tags: {tags} =========\\n\")\n",
    "\n",
    "    # 채팅 모델 스트림 이벤트 및 최종 노드 태그 필터링\n",
    "    elif kind == \"on_chat_model_stream\":\n",
    "        for tag in tags:\n",
    "            if tag in ONLY_STREAM_TAGS:\n",
    "                # 이벤트 데이터 추출\n",
    "                data = event[\"data\"]\n",
    "\n",
    "                # 출력 메시지\n",
    "                if data[\"chunk\"].content:\n",
    "                    print(data[\"chunk\"].content, end=\"\", flush=True)\n",
    "    elif kind == \"on_tool_start\":\n",
    "        print(f\"\\n========= tool_start =========\\n\")\n",
    "        data = event[\"data\"]\n",
    "        if \"input\" in data:\n",
    "            tool_msg = data[\"input\"]\n",
    "            print(tool_msg)\n",
    "\n",
    "    elif kind == \"on_tool_end\":\n",
    "        print(f\"\\n========= tool_end =========\\n\")\n",
    "        data = event[\"data\"]\n",
    "        if \"output\" in data:\n",
    "            tool_msg = data[\"output\"]\n",
    "            print(tool_msg.content)"
   ]
  }
 ],
 "metadata": {
  "kernelspec": {
   "display_name": "langchain-note-2024-PFhCXHTX-py3.12",
   "language": "python",
   "name": "python3"
  },
  "language_info": {
   "codemirror_mode": {
    "name": "ipython",
    "version": 3
   },
   "file_extension": ".py",
   "mimetype": "text/x-python",
   "name": "python",
   "nbconvert_exporter": "python",
   "pygments_lexer": "ipython3",
   "version": "3.12.7"
  }
 },
 "nbformat": 4,
 "nbformat_minor": 2
}
