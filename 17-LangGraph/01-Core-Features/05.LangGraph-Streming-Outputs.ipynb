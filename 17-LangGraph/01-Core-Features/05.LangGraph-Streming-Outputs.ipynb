{
 "cells": [
  {
   "cell_type": "code",
   "execution_count": 1,
   "metadata": {},
   "outputs": [
    {
     "data": {
      "text/plain": [
       "True"
      ]
     },
     "execution_count": 1,
     "metadata": {},
     "output_type": "execute_result"
    }
   ],
   "source": [
    "from dotenv import load_dotenv\n",
    "import sys\n",
    "\n",
    "sys.path.append(\"../../common\")\n",
    "load_dotenv()"
   ]
  },
  {
   "cell_type": "code",
   "execution_count": 2,
   "metadata": {},
   "outputs": [
    {
     "name": "stdout",
     "output_type": "stream",
     "text": [
      "Langsmith 추적이 활성화되었습니다. [프로젝트명: 17.LangGraph]\n"
     ]
    }
   ],
   "source": [
    "import os\n",
    "from langsmith_tracker import set_tracking\n",
    "\n",
    "# 인스턴스를 생성할 때 필요한 매개변수를 전달합니다.\n",
    "set_tracking(project_name=\"17.LangGraph\")"
   ]
  },
  {
   "cell_type": "markdown",
   "metadata": {},
   "source": [
    "### LangGraph Streaming Outputs\n",
    "\n",
    "LangGraph의 Streaming Outputs 은 LLM의 Streaming Token 출력과는 다른 기능입니다.  \n",
    "  \n",
    "LangGraph의 Streaming Outputs 는 노드의 출력을 스트리밍하여 출력하는 기능입니다.  \n",
    "  \n",
    "LangGraph에서도 Token Streaming 기능을 사용할 수 있습니다. 그 기능은 추후에 Streaming Step 에서 다루도록 하겠습니다.  "
   ]
  },
  {
   "cell_type": "code",
   "execution_count": 31,
   "metadata": {},
   "outputs": [
    {
     "data": {
      "image/png": "[encoded data removed]",
      "text/plain": [
       "<IPython.core.display.Image object>"
      ]
     },
     "metadata": {},
     "output_type": "display_data"
    }
   ],
   "source": [
    "from typing import Annotated, List, Dict\n",
    "from typing_extensions import TypedDict\n",
    "\n",
    "from langchain_core.tools import tool\n",
    "from langchain_openai import ChatOpenAI\n",
    "from langgraph.checkpoint.memory import MemorySaver\n",
    "from langgraph.graph import StateGraph, START, END\n",
    "from langgraph.graph.message import add_messages\n",
    "from langgraph.prebuilt import ToolNode, tools_condition\n",
    "from graphs import visualize_graph\n",
    "from tools_news import GoogleNews\n",
    "\n",
    "\n",
    "##### 1. 상태(State) 정의\n",
    "class State(TypedDict):\n",
    "    # 메모리 저장소 추가\n",
    "    messages: Annotated[list, add_messages]\n",
    "    dummy_data: Annotated[str, \"dummy\"]\n",
    "\n",
    "\n",
    "##### 2. 도구 정의 및 바인딩\n",
    "# 도구 초기화\n",
    "news_tool = GoogleNews()\n",
    "\n",
    "\n",
    "@tool\n",
    "def search_keyword(query: str) -> List[Dict[str, str]]:\n",
    "    \"\"\"Look up news by keyword\"\"\"\n",
    "    news_tool = GoogleNews()\n",
    "    return news_tool.search_by_keyword(query, k=5)\n",
    "\n",
    "\n",
    "tools = [search_keyword]\n",
    "\n",
    "# llm 초기화\n",
    "llm = ChatOpenAI(model=\"gpt-4o-mini\", temperature=0)\n",
    "\n",
    "# llm과 도구 바인딩\n",
    "llm_with_tools = llm.bind_tools(tools)\n",
    "\n",
    "\n",
    "##### 3. 노드 추가\n",
    "# 챗봇 함수 정의, 노드 정의\n",
    "def chatbot(state: State):\n",
    "    # 메시지 호출 및 반환\n",
    "    return {\n",
    "        \"messages\": llm_with_tools.invoke(state[\"messages\"]),\n",
    "        \"dummy_data\": \"[chatbot] 호출, dummy data\",  # 더미 추가\n",
    "    }\n",
    "\n",
    "\n",
    "# 상태 그래프 생성\n",
    "graph_builder = StateGraph(State)\n",
    "\n",
    "# 챗봇 노드 추가\n",
    "graph_builder.add_node(\"chatbot\", chatbot)\n",
    "\n",
    "# 도구 노드 생성 및 추가\n",
    "tool_node = ToolNode(tools=tools)\n",
    "\n",
    "# 도구 노드 추가\n",
    "graph_builder.add_node(\"tools\", tool_node)\n",
    "\n",
    "# 조건부 엣지\n",
    "graph_builder.add_conditional_edges(\n",
    "    \"chatbot\",\n",
    "    tools_condition,\n",
    ")\n",
    "\n",
    "##### 4. 엣지 추가\n",
    "# START > chatbot\n",
    "graph_builder.add_edge(START, \"chatbot\")\n",
    "\n",
    "# tools > chatbot\n",
    "graph_builder.add_edge(\"tools\", \"chatbot\")\n",
    "\n",
    "# chatbot > END\n",
    "graph_builder.add_edge(\"chatbot\", END)\n",
    "\n",
    "##### 5. 그래프 컴파일\n",
    "graph = graph_builder.compile()\n",
    "\n",
    "##### 6. 그래프 시각화\n",
    "visualize_graph(graph)"
   ]
  },
  {
   "cell_type": "markdown",
   "metadata": {},
   "source": [
    "#### StateGraph의 `stream` 메서드\n",
    "\n",
    "`stream` 메서드는 단일 입력에 대한 그래프 단계를 스트리밍하는 역할을 합니다.\n",
    "\n",
    "**매개변수**  \n",
    "- **`input`** *(Union[dict[str, Any], Any])*: 그래프에 대한 입력\n",
    "- **`config`** *(Optional[RunnableConfig])*: 실행 구성\n",
    "- **`stream_mode`** *(Optional[Union[StreamMode, list[StreamMode]]])*: 출력 스트리밍 모드\n",
    "- **`output_keys`** *(Optional[Union[str, Sequence[str]]])*: 스트리밍할 키\n",
    "- **`interrupt_before`** *(Optional[Union[All, Sequence[str]]])*: 실행 전에 중단할 노드\n",
    "- **`interrupt_after`** *(Optional[Union[All, Sequence[str]]])*: 실행 후에 중단할 노드\n",
    "- **`debug`** *(Optional[bool])*: 디버그 정보 출력 여부\n",
    "- **`subgraphs`** *(bool)*: 하위 그래프 스트리밍 여부\n",
    "\n",
    "**반환값**\n",
    "- **Iterator[Union[dict[str, Any], Any]]**: 그래프의 각 단계 출력.   \n",
    "  출력 형태는 **`stream_mode`**에 따라 다름.\n",
    "\n",
    "**주요 기능**\n",
    "1. 입력된 설정에 따라 그래프 실행을 스트리밍 방식으로 처리.\n",
    "2. 다양한 스트리밍 모드 지원 (**`values`, `updates`, `debug`**).\n",
    "3. 콜백 관리 및 오류 처리.\n",
    "4. 재귀 제한 및 중단 조건 처리.\n",
    "\n",
    "**스트리밍 모드**\n",
    "- **`values`**: 각 단계의 현재 상태 값 출력\n",
    "- **`updates`**: 각 단계의 상태 업데이트만 출력\n",
    "- **`debug`**: 각 단계의 디버그 이벤트 출력"
   ]
  },
  {
   "cell_type": "code",
   "execution_count": 32,
   "metadata": {},
   "outputs": [],
   "source": [
    "from langchain_core.runnables import RunnableConfig\n",
    "\n",
    "# 질문\n",
    "question = \"2024년 노벨 문학상 관련 뉴스를 알려주세요.\"\n",
    "\n",
    "# 초기 입력 상태를 정의\n",
    "input = State(dummy_data=\"테스트 문자열\", messages=[(\"user\", question)])\n",
    "\n",
    "# config 설정\n",
    "config = RunnableConfig(\n",
    "    recursion_limit=10,  # 최대 10개의 노드까지 방문. 그 이상은 RecursionError 발생\n",
    "    configurable={\"thread_id\": \"1\"},  # 스레드 ID 설정\n",
    "    tags=[\"my-tag\"],  # Tag\n",
    ")"
   ]
  },
  {
   "cell_type": "markdown",
   "metadata": {},
   "source": [
    "config를 설정하고 streaming을 진행합니다."
   ]
  },
  {
   "cell_type": "code",
   "execution_count": 44,
   "metadata": {},
   "outputs": [
    {
     "name": "stdout",
     "output_type": "stream",
     "text": [
      "\n",
      "[ chatbot ]\n",
      "\n",
      "==================================\u001b[1m Ai Message \u001b[0m==================================\n",
      "Tool Calls:\n",
      "  search_keyword (call_8jd18JLsJX7h7iwhqUTngyek)\n",
      " Call ID: call_8jd18JLsJX7h7iwhqUTngyek\n",
      "  Args:\n",
      "    query: 2024 Nobel Prize in Literature\n",
      "\n",
      "[ tools ]\n",
      "\n",
      "=================================\u001b[1m Tool Message \u001b[0m=================================\n",
      "Name: search_keyword\n",
      "\n",
      "[{\"url\": \"https://news.google.com/rss/articles/CBMinwJBVV95cUxQUkpKOVpqWEo2MnN0N0RpRHdhUWVzUFVwT0RIclZYSjlaUmJUYWtYU3N3U2ROOWdUejR4WC00WkoxdHlDSzlDNVZGdkctNjk2WlRVc0h5YkxDSm1nNHJwQUYxcTNfcm92X0xMNGFMWUJFSnlqcEo0NHZxWkJoSkdtWmdSaXVma3JJSnNKR09YS2wxQ01kN18zUmF0cXlTV2VqTk1jcEJTenBnRHpJbGVYbWJiVTNtc2tfMFY1Tmo5Nl9LMVBwV1ZWMXltdHlMcnltTGlxT21ObmZqQjFGVllMRGc2N3lNakE4RTRjZG8tdDhQRkNZQlhfNFFiaGNYQU8yVERLYjhuSW50YkNPY3JZZ2twaVBhNmZLUmxpUGFqYw?oc=5\", \"content\": \"The Nobel Prize in Literature 2024 - NobelPrize.org\"}, {\"url\": \"https://news.google.com/rss/articles/CBMiU0FVX3lxTE5wc21Bam9IYjZHbDdXZVIya2xKQm1GSmo0dzhzM0RvY2lEMzVldlRlTzF0M1BlVEhUWnFwQ2tVaHZVQklEd1JZd3pOVXZxTkREci1Z?oc=5\", \"content\": \"한강, 韓 최초 노벨문학상 수상…스웨덴 국왕 직접 수여 - 네이트 뉴스\"}, {\"url\": \"https://news.google.com/rss/articles/CBMiQkFVX3lxTFBpNjVJSWJta0QxYVRnUmZ4N0drUmpMSTU1NVR4RGNMVzFFekZaRm4yajZzMVpqTHJCazA2aHNiSGNNZw?oc=5\", \"content\": \"한강 작가 “문학, 생명 파괴하는 모든 행위에 반대”..노벨문학상 수상 수감 - 브레이크뉴스\"}, {\"url\": \"https://news.google.com/rss/articles/CBMiYkFVX3lxTFBlSlEyVDh3TFFkekJSSnVzSk0ydW9ScjdxX0FzOUZ1YUVWRXhMaTZ6S1c3MmdPR0ZZcnloenBkOW9DYXYtUEhQbjE5NEROYkQ2LUR4U0FZR3ZvVGRXTEo0WlR3?oc=5\", \"content\": \"한강 “모든 질문들의 가장 깊은 겹은 언제나 사랑” - 경기신문\"}, {\"url\": \"https://news.google.com/rss/articles/CBMiU0FVX3lxTE1LVTNXSmFvTm0wekphalpnR0tEMWJYcDh0QWpKczhzLVlNTXBicGZ6SDBhVjNlMUphRXZZbWdLQ1YzcXlfbUsweG1jOHJ6amlfcHZz?oc=5\", \"content\": \"Han Kang: 'I hope we don't return to a past of suppressed free speech' - 네이트 뉴스\"}]\n",
      "\n",
      "[ chatbot ]\n",
      "\n",
      "==================================\u001b[1m Ai Message \u001b[0m==================================\n",
      "\n",
      "2024년 노벨 문학상에 관한 최근 뉴스는 다음과 같습니다:\n",
      "\n",
      "1. [2024년 노벨 문학상 - NobelPrize.org](https://news.google.com/rss/articles/CBMinwJBVV95cUxQUkpKOVpqWEo2MnN0N0RpRHdhUWVzUFVwT0RIclZYSjlaUmJUYWtYU3N3U2ROOWdUejR4WC00WkoxdHlDSzlDNVZGdkctNjk2WlRVc0h5YkxDSm1nNHJwQUYxcTNfcm92X0xMNGFMWUJFSnlqcEo0NHZxWkJoSkdtWmdSaXVma3JJSnNKR09YS2wxQ01kN18zUmF0cXlTV2VqTk1jcEJTenBnRHpJbGVYbWJiVTNtc2tfMFY1Tmo5Nl9LMVBwV1ZWMXltdHlMcnltTGlxT21ObmZqQjFGVllMRGc2N3lNakE4RTRjZG8tdDhQRkNZQlhfNFFiaGNYQU8yVERLYjhuSW50YkNPY3JZZ2twaVBhNmZLUmxpUGFqYw?oc=5)\n",
      "\n",
      "2. [한강, 韓 최초 노벨문학상 수상…스웨덴 국왕 직접 수여 - 네이트 뉴스](https://news.google.com/rss/articles/CBMiU0FVX3lxTE5wc21Bam9IYjZHbDdXZVIya2xKQm1GSmo0dzhzM0RvY2lEMzVldlRlTzF0M1BlVEhUWnFwQ2tVaHZVQklEd1JZd3pOVXZxTkREci1Z?oc=5)\n",
      "\n",
      "3. [한강 작가 “문학, 생명 파괴하는 모든 행위에 반대”..노벨문학상 수상 수감 - 브레이크뉴스](https://news.google.com/rss/articles/CBMiQkFVX3lxTFBpNjVJSWJta0QxYVRnUmZ4N0drUmpMSTU1NVR4RGNMVzFFekZaRm4yajZzMVpqTHJCazA2aHNiSGNNZw?oc=5)\n",
      "\n",
      "4. [한강 “모든 질문들의 가장 깊은 겹은 언제나 사랑” - 경기신문](https://news.google.com/rss/articles/CBMiYkFVX3lxTFBlSlEyVDh3TFFkekJSSnVzSk0ydW9ScjdxX0FzOUZ1YUVWRXhMaTZ6S1c3MmdPR0ZZcnloenBkOW9DYXYtUEhQbjE5NEROYkQ2LUR4U0FZR3ZvVGRXTEo0WlR3?oc=5)\n",
      "\n",
      "5. [Han Kang: 'I hope we don't return to a past of suppressed free speech' - 네이트 뉴스](https://news.google.com/rss/articles/CBMiU0FVX3lxTE1LVTNXSmFvTm0wekphalpnR0tEMWJYcDh0QWpKczhzLVlNTXBicGZ6SDBhVjNlMUphRXZZbWdLQ1YzcXlfbUsweG1jOHJ6amlfcHZz?oc=5)\n",
      "\n",
      "각 링크를 통해 더 자세한 내용을 확인하실 수 있습니다.\n"
     ]
    }
   ],
   "source": [
    "for event in graph.stream(input=input, config=config):\n",
    "    for key, value in event.items():\n",
    "        print(f\"\\n[ {key} ]\\n\")\n",
    "        # value 에 messages 가 존재하는 경우\n",
    "        if \"messages\" in value:\n",
    "            messages = value[\"messages\"]\n",
    "            # 가장 최근 메시지 1개만 출력합니다.\n",
    "            value[\"messages\"][-1].pretty_print()"
   ]
  },
  {
   "cell_type": "markdown",
   "metadata": {},
   "source": [
    "#### `output_keys` 옵션\n",
    "\n",
    "`output_keys` 옵션은 스트리밍할 키를 지정하는 옵션입니다.   \n",
    "  \n",
    "위에는 전체를 출력했다면, `output_keys` 옵션을 사용하여 확인해야할 내용만 필터링해서 볼 수 있도록 합니다.\n",
    "  \n",
    "list 형식으로 지정할 수 있으며, **channels 에 정의된 키 중 하나** 여야 합니다.  \n",
    "  \n",
    "**Tip.**  \n",
    "- 매 단계마다 출력되는 State Key 가 많은 경우, 일부만 스트링하고 싶은 경우에 유용합니다."
   ]
  },
  {
   "cell_type": "code",
   "execution_count": 34,
   "metadata": {},
   "outputs": [
    {
     "name": "stdout",
     "output_type": "stream",
     "text": [
      "['messages', 'dummy_data', '__start__', 'chatbot', 'tools', 'branch:chatbot:__self__:chatbot', 'branch:chatbot:__self__:tools', 'branch:tools:__self__:chatbot', 'branch:tools:__self__:tools', 'start:chatbot', 'branch:chatbot:tools_condition:chatbot', 'branch:chatbot:tools_condition:tools']\n"
     ]
    }
   ],
   "source": [
    "print(list(graph.channels.keys()))"
   ]
  },
  {
   "cell_type": "markdown",
   "metadata": {},
   "source": [
    "dummy_data 에 있는 키로 stream 하는 예제입니다."
   ]
  },
  {
   "cell_type": "code",
   "execution_count": 35,
   "metadata": {},
   "outputs": [
    {
     "name": "stdout",
     "output_type": "stream",
     "text": [
      "\n",
      " {'chatbot': {'dummy_data': '[chatbot] 호출, dummy data'}} \n",
      "\n",
      "[ value ] dict_keys(['dummy_data'])\n",
      "[ dummy_data ] [chatbot] 호출, dummy data\n",
      "\n",
      " {'tools': None} \n",
      "\n",
      "\n",
      " {'chatbot': {'dummy_data': '[chatbot] 호출, dummy data'}} \n",
      "\n",
      "[ value ] dict_keys(['dummy_data'])\n",
      "[ dummy_data ] [chatbot] 호출, dummy data\n"
     ]
    }
   ],
   "source": [
    "# 질문\n",
    "question = \"2024년 노벨 문학상 관련 뉴스를 알려주세요.\"\n",
    "\n",
    "# 초기 입력 상태를 정의\n",
    "input = State(dummy_data=\"테스트 문자열\", messages=[(\"user\", question)])\n",
    "\n",
    "# config 설정\n",
    "config = RunnableConfig(\n",
    "    recursion_limit=10,\n",
    "    configurable={\"thread_id\": \"1\"},\n",
    "    tags=[\"my-tag\"],\n",
    ")\n",
    "\n",
    "for event in graph.stream(input=input, config=config, output_keys=[\"dummy_data\"]):\n",
    "    print(f\"\\n {event} \\n\")\n",
    "\n",
    "    for key, value in event.items():\n",
    "        # dummy_data 가 존재하는 경우\n",
    "        if value:\n",
    "            # value 는 노드의 출력 값\n",
    "            print(\"[ value ]\", value.keys())\n",
    "\n",
    "            # dummy_data의 key 가 존재하는 경우\n",
    "            if \"dummy_data\" in value:\n",
    "                print(\"[ dummy_data ]\", value[\"dummy_data\"])"
   ]
  },
  {
   "cell_type": "markdown",
   "metadata": {},
   "source": [
    "#### `stream_mode` 옵션\n",
    "\n",
    "`stream_mode` 옵션은 스트리밍 모드를 지정하는 옵션입니다.  \n",
    "  \n",
    "- values: 각 단계의 현재 상태 값 출력합니다.\n",
    "- updates: 각 단계의 상태 업데이트만 출력합니다.\n",
    "- debug: 각 단계의 디버그 이벤트 출력합니다.\n",
    "\n",
    "##### `steam_mode` = \"values\" 로 설정하여 스트리밍 모드를 지정합니다.  \n",
    "\n",
    "`values` 모드는 각 단계의 현재 상태 값을 출력합니다.\n"
   ]
  },
  {
   "cell_type": "code",
   "execution_count": 10,
   "metadata": {},
   "outputs": [
    {
     "name": "stdout",
     "output_type": "stream",
     "text": [
      "\n",
      "[ messages ]\n",
      "\n",
      "메시지 개수: 1\n",
      "\n",
      "[ dummy_data ]\n",
      "\n",
      "==============================  단계  ==============================\n",
      "\n",
      "[ messages ]\n",
      "\n",
      "메시지 개수: 2\n",
      "\n",
      "[ dummy_data ]\n",
      "\n",
      "==============================  단계  ==============================\n",
      "\n",
      "[ messages ]\n",
      "\n",
      "메시지 개수: 3\n",
      "\n",
      "[ dummy_data ]\n",
      "\n",
      "==============================  단계  ==============================\n",
      "\n",
      "[ messages ]\n",
      "\n",
      "메시지 개수: 4\n",
      "\n",
      "[ dummy_data ]\n",
      "\n",
      "==============================  단계  ==============================\n"
     ]
    }
   ],
   "source": []
  },
  {
   "cell_type": "markdown",
   "metadata": {},
   "source": [
    "##### `stream_mode = \"updates\"`\n",
    "updates 모드는 각 단계에 대한 업데이트된 State 만 내보냅니다.  \n",
    "  \n",
    "출력은 노드 이름을 key 로, 업데이트된 값을 values 으로 하는 dictionary 입니다.  "
   ]
  },
  {
   "cell_type": "code",
   "execution_count": 49,
   "metadata": {},
   "outputs": [
    {
     "name": "stdout",
     "output_type": "stream",
     "text": [
      "\n",
      "[ chatbot ]\n",
      "\n",
      "dict_keys(['messages', 'dummy_data'])\n",
      "메시지 개수: 1\n",
      "==============================  단계  ==============================\n",
      "\n",
      "[ tools ]\n",
      "\n",
      "dict_keys(['messages'])\n",
      "메시지 개수: 1\n",
      "==============================  단계  ==============================\n",
      "\n",
      "[ chatbot ]\n",
      "\n",
      "dict_keys(['messages', 'dummy_data'])\n",
      "메시지 개수: 1\n",
      "==============================  단계  ==============================\n"
     ]
    }
   ],
   "source": [
    "question = \"2024년 노벨 문학상 관련 뉴스를 알려주세요.\"\n",
    "\n",
    "input = State(dummy_data=\"테스트 문자열\", messages=[(\"user\", question)])\n",
    "\n",
    "config = RunnableConfig(\n",
    "    recursion_limit=10,\n",
    "    configurable={\"thread_id\": \"1\"},\n",
    "    tags=[\"my-rag\"],\n",
    ")\n",
    "\n",
    "for event in graph.stream(\n",
    "    input=input,\n",
    "    stream_mode=\"updates\",\n",
    "):\n",
    "    for key, value in event.items():\n",
    "        print(f\"\\n[ {key} ]\\n\")\n",
    "        print(value.keys())\n",
    "\n",
    "        if \"messages\" in value:\n",
    "            print(f\"메시지 개수: {len(value['messages'])}\")\n",
    "    print(\"===\" * 10, \" 단계 \", \"===\" * 10)"
   ]
  },
  {
   "cell_type": "markdown",
   "metadata": {},
   "source": [
    "##### `interrupt_before 와 interrupt_after 옵션`\n",
    "\n",
    "`interrupt_before` 와 `interrupt_after` 옵션은 스트리밍 중단 시점을 지정하는 데 사용됩니다.\n",
    "\n",
    "- `interrupt_before`: 지정된 노드 이전에 스트리밍 중단\n",
    "- `interrupt_after`: 지정된 노드 이후에 스트리밍 중단\n"
   ]
  },
  {
   "cell_type": "code",
   "execution_count": 45,
   "metadata": {},
   "outputs": [
    {
     "name": "stdout",
     "output_type": "stream",
     "text": [
      "\n",
      "[chatbot]\n",
      "\n",
      "dict_keys(['messages', 'dummy_data'])\n",
      "[AIMessage(content='', additional_kwargs={'tool_calls': [{'id': 'call_QwlMbcZSCtx4Pj5PSZtyeYyE', 'function': {'arguments': '{\"query\":\"2024년 노벨 문학상\"}', 'name': 'search_keyword'}, 'type': 'function'}], 'refusal': None}, response_metadata={'token_usage': {'completion_tokens': 21, 'prompt_tokens': 57, 'total_tokens': 78, 'completion_tokens_details': {'accepted_prediction_tokens': 0, 'audio_tokens': 0, 'reasoning_tokens': 0, 'rejected_prediction_tokens': 0}, 'prompt_tokens_details': {'audio_tokens': 0, 'cached_tokens': 0}}, 'model_name': 'gpt-4o-mini-2024-07-18', 'system_fingerprint': 'fp_bba3c8e70b', 'finish_reason': 'tool_calls', 'logprobs': None}, id='run-ec4ec3ee-4d09-4152-ba72-86591186b4c3-0', tool_calls=[{'name': 'search_keyword', 'args': {'query': '2024년 노벨 문학상'}, 'id': 'call_QwlMbcZSCtx4Pj5PSZtyeYyE', 'type': 'tool_call'}], usage_metadata={'input_tokens': 57, 'output_tokens': 21, 'total_tokens': 78, 'input_token_details': {'audio': 0, 'cache_read': 0}, 'output_token_details': {'audio': 0, 'reasoning': 0}})]\n",
      "메시지 개수: 1\n",
      "==============================  단계  ==============================\n",
      "\n",
      "[__interrupt__]\n",
      "\n",
      "==============================  단계  ==============================\n"
     ]
    }
   ],
   "source": [
    "# 질문\n",
    "question = \"2024년 노벨 문학상 관련 뉴스를 알려주세요.\"\n",
    "\n",
    "# 초기 입력 State 를 정의\n",
    "input = State(dummy_data=\"테스트 문자열\", messages=[(\"user\", question)])\n",
    "\n",
    "# config 설정\n",
    "config = RunnableConfig(\n",
    "    recursion_limit=10,  # 최대 10개의 노드까지 방문. 그 이상은 RecursionError 발생\n",
    "    configurable={\"thread_id\": \"1\"},  # 스레드 ID 설정\n",
    "    tags=[\"my-rag\"],  # Tag\n",
    ")\n",
    "\n",
    "for event in graph.stream(\n",
    "    input=input,\n",
    "    config=config,\n",
    "    stream_mode=\"updates\",  # 기본값\n",
    "    interrupt_before=[\"tools\"],  # tools 노드 이전에 스트리밍 중단\n",
    "):\n",
    "    for key, value in event.items():\n",
    "        # key 는 노드 이름\n",
    "        print(f\"\\n[{key}]\\n\")\n",
    "\n",
    "        # value 는 노드의 출력값\n",
    "        if isinstance(value, dict):\n",
    "            print(value.keys())\n",
    "            if \"messages\" in value:\n",
    "                print(value[\"messages\"])\n",
    "\n",
    "        # value 에는 state 가 dict 형태로 저장(values 의 key 값)\n",
    "        if \"messages\" in value:\n",
    "            print(f\"메시지 개수: {len(value['messages'])}\")\n",
    "    print(\"===\" * 10, \" 단계 \", \"===\" * 10)"
   ]
  },
  {
   "cell_type": "code",
   "execution_count": 46,
   "metadata": {},
   "outputs": [
    {
     "name": "stdout",
     "output_type": "stream",
     "text": [
      "\n",
      "[__interrupt__]\n",
      "\n",
      "dict_keys(['messages', 'dummy_data'])\n",
      "[AIMessage(content='', additional_kwargs={'tool_calls': [{'id': 'call_z1HgsthHjpplGRAjKOgEahp3', 'function': {'arguments': '{\"query\":\"2024년 노벨 문학상\"}', 'name': 'search_keyword'}, 'type': 'function'}], 'refusal': None}, response_metadata={'token_usage': {'completion_tokens': 21, 'prompt_tokens': 57, 'total_tokens': 78, 'completion_tokens_details': {'accepted_prediction_tokens': 0, 'audio_tokens': 0, 'reasoning_tokens': 0, 'rejected_prediction_tokens': 0}, 'prompt_tokens_details': {'audio_tokens': 0, 'cached_tokens': 0}}, 'model_name': 'gpt-4o-mini-2024-07-18', 'system_fingerprint': 'fp_bba3c8e70b', 'finish_reason': 'tool_calls', 'logprobs': None}, id='run-8898e306-3c35-42c2-b405-560109faf719-0', tool_calls=[{'name': 'search_keyword', 'args': {'query': '2024년 노벨 문학상'}, 'id': 'call_z1HgsthHjpplGRAjKOgEahp3', 'type': 'tool_call'}], usage_metadata={'input_tokens': 57, 'output_tokens': 21, 'total_tokens': 78, 'input_token_details': {'audio': 0, 'cache_read': 0}, 'output_token_details': {'audio': 0, 'reasoning': 0}})]\n",
      "메시지 개수: 1\n",
      "\n",
      "[__interrupt__]\n",
      "\n",
      "dict_keys(['messages'])\n",
      "[ToolMessage(content='[{\"url\": \"https://news.google.com/rss/articles/CBMiggFBVV95cUxNWEF1akxLeHFsZ2pVT1VrT0xqNmdEUnBuUkxxazZkZ0JubVEwMjMxSkxkMUJpS0lyUWdhZlAtZlBxMWdBSkFMZWNmWVk3b1Q2Tzl6RHBiRE5kX09RS0V5WDZiSzJNMG82blM0cU9MXzYtbGJzYXBRZ0FuQ01MYkJkc2Rn?oc=5\", \"content\": \"한강, 노벨상 시상식 섰다…“글 속의 인물들 결코 잊힐 수 없어” - 한겨레\"}, {\"url\": \"https://news.google.com/rss/articles/CBMi6AFBVV95cUxPOTJDcW15YnVXQ1BmZFl0OGhWaURDUlo5UU54bEpRZVNtWXhFX3AzX2tZOHA3S1d2N2ljWUNFeDhVOFhDMGRFM2diaGhfUER4XzFRdVZpYVNJQjAzaEV3V2x4RjAzWEFGUnhQcm0zQkhUeVIzeGVRN0JkZlEyU192UFdjdEVrckdxdVBZWHdxV05LTU9hckw4RHl1NDI5TG5Qc0RzOV9iSVR5ZE5DR1V2cE85LVI5eEtMelBJWkM1TWg4U242N3QtUjIxRndNWXpPVTl4NGJEQjNXekFpYnN0T0lVWGpiRG5C?oc=5\", \"content\": \"한강, 2024 노벨 문학상 수상의 순간 - 보그 코리아\"}, {\"url\": \"https://news.google.com/rss/articles/CBMiVEFVX3lxTE9ncG5WS2Z6aUc4Sm03RWlDTGtYdmlHZG9WTVpMdTE3c240eVZ2d0tsZmdFa0t4NHhpYWRDellRV1Q2eVQ5ZDEtc0xfQUVaa2lrcUZDRg?oc=5\", \"content\": \"“문학은 생명 파괴에 맞서는 일” 한강, 세계를 울렸다 [2024 노벨문학상] - 매일경제\"}, {\"url\": \"https://news.google.com/rss/articles/CBMihwFBVV95cUxPTG1uVHBfYS1GQTd6MWJRSUFndkFubndWMEpCaFhVdXYzS2RackwwQzM3VWdnTVRLWGNwbXM1SzdGV2Rad3dvQ1IzVzd0LW5jcElBQ094NU5BeEppV2JEcDFSTUJWelowa0N6Yl9tSlA0RElDVUEzdUxFclZZWFRNVmd5bTEyYWs?oc=5\", \"content\": \"한강, 대한민국 최초 노벨문학상 수상… 역대 노벨문학상 수상자는? - 조선에듀\"}, {\"url\": \"https://news.google.com/rss/articles/CBMiWkFVX3lxTE9Sa1l6Q3ZBOWFwaXJHcFpuTkd4WkFyMGROQVJIdjJpZkFqcFI2UHZMYUg4VzhuOGY3eVI2bmpSOVMwYUxyNkh2US05QTR1SVkwSm94LWtwUlZhZ9IBVEFVX3lxTE9tNTZmOXB4OGMwRUp1OGVEVjYyd0U3OVBGM3ZNNVdfZ3l0RmhXUnRhMllOMUpWVi10bnI2WGxmMVdET01CUFFFem93NmRPODl4elZlTw?oc=5\", \"content\": \"한강 \\\\\"문학이란 생명 파괴하는 모든 행위에 반대하는 것\\\\\" - 한국경제\"}]', name='search_keyword', id='a9dbd787-22a9-4b34-ae99-b68dd1426481', tool_call_id='call_z1HgsthHjpplGRAjKOgEahp3')]\n",
      "메시지 개수: 1\n",
      "\n",
      "[__interrupt__]\n",
      "\n"
     ]
    }
   ],
   "source": [
    "# 질문\n",
    "question = \"2024년 노벨 문학상 관련 뉴스를 알려주세요.\"\n",
    "\n",
    "# 초기 입력 State 를 정의\n",
    "input = State(dummy_data=\"테스트 문자열\", messages=[(\"user\", question)])\n",
    "\n",
    "# config 설정\n",
    "config = RunnableConfig(\n",
    "    recursion_limit=10,  # 최대 10개의 노드까지 방문. 그 이상은 RecursionError 발생\n",
    "    configurable={\"thread_id\": \"1\"},  # 스레드 ID 설정\n",
    "    tags=[\"my-rag\"],  # Tag\n",
    ")\n",
    "\n",
    "for event in graph.stream(\n",
    "    input=input,\n",
    "    config=config,\n",
    "    stream_mode=\"updates\",\n",
    "    interrupt_after=[\"tools\"],  # tools 실행 후 interrupt\n",
    "):\n",
    "    for value in event.values():\n",
    "        # key 는 노드 이름\n",
    "        print(f\"\\n[{key}]\\n\")\n",
    "\n",
    "        if isinstance(value, dict):\n",
    "            # value 는 노드의 출력값\n",
    "            print(value.keys())\n",
    "            if \"messages\" in value:\n",
    "                print(value[\"messages\"])\n",
    "\n",
    "        # value 에는 state 가 dict 형태로 저장(values 의 key 값)\n",
    "        if \"messages\" in value:\n",
    "            print(f\"메시지 개수: {len(value['messages'])}\")"
   ]
  }
 ],
 "metadata": {
  "kernelspec": {
   "display_name": "langchain-note-2024-PFhCXHTX-py3.12",
   "language": "python",
   "name": "python3"
  },
  "language_info": {
   "codemirror_mode": {
    "name": "ipython",
    "version": 3
   },
   "file_extension": ".py",
   "mimetype": "text/x-python",
   "name": "python",
   "nbconvert_exporter": "python",
   "pygments_lexer": "ipython3",
   "version": "3.12.7"
  }
 },
 "nbformat": 4,
 "nbformat_minor": 2
}
