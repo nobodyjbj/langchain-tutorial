{
 "cells": [
  {
   "cell_type": "code",
   "execution_count": 4,
   "metadata": {},
   "outputs": [
    {
     "data": {
      "text/plain": [
       "True"
      ]
     },
     "execution_count": 4,
     "metadata": {},
     "output_type": "execute_result"
    }
   ],
   "source": [
    "from dotenv import load_dotenv\n",
    "import sys\n",
    "\n",
    "sys.path.append(\"../../common\")\n",
    "load_dotenv()"
   ]
  },
  {
   "cell_type": "code",
   "execution_count": 8,
   "metadata": {},
   "outputs": [
    {
     "name": "stdout",
     "output_type": "stream",
     "text": [
      "Langsmith 추적이 활성화되었습니다. [프로젝트명: 17.LangGraph]\n"
     ]
    }
   ],
   "source": [
    "import os\n",
    "from langsmith_tracker import set_tracking\n",
    "\n",
    "# 인스턴스를 생성할 때 필요한 매개변수를 전달합니다.\n",
    "set_tracking(project_name=\"17.LangGraph\")"
   ]
  },
  {
   "cell_type": "markdown",
   "metadata": {},
   "source": [
    "### Agent 에 메모리(Memory) 추가\n",
    "\n",
    "LangGraph 에서는 메모리를 추가하기 위한 방법입니다.  \n",
    "  \n",
    "`LangGraph`에서는 **persistent checkpointing** 을 통해 메모리 기능을 사용합니다.  \n",
    "  \n",
    "그래프를 컴파일할때!, `checkpointer`를 제공하고 그래프를 호출할 때! `thread_id`를 제공하면, `LangGraph`는 각 단계 후 **상태를 자동으로 저장**합니다. 동일한 `thread_id`를 사용하여 그래프를 호출하면, 그래프는 저장된 상태를 로드하여 챗봇이 이전에 중단한 지점에서 대화를 이어갈 수 있습니다.  \n",
    "  \n",
    "**checkpointing** 은 LangChain 의 메모리 기능보다 훨씬 강력합니다.\n",
    "\n",
    "멀티턴(multi-turn) 대화를 가능하게 하기 위해 **checkpointing**을 추가하기 위해 `MemorySaver`를 생성합니다.   \n",
    "  \n",
    "`MemorySaver`는 메모리를 저장하고 로드하는 역할을 합니다. \n",
    "  \n",
    "메모리를 생성하는 여러가지입니다. 이번 예제에서는 `in-memory` 방식을 사용합니다.   \n",
    "  \n",
    "프로덕션 단계에서는 이것을 `SqliteSaver` 또는 `PostgresSaver` 로 변경하고 DB에 연결하여 사용할 수 있습니다.   \n",
    "\n",
    "\n",
    "#### LLM의 도구 바인딩과 툴 노드 구성하는 이유\n",
    "\n",
    "이것은 LangGraph에서 도구(Tool)를 사용할 때의 중요한 아키텍처적 구분입니다. 두 부분에서 도구를 설정하는 이유는 다음과 같습니다:\n",
    "\n",
    "1. LLM의 bind_tools\n",
    "- 이것은 LLM이 도구의 존재를 **\"인식\"하고 도구를 \"호출하기 위한\" 것**입니다\n",
    "- LLM에게 어떤 도구들이 사용 가능한지 알려주는 역할을 합니다\n",
    "- LLM은 이를 통해 도구 호출을 위한 함수 콜을 생성할 수 있게 됩니다\n",
    "\n",
    "2. Tool Node의 도구\n",
    "- 이것은 실제로 도구를 **\"실행\"하기 위한 것**입니다\n",
    "- LLM이 도구 호출을 요청했을 때, 실제로 그 도구를 실행하는 역할을 담당합니다\n",
    "- 도구 노드는 LLM이 생성한 함수 콜을 받아서 실제 도구를 실행하고 결과를 반환합니다. 즉, 이것은 \"계획\"과 \"실행\"의 분리라고 볼 수 있습니다:\n",
    "- LLM은 도구를 사용하기로 \"계획\"합니다 (bind_tools)\n",
    "- Tool Node는 그 계획을 실제로 \"실행\"합니다 (BasicToolNode)\n",
    "\n",
    "이러한 분리는 관심사의 분리(Separation of Concerns) 원칙을 따르며, 각 컴포넌트가 자신의 역할에만 집중할 수 있게 해줍니다."
   ]
  },
  {
   "cell_type": "code",
   "execution_count": 15,
   "metadata": {},
   "outputs": [],
   "source": [
    "from langgraph.checkpoint.memory import MemorySaver\n",
    "\n",
    "# 메모리 저장소 생성\n",
    "memory = MemorySaver()"
   ]
  },
  {
   "cell_type": "code",
   "execution_count": 14,
   "metadata": {},
   "outputs": [
    {
     "data": {
      "text/plain": [
       "<langgraph.graph.state.StateGraph at 0x128f94170>"
      ]
     },
     "execution_count": 14,
     "metadata": {},
     "output_type": "execute_result"
    }
   ],
   "source": [
    "from typing import Annotated\n",
    "from typing_extensions import TypedDict\n",
    "from langchain_openai import ChatOpenAI\n",
    "from tools_tavily import TavilySearch\n",
    "from langgraph.graph import StateGraph, START, END\n",
    "from langgraph.graph.message import add_messages\n",
    "from langgraph.prebuilt import ToolNode, tools_condition\n",
    "\n",
    "\n",
    "##### 1. 상태(State) 정의\n",
    "class State(TypedDict):\n",
    "    # 메모리 저장소 추가\n",
    "    messages: Annotated[list, add_messages]\n",
    "\n",
    "\n",
    "##### 2. 도구 정의 및 바인딩\n",
    "# 도구 초기화\n",
    "tool = TavilySearch()\n",
    "tools = [tool]\n",
    "\n",
    "# llm 초기화\n",
    "llm = ChatOpenAI(model=\"gpt-4o-mini\", temperature=0)\n",
    "\n",
    "# llm과 도구 바인디\n",
    "llm_with_tools = llm.bind_tools(tools)\n",
    "\n",
    "\n",
    "##### 3. 노드 추가\n",
    "# 챗봇 함수 정의, 노드 정의\n",
    "def chatbot(state: State):\n",
    "    # 메시지 호출 및 반환\n",
    "    return {\"messages\": llm_with_tools.invoke(state[\"messages\"])}\n",
    "\n",
    "\n",
    "# 상태 그래프 생성\n",
    "graph_builder = StateGraph(State)\n",
    "\n",
    "# 챗봇 노드 추가\n",
    "graph_builder.add_node(\"chatbot\", chatbot)\n",
    "\n",
    "# 도구 노드 생성 및 추가\n",
    "tool_node = ToolNode(tools=[tool])\n",
    "\n",
    "# 도구 노드 추가\n",
    "graph_builder.add_node(\"tools\", tool_node)\n",
    "\n",
    "# 조건부 엣지\n",
    "graph_builder.add_conditional_edges(\n",
    "    \"chatbot\",\n",
    "    tools_condition,\n",
    ")\n",
    "\n",
    "##### 4. 엣지 추가\n",
    "# START > chatbot\n",
    "graph_builder.add_edge(START, \"chatbot\")\n",
    "\n",
    "# tools > chatbot\n",
    "graph_builder.add_edge(\"tools\", \"chatbot\")\n",
    "\n",
    "# chatbot > END\n",
    "graph_builder.add_edge(\"chatbot\", END)"
   ]
  },
  {
   "cell_type": "markdown",
   "metadata": {},
   "source": [
    "`checkerpointer` 를 사용하여 그래프를 컴파일합니다."
   ]
  },
  {
   "cell_type": "code",
   "execution_count": 17,
   "metadata": {},
   "outputs": [],
   "source": [
    "graph = graph_builder.compile(checkpointer=memory)"
   ]
  },
  {
   "cell_type": "markdown",
   "metadata": {},
   "source": [
    "그래프가 각 노드를 처리하면서 `State` 를 체크포인트(저장하고 로드)합니다."
   ]
  },
  {
   "cell_type": "code",
   "execution_count": 18,
   "metadata": {},
   "outputs": [
    {
     "data": {
      "image/png": "[encoded data removed]",
      "text/plain": [
       "<IPython.core.display.Image object>"
      ]
     },
     "metadata": {},
     "output_type": "display_data"
    }
   ],
   "source": [
    "from graphs import visualize_graph\n",
    "\n",
    "visualize_graph(graph)"
   ]
  },
  {
   "cell_type": "markdown",
   "metadata": {},
   "source": [
    "#### Runnable Config 설정\n",
    "\n",
    "RunnableConfig는 LangChain의 실행 가능한 컴포넌트(Runnable)의 동작을 구성하는 데 사용되는 설정 클래스입니다. 주요 파라미터들은 다음과 같습니다:  \n",
    "  \n",
    "**사용 목적**\n",
    "  \n",
    "1. 실행 제어:\n",
    "    - 재귀 한계, 동시성 제한 등을 통해 실행을 제어\n",
    "    - 안전하고 예측 가능한 동작 보장\n",
    "\n",
    "2. 상태 관리:\n",
    "    - thread_id를 통해 대화 세션의 상태를 추적\n",
    "    - 메모리와 체크포인트 기능을 활용 가능\n",
    "\n",
    "3. 모니터링과 디버깅:\n",
    "    - 콜백과 메타데이터를 통해 실행을 모니터링\n",
    "    - 문제 해결을 위한 정보 제공\n",
    "\n",
    "예제에서는 recursion_limit와 thread_id만 사용되었지만, 필요에 따라 다른 파라미터들을 추가하여 더 세밀한 제어가 가능합니다.  \n",
    "  \n",
    "  \n",
    "**주요 파라미터**  \n",
    "1. recursion_limit (int, optional)\n",
    "    - 재귀 호출의 최대 깊이를 제한\n",
    "    - 무한 루프를 방지하기 위한 안전장치\n",
    "    - 예제에서는 10으로 설정되어 있음\n",
    "2. thread_id (str, optional)\n",
    "    -  대화 세션을 구분하는 고유 식별자\n",
    "    - 메모리/체크포인트 기능에서 상태를 저장하고 불러올 때 사용\n",
    "    - 다른 대화 세션과 구분하기 위해 사용\n",
    "\n",
    "3. 그 외 주요 파라미터들 \n",
    "```python\n",
    "   RunnableConfig(\n",
    "       callbacks: Optional[List[BaseCallbackHandler]] = None,  # 콜백 핸들러\n",
    "       tags: Optional[List[str]] = None,  # 실행을 태깅하기 위한 문자열 리스트\n",
    "       metadata: Optional[Dict[str, Any]] = None,  # 추가 메타데이터\n",
    "       run_name: Optional[str] = None,  # 실행의 이름\n",
    "       configurable: Optional[Dict[str, Any]] = None,  # 구성 가능한 필드\n",
    "       max_concurrency: Optional[int] = None,  # 동시 실행 제한\n",
    "       run_traceback: bool = False,  # 트레이스백 포함 여부\n",
    "   )\n",
    "```"
   ]
  },
  {
   "cell_type": "code",
   "execution_count": 24,
   "metadata": {},
   "outputs": [],
   "source": [
    "from langchain_core.runnables import RunnableConfig\n",
    "\n",
    "config = RunnableConfig(\n",
    "    recursion_limit=10,  # 최대 10개의 노드까지 방문, 그 이상은 RecursionError 발생\n",
    "    configurable={\"thread_id\": \"1\"},  # 스레드 ID 생성\n",
    ")"
   ]
  },
  {
   "cell_type": "code",
   "execution_count": 31,
   "metadata": {},
   "outputs": [
    {
     "name": "stdout",
     "output_type": "stream",
     "text": [
      "==================================\u001b[1m Ai Message \u001b[0m==================================\n",
      "\n",
      "솔라나(Solana)는 빠른 거래 속도와 낮은 수수료로 유명한 블록체인 플랫폼입니다. DeFi(탈중앙화 금융)와 NFT(대체 불가능한 토큰) 생태계에서 많은 인기를 끌고 있으며, 다양한 프로젝트와 애플리케이션이 솔라나 네트워크에서 운영되고 있습니다.\n",
      "\n",
      "솔라나의 주요 특징 중 하나는 높은 처리량을 자랑하는데, 이는 많은 거래를 동시에 처리할 수 있는 능력을 의미합니다. 또한, 개발자들이 쉽게 애플리케이션을 구축할 수 있도록 다양한 도구와 리소스를 제공하고 있습니다.\n",
      "\n",
      "솔라나에 대해 더 알고 싶거나, 특정 질문이 있으신가요?\n"
     ]
    }
   ],
   "source": [
    "# 첫 질문\n",
    "question = \"코인은 가상자산입니다. 대표적으로, `비트코인, 이더리움, 솔라나` 등이 있습니다. 제가 보유한 코인은 `솔라나` 입니다.\"\n",
    "\n",
    "for event in graph.stream({\"messages\": [(\"user\", question)]}, config=config):\n",
    "    for value in event.values():\n",
    "        value[\"messages\"].pretty_print()"
   ]
  },
  {
   "cell_type": "code",
   "execution_count": 32,
   "metadata": {},
   "outputs": [
    {
     "name": "stdout",
     "output_type": "stream",
     "text": [
      "==================================\u001b[1m Ai Message \u001b[0m==================================\n",
      "\n",
      "당신이 보유한 코인의 이름은 **솔라나(Solana)**입니다.\n"
     ]
    }
   ],
   "source": [
    "# 이어지는 질문\n",
    "question = \"제가 보유한 코인의 이름은 무엇인가요?\"\n",
    "\n",
    "for event in graph.stream({\"messages\": [(\"user\", question)]}, config=config):\n",
    "    for value in event.values():\n",
    "        value[\"messages\"].pretty_print()"
   ]
  },
  {
   "cell_type": "markdown",
   "metadata": {},
   "source": [
    "스레드 아이디를 변경한 뒤, 이전의 대화를 기억하는지 확인합니다. 예사으로는 기억하고 있지 않아야 합니다."
   ]
  },
  {
   "cell_type": "code",
   "execution_count": 33,
   "metadata": {},
   "outputs": [
    {
     "name": "stdout",
     "output_type": "stream",
     "text": [
      "==================================\u001b[1m Ai Message \u001b[0m==================================\n",
      "\n",
      "보유하고 있는 코인의 이름을 알기 위해서는 추가적인 정보가 필요합니다. 어떤 코인을 보유하고 있는지에 대한 정보를 제공해 주시면, 그에 대한 도움을 드릴 수 있습니다.\n"
     ]
    }
   ],
   "source": [
    "from langchain_core.runnables import RunnableConfig\n",
    "\n",
    "question = \"제가 보유한 코인의 이름은 무엇인가요?\"\n",
    "\n",
    "config = RunnableConfig(\n",
    "    recursion_limit=10,  # 최대 10개의 노드까지 방문. 그 이상은 RecursionError 발생\n",
    "    configurable={\"thread_id\": \"2\"},  # 스레드 ID 설정\n",
    ")\n",
    "\n",
    "for event in graph.stream({\"messages\": [(\"user\", question)]}, config=config):\n",
    "    for value in event.values():\n",
    "        value[\"messages\"].pretty_print()"
   ]
  },
  {
   "cell_type": "markdown",
   "metadata": {},
   "source": [
    "#### 스냅샷: 정의된 State 확인\n",
    "\n",
    "`Checkpoint` 에는 현재 상태 값, 해당 구성, 그리고 처리할 `next` 노드가 포함되어 있습니다.  \n",
    "  \n",
    "그래프의 `state` 를 검사하기 위해서는 `get_state(config)` 함수를 사용합니다."
   ]
  },
  {
   "cell_type": "code",
   "execution_count": 34,
   "metadata": {},
   "outputs": [
    {
     "data": {
      "text/plain": [
       "[HumanMessage(content='코인은 가상자산입니다. 대표적으로, `비트코인, 이더리움, 솔라나` 등이 있습니다.', additional_kwargs={}, response_metadata={}, id='7da7afe9-28bf-49d1-8a4f-14cf4d3f0a91'),\n",
       " AIMessage(content='맞습니다! 코인은 가상자산의 일종으로, 디지털 형태로 존재하며 블록체인 기술을 기반으로 합니다. 비트코인(BTC)은 최초의 암호화폐로 가장 널리 알려져 있으며, 이더리움(ETH)은 스마트 계약 기능을 제공하는 플랫폼으로 유명합니다. 솔라나(SOL)는 빠른 거래 속도와 낮은 수수료로 주목받고 있는 블록체인입니다. 이 외에도 많은 다른 코인들이 있으며, 각각의 특성과 용도가 다릅니다. 추가로 궁금한 점이 있으신가요?', additional_kwargs={'refusal': None}, response_metadata={'token_usage': {'completion_tokens': 132, 'prompt_tokens': 120, 'total_tokens': 252, 'completion_tokens_details': {'accepted_prediction_tokens': 0, 'audio_tokens': 0, 'reasoning_tokens': 0, 'rejected_prediction_tokens': 0}, 'prompt_tokens_details': {'audio_tokens': 0, 'cached_tokens': 0}}, 'model_name': 'gpt-4o-mini-2024-07-18', 'system_fingerprint': 'fp_bba3c8e70b', 'finish_reason': 'stop', 'logprobs': None}, id='run-59dd1393-a8b0-45ba-b3fa-8b518d76fd14-0', usage_metadata={'input_tokens': 120, 'output_tokens': 132, 'total_tokens': 252, 'input_token_details': {'audio': 0, 'cache_read': 0}, 'output_token_details': {'audio': 0, 'reasoning': 0}}),\n",
       " HumanMessage(content='코인은 가상자산입니다. 대표적으로, `비트코인, 이더리움, 솔라나` 등이 있습니다.', additional_kwargs={}, response_metadata={}, id='bb9d5d7c-80ab-4ea5-8e62-aefb9a4e325e'),\n",
       " AIMessage(content='네, 맞습니다! 코인은 가상자산의 한 종류로, 디지털 형태로 존재하며 블록체인 기술을 기반으로 합니다. \\n\\n- **비트코인(BTC)**: 최초의 암호화폐로, 디지털 금이라고도 불리며 가치 저장 수단으로 많이 사용됩니다.\\n- **이더리움(ETH)**: 스마트 계약 기능을 제공하는 플랫폼으로, 다양한 분산 애플리케이션(dApp)을 지원합니다.\\n- **솔라나(SOL)**: 높은 거래 속도와 낮은 수수료로 유명하며, DeFi(탈중앙화 금융) 및 NFT(대체 불가능한 토큰) 생태계에서 인기를 끌고 있습니다.\\n\\n이 외에도 많은 다른 암호화폐들이 있으며, 각각의 특징과 용도가 다릅니다. 더 알고 싶은 내용이 있으신가요?', additional_kwargs={'refusal': None}, response_metadata={'token_usage': {'completion_tokens': 188, 'prompt_tokens': 288, 'total_tokens': 476, 'completion_tokens_details': {'accepted_prediction_tokens': 0, 'audio_tokens': 0, 'reasoning_tokens': 0, 'rejected_prediction_tokens': 0}, 'prompt_tokens_details': {'audio_tokens': 0, 'cached_tokens': 0}}, 'model_name': 'gpt-4o-mini-2024-07-18', 'system_fingerprint': 'fp_bba3c8e70b', 'finish_reason': 'stop', 'logprobs': None}, id='run-d9e6ace4-0ec0-4ada-8ccc-28e172dc60ca-0', usage_metadata={'input_tokens': 288, 'output_tokens': 188, 'total_tokens': 476, 'input_token_details': {'audio': 0, 'cache_read': 0}, 'output_token_details': {'audio': 0, 'reasoning': 0}}),\n",
       " HumanMessage(content='코인은 가상자산입니다. 대표적으로, `비트코인, 이더리움, 솔라나` 등이 있습니다.', additional_kwargs={}, response_metadata={}, id='87ab12b3-bce6-440c-82d6-48f87ea27822'),\n",
       " AIMessage(content='네, 맞습니다! 코인은 가상자산의 일종으로, 디지털 형태로 존재하며 블록체인 기술을 기반으로 합니다. \\n\\n- **비트코인(BTC)**: 최초의 암호화폐로, 디지털 금으로 여겨지며 가치 저장 수단으로 널리 사용됩니다.\\n- **이더리움(ETH)**: 스마트 계약 기능을 제공하는 플랫폼으로, 다양한 분산 애플리케이션(dApp)과 DeFi(탈중앙화 금융) 프로젝트에 사용됩니다.\\n- **솔라나(SOL)**: 빠른 거래 속도와 낮은 수수료로 주목받고 있으며, NFT(대체 불가능한 토큰) 및 DeFi 생태계에서 인기를 끌고 있습니다.\\n\\n이 외에도 많은 다른 암호화폐들이 있으며, 각각의 특성과 용도가 다릅니다. 추가로 궁금한 점이나 더 알고 싶은 내용이 있으신가요?', additional_kwargs={'refusal': None}, response_metadata={'token_usage': {'completion_tokens': 206, 'prompt_tokens': 512, 'total_tokens': 718, 'completion_tokens_details': {'accepted_prediction_tokens': 0, 'audio_tokens': 0, 'reasoning_tokens': 0, 'rejected_prediction_tokens': 0}, 'prompt_tokens_details': {'audio_tokens': 0, 'cached_tokens': 0}}, 'model_name': 'gpt-4o-mini-2024-07-18', 'system_fingerprint': 'fp_bba3c8e70b', 'finish_reason': 'stop', 'logprobs': None}, id='run-cc7f8d73-09f3-4862-807c-58b449005caf-0', usage_metadata={'input_tokens': 512, 'output_tokens': 206, 'total_tokens': 718, 'input_token_details': {'audio': 0, 'cache_read': 0}, 'output_token_details': {'audio': 0, 'reasoning': 0}}),\n",
       " HumanMessage(content='코인은 가상자산입니다. 대표적으로, `비트코인, 이더리움, 솔라나` 등이 있습니다.', additional_kwargs={}, response_metadata={}, id='a16313d1-d7d3-4d60-8a70-da4aa8813a85'),\n",
       " AIMessage(content='네, 맞습니다! 코인은 가상자산의 한 종류로, 디지털 형태로 존재하며 블록체인 기술을 기반으로 합니다. \\n\\n- **비트코인(BTC)**: 최초의 암호화폐로, 디지털 금으로 여겨지며 가치 저장 수단으로 널리 사용됩니다.\\n- **이더리움(ETH)**: 스마트 계약 기능을 제공하는 플랫폼으로, 다양한 분산 애플리케이션(dApp)과 DeFi(탈중앙화 금융) 프로젝트에 사용됩니다.\\n- **솔라나(SOL)**: 빠른 거래 속도와 낮은 수수료로 주목받고 있으며, NFT(대체 불가능한 토큰) 및 DeFi 생태계에서 인기를 끌고 있습니다.\\n\\n이 외에도 많은 다른 암호화폐들이 있으며, 각각의 특성과 용도가 다릅니다. 추가로 궁금한 점이나 더 알고 싶은 내용이 있으신가요?', additional_kwargs={'refusal': None}, response_metadata={'token_usage': {'completion_tokens': 206, 'prompt_tokens': 754, 'total_tokens': 960, 'completion_tokens_details': {'accepted_prediction_tokens': 0, 'audio_tokens': 0, 'reasoning_tokens': 0, 'rejected_prediction_tokens': 0}, 'prompt_tokens_details': {'audio_tokens': 0, 'cached_tokens': 0}}, 'model_name': 'gpt-4o-mini-2024-07-18', 'system_fingerprint': 'fp_bba3c8e70b', 'finish_reason': 'stop', 'logprobs': None}, id='run-a007bb82-b071-46c7-a44b-d4fd58f77460-0', usage_metadata={'input_tokens': 754, 'output_tokens': 206, 'total_tokens': 960, 'input_token_details': {'audio': 0, 'cache_read': 0}, 'output_token_details': {'audio': 0, 'reasoning': 0}}),\n",
       " HumanMessage(content='코인은 가상자산입니다. 대표적으로, `비트코인, 이더리움, 솔라나` 등이 있습니다.', additional_kwargs={}, response_metadata={}, id='009f21e2-33f9-4f6a-a490-cd5139419606'),\n",
       " AIMessage(content='네, 맞습니다! 코인은 가상자산의 일종으로, 디지털 형태로 존재하며 블록체인 기술을 기반으로 합니다. \\n\\n- **비트코인(BTC)**: 최초의 암호화폐로, 디지털 금으로 여겨지며 가치 저장 수단으로 널리 사용됩니다.\\n- **이더리움(ETH)**: 스마트 계약 기능을 제공하는 플랫폼으로, 다양한 분산 애플리케이션(dApp)과 DeFi(탈중앙화 금융) 프로젝트에 사용됩니다.\\n- **솔라나(SOL)**: 빠른 거래 속도와 낮은 수수료로 주목받고 있으며, NFT(대체 불가능한 토큰) 및 DeFi 생태계에서 인기를 끌고 있습니다.\\n\\n이 외에도 많은 다른 암호화폐들이 있으며, 각각의 특성과 용도가 다릅니다. 추가로 궁금한 점이나 더 알고 싶은 내용이 있으신가요?', additional_kwargs={'refusal': None}, response_metadata={'token_usage': {'completion_tokens': 206, 'prompt_tokens': 996, 'total_tokens': 1202, 'completion_tokens_details': {'accepted_prediction_tokens': 0, 'audio_tokens': 0, 'reasoning_tokens': 0, 'rejected_prediction_tokens': 0}, 'prompt_tokens_details': {'audio_tokens': 0, 'cached_tokens': 0}}, 'model_name': 'gpt-4o-mini-2024-07-18', 'system_fingerprint': 'fp_bba3c8e70b', 'finish_reason': 'stop', 'logprobs': None}, id='run-bf50188b-9d80-4880-964d-b73ad9b44c55-0', usage_metadata={'input_tokens': 996, 'output_tokens': 206, 'total_tokens': 1202, 'input_token_details': {'audio': 0, 'cache_read': 0}, 'output_token_details': {'audio': 0, 'reasoning': 0}}),\n",
       " HumanMessage(content='코인은 가상자산입니다. 대표적으로, `비트코인, 이더리움, 솔라나` 등이 있습니다.', additional_kwargs={}, response_metadata={}, id='6e879e29-bf3c-4678-b3c1-0c2897225c81'),\n",
       " AIMessage(content='네, 맞습니다! 코인은 가상자산의 한 종류로, 디지털 형태로 존재하며 블록체인 기술을 기반으로 합니다. \\n\\n- **비트코인(BTC)**: 최초의 암호화폐로, 디지털 금으로 여겨지며 가치 저장 수단으로 널리 사용됩니다.\\n- **이더리움(ETH)**: 스마트 계약 기능을 제공하는 플랫폼으로, 다양한 분산 애플리케이션(dApp)과 DeFi(탈중앙화 금융) 프로젝트에 사용됩니다.\\n- **솔라나(SOL)**: 빠른 거래 속도와 낮은 수수료로 주목받고 있으며, NFT(대체 불가능한 토큰) 및 DeFi 생태계에서 인기를 끌고 있습니다.\\n\\n이 외에도 많은 다른 암호화폐들이 있으며, 각각의 특성과 용도가 다릅니다. 추가로 궁금한 점이나 더 알고 싶은 내용이 있으신가요?', additional_kwargs={'refusal': None}, response_metadata={'token_usage': {'completion_tokens': 206, 'prompt_tokens': 1238, 'total_tokens': 1444, 'completion_tokens_details': {'accepted_prediction_tokens': 0, 'audio_tokens': 0, 'reasoning_tokens': 0, 'rejected_prediction_tokens': 0}, 'prompt_tokens_details': {'audio_tokens': 0, 'cached_tokens': 1152}}, 'model_name': 'gpt-4o-mini-2024-07-18', 'system_fingerprint': 'fp_bba3c8e70b', 'finish_reason': 'stop', 'logprobs': None}, id='run-408ed544-0627-471f-bb22-514dab2396f9-0', usage_metadata={'input_tokens': 1238, 'output_tokens': 206, 'total_tokens': 1444, 'input_token_details': {'audio': 0, 'cache_read': 1152}, 'output_token_details': {'audio': 0, 'reasoning': 0}}),\n",
       " HumanMessage(content='코인은 가상자산입니다. 대표적으로, `비트코인, 이더리움, 솔라나` 등이 있습니다. 제가 보유한 코인은 `솔라나` 입니다.', additional_kwargs={}, response_metadata={}, id='db3761b8-4190-4037-8bcb-3f0f110a99ef'),\n",
       " AIMessage(content='솔라나(Solana)는 빠른 거래 속도와 낮은 수수료로 유명한 블록체인 플랫폼입니다. DeFi(탈중앙화 금융)와 NFT(대체 불가능한 토큰) 생태계에서 많은 인기를 끌고 있으며, 다양한 프로젝트와 애플리케이션이 솔라나 네트워크에서 운영되고 있습니다.\\n\\n솔라나의 주요 특징 중 하나는 높은 처리량을 자랑하는데, 이는 많은 거래를 동시에 처리할 수 있는 능력을 의미합니다. 또한, 개발자들이 쉽게 애플리케이션을 구축할 수 있도록 다양한 도구와 리소스를 제공하고 있습니다.\\n\\n솔라나에 대해 더 알고 싶거나, 특정 질문이 있으신가요?', additional_kwargs={'refusal': None}, response_metadata={'token_usage': {'completion_tokens': 157, 'prompt_tokens': 1493, 'total_tokens': 1650, 'completion_tokens_details': {'accepted_prediction_tokens': 0, 'audio_tokens': 0, 'reasoning_tokens': 0, 'rejected_prediction_tokens': 0}, 'prompt_tokens_details': {'audio_tokens': 0, 'cached_tokens': 1280}}, 'model_name': 'gpt-4o-mini-2024-07-18', 'system_fingerprint': 'fp_bba3c8e70b', 'finish_reason': 'stop', 'logprobs': None}, id='run-355226c4-cba7-4d3a-8b1d-2442cfe482f2-0', usage_metadata={'input_tokens': 1493, 'output_tokens': 157, 'total_tokens': 1650, 'input_token_details': {'audio': 0, 'cache_read': 1280}, 'output_token_details': {'audio': 0, 'reasoning': 0}}),\n",
       " HumanMessage(content='제가 보유한 코인의 이름은 무엇인가요?', additional_kwargs={}, response_metadata={}, id='43e8b0e4-6f68-4d4a-b63d-9cadfab4737b'),\n",
       " AIMessage(content='당신이 보유한 코인의 이름은 **솔라나(Solana)**입니다.', additional_kwargs={'refusal': None}, response_metadata={'token_usage': {'completion_tokens': 20, 'prompt_tokens': 1669, 'total_tokens': 1689, 'completion_tokens_details': {'accepted_prediction_tokens': 0, 'audio_tokens': 0, 'reasoning_tokens': 0, 'rejected_prediction_tokens': 0}, 'prompt_tokens_details': {'audio_tokens': 0, 'cached_tokens': 1536}}, 'model_name': 'gpt-4o-mini-2024-07-18', 'system_fingerprint': 'fp_bba3c8e70b', 'finish_reason': 'stop', 'logprobs': None}, id='run-44f0abd2-f599-43d3-9355-b7ce94c43ab1-0', usage_metadata={'input_tokens': 1669, 'output_tokens': 20, 'total_tokens': 1689, 'input_token_details': {'audio': 0, 'cache_read': 1536}, 'output_token_details': {'audio': 0, 'reasoning': 0}})]"
      ]
     },
     "execution_count": 34,
     "metadata": {},
     "output_type": "execute_result"
    }
   ],
   "source": [
    "from langchain_core.runnables import RunnableConfig\n",
    "\n",
    "config = RunnableConfig(\n",
    "    configurable={\"thread_id\": \"1\"},  # 스레드 ID 설정\n",
    ")\n",
    "# 그래프 상태 스냅샷 생성\n",
    "snapshot = graph.get_state(config)\n",
    "snapshot.values[\"messages\"]"
   ]
  },
  {
   "cell_type": "markdown",
   "metadata": {},
   "source": [
    "`snapshot.config` 를 통해 config 정보를 확인할 수 있습니다."
   ]
  },
  {
   "cell_type": "code",
   "execution_count": 35,
   "metadata": {},
   "outputs": [
    {
     "data": {
      "text/plain": [
       "{'configurable': {'thread_id': '1',\n",
       "  'checkpoint_ns': '',\n",
       "  'checkpoint_id': '1efb6c28-e041-658e-8016-c5b891dfb0bd'}}"
      ]
     },
     "execution_count": 35,
     "metadata": {},
     "output_type": "execute_result"
    }
   ],
   "source": [
    "snapshot.config"
   ]
  },
  {
   "cell_type": "markdown",
   "metadata": {},
   "source": [
    "`snapshot.values` 로 지금까지 저장된 state 값을 확인할 수 있습니다."
   ]
  },
  {
   "cell_type": "code",
   "execution_count": 37,
   "metadata": {},
   "outputs": [
    {
     "data": {
      "text/plain": [
       "{'messages': [HumanMessage(content='코인은 가상자산입니다. 대표적으로, `비트코인, 이더리움, 솔라나` 등이 있습니다.', additional_kwargs={}, response_metadata={}, id='7da7afe9-28bf-49d1-8a4f-14cf4d3f0a91'),\n",
       "  AIMessage(content='맞습니다! 코인은 가상자산의 일종으로, 디지털 형태로 존재하며 블록체인 기술을 기반으로 합니다. 비트코인(BTC)은 최초의 암호화폐로 가장 널리 알려져 있으며, 이더리움(ETH)은 스마트 계약 기능을 제공하는 플랫폼으로 유명합니다. 솔라나(SOL)는 빠른 거래 속도와 낮은 수수료로 주목받고 있는 블록체인입니다. 이 외에도 많은 다른 코인들이 있으며, 각각의 특성과 용도가 다릅니다. 추가로 궁금한 점이 있으신가요?', additional_kwargs={'refusal': None}, response_metadata={'token_usage': {'completion_tokens': 132, 'prompt_tokens': 120, 'total_tokens': 252, 'completion_tokens_details': {'accepted_prediction_tokens': 0, 'audio_tokens': 0, 'reasoning_tokens': 0, 'rejected_prediction_tokens': 0}, 'prompt_tokens_details': {'audio_tokens': 0, 'cached_tokens': 0}}, 'model_name': 'gpt-4o-mini-2024-07-18', 'system_fingerprint': 'fp_bba3c8e70b', 'finish_reason': 'stop', 'logprobs': None}, id='run-59dd1393-a8b0-45ba-b3fa-8b518d76fd14-0', usage_metadata={'input_tokens': 120, 'output_tokens': 132, 'total_tokens': 252, 'input_token_details': {'audio': 0, 'cache_read': 0}, 'output_token_details': {'audio': 0, 'reasoning': 0}}),\n",
       "  HumanMessage(content='코인은 가상자산입니다. 대표적으로, `비트코인, 이더리움, 솔라나` 등이 있습니다.', additional_kwargs={}, response_metadata={}, id='bb9d5d7c-80ab-4ea5-8e62-aefb9a4e325e'),\n",
       "  AIMessage(content='네, 맞습니다! 코인은 가상자산의 한 종류로, 디지털 형태로 존재하며 블록체인 기술을 기반으로 합니다. \\n\\n- **비트코인(BTC)**: 최초의 암호화폐로, 디지털 금이라고도 불리며 가치 저장 수단으로 많이 사용됩니다.\\n- **이더리움(ETH)**: 스마트 계약 기능을 제공하는 플랫폼으로, 다양한 분산 애플리케이션(dApp)을 지원합니다.\\n- **솔라나(SOL)**: 높은 거래 속도와 낮은 수수료로 유명하며, DeFi(탈중앙화 금융) 및 NFT(대체 불가능한 토큰) 생태계에서 인기를 끌고 있습니다.\\n\\n이 외에도 많은 다른 암호화폐들이 있으며, 각각의 특징과 용도가 다릅니다. 더 알고 싶은 내용이 있으신가요?', additional_kwargs={'refusal': None}, response_metadata={'token_usage': {'completion_tokens': 188, 'prompt_tokens': 288, 'total_tokens': 476, 'completion_tokens_details': {'accepted_prediction_tokens': 0, 'audio_tokens': 0, 'reasoning_tokens': 0, 'rejected_prediction_tokens': 0}, 'prompt_tokens_details': {'audio_tokens': 0, 'cached_tokens': 0}}, 'model_name': 'gpt-4o-mini-2024-07-18', 'system_fingerprint': 'fp_bba3c8e70b', 'finish_reason': 'stop', 'logprobs': None}, id='run-d9e6ace4-0ec0-4ada-8ccc-28e172dc60ca-0', usage_metadata={'input_tokens': 288, 'output_tokens': 188, 'total_tokens': 476, 'input_token_details': {'audio': 0, 'cache_read': 0}, 'output_token_details': {'audio': 0, 'reasoning': 0}}),\n",
       "  HumanMessage(content='코인은 가상자산입니다. 대표적으로, `비트코인, 이더리움, 솔라나` 등이 있습니다.', additional_kwargs={}, response_metadata={}, id='87ab12b3-bce6-440c-82d6-48f87ea27822'),\n",
       "  AIMessage(content='네, 맞습니다! 코인은 가상자산의 일종으로, 디지털 형태로 존재하며 블록체인 기술을 기반으로 합니다. \\n\\n- **비트코인(BTC)**: 최초의 암호화폐로, 디지털 금으로 여겨지며 가치 저장 수단으로 널리 사용됩니다.\\n- **이더리움(ETH)**: 스마트 계약 기능을 제공하는 플랫폼으로, 다양한 분산 애플리케이션(dApp)과 DeFi(탈중앙화 금융) 프로젝트에 사용됩니다.\\n- **솔라나(SOL)**: 빠른 거래 속도와 낮은 수수료로 주목받고 있으며, NFT(대체 불가능한 토큰) 및 DeFi 생태계에서 인기를 끌고 있습니다.\\n\\n이 외에도 많은 다른 암호화폐들이 있으며, 각각의 특성과 용도가 다릅니다. 추가로 궁금한 점이나 더 알고 싶은 내용이 있으신가요?', additional_kwargs={'refusal': None}, response_metadata={'token_usage': {'completion_tokens': 206, 'prompt_tokens': 512, 'total_tokens': 718, 'completion_tokens_details': {'accepted_prediction_tokens': 0, 'audio_tokens': 0, 'reasoning_tokens': 0, 'rejected_prediction_tokens': 0}, 'prompt_tokens_details': {'audio_tokens': 0, 'cached_tokens': 0}}, 'model_name': 'gpt-4o-mini-2024-07-18', 'system_fingerprint': 'fp_bba3c8e70b', 'finish_reason': 'stop', 'logprobs': None}, id='run-cc7f8d73-09f3-4862-807c-58b449005caf-0', usage_metadata={'input_tokens': 512, 'output_tokens': 206, 'total_tokens': 718, 'input_token_details': {'audio': 0, 'cache_read': 0}, 'output_token_details': {'audio': 0, 'reasoning': 0}}),\n",
       "  HumanMessage(content='코인은 가상자산입니다. 대표적으로, `비트코인, 이더리움, 솔라나` 등이 있습니다.', additional_kwargs={}, response_metadata={}, id='a16313d1-d7d3-4d60-8a70-da4aa8813a85'),\n",
       "  AIMessage(content='네, 맞습니다! 코인은 가상자산의 한 종류로, 디지털 형태로 존재하며 블록체인 기술을 기반으로 합니다. \\n\\n- **비트코인(BTC)**: 최초의 암호화폐로, 디지털 금으로 여겨지며 가치 저장 수단으로 널리 사용됩니다.\\n- **이더리움(ETH)**: 스마트 계약 기능을 제공하는 플랫폼으로, 다양한 분산 애플리케이션(dApp)과 DeFi(탈중앙화 금융) 프로젝트에 사용됩니다.\\n- **솔라나(SOL)**: 빠른 거래 속도와 낮은 수수료로 주목받고 있으며, NFT(대체 불가능한 토큰) 및 DeFi 생태계에서 인기를 끌고 있습니다.\\n\\n이 외에도 많은 다른 암호화폐들이 있으며, 각각의 특성과 용도가 다릅니다. 추가로 궁금한 점이나 더 알고 싶은 내용이 있으신가요?', additional_kwargs={'refusal': None}, response_metadata={'token_usage': {'completion_tokens': 206, 'prompt_tokens': 754, 'total_tokens': 960, 'completion_tokens_details': {'accepted_prediction_tokens': 0, 'audio_tokens': 0, 'reasoning_tokens': 0, 'rejected_prediction_tokens': 0}, 'prompt_tokens_details': {'audio_tokens': 0, 'cached_tokens': 0}}, 'model_name': 'gpt-4o-mini-2024-07-18', 'system_fingerprint': 'fp_bba3c8e70b', 'finish_reason': 'stop', 'logprobs': None}, id='run-a007bb82-b071-46c7-a44b-d4fd58f77460-0', usage_metadata={'input_tokens': 754, 'output_tokens': 206, 'total_tokens': 960, 'input_token_details': {'audio': 0, 'cache_read': 0}, 'output_token_details': {'audio': 0, 'reasoning': 0}}),\n",
       "  HumanMessage(content='코인은 가상자산입니다. 대표적으로, `비트코인, 이더리움, 솔라나` 등이 있습니다.', additional_kwargs={}, response_metadata={}, id='009f21e2-33f9-4f6a-a490-cd5139419606'),\n",
       "  AIMessage(content='네, 맞습니다! 코인은 가상자산의 일종으로, 디지털 형태로 존재하며 블록체인 기술을 기반으로 합니다. \\n\\n- **비트코인(BTC)**: 최초의 암호화폐로, 디지털 금으로 여겨지며 가치 저장 수단으로 널리 사용됩니다.\\n- **이더리움(ETH)**: 스마트 계약 기능을 제공하는 플랫폼으로, 다양한 분산 애플리케이션(dApp)과 DeFi(탈중앙화 금융) 프로젝트에 사용됩니다.\\n- **솔라나(SOL)**: 빠른 거래 속도와 낮은 수수료로 주목받고 있으며, NFT(대체 불가능한 토큰) 및 DeFi 생태계에서 인기를 끌고 있습니다.\\n\\n이 외에도 많은 다른 암호화폐들이 있으며, 각각의 특성과 용도가 다릅니다. 추가로 궁금한 점이나 더 알고 싶은 내용이 있으신가요?', additional_kwargs={'refusal': None}, response_metadata={'token_usage': {'completion_tokens': 206, 'prompt_tokens': 996, 'total_tokens': 1202, 'completion_tokens_details': {'accepted_prediction_tokens': 0, 'audio_tokens': 0, 'reasoning_tokens': 0, 'rejected_prediction_tokens': 0}, 'prompt_tokens_details': {'audio_tokens': 0, 'cached_tokens': 0}}, 'model_name': 'gpt-4o-mini-2024-07-18', 'system_fingerprint': 'fp_bba3c8e70b', 'finish_reason': 'stop', 'logprobs': None}, id='run-bf50188b-9d80-4880-964d-b73ad9b44c55-0', usage_metadata={'input_tokens': 996, 'output_tokens': 206, 'total_tokens': 1202, 'input_token_details': {'audio': 0, 'cache_read': 0}, 'output_token_details': {'audio': 0, 'reasoning': 0}}),\n",
       "  HumanMessage(content='코인은 가상자산입니다. 대표적으로, `비트코인, 이더리움, 솔라나` 등이 있습니다.', additional_kwargs={}, response_metadata={}, id='6e879e29-bf3c-4678-b3c1-0c2897225c81'),\n",
       "  AIMessage(content='네, 맞습니다! 코인은 가상자산의 한 종류로, 디지털 형태로 존재하며 블록체인 기술을 기반으로 합니다. \\n\\n- **비트코인(BTC)**: 최초의 암호화폐로, 디지털 금으로 여겨지며 가치 저장 수단으로 널리 사용됩니다.\\n- **이더리움(ETH)**: 스마트 계약 기능을 제공하는 플랫폼으로, 다양한 분산 애플리케이션(dApp)과 DeFi(탈중앙화 금융) 프로젝트에 사용됩니다.\\n- **솔라나(SOL)**: 빠른 거래 속도와 낮은 수수료로 주목받고 있으며, NFT(대체 불가능한 토큰) 및 DeFi 생태계에서 인기를 끌고 있습니다.\\n\\n이 외에도 많은 다른 암호화폐들이 있으며, 각각의 특성과 용도가 다릅니다. 추가로 궁금한 점이나 더 알고 싶은 내용이 있으신가요?', additional_kwargs={'refusal': None}, response_metadata={'token_usage': {'completion_tokens': 206, 'prompt_tokens': 1238, 'total_tokens': 1444, 'completion_tokens_details': {'accepted_prediction_tokens': 0, 'audio_tokens': 0, 'reasoning_tokens': 0, 'rejected_prediction_tokens': 0}, 'prompt_tokens_details': {'audio_tokens': 0, 'cached_tokens': 1152}}, 'model_name': 'gpt-4o-mini-2024-07-18', 'system_fingerprint': 'fp_bba3c8e70b', 'finish_reason': 'stop', 'logprobs': None}, id='run-408ed544-0627-471f-bb22-514dab2396f9-0', usage_metadata={'input_tokens': 1238, 'output_tokens': 206, 'total_tokens': 1444, 'input_token_details': {'audio': 0, 'cache_read': 1152}, 'output_token_details': {'audio': 0, 'reasoning': 0}}),\n",
       "  HumanMessage(content='코인은 가상자산입니다. 대표적으로, `비트코인, 이더리움, 솔라나` 등이 있습니다. 제가 보유한 코인은 `솔라나` 입니다.', additional_kwargs={}, response_metadata={}, id='db3761b8-4190-4037-8bcb-3f0f110a99ef'),\n",
       "  AIMessage(content='솔라나(Solana)는 빠른 거래 속도와 낮은 수수료로 유명한 블록체인 플랫폼입니다. DeFi(탈중앙화 금융)와 NFT(대체 불가능한 토큰) 생태계에서 많은 인기를 끌고 있으며, 다양한 프로젝트와 애플리케이션이 솔라나 네트워크에서 운영되고 있습니다.\\n\\n솔라나의 주요 특징 중 하나는 높은 처리량을 자랑하는데, 이는 많은 거래를 동시에 처리할 수 있는 능력을 의미합니다. 또한, 개발자들이 쉽게 애플리케이션을 구축할 수 있도록 다양한 도구와 리소스를 제공하고 있습니다.\\n\\n솔라나에 대해 더 알고 싶거나, 특정 질문이 있으신가요?', additional_kwargs={'refusal': None}, response_metadata={'token_usage': {'completion_tokens': 157, 'prompt_tokens': 1493, 'total_tokens': 1650, 'completion_tokens_details': {'accepted_prediction_tokens': 0, 'audio_tokens': 0, 'reasoning_tokens': 0, 'rejected_prediction_tokens': 0}, 'prompt_tokens_details': {'audio_tokens': 0, 'cached_tokens': 1280}}, 'model_name': 'gpt-4o-mini-2024-07-18', 'system_fingerprint': 'fp_bba3c8e70b', 'finish_reason': 'stop', 'logprobs': None}, id='run-355226c4-cba7-4d3a-8b1d-2442cfe482f2-0', usage_metadata={'input_tokens': 1493, 'output_tokens': 157, 'total_tokens': 1650, 'input_token_details': {'audio': 0, 'cache_read': 1280}, 'output_token_details': {'audio': 0, 'reasoning': 0}}),\n",
       "  HumanMessage(content='제가 보유한 코인의 이름은 무엇인가요?', additional_kwargs={}, response_metadata={}, id='43e8b0e4-6f68-4d4a-b63d-9cadfab4737b'),\n",
       "  AIMessage(content='당신이 보유한 코인의 이름은 **솔라나(Solana)**입니다.', additional_kwargs={'refusal': None}, response_metadata={'token_usage': {'completion_tokens': 20, 'prompt_tokens': 1669, 'total_tokens': 1689, 'completion_tokens_details': {'accepted_prediction_tokens': 0, 'audio_tokens': 0, 'reasoning_tokens': 0, 'rejected_prediction_tokens': 0}, 'prompt_tokens_details': {'audio_tokens': 0, 'cached_tokens': 1536}}, 'model_name': 'gpt-4o-mini-2024-07-18', 'system_fingerprint': 'fp_bba3c8e70b', 'finish_reason': 'stop', 'logprobs': None}, id='run-44f0abd2-f599-43d3-9355-b7ce94c43ab1-0', usage_metadata={'input_tokens': 1669, 'output_tokens': 20, 'total_tokens': 1689, 'input_token_details': {'audio': 0, 'cache_read': 1536}, 'output_token_details': {'audio': 0, 'reasoning': 0}})]}"
      ]
     },
     "execution_count": 37,
     "metadata": {},
     "output_type": "execute_result"
    }
   ],
   "source": [
    "snapshot.values"
   ]
  },
  {
   "cell_type": "markdown",
   "metadata": {},
   "source": [
    "`snapshot.next` 로 다음 노드를 확인할 수 있습니다."
   ]
  },
  {
   "cell_type": "code",
   "execution_count": 38,
   "metadata": {},
   "outputs": [
    {
     "data": {
      "text/plain": [
       "()"
      ]
     },
     "execution_count": 38,
     "metadata": {},
     "output_type": "execute_result"
    }
   ],
   "source": [
    "snapshot.next"
   ]
  },
  {
   "cell_type": "code",
   "execution_count": 40,
   "metadata": {},
   "outputs": [
    {
     "data": {
      "text/plain": [
       "AIMessage(content='당신이 보유한 코인의 이름은 **솔라나(Solana)**입니다.', additional_kwargs={'refusal': None}, response_metadata={'token_usage': {'completion_tokens': 20, 'prompt_tokens': 1669, 'total_tokens': 1689, 'completion_tokens_details': {'accepted_prediction_tokens': 0, 'audio_tokens': 0, 'reasoning_tokens': 0, 'rejected_prediction_tokens': 0}, 'prompt_tokens_details': {'audio_tokens': 0, 'cached_tokens': 1536}}, 'model_name': 'gpt-4o-mini-2024-07-18', 'system_fingerprint': 'fp_bba3c8e70b', 'finish_reason': 'stop', 'logprobs': None}, id='run-44f0abd2-f599-43d3-9355-b7ce94c43ab1-0', usage_metadata={'input_tokens': 1669, 'output_tokens': 20, 'total_tokens': 1689, 'input_token_details': {'audio': 0, 'cache_read': 1536}, 'output_token_details': {'audio': 0, 'reasoning': 0}})"
      ]
     },
     "execution_count": 40,
     "metadata": {},
     "output_type": "execute_result"
    }
   ],
   "source": [
    "snapshot.metadata[\"writes\"][\"chatbot\"][\"messages\"]"
   ]
  },
  {
   "cell_type": "code",
   "execution_count": 41,
   "metadata": {},
   "outputs": [
    {
     "name": "stdout",
     "output_type": "stream",
     "text": [
      "\u001b[93m[source]\u001b[0m:\n",
      "    \u001b[94msource\u001b[0m: loop\n",
      "\u001b[93m[writes]\u001b[0m:\n",
      "    \u001b[94m[chatbot]\u001b[0m:\n",
      "        \u001b[92m[messages]\u001b[0m:\n",
      "            \u001b[33mmessages\u001b[0m: content='당신이 보유한 코인의 이름은 **솔라나(Solana)**입니다.' additional_kwargs={'refusal': None} response_metadata={'token_usage': {'completion_tokens': 20, 'prompt_tokens': 1669, 'total_tokens': 1689, 'completion_tokens_details': {'accepted_prediction_tokens': 0, 'audio_tokens': 0, 'reasoning_tokens': 0, 'rejected_prediction_tokens': 0}, 'prompt_tokens_details': {'audio_tokens': 0, 'cached_tokens': 1536}}, 'model_name': 'gpt-4o-mini-2024-07-18', 'system_fingerprint': 'fp_bba3c8e70b', 'finish_reason': 'stop', 'logprobs': None} id='run-44f0abd2-f599-43d3-9355-b7ce94c43ab1-0' usage_metadata={'input_tokens': 1669, 'output_tokens': 20, 'total_tokens': 1689, 'input_token_details': {'audio': 0, 'cache_read': 1536}, 'output_token_details': {'audio': 0, 'reasoning': 0}}\n",
      "\u001b[93m[thread_id]\u001b[0m:\n",
      "    \u001b[94mthread_id\u001b[0m: 1\n",
      "\u001b[93m[step]\u001b[0m:\n",
      "    \u001b[94mstep\u001b[0m: 22\n",
      "\u001b[93m[parents]\u001b[0m:\n"
     ]
    }
   ],
   "source": [
    "from langchain_print import display_message_tree\n",
    "\n",
    "# 메타데이터 tree 형태로 출력\n",
    "display_message_tree(snapshot.metadata)"
   ]
  }
 ],
 "metadata": {
  "kernelspec": {
   "display_name": "langchain-note-2024-PFhCXHTX-py3.12",
   "language": "python",
   "name": "python3"
  },
  "language_info": {
   "codemirror_mode": {
    "name": "ipython",
    "version": 3
   },
   "file_extension": ".py",
   "mimetype": "text/x-python",
   "name": "python",
   "nbconvert_exporter": "python",
   "pygments_lexer": "ipython3",
   "version": "3.12.7"
  }
 },
 "nbformat": 4,
 "nbformat_minor": 2
}
