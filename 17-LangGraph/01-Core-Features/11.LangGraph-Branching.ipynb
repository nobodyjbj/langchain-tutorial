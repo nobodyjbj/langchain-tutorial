{
 "cells": [
  {
   "cell_type": "code",
   "execution_count": 1,
   "metadata": {},
   "outputs": [
    {
     "data": {
      "text/plain": [
       "True"
      ]
     },
     "execution_count": 1,
     "metadata": {},
     "output_type": "execute_result"
    }
   ],
   "source": [
    "from dotenv import load_dotenv\n",
    "import sys\n",
    "\n",
    "sys.path.append(\"../../common\")\n",
    "load_dotenv()"
   ]
  },
  {
   "cell_type": "code",
   "execution_count": 2,
   "metadata": {},
   "outputs": [
    {
     "name": "stdout",
     "output_type": "stream",
     "text": [
      "Langsmith 추적이 활성화되었습니다. [프로젝트명: 17.LangGraph]\n"
     ]
    }
   ],
   "source": [
    "import os\n",
    "from langsmith_tracker import set_tracking\n",
    "\n",
    "# 인스턴스를 생성할 때 필요한 매개변수를 전달합니다.\n",
    "\n",
    "set_tracking(project_name=\"17.LangGraph\")"
   ]
  },
  {
   "cell_type": "markdown",
   "metadata": {},
   "source": [
    "### 병렬 노드 실행을 위한 분기 생성 방법\n",
    "\n",
    "병렬노드를 실행하고 컨트롤 하는 방법입니다.  \n",
    "  \n",
    "동시다발 적으로 여러 프로세스를 구성하고 한 번에 처리하도록 합니다.  \n",
    "  \n",
    "fan-out(확장) 과 fan-in(수집) 이라고 합니다. "
   ]
  },
  {
   "cell_type": "code",
   "execution_count": 3,
   "metadata": {},
   "outputs": [],
   "source": [
    "from typing import Annotated, Any\n",
    "from typing_extensions import TypedDict\n",
    "from langgraph.graph import StateGraph, START, END\n",
    "from langgraph.graph.message import add_messages\n",
    "\n",
    "\n",
    "# 상태 정의(add_messages 리듀서 사용)\n",
    "class State(TypedDict):\n",
    "    aggregate: Annotated[list, add_messages]\n",
    "\n",
    "\n",
    "# 노드 값 반환 클래스\n",
    "class ReturnNodeValue:\n",
    "    # 초기화\n",
    "    def __init__(self, node_secret: str):\n",
    "        self._value = node_secret\n",
    "\n",
    "    # 호출시 상태 업데이트\n",
    "    def __call__(self, state: State) -> Any:\n",
    "        print(f\"Adding {self._value} to {state['aggregate']}\")\n",
    "        return {\"aggregate\": [self._value]}\n",
    "\n",
    "\n",
    "# 상태 그래프 초기화\n",
    "builder = StateGraph(State)\n",
    "\n",
    "# 노드 A부터 D까지 생성 및 값 할당\n",
    "builder.add_node(\"a\", ReturnNodeValue(\"I'm A\"))\n",
    "builder.add_edge(START, \"a\")\n",
    "builder.add_node(\"b\", ReturnNodeValue(\"I'm B\"))\n",
    "builder.add_node(\"c\", ReturnNodeValue(\"I'm C\"))\n",
    "builder.add_node(\"d\", ReturnNodeValue(\"I'm D\"))\n",
    "\n",
    "# 노드 연결\n",
    "builder.add_edge(\"a\", \"b\")\n",
    "builder.add_edge(\"a\", \"c\")\n",
    "builder.add_edge(\"b\", \"d\")\n",
    "builder.add_edge(\"c\", \"d\")\n",
    "builder.add_edge(\"d\", END)\n",
    "\n",
    "# 그래프 컴파일\n",
    "graph = builder.compile()"
   ]
  },
  {
   "cell_type": "code",
   "execution_count": 4,
   "metadata": {},
   "outputs": [
    {
     "data": {
      "image/png": "[encoded data removed]",
      "text/plain": [
       "<IPython.core.display.Image object>"
      ]
     },
     "metadata": {},
     "output_type": "display_data"
    }
   ],
   "source": [
    "from graphs import visualize_graph\n",
    "\n",
    "visualize_graph(graph)"
   ]
  },
  {
   "cell_type": "markdown",
   "metadata": {},
   "source": [
    "리듀서를 통해 각 노드에 추가된 값들을 확인합니다."
   ]
  },
  {
   "cell_type": "code",
   "execution_count": 5,
   "metadata": {},
   "outputs": [
    {
     "name": "stdout",
     "output_type": "stream",
     "text": [
      "Adding I'm A to []\n",
      "Adding I'm B to [HumanMessage(content=\"I'm A\", additional_kwargs={}, response_metadata={}, id='e3b5150c-74aa-4f92-9f3b-02f9b03c8c28')]\n",
      "Adding I'm C to [HumanMessage(content=\"I'm A\", additional_kwargs={}, response_metadata={}, id='e3b5150c-74aa-4f92-9f3b-02f9b03c8c28')]\n",
      "Adding I'm D to [HumanMessage(content=\"I'm A\", additional_kwargs={}, response_metadata={}, id='e3b5150c-74aa-4f92-9f3b-02f9b03c8c28'), HumanMessage(content=\"I'm B\", additional_kwargs={}, response_metadata={}, id='f522377e-64c0-4577-b63e-7b611eaae910'), HumanMessage(content=\"I'm C\", additional_kwargs={}, response_metadata={}, id='62eade03-785b-432a-b74e-ac6a30a32b1d')]\n"
     ]
    },
    {
     "data": {
      "text/plain": [
       "{'aggregate': [HumanMessage(content=\"I'm A\", additional_kwargs={}, response_metadata={}, id='e3b5150c-74aa-4f92-9f3b-02f9b03c8c28'),\n",
       "  HumanMessage(content=\"I'm B\", additional_kwargs={}, response_metadata={}, id='f522377e-64c0-4577-b63e-7b611eaae910'),\n",
       "  HumanMessage(content=\"I'm C\", additional_kwargs={}, response_metadata={}, id='62eade03-785b-432a-b74e-ac6a30a32b1d'),\n",
       "  HumanMessage(content=\"I'm D\", additional_kwargs={}, response_metadata={}, id='85f9fd03-fa56-4ac1-8519-8333e2e05476')]}"
      ]
     },
     "execution_count": 5,
     "metadata": {},
     "output_type": "execute_result"
    }
   ],
   "source": [
    "# 그래프 실행\n",
    "graph.invoke({\"aggregate\": []}, {\"configurable\": {\"thread_id\": \"foo\"}})"
   ]
  },
  {
   "cell_type": "markdown",
   "metadata": {},
   "source": [
    "#### 병렬처리 중 예외 발생 대응\n",
    "\n",
    "만약 병렬 처리 중 오류가 발생하게 된다면, 'superstep' 이 트랜젝션으로 실행되게 되는데, 이때 상태에 대한 것이 분기 실행이 동시에 되더라도 어딘가 에러가 발생하면 상태 업데이트가 되지 않습니다.  \n",
    "\n",
    "- 노드 내에서 일반적인 Python 코드를 작성하여 예외를 포착하고 처리할 수 있습니다.\n",
    "- `retry_policy` 를 설정하여 특정 유형의 예외가 발생한 노드를 재시도하도록 그래프를 지시할 수 있습니다. 실패한 분기만 재시도되므로 불필요한 작업 수행에 대해 걱정할 필요가 없습니다.\n",
    "\n",
    "#### 추가 단계가 있는 병렬 노드의 fan-out 및 fan-in\n",
    "\n",
    "병렬 처리 단계에서 노드가 여러개였을때 처리를 하는 방법입니다.  "
   ]
  },
  {
   "cell_type": "code",
   "execution_count": 6,
   "metadata": {},
   "outputs": [],
   "source": [
    "from typing import Annotated\n",
    "from typing_extensions import TypedDict\n",
    "from langgraph.graph import StateGraph\n",
    "from langgraph.graph.message import add_messages\n",
    "\n",
    "\n",
    "# 상태 정의(add_messages 리듀서 사용)\n",
    "class State(TypedDict):\n",
    "    aggregate: Annotated[list, add_messages]\n",
    "\n",
    "\n",
    "# 노드 값 반환 클래스\n",
    "class ReturnNodeValue:\n",
    "    # 초기화\n",
    "    def __init__(self, node_secret: str):\n",
    "        self._value = node_secret\n",
    "\n",
    "    # 호출시 상태 업데이트\n",
    "    def __call__(self, state: State) -> Any:\n",
    "        print(f\"Adding {self._value} to {state['aggregate']}\")\n",
    "        return {\"aggregate\": [self._value]}\n",
    "\n",
    "\n",
    "# 상태 그래프 초기화\n",
    "builder = StateGraph(State)\n",
    "\n",
    "# 노드 생성 및 연결\n",
    "builder.add_node(\"a\", ReturnNodeValue(\"I'm A\"))\n",
    "builder.add_edge(START, \"a\")\n",
    "builder.add_node(\"b1\", ReturnNodeValue(\"I'm B1\"))\n",
    "builder.add_node(\"b2\", ReturnNodeValue(\"I'm B2\"))\n",
    "builder.add_node(\"c\", ReturnNodeValue(\"I'm C\"))\n",
    "builder.add_node(\"d\", ReturnNodeValue(\"I'm D\"))\n",
    "builder.add_edge(\"a\", \"b1\")\n",
    "builder.add_edge(\"a\", \"c\")\n",
    "builder.add_edge(\"b1\", \"b2\")\n",
    "builder.add_edge([\"b2\", \"c\"], \"d\")\n",
    "builder.add_edge(\"d\", END)\n",
    "\n",
    "# 그래프 컴파일\n",
    "graph = builder.compile()"
   ]
  },
  {
   "cell_type": "code",
   "execution_count": 7,
   "metadata": {},
   "outputs": [
    {
     "data": {
      "image/png": "[encoded data removed]",
      "text/plain": [
       "<IPython.core.display.Image object>"
      ]
     },
     "metadata": {},
     "output_type": "display_data"
    }
   ],
   "source": [
    "from graphs import visualize_graph\n",
    "\n",
    "visualize_graph(graph)"
   ]
  },
  {
   "cell_type": "code",
   "execution_count": 8,
   "metadata": {},
   "outputs": [
    {
     "name": "stdout",
     "output_type": "stream",
     "text": [
      "Adding I'm A to []\n",
      "Adding I'm C to [HumanMessage(content=\"I'm A\", additional_kwargs={}, response_metadata={}, id='13cc0aef-3cd9-46ce-95a2-7bc3fca11764')]\n",
      "Adding I'm B1 to [HumanMessage(content=\"I'm A\", additional_kwargs={}, response_metadata={}, id='13cc0aef-3cd9-46ce-95a2-7bc3fca11764')]\n",
      "Adding I'm B2 to [HumanMessage(content=\"I'm A\", additional_kwargs={}, response_metadata={}, id='13cc0aef-3cd9-46ce-95a2-7bc3fca11764'), HumanMessage(content=\"I'm B1\", additional_kwargs={}, response_metadata={}, id='f324c422-285b-44e7-ac7c-c3a50f051bd7'), HumanMessage(content=\"I'm C\", additional_kwargs={}, response_metadata={}, id='d54b0b5d-1471-4847-8080-d0c969b3cbab')]\n",
      "Adding I'm D to [HumanMessage(content=\"I'm A\", additional_kwargs={}, response_metadata={}, id='13cc0aef-3cd9-46ce-95a2-7bc3fca11764'), HumanMessage(content=\"I'm B1\", additional_kwargs={}, response_metadata={}, id='f324c422-285b-44e7-ac7c-c3a50f051bd7'), HumanMessage(content=\"I'm C\", additional_kwargs={}, response_metadata={}, id='d54b0b5d-1471-4847-8080-d0c969b3cbab'), HumanMessage(content=\"I'm B2\", additional_kwargs={}, response_metadata={}, id='ca2ff7eb-102a-47d6-8842-23916c2a2c0a')]\n"
     ]
    },
    {
     "data": {
      "text/plain": [
       "{'aggregate': [HumanMessage(content=\"I'm A\", additional_kwargs={}, response_metadata={}, id='13cc0aef-3cd9-46ce-95a2-7bc3fca11764'),\n",
       "  HumanMessage(content=\"I'm B1\", additional_kwargs={}, response_metadata={}, id='f324c422-285b-44e7-ac7c-c3a50f051bd7'),\n",
       "  HumanMessage(content=\"I'm C\", additional_kwargs={}, response_metadata={}, id='d54b0b5d-1471-4847-8080-d0c969b3cbab'),\n",
       "  HumanMessage(content=\"I'm B2\", additional_kwargs={}, response_metadata={}, id='ca2ff7eb-102a-47d6-8842-23916c2a2c0a'),\n",
       "  HumanMessage(content=\"I'm D\", additional_kwargs={}, response_metadata={}, id='a499d2c7-691e-4a3d-98ed-a278a7350e28')]}"
      ]
     },
     "execution_count": 8,
     "metadata": {},
     "output_type": "execute_result"
    }
   ],
   "source": [
    "# 빈 리스트를 사용한 그래프 집계 연산 실행, 모든 데이터에 대한 기본 집계 수행\n",
    "graph.invoke({\"aggregate\": []})"
   ]
  },
  {
   "cell_type": "markdown",
   "metadata": {},
   "source": [
    "#### 조건부 분기(conditional branching)\n",
    "\n",
    "fan-out 이 결정적이지 않은 경우, `add_conditional_edge` 를 직접 사용할 수 있습니다."
   ]
  },
  {
   "cell_type": "code",
   "execution_count": 9,
   "metadata": {},
   "outputs": [],
   "source": [
    "from typing import Annotated, Sequence\n",
    "from typing_extensions import TypedDict\n",
    "from langgraph.graph import END, START, StateGraph\n",
    "\n",
    "\n",
    "# 상태 정의(add_messages 리듀서 사용)\n",
    "class State(TypedDict):\n",
    "    aggregate: Annotated[list, add_messages]\n",
    "    which: str\n",
    "\n",
    "\n",
    "# 노드별 고유 값을 반환하는 클래스\n",
    "class ReturnNodeValue:\n",
    "    def __init__(self, node_secret: str):\n",
    "        self._value = node_secret\n",
    "\n",
    "    def __call__(self, state: State) -> Any:\n",
    "        print(f\"Adding {self._value} to {state['aggregate']}\")\n",
    "        return {\"aggregate\": [self._value]}\n",
    "\n",
    "\n",
    "# 상태 그래프 초기화\n",
    "builder = StateGraph(State)\n",
    "builder.add_node(\"a\", ReturnNodeValue(\"I'm A\"))\n",
    "builder.add_edge(START, \"a\")\n",
    "builder.add_node(\"b\", ReturnNodeValue(\"I'm B\"))\n",
    "builder.add_node(\"c\", ReturnNodeValue(\"I'm C\"))\n",
    "builder.add_node(\"d\", ReturnNodeValue(\"I'm D\"))\n",
    "builder.add_node(\"e\", ReturnNodeValue(\"I'm E\"))\n",
    "\n",
    "\n",
    "# 상태의 'which' 값에 따른 조건부 라우팅 경로 결정 함수\n",
    "def route_bc_or_cd(state: State) -> Sequence[str]:\n",
    "    if state[\"which\"] == \"cd\":\n",
    "        return [\"c\", \"d\"]\n",
    "    return [\"b\", \"c\"]\n",
    "\n",
    "\n",
    "# 전체 병렬 처리할 노드 목록\n",
    "intermediates = [\"b\", \"c\", \"d\"]\n",
    "\n",
    "builder.add_conditional_edges(\n",
    "    \"a\",\n",
    "    route_bc_or_cd,\n",
    "    intermediates,\n",
    ")\n",
    "for node in intermediates:\n",
    "    builder.add_edge(node, \"e\")\n",
    "\n",
    "\n",
    "# 최종 노드 연결 및 그래프 컴파일\n",
    "builder.add_edge(\"e\", END)\n",
    "graph = builder.compile()"
   ]
  },
  {
   "cell_type": "code",
   "execution_count": 11,
   "metadata": {},
   "outputs": [
    {
     "data": {
      "image/png": "[encoded data removed]",
      "text/plain": [
       "<IPython.core.display.Image object>"
      ]
     },
     "metadata": {},
     "output_type": "display_data"
    }
   ],
   "source": [
    "from graphs import visualize_graph\n",
    "\n",
    "visualize_graph(graph)"
   ]
  },
  {
   "cell_type": "code",
   "execution_count": 12,
   "metadata": {},
   "outputs": [
    {
     "name": "stdout",
     "output_type": "stream",
     "text": [
      "Adding I'm A to []\n",
      "Adding I'm B to [HumanMessage(content=\"I'm A\", additional_kwargs={}, response_metadata={}, id='690753b8-b4dc-4126-9e3f-7ec9d6889247')]\n",
      "Adding I'm C to [HumanMessage(content=\"I'm A\", additional_kwargs={}, response_metadata={}, id='690753b8-b4dc-4126-9e3f-7ec9d6889247')]\n",
      "Adding I'm E to [HumanMessage(content=\"I'm A\", additional_kwargs={}, response_metadata={}, id='690753b8-b4dc-4126-9e3f-7ec9d6889247'), HumanMessage(content=\"I'm B\", additional_kwargs={}, response_metadata={}, id='2f2c986c-79fa-4672-ae58-865450151521'), HumanMessage(content=\"I'm C\", additional_kwargs={}, response_metadata={}, id='cb6c5959-5325-48cf-9d87-08302bfe2925')]\n"
     ]
    },
    {
     "data": {
      "text/plain": [
       "{'aggregate': [HumanMessage(content=\"I'm A\", additional_kwargs={}, response_metadata={}, id='690753b8-b4dc-4126-9e3f-7ec9d6889247'),\n",
       "  HumanMessage(content=\"I'm B\", additional_kwargs={}, response_metadata={}, id='2f2c986c-79fa-4672-ae58-865450151521'),\n",
       "  HumanMessage(content=\"I'm C\", additional_kwargs={}, response_metadata={}, id='cb6c5959-5325-48cf-9d87-08302bfe2925'),\n",
       "  HumanMessage(content=\"I'm E\", additional_kwargs={}, response_metadata={}, id='9a970812-e006-41fa-aa7c-49364e93c6f5')],\n",
       " 'which': 'bc'}"
      ]
     },
     "execution_count": 12,
     "metadata": {},
     "output_type": "execute_result"
    }
   ],
   "source": [
    "# 그래프 실행(which: bc 로 지정)\n",
    "graph.invoke({\"aggregate\": [], \"which\": \"bc\"})"
   ]
  },
  {
   "cell_type": "code",
   "execution_count": 13,
   "metadata": {},
   "outputs": [
    {
     "name": "stdout",
     "output_type": "stream",
     "text": [
      "Adding I'm A to []\n",
      "Adding I'm C to [HumanMessage(content=\"I'm A\", additional_kwargs={}, response_metadata={}, id='ee73a74a-bebb-4a81-947f-f2da0f476ad0')]\n",
      "Adding I'm D to [HumanMessage(content=\"I'm A\", additional_kwargs={}, response_metadata={}, id='ee73a74a-bebb-4a81-947f-f2da0f476ad0')]\n",
      "Adding I'm E to [HumanMessage(content=\"I'm A\", additional_kwargs={}, response_metadata={}, id='ee73a74a-bebb-4a81-947f-f2da0f476ad0'), HumanMessage(content=\"I'm C\", additional_kwargs={}, response_metadata={}, id='00b83546-9d31-4c4c-8d17-676891f0fe14'), HumanMessage(content=\"I'm D\", additional_kwargs={}, response_metadata={}, id='d35bb913-c82a-4fdd-9b53-2382d6d84e87')]\n"
     ]
    },
    {
     "data": {
      "text/plain": [
       "{'aggregate': [HumanMessage(content=\"I'm A\", additional_kwargs={}, response_metadata={}, id='ee73a74a-bebb-4a81-947f-f2da0f476ad0'),\n",
       "  HumanMessage(content=\"I'm C\", additional_kwargs={}, response_metadata={}, id='00b83546-9d31-4c4c-8d17-676891f0fe14'),\n",
       "  HumanMessage(content=\"I'm D\", additional_kwargs={}, response_metadata={}, id='d35bb913-c82a-4fdd-9b53-2382d6d84e87'),\n",
       "  HumanMessage(content=\"I'm E\", additional_kwargs={}, response_metadata={}, id='8dfe49c3-6a1a-4198-8ddb-56fc5df4acf8')],\n",
       " 'which': 'cd'}"
      ]
     },
     "execution_count": 13,
     "metadata": {},
     "output_type": "execute_result"
    }
   ],
   "source": [
    "# 그래프 실행(which: cd 로 지정)\n",
    "graph.invoke({\"aggregate\": [], \"which\": \"cd\"})"
   ]
  },
  {
   "cell_type": "markdown",
   "metadata": {},
   "source": [
    "#### fan-out 값의 신뢰도에 따른 정렬\n",
    "\n",
    "병렬로 펼쳐진 노드들은 하나의 \"super-step\"으로 실행됩니다. 각 super-step 에서 발생한 업데이트들은 해당 super-step 이 완료된 후 순차적으로 상태에 적용됩니다.  \n",
    "  \n",
    "병렬 super-step 에서 일관된 사전 정의된 업데이트 순서가 필요한 경우, 출력값을 식별 키와 함께 상태의 별도 필드에 기록한 다음, fan-out 된 각 노드에서 집결 지점까지 일반 edge 를 추가하여 \"sink\" 노드에서 이들을 결합해야 합니다.  \n",
    "  \n",
    "예를 들어, 병렬 단계의 출력을 \"신뢰도\"에 따라 정렬하고자 하는 경우를 고려해보겠습니다.  \n",
    "  \n",
    "결합할때 순서를 정할 수 있습니다."
   ]
  },
  {
   "cell_type": "code",
   "execution_count": 14,
   "metadata": {},
   "outputs": [],
   "source": [
    "from typing import Annotated, Sequence\n",
    "from typing_extensions import TypedDict\n",
    "from langgraph.graph import StateGraph\n",
    "from langgraph.graph.message import add_messages\n",
    "\n",
    "\n",
    "# 팬아웃 값들의 병합 로직 구현, 빈 리스트 처리 및 리스트 연결 수행\n",
    "def reduce_fanouts(left, right):\n",
    "    if left is None:\n",
    "        left = []\n",
    "    if not right:\n",
    "        # 덮어쓰기\n",
    "        return []\n",
    "    return left + right\n",
    "\n",
    "\n",
    "# 상태 관리를 위한 타입 정의, 집계 및 팬아웃 값 저장 구조 설정\n",
    "class State(TypedDict):\n",
    "    # add_messages 리듀서 사용\n",
    "    aggregate: Annotated[list, add_messages]\n",
    "    fanout_values: Annotated[list, reduce_fanouts]\n",
    "    which: str\n",
    "\n",
    "\n",
    "# 그래프 초기화\n",
    "builder = StateGraph(State)\n",
    "builder.add_node(\"a\", ReturnNodeValue(\"I'm A\"))\n",
    "builder.add_edge(START, \"a\")\n",
    "\n",
    "\n",
    "# 병렬 노드 값 반환 클래스\n",
    "class ParallelReturnNodeValue:\n",
    "    def __init__(\n",
    "        self,\n",
    "        node_secret: str,\n",
    "        reliability: float,\n",
    "    ):\n",
    "        self._value = node_secret\n",
    "        self._reliability = reliability\n",
    "\n",
    "    # 호출시 상태 업데이트\n",
    "    def __call__(self, state: State) -> Any:\n",
    "        print(f\"Adding {self._value} to {state['aggregate']} in parallel.\")\n",
    "        return {\n",
    "            \"fanout_values\": [\n",
    "                {\n",
    "                    \"value\": [self._value],\n",
    "                    \"reliability\": self._reliability,\n",
    "                }\n",
    "            ]\n",
    "        }\n",
    "\n",
    "\n",
    "# 신뢰도(reliability)가 다른 병렬 노드들 추가, 종합할때 순서를 정할 수 있다.\n",
    "builder.add_node(\"b\", ParallelReturnNodeValue(\"I'm B\", reliability=0.1))\n",
    "builder.add_node(\"c\", ParallelReturnNodeValue(\"I'm C\", reliability=0.9))\n",
    "builder.add_node(\"d\", ParallelReturnNodeValue(\"I'm D\", reliability=0.5))\n",
    "\n",
    "\n",
    "# 팬아웃 값들을 신뢰도 기준으로 정렬하고 최종 집계 수행\n",
    "def aggregate_fanout_values(state: State) -> Any:\n",
    "    # 신뢰도 기준 정렬\n",
    "    ranked_values = sorted(\n",
    "        state[\"fanout_values\"], key=lambda x: x[\"reliability\"], reverse=True\n",
    "    )\n",
    "    print(ranked_values)\n",
    "    return {\n",
    "        \"aggregate\": [x[\"value\"][0] for x in ranked_values] + [\"I'm E\"],\n",
    "        \"fanout_values\": [],\n",
    "    }\n",
    "\n",
    "\n",
    "# 집계 노드 추가\n",
    "builder.add_node(\"e\", aggregate_fanout_values)\n",
    "\n",
    "\n",
    "# 상태에 따른 조건부 라우팅 로직 구현\n",
    "def route_bc_or_cd(state: State) -> Sequence[str]:\n",
    "    if state[\"which\"] == \"cd\":\n",
    "        return [\"c\", \"d\"]\n",
    "    return [\"b\", \"c\"]\n",
    "\n",
    "\n",
    "# 중간 노드들 설정 및 조건부 엣지 추가\n",
    "intermediates = [\"b\", \"c\", \"d\"]\n",
    "builder.add_conditional_edges(\"a\", route_bc_or_cd, intermediates)\n",
    "\n",
    "# 중간 노드들과 최종 집계 노드 연결\n",
    "for node in intermediates:\n",
    "    builder.add_edge(node, \"e\")\n",
    "\n",
    "# 그래프 완성을 위한 최종\n",
    "graph = builder.compile()"
   ]
  },
  {
   "cell_type": "code",
   "execution_count": 15,
   "metadata": {},
   "outputs": [
    {
     "data": {
      "image/png": "[encoded data removed]",
      "text/plain": [
       "<IPython.core.display.Image object>"
      ]
     },
     "metadata": {},
     "output_type": "display_data"
    }
   ],
   "source": [
    "from graphs import visualize_graph\n",
    "\n",
    "visualize_graph(graph)"
   ]
  },
  {
   "cell_type": "markdown",
   "metadata": {},
   "source": [
    "병렬로 노드 실행시 결과를 reliability 기준으로 정렬합니다.\n",
    "\n",
    "참고\n",
    "- b: reliability=0.1\n",
    "- c: reliability=0.9\n",
    "- d: reliability=0.5"
   ]
  },
  {
   "cell_type": "code",
   "execution_count": 16,
   "metadata": {},
   "outputs": [
    {
     "name": "stdout",
     "output_type": "stream",
     "text": [
      "Adding I'm A to []\n",
      "Adding I'm B to [HumanMessage(content=\"I'm A\", additional_kwargs={}, response_metadata={}, id='f702b29a-7bd7-434b-a0ce-9af8735c167d')] in parallel.\n",
      "Adding I'm C to [HumanMessage(content=\"I'm A\", additional_kwargs={}, response_metadata={}, id='f702b29a-7bd7-434b-a0ce-9af8735c167d')] in parallel.\n",
      "[{'value': [\"I'm C\"], 'reliability': 0.9}, {'value': [\"I'm B\"], 'reliability': 0.1}]\n"
     ]
    },
    {
     "data": {
      "text/plain": [
       "{'aggregate': [HumanMessage(content=\"I'm A\", additional_kwargs={}, response_metadata={}, id='f702b29a-7bd7-434b-a0ce-9af8735c167d'),\n",
       "  HumanMessage(content=\"I'm C\", additional_kwargs={}, response_metadata={}, id='558fa962-2f0f-4725-8a60-1deaf42a9737'),\n",
       "  HumanMessage(content=\"I'm B\", additional_kwargs={}, response_metadata={}, id='31d57e16-51d8-4f40-9cb5-2eb88853bc06'),\n",
       "  HumanMessage(content=\"I'm E\", additional_kwargs={}, response_metadata={}, id='a35920ef-d4b1-4627-880e-c039263e4d4a')],\n",
       " 'fanout_values': [],\n",
       " 'which': 'bc'}"
      ]
     },
     "execution_count": 16,
     "metadata": {},
     "output_type": "execute_result"
    }
   ],
   "source": [
    "# 그래프 실행(which: bc 로 지정)\n",
    "graph.invoke({\"aggregate\": [], \"which\": \"bc\", \"fanout_values\": []})"
   ]
  },
  {
   "cell_type": "code",
   "execution_count": 17,
   "metadata": {},
   "outputs": [
    {
     "name": "stdout",
     "output_type": "stream",
     "text": [
      "Adding I'm A to []\n",
      "Adding I'm C to [HumanMessage(content=\"I'm A\", additional_kwargs={}, response_metadata={}, id='4efcaed3-b6ca-45c4-ad08-2db03f45542f')] in parallel.\n",
      "Adding I'm D to [HumanMessage(content=\"I'm A\", additional_kwargs={}, response_metadata={}, id='4efcaed3-b6ca-45c4-ad08-2db03f45542f')] in parallel.\n",
      "[{'value': [\"I'm C\"], 'reliability': 0.9}, {'value': [\"I'm D\"], 'reliability': 0.5}]\n"
     ]
    },
    {
     "data": {
      "text/plain": [
       "{'aggregate': [HumanMessage(content=\"I'm A\", additional_kwargs={}, response_metadata={}, id='4efcaed3-b6ca-45c4-ad08-2db03f45542f'),\n",
       "  HumanMessage(content=\"I'm C\", additional_kwargs={}, response_metadata={}, id='4f84d235-03a2-4f07-aad0-1a0fa13293ed'),\n",
       "  HumanMessage(content=\"I'm D\", additional_kwargs={}, response_metadata={}, id='7a996042-efca-4328-8b26-c1e5d426a073'),\n",
       "  HumanMessage(content=\"I'm E\", additional_kwargs={}, response_metadata={}, id='e30dd081-48d4-4f7a-842c-809eb4f359a2')],\n",
       " 'fanout_values': [],\n",
       " 'which': 'cd'}"
      ]
     },
     "execution_count": 17,
     "metadata": {},
     "output_type": "execute_result"
    }
   ],
   "source": [
    "# 그래프 실행(which: cd 로 지정)\n",
    "graph.invoke({\"aggregate\": [], \"which\": \"cd\"})"
   ]
  }
 ],
 "metadata": {
  "kernelspec": {
   "display_name": "langchain-note-2024-PFhCXHTX-py3.12",
   "language": "python",
   "name": "python3"
  },
  "language_info": {
   "codemirror_mode": {
    "name": "ipython",
    "version": 3
   },
   "file_extension": ".py",
   "mimetype": "text/x-python",
   "name": "python",
   "nbconvert_exporter": "python",
   "pygments_lexer": "ipython3",
   "version": "3.12.7"
  }
 },
 "nbformat": 4,
 "nbformat_minor": 2
}
