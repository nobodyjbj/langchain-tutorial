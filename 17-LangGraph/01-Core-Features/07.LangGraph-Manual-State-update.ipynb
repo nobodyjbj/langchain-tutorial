{
 "cells": [
  {
   "cell_type": "code",
   "execution_count": 104,
   "metadata": {},
   "outputs": [
    {
     "data": {
      "text/plain": [
       "True"
      ]
     },
     "execution_count": 104,
     "metadata": {},
     "output_type": "execute_result"
    }
   ],
   "source": [
    "from dotenv import load_dotenv\n",
    "import sys\n",
    "\n",
    "sys.path.append(\"../../common\")\n",
    "load_dotenv()"
   ]
  },
  {
   "cell_type": "code",
   "execution_count": 105,
   "metadata": {},
   "outputs": [
    {
     "name": "stdout",
     "output_type": "stream",
     "text": [
      "Langsmith 추적이 활성화되었습니다. [프로젝트명: 17.LangGraph]\n"
     ]
    }
   ],
   "source": [
    "import os\n",
    "from langsmith_tracker import set_tracking\n",
    "\n",
    "# 인스턴스를 생성할 때 필요한 매개변수를 전달합니다.\n",
    "set_tracking(project_name=\"17.LangGraph\")"
   ]
  },
  {
   "cell_type": "markdown",
   "metadata": {},
   "source": [
    "### 중간 단계의 상태 수동 업데이트\n",
    "\n",
    "LangGraph는 중간 단계에서 수동으로 상태를 업데이트 하는 기능을 제공하고 있습니다.  \n",
    "  \n",
    "상태를 업데이트하여 **에이전트의 행동을 수정하여 경로를 제어**할 수 있으며, 현재와 과거를 수정할 수 있습니다.  \n",
    "  \n",
    "이 기능은 **에이전트의 실수**를 수정하거나, 특정 상황에서 특정 행동을 하도록 하는 등의 행동 제어에 유용합니다.    \n",
    "\n",
    "\n",
    "예를 들어,   \n",
    "1. 인터넷 검색할때 잘못된 검색 쿼리로 인해 안좋은 결과를 얻을 수 있는 경우, 개입하여 쿼리 수정을 할 수 있습니다.\n",
    "2. 툴 선택을 LLM 이 잘 못 선택하거나, 요건에 맞는 툴을 선택하지 않을때 개입해서 툴 선택을 제어할 수 있습니다.\n",
    "3. 답변생성 과정에서 프롬프트를 조정할 수 있습니다."
   ]
  },
  {
   "cell_type": "code",
   "execution_count": 106,
   "metadata": {},
   "outputs": [
    {
     "data": {
      "image/png": "[encoded data removed]",
      "text/plain": [
       "<IPython.core.display.Image object>"
      ]
     },
     "metadata": {},
     "output_type": "display_data"
    }
   ],
   "source": [
    "from typing import Annotated\n",
    "from typing_extensions import TypedDict\n",
    "from langchain_openai import ChatOpenAI\n",
    "from tools_tavily import TavilySearch\n",
    "from langgraph.graph import StateGraph, START, END\n",
    "from langgraph.graph.message import add_messages\n",
    "from langgraph.prebuilt import ToolNode, tools_condition\n",
    "from langgraph.checkpoint.memory import MemorySaver\n",
    "from graphs import visualize_graph\n",
    "\n",
    "\n",
    "##### 1. 상태(State) 정의\n",
    "class State(TypedDict):\n",
    "    # 메모리 저장소 추가\n",
    "    messages: Annotated[list, add_messages]\n",
    "\n",
    "\n",
    "##### 2. 도구 정의 및 바인딩\n",
    "# 도구 초기화\n",
    "tool = TavilySearch()\n",
    "tools = [tool]\n",
    "\n",
    "# llm 초기화\n",
    "llm = ChatOpenAI(model=\"gpt-4o-mini\", temperature=0)\n",
    "\n",
    "# llm과 도구 바인디\n",
    "llm_with_tools = llm.bind_tools(tools)\n",
    "\n",
    "\n",
    "##### 3. 노드 추가\n",
    "# 챗봇 함수 정의, 노드 정의\n",
    "def chatbot(state: State):\n",
    "    # 메시지 호출 및 반환\n",
    "    return {\"messages\": [llm_with_tools.invoke(state[\"messages\"])]}\n",
    "\n",
    "\n",
    "# 상태 그래프 생성\n",
    "graph_builder = StateGraph(State)\n",
    "\n",
    "# 챗봇 노드 추가\n",
    "graph_builder.add_node(\"chatbot\", chatbot)\n",
    "\n",
    "# 도구 노드 생성 및 추가\n",
    "tool_node = ToolNode(tools=[tool])\n",
    "\n",
    "# 도구 노드 추가\n",
    "graph_builder.add_node(\"tools\", tool_node)\n",
    "\n",
    "# 조건부 엣지\n",
    "graph_builder.add_conditional_edges(\n",
    "    \"chatbot\",\n",
    "    tools_condition,\n",
    ")\n",
    "\n",
    "##### 4. 엣지 추가\n",
    "# START > chatbot\n",
    "graph_builder.add_edge(START, \"chatbot\")\n",
    "\n",
    "# tools > chatbot\n",
    "graph_builder.add_edge(\"tools\", \"chatbot\")\n",
    "\n",
    "# chatbot > END\n",
    "graph_builder.add_edge(\"chatbot\", END)\n",
    "\n",
    "\n",
    "##### 5. 그래프 컴파일\n",
    "# 메모리 저장소 초기화\n",
    "memory = MemorySaver()\n",
    "\n",
    "# 그래프 컴파일\n",
    "graph = graph_builder.compile(checkpointer=memory)\n",
    "\n",
    "##### 6. 그래프 시각화\n",
    "visualize_graph(graph)"
   ]
  },
  {
   "cell_type": "code",
   "execution_count": 107,
   "metadata": {},
   "outputs": [],
   "source": [
    "from langchain_core.runnables import RunnableConfig\n",
    "\n",
    "question = \"BlockChain이 무엇인지 알려주세요! (웹검색 필수)\"\n",
    "\n",
    "input = State(messages=[(\"user\", question)])\n",
    "\n",
    "config = RunnableConfig(configurable={\"thread_id\": \"1\"})"
   ]
  },
  {
   "cell_type": "markdown",
   "metadata": {},
   "source": [
    "채널 모곡을 출력하여 interrupt_before 와 interrupt_after 를 적용할 수 있는 목록을 확인합니다."
   ]
  },
  {
   "cell_type": "code",
   "execution_count": 108,
   "metadata": {},
   "outputs": [
    {
     "data": {
      "text/plain": [
       "['messages',\n",
       " '__start__',\n",
       " 'chatbot',\n",
       " 'tools',\n",
       " 'branch:chatbot:__self__:chatbot',\n",
       " 'branch:chatbot:__self__:tools',\n",
       " 'branch:tools:__self__:chatbot',\n",
       " 'branch:tools:__self__:tools',\n",
       " 'start:chatbot',\n",
       " 'branch:chatbot:tools_condition:chatbot',\n",
       " 'branch:chatbot:tools_condition:tools']"
      ]
     },
     "execution_count": 108,
     "metadata": {},
     "output_type": "execute_result"
    }
   ],
   "source": [
    "list(graph.channels)"
   ]
  },
  {
   "cell_type": "markdown",
   "metadata": {},
   "source": [
    "아무것도 하지않고 후출했을대 답변입니다. 아래 툴검색 결과를 변경할 것인데, 변경하고 나서와 비교하기 위한 원본입니다."
   ]
  },
  {
   "cell_type": "code",
   "execution_count": 109,
   "metadata": {},
   "outputs": [
    {
     "name": "stdout",
     "output_type": "stream",
     "text": [
      "================================\u001b[1m Human Message \u001b[0m=================================\n",
      "\n",
      "BlockChain이 무엇인지 알려주세요! (웹검색 필수)\n",
      "==================================\u001b[1m Ai Message \u001b[0m==================================\n",
      "Tool Calls:\n",
      "  tavily_web_search (call_NRJuAllqXCYIOr0SvEdppRxy)\n",
      " Call ID: call_NRJuAllqXCYIOr0SvEdppRxy\n",
      "  Args:\n",
      "    query: BlockChain이란 무엇인가\n",
      "=================================\u001b[1m Tool Message \u001b[0m=================================\n",
      "Name: tavily_web_search\n",
      "\n",
      "[{\"title\": \"블록체인이란 무엇인가요? 어떤 원리로 작동하나요? | NordVPN\", \"url\": \"https://nordvpn.com/ko/blog/blockchain-technology-explained/\", \"content\": \"블록체인(Blockchain)이란 정보를 기록하고 저장하는 탈중앙화 시스템입니다. 일련의 순서로 연결된 데이터 단위('블록'이라고 함)로 구성된 일종의 분산 장부 기술(Decentralized Ledger Technology)로, 각 블록에는 이전 블록의 고유 번호가 담겨 있어 체인을 형성하지요.\", \"score\": 0.9976859, \"raw_content\": \"주요 내용으로 건너뛰기\\n왜 NordVPN인가?\\n기능\\n데스크톱\\n모바일\\n확장 프로그램\\n지원 받기\\n더 알아보기\\n지능형 사이버 범죄 위협으로부터 비즈니스를 안전하게 보호하세요.\\n가격\\n지금 바로 비즈니스의 보안과 개인정보 보호를 강화하세요.\\n온라인 보안 및 개인정보 보호\\n비즈니스용 VPN\\n안전한 비밀번호 관리자\\n비즈니스 비밀번호 관리자\\n암호화된 클라우드 스토리지\\n왜 NordVPN인가?\\n기능\\n데스크톱\\n모바일\\n확장 프로그램\\n지원 받기\\n더 알아보기\\n지능형 사이버 범죄 위협으로부터 비즈니스를 안전하게 보호하세요.\\n가격\\n지금 바로 비즈니스의 보안과 개인정보 보호를 강화하세요.\\n모든 카테고리 표시\\n모든 카테고리 숨기기\\n검색\\n검색\\n블록체인이란 무엇인가요? 어떤 원리로 작동하나요?\\n블록체인 기술(Blockchain Technology)은 암호화폐와 NFT 기술의 핵심적인 부분입니다. 모두가 한번쯤은 들어본 개념이지만 제대로 이해하기는 쉽지 않습니다. 블록체인이란 정확히 무엇이며 실제로 어떻게 작동할까요? 블록체인의 장점과 문제점은 무엇일까요? NFT 시장에 투자할만한 가치가 있을까요? 이 글에서 쉽게 설명해드리겠습니다.\\nJune Moon\\n목차\\n블록체인 정의\\n블록체인 뜻\\n블록체인(Blockchain)이란 정보를 기록하고 저장하는 탈중앙화 시스템이다. 일련의 순서로 연결된 데이터 단위(‘블록’이라고 함)로 구성된 일종의 분산 장부 기술(Decentralized Ledger Technology)로, 각 블록에는 이전 블록의 고유 번호가 담겨 있어 체인을 형성한다. 일종의 데이터베이스 역할을 하며, 암호화폐에 활용되는 것으로 가장 널리 알려져 있다. 투명성과 탈중앙화 장점을 활용하여 스마트 계약이나 거버넌스 합의 플랫폼의 역할을 할 수도 있다.\\n먼저 한 가지를 명확히 짚고 넘어가겠습니다. 사람들은 종종 ‘블록체인’에 대해 이야기하지만, 블록체인은 하나의 실체가 아닙니다. 블록체인 개념은 일반적으로 특정 블록체인을 지칭하기보다는 블록체인 기술 전체를 의미합니다.\\n블록체인은 시스템을 변경, 해킹 또는 속이는 것을 어렵거나 불가능하게 만드는 탈중앙화 방식으로 정보를 기록하는 시스템입니다. 다시 말해, 블록체인이란 특정한 프로토콜에 의해 운영되는 컴퓨팅 시스템 네트워크 전체에 복제 및 배포되는 디지털 장부입니다.\\n블록체인의 기술적 개념을 활용한 다양한 블록체인이 존재합니다. 우리에게 가장 익숙한 블록체인 활용사례는 무엇보다도 암호화폐 기술이지요. 이더리움과 비트코인을 예로 들 수 있습니다. 누구나 블록체인 개발자가 될 수 있으며 새로운 블록체인은 언제든지 생성될 수 있습니다.\\n블록체인 기술은 어떻게 작동하나요?\\n블록체인 기본 개념\\n이름에서 알 수 있듯이 블록체인은 일련의 ‘블록’으로 구성됩니다. ‘블록’이라는 용어는 블록체인 코드 내의 데이터 저장 단위를 의미합니다. 각 블록에는 이전 블록의 고유 번호가 포함되어 있으며, 이를 통해 블록의 ‘체인’이 형성됩니다.\\n블록체인 원리\\n특정 블록체인에서 처음으로 생성되는 블록을 제네시스 블록이라고 부르지요. 이러한 첫 번째 블록은 데이터베이스의 첫 번째 줄이라고 생각하시면 됩니다. 그 자체로는 작은 데이터 모음에 불과합니다. 그러나 여기에는 0001과 같은 고유한 숫자 기호가 포함됩니다. 두 번째 블록이 추가되면 이 블록은 0002 블록으로 식별되며 0001 블록의 뒤를 따른다는 정보를 포함합니다. 이것이 체인이 형성되는 방식입니다.\\n블록체인 프로토콜\\n블록체인 프로토콜은 개별 애플리케이션 개발에 사용할 수 있는 다양한 유형의 블록체인 플랫폼을 의미합니다. 각 블록체인 프로토콜은 기본 블록체인 원칙을 특정 산업 또는 애플리케이션에 맞게 조정합니다.\\n자, 여기까지 이해되셨나요? 이제 블록체인을 특별하게 만드는 요소에 대해 알아보겠습니다.\\n블록체인 탈중앙화\\n단일 서버에 저장되는 일반 데이터베이스와 달리 블록체인은 탈중앙화되어 P2P 네트워크에 분산되어 있습니다.\\n네트워크의 각 노드(일반적으로 장치 또는 일종의 서버)에는 블록체인의 사본이 있습니다. 새 블록이 추가되기 전에 네트워크의 대부분의 노드 운영자는 이를 확인하고 검증해야 합니다. 이는 불특정 다수의 사람들이 체인의 무결성을 변조하거나 중요한 정보가 누락되는 위협(예: 이전 블록에 올바르게 연결되지 않는 블록 추가 등)을 제한하는 데 도움이 됩니다.\\n예를 들어, 가장 유명한 암호화폐인 비트코인의 블록체인은 이미 13,000개 이상의 노드를 보유한 것으로 알려졌습니다. 이것이 바로 사람들이 암호화폐와 블록체인을 탈중앙화라고 설명할 때 의미하는 바입니다.\\n이러한 블록체인 이코노미와 블록이 코딩되는 방식 덕분에 일단 정보가 추가되면 체인에서 정보를 제거하기가 매우 어렵습니다.\\nJun 11, 2023\\n7분 소요\\nFeb 23, 2022\\n1분 소요\\n블록체인 장점\\n데이터 무결성\\n탈중앙화 네트워크 시스템으로 인해 데이터 조작 권한을 가진 특정 사람이 존재하지 않습니다. 따라서 임의로 블록체인에 저장된 데이터를 변조하기 어렵습니다. 일단 정보가 체인에 포함되면, 추가한 지 몇 년이 지난 후에 검토하더라도 해당 데이터의 무결성과 정확성을 확신할 수 있습니다.\\n더 높은 투명성\\n대부분의 블록체인은 매우 투명하여 외부 관찰자가 체인에 저장된 데이터를 볼 수 있습니다. 이는 암호화폐에 특히 중요합니다. 블록체인 지갑을 통해 자금의 흐름을 추적하는 것은 개인 은행 계좌를 통해 추적하는 것보다 훨씬 쉽습니다. 이러한 투명성 덕분에 사기꾼을 더 쉽게 식별하고 추적할 수 있습니다.\\n탈중앙화된 제어\\n블록체인 기술은 탈중앙화라는 개념을 기반으로 합니다. 은행이나 신용카드 회사와 같은 대규모 조직에 의존하지 않고 사용자의 데이터와 돈을 처리합니다. P2P 원장 시스템은 특정 개인이나 단체가 블록체인을 과도하게 통제하는 것을 방지합니다.\\n블록체인 단점\\n규제 부족\\n블록체인 기술은 규제가 덜하기 때문에 블록체인에 저장한 데이터를 도난당할 경우 손실을 복구하기가 훨씬 더 어렵습니다. 블록체인 지갑에 암호화폐가 있는데 누군가 지갑에 액세스한 경우, 해당 화폐를 돌려받을 수 있도록 도와줄 은행이나 중앙 기관이 없습니다. 이는 많은 대중이 암호화폐와 그 기반이 되는 기술을 신뢰하지 못하는 주요 요인입니다.\\n지나친 투명성\\n투명성에는 단점도 있습니다. 블록체인의 대부분의 데이터는 대부분의 사람들이 접근할 수 있기 때문에 민감한 정보를 저장하기에 좋은 장소가 아닙니다. 해싱 기술은 데이터 소유자를 숨기지만, 데이터 자체는 여전히 공개되어 있습니다. 그렇기 때문에 정부 기록 보관이나 의료 데이터에 블록체인을 사용하자는 제안에 회의적인 태도를 취해야 합니다.\\n이러한 블록체인 문제점에도 불구하고 이 혁신적 기술은 이미 많은 곳에 사용되고 있습니다.\\n블록체인 예시 및 활용 사례\\n암호화폐\\n비트코인, 이더리움, 도지코인과 같은 암호화폐는 블록체인을 사용하여 거래를 기록합니다. 이러한 디지털 코인이 거래될 때마다 모든 상호작용이 블록체인의 블록에 기록됩니다.\\n즉, 블록체인에 저장된 누군가의 암호화폐 지갑을 찾을 수 있다면 그 사람의 암호화폐 거래 내역을 볼 수 있습니다. 지갑의 소유자가 누구인지 알 수는 없지만, 블록체인은 매우 투명하기 때문에 지갑의 활동 내역을 볼 수 있습니다. 사람들이 추적할 수 없는 암호화폐에 대해 이야기할 때, 보통 거래 자체보다는 지갑 소유자를 추적할 수 없는 경우가 많다는 사실을 말합니다.\\n그러나 거래 내역은 공개되지만, 누가 거래를 했는지에 대한 세부 정보는 ‘해싱’이라는 암호화 프로세스 덕분에 비공개로 유지됩니다.\\nNFT – 대체 불가능한 토큰\\n작년 한 해 동안 대체 불가능한 토큰은 온라인에서 큰 열풍을 일으켰습니다. NFT는 ‘대체 불가능한 토큰(Non Fungible Token)’의 약자로, 이러한 ‘토큰’은 종종 디지털 아트워크나 기타 비물리적 미디어와 연관되어 있습니다.\\n각 토큰은 블록체인에서 고유한 블록을 나타냅니다. 사람들은 투기성 주식과 유사한 방식으로 이러한 토큰을 사고 팔고 있습니다. 자신이 만든 이미지와 같이 자신이 소유한 미디어를 블록체인의 한 포지션에 연결하여 이를 수행합니다. 그런 다음 해당 포지션의 소유권과 관련 미디어를 다른 사람에게 판매할 수 있습니다.\\n구매자는 이를 재판매하여 수익을 창출할 수 있으며, 이러한 방식으로 경매에서 수천만 달러가 거래되기도 합니다. 하지만 섣불리 대체 불가능한 토큰 예술 작품을 구매하기 전에 이미 많은 구매자가 투자로 막대한 손실을 입었다는 사실을 알아두셔야 합니다.\\n기업 내부 블록체인\\n일부 기업은 네트워크의 모든 노드를 통제할 수 있다면 내부 기록 보관에 블록체인 기술을 사용하는 데 개방적입니다. 이는 데이터 무결성과 정확성의 이점을 유지하면서 투명성과 관련된 몇 가지 문제를 해결할 수 있는 좋은 방법입니다.\\n허가형 블록체인이나 컨소시엄 블록체인과 같은 시스템을 사용하면 여러 기업이나 정부 기관이 단일 노드 네트워크를 유지할 수 있습니다. 이를 통해 정보를 기록하고 공개적으로 사용할 수 없이 블록체인에 공유할 수 있습니다.\\n거버넌스 활용\\n블록체인 기술의 익명성을 활용하여 특정 단체의 의사 결정을 위한 투표에 블록체인을 활용할 수 있습니다. 블록체인의 장부에는 모든 데이터가 투명하게 공개되기 때문에 투표 결과에 관한 불신을 방지할 수 있습니다.\\n블록체인 유형\\n공개 블록체인 네트워크\\n가장 일반적인 종류의 블록체인으로, 누구나 액세스할 수 있습니다. 암호화폐는 이러한 체인에서 실행되며, 거래 및 활동 로그 측면에서 가장 적은 개인정보 보호 기능을 제공합니다.\\n비공개 블록체인 네트워크\\n비공개 블록체인은 퍼블릭 블록체인의 극단적인 탈중앙화 없이 기술을 사용하고자 하는 회사나 조직에 적합합니다. 이러한 블록체인은 전 세계의 노드에 분산되어 있지 않고 작업장 내의 여러 장치에서 유지될 수 있습니다. 이러한 블록체인 접근 방식은 더 높은 수준의 안전과 개인정보 보호를 가능하게 합니다.\\n허가형 블록체인 네트워크\\n기업에도 좋은 옵션인 허가형 블록체인은 말 그대로 허가된 블록체인을 말합니다. 중앙 관리자를 통해 액세스 권한을 부여받거나 자동화된 검증 프로세스를 사용해야 합니다. 비공개 블록체인이 허가형 블록체인이 될 수도 있고, 그 반대의 경우도 마찬가지입니다.\\n컨소시엄 블록체인\\n컨소시엄 블록체인은 비공개 및 허가형 블록체인과 비슷하지만 여러 조직에서 공유할 수 있습니다. 예를 들어, 여러 기업이나 정부 기관이 블록체인 네트워크의 노드 유지를 책임질 수 있습니다. 여전히 비교적 비공개로 유지될 수 있지만 관련된 모든 조직의 구성원이 저장된 데이터에 액세스할 수 있습니다.\\n블록체인의 미래\\n블록체인은 많은 잠재적 용도를 가지고 있으며, 이미 통화와 데이터 소유권에 혁명을 일으키고 있습니다. 블록체인이 계속해서 인기를 얻음에 따라 기업과 정부의 요구에 맞게 발전할 수는 있겠지만, 빠른 시일 내에 블록체인이 대중적으로 채택되기는 어려울 것으로 보입니다.\\n탈중앙화 블록체인 기술의 세계에서는 사이버 보안이 온전히 개인의 책임이 되는 만큼이나 대중이 블록체인의 개념과 원리에 관한 정확한 이해를 가지고 있어야만 안전한 사용이 가능할 것입니다. 이 신기술을 악용하려는 사람들의 손에서 일반 사용자들을 보호할 수 있는 관련 법규가 마련되는 것도 필요합니다.\\n블록체인 기술을 더 안전하게 누리자\\n온라인 세상 어디든지 NordVPN과 함께\\nNordVPN이 보호하는디지털 라이프\\n모든 Wi-Fi에서 누리는프라이버시와 보안\\n안티 멀웨어 및 광고 차단기\\n하나의 계정으로 10대의 장치 보호\\n60개 국가 5,800대 서버\\n트렌드 기사\\nNov 20, 2023\\n28분 소요\\n인터넷의 역사\\nJune Moon\\nJun 19, 2023\\n6분 소요\\n휴가철 해외 여행 온라인 예약 비용 절약하기\\nJune Moon\\nMay 15, 2024\\n4분 소요\\n스마트한 여행의 동반자 Saily: 새로운 eSIM\\nJune Moon\\niOS 및 Android 플랫폼용 NordVPN 모바일 앱을 다운로드하세요.\"}, {\"title\": \"블록체인 (Blockchain)이란 무엇인가? 특징, 기술, 장단점\", \"url\": \"https://enjoymedia.tistory.com/entry/블록체인Blockchain이란-무엇인가-특징-기술-장단점\", \"content\": \"블록체인(Blockchain)은 분산 컴퓨팅 기술 기반의 데이터 위변조 방지 기술입니다. 한국에서는 블록체인 기반 암호화폐의 줄임말로 많이 씁니다. P2P 방식을 기반으로 하여 소규모 데이터들이 사슬 형태로 무수히 연결되어 형성된 '블록'이라는 분산 데이터 저장 환경에 관리 대상 데이터를 저장함으로써\", \"score\": 0.99711037, \"raw_content\": null}, {\"title\": \"블록체인이란 무엇인가? - Ledger\", \"url\": \"https://www.ledger.com/ko/academy/블록체인이란-무엇인가요\", \"content\": \"Look no further as Ledger Academy explains blockchain 101 and crypto basics. ... 블록체인이란 무엇인가? 간단히 말해서, 블록체인은 트랜잭션을 기록하고 네트워크에서 디지털 자산의 이동을 추적하는 역할을 하는 분산되고 불변적인 디지털 원장입니다. 주로 블록체인은 금융\", \"score\": 0.99190676, \"raw_content\": \"블록체인이란 무엇인가? | Ledger\\n                                           ![Image 1](https://t.teads.tv/track?action=pageView&env=js-gtm&tag_version=6.21.0_ad40570&provider=tag&buyer_pixel_id=6887&referer=https%3A%2F%2Fwww.ledger.com%2Fko%2Facademy%2F%25EB%25B8%2594%25EB%25A1%259D%25EC%25B2%25B4%25EC%259D%25B8%25EC%259D%25B4%25EB%259E%2580-%25EB%25AC%25B4%25EC%2597%2587%25EC%259D%25B8%25EA%25B0%2580%25EC%259A%2594&user_session_id=76de8878-badc-4a0f-ab25-09b191c59736)![Image 2](https://cm.teads.tv/v3/conversion?action=pageView&env=js-gtm&tag_version=6.21.0_ad40570&provider=tag&buyer_pixel_id=6887&referer=https%3A%2F%2Fwww.ledger.com%2Fko%2Facademy%2F%25EB%25B8%2594%25EB%25A1%259D%25EC%25B2%25B4%25EC%259D%25B8%25EC%259D%25B4%25EB%259E%2580-%25EB%25AC%25B4%25EC%2597%2587%25EC%259D%25B8%25EA%25B0%2580%25EC%259A%2594&user_session_id=76de8878-badc-4a0f-ab25-09b191c59736)![Image 3](https://cm.teads.tv/v3/conversion?action=timeSpent10&env=js-gtm&tag_version=6.21.0_ad40570&provider=tag&buyer_pixel_id=6887&referer=https%3A%2F%2Fwww.ledger.com%2Fko%2Facademy%2F%25EB%25B8%2594%25EB%25A1%259D%25EC%25B2%25B4%25EC%259D%25B8%25EC%259D%25B4%25EB%259E%2580-%25EB%25AC%25B4%25EC%2597%2587%25EC%259D%25B8%25EA%25B0%2580%25EC%259A%2594&user_session_id=76de8878-badc-4a0f-ab25-09b191c59736)\\n\\n홀리데이 이벤트: 최대 70달러 상당의 비트코인을 선물로 받아가세요. 한정 수량으로 준비되어 있어요! 지금 쇼핑하기\\n\\n\\nLedger 쇼핑하기\\n배우고 수익 창출\\n검색\\n용어\\n주제\\nDAOs\\nLedger 솔루션\\nNFT\\n경제 및 규제\\n디파이(DeFi)\\n메타버스(Metaverse)\\n보안\\n블록체인\\n스캠\\n암호화폐\\n튜토리얼\\n\\n\\n시리즈\\nLedger 사용법\\nOn The Ledger\\nSchool of Block\\n독서실\\n암호화폐를 안전하게 보관하세요\\n\\n\\n학습 시작\\n\\n한국어\\n\\nالعربية\\n简体中文\\nEnglish\\nFrançais\\nDeutsch\\nРусский\\nEspañol\\n日本語\\nTürkçe\\nPortuguês\\n\\n\\n\\n수업실\\n\\nA) Web3에 오신 것을 환영합니다\\nWeb 3.0란?\\n블록체인 세대에 관한 설명\\n그렇다면 암호화폐란 정확히 무엇일까요?\\n얼마나 많은 암호화폐가 존재한다고 생각하시나요?\\n블록체인이란 무엇인가?\\n\\n\\nB) 암호화폐를 보호하는 방법\\n암호화폐 지갑이란?\\n개인 키는 무엇인가요?\\n시드 문구(비밀 복구 문구)란?\\n암호화폐 위협: 암호화폐가 도난당하는 방법\\n\\n\\nC) Ledger란 무엇인가요?\\nLedger가 무엇인가요? Ledger 생태계에 대한 설명\\nLedger Nano는 어떻게 암호화폐를 보호하나요?\\nLedger Live 앱: 암호화폐 매매, 스테이킹 및 스왑\\n\\n\\nD) Web3 보안 필수 사항\\nWeb3 스캠에 관한 설명\\n자체 조사하기: 암호화폐 프로젝트를 조사하는 방법\\n암호화폐를 Ledger Nano로 마이그레이션하는 방법\\n\\n\\nF) 블록체인 기초\\n크립토 노드: 그 정의와 작동 원리는?\\n\\n\\nG) 지갑 관련 지식(레벨업)\\n하드웨어 지갑이란?\\n소프트웨어 지갑이란?\\n암호화폐 지갑을 선택하는 방법\\n콜드 월렛은 무엇인가요?\\n\\n\\nH) 암호화폐 매매와 스왑을 통해 자산을 키워보세요\\nLedger Live를 통해 암호자산 늘리기: 스테이킹이 쉬워집니다\\nLedger Live를 통해 암호화폐를 안전하게 하는 방법\\n\\n\\n\\n\\n주제\\nLedger 솔루션\\nNFT\\n디파이(DeFi)\\n보안\\n블록체인\\n스캠\\n암호화폐\\n튜토리얼\\n\\n\\n시리즈\\nLedger 사용법\\nOn The Ledger\\nSchool of Block\\n독서실\\n암호화폐를 안전하게 보관하세요\\n\\n\\nLedger 쇼핑하기\\n배우고 수익 창출\\n검색\\n용어\\n한국어\\nالعربية\\n简体中文\\nEnglish\\nFrançais\\nDeutsch\\nРусский\\nEspañol\\n日本語\\nTürkçe\\nPortuguês\\n\\n\\n\\n\\n\\nLedger 아카데미\\nA) Web3에 오신 것을 환영합니다\\n...\\n블록체인이란 무엇인가?\\n\\n수업실\\n경로 A) Web3에 오신 것을 환영합니다\\n장 5/5\\n블록체인이란 무엇인가?\\nDec 22, 2022 | 업데이트됨 Jun 11, 2024\\n읽기 6 분\\n입문자용\\n공유\\n\\n\\n주요 시사점:—블록체인 네트워크는 암호화폐의 기반을 제공하여 P2P 트랜잭션을 가능하게 합니다.— 블록체인은 지금까지 이루어진 모든 단일 트랜잭션을 기록하는 불변의 디지털 원장입니다.— 블록체인 기술의 무신뢰 기능은 기존 은행 업무에 큰 도전이 될 수 있는 디파이(DeFi) 산업을 촉발시켰습니다.\\n블록체인 기술은 처음에는 매우 어려운 개념으로 보일 수 있지만, 핵심 기능 중 일부를 이해하면 곧 web3 전문가로 나아가는 데 도움이 될 수 있습니다. 모든 블록체인이 비트코인만큼 안전하고, 이더리움만큼 유용하다고 생각할 수도 있습니다. 그러나 실제로 모든 블록체인 네트워크에는 그 마다 큰 차이가 있습니다. 거버넌스부터 새로운 코인 생성, 심지어 네트워크에 참여할 수 있는 대상에 이르기까지, 블록체인에는 전체 네트워크가 작동하는 방식을 바꿀 수 있는 기능이 있을 수 있습니다.\\n일부 블록체인은 특정 사용 사례에서 다른 블록체인보다 우수하다고 할 수 있으만, 각각 일장일단이 있습니다. 따라서 이번 Ledger 아카데미에서는 블록체인이 무엇인지, 어떻게 작동하는지, 또한 다양한 유형의 블록체인과 그 용도에 대해 알아야 할 사항에는 무엇이 있는지 모두 살펴보도록 하겠습니다.\\n하지만 기술적인 내용을 자세히 살펴보기 전에 기본 중의 기본부터 시작해 보겠습니다.\\n블록체인이란 무엇인가?\\n간단히 말해서, 블록체인은 트랜잭션을 기록하고 네트워크에서 디지털 자산의 이동을 추적하는 역할을 하는 분산되고 불변적인 디지털 원장입니다. 주로 블록체인은 금융 자산을 추적하는 데 사용되었지만 오늘날에는 어마어마한 가치 저장 능력으로 인해 사용 사례가 점점 늘어나고 있습니다. 블록체인에는 새로운 기술을 가능하게 하는 몇 가지 주요 기능이 있으며, 이는 흔히 Web3라고 불립니다. 그렇다면 이러한 주요 기능은 무엇일까요?\\n블록체인 네트워크의 주요 특징\\n블록체인에는 다른 흥미로운 기능이 많이 있습니다. 그러나 그 모든 기능이 분산 원장 기술과 불변 기록이라는 두 핵심 요소에서 시작됩니다.\\n분산 원장 기술\\n블록체인은 단일 중앙 서버에 정보를 호스팅하지 않고, 원장을 시스템의 모든 컴퓨터에 배포합니다. 이러한 컴퓨터를 노드라고 하며 정보 저장, 공유, 기록과 디지털 자산 전송을 담당합니다. 이는 “분산원장” 기술의 기본이며, 블록체인이 정보를 안전하게 저장할 수 있는 유일한 방법입니다.\\n불변의 기록\\n다음으로, 블록체인에는 해당 정보를 블록 내에 저장하는 고유한 방법이 있습니다. 블록은 체인으로 배열되어 네트워크 전체에 분산되므로 ‘블록체인’이라는 이름이 붙었습니다. 이러한 데이터 구조로 때문에 한 번 블록체인에 기록된 정보는 변경할 수 없습니다. 이러한 특징 때문에 블록체인은 해킹이 거의 불가능합니다.\\n블록체인의 용도는?\\n늘상 디지털 트랜잭션을 하고 있는데, 새삼 무엇이 중요하다는 것인지 의아하다는 생각이 들지도 모르겠습니다. 그러나 디지털 방식으로 돈을 전송하는 것은 이메일이나 사진과 같은 정보를 보내는 것과는 매우 다릅니다.\\n어떤 통화가 가치를 가지려면 공급이 유한해야 합니다. 성공적인 디지털 거래에서는 받는 측에서 해당하는 가치를 온전하게 수령하고, 보내는 사람의 계정에서는 정확히 동일한 가치가 사라집니다. 그렇게 되지 않으면, 이는 이중 지불이 되는 것입니다.\\n“이중 지불”이라는 용어가 생소할 수는 있겠지만, 이는 전체 금융 시스템과 은행에 대한 신뢰를 형성하는 핵심 요소입니다. 블록체인 기술은 트랜잭션을 확인하기 위해 중앙화된 주체를 개입시키지 않고 이중 지불 문제를 해결합니다. 이는 투명하고 안전하며 익명의 P2P 가치 교환을 대규모로 전송할 수 있음을 의미합니다. 그런데 이게 정확히 무슨 뜻일까요?\\n단순히 말해 이중 지불 문제를 해결한다는 것은 블록체인을 통해 자산이 한 사람에서 다른 사람으로 전달된다는 확신을 가지고 누군가와 가치를 교환할 수 있게 된다는 것을 뜻합니다. 중요한 것은 양측이 자산을 각각 사용할 수 있도록 하여 시스템에 새로운 자산을 생성하지 않고도 그렇게 할 수 있어야 한다는 것이죠.\\n블록체인의 종류\\n블록체인 네트워크를 구축하는 방법에는 여러 가지가 있으며, 관련하여 생각보다 복잡한 내용이 담겨 있을 수 있습니다. 대부분의 사람이 블록체인하면 비트코인과 같은 탈중앙화 또는 퍼블릭 블록체인을 떠올립니다. 하지만 블록체인 기술도 중앙화된 시스템을 구축할 수 있다는 점을 짚고 넘어가야 합니다.\\n블록체인이 P2P 전송과 분산형 가치 교환을 허용한다고 해서 모든 블록체인이 이런 방식으로 작동하는 것은 아닙니다. 일부 블록체인은 퍼블릭, 프라이빗, 허가형이거나, 아니면 컨소시엄에 의해 구축되었습니다. 일부는 이러한 유형 중 일부를 조합한 경우도 있습니다.\\n이제 다양한 유형의 블록체인 네트워크 간의 차이점과 그 차이점이 중요한 이유를 살펴 보겠습니다.\\n프라이빗, 허가형 및 컨소시엄 블록체인\\n허가형 블록체인은 정부나 회사와 같은 단일 기관에서 운영하기 때문에 중앙 기관이 시스템에 대한 액세스와 노드 운영자를 제한할 수 있습니다. 또한 노드를 운영하는 사람에게는 많은 권한이 주어지며, 그 권한이 오용될 수도 있습니다.\\n다음으로 프라이빗 블록체인을 살펴보면, 개념적으로는 이 유형의 블록체인은 항상 허가의 대상입니다. 그러나 실제로는 여기서 한 단계 더 나아갑니다. 프라이빗 블록체인은 노드를 운영할 수 있는 사람을 제한할 뿐만 아니라 시스템에 액세스할 수 있는 사람도 제한합니다. 이는 완전히 중앙 집중화된 시스템이며 이를 통해 기업은 사용자의 신원과 데이터를 보호할 수 있습니다. 이러한 특성 때문에 프라이빗 블록체인 시스템은 시스템과 해당 데이터에 대한 통제권을 유지하려는 정부나 산업 단체가 선호합니다.\\n좋은 예로는 Hyperledger를 들 수 있으며, 이 경우, 사용자 데이터(예: 배송 정보)를 엿보는 사람이 접근하지 못하도록 비공개 시스템을 사용하는데, 투명한 블록체인을 사용하는 경우라면 개인 정보 보호 측면에서 리스크가 발생할 수 있습니다.\\n반면 컨소시엄 블록체인도 허가형 블록체인이지만 단일 엔터티에 의해 관리되지 않고 자체 관리를 담당하는 조직 그룹입니다. 이 방법은 협력을 원하는 금융 시스템에서 널리 사용됩니다. 이러한 블록체인은 투표 시스템을 사용하여 변경 사항을 확인하기 때문에 트랜잭션을 빠르게 처리할 수 있습니다.\\n그러나 이 모든 옵션은 매우 중앙 집중화된 방식입니다. 즉, 단일 실패 지점이 존재하며 전혀 안전하지 않습니다.\\n무허가형 퍼블릭 블록체인\\n반대로, 무허가형 블록체인을 사용하면 누구나 네트워크에서 노드를 운영할 수 있습니다. 이 시스템에는 보통 전 세계에 뿔뿔이 흩어져 있는 참가자가 더 많습니다.\\n이로 인해 프라이빗이나 허가형 블록체인 보다 속도가 느려집니다. 그래도 시스템이 클수록 나쁜 의도로 블록체인에 참여하는 부류를 단속하기는 더 쉽죠. 따라서 무허가형 블록체인의 분산형 특성으로 인해 프라이빗 블록체인보다 훨씬 더 안전합니다.\\n개념상 허가가 없는 퍼블릭 블록체인도 있습니다. 누구든지 네트워크에 참여할 수 있을 뿐만 아니라 모든 노드를 동등하게 취급하며 네트워크의 모든 데이터를 모든 참가자가 쉽게 사용할 수 있습니다. 퍼블릭 블록체인은 투명하고 안전하며 감사가 가능하기 때문에 암호화폐에 적합합니다. 퍼블릭 블록체인의 좋은 예는 비트코인 네트워크입니다.\\n블록체인은 어떻게 작동하나요?\\n앞서 언급했듯이 블록체인 네트워크는 네트워크에 참여하는 모든 컴퓨터(노드라고도 함)에 데이터를 저장합니다. 크립토 노드는 트랜잭션 검증 프로세스에 참여하여 네트워크 보안에 기여합니다. 이러한 각 노드는 정보를 블록에 저장합니다. 그런 다음 각 블록은 체인으로 배열됩니다. 네트워크가 트랜잭션을 처리할 때마다 체인이 늘어납니다.\\n\\n그러나 노드는 읽을 수 있는 방식으로 정보를 저장하지 않고, 대신 암호화 해시를 사용합니다. 트랜잭션에 포함된 민감한 정보를 보호하기 위해 노드는 해당 정보를 숫자와 문자로 된 문자열로 변환하여 각 블록에 저장합니다.\\n이 암호화 해시에는 해당 블록의 정보뿐만 아니라 체인의 이전 블록에 대한 정보도 포함됩니다. 즉, 누군가 한 블록을 변경하면 해당 해시도 변경되므로 체인의 모든 후속 블록도 변경됩니다. 이렇게 함으로써 잠재적인 편집 내용이 전체 네트워크에서 눈에 띄게 되므로 안전합니다. 트랜잭션이 블록체인 기록에 일찍 기록될수록 데이터를 변경하기가 더 어려워집니다. 이러한 특성으로 인해 블록체인은 귀중한 데이터를 저장하기 위한 고유한 매체로서 역할을 할 수 있는 것입니다. 더 자세히 알아보고 싶다면 블록체인 트랜잭션 및 노드와 그 작동 원리에 대한 글 전문을 읽어보세요.\\n지금까지 블록체인이 정보를 저장하는 방법을 살펴보았습니다.\\n그런데 “노드가 자신의 이익을 위해 네트워크 상태에 대해 거짓말을 할 수도 있는데, 그것을 어떻게 막지?”라는 의구심이 들 수도 있습니다.\\n그런 거짓말을 막을 수 있을지 여부는 블록체인의 유형과 합의 메커니즘에 달려 있습니다.\\n블록체인은 어떻게 보호되나요?\\n허가형 블록체인과 프라이빗 블록체인의 경우 일반적으로 통제 주체가 투표를 조직합니다. 그러나 비트코인이나 이더리움과 같은 퍼블릭 블록체인은 합의 메커니즘을 사용하여 보다 분산된 방식으로 보안을 유지합니다.\\n\\n합의 메커니즘이란?\\n이것이 퍼블릭 블록체인의 가장 영리한 부분입니다. 지구상에 수천 개의 노드가 흩어져 있으며, 이들 중 대다수는 블록체인에 참여하기 전에 각각의 새로운 트랜잭션을 검증해야 합니다. 블록이 추가되면 블록체인의 모든 노드는 동일한 상태에 도달해야 하며, 이를 합의 달성이라고 합니다.\\n블록체인 원장의 관리는 너무나 광범위하게 분산되어 있기 때문에 어느 한 주체가 네트워크를 제어하거나 거짓 정보를 인증하는 것은 불가능합니다. 이러한 특성 때문에 전체 네트워크의 보안이 유지됩니다. 그러나 이러한 노드가 트랜잭션을 처리하는 방식은 블록체인이 사용하는 합의 메커니즘에 따라 약간 다릅니다. 게다가 각 방법마다 일장일단이 있습니다.\\n차이점을 완전히 이해하려면 합의 메커니즘의 개념에 대한 전체 Ledger 아카데미 기사를 읽어보세요.\\n다양한 합의 메커니즘\\n퍼블릭 블록체인에는 ‘작업 증명’ 및 ‘지분 증명’이라는 두 가지 주요 합의 메커니즘이 있습니다. 그러나 더욱 중앙화되고 사용 빈도가 낮은 몇 가지 다른 합의 방법도 있습니다.\\n작업 증명(PoW): 채굴자를 통해 많은 계산 능력이 필요한 복잡한 퍼즐을 풀어 새로운 코인을 생성하고 트랜잭션을 처리하는 느리고 안전한 합의 메커니즘으로, 채굴자가 시스템을 속이려고 해도, 거기에 들어가는 에너지 비용이 훨씬 더 많이 들기 때문에 애초에 그러한 시도를 할 이유가 없어 네트워크가 안전하게 유지될 수 밖에 없습니다. PoW 블록체인의 좋은 예는 비트코인입니다.\\n지분 증명(PoS): 검증인을 통해 트랜잭션을 처리하는 더 빠르고 에너지 효율적인 합의 메커니즘입니다. PoS 블록체인의 검증인은 신뢰성을 증명하기 위해 계산 능력을 사용하는 대신 상당한 양의 암호화폐를 담보로 사용합니다. 이에 대해 더 자세히 알아보려면 암호화폐 스테이킹에 대한 전체 기사를 읽어보세요. 어찌됐든 기본적으로 검증인은 명예롭게 행동하도록 인센티브를 받습니다. 한마디로 잘하면 상을 받고, 못되게 행동하면 벌을 받는 것이죠. 이 시스템을 사용하는 블록체인의 좋은 예는 이더리움입니다.\\n블록체인에 대해 주목할 점\\n블록체인 기술하면 보통 암호화폐를 떠올리지만 실제로 이 기술은 그보다 더 많은 역할을 수행할 수 있습니다. 블록체인은 단지 암호화폐와 금융뿐만 아니라 다른 새로운 용도로도 사용할 수 있습니다.\\n예를 들어, 일부 블록체인 네트워크는 블록체인 버전의 컴퓨터 프로그램과 유사한 스마트 계약을 실행할 수 있습니다. 스마트 계약은 지나치게 전문적이 않으면서 블록체인 기술에 전체적인 문화적 혁명을 불러 왔습니다.\\n이 컴퓨터 프로그램을 사용하면 다양한 사용 사례를 갖춘 블록체인 앱을 만들 수 있습니다.\\n예를 들어, 대출과 차용을 허용하는 탈중앙화 금융 앱은 이 기능 덕분에 가능합니다. 또한 대체 불가능한 토큰 형태의 블록체인 게임과 블록체인 아트도 가능해졌습니다. 이러한 프로그램은 또한 The Sandbox 및 Decentraland와 같은 탈중앙화된 메타버스 플랫폼의 가능성을 열어주었습니다.\\n실제로 블록체인 기술은 우리가 사물을 관리하는 방식을 바꿀 수도 있습니다. 토큰과 코인을 사용하면 탈중앙화된 자율조직(DAO) 형태로 복잡한 분산형 투표 시스템을 만들 수 있기 때문입니다.\\nweb3 산업의 혁신성이 더욱 확대됨에 따라 점점 더 많은 사용 사례가 생겨날 가능성도 함께 커집니다. 간단히 말해서, 블록체인 기술은 향후에도 계속해서 큰 잠재력을 발휘할 것이며, 미래에 또 어떤 변화를 가져올지 그 누구도 예단하기 어렵습니다.\\n\\n공유\\n\\n다음: 블록체인 세대에 관한 설명\\n관련 리소스\\n\\nLedger Stax 또는 Ledger Flex로 업그레이드하는 이유와 그 시작 방법은 무엇입니까?\\n읽기\\n입문자용\\n\\n10년 간의 Ledger 발자취: 모두를 위한 안전한 셀프 커스터디\\n읽기\\n입문자용\\n\\n개인 키와 시드 문구: 그 차이점은?\\n읽기\\n6 분 입문자용\\n\\nNFT 민팅 방법\\n읽기\\n5 분 입문자용\\n\\n솔라나 스테이킹: SOL 스테이킹 방법\\n읽기\\n7 분 중급자용\\n\\nLedger Recover란?\\n읽기\\n6 분 입문자용\\n\\nLedger 장치를 분실하거나 도난당한 경우: 내 암호화폐는 안전한가?\\n읽기\\n4 분 입문자용\\n\\n블록체인 검증인이란?\\n읽기\\n입문자용\\n\\n이더리움 지분 증명이 무엇인가요?\\n읽기\\n6 분 중급자용\\n소통하기\\n공지 사항은 블로그에서 확인할 수 있습니다. 홍보 문의:\\nmedia@ledger.com\\n\\n\\n\\n\\n\\n\\n\\n\\n\\n\\n당사의\\n뉴스레터 구독\\n새롭게 지원되는 코인, 블로그 업데이트 및 특별한 혜택 정보를 이메일로 직접 받아보세요\\n이메일 입력\\n 뉴스레터 신청하기\\n\\n귀하의 이메일 주소는 뉴스레터, 업데이트 및 제안을 보내는 데만 사용됩니다. 뉴스레터에 포함된 링크를 사용하여 언제든지 구독을 해지할 수 있습니다.\\n당사에서 사용자 데이터 및 권리를 관리하는 방식을 자세히 알아보세요.\\n\\n\\n\\n한국어\\nالعربية\\n简体中文\\nEnglish\\nFrançais\\nDeutsch\\nРусский\\nEspañol\\n日本語\\nTürkçe\\nPortuguês\\n\\n\\n\\nCopyright © Ledger SAS. 판권 소유. Ledger, Ledger Stax, Ledger Nano S, Ledger Vault, BOLOS는 Ledger SAS 소유의 상표입니다.  \\n106 rue du Temple, 75003 Paris, France\\n결제 방법\\n\\n\\n\\n제품\\n\\n하드웨어 지갑\\nLedger Stax\\nLedger Flex\\nLedger Nano X\\nLedger Nano S Plus\\n장치 비교하기\\n번들\\n액세서리\\n모든 제품\\n다운로드\\n\\n\\n\\n암호화폐\\n\\n비트코인 지갑\\n이더리움 지갑\\n솔라나 지갑\\n카르다노 지갑\\n리플(XRP) 지갑\\n모네로 지갑\\nUSDT 지갑\\n모든 자산 보기\\n\\n\\n\\n암호화폐 서비스\\n\\n암호화폐 가격\\n암호화폐 구매\\n암호화폐 스왑\\n스테이킹\\n\\n\\n\\n비즈니스\\n\\nLedger 기업용 솔루션\\n\\n\\n\\n스타트업용\\n\\nLedger Cathay Capital에서의 펀딩\\n\\n\\n\\n개발자\\n\\n개발자 포털\\n\\n\\n\\n시작하기\\n\\nLedger 장치 이용을 시작하세요\\n호환 가능한 지갑 및 서비스\\n비트코인 구매 방법\\n비트코인 구매 전 가이드\\n비트코인 하드웨어 지갑\\n\\n\\n\\n더 보기\\n\\n지원\\n바운티 프로그램\\n리셀러\\nLedger 프레스 키트\\n제휴사\\n상태\\n개발자\\n파트너\\n\\n\\n\\n채용\\n\\n가입하기\\n모든 채용\\n\\n\\n\\n소개\\n\\nLedger의 비전\\nLedger 아카데미\\n기업\\n임직원 소개\\n다양성\\n블로그\\n\\n\\n\\n법무\\n\\n법률센터\\n판매 이용 약관\\n개인 정보 보호 정책\\n쿠키 정책\\n면책 고지![Image 12](https://t.co/1/i/adsct?bci=4&dv=UTC%26en-US%2Cen%26Google%20Inc.%26Win32%26255%26800%26600%264%2624%26800%26600%260%26na&eci=3&event=%7B%7D&event_id=89a50a45-2e26-4901-91fb-7f982ccfdb25&integration=gtm&p_id=Twitter&p_user_id=0&pl_id=b35d4ad6-3eba-43d2-8a43-c8b5911d186c&tw_document_href=https%3A%2F%2Fwww.ledger.com%2Fko%2Facademy%2F%25EB%25B8%2594%25EB%25A1%259D%25EC%25B2%25B4%25EC%259D%25B8%25EC%259D%25B4%25EB%259E%2580-%25EB%25AC%25B4%25EC%2597%2587%25EC%259D%25B8%25EA%25B0%2580%25EC%259A%2594&tw_iframe_status=0&txn_id=nzkax&type=javascript&version=2.3.31)![Image 13](https://analytics.twitter.com/1/i/adsct?bci=4&dv=UTC%26en-US%2Cen%26Google%20Inc.%26Win32%26255%26800%26600%264%2624%26800%26600%260%26na&eci=3&event=%7B%7D&event_id=89a50a45-2e26-4901-91fb-7f982ccfdb25&integration=gtm&p_id=Twitter&p_user_id=0&pl_id=b35d4ad6-3eba-43d2-8a43-c8b5911d186c&tw_document_href=https%3A%2F%2Fwww.ledger.com%2Fko%2Facademy%2F%25EB%25B8%2594%25EB%25A1%259D%25EC%25B2%25B4%25EC%259D%25B8%25EC%259D%25B4%25EB%259E%2580-%25EB%25AC%25B4%25EC%2597%2587%25EC%259D%25B8%25EA%25B0%2580%25EC%259A%2594&tw_iframe_status=0&txn_id=nzkax&type=javascript&version=2.3.31)\\n\\n\\n\\n\\n\\nThis website uses cookies\\nBy clicking “Accept All”, you agree to the storing of cookies on your device to enhance site navigation, analyze site usage, and assist in our marketing efforts. Cookie Policy\\nCookies Settings Accept All\\n\\nPrivacy Preference Center\\n\\n\\nYour Privacy\\n\\n\\nStrictly Necessary Cookies\\n\\n\\nPerformance Cookies\\n\\n\\nFunctional Cookies\\n\\n\\nTargeting Cookies\\n\\n\\nSocial Media Cookies\\n\\n\\nYour Privacy\\nWhen you visit any website, it may store or retrieve information on your browser, mostly in the form of cookies. This information might be about you, your preferences or your device and is mostly used to make the site work as you expect it to. The information does not usually directly identify you, but it can give you a more personalized web experience. Because we respect your right to privacy, you can choose not to allow some types of cookies. Click on the different category headings to find out more and change our default settings. However, blocking some types of cookies may impact your experience of the site and the services we are able to offer.\\nMore information\\nStrictly Necessary Cookies\\nAlways Active\\nThese cookies are necessary for the website to function and cannot be switched off in our systems. They are usually only set in response to actions made by you which amount to a request for services, such as setting your privacy preferences, logging in or filling in forms. You can set your browser to block or alert you about these cookies, but some parts of the site will not then work. These cookies do not store any personally identifiable information.\\nView Vendor Details‎\\nPerformance Cookies\\nPerformance Cookies\\nThese cookies allow us to count visits and traffic sources so we can measure and improve the performance of our site. They help us to know which pages are the most and least popular and see how visitors move around the site. All information these cookies collect is aggregated and therefore anonymous. If you do not allow these cookies we will not know when you have visited our site, and will not be able to monitor its performance.\\nView Vendor Details‎\\nFunctional Cookies\\nFunctional Cookies\\nThese cookies enable the website to provide enhanced functionality and personalisation. They may be set by us or by third party providers whose services we have added to our pages. If you do not allow these cookies then some or all of these services may not function properly.\\nView Vendor Details‎\\nTargeting Cookies\\nTargeting Cookies\\nThese cookies may be set through our site by our advertising partners. They may be used by those companies to build a profile of your interests and show you relevant adverts on other sites. They do not store directly personal information, but are based on uniquely identifying your browser and internet device. If you do not allow these cookies, you will experience less targeted advertising.\\nView Vendor Details‎\\nSocial Media Cookies\\nSocial Media Cookies\\nThese cookies are set by a range of social media services that we have added to the site to enable you to share our content with your friends and networks. They are capable of tracking your browser across other sites and building up a profile of your interests. This may impact the content and messages you see on other websites you visit. If you do not allow these cookies you may not be able to use or see these sharing tools.\\nView Vendor Details‎\\nVendors List\\nConsent Leg.Interest\\ncheckbox label label\\ncheckbox label label\\ncheckbox label label\\nClear\\ncheckbox label label\\nApply Cancel\\nConfirm My Choices\\nAllow All\\n\\n\\n\\n\"}]\n",
      "==================================\u001b[1m Ai Message \u001b[0m==================================\n",
      "\n",
      "블록체인(Blockchain)은 정보를 기록하고 저장하는 탈중앙화 시스템으로, 일련의 순서로 연결된 데이터 단위(블록)로 구성된 분산 장부 기술입니다. 각 블록은 이전 블록의 고유 번호를 포함하고 있어 체인을 형성합니다. 이 기술은 주로 암호화폐와 관련되어 있지만, 스마트 계약, 거버넌스 합의 플랫폼 등 다양한 분야에서도 활용됩니다.\n",
      "\n",
      "### 블록체인의 주요 특징\n",
      "1. **탈중앙화**: 블록체인은 중앙 서버에 의존하지 않고, P2P 네트워크에 분산되어 있습니다. 각 노드(장치 또는 서버)는 블록체인의 사본을 보유하고 있어, 데이터의 무결성을 유지합니다.\n",
      "2. **불변성**: 한 번 블록체인에 기록된 정보는 변경하기 어렵습니다. 이는 해킹이나 데이터 조작을 방지하는 데 중요한 역할을 합니다.\n",
      "3. **투명성**: 블록체인에 저장된 데이터는 외부에서 확인할 수 있어, 거래의 흐름을 쉽게 추적할 수 있습니다.\n",
      "\n",
      "### 블록체인의 장점\n",
      "- **데이터 무결성**: 특정 개인이나 단체가 데이터를 조작할 수 없으므로, 정보의 정확성을 보장합니다.\n",
      "- **높은 투명성**: 모든 거래가 공개되어 있어, 사기나 부정행위를 쉽게 식별할 수 있습니다.\n",
      "- **탈중앙화된 제어**: 중앙 기관 없이 사용자 간의 직접적인 거래가 가능하여, 중개자의 필요성을 줄입니다.\n",
      "\n",
      "### 블록체인의 단점\n",
      "- **규제 부족**: 블록체인에 저장된 데이터가 도난당할 경우, 복구가 어렵습니다.\n",
      "- **지나친 투명성**: 모든 데이터가 공개되기 때문에, 민감한 정보를 저장하기에는 적합하지 않을 수 있습니다.\n",
      "\n",
      "블록체인은 암호화폐(예: 비트코인, 이더리움) 외에도 NFT(대체 불가능한 토큰), 기업 내부 기록 보관, 거버넌스 투표 시스템 등 다양한 분야에서 활용되고 있습니다.\n",
      "\n",
      "더 자세한 내용은 [NordVPN 블로그](https://nordvpn.com/ko/blog/blockchain-technology-explained/)와 [Ledger 아카데미](https://www.ledger.com/ko/academy/블록체인이란-무엇인가요)에서 확인할 수 있습니다.\n"
     ]
    }
   ],
   "source": [
    "# 그래프 스트림 호출\n",
    "events = graph.stream(\n",
    "    input=input,\n",
    "    config=config,\n",
    "    stream_mode=\"values\",\n",
    ")\n",
    "\n",
    "# 이벤트 반복 처리\n",
    "for event in events:\n",
    "    if \"messages\" in event:\n",
    "        event[\"messages\"][-1].pretty_print()"
   ]
  },
  {
   "cell_type": "code",
   "execution_count": 110,
   "metadata": {},
   "outputs": [
    {
     "name": "stdout",
     "output_type": "stream",
     "text": [
      "================================\u001b[1m Human Message \u001b[0m=================================\n",
      "\n",
      "BlockChain이 무엇인지 알려주세요! (웹검색 필수)\n",
      "==================================\u001b[1m Ai Message \u001b[0m==================================\n",
      "Tool Calls:\n",
      "  tavily_web_search (call_EtVUsQToIP348CuLeuKj3dSb)\n",
      " Call ID: call_EtVUsQToIP348CuLeuKj3dSb\n",
      "  Args:\n",
      "    query: 블록체인 정의\n"
     ]
    }
   ],
   "source": [
    "# 그래프 스트림 호출\n",
    "events = graph.stream(\n",
    "    input=input,\n",
    "    config=config,\n",
    "    interrupt_before=[\"tools\"],\n",
    "    stream_mode=\"values\",  # interrupt_before 로 tools 노드에서 멈추게 함\n",
    ")\n",
    "\n",
    "# 이벤트 반복 처리\n",
    "for event in events:\n",
    "    # 메시지가 이벤트에 포함된 경우\n",
    "    if \"messages\" in event:\n",
    "        # 마지막 메시지의 예쁜 출력\n",
    "        event[\"messages\"][-1].pretty_print()"
   ]
  },
  {
   "cell_type": "code",
   "execution_count": 111,
   "metadata": {},
   "outputs": [
    {
     "name": "stdout",
     "output_type": "stream",
     "text": [
      "==================================\u001b[1m Ai Message \u001b[0m==================================\n",
      "Tool Calls:\n",
      "  tavily_web_search (call_EtVUsQToIP348CuLeuKj3dSb)\n",
      " Call ID: call_EtVUsQToIP348CuLeuKj3dSb\n",
      "  Args:\n",
      "    query: 블록체인 정의\n"
     ]
    }
   ],
   "source": [
    "# 그래프 상태 스냅샷 생성\n",
    "snapshot = graph.get_state(config)\n",
    "\n",
    "# 가장 최근 메시지 추출\n",
    "last_message = snapshot.values[\"messages\"][-1]\n",
    "\n",
    "# 메시지 출력\n",
    "last_message.pretty_print()"
   ]
  },
  {
   "cell_type": "markdown",
   "metadata": {},
   "source": [
    "#### 사람의 개입(Human-in-the-Loop)\n",
    "\n",
    "![image.png](./image/langgraph-manual-state-update.png)"
   ]
  },
  {
   "cell_type": "markdown",
   "metadata": {},
   "source": [
    "테스트를 위한 가상 웹검색 결과 추가합니다."
   ]
  },
  {
   "cell_type": "code",
   "execution_count": 112,
   "metadata": {},
   "outputs": [
    {
     "name": "stdout",
     "output_type": "stream",
     "text": [
      "[수정된 웹 검색 결과]\n",
      "    블록체인 기술은 다양한 산업 분야에서 활용되고 있으며, 그에 따라 여러 종류의 블록체인 네트워크가 존재합니다. 대표적인 블록체인 네트워크는 다음과 같습니다:\n",
      "    1. 비트코인 (Bitcoin): 2009년에 사토시 나카모토라는 익명의 인물이 개발한 최초의 암호화폐이자 블록체인 네트워크입니다. 비트코인은 탈중앙화된 디지털 통화로, 중앙 기관 없이 개인 간의 거래를 가능하게 합니다.\n",
      "    2. 이더리움 (Ethereum): 2015년에 비탈릭 부테린이 개발한 블록체인 플랫폼으로, 스마트 계약 기능을 통해 다양한 분산 애플리케이션(DApp)을 구축할 수 있습니다. 이더리움은 암호화폐인 이더(ETH)를 사용하며, 금융, 게임, 예술 등 다양한 분야에서 활용되고 있습니다.\n",
      "    3. 리플 (Ripple): 리플은 금융 기관 간의 국제 송금을 빠르고 저렴하게 처리하기 위해 개발된 블록체인 기반의 결제 프로토콜입니다. 리플의 네이티브 암호화폐인 XRP를 활용하여 거래 속도를 높이고 비용을 절감할 수 있습니다.\n",
      "    4. 하이퍼레저 (Hyperledger): 리눅스 재단이 주도하는 오픈 소스 블록체인 프로젝트로, 기업용 블록체인 솔루션을 개발하기 위한 플랫폼입니다. 하이퍼레저는 모듈식 아키텍처를 통해 다양한 산업 분야에서 맞춤형 블록체인 네트워크를 구축할 수 있도록 지원합니다.\n",
      "    5. EOS: 이더리움과 유사하게 스마트 계약 및 DApp 개발을 지원하는 블록체인 플랫폼으로, 높은 처리 속도와 확장성을 강조합니다. EOS는 지분 증명(Proof of Stake) 합의 알고리즘을 사용하여 거래 속도를 향상시킵니다.\n",
      "    이 외에도 카르다노(Cardano), 솔라나(Solana), 폴카닷(Polkadot) 등 다양한 블록체인 네트워크가 존재하며, 각기 다른 특징과 활용 사례를 가지고 있습니다.\n",
      "\n"
     ]
    }
   ],
   "source": [
    "modified_search_result = \"\"\"[수정된 웹 검색 결과]\n",
    "    블록체인 기술은 다양한 산업 분야에서 활용되고 있으며, 그에 따라 여러 종류의 블록체인 네트워크가 존재합니다. 대표적인 블록체인 네트워크는 다음과 같습니다:\n",
    "    1. 비트코인 (Bitcoin): 2009년에 사토시 나카모토라는 익명의 인물이 개발한 최초의 암호화폐이자 블록체인 네트워크입니다. 비트코인은 탈중앙화된 디지털 통화로, 중앙 기관 없이 개인 간의 거래를 가능하게 합니다.\n",
    "    2. 이더리움 (Ethereum): 2015년에 비탈릭 부테린이 개발한 블록체인 플랫폼으로, 스마트 계약 기능을 통해 다양한 분산 애플리케이션(DApp)을 구축할 수 있습니다. 이더리움은 암호화폐인 이더(ETH)를 사용하며, 금융, 게임, 예술 등 다양한 분야에서 활용되고 있습니다.\n",
    "    3. 리플 (Ripple): 리플은 금융 기관 간의 국제 송금을 빠르고 저렴하게 처리하기 위해 개발된 블록체인 기반의 결제 프로토콜입니다. 리플의 네이티브 암호화폐인 XRP를 활용하여 거래 속도를 높이고 비용을 절감할 수 있습니다.\n",
    "    4. 하이퍼레저 (Hyperledger): 리눅스 재단이 주도하는 오픈 소스 블록체인 프로젝트로, 기업용 블록체인 솔루션을 개발하기 위한 플랫폼입니다. 하이퍼레저는 모듈식 아키텍처를 통해 다양한 산업 분야에서 맞춤형 블록체인 네트워크를 구축할 수 있도록 지원합니다.\n",
    "    5. EOS: 이더리움과 유사하게 스마트 계약 및 DApp 개발을 지원하는 블록체인 플랫폼으로, 높은 처리 속도와 확장성을 강조합니다. EOS는 지분 증명(Proof of Stake) 합의 알고리즘을 사용하여 거래 속도를 향상시킵니다.\n",
    "    이 외에도 카르다노(Cardano), 솔라나(Solana), 폴카닷(Polkadot) 등 다양한 블록체인 네트워크가 존재하며, 각기 다른 특징과 활용 사례를 가지고 있습니다.\n",
    "\"\"\"\n",
    "\n",
    "print(modified_search_result)"
   ]
  },
  {
   "cell_type": "markdown",
   "metadata": {},
   "source": [
    "내가 만든 메시지로 검색결과를 바꾸려면 tool_call_id를 추출해야 합니다."
   ]
  },
  {
   "cell_type": "code",
   "execution_count": 113,
   "metadata": {},
   "outputs": [
    {
     "name": "stdout",
     "output_type": "stream",
     "text": [
      "call_EtVUsQToIP348CuLeuKj3dSb\n"
     ]
    }
   ],
   "source": [
    "# 수정하고자 하는 `ToolMessage` 의 `tool_call_id` 추출\n",
    "tool_call_id = last_message.tool_calls[0][\"id\"]\n",
    "print(tool_call_id)"
   ]
  },
  {
   "cell_type": "markdown",
   "metadata": {},
   "source": [
    "아래 코드를 실행하면 ToolMessage 가 변경된 것을 확인할 수 있습니다."
   ]
  },
  {
   "cell_type": "code",
   "execution_count": 114,
   "metadata": {},
   "outputs": [
    {
     "name": "stdout",
     "output_type": "stream",
     "text": [
      "=================================\u001b[1m Tool Message \u001b[0m=================================\n",
      "\n",
      "[수정된 웹 검색 결과]\n",
      "    블록체인 기술은 다양한 산업 분야에서 활용되고 있으며, 그에 따라 여러 종류의 블록체인 네트워크가 존재합니다. 대표적인 블록체인 네트워크는 다음과 같습니다:\n",
      "    1. 비트코인 (Bitcoin): 2009년에 사토시 나카모토라는 익명의 인물이 개발한 최초의 암호화폐이자 블록체인 네트워크입니다. 비트코인은 탈중앙화된 디지털 통화로, 중앙 기관 없이 개인 간의 거래를 가능하게 합니다.\n",
      "    2. 이더리움 (Ethereum): 2015년에 비탈릭 부테린이 개발한 블록체인 플랫폼으로, 스마트 계약 기능을 통해 다양한 분산 애플리케이션(DApp)을 구축할 수 있습니다. 이더리움은 암호화폐인 이더(ETH)를 사용하며, 금융, 게임, 예술 등 다양한 분야에서 활용되고 있습니다.\n",
      "    3. 리플 (Ripple): 리플은 금융 기관 간의 국제 송금을 빠르고 저렴하게 처리하기 위해 개발된 블록체인 기반의 결제 프로토콜입니다. 리플의 네이티브 암호화폐인 XRP를 활용하여 거래 속도를 높이고 비용을 절감할 수 있습니다.\n",
      "    4. 하이퍼레저 (Hyperledger): 리눅스 재단이 주도하는 오픈 소스 블록체인 프로젝트로, 기업용 블록체인 솔루션을 개발하기 위한 플랫폼입니다. 하이퍼레저는 모듈식 아키텍처를 통해 다양한 산업 분야에서 맞춤형 블록체인 네트워크를 구축할 수 있도록 지원합니다.\n",
      "    5. EOS: 이더리움과 유사하게 스마트 계약 및 DApp 개발을 지원하는 블록체인 플랫폼으로, 높은 처리 속도와 확장성을 강조합니다. EOS는 지분 증명(Proof of Stake) 합의 알고리즘을 사용하여 거래 속도를 향상시킵니다.\n",
      "    이 외에도 카르다노(Cardano), 솔라나(Solana), 폴카닷(Polkadot) 등 다양한 블록체인 네트워크가 존재하며, 각기 다른 특징과 활용 사례를 가지고 있습니다.\n",
      "\n"
     ]
    }
   ],
   "source": [
    "from langchain_core.messages import AIMessage, ToolMessage\n",
    "\n",
    "new_messages = [\n",
    "    # LLM API의 도구 호출과 일치하는 ToolMessage 필요\n",
    "    ToolMessage(\n",
    "        content=modified_search_result,\n",
    "        tool_call_id=tool_call_id,\n",
    "    ),\n",
    "    # LLM의 응답에 직접적으로 내용 추가\n",
    "    # AIMessage(content=modified_search_result),\n",
    "]\n",
    "\n",
    "new_messages[-1].pretty_print()"
   ]
  },
  {
   "cell_type": "markdown",
   "metadata": {},
   "source": [
    "#### StateGraph의 `update_state` 메서드\n",
    "\n",
    "`update_state()` 메서드는 LangGraph에서 상태를 수동으로 업데이트할 때 사용하는 중요한 메서드입니다. 주요 특징을 설명하면:\n",
    "\n",
    "**매개변수**\n",
    "\n",
    "- config (RunnableConfig): 실행 구성\n",
    "- values (Optional[Union[dict[str, Any], Any]]): 업데이트할 값들\n",
    "- as_node (Optional[str]): 값의 출처로 간주할 노드 이름. 기본값은 None\n",
    "\n",
    "**주요기능**\n",
    "\n",
    "- 체크포인터를 통해 이전 상태를 로드하고 새로운 상태를 저장합니다.\n",
    "- 서브그래프에 대한 상태 업데이트를 처리합니다.\n",
    "- `as_node`가 지정되지 않은 경우, 마지막으로 상태를 업데이트한 노드를 찾습니다.\n",
    "- 지정된 노드의 writer들을 실행하여 상태를 업데이트합니다.\n",
    "- 업데이트된 상태를 체크포인트에 저장합니다.\n",
    "\n",
    "**주요로직**\n",
    "\n",
    "- 체크포인터를 확인하고, 없으면 ValueError를 발생시킵니다.\n",
    "- 서브그래프에 대한 업데이트인 경우, 해당 서브그래프의 update_state 메서드를 호출합니다.\n",
    "- 이전 체크포인트를 로드하고, 필요한 경우 as_node를 결정합니다.\n",
    "- 지정된 노드의 writer들을 사용하여 상태를 업데이트합니다.\n",
    "- 업데이트된 상태를 새로운 체크포인트로 저장합니다.\n",
    "\n",
    "**참고**\n",
    "\n",
    "- 이 메서드는 그래프의 상태를 수동으로 업데이트할 때 사용됩니다.\n",
    "- 체크포인터를 사용하여 상태의 버전 관리와 지속성을 보장합니다.\n",
    "- as_node를 지정하지 않으면 자동으로 결정되지만, 모호한 경우 오류가 발생할 수 있습니다.\n",
    "- 상태 업데이트 중 SharedValues에 쓰기 작업은 허용되지 않습니다.\n"
   ]
  },
  {
   "cell_type": "code",
   "execution_count": 115,
   "metadata": {},
   "outputs": [
    {
     "name": "stdout",
     "output_type": "stream",
     "text": [
      "content='[수정된 웹 검색 결과]\\n    블록체인 기술은 다양한 산업 분야에서 활용되고 있으며, 그에 따라 여러 종류의 블록체인 네트워크가 존재합니다. 대표적인 블록체인 네트워크는 다음과 같습니다:\\n    1. 비트코인 (Bitcoin): 2009년에 사토시 나카모토라는 익명의 인물이 개발한 최초의 암호화폐이자 블록체인 네트워크입니다. 비트코인은 탈중앙화된 디지털 통화로, 중앙 기관 없이 개인 간의 거래를 가능하게 합니다.\\n    2. 이더리움 (Ethereum): 2015년에 비탈릭 부테린이 개발한 블록체인 플랫폼으로, 스마트 계약 기능을 통해 다양한 분산 애플리케이션(DApp)을 구축할 수 있습니다. 이더리움은 암호화폐인 이더(ETH)를 사용하며, 금융, 게임, 예술 등 다양한 분야에서 활용되고 있습니다.\\n    3. 리플 (Ripple): 리플은 금융 기관 간의 국제 송금을 빠르고 저렴하게 처리하기 위해 개발된 블록체인 기반의 결제 프로토콜입니다. 리플의 네이티브 암호화폐인 XRP를 활용하여 거래 속도를 높이고 비용을 절감할 수 있습니다.\\n    4. 하이퍼레저 (Hyperledger): 리눅스 재단이 주도하는 오픈 소스 블록체인 프로젝트로, 기업용 블록체인 솔루션을 개발하기 위한 플랫폼입니다. 하이퍼레저는 모듈식 아키텍처를 통해 다양한 산업 분야에서 맞춤형 블록체인 네트워크를 구축할 수 있도록 지원합니다.\\n    5. EOS: 이더리움과 유사하게 스마트 계약 및 DApp 개발을 지원하는 블록체인 플랫폼으로, 높은 처리 속도와 확장성을 강조합니다. EOS는 지분 증명(Proof of Stake) 합의 알고리즘을 사용하여 거래 속도를 향상시킵니다.\\n    이 외에도 카르다노(Cardano), 솔라나(Solana), 폴카닷(Polkadot) 등 다양한 블록체인 네트워크가 존재하며, 각기 다른 특징과 활용 사례를 가지고 있습니다.\\n' id='d8f910fc-2b9d-4cc9-bcfb-233b059b3c58' tool_call_id='call_EtVUsQToIP348CuLeuKj3dSb'\n"
     ]
    }
   ],
   "source": [
    "graph.update_state(config, {\"messages\": new_messages}, as_node=\"tools\")\n",
    "\n",
    "print(graph.get_state(config).values[\"messages\"][-1])"
   ]
  },
  {
   "cell_type": "markdown",
   "metadata": {},
   "source": [
    "지금까지, \n",
    "1. tools 를 사용하기 전에 interrupt_before 를 사용하여 멈추게 했습니다. \n",
    "2. tool_call_id 를 추출하여 수정된 검색결과를 추가하였습니다.\n",
    "3. 수정된 검색결과를 추가하기 위해 update_state 를 사용하여 상태를 수동으로 업데이트 했습니다.\n",
    "\n",
    "다음차례는 chatbot 노드가 호출되어 수정된 검색결과를 사용하여 답변을 생성하는 것입니다."
   ]
  },
  {
   "cell_type": "code",
   "execution_count": 116,
   "metadata": {},
   "outputs": [
    {
     "data": {
      "text/plain": [
       "('chatbot',)"
      ]
     },
     "execution_count": 116,
     "metadata": {},
     "output_type": "execute_result"
    }
   ],
   "source": [
    "snapshot = graph.get_state(config)\n",
    "snapshot.next"
   ]
  },
  {
   "cell_type": "code",
   "execution_count": 117,
   "metadata": {},
   "outputs": [
    {
     "name": "stdout",
     "output_type": "stream",
     "text": [
      "=================================\u001b[1m Tool Message \u001b[0m=================================\n",
      "\n",
      "[수정된 웹 검색 결과]\n",
      "    블록체인 기술은 다양한 산업 분야에서 활용되고 있으며, 그에 따라 여러 종류의 블록체인 네트워크가 존재합니다. 대표적인 블록체인 네트워크는 다음과 같습니다:\n",
      "    1. 비트코인 (Bitcoin): 2009년에 사토시 나카모토라는 익명의 인물이 개발한 최초의 암호화폐이자 블록체인 네트워크입니다. 비트코인은 탈중앙화된 디지털 통화로, 중앙 기관 없이 개인 간의 거래를 가능하게 합니다.\n",
      "    2. 이더리움 (Ethereum): 2015년에 비탈릭 부테린이 개발한 블록체인 플랫폼으로, 스마트 계약 기능을 통해 다양한 분산 애플리케이션(DApp)을 구축할 수 있습니다. 이더리움은 암호화폐인 이더(ETH)를 사용하며, 금융, 게임, 예술 등 다양한 분야에서 활용되고 있습니다.\n",
      "    3. 리플 (Ripple): 리플은 금융 기관 간의 국제 송금을 빠르고 저렴하게 처리하기 위해 개발된 블록체인 기반의 결제 프로토콜입니다. 리플의 네이티브 암호화폐인 XRP를 활용하여 거래 속도를 높이고 비용을 절감할 수 있습니다.\n",
      "    4. 하이퍼레저 (Hyperledger): 리눅스 재단이 주도하는 오픈 소스 블록체인 프로젝트로, 기업용 블록체인 솔루션을 개발하기 위한 플랫폼입니다. 하이퍼레저는 모듈식 아키텍처를 통해 다양한 산업 분야에서 맞춤형 블록체인 네트워크를 구축할 수 있도록 지원합니다.\n",
      "    5. EOS: 이더리움과 유사하게 스마트 계약 및 DApp 개발을 지원하는 블록체인 플랫폼으로, 높은 처리 속도와 확장성을 강조합니다. EOS는 지분 증명(Proof of Stake) 합의 알고리즘을 사용하여 거래 속도를 향상시킵니다.\n",
      "    이 외에도 카르다노(Cardano), 솔라나(Solana), 폴카닷(Polkadot) 등 다양한 블록체인 네트워크가 존재하며, 각기 다른 특징과 활용 사례를 가지고 있습니다.\n",
      "\n",
      "==================================\u001b[1m Ai Message \u001b[0m==================================\n",
      "\n",
      "블록체인(Blockchain)은 정보를 안전하게 기록하고 저장하는 탈중앙화된 디지털 장부 기술입니다. 이 기술은 여러 개의 데이터 블록이 체인 형태로 연결되어 있으며, 각 블록은 이전 블록의 정보를 포함하고 있어 데이터의 무결성을 보장합니다.\n",
      "\n",
      "### 블록체인의 주요 특징\n",
      "1. **탈중앙화**: 블록체인은 중앙 기관 없이 P2P 네트워크를 통해 운영됩니다. 이는 데이터의 조작이나 해킹을 어렵게 만듭니다.\n",
      "2. **불변성**: 한 번 블록체인에 기록된 정보는 변경할 수 없으며, 이는 데이터의 신뢰성을 높입니다.\n",
      "3. **투명성**: 모든 거래가 공개되어 있어, 누구나 거래 내역을 확인할 수 있습니다.\n",
      "\n",
      "### 블록체인의 활용 사례\n",
      "- **암호화폐**: 비트코인, 이더리움 등 다양한 암호화폐가 블록체인 기술을 기반으로 하고 있습니다.\n",
      "- **스마트 계약**: 이더리움과 같은 플랫폼에서는 자동으로 실행되는 계약을 작성할 수 있습니다.\n",
      "- **금융 서비스**: 리플과 같은 블록체인은 국제 송금을 빠르고 저렴하게 처리하는 데 사용됩니다.\n",
      "- **기업 솔루션**: 하이퍼레저와 같은 프로젝트는 기업 맞춤형 블록체인 솔루션을 제공합니다.\n",
      "\n",
      "블록체인은 다양한 산업에서 혁신을 가져오고 있으며, 앞으로도 그 활용 가능성이 더욱 확대될 것으로 기대됩니다.\n"
     ]
    }
   ],
   "source": [
    "# `None`는 현재 상태에 아무것도 추가하지 않음\n",
    "events = graph.stream(None, config, stream_mode=\"values\")\n",
    "\n",
    "# 이벤트 반복 처리\n",
    "for event in events:\n",
    "    # 메시지가 이벤트에 포함된 경우\n",
    "    if \"messages\" in event:\n",
    "        # 마지막 메시지의 예쁜 출력\n",
    "        event[\"messages\"][-1].pretty_print()"
   ]
  },
  {
   "cell_type": "code",
   "execution_count": 118,
   "metadata": {},
   "outputs": [
    {
     "data": {
      "image/png": "[encoded data removed]",
      "text/plain": [
       "<IPython.core.display.Image object>"
      ]
     },
     "metadata": {},
     "output_type": "display_data"
    }
   ],
   "source": [
    "visualize_graph(graph)"
   ]
  },
  {
   "cell_type": "markdown",
   "metadata": {},
   "source": [
    "현재 상태를 이전과 같이 점검합니다. 체크포인트가 수동 업데이트를 반영하는지 확인합니다."
   ]
  },
  {
   "cell_type": "code",
   "execution_count": 119,
   "metadata": {},
   "outputs": [
    {
     "name": "stdout",
     "output_type": "stream",
     "text": [
      "================================\u001b[1m Human Message \u001b[0m=================================\n",
      "\n",
      "BlockChain이 무엇인지 알려주세요! (웹검색 필수)\n",
      "==================================\u001b[1m Ai Message \u001b[0m==================================\n",
      "Tool Calls:\n",
      "  tavily_web_search (call_NRJuAllqXCYIOr0SvEdppRxy)\n",
      " Call ID: call_NRJuAllqXCYIOr0SvEdppRxy\n",
      "  Args:\n",
      "    query: BlockChain이란 무엇인가\n",
      "=================================\u001b[1m Tool Message \u001b[0m=================================\n",
      "Name: tavily_web_search\n",
      "\n",
      "[{\"title\": \"블록체인이란 무엇인가요? 어떤 원리로 작동하나요? | NordVPN\", \"url\": \"https://nordvpn.com/ko/blog/blockchain-technology-explained/\", \"content\": \"블록체인(Blockchain)이란 정보를 기록하고 저장하는 탈중앙화 시스템입니다. 일련의 순서로 연결된 데이터 단위('블록'이라고 함)로 구성된 일종의 분산 장부 기술(Decentralized Ledger Technology)로, 각 블록에는 이전 블록의 고유 번호가 담겨 있어 체인을 형성하지요.\", \"score\": 0.9976859, \"raw_content\": \"주요 내용으로 건너뛰기\\n왜 NordVPN인가?\\n기능\\n데스크톱\\n모바일\\n확장 프로그램\\n지원 받기\\n더 알아보기\\n지능형 사이버 범죄 위협으로부터 비즈니스를 안전하게 보호하세요.\\n가격\\n지금 바로 비즈니스의 보안과 개인정보 보호를 강화하세요.\\n온라인 보안 및 개인정보 보호\\n비즈니스용 VPN\\n안전한 비밀번호 관리자\\n비즈니스 비밀번호 관리자\\n암호화된 클라우드 스토리지\\n왜 NordVPN인가?\\n기능\\n데스크톱\\n모바일\\n확장 프로그램\\n지원 받기\\n더 알아보기\\n지능형 사이버 범죄 위협으로부터 비즈니스를 안전하게 보호하세요.\\n가격\\n지금 바로 비즈니스의 보안과 개인정보 보호를 강화하세요.\\n모든 카테고리 표시\\n모든 카테고리 숨기기\\n검색\\n검색\\n블록체인이란 무엇인가요? 어떤 원리로 작동하나요?\\n블록체인 기술(Blockchain Technology)은 암호화폐와 NFT 기술의 핵심적인 부분입니다. 모두가 한번쯤은 들어본 개념이지만 제대로 이해하기는 쉽지 않습니다. 블록체인이란 정확히 무엇이며 실제로 어떻게 작동할까요? 블록체인의 장점과 문제점은 무엇일까요? NFT 시장에 투자할만한 가치가 있을까요? 이 글에서 쉽게 설명해드리겠습니다.\\nJune Moon\\n목차\\n블록체인 정의\\n블록체인 뜻\\n블록체인(Blockchain)이란 정보를 기록하고 저장하는 탈중앙화 시스템이다. 일련의 순서로 연결된 데이터 단위(‘블록’이라고 함)로 구성된 일종의 분산 장부 기술(Decentralized Ledger Technology)로, 각 블록에는 이전 블록의 고유 번호가 담겨 있어 체인을 형성한다. 일종의 데이터베이스 역할을 하며, 암호화폐에 활용되는 것으로 가장 널리 알려져 있다. 투명성과 탈중앙화 장점을 활용하여 스마트 계약이나 거버넌스 합의 플랫폼의 역할을 할 수도 있다.\\n먼저 한 가지를 명확히 짚고 넘어가겠습니다. 사람들은 종종 ‘블록체인’에 대해 이야기하지만, 블록체인은 하나의 실체가 아닙니다. 블록체인 개념은 일반적으로 특정 블록체인을 지칭하기보다는 블록체인 기술 전체를 의미합니다.\\n블록체인은 시스템을 변경, 해킹 또는 속이는 것을 어렵거나 불가능하게 만드는 탈중앙화 방식으로 정보를 기록하는 시스템입니다. 다시 말해, 블록체인이란 특정한 프로토콜에 의해 운영되는 컴퓨팅 시스템 네트워크 전체에 복제 및 배포되는 디지털 장부입니다.\\n블록체인의 기술적 개념을 활용한 다양한 블록체인이 존재합니다. 우리에게 가장 익숙한 블록체인 활용사례는 무엇보다도 암호화폐 기술이지요. 이더리움과 비트코인을 예로 들 수 있습니다. 누구나 블록체인 개발자가 될 수 있으며 새로운 블록체인은 언제든지 생성될 수 있습니다.\\n블록체인 기술은 어떻게 작동하나요?\\n블록체인 기본 개념\\n이름에서 알 수 있듯이 블록체인은 일련의 ‘블록’으로 구성됩니다. ‘블록’이라는 용어는 블록체인 코드 내의 데이터 저장 단위를 의미합니다. 각 블록에는 이전 블록의 고유 번호가 포함되어 있으며, 이를 통해 블록의 ‘체인’이 형성됩니다.\\n블록체인 원리\\n특정 블록체인에서 처음으로 생성되는 블록을 제네시스 블록이라고 부르지요. 이러한 첫 번째 블록은 데이터베이스의 첫 번째 줄이라고 생각하시면 됩니다. 그 자체로는 작은 데이터 모음에 불과합니다. 그러나 여기에는 0001과 같은 고유한 숫자 기호가 포함됩니다. 두 번째 블록이 추가되면 이 블록은 0002 블록으로 식별되며 0001 블록의 뒤를 따른다는 정보를 포함합니다. 이것이 체인이 형성되는 방식입니다.\\n블록체인 프로토콜\\n블록체인 프로토콜은 개별 애플리케이션 개발에 사용할 수 있는 다양한 유형의 블록체인 플랫폼을 의미합니다. 각 블록체인 프로토콜은 기본 블록체인 원칙을 특정 산업 또는 애플리케이션에 맞게 조정합니다.\\n자, 여기까지 이해되셨나요? 이제 블록체인을 특별하게 만드는 요소에 대해 알아보겠습니다.\\n블록체인 탈중앙화\\n단일 서버에 저장되는 일반 데이터베이스와 달리 블록체인은 탈중앙화되어 P2P 네트워크에 분산되어 있습니다.\\n네트워크의 각 노드(일반적으로 장치 또는 일종의 서버)에는 블록체인의 사본이 있습니다. 새 블록이 추가되기 전에 네트워크의 대부분의 노드 운영자는 이를 확인하고 검증해야 합니다. 이는 불특정 다수의 사람들이 체인의 무결성을 변조하거나 중요한 정보가 누락되는 위협(예: 이전 블록에 올바르게 연결되지 않는 블록 추가 등)을 제한하는 데 도움이 됩니다.\\n예를 들어, 가장 유명한 암호화폐인 비트코인의 블록체인은 이미 13,000개 이상의 노드를 보유한 것으로 알려졌습니다. 이것이 바로 사람들이 암호화폐와 블록체인을 탈중앙화라고 설명할 때 의미하는 바입니다.\\n이러한 블록체인 이코노미와 블록이 코딩되는 방식 덕분에 일단 정보가 추가되면 체인에서 정보를 제거하기가 매우 어렵습니다.\\nJun 11, 2023\\n7분 소요\\nFeb 23, 2022\\n1분 소요\\n블록체인 장점\\n데이터 무결성\\n탈중앙화 네트워크 시스템으로 인해 데이터 조작 권한을 가진 특정 사람이 존재하지 않습니다. 따라서 임의로 블록체인에 저장된 데이터를 변조하기 어렵습니다. 일단 정보가 체인에 포함되면, 추가한 지 몇 년이 지난 후에 검토하더라도 해당 데이터의 무결성과 정확성을 확신할 수 있습니다.\\n더 높은 투명성\\n대부분의 블록체인은 매우 투명하여 외부 관찰자가 체인에 저장된 데이터를 볼 수 있습니다. 이는 암호화폐에 특히 중요합니다. 블록체인 지갑을 통해 자금의 흐름을 추적하는 것은 개인 은행 계좌를 통해 추적하는 것보다 훨씬 쉽습니다. 이러한 투명성 덕분에 사기꾼을 더 쉽게 식별하고 추적할 수 있습니다.\\n탈중앙화된 제어\\n블록체인 기술은 탈중앙화라는 개념을 기반으로 합니다. 은행이나 신용카드 회사와 같은 대규모 조직에 의존하지 않고 사용자의 데이터와 돈을 처리합니다. P2P 원장 시스템은 특정 개인이나 단체가 블록체인을 과도하게 통제하는 것을 방지합니다.\\n블록체인 단점\\n규제 부족\\n블록체인 기술은 규제가 덜하기 때문에 블록체인에 저장한 데이터를 도난당할 경우 손실을 복구하기가 훨씬 더 어렵습니다. 블록체인 지갑에 암호화폐가 있는데 누군가 지갑에 액세스한 경우, 해당 화폐를 돌려받을 수 있도록 도와줄 은행이나 중앙 기관이 없습니다. 이는 많은 대중이 암호화폐와 그 기반이 되는 기술을 신뢰하지 못하는 주요 요인입니다.\\n지나친 투명성\\n투명성에는 단점도 있습니다. 블록체인의 대부분의 데이터는 대부분의 사람들이 접근할 수 있기 때문에 민감한 정보를 저장하기에 좋은 장소가 아닙니다. 해싱 기술은 데이터 소유자를 숨기지만, 데이터 자체는 여전히 공개되어 있습니다. 그렇기 때문에 정부 기록 보관이나 의료 데이터에 블록체인을 사용하자는 제안에 회의적인 태도를 취해야 합니다.\\n이러한 블록체인 문제점에도 불구하고 이 혁신적 기술은 이미 많은 곳에 사용되고 있습니다.\\n블록체인 예시 및 활용 사례\\n암호화폐\\n비트코인, 이더리움, 도지코인과 같은 암호화폐는 블록체인을 사용하여 거래를 기록합니다. 이러한 디지털 코인이 거래될 때마다 모든 상호작용이 블록체인의 블록에 기록됩니다.\\n즉, 블록체인에 저장된 누군가의 암호화폐 지갑을 찾을 수 있다면 그 사람의 암호화폐 거래 내역을 볼 수 있습니다. 지갑의 소유자가 누구인지 알 수는 없지만, 블록체인은 매우 투명하기 때문에 지갑의 활동 내역을 볼 수 있습니다. 사람들이 추적할 수 없는 암호화폐에 대해 이야기할 때, 보통 거래 자체보다는 지갑 소유자를 추적할 수 없는 경우가 많다는 사실을 말합니다.\\n그러나 거래 내역은 공개되지만, 누가 거래를 했는지에 대한 세부 정보는 ‘해싱’이라는 암호화 프로세스 덕분에 비공개로 유지됩니다.\\nNFT – 대체 불가능한 토큰\\n작년 한 해 동안 대체 불가능한 토큰은 온라인에서 큰 열풍을 일으켰습니다. NFT는 ‘대체 불가능한 토큰(Non Fungible Token)’의 약자로, 이러한 ‘토큰’은 종종 디지털 아트워크나 기타 비물리적 미디어와 연관되어 있습니다.\\n각 토큰은 블록체인에서 고유한 블록을 나타냅니다. 사람들은 투기성 주식과 유사한 방식으로 이러한 토큰을 사고 팔고 있습니다. 자신이 만든 이미지와 같이 자신이 소유한 미디어를 블록체인의 한 포지션에 연결하여 이를 수행합니다. 그런 다음 해당 포지션의 소유권과 관련 미디어를 다른 사람에게 판매할 수 있습니다.\\n구매자는 이를 재판매하여 수익을 창출할 수 있으며, 이러한 방식으로 경매에서 수천만 달러가 거래되기도 합니다. 하지만 섣불리 대체 불가능한 토큰 예술 작품을 구매하기 전에 이미 많은 구매자가 투자로 막대한 손실을 입었다는 사실을 알아두셔야 합니다.\\n기업 내부 블록체인\\n일부 기업은 네트워크의 모든 노드를 통제할 수 있다면 내부 기록 보관에 블록체인 기술을 사용하는 데 개방적입니다. 이는 데이터 무결성과 정확성의 이점을 유지하면서 투명성과 관련된 몇 가지 문제를 해결할 수 있는 좋은 방법입니다.\\n허가형 블록체인이나 컨소시엄 블록체인과 같은 시스템을 사용하면 여러 기업이나 정부 기관이 단일 노드 네트워크를 유지할 수 있습니다. 이를 통해 정보를 기록하고 공개적으로 사용할 수 없이 블록체인에 공유할 수 있습니다.\\n거버넌스 활용\\n블록체인 기술의 익명성을 활용하여 특정 단체의 의사 결정을 위한 투표에 블록체인을 활용할 수 있습니다. 블록체인의 장부에는 모든 데이터가 투명하게 공개되기 때문에 투표 결과에 관한 불신을 방지할 수 있습니다.\\n블록체인 유형\\n공개 블록체인 네트워크\\n가장 일반적인 종류의 블록체인으로, 누구나 액세스할 수 있습니다. 암호화폐는 이러한 체인에서 실행되며, 거래 및 활동 로그 측면에서 가장 적은 개인정보 보호 기능을 제공합니다.\\n비공개 블록체인 네트워크\\n비공개 블록체인은 퍼블릭 블록체인의 극단적인 탈중앙화 없이 기술을 사용하고자 하는 회사나 조직에 적합합니다. 이러한 블록체인은 전 세계의 노드에 분산되어 있지 않고 작업장 내의 여러 장치에서 유지될 수 있습니다. 이러한 블록체인 접근 방식은 더 높은 수준의 안전과 개인정보 보호를 가능하게 합니다.\\n허가형 블록체인 네트워크\\n기업에도 좋은 옵션인 허가형 블록체인은 말 그대로 허가된 블록체인을 말합니다. 중앙 관리자를 통해 액세스 권한을 부여받거나 자동화된 검증 프로세스를 사용해야 합니다. 비공개 블록체인이 허가형 블록체인이 될 수도 있고, 그 반대의 경우도 마찬가지입니다.\\n컨소시엄 블록체인\\n컨소시엄 블록체인은 비공개 및 허가형 블록체인과 비슷하지만 여러 조직에서 공유할 수 있습니다. 예를 들어, 여러 기업이나 정부 기관이 블록체인 네트워크의 노드 유지를 책임질 수 있습니다. 여전히 비교적 비공개로 유지될 수 있지만 관련된 모든 조직의 구성원이 저장된 데이터에 액세스할 수 있습니다.\\n블록체인의 미래\\n블록체인은 많은 잠재적 용도를 가지고 있으며, 이미 통화와 데이터 소유권에 혁명을 일으키고 있습니다. 블록체인이 계속해서 인기를 얻음에 따라 기업과 정부의 요구에 맞게 발전할 수는 있겠지만, 빠른 시일 내에 블록체인이 대중적으로 채택되기는 어려울 것으로 보입니다.\\n탈중앙화 블록체인 기술의 세계에서는 사이버 보안이 온전히 개인의 책임이 되는 만큼이나 대중이 블록체인의 개념과 원리에 관한 정확한 이해를 가지고 있어야만 안전한 사용이 가능할 것입니다. 이 신기술을 악용하려는 사람들의 손에서 일반 사용자들을 보호할 수 있는 관련 법규가 마련되는 것도 필요합니다.\\n블록체인 기술을 더 안전하게 누리자\\n온라인 세상 어디든지 NordVPN과 함께\\nNordVPN이 보호하는디지털 라이프\\n모든 Wi-Fi에서 누리는프라이버시와 보안\\n안티 멀웨어 및 광고 차단기\\n하나의 계정으로 10대의 장치 보호\\n60개 국가 5,800대 서버\\n트렌드 기사\\nNov 20, 2023\\n28분 소요\\n인터넷의 역사\\nJune Moon\\nJun 19, 2023\\n6분 소요\\n휴가철 해외 여행 온라인 예약 비용 절약하기\\nJune Moon\\nMay 15, 2024\\n4분 소요\\n스마트한 여행의 동반자 Saily: 새로운 eSIM\\nJune Moon\\niOS 및 Android 플랫폼용 NordVPN 모바일 앱을 다운로드하세요.\"}, {\"title\": \"블록체인 (Blockchain)이란 무엇인가? 특징, 기술, 장단점\", \"url\": \"https://enjoymedia.tistory.com/entry/블록체인Blockchain이란-무엇인가-특징-기술-장단점\", \"content\": \"블록체인(Blockchain)은 분산 컴퓨팅 기술 기반의 데이터 위변조 방지 기술입니다. 한국에서는 블록체인 기반 암호화폐의 줄임말로 많이 씁니다. P2P 방식을 기반으로 하여 소규모 데이터들이 사슬 형태로 무수히 연결되어 형성된 '블록'이라는 분산 데이터 저장 환경에 관리 대상 데이터를 저장함으로써\", \"score\": 0.99711037, \"raw_content\": null}, {\"title\": \"블록체인이란 무엇인가? - Ledger\", \"url\": \"https://www.ledger.com/ko/academy/블록체인이란-무엇인가요\", \"content\": \"Look no further as Ledger Academy explains blockchain 101 and crypto basics. ... 블록체인이란 무엇인가? 간단히 말해서, 블록체인은 트랜잭션을 기록하고 네트워크에서 디지털 자산의 이동을 추적하는 역할을 하는 분산되고 불변적인 디지털 원장입니다. 주로 블록체인은 금융\", \"score\": 0.99190676, \"raw_content\": \"블록체인이란 무엇인가? | Ledger\\n                                           ![Image 1](https://t.teads.tv/track?action=pageView&env=js-gtm&tag_version=6.21.0_ad40570&provider=tag&buyer_pixel_id=6887&referer=https%3A%2F%2Fwww.ledger.com%2Fko%2Facademy%2F%25EB%25B8%2594%25EB%25A1%259D%25EC%25B2%25B4%25EC%259D%25B8%25EC%259D%25B4%25EB%259E%2580-%25EB%25AC%25B4%25EC%2597%2587%25EC%259D%25B8%25EA%25B0%2580%25EC%259A%2594&user_session_id=76de8878-badc-4a0f-ab25-09b191c59736)![Image 2](https://cm.teads.tv/v3/conversion?action=pageView&env=js-gtm&tag_version=6.21.0_ad40570&provider=tag&buyer_pixel_id=6887&referer=https%3A%2F%2Fwww.ledger.com%2Fko%2Facademy%2F%25EB%25B8%2594%25EB%25A1%259D%25EC%25B2%25B4%25EC%259D%25B8%25EC%259D%25B4%25EB%259E%2580-%25EB%25AC%25B4%25EC%2597%2587%25EC%259D%25B8%25EA%25B0%2580%25EC%259A%2594&user_session_id=76de8878-badc-4a0f-ab25-09b191c59736)![Image 3](https://cm.teads.tv/v3/conversion?action=timeSpent10&env=js-gtm&tag_version=6.21.0_ad40570&provider=tag&buyer_pixel_id=6887&referer=https%3A%2F%2Fwww.ledger.com%2Fko%2Facademy%2F%25EB%25B8%2594%25EB%25A1%259D%25EC%25B2%25B4%25EC%259D%25B8%25EC%259D%25B4%25EB%259E%2580-%25EB%25AC%25B4%25EC%2597%2587%25EC%259D%25B8%25EA%25B0%2580%25EC%259A%2594&user_session_id=76de8878-badc-4a0f-ab25-09b191c59736)\\n\\n홀리데이 이벤트: 최대 70달러 상당의 비트코인을 선물로 받아가세요. 한정 수량으로 준비되어 있어요! 지금 쇼핑하기\\n\\n\\nLedger 쇼핑하기\\n배우고 수익 창출\\n검색\\n용어\\n주제\\nDAOs\\nLedger 솔루션\\nNFT\\n경제 및 규제\\n디파이(DeFi)\\n메타버스(Metaverse)\\n보안\\n블록체인\\n스캠\\n암호화폐\\n튜토리얼\\n\\n\\n시리즈\\nLedger 사용법\\nOn The Ledger\\nSchool of Block\\n독서실\\n암호화폐를 안전하게 보관하세요\\n\\n\\n학습 시작\\n\\n한국어\\n\\nالعربية\\n简体中文\\nEnglish\\nFrançais\\nDeutsch\\nРусский\\nEspañol\\n日本語\\nTürkçe\\nPortuguês\\n\\n\\n\\n수업실\\n\\nA) Web3에 오신 것을 환영합니다\\nWeb 3.0란?\\n블록체인 세대에 관한 설명\\n그렇다면 암호화폐란 정확히 무엇일까요?\\n얼마나 많은 암호화폐가 존재한다고 생각하시나요?\\n블록체인이란 무엇인가?\\n\\n\\nB) 암호화폐를 보호하는 방법\\n암호화폐 지갑이란?\\n개인 키는 무엇인가요?\\n시드 문구(비밀 복구 문구)란?\\n암호화폐 위협: 암호화폐가 도난당하는 방법\\n\\n\\nC) Ledger란 무엇인가요?\\nLedger가 무엇인가요? Ledger 생태계에 대한 설명\\nLedger Nano는 어떻게 암호화폐를 보호하나요?\\nLedger Live 앱: 암호화폐 매매, 스테이킹 및 스왑\\n\\n\\nD) Web3 보안 필수 사항\\nWeb3 스캠에 관한 설명\\n자체 조사하기: 암호화폐 프로젝트를 조사하는 방법\\n암호화폐를 Ledger Nano로 마이그레이션하는 방법\\n\\n\\nF) 블록체인 기초\\n크립토 노드: 그 정의와 작동 원리는?\\n\\n\\nG) 지갑 관련 지식(레벨업)\\n하드웨어 지갑이란?\\n소프트웨어 지갑이란?\\n암호화폐 지갑을 선택하는 방법\\n콜드 월렛은 무엇인가요?\\n\\n\\nH) 암호화폐 매매와 스왑을 통해 자산을 키워보세요\\nLedger Live를 통해 암호자산 늘리기: 스테이킹이 쉬워집니다\\nLedger Live를 통해 암호화폐를 안전하게 하는 방법\\n\\n\\n\\n\\n주제\\nLedger 솔루션\\nNFT\\n디파이(DeFi)\\n보안\\n블록체인\\n스캠\\n암호화폐\\n튜토리얼\\n\\n\\n시리즈\\nLedger 사용법\\nOn The Ledger\\nSchool of Block\\n독서실\\n암호화폐를 안전하게 보관하세요\\n\\n\\nLedger 쇼핑하기\\n배우고 수익 창출\\n검색\\n용어\\n한국어\\nالعربية\\n简体中文\\nEnglish\\nFrançais\\nDeutsch\\nРусский\\nEspañol\\n日本語\\nTürkçe\\nPortuguês\\n\\n\\n\\n\\n\\nLedger 아카데미\\nA) Web3에 오신 것을 환영합니다\\n...\\n블록체인이란 무엇인가?\\n\\n수업실\\n경로 A) Web3에 오신 것을 환영합니다\\n장 5/5\\n블록체인이란 무엇인가?\\nDec 22, 2022 | 업데이트됨 Jun 11, 2024\\n읽기 6 분\\n입문자용\\n공유\\n\\n\\n주요 시사점:—블록체인 네트워크는 암호화폐의 기반을 제공하여 P2P 트랜잭션을 가능하게 합니다.— 블록체인은 지금까지 이루어진 모든 단일 트랜잭션을 기록하는 불변의 디지털 원장입니다.— 블록체인 기술의 무신뢰 기능은 기존 은행 업무에 큰 도전이 될 수 있는 디파이(DeFi) 산업을 촉발시켰습니다.\\n블록체인 기술은 처음에는 매우 어려운 개념으로 보일 수 있지만, 핵심 기능 중 일부를 이해하면 곧 web3 전문가로 나아가는 데 도움이 될 수 있습니다. 모든 블록체인이 비트코인만큼 안전하고, 이더리움만큼 유용하다고 생각할 수도 있습니다. 그러나 실제로 모든 블록체인 네트워크에는 그 마다 큰 차이가 있습니다. 거버넌스부터 새로운 코인 생성, 심지어 네트워크에 참여할 수 있는 대상에 이르기까지, 블록체인에는 전체 네트워크가 작동하는 방식을 바꿀 수 있는 기능이 있을 수 있습니다.\\n일부 블록체인은 특정 사용 사례에서 다른 블록체인보다 우수하다고 할 수 있으만, 각각 일장일단이 있습니다. 따라서 이번 Ledger 아카데미에서는 블록체인이 무엇인지, 어떻게 작동하는지, 또한 다양한 유형의 블록체인과 그 용도에 대해 알아야 할 사항에는 무엇이 있는지 모두 살펴보도록 하겠습니다.\\n하지만 기술적인 내용을 자세히 살펴보기 전에 기본 중의 기본부터 시작해 보겠습니다.\\n블록체인이란 무엇인가?\\n간단히 말해서, 블록체인은 트랜잭션을 기록하고 네트워크에서 디지털 자산의 이동을 추적하는 역할을 하는 분산되고 불변적인 디지털 원장입니다. 주로 블록체인은 금융 자산을 추적하는 데 사용되었지만 오늘날에는 어마어마한 가치 저장 능력으로 인해 사용 사례가 점점 늘어나고 있습니다. 블록체인에는 새로운 기술을 가능하게 하는 몇 가지 주요 기능이 있으며, 이는 흔히 Web3라고 불립니다. 그렇다면 이러한 주요 기능은 무엇일까요?\\n블록체인 네트워크의 주요 특징\\n블록체인에는 다른 흥미로운 기능이 많이 있습니다. 그러나 그 모든 기능이 분산 원장 기술과 불변 기록이라는 두 핵심 요소에서 시작됩니다.\\n분산 원장 기술\\n블록체인은 단일 중앙 서버에 정보를 호스팅하지 않고, 원장을 시스템의 모든 컴퓨터에 배포합니다. 이러한 컴퓨터를 노드라고 하며 정보 저장, 공유, 기록과 디지털 자산 전송을 담당합니다. 이는 “분산원장” 기술의 기본이며, 블록체인이 정보를 안전하게 저장할 수 있는 유일한 방법입니다.\\n불변의 기록\\n다음으로, 블록체인에는 해당 정보를 블록 내에 저장하는 고유한 방법이 있습니다. 블록은 체인으로 배열되어 네트워크 전체에 분산되므로 ‘블록체인’이라는 이름이 붙었습니다. 이러한 데이터 구조로 때문에 한 번 블록체인에 기록된 정보는 변경할 수 없습니다. 이러한 특징 때문에 블록체인은 해킹이 거의 불가능합니다.\\n블록체인의 용도는?\\n늘상 디지털 트랜잭션을 하고 있는데, 새삼 무엇이 중요하다는 것인지 의아하다는 생각이 들지도 모르겠습니다. 그러나 디지털 방식으로 돈을 전송하는 것은 이메일이나 사진과 같은 정보를 보내는 것과는 매우 다릅니다.\\n어떤 통화가 가치를 가지려면 공급이 유한해야 합니다. 성공적인 디지털 거래에서는 받는 측에서 해당하는 가치를 온전하게 수령하고, 보내는 사람의 계정에서는 정확히 동일한 가치가 사라집니다. 그렇게 되지 않으면, 이는 이중 지불이 되는 것입니다.\\n“이중 지불”이라는 용어가 생소할 수는 있겠지만, 이는 전체 금융 시스템과 은행에 대한 신뢰를 형성하는 핵심 요소입니다. 블록체인 기술은 트랜잭션을 확인하기 위해 중앙화된 주체를 개입시키지 않고 이중 지불 문제를 해결합니다. 이는 투명하고 안전하며 익명의 P2P 가치 교환을 대규모로 전송할 수 있음을 의미합니다. 그런데 이게 정확히 무슨 뜻일까요?\\n단순히 말해 이중 지불 문제를 해결한다는 것은 블록체인을 통해 자산이 한 사람에서 다른 사람으로 전달된다는 확신을 가지고 누군가와 가치를 교환할 수 있게 된다는 것을 뜻합니다. 중요한 것은 양측이 자산을 각각 사용할 수 있도록 하여 시스템에 새로운 자산을 생성하지 않고도 그렇게 할 수 있어야 한다는 것이죠.\\n블록체인의 종류\\n블록체인 네트워크를 구축하는 방법에는 여러 가지가 있으며, 관련하여 생각보다 복잡한 내용이 담겨 있을 수 있습니다. 대부분의 사람이 블록체인하면 비트코인과 같은 탈중앙화 또는 퍼블릭 블록체인을 떠올립니다. 하지만 블록체인 기술도 중앙화된 시스템을 구축할 수 있다는 점을 짚고 넘어가야 합니다.\\n블록체인이 P2P 전송과 분산형 가치 교환을 허용한다고 해서 모든 블록체인이 이런 방식으로 작동하는 것은 아닙니다. 일부 블록체인은 퍼블릭, 프라이빗, 허가형이거나, 아니면 컨소시엄에 의해 구축되었습니다. 일부는 이러한 유형 중 일부를 조합한 경우도 있습니다.\\n이제 다양한 유형의 블록체인 네트워크 간의 차이점과 그 차이점이 중요한 이유를 살펴 보겠습니다.\\n프라이빗, 허가형 및 컨소시엄 블록체인\\n허가형 블록체인은 정부나 회사와 같은 단일 기관에서 운영하기 때문에 중앙 기관이 시스템에 대한 액세스와 노드 운영자를 제한할 수 있습니다. 또한 노드를 운영하는 사람에게는 많은 권한이 주어지며, 그 권한이 오용될 수도 있습니다.\\n다음으로 프라이빗 블록체인을 살펴보면, 개념적으로는 이 유형의 블록체인은 항상 허가의 대상입니다. 그러나 실제로는 여기서 한 단계 더 나아갑니다. 프라이빗 블록체인은 노드를 운영할 수 있는 사람을 제한할 뿐만 아니라 시스템에 액세스할 수 있는 사람도 제한합니다. 이는 완전히 중앙 집중화된 시스템이며 이를 통해 기업은 사용자의 신원과 데이터를 보호할 수 있습니다. 이러한 특성 때문에 프라이빗 블록체인 시스템은 시스템과 해당 데이터에 대한 통제권을 유지하려는 정부나 산업 단체가 선호합니다.\\n좋은 예로는 Hyperledger를 들 수 있으며, 이 경우, 사용자 데이터(예: 배송 정보)를 엿보는 사람이 접근하지 못하도록 비공개 시스템을 사용하는데, 투명한 블록체인을 사용하는 경우라면 개인 정보 보호 측면에서 리스크가 발생할 수 있습니다.\\n반면 컨소시엄 블록체인도 허가형 블록체인이지만 단일 엔터티에 의해 관리되지 않고 자체 관리를 담당하는 조직 그룹입니다. 이 방법은 협력을 원하는 금융 시스템에서 널리 사용됩니다. 이러한 블록체인은 투표 시스템을 사용하여 변경 사항을 확인하기 때문에 트랜잭션을 빠르게 처리할 수 있습니다.\\n그러나 이 모든 옵션은 매우 중앙 집중화된 방식입니다. 즉, 단일 실패 지점이 존재하며 전혀 안전하지 않습니다.\\n무허가형 퍼블릭 블록체인\\n반대로, 무허가형 블록체인을 사용하면 누구나 네트워크에서 노드를 운영할 수 있습니다. 이 시스템에는 보통 전 세계에 뿔뿔이 흩어져 있는 참가자가 더 많습니다.\\n이로 인해 프라이빗이나 허가형 블록체인 보다 속도가 느려집니다. 그래도 시스템이 클수록 나쁜 의도로 블록체인에 참여하는 부류를 단속하기는 더 쉽죠. 따라서 무허가형 블록체인의 분산형 특성으로 인해 프라이빗 블록체인보다 훨씬 더 안전합니다.\\n개념상 허가가 없는 퍼블릭 블록체인도 있습니다. 누구든지 네트워크에 참여할 수 있을 뿐만 아니라 모든 노드를 동등하게 취급하며 네트워크의 모든 데이터를 모든 참가자가 쉽게 사용할 수 있습니다. 퍼블릭 블록체인은 투명하고 안전하며 감사가 가능하기 때문에 암호화폐에 적합합니다. 퍼블릭 블록체인의 좋은 예는 비트코인 네트워크입니다.\\n블록체인은 어떻게 작동하나요?\\n앞서 언급했듯이 블록체인 네트워크는 네트워크에 참여하는 모든 컴퓨터(노드라고도 함)에 데이터를 저장합니다. 크립토 노드는 트랜잭션 검증 프로세스에 참여하여 네트워크 보안에 기여합니다. 이러한 각 노드는 정보를 블록에 저장합니다. 그런 다음 각 블록은 체인으로 배열됩니다. 네트워크가 트랜잭션을 처리할 때마다 체인이 늘어납니다.\\n\\n그러나 노드는 읽을 수 있는 방식으로 정보를 저장하지 않고, 대신 암호화 해시를 사용합니다. 트랜잭션에 포함된 민감한 정보를 보호하기 위해 노드는 해당 정보를 숫자와 문자로 된 문자열로 변환하여 각 블록에 저장합니다.\\n이 암호화 해시에는 해당 블록의 정보뿐만 아니라 체인의 이전 블록에 대한 정보도 포함됩니다. 즉, 누군가 한 블록을 변경하면 해당 해시도 변경되므로 체인의 모든 후속 블록도 변경됩니다. 이렇게 함으로써 잠재적인 편집 내용이 전체 네트워크에서 눈에 띄게 되므로 안전합니다. 트랜잭션이 블록체인 기록에 일찍 기록될수록 데이터를 변경하기가 더 어려워집니다. 이러한 특성으로 인해 블록체인은 귀중한 데이터를 저장하기 위한 고유한 매체로서 역할을 할 수 있는 것입니다. 더 자세히 알아보고 싶다면 블록체인 트랜잭션 및 노드와 그 작동 원리에 대한 글 전문을 읽어보세요.\\n지금까지 블록체인이 정보를 저장하는 방법을 살펴보았습니다.\\n그런데 “노드가 자신의 이익을 위해 네트워크 상태에 대해 거짓말을 할 수도 있는데, 그것을 어떻게 막지?”라는 의구심이 들 수도 있습니다.\\n그런 거짓말을 막을 수 있을지 여부는 블록체인의 유형과 합의 메커니즘에 달려 있습니다.\\n블록체인은 어떻게 보호되나요?\\n허가형 블록체인과 프라이빗 블록체인의 경우 일반적으로 통제 주체가 투표를 조직합니다. 그러나 비트코인이나 이더리움과 같은 퍼블릭 블록체인은 합의 메커니즘을 사용하여 보다 분산된 방식으로 보안을 유지합니다.\\n\\n합의 메커니즘이란?\\n이것이 퍼블릭 블록체인의 가장 영리한 부분입니다. 지구상에 수천 개의 노드가 흩어져 있으며, 이들 중 대다수는 블록체인에 참여하기 전에 각각의 새로운 트랜잭션을 검증해야 합니다. 블록이 추가되면 블록체인의 모든 노드는 동일한 상태에 도달해야 하며, 이를 합의 달성이라고 합니다.\\n블록체인 원장의 관리는 너무나 광범위하게 분산되어 있기 때문에 어느 한 주체가 네트워크를 제어하거나 거짓 정보를 인증하는 것은 불가능합니다. 이러한 특성 때문에 전체 네트워크의 보안이 유지됩니다. 그러나 이러한 노드가 트랜잭션을 처리하는 방식은 블록체인이 사용하는 합의 메커니즘에 따라 약간 다릅니다. 게다가 각 방법마다 일장일단이 있습니다.\\n차이점을 완전히 이해하려면 합의 메커니즘의 개념에 대한 전체 Ledger 아카데미 기사를 읽어보세요.\\n다양한 합의 메커니즘\\n퍼블릭 블록체인에는 ‘작업 증명’ 및 ‘지분 증명’이라는 두 가지 주요 합의 메커니즘이 있습니다. 그러나 더욱 중앙화되고 사용 빈도가 낮은 몇 가지 다른 합의 방법도 있습니다.\\n작업 증명(PoW): 채굴자를 통해 많은 계산 능력이 필요한 복잡한 퍼즐을 풀어 새로운 코인을 생성하고 트랜잭션을 처리하는 느리고 안전한 합의 메커니즘으로, 채굴자가 시스템을 속이려고 해도, 거기에 들어가는 에너지 비용이 훨씬 더 많이 들기 때문에 애초에 그러한 시도를 할 이유가 없어 네트워크가 안전하게 유지될 수 밖에 없습니다. PoW 블록체인의 좋은 예는 비트코인입니다.\\n지분 증명(PoS): 검증인을 통해 트랜잭션을 처리하는 더 빠르고 에너지 효율적인 합의 메커니즘입니다. PoS 블록체인의 검증인은 신뢰성을 증명하기 위해 계산 능력을 사용하는 대신 상당한 양의 암호화폐를 담보로 사용합니다. 이에 대해 더 자세히 알아보려면 암호화폐 스테이킹에 대한 전체 기사를 읽어보세요. 어찌됐든 기본적으로 검증인은 명예롭게 행동하도록 인센티브를 받습니다. 한마디로 잘하면 상을 받고, 못되게 행동하면 벌을 받는 것이죠. 이 시스템을 사용하는 블록체인의 좋은 예는 이더리움입니다.\\n블록체인에 대해 주목할 점\\n블록체인 기술하면 보통 암호화폐를 떠올리지만 실제로 이 기술은 그보다 더 많은 역할을 수행할 수 있습니다. 블록체인은 단지 암호화폐와 금융뿐만 아니라 다른 새로운 용도로도 사용할 수 있습니다.\\n예를 들어, 일부 블록체인 네트워크는 블록체인 버전의 컴퓨터 프로그램과 유사한 스마트 계약을 실행할 수 있습니다. 스마트 계약은 지나치게 전문적이 않으면서 블록체인 기술에 전체적인 문화적 혁명을 불러 왔습니다.\\n이 컴퓨터 프로그램을 사용하면 다양한 사용 사례를 갖춘 블록체인 앱을 만들 수 있습니다.\\n예를 들어, 대출과 차용을 허용하는 탈중앙화 금융 앱은 이 기능 덕분에 가능합니다. 또한 대체 불가능한 토큰 형태의 블록체인 게임과 블록체인 아트도 가능해졌습니다. 이러한 프로그램은 또한 The Sandbox 및 Decentraland와 같은 탈중앙화된 메타버스 플랫폼의 가능성을 열어주었습니다.\\n실제로 블록체인 기술은 우리가 사물을 관리하는 방식을 바꿀 수도 있습니다. 토큰과 코인을 사용하면 탈중앙화된 자율조직(DAO) 형태로 복잡한 분산형 투표 시스템을 만들 수 있기 때문입니다.\\nweb3 산업의 혁신성이 더욱 확대됨에 따라 점점 더 많은 사용 사례가 생겨날 가능성도 함께 커집니다. 간단히 말해서, 블록체인 기술은 향후에도 계속해서 큰 잠재력을 발휘할 것이며, 미래에 또 어떤 변화를 가져올지 그 누구도 예단하기 어렵습니다.\\n\\n공유\\n\\n다음: 블록체인 세대에 관한 설명\\n관련 리소스\\n\\nLedger Stax 또는 Ledger Flex로 업그레이드하는 이유와 그 시작 방법은 무엇입니까?\\n읽기\\n입문자용\\n\\n10년 간의 Ledger 발자취: 모두를 위한 안전한 셀프 커스터디\\n읽기\\n입문자용\\n\\n개인 키와 시드 문구: 그 차이점은?\\n읽기\\n6 분 입문자용\\n\\nNFT 민팅 방법\\n읽기\\n5 분 입문자용\\n\\n솔라나 스테이킹: SOL 스테이킹 방법\\n읽기\\n7 분 중급자용\\n\\nLedger Recover란?\\n읽기\\n6 분 입문자용\\n\\nLedger 장치를 분실하거나 도난당한 경우: 내 암호화폐는 안전한가?\\n읽기\\n4 분 입문자용\\n\\n블록체인 검증인이란?\\n읽기\\n입문자용\\n\\n이더리움 지분 증명이 무엇인가요?\\n읽기\\n6 분 중급자용\\n소통하기\\n공지 사항은 블로그에서 확인할 수 있습니다. 홍보 문의:\\nmedia@ledger.com\\n\\n\\n\\n\\n\\n\\n\\n\\n\\n\\n당사의\\n뉴스레터 구독\\n새롭게 지원되는 코인, 블로그 업데이트 및 특별한 혜택 정보를 이메일로 직접 받아보세요\\n이메일 입력\\n 뉴스레터 신청하기\\n\\n귀하의 이메일 주소는 뉴스레터, 업데이트 및 제안을 보내는 데만 사용됩니다. 뉴스레터에 포함된 링크를 사용하여 언제든지 구독을 해지할 수 있습니다.\\n당사에서 사용자 데이터 및 권리를 관리하는 방식을 자세히 알아보세요.\\n\\n\\n\\n한국어\\nالعربية\\n简体中文\\nEnglish\\nFrançais\\nDeutsch\\nРусский\\nEspañol\\n日本語\\nTürkçe\\nPortuguês\\n\\n\\n\\nCopyright © Ledger SAS. 판권 소유. Ledger, Ledger Stax, Ledger Nano S, Ledger Vault, BOLOS는 Ledger SAS 소유의 상표입니다.  \\n106 rue du Temple, 75003 Paris, France\\n결제 방법\\n\\n\\n\\n제품\\n\\n하드웨어 지갑\\nLedger Stax\\nLedger Flex\\nLedger Nano X\\nLedger Nano S Plus\\n장치 비교하기\\n번들\\n액세서리\\n모든 제품\\n다운로드\\n\\n\\n\\n암호화폐\\n\\n비트코인 지갑\\n이더리움 지갑\\n솔라나 지갑\\n카르다노 지갑\\n리플(XRP) 지갑\\n모네로 지갑\\nUSDT 지갑\\n모든 자산 보기\\n\\n\\n\\n암호화폐 서비스\\n\\n암호화폐 가격\\n암호화폐 구매\\n암호화폐 스왑\\n스테이킹\\n\\n\\n\\n비즈니스\\n\\nLedger 기업용 솔루션\\n\\n\\n\\n스타트업용\\n\\nLedger Cathay Capital에서의 펀딩\\n\\n\\n\\n개발자\\n\\n개발자 포털\\n\\n\\n\\n시작하기\\n\\nLedger 장치 이용을 시작하세요\\n호환 가능한 지갑 및 서비스\\n비트코인 구매 방법\\n비트코인 구매 전 가이드\\n비트코인 하드웨어 지갑\\n\\n\\n\\n더 보기\\n\\n지원\\n바운티 프로그램\\n리셀러\\nLedger 프레스 키트\\n제휴사\\n상태\\n개발자\\n파트너\\n\\n\\n\\n채용\\n\\n가입하기\\n모든 채용\\n\\n\\n\\n소개\\n\\nLedger의 비전\\nLedger 아카데미\\n기업\\n임직원 소개\\n다양성\\n블로그\\n\\n\\n\\n법무\\n\\n법률센터\\n판매 이용 약관\\n개인 정보 보호 정책\\n쿠키 정책\\n면책 고지![Image 12](https://t.co/1/i/adsct?bci=4&dv=UTC%26en-US%2Cen%26Google%20Inc.%26Win32%26255%26800%26600%264%2624%26800%26600%260%26na&eci=3&event=%7B%7D&event_id=89a50a45-2e26-4901-91fb-7f982ccfdb25&integration=gtm&p_id=Twitter&p_user_id=0&pl_id=b35d4ad6-3eba-43d2-8a43-c8b5911d186c&tw_document_href=https%3A%2F%2Fwww.ledger.com%2Fko%2Facademy%2F%25EB%25B8%2594%25EB%25A1%259D%25EC%25B2%25B4%25EC%259D%25B8%25EC%259D%25B4%25EB%259E%2580-%25EB%25AC%25B4%25EC%2597%2587%25EC%259D%25B8%25EA%25B0%2580%25EC%259A%2594&tw_iframe_status=0&txn_id=nzkax&type=javascript&version=2.3.31)![Image 13](https://analytics.twitter.com/1/i/adsct?bci=4&dv=UTC%26en-US%2Cen%26Google%20Inc.%26Win32%26255%26800%26600%264%2624%26800%26600%260%26na&eci=3&event=%7B%7D&event_id=89a50a45-2e26-4901-91fb-7f982ccfdb25&integration=gtm&p_id=Twitter&p_user_id=0&pl_id=b35d4ad6-3eba-43d2-8a43-c8b5911d186c&tw_document_href=https%3A%2F%2Fwww.ledger.com%2Fko%2Facademy%2F%25EB%25B8%2594%25EB%25A1%259D%25EC%25B2%25B4%25EC%259D%25B8%25EC%259D%25B4%25EB%259E%2580-%25EB%25AC%25B4%25EC%2597%2587%25EC%259D%25B8%25EA%25B0%2580%25EC%259A%2594&tw_iframe_status=0&txn_id=nzkax&type=javascript&version=2.3.31)\\n\\n\\n\\n\\n\\nThis website uses cookies\\nBy clicking “Accept All”, you agree to the storing of cookies on your device to enhance site navigation, analyze site usage, and assist in our marketing efforts. Cookie Policy\\nCookies Settings Accept All\\n\\nPrivacy Preference Center\\n\\n\\nYour Privacy\\n\\n\\nStrictly Necessary Cookies\\n\\n\\nPerformance Cookies\\n\\n\\nFunctional Cookies\\n\\n\\nTargeting Cookies\\n\\n\\nSocial Media Cookies\\n\\n\\nYour Privacy\\nWhen you visit any website, it may store or retrieve information on your browser, mostly in the form of cookies. This information might be about you, your preferences or your device and is mostly used to make the site work as you expect it to. The information does not usually directly identify you, but it can give you a more personalized web experience. Because we respect your right to privacy, you can choose not to allow some types of cookies. Click on the different category headings to find out more and change our default settings. However, blocking some types of cookies may impact your experience of the site and the services we are able to offer.\\nMore information\\nStrictly Necessary Cookies\\nAlways Active\\nThese cookies are necessary for the website to function and cannot be switched off in our systems. They are usually only set in response to actions made by you which amount to a request for services, such as setting your privacy preferences, logging in or filling in forms. You can set your browser to block or alert you about these cookies, but some parts of the site will not then work. These cookies do not store any personally identifiable information.\\nView Vendor Details‎\\nPerformance Cookies\\nPerformance Cookies\\nThese cookies allow us to count visits and traffic sources so we can measure and improve the performance of our site. They help us to know which pages are the most and least popular and see how visitors move around the site. All information these cookies collect is aggregated and therefore anonymous. If you do not allow these cookies we will not know when you have visited our site, and will not be able to monitor its performance.\\nView Vendor Details‎\\nFunctional Cookies\\nFunctional Cookies\\nThese cookies enable the website to provide enhanced functionality and personalisation. They may be set by us or by third party providers whose services we have added to our pages. If you do not allow these cookies then some or all of these services may not function properly.\\nView Vendor Details‎\\nTargeting Cookies\\nTargeting Cookies\\nThese cookies may be set through our site by our advertising partners. They may be used by those companies to build a profile of your interests and show you relevant adverts on other sites. They do not store directly personal information, but are based on uniquely identifying your browser and internet device. If you do not allow these cookies, you will experience less targeted advertising.\\nView Vendor Details‎\\nSocial Media Cookies\\nSocial Media Cookies\\nThese cookies are set by a range of social media services that we have added to the site to enable you to share our content with your friends and networks. They are capable of tracking your browser across other sites and building up a profile of your interests. This may impact the content and messages you see on other websites you visit. If you do not allow these cookies you may not be able to use or see these sharing tools.\\nView Vendor Details‎\\nVendors List\\nConsent Leg.Interest\\ncheckbox label label\\ncheckbox label label\\ncheckbox label label\\nClear\\ncheckbox label label\\nApply Cancel\\nConfirm My Choices\\nAllow All\\n\\n\\n\\n\"}]\n",
      "==================================\u001b[1m Ai Message \u001b[0m==================================\n",
      "\n",
      "블록체인(Blockchain)은 정보를 기록하고 저장하는 탈중앙화 시스템으로, 일련의 순서로 연결된 데이터 단위(블록)로 구성된 분산 장부 기술입니다. 각 블록은 이전 블록의 고유 번호를 포함하고 있어 체인을 형성합니다. 이 기술은 주로 암호화폐와 관련되어 있지만, 스마트 계약, 거버넌스 합의 플랫폼 등 다양한 분야에서도 활용됩니다.\n",
      "\n",
      "### 블록체인의 주요 특징\n",
      "1. **탈중앙화**: 블록체인은 중앙 서버에 의존하지 않고, P2P 네트워크에 분산되어 있습니다. 각 노드(장치 또는 서버)는 블록체인의 사본을 보유하고 있어, 데이터의 무결성을 유지합니다.\n",
      "2. **불변성**: 한 번 블록체인에 기록된 정보는 변경하기 어렵습니다. 이는 해킹이나 데이터 조작을 방지하는 데 중요한 역할을 합니다.\n",
      "3. **투명성**: 블록체인에 저장된 데이터는 외부에서 확인할 수 있어, 거래의 흐름을 쉽게 추적할 수 있습니다.\n",
      "\n",
      "### 블록체인의 장점\n",
      "- **데이터 무결성**: 특정 개인이나 단체가 데이터를 조작할 수 없으므로, 정보의 정확성을 보장합니다.\n",
      "- **높은 투명성**: 모든 거래가 공개되어 있어, 사기나 부정행위를 쉽게 식별할 수 있습니다.\n",
      "- **탈중앙화된 제어**: 중앙 기관 없이 사용자 간의 직접적인 거래가 가능하여, 중개자의 필요성을 줄입니다.\n",
      "\n",
      "### 블록체인의 단점\n",
      "- **규제 부족**: 블록체인에 저장된 데이터가 도난당할 경우, 복구가 어렵습니다.\n",
      "- **지나친 투명성**: 모든 데이터가 공개되기 때문에, 민감한 정보를 저장하기에는 적합하지 않을 수 있습니다.\n",
      "\n",
      "블록체인은 암호화폐(예: 비트코인, 이더리움) 외에도 NFT(대체 불가능한 토큰), 기업 내부 기록 보관, 거버넌스 투표 시스템 등 다양한 분야에서 활용되고 있습니다.\n",
      "\n",
      "더 자세한 내용은 [NordVPN 블로그](https://nordvpn.com/ko/blog/blockchain-technology-explained/)와 [Ledger 아카데미](https://www.ledger.com/ko/academy/블록체인이란-무엇인가요)에서 확인할 수 있습니다.\n",
      "================================\u001b[1m Human Message \u001b[0m=================================\n",
      "\n",
      "BlockChain이 무엇인지 알려주세요! (웹검색 필수)\n",
      "==================================\u001b[1m Ai Message \u001b[0m==================================\n",
      "Tool Calls:\n",
      "  tavily_web_search (call_EtVUsQToIP348CuLeuKj3dSb)\n",
      " Call ID: call_EtVUsQToIP348CuLeuKj3dSb\n",
      "  Args:\n",
      "    query: 블록체인 정의\n",
      "=================================\u001b[1m Tool Message \u001b[0m=================================\n",
      "\n",
      "[수정된 웹 검색 결과]\n",
      "    블록체인 기술은 다양한 산업 분야에서 활용되고 있으며, 그에 따라 여러 종류의 블록체인 네트워크가 존재합니다. 대표적인 블록체인 네트워크는 다음과 같습니다:\n",
      "    1. 비트코인 (Bitcoin): 2009년에 사토시 나카모토라는 익명의 인물이 개발한 최초의 암호화폐이자 블록체인 네트워크입니다. 비트코인은 탈중앙화된 디지털 통화로, 중앙 기관 없이 개인 간의 거래를 가능하게 합니다.\n",
      "    2. 이더리움 (Ethereum): 2015년에 비탈릭 부테린이 개발한 블록체인 플랫폼으로, 스마트 계약 기능을 통해 다양한 분산 애플리케이션(DApp)을 구축할 수 있습니다. 이더리움은 암호화폐인 이더(ETH)를 사용하며, 금융, 게임, 예술 등 다양한 분야에서 활용되고 있습니다.\n",
      "    3. 리플 (Ripple): 리플은 금융 기관 간의 국제 송금을 빠르고 저렴하게 처리하기 위해 개발된 블록체인 기반의 결제 프로토콜입니다. 리플의 네이티브 암호화폐인 XRP를 활용하여 거래 속도를 높이고 비용을 절감할 수 있습니다.\n",
      "    4. 하이퍼레저 (Hyperledger): 리눅스 재단이 주도하는 오픈 소스 블록체인 프로젝트로, 기업용 블록체인 솔루션을 개발하기 위한 플랫폼입니다. 하이퍼레저는 모듈식 아키텍처를 통해 다양한 산업 분야에서 맞춤형 블록체인 네트워크를 구축할 수 있도록 지원합니다.\n",
      "    5. EOS: 이더리움과 유사하게 스마트 계약 및 DApp 개발을 지원하는 블록체인 플랫폼으로, 높은 처리 속도와 확장성을 강조합니다. EOS는 지분 증명(Proof of Stake) 합의 알고리즘을 사용하여 거래 속도를 향상시킵니다.\n",
      "    이 외에도 카르다노(Cardano), 솔라나(Solana), 폴카닷(Polkadot) 등 다양한 블록체인 네트워크가 존재하며, 각기 다른 특징과 활용 사례를 가지고 있습니다.\n",
      "\n",
      "==================================\u001b[1m Ai Message \u001b[0m==================================\n",
      "\n",
      "블록체인(Blockchain)은 정보를 안전하게 기록하고 저장하는 탈중앙화된 디지털 장부 기술입니다. 이 기술은 여러 개의 데이터 블록이 체인 형태로 연결되어 있으며, 각 블록은 이전 블록의 정보를 포함하고 있어 데이터의 무결성을 보장합니다.\n",
      "\n",
      "### 블록체인의 주요 특징\n",
      "1. **탈중앙화**: 블록체인은 중앙 기관 없이 P2P 네트워크를 통해 운영됩니다. 이는 데이터의 조작이나 해킹을 어렵게 만듭니다.\n",
      "2. **불변성**: 한 번 블록체인에 기록된 정보는 변경할 수 없으며, 이는 데이터의 신뢰성을 높입니다.\n",
      "3. **투명성**: 모든 거래가 공개되어 있어, 누구나 거래 내역을 확인할 수 있습니다.\n",
      "\n",
      "### 블록체인의 활용 사례\n",
      "- **암호화폐**: 비트코인, 이더리움 등 다양한 암호화폐가 블록체인 기술을 기반으로 하고 있습니다.\n",
      "- **스마트 계약**: 이더리움과 같은 플랫폼에서는 자동으로 실행되는 계약을 작성할 수 있습니다.\n",
      "- **금융 서비스**: 리플과 같은 블록체인은 국제 송금을 빠르고 저렴하게 처리하는 데 사용됩니다.\n",
      "- **기업 솔루션**: 하이퍼레저와 같은 프로젝트는 기업 맞춤형 블록체인 솔루션을 제공합니다.\n",
      "\n",
      "블록체인은 다양한 산업에서 혁신을 가져오고 있으며, 앞으로도 그 활용 가능성이 더욱 확대될 것으로 기대됩니다.\n"
     ]
    }
   ],
   "source": [
    "# 그래프 상태 스냅샷 생성\n",
    "snapshot = graph.get_state(config)\n",
    "\n",
    "# 최근 세 개의 메시지 출력\n",
    "for message in snapshot.values[\"messages\"]:\n",
    "    message.pretty_print()"
   ]
  },
  {
   "cell_type": "code",
   "execution_count": 120,
   "metadata": {},
   "outputs": [
    {
     "name": "stdout",
     "output_type": "stream",
     "text": [
      "()\n"
     ]
    }
   ],
   "source": [
    "# 다음 상태 출력\n",
    "print(snapshot.next)"
   ]
  },
  {
   "cell_type": "markdown",
   "metadata": {},
   "source": [
    "#### Interrupt 후 메시지 상태 업데이트 - 이어서 진행\n",
    "\n",
    "상태 수정을 하기 위해 다음 노드로 진행하기 전 interrupt 를 발생시켜 중단하고, 상태를 갱신한 뒤 이어서 진행하는 방법입니다.  \n",
    "  \n",
    "위의 메모리와 공유되지 않기 위해 새로운 `thread_id` 를 생성합니다.  \n",
    "  \n",
    "여기서는 랜덤한 해시값을 생성하는 직접 작성한 `generate_random_hash` 함수를 사용합니다.\n",
    "\n",
    "\n",
    "##### 1. 인터럽트를 실행합니다."
   ]
  },
  {
   "cell_type": "code",
   "execution_count": 121,
   "metadata": {},
   "outputs": [
    {
     "name": "stdout",
     "output_type": "stream",
     "text": [
      "thread_id: a772aa\n",
      "================================\u001b[1m Human Message \u001b[0m=================================\n",
      "\n",
      "블록체인 기술에 대해서 배워보고 싶습니다. 유용한 자료를 추천해 주세요!\n",
      "==================================\u001b[1m Ai Message \u001b[0m==================================\n",
      "Tool Calls:\n",
      "  tavily_web_search (call_V4WgLFZ9YTrZHrCM1GYXYToX)\n",
      " Call ID: call_V4WgLFZ9YTrZHrCM1GYXYToX\n",
      "  Args:\n",
      "    query: 블록체인 기술 자료 추천\n"
     ]
    }
   ],
   "source": [
    "from graphs import generate_random_hash\n",
    "\n",
    "thread_id = generate_random_hash()\n",
    "print(f\"thread_id: {thread_id}\")\n",
    "\n",
    "question = \"블록체인 기술에 대해서 배워보고 싶습니다. 유용한 자료를 추천해 주세요!\"\n",
    "\n",
    "# 초기 입력 상태를 정의\n",
    "input = State(messages=[(\"user\", question)])\n",
    "\n",
    "# 새로운 config 생성\n",
    "config = {\"configurable\": {\"thread_id\": thread_id}}\n",
    "\n",
    "events = graph.stream(\n",
    "    input=input,\n",
    "    config=config,\n",
    "    interrupt_before=[\"tools\"],\n",
    "    stream_mode=\"values\",\n",
    ")\n",
    "\n",
    "for event in events:\n",
    "    if \"messages\" in event:\n",
    "        event[\"messages\"][-1].pretty_print()"
   ]
  },
  {
   "cell_type": "markdown",
   "metadata": {},
   "source": [
    "다음으로, 에이전트를 위한 도구 호출을 업데이트 합니다.  \n",
    "  \n",
    "##### 2. Message ID 를 가져옵니다."
   ]
  },
  {
   "cell_type": "code",
   "execution_count": 122,
   "metadata": {},
   "outputs": [
    {
     "name": "stdout",
     "output_type": "stream",
     "text": [
      "Message ID: run-180949cd-9e94-4b61-83de-d2cbc19625c6-0\n"
     ]
    }
   ],
   "source": [
    "from langchain_core.messages import AIMessage\n",
    "\n",
    "# 마지막 메시지를 가져옵니다.\n",
    "snapshot = graph.get_state(config)\n",
    "\n",
    "# messages 의 마지막 메시지 가져오기\n",
    "existing_message = snapshot.values[\"messages\"][-1]\n",
    "\n",
    "# 메시지 ID 출력\n",
    "print(\"Message ID:\", existing_message.id)"
   ]
  },
  {
   "cell_type": "markdown",
   "metadata": {},
   "source": [
    "마지막 메시지는 `tavily_search` 라는 도구를 호출 정보를 가지고 있는 메시지입니다. AI Message 입니다.  \n",
    "\n",
    "```str\n",
    "================================== Ai Message ==================================\n",
    "Tool Calls:\n",
    "  tavily_web_search (call_9zfnj9JH3lruDGaZ682OrSQy)\n",
    " Call ID: call_9zfnj9JH3lruDGaZ682OrSQy\n",
    "  Args:\n",
    "    query: 블록체인 기술 자료 추천\n",
    "Message ID: run-27d086c0-4705-42fb-bae8-cf632443690c-0\n",
    "````"
   ]
  },
  {
   "cell_type": "markdown",
   "metadata": {},
   "source": [
    "##### 3. existing_message에 tool_call() 메서드를 사용하여 주요 속성들을 추출합니다.  \n",
    "  \n",
    "**주요 속성**\n",
    "- `id`: 도구 호출의 고유 ID\n",
    "- `name`: 도구 이름\n",
    "- `args`: 도구 호출에 전달된 인수\n",
    "- `call_id`: 도구 호출의 고유 ID"
   ]
  },
  {
   "cell_type": "code",
   "execution_count": 123,
   "metadata": {},
   "outputs": [
    {
     "name": "stdout",
     "output_type": "stream",
     "text": [
      "{'name': 'tavily_web_search', 'args': {'query': '블록체인 기술 자료 추천'}, 'id': 'call_V4WgLFZ9YTrZHrCM1GYXYToX', 'type': 'tool_call'}\n"
     ]
    }
   ],
   "source": [
    "# 첫번째 도구 호출 출력\n",
    "print(existing_message.tool_calls[0])"
   ]
  },
  {
   "cell_type": "markdown",
   "metadata": {},
   "source": [
    "##### 4. 위의 속성 값 중 `args` 의 `query` 값을 수정합니다."
   ]
  },
  {
   "cell_type": "code",
   "execution_count": 124,
   "metadata": {},
   "outputs": [
    {
     "name": "stdout",
     "output_type": "stream",
     "text": [
      "{'name': 'tavily_web_search', 'args': {'query': '디파이 투자 관련 자료 추천'}, 'id': 'call_V4WgLFZ9YTrZHrCM1GYXYToX', 'type': 'tool_call'}\n"
     ]
    }
   ],
   "source": [
    "# tool_calls 를 복사하여 새로운 도구 호출 생성\n",
    "new_tool_call = existing_message.tool_calls[0].copy()\n",
    "\n",
    "# 쿼리 매개변수 업데이트(갱신)\n",
    "new_tool_call[\"args\"] = {\"query\": \"디파이 투자 관련 자료 추천\"}\n",
    "\n",
    "# 업데이트된 도구 호출 출력\n",
    "print(new_tool_call)"
   ]
  },
  {
   "cell_type": "markdown",
   "metadata": {},
   "source": [
    "##### 5. 마지막 메시지를 수정합니다."
   ]
  },
  {
   "cell_type": "code",
   "execution_count": 125,
   "metadata": {},
   "outputs": [
    {
     "name": "stdout",
     "output_type": "stream",
     "text": [
      "run-180949cd-9e94-4b61-83de-d2cbc19625c6-0\n",
      "==================================\u001b[1m Ai Message \u001b[0m==================================\n",
      "Tool Calls:\n",
      "  tavily_web_search (call_V4WgLFZ9YTrZHrCM1GYXYToX)\n",
      " Call ID: call_V4WgLFZ9YTrZHrCM1GYXYToX\n",
      "  Args:\n",
      "    query: 디파이 투자 관련 자료 추천\n"
     ]
    }
   ],
   "source": [
    "# AIMessage 생성\n",
    "new_message = AIMessage(\n",
    "    content=existing_message.content,\n",
    "    tool_calls=[new_tool_call],\n",
    "    id=existing_message.id,\n",
    ")\n",
    "\n",
    "print(new_message.id)\n",
    "\n",
    "# 업데이트된 메시지 출력\n",
    "new_message.pretty_print()"
   ]
  },
  {
   "cell_type": "markdown",
   "metadata": {},
   "source": [
    "검색 쿼리가 업데이트 되었습니다.  \n",
    "  \n",
    "##### 6. 업데이트된 도구를 호출합니다."
   ]
  },
  {
   "cell_type": "code",
   "execution_count": 126,
   "metadata": {},
   "outputs": [
    {
     "name": "stdout",
     "output_type": "stream",
     "text": [
      "{'name': 'tavily_web_search', 'args': {'query': '디파이 투자 관련 자료 추천'}, 'id': 'call_V4WgLFZ9YTrZHrCM1GYXYToX', 'type': 'tool_call'}\n",
      "\n",
      "Message ID run-180949cd-9e94-4b61-83de-d2cbc19625c6-0\n"
     ]
    },
    {
     "data": {
      "text/plain": [
       "{'configurable': {'thread_id': 'a772aa',\n",
       "  'checkpoint_ns': '',\n",
       "  'checkpoint_id': '1efb8fb9-d0da-692e-8002-d6843840503c'}}"
      ]
     },
     "execution_count": 126,
     "metadata": {},
     "output_type": "execute_result"
    }
   ],
   "source": [
    "# 업데이트된 도구 호출 출력\n",
    "print(new_message.tool_calls[0])\n",
    "\n",
    "# 메시지 ID 출력\n",
    "print(\"\\nMessage ID\", new_message.id)\n",
    "\n",
    "# 그래프 상태 업데이트\n",
    "graph.update_state(config, {\"messages\": [new_message]})"
   ]
  },
  {
   "cell_type": "markdown",
   "metadata": {},
   "source": [
    "그래프에도 업데이트 하였기 때문에 그래프의 상태값도 확인해봅니다."
   ]
  },
  {
   "cell_type": "code",
   "execution_count": 127,
   "metadata": {},
   "outputs": [
    {
     "data": {
      "text/plain": [
       "[{'name': 'tavily_web_search',\n",
       "  'args': {'query': '디파이 투자 관련 자료 추천'},\n",
       "  'id': 'call_V4WgLFZ9YTrZHrCM1GYXYToX',\n",
       "  'type': 'tool_call'}]"
      ]
     },
     "execution_count": 127,
     "metadata": {},
     "output_type": "execute_result"
    }
   ],
   "source": [
    "# 마지막 메시지의 도구 호출 가져오기\n",
    "graph.get_state(config).values[\"messages\"][-1].tool_calls"
   ]
  },
  {
   "cell_type": "markdown",
   "metadata": {},
   "source": [
    "##### 7. 기존 설정과 None 입력을 사용하여 그래프 이어서 스트리밍 합니다."
   ]
  },
  {
   "cell_type": "code",
   "execution_count": 128,
   "metadata": {},
   "outputs": [
    {
     "name": "stdout",
     "output_type": "stream",
     "text": [
      "==================================\u001b[1m Ai Message \u001b[0m==================================\n",
      "Tool Calls:\n",
      "  tavily_web_search (call_V4WgLFZ9YTrZHrCM1GYXYToX)\n",
      " Call ID: call_V4WgLFZ9YTrZHrCM1GYXYToX\n",
      "  Args:\n",
      "    query: 디파이 투자 관련 자료 추천\n",
      "=================================\u001b[1m Tool Message \u001b[0m=================================\n",
      "Name: tavily_web_search\n",
      "\n",
      "[{\"title\": \"탈중앙화 금융 | 디파이 (DeFi) 뜻과 사용하는 법, 투자 가이드\", \"url\": \"https://moneyrich.kr/blog/탈중앙화-금융-디파이defi-뜻과-사용하는-법-투자/\", \"content\": \"꿀팁 3: 분산 투자, 안전하게 수익률 높이는 지름길! ... Tag : 디파이. 디파이 관련 동영상. 로그인 후 디파이에 대한 FAQ를 등록해 주세요. 관련자료. 댓글 0. 등록된 댓글이 없습니다. 로그인한 회원만 댓글 등록이 가능합니다. 목록\", \"score\": 0.9978258, \"raw_content\": null}, {\"title\": \"디파이(DeFi)란? 탈중앙화 금융의 개념과 투자 방법\", \"url\": \"https://nomadcareer.kr/blog/디파이defi란-탈중앙화-금융의-개념과-투자-방법/\", \"content\": \"디파이 투자 방법과 주의사항. 디파이에 투자하는 방법은 크게 대출, 스테이킹, 유동성 공급 등의 서비스에 자산을 예치하거나, 디파이 토큰에 투자하는 방식으로 나눌 수 있습니다. 1. 투자 방법. 디파이 대출 플랫폼에 자산을 예치하고 이자를 받는 방식.\", \"score\": 0.99401975, \"raw_content\": \"\\n\\n\\t\\t\\t\\t\\t\\t\\t\\t로그인\\n\\t\\t\\t\\t\\t\\t\\t\\n\\n\\n\\t\\t\\t\\t\\t\\t\\t\\tBlog\\t\\t\\t\\t\\t\\t\\t\\t\\t\\t\\t\\t\\t\\t\\t\\n\\n\\t\\t\\t\\t\\t\\t\\t\\tContents\\t\\t\\t\\t\\t\\t\\t\\t\\t\\t\\t\\t\\t\\t\\t\\n\\n\\t\\t\\t\\t\\t\\t\\t\\tDb\\t\\t\\t\\t\\t\\t\\t\\t\\t\\t\\t\\t\\t\\t\\t\\n\\n\\t\\t\\t\\t\\t\\t\\t\\t상품리뷰\\t\\t\\t\\t\\t\\t\\t\\t\\t\\t\\t\\t\\t\\t\\t\\n\\n\\t\\t\\t\\t\\t\\t\\t\\tShop\\t\\t\\t\\t\\t\\t\\t\\t\\t\\t\\t\\t\\t\\t\\t\\n\\r\\n\\t\\t\\t\\t디파이(DeFi)란? 탈중앙화 금융의 개념과 투자 방법\\t\\t\\t\\n작성자 정보\\n컨텐츠 정보\\n본문\\n목차\\n디파이(DeFi)란?\\n디파이(DeFi)는 탈중앙화 금융(Decentralized Finance)의 줄임말로, 기존의 중앙화된 금융 시스템을 벗어나 블록체인 기술을 통해 탈중앙화된 금융 서비스를 제공하는 것을 의미합니다. 은행이나 정부 같은 중앙 기관 없이도 디지털 자산을 이용해 대출, 투자, 송금 등의 금융 활동을 할 수 있습니다.\\n디파이는 주로 이더리움 블록체인 위에서 작동하며, 스마트 계약을 통해 자동화된 금융 거래가 이루어집니다. 이는 중개자 없이도 투명하고 안전한 거래를 가능하게 하여 금융 시스템의 혁신으로 여겨지고 있습니다.\\n\\n디파이의 주요 특징\\n디파이의 가장 큰 특징은 탈중앙화와 투명성, 그리고 스마트 계약을 활용한 자동화된 시스템입니다.\\n1. 탈중앙화\\n디파이는 중앙 기관이 없이도 운영됩니다. 이는 은행이나 금융 기관이 모든 거래를 관리하고 중개하는 기존 시스템과 달리, 개인 간 직접 거래가 이루어지는 구조입니다. 이 덕분에 높은 유연성과 더불어 전 세계 누구나 접근할 수 있는 개방성이 특징입니다.\\n2. 투명성\\n모든 디파이 거래는 블록체인에 기록되며, 누구나 이를 조회할 수 있습니다. 이로 인해 거래 내역이 투명하게 공개되며, 부정 거래나 조작의 위험이 줄어듭니다.\\n3. 스마트 계약\\n디파이의 핵심 기술 중 하나인 스마트 계약은 미리 설정된 조건에 따라 자동으로 계약을 실행하는 프로그램입니다. 이는 사람이 직접 개입할 필요 없이, 계약 조건이 충족되면 즉시 거래가 이루어져 효율성과 신뢰성을 높입니다.\\n\\n디파이에서 활용되는 서비스와 플랫폼\\n디파이는 다양한 금융 서비스를 제공하며, 이를 통해 사용자들은 기존 금융 시스템에서는 경험할 수 없는 기회를 얻을 수 있습니다.\\n1. 대출(Lending)\\n디파이 플랫폼에서는 담보를 제공하여 대출을 받을 수 있습니다. 대출자와 투자자 간에 중개자가 필요 없으며, 자동으로 이자가 지급됩니다. 대출을 받을 때는 주로 암호화폐를 담보로 제공하고, 특정 기간 후 상환하는 방식입니다.\\n2. 스테이킹(Staking)\\n스테이킹은 보유하고 있는 암호화폐를 플랫폼에 예치하여 보상을 받는 서비스입니다. 이는 일정 기간 동안 자산을 잠가 두는 방식으로, 네트워크의 안정성을 높이면서 이자 형태의 보상을 제공합니다.\\n3. 유동성 공급(Liquidity Providing)\\n유동성 공급은 암호화폐 자산을 디파이 플랫폼의 유동성 풀에 예치하여, 거래 수수료를 보상으로 받는 방식입니다. 이를 통해 사용자는 자신이 보유한 자산을 이용해 추가 수익을 창출할 수 있습니다.\\n\\n디파이 투자 방법과 주의사항\\n디파이에 투자하는 방법은 크게 대출, 스테이킹, 유동성 공급 등의 서비스에 자산을 예치하거나, 디파이 토큰에 투자하는 방식으로 나눌 수 있습니다.\\n1. 투자 방법\\n2. 주의사항\\n디파이는 높은 수익을 제공할 수 있지만, 그만큼 리스크도 큽니다. 자산이 스마트 계약을 통해 운영되기 때문에 보안 취약성이나 해킹의 위험이 있으며, 암호화폐 가격 변동성이 커서 손실 위험도 존재합니다.\\n\\n디파이 관련 자주 묻는 질문들\\nQ: 디파이는 안전한가요?A: 디파이는 블록체인 기술을 기반으로 하여 투명성과 보안성이 높지만, 스마트 계약의 코드 결함이나 해킹 등의 위험이 존재할 수 있습니다. 이를 예방하기 위해 신뢰할 수 있는 플랫폼을 선택하는 것이 중요합니다.\\nQ: 디파이 투자는 어떻게 시작하나요?A: 디파이 투자는 먼저 암호화폐 지갑을 개설하고, 이를 통해 디파이 플랫폼에 자산을 예치하거나, 스테이킹을 시작할 수 있습니다. 자산을 예치하는 서비스마다 요구하는 조건이나 보상이 다르니, 투자 전 플랫폼을 잘 조사해야 합니다.\\nQ: 디파이에서 어떤 암호화폐를 사용하나요?A: 디파이에서 가장 많이 사용되는 암호화폐는 이더리움(ETH)입니다. 하지만 이외에도 다이(DAI), 유에스디코인(USDC) 같은 스테이블코인이나, 각 디파이 플랫폼에서 발행하는 거버넌스 토큰도 많이 사용됩니다.\\n\\n디파이(DeFi)는 기존 금융 시스템의 중개자 없이, 개인 간의 탈중앙화된 금융 거래를 가능하게 하는 혁신적인 서비스입니다. 대출, 스테이킹, 유동성 공급 등 다양한 서비스로 높은 수익성을 기대할 수 있지만, 동시에 리스크 관리가 필수적입니다. 디파이의 개념과 투자 방법을 이해하고, 신뢰할 수 있는 플랫폼을 선택해 안전하게 투자하세요.\\n탈중앙화 블록체인 스마트계약 암호화폐\\nTag : 디파이\\n디파이 관련 동영상\\n로그인 후 디파이에 대한 FAQ를 등록해 주세요.\\n\\n관련자료\\n\\n\\r\\n\\t\\t\\t\\t\\t\\t\\t\\t\\t\\t\\t\\t\\t\\t\\t\\t\\t\\t\\t\\t고양이 털 청소 꿀팁: 깔끔한 집을 위한 필수 도구와 방법\\t\\t\\t\\t\\t\\t\\t\\t\\t\\n\\n\\r\\n\\t\\t\\t\\t\\t\\t\\t\\t\\t\\t\\t\\t\\t\\t\\t\\t\\t\\t목차고양이 털 관리의 중요성고양이 털이 많이 빠지는 이유계절 변화와 털갈이건강 문제와 스트레스고양이 털 청소를 위한 필수 도구고양이 전용 브러쉬청소기와 핸드 헬드 청소기털 제거 롤러와 빗자루고양이 털 청소의 효과적인 방법가구와 바닥 청소옷과 침구에서 털 제거하기공기 청정기 사용털 빠짐을…\\t\\t\\t\\t\\t\\t\\t\\t\\n\\n\\r\\n\\t\\t\\t\\t\\t\\t\\t\\t\\t\\t\\t\\t\\t\\t\\t\\t\\t\\t\\t\\t에어컨, 여름 더위도 걱정 없는 쾌적한 실내 환경 만들기\\t\\t\\t\\t\\t\\t\\t\\t\\t\\n\\n\\r\\n\\t\\t\\t\\t\\t\\t\\t\\t\\t\\t\\t\\t\\t\\t\\t\\t\\t\\t에어컨, 여름 더위에 맞서 싸우는 최고의 선택여름이 다가오면 가장 먼저 생각나는 필수 가전제품이 바로 에어컨입니다. 더운 날씨 속에서 집 안을 시원하게 만들어주는 에어컨은 단순히 온도를 조절하는 기능을 넘어서, 우리의 생활 공간을 쾌적하고 건강하게 유지해주는 중요한 역할을 합니다. 오늘…\\t\\t\\t\\t\\t\\t\\t\\t\\n\\n\\r\\n\\t\\t\\t\\t\\t\\t\\t\\t\\t\\t\\t\\t\\t\\t\\t\\t\\t\\t\\t\\t자궁경부암 검사의 중요성: 검사 방법과 주기별 가이드\\t\\t\\t\\t\\t\\t\\t\\t\\t\\n\\n\\r\\n\\t\\t\\t\\t\\t\\t\\t\\t\\t\\t\\t\\t\\t\\t\\t\\t\\t\\t목차자궁경부암 검사란?자궁경부암 검사가 중요한 이유자궁경부암의 원인과 위험 요인자궁경부암 검사 방법세포진 검사(Pap 검사)HPV 검사자궁경부암 검사 주기와 권장 연령자궁경부암 예방을 위한 생활 습관자주 묻는 질문(FAQ)자궁경부암 검사란?자궁경부암 검사는 자궁경부에 암세포가 있는지, …\\t\\t\\t\\t\\t\\t\\t\\t\\n\\n\\r\\n\\t\\t\\t\\t\\t\\t\\t\\t\\t\\t\\t\\t\\t\\t\\t\\t\\t\\t\\t\\t부엉이쿠션커버로 집안을 포근하고 아늑하게 꾸미는 법\\t\\t\\t\\t\\t\\t\\t\\t\\t\\n\\n\\r\\n\\t\\t\\t\\t\\t\\t\\t\\t\\t\\t\\t\\t\\t\\t\\t\\t\\t\\t부엉이쿠션커버로 집안을 포근하고 아늑하게 꾸미는 법부엉이는 단순히 밤을 밝히는 동물이 아니라, 집안 분위기를 따뜻하고 사랑스러운 느낌으로 바꿔주는 특별한 존재입니다. 특히 부엉이쿠션커버는 귀여운 디자인뿐만 아니라, 집안을 아늑하고 편안하게 꾸며주는 아이템으로 각광받고 있죠. 부엉이 모양…\\t\\t\\t\\t\\t\\t\\t\\t\\n\\n\\r\\n\\t\\t\\t\\t\\t\\t\\t\\t\\t\\t\\t\\t\\t\\t\\t\\t\\t\\t\\t\\t콤부차의 놀라운 효능, 건강을 위한 완벽한 선택 마셔야 하는 이유!\\t\\t\\t\\t\\t\\t\\t\\t\\t\\n\\n\\r\\n\\t\\t\\t\\t\\t\\t\\t\\t\\t\\t\\t\\t\\t\\t\\t\\t\\t\\t콤부차의 놀라운 효능, 건강을 위한 완벽한 선택 마셔야 하는 이유!최근 건강한 라이프스타일을 추구하는 사람들 사이에서 큰 인기를 끌고 있는 음료가 바로 콤부차입니다. 콤부차는 발효된 차로, 건강에 많은 이점을 제공하는 음료로 알려져 있습니다. 그 효능은 체내의 건강을 지키는 데 도움을 …\\t\\t\\t\\t\\t\\t\\t\\t\\n\\n\\r\\n\\t\\t\\t\\t\\t\\t\\t\\t\\t\\t\\t\\t\\t\\t\\t\\t\\t\\t\\t\\t암호화폐 투자, 어떻게 시작할까? 안전한 투자 방법과 규제까지\\\"\\t\\t\\t\\t\\t\\t\\t\\t\\t\\n\\n\\r\\n\\t\\t\\t\\t\\t\\t\\t\\t\\t\\t\\t\\t\\t\\t\\t\\t\\t\\t암호화폐 투자, 어떻게 시작할까? 안전한 투자 방법과 규제까지암호화폐에 대한 관심이 날로 증가하면서, 많은 사람들이 암호화폐 투자를 시작하려고 합니다. 하지만 그만큼 불확실성과 위험도 따르기 때문에, 처음 시작하는 사람들에게는 어떻게 접근해야 할지에 대한 고민이 많습니다. 이 글에서는 …\\t\\t\\t\\t\\t\\t\\t\\t\\n\\n\\r\\n\\t\\t\\t\\t\\t\\t\\t\\t\\t\\t\\t\\t\\t\\t\\t\\t\\t\\t\\t\\t바코드 스캐너 거치대: 효율적인 스캔을 위한 필수 아이템\\t\\t\\t\\t\\t\\t\\t\\t\\t\\n\\n\\r\\n\\t\\t\\t\\t\\t\\t\\t\\t\\t\\t\\t\\t\\t\\t\\t\\t\\t\\t목차바코드 스캐너 거치대란?바코드 스캐너 거치대의 필요성손쉬운 스캔과 작업 효율성 향상다양한 작업 환경에서의 안정성 제공바코드 스캐너 거치대의 종류와 선택 방법고정형 거치대조절형 거치대이동형 거치대바코드 스캐너 거치대 설치 및 사용 팁설치 시 주의사항최적의 스캔 각도 조절 방법추천 바코…\\t\\t\\t\\t\\t\\t\\t\\t\\n\\n\\r\\n\\t\\t\\t\\t\\t\\t\\t\\t\\t\\t\\t\\t\\t\\t\\t\\t\\t\\t\\t\\t최면치료의 효과와 활용법, 불안부터 스트레스까지 해결하는 방법\\t\\t\\t\\t\\t\\t\\t\\t\\t\\n\\n\\r\\n\\t\\t\\t\\t\\t\\t\\t\\t\\t\\t\\t\\t\\t\\t\\t\\t\\t\\t목차최면치료란 무엇인가? 최면치료의 역사 최면치료의 주요 효과 불안과 스트레스 해소 습관 교정 최면치료의 활용 방법 개인적인 문제 해결 치료적인 목적 최면치료를 받기 전 알아야 할 점 최면치료의 과학적 근거 최면치료와 다른 치료법의 차이점최면치료란 무엇인가?최면치료(Hypnotherap…\\t\\t\\t\\t\\t\\t\\t\\t\\n\\n\\r\\n\\t\\t\\t\\t\\t\\t\\t\\t\\t\\t\\t\\t\\t\\t\\t\\t\\t\\t\\t\\t누구나 쉽게 따라 할 수 있는 집밥 레시피 모음! 간단하면서도 건강한 한끼 만들기\\t\\t\\t\\t\\t\\t\\t\\t\\t\\n\\n\\r\\n\\t\\t\\t\\t\\t\\t\\t\\t\\t\\t\\t\\t\\t\\t\\t\\t\\t\\t목차집밥의 매력과 장점 집밥 레시피 준비하기 빠르고 간단한 집밥 레시피 5가지 계란 볶음밥 간장 닭조림 참치마요 덮밥 건강한 집밥 만들기 팁 남은 재료 활용법 가족을 위한 집밥 아이디어 집밥 레시피 참고할 만한 사이트 소개 1. 집밥의 매력과 장점집밥은 우리에게 익숙한 음식일 뿐만 아니…\\t\\t\\t\\t\\t\\t\\t\\t\\n\\n\\r\\n\\t\\t\\t\\t\\t\\t\\t\\t\\t\\t\\t\\t\\t\\t\\t\\t\\t\\t\\t\\t관공서용 태극기 선택 가이드: 품격과 전통을 담은 올바른 태극기\\t\\t\\t\\t\\t\\t\\t\\t\\t\\n\\n\\r\\n\\t\\t\\t\\t\\t\\t\\t\\t\\t\\t\\t\\t\\t\\t\\t\\t\\t\\t목차관공서용 태극기란? 태극기의 역사와 상징성 2.1. 태극기의 유래 2.2. 태극기의 의미 관공서용 태극기 품질 기준 3.1. 소재와 내구성 3.2. 디자인 표준 올바른 태극기 게양 방법 태극기 관리와 보관 팁 관공서용 태극기 구매 시 고려사항 결론: 전통과 품격을 살린 태극기 선택1…\\t\\t\\t\\t\\t\\t\\t\\t\\n\\n\\r\\n\\t\\t\\t\\t\\t\\t\\t\\t\\t\\t\\t\\t\\t\\t\\t\\t\\t\\t\\t\\t건강하고 맛있게 체중 관리하는 법: 다이어트 젤리밤의 효과와 활용법\\t\\t\\t\\t\\t\\t\\t\\t\\t\\n\\n\\r\\n\\t\\t\\t\\t\\t\\t\\t\\t\\t\\t\\t\\t\\t\\t\\t\\t\\t\\t목차다이어트 젤리밤이란? 다이어트 젤리밤의 주요 성분과 효과 다이어트 젤리밤 섭취 시 주의사항 다이어트 젤리밤의 다양한 맛과 종류 다이어트 젤리밤 활용법 다이어트 젤리밤 구매 시 고려할 점 결론: 건강한 체중 관리를 위한 다이어트 젤리밤 다이어트 젤리밤이란?다이어트 젤리밤은 체중 관리를…\\t\\t\\t\\t\\t\\t\\t\\t\\n\\n\\r\\n\\t\\t\\t\\t\\t\\t\\t\\t\\t\\t\\t\\t\\t\\t\\t\\t\\t\\t\\t\\t백일해, 증상과 예방! 건강을 지키기 위한 필수 정보\\\"\\t\\t\\t\\t\\t\\t\\t\\t\\t\\n\\n\\r\\n\\t\\t\\t\\t\\t\\t\\t\\t\\t\\t\\t\\t\\t\\t\\t\\t\\t\\t백일해, 증상과 예방! 건강을 지키기 위한 필수 정보목차백일해란? 백일해의 주요 증상 백일해의 전파 경로와 위험성 백일해의 예방 방법 예방 접종의 중요성 백일해 예방을 위한 생활 습관 백일해 치료법 백일해에 대한 자주 묻는 질문 결론: 백일해 예방이 중요한 이유1. 백일해란?백일해(Wh…\\t\\t\\t\\t\\t\\t\\t\\t\\n\\n\\r\\n\\t\\t\\t\\t\\t\\t\\t\\t\\t\\t\\t\\t\\t\\t\\t\\t\\t\\t\\t\\t임플란트 수술 후 관리법 – 건강한 치아를 유지하는 핵심 가이드\\t\\t\\t\\t\\t\\t\\t\\t\\t\\n\\n\\r\\n\\t\\t\\t\\t\\t\\t\\t\\t\\t\\t\\t\\t\\t\\t\\t\\t\\t\\t목차임플란트 수술 후 중요한 관리 사항임플란트 수술 후 회복 기간 동안 해야 할 일올바른 구강 청결 유지적절한 식습관임플란트 수술 후 피해야 할 행동임플란트 수술 후 발생할 수 있는 증상통증과 부기출혈임플란트 수술 후 치아 건강을 지키는 방법임플란트 관리 관련 자주 묻는 질문임플란트는 …\\t\\t\\t\\t\\t\\t\\t\\t\\n\\n\\r\\n\\t\\t\\t\\t\\t\\t\\t\\t\\t\\t\\t\\t\\t\\t\\t\\t\\t\\t\\t\\t자동차 환급금: 놓치지 말고 꼭 받는 방법\\t\\t\\t\\t\\t\\t\\t\\t\\t\\n\\n\\r\\n\\t\\t\\t\\t\\t\\t\\t\\t\\t\\t\\t\\t\\t\\t\\t\\t\\t\\t목차자동차 환급금이란?자동차 환급금 발생 원인세금 과납보험료 환급자동차 환급금 조회 방법온라인 조회전화 및 방문 신청자동차 환급금 신청 절차필요한 서류신청 절차 단계별 안내자동차 환급금 받는 방법환급금 수령 계좌 등록지급 확인 절차자동차 환급금을 놓치는 이유와 주의사항잘못된 정보기한 내…\\t\\t\\t\\t\\t\\t\\t\\t\\n\\n\\r\\n\\t\\t\\t\\t\\t\\t\\t\\t\\t\\t\\t\\t\\t\\t\\t\\t\\t\\t\\t\\t50대 혈압 정상 수치와 관리 방법 – 건강한 혈압 유지를 위한 가이드\\t\\t\\t\\t\\t\\t\\t\\t\\t\\n\\n\\r\\n\\t\\t\\t\\t\\t\\t\\t\\t\\t\\t\\t\\t\\t\\t\\t\\t\\t\\t목차50대 혈압 정상 수치란?혈압 수치의 중요성고혈압과 저혈압의 위험성50대 이상에서의 혈압 변화나이가 들면서 혈압이 올라가는 이유50대 혈압 관리 방법규칙적인 운동건강한 식단 유지생활 습관 개선을 통한 혈압 관리스트레스 관리금연 및 절주혈압 관련 자주 묻는 질문50대 고혈압 약을 복용…\\t\\t\\t\\t\\t\\t\\t\\t\\n\\n\\r\\n\\t\\t\\t\\t\\t\\t\\t\\t\\t\\t\\t\\t\\t\\t\\t\\t\\t\\t\\t\\t현관 노루발로 깔끔한 현관 완성! 설치 가이드와 추천 제품 소개\\t\\t\\t\\t\\t\\t\\t\\t\\t\\n\\n\\r\\n\\t\\t\\t\\t\\t\\t\\t\\t\\t\\t\\t\\t\\t\\t\\t\\t\\t\\t목차현관 노루발이란? 현관 노루발의 필요성과 장점 문을 안정적으로 고정하는 역할 미끄러짐 방지와 현관 바닥 보호 현관 노루발 설치 방법과 팁 설치 전 준비물과 고려 사항 올바른 위치 선정과 설치 단계 현관 노루발 제품 추천 및 구매 가이드 인기 제품 소개 제품 선택 시 유의할 점 현관 …\\t\\t\\t\\t\\t\\t\\t\\t\\n본 사이트 일부 게시물은 쿠팡 파트너스 등 제휴 마케팅을 통해 수수료를 받을 수 있습니다.\\n게시글 삭제요청\\n\"}, {\"title\": \"디파이(DeFi): 탈중앙화 금융의 의미와 투자 방법\", \"url\": \"https://realestatehub.kr/contents/디파이defi-탈중앙화-금융의-의미와-투자-방법/\", \"content\": \"디파이(DeFi)에 대해 더 많은 정보와 투자 방법은 디파이의 의미와 사용법에서 확인하세요! 디파이(DeFi)는 탈중앙화된 방식으로 금융 서비스를 제공하며, 중앙 기관 없이도 누구나 자유롭게 대출, 예금, 거래 등의 활동을 할 수 있습니다.높은 수익을 기대할 수 있지만, 그만큼 리스크도 크므로 신중한\", \"score\": 0.9923341, \"raw_content\": \"\\n\\n\\t\\t\\t\\t\\t\\t\\t\\t로그인\\n\\t\\t\\t\\t\\t\\t\\t\\n\\n\\n\\t\\t\\t\\t\\t\\t\\t\\tBlog\\t\\t\\t\\t\\t\\t\\t\\t\\t\\t\\t\\t\\t\\t\\t\\n\\n\\t\\t\\t\\t\\t\\t\\t\\tContents\\t\\t\\t\\t\\t\\t\\t\\t\\t\\t\\t\\t\\t\\t\\t\\n\\n\\t\\t\\t\\t\\t\\t\\t\\tDb\\t\\t\\t\\t\\t\\t\\t\\t\\t\\t\\t\\t\\t\\t\\t\\n\\n\\t\\t\\t\\t\\t\\t\\t\\t상품리뷰\\t\\t\\t\\t\\t\\t\\t\\t\\t\\t\\t\\t\\t\\t\\t\\n\\n\\t\\t\\t\\t\\t\\t\\t\\tShop\\t\\t\\t\\t\\t\\t\\t\\t\\t\\t\\t\\t\\t\\t\\t\\n\\r\\n\\t\\t\\t\\t디파이(DeFi): 탈중앙화 금융의 의미와 투자 방법\\t\\t\\t\\n작성자 정보\\n컨텐츠 정보\\n본문\\n목차\\n디파이(DeFi)란?\\n디파이(DeFi)는 \\\"탈중앙화 금융(Decentralized Finance)\\\"의 약자로, 기존의 중앙화된 금융 시스템(은행, 중개인 등)을 거치지 않고 블록체인 기술을 통해 금융 서비스를 제공하는 것을 의미합니다. 디파이는 주로 이더리움 같은 블록체인을 기반으로 하며, 스마트 계약을 통해 거래의 투명성과 자동화를 구현합니다. 이를 통해 대출, 예금, 거래, 투자 등의 금융 활동을 중앙 기관 없이 자유롭게 이용할 수 있습니다.\\n디파이의 주요 특징\\n탈중앙화와 투명성\\n디파이의 가장 큰 특징은 탈중앙화입니다. 중앙 기관이 아닌 블록체인 기술을 통해 모든 금융 거래가 이루어지며, 사용자는 누구나 시스템에 접근해 거래할 수 있습니다. 또한 모든 거래 내역이 블록체인 상에서 투명하게 기록되기 때문에, 외부 감시나 개입 없이 안전하게 거래가 이루어집니다.\\n스마트 계약의 역할\\n디파이의 핵심 기술은 스마트 계약입니다. 스마트 계약은 특정 조건이 충족되면 자동으로 실행되는 계약으로, 중개인 없이 금융 거래를 진행할 수 있도록 도와줍니다. 예를 들어, 사용자가 디파이 플랫폼에서 대출을 받거나 이자를 지급받을 때, 스마트 계약이 미리 정해진 조건에 따라 자동으로 작동해 모든 절차가 간편하게 진행됩니다.\\n\\n디파이 사용법과 투자 방법\\n디파이 플랫폼 선택\\n디파이에 투자하기 위해서는 먼저 플랫폼을 선택해야 합니다. 유니스왑(Uniswap), 컴파운드(Compound), 에이브(Aave) 같은 유명한 디파이 플랫폼이 있으며, 각각의 플랫폼은 예금, 대출, 거래 등의 다양한 금융 서비스를 제공합니다. 투자 목적과 선호하는 기능에 따라 적합한 플랫폼을 선택하는 것이 중요합니다.\\n수익 창출 방법\\n디파이를 통해 다양한 방식으로 수익을 창출할 수 있습니다. 대표적인 방법으로는 예금을 통한 이자 수익, 스테이킹을 통한 보상, 그리고 유동성 공급자로서 거래 수수료를 받는 방식이 있습니다. 디파이 플랫폼에서는 중앙 금융기관을 거치지 않고도 높은 이자를 제공하는 경우가 많아, 자산을 유동적으로 운영하며 수익을 얻을 수 있습니다.\\n\\n디파이의 장점과 리스크\\n금융 접근성 확대\\n디파이는 기존 금융 서비스와 달리 중개 기관이 필요 없기 때문에, 누구나 전 세계 어디서든 금융 서비스를 이용할 수 있습니다. 은행 계좌가 없어도 대출을 받거나 자산을 운용할 수 있으며, 수수료도 상대적으로 저렴합니다. 이러한 금융 접근성은 특히 금융 소외 계층에게 큰 도움이 됩니다.\\n리스크와 규제 문제\\n디파이는 높은 수익을 제공할 수 있지만, 그만큼 리스크도 존재합니다. 특히 해킹 위험과 가격 변동성이 크며, 중앙 기관이 없기 때문에 문제가 발생했을 때 해결할 수 있는 책임 주체가 불분명합니다. 또한, 규제의 부재로 인해 투자자 보호가 어려운 상황이 있을 수 있습니다. 따라서 투자 전 리스크를 충분히 이해하고 신중하게 접근하는 것이 중요합니다.\\n\\n자주 묻는 질문\\n디파이 투자는 안전한가요?\\n디파이 투자는 상대적으로 높은 위험을 동반합니다. 블록체인 기술의 안정성 덕분에 투명성은 보장되지만, 해킹 위험이나 시스템 오류, 스마트 계약의 취약점으로 인해 자산을 잃을 가능성도 있습니다. 따라서 신뢰할 수 있는 플랫폼을 선택하고, 투자 금액을 분산시키는 등의 리스크 관리가 필요합니다.\\n디파이(DeFi)에 대해 더 많은 정보와 투자 방법은 디파이의 의미와 사용법에서 확인하세요!\\n디파이(DeFi)는 탈중앙화된 방식으로 금융 서비스를 제공하며, 중앙 기관 없이도 누구나 자유롭게 대출, 예금, 거래 등의 활동을 할 수 있습니다. 높은 수익을 기대할 수 있지만, 그만큼 리스크도 크므로 신중한 접근이 필요합니다. 디파이의 잠재력을 이해하고 적절한 플랫폼을 선택하면, 새로운 금융 생태계에서 수익을 창출할 수 있는 기회를 누릴 수 있습니다.\\n탈중앙화금융 블록체인 투자리스크 스마트계약\\nTag : 디파이\\n디파이 관련 동영상\\n로그인 후 디파이에 대한 FAQ를 등록해 주세요.\\n\\n관련자료\\n\\n\\r\\n\\t\\t\\t\\t\\t\\t\\t\\t\\t\\t\\t\\t\\t\\t\\t\\t\\t\\t\\t\\t치질증세: 초기 증상과 치료 방법을 통해 알아보는 효과적인 관리법\\t\\t\\t\\t\\t\\t\\t\\t\\t\\n\\n\\r\\n\\t\\t\\t\\t\\t\\t\\t\\t\\t\\t\\t\\t\\t\\t\\t\\t\\t\\t치질증세: 초기 증상과 치료 방법을 통해 알아보는 효과적인 관리법치질은 매우 흔한 질환으로, 불편함을 유발하며 생활에 지장을 줄 수 있습니다. 치질의 증상은 초기에는 경미한 불편감부터 시작하지만, 방치할 경우 증상이 심해져 치료가 어려워질 수 있습니다. 따라서 치질증세를 빠르게 인식하고 적절한 치료를 받는 것이 중요합니다. 이 글에서는 치질의 주요 증상과 그에 대한 치료 방법을 다루어, 증상을 관리하고 예방하는 데 도움이 될 정보를 제공하려 합…\\t\\t\\t\\t\\t\\t\\t\\t\\n\\n\\r\\n\\t\\t\\t\\t\\t\\t\\t\\t\\t\\t\\t\\t\\t\\t\\t\\t\\t\\t\\t\\t라인어디션코트 N768: 따뜻하고 스타일리시한 겨울 패션의 완성\\t\\t\\t\\t\\t\\t\\t\\t\\t\\n\\n\\r\\n\\t\\t\\t\\t\\t\\t\\t\\t\\t\\t\\t\\t\\t\\t\\t\\t\\t\\t라인어디션코트 N768: 따뜻하고 스타일리시한 겨울 패션의 완성겨울철, 몸을 따뜻하게 보호해줄 코트를 찾고 있다면, 라인어디션코트 N768은 꼭 눈여겨봐야 할 아이템입니다. 이 코트는 디자인뿐만 아니라 기능성도 뛰어나, 추운 날씨에도 편안하고 스타일리시한 착용감을 제공합니다. 오늘은 라인어디션코트 N768의 특징과 장점, 스타일링 팁을 소개해드리겠습니다. 겨울철 패션을 완성할 수 있는 코트를 찾고 있다면, 이 글을 끝까지 확인해 보세요! 1. …\\t\\t\\t\\t\\t\\t\\t\\t\\n\\n\\r\\n\\t\\t\\t\\t\\t\\t\\t\\t\\t\\t\\t\\t\\t\\t\\t\\t\\t\\t\\t\\t복합운동기구: 효율적인 홈트레이닝을 위한 필수 가이드!\\t\\t\\t\\t\\t\\t\\t\\t\\t\\n\\n\\r\\n\\t\\t\\t\\t\\t\\t\\t\\t\\t\\t\\t\\t\\t\\t\\t\\t\\t\\t목차복합운동기구란?복합운동기구의 장점공간 절약다양한 운동 가능복합운동기구 선택 시 고려할 점사용 목적과 목표내구성과 안정성복합운동기구로 할 수 있는 운동상체 운동하체 운동코어 운동복합운동기구의 유지 및 관리 방법자주 묻는 질문 (FAQ)복합운동기구와 단일 운동기구 비교복합운동기구란?복합운동기구는 여러 가지 운동을 하나의 장비로 수행할 수 있도록 설계된 다목적 운동 기구입니다. 주로 가정용 홈트레이닝이나 소형 헬스장에 적합하며, 공간 절약과 다양…\\t\\t\\t\\t\\t\\t\\t\\t\\n\\n\\r\\n\\t\\t\\t\\t\\t\\t\\t\\t\\t\\t\\t\\t\\t\\t\\t\\t\\t\\t\\t\\t편리한 연결 핸드폰 거치대의 모든 것: 활용법과 구매 가이드\\t\\t\\t\\t\\t\\t\\t\\t\\t\\n\\n\\r\\n\\t\\t\\t\\t\\t\\t\\t\\t\\t\\t\\t\\t\\t\\t\\t\\t\\t\\t목차연결 핸드폰 거치대란?연결 핸드폰 거치대의 장점다용도 사용 가능안정적인 고정력연결 핸드폰 거치대의 주요 종류차량용 거치대책상용 거치대침대용 거치대연결 핸드폰 거치대 구매 시 고려사항추천 연결 핸드폰 거치대 제품과 사용 팁연결 핸드폰 거치대란?연결 핸드폰 거치대는 다양한 환경에서 핸드폰을 안전하게 고정할 수 있는 도구입니다. 특히, 운전 중 네비게이션 사용이나 영상 시청, 화상 회의 등을 할 때 핸드폰을 자유롭게 사용할 수 있도록 도와줍니다.…\\t\\t\\t\\t\\t\\t\\t\\t\\n\\n\\r\\n\\t\\t\\t\\t\\t\\t\\t\\t\\t\\t\\t\\t\\t\\t\\t\\t\\t\\t\\t\\t컵라면 유리컵, 실용성과 스타일을 동시에 잡는 방법\\t\\t\\t\\t\\t\\t\\t\\t\\t\\n\\n\\r\\n\\t\\t\\t\\t\\t\\t\\t\\t\\t\\t\\t\\t\\t\\t\\t\\t\\t\\t목차컵라면 유리컵이란?컵라면 유리컵의 장점환경 친화적인 선택세련된 디자인과 사용 편의성컵라면 유리컵의 추천 제품실용적인 제품 추천스타일리시한 유리컵 소개컵라면 유리컵 사용 팁안전하게 사용하는 방법세척과 관리 요령컵라면 유리컵과 함께하는 다양한 활용법컵라면 유리컵이란?컵라면 유리컵은 일반적인 플라스틱이나 종이 컵 대신 유리 소재로 제작된 컵입니다. 이 컵은 컵라면을 더욱 안전하고 스타일리시하게 즐길 수 있도록 설계되었습니다. 특히 환경 친화적인 …\\t\\t\\t\\t\\t\\t\\t\\t\\n\\n\\r\\n\\t\\t\\t\\t\\t\\t\\t\\t\\t\\t\\t\\t\\t\\t\\t\\t\\t\\t\\t\\t사회적 기업이란? 투자 방법과 주의사항 알아보기\\t\\t\\t\\t\\t\\t\\t\\t\\t\\n\\n\\r\\n\\t\\t\\t\\t\\t\\t\\t\\t\\t\\t\\t\\t\\t\\t\\t\\t\\t\\t목차사회적 기업이란 무엇인가?사회적 기업의 주요 특징사회적 가치 창출지속 가능성사회적 기업의 유형과 사례고용 창출형지역사회 기여형환경 보호형사회적 기업에 투자하는 이유사회적 책임투자 수익과 사회적 영향사회적 기업 투자 방법직접 투자펀드 및 크라우드 펀딩투자 시 주의할 사항기업의 투명성재무 안정성 확인자주 묻는 질문 (FAQ)결론: 사회적 기업 투자의 가치사회적 기업이란 무엇인가?사회적 기업은 이윤 추구를 넘어 사회적 문제 해결을 목적으로 운영되…\\t\\t\\t\\t\\t\\t\\t\\t\\n\\n\\r\\n\\t\\t\\t\\t\\t\\t\\t\\t\\t\\t\\t\\t\\t\\t\\t\\t\\t\\t\\t\\t마음챙김의 중요성과 일상에서 실천하는 법\\t\\t\\t\\t\\t\\t\\t\\t\\t\\n\\n\\r\\n\\t\\t\\t\\t\\t\\t\\t\\t\\t\\t\\t\\t\\t\\t\\t\\t\\t\\t마음챙김, 스트레스 해소와 자기 성장의 열쇠현대 사회에서 우리는 끊임없이 바쁘게 살아가며, 여러 가지 일들을 동시에 처리해야 하는 상황에 놓입니다. 이럴 때면 마음이 산만해지고, 스트레스가 쌓이기 마련인데요. 이런 상황에서 도움이 되는 것이 바로 마음챙김입니다. 마음챙김은 현재 순간에 집중하는 연습으로, 정신적인 휴식을 주고, 스트레스를 해소하는 데 도움을 줍니다. 그럼, 마음챙김이 무엇인지, 그리고 어떻게 실천할 수 있는지에 대해 알아보겠습니…\\t\\t\\t\\t\\t\\t\\t\\t\\n\\n\\r\\n\\t\\t\\t\\t\\t\\t\\t\\t\\t\\t\\t\\t\\t\\t\\t\\t\\t\\t\\t\\t파절이기계: 손쉽고 빠르게 채소를 준비하는 필수 아이템\\t\\t\\t\\t\\t\\t\\t\\t\\t\\n\\n\\r\\n\\t\\t\\t\\t\\t\\t\\t\\t\\t\\t\\t\\t\\t\\t\\t\\t\\t\\t목차파절이기계란? 파절이기계의 주요 기능과 특징 파절이기계의 장점과 사용 방법 3.1. 빠른 채소 절단 3.2. 간편한 세척과 유지보수 다양한 파절이기계 모델 비교 파절이기계 구매 시 고려할 점 파절이기계를 활용한 추천 요리 결론: 파절이기계의 효율적인 활용법1. 파절이기계란?파절이기계는 대파, 쪽파, 양파 등의 채소를 신속하고 균일하게 절단해주는 주방 기기입니다. 특히 대량으로 채소를 준비해야 하는 식당이나 가정에서 편리하게 사용할 수 있습니…\\t\\t\\t\\t\\t\\t\\t\\t\\n\\n\\r\\n\\t\\t\\t\\t\\t\\t\\t\\t\\t\\t\\t\\t\\t\\t\\t\\t\\t\\t\\t\\t건강에 좋은 발효식품 4가지: 면역력과 소화 건강을 위한 최고의 선택\\t\\t\\t\\t\\t\\t\\t\\t\\t\\n\\n\\r\\n\\t\\t\\t\\t\\t\\t\\t\\t\\t\\t\\t\\t\\t\\t\\t\\t\\t\\t목차발효식품이란?발효식품이 건강에 미치는 효과건강에 좋은 발효식품 4가지(1) 김치(2) 요구르트(3) 된장(4) 케피어발효식품을 일상에서 쉽게 섭취하는 방법결론: 건강을 위한 발효식품의 중요성발효식품이란?발효식품은 미생물(박테리아, 효모, 곰팡이 등)의 작용을 통해 만들어진 식품을 의미합니다. 이러한 과정에서 식품의 맛, 향, 질감뿐만 아니라 영양소가 변화하여, 소화가 용이하고 건강에 좋은 성분들이 풍부해집니다. 특히, 발효된 식품은 장 건강…\\t\\t\\t\\t\\t\\t\\t\\t\\n\\n\\r\\n\\t\\t\\t\\t\\t\\t\\t\\t\\t\\t\\t\\t\\t\\t\\t\\t\\t\\t\\t\\t유방조영술, 정확한 검사 방법과 중요성 알아보기\\t\\t\\t\\t\\t\\t\\t\\t\\t\\n\\n\\r\\n\\t\\t\\t\\t\\t\\t\\t\\t\\t\\t\\t\\t\\t\\t\\t\\t\\t\\t목차유방조영술이란?유방조영술의 필요성과 중요성조기 발견의 중요성검사 권장 대상유방조영술의 검사 과정검사 준비와 절차검사 시 주의 사항유방조영술의 장단점과 부작용유방조영술 결과 해석과 후속 조치유방조영술이란?유방조영술(Mammography)은 유방암을 조기에 발견하기 위해 사용되는 방사선 검사의 한 종류입니다. 이 검사는 저선량 X선을 이용해 유방 내부를 촬영하여, 혹이나 종양, 미세 석회화 등의 이상 징후를 찾아냅니다. 특히 유방암의 초기 증상…\\t\\t\\t\\t\\t\\t\\t\\t\\n\\n\\r\\n\\t\\t\\t\\t\\t\\t\\t\\t\\t\\t\\t\\t\\t\\t\\t\\t\\t\\t\\t\\t마카오 3박 4일 여행, 놓치지 말아야 할 완벽한 일정과 추천 명소\\t\\t\\t\\t\\t\\t\\t\\t\\t\\n\\n\\r\\n\\t\\t\\t\\t\\t\\t\\t\\t\\t\\t\\t\\t\\t\\t\\t\\t\\t\\t마카오 3박 4일 여행, 놓치지 말아야 할 완벽한 일정과 추천 명소마카오는 유럽의 매력과 아시아의 정취가 조화를 이루는 특별한 여행지로, 한 번쯤 가보고 싶은 여행지로 손꼽힙니다. 특히 마카오 3박 4일 일정이라면, 시간을 효율적으로 활용하면서도 이곳의 핫한 명소를 제대로 즐길 수 있습니다. 오늘은 마카오에서의 여행을 완벽하게 계획할 수 있는 일정과 추천 명소들을 소개해 드리겠습니다. 목차마카오 3박 4일, 첫째 날 – 도착과 간단한 시티투어 …\\t\\t\\t\\t\\t\\t\\t\\t\\n\\n\\r\\n\\t\\t\\t\\t\\t\\t\\t\\t\\t\\t\\t\\t\\t\\t\\t\\t\\t\\t\\t\\t에르고 케틀벨: 효과적인 전신 운동을 위한 최상의 선택\\t\\t\\t\\t\\t\\t\\t\\t\\t\\n\\n\\r\\n\\t\\t\\t\\t\\t\\t\\t\\t\\t\\t\\t\\t\\t\\t\\t\\t\\t\\t목차에르고 케틀벨이란?에르고 케틀벨의 특징과 장점인체공학적 설계다양한 무게 옵션에르고 케틀벨로 할 수 있는 운동 종류스윙스쿼트클린 앤 프레스에르고 케틀벨의 효과근력 강화유산소 운동코어 안정성 강화에르고 케틀벨 선택 시 고려 사항무게 선택손잡이 디자인자주 묻는 질문 (FAQ)결론: 에르고 케틀벨로 전신 운동의 효과 극대화에르고 케틀벨이란?에르고 케틀벨은 일반적인 케틀벨과 달리 인체공학적(Ergonomic) 설계를 적용해 사용자의 편의와 운동 효율…\\t\\t\\t\\t\\t\\t\\t\\t\\n\\n\\r\\n\\t\\t\\t\\t\\t\\t\\t\\t\\t\\t\\t\\t\\t\\t\\t\\t\\t\\t\\t\\t유방조영술: 정확한 유방 건강 검진을 위한 필수 가이드\\t\\t\\t\\t\\t\\t\\t\\t\\t\\n\\n\\r\\n\\t\\t\\t\\t\\t\\t\\t\\t\\t\\t\\t\\t\\t\\t\\t\\t\\t\\t목차유방조영술이란?유방조영술의 필요성유방조영술 검사 과정검사 준비 단계검사 후 주의사항유방조영술의 정확성과 신뢰도유방조영술과 자가진단의 차이점유방조영술을 받아야 할 대상유방조영술 검사 전후의 주의사항결론: 유방조영술의 중요성 요약1. 유방조영술이란?유방조영술은 유방암을 조기 발견하기 위해 유방 조직을 촬영하는 방사선 검진입니다. 이 검사는 유방 내 종양, 낭종 또는 기타 비정상적인 조직을 감지하는 데 매우 유용하며, 특히 초기 단계의 유방암을 …\\t\\t\\t\\t\\t\\t\\t\\t\\n\\n\\r\\n\\t\\t\\t\\t\\t\\t\\t\\t\\t\\t\\t\\t\\t\\t\\t\\t\\t\\t\\t\\t마틸라 침구: 편안한 잠자리를 위한 최고의 선택\\t\\t\\t\\t\\t\\t\\t\\t\\t\\n\\n\\r\\n\\t\\t\\t\\t\\t\\t\\t\\t\\t\\t\\t\\t\\t\\t\\t\\t\\t\\t목차마틸라 침구란 무엇인가?마틸라 침구의 주요 특징고급 소재와 부드러운 촉감다양한 디자인과 스타일마틸라 침구의 장점마틸라 침구가 제공하는 편안한 수면 환경마틸라 침구 선택 시 고려해야 할 사항마틸라 침구 관리 방법마틸라 침구의 트렌드와 미래 전망마틸라 침구란 무엇인가?마틸라(Matyla) 침구는 고급 소재와 세련된 디자인을 바탕으로 편안한 수면 환경을 제공하는 프리미엄 침구 브랜드입니다. 마틸라는 부드러운 촉감과 편안한 잠자리를 위한 최적의 침…\\t\\t\\t\\t\\t\\t\\t\\t\\n\\n\\r\\n\\t\\t\\t\\t\\t\\t\\t\\t\\t\\t\\t\\t\\t\\t\\t\\t\\t\\t\\t\\t안전하고 효율적인 P2P 투자: 완벽 가이드와 재테크 팁\\t\\t\\t\\t\\t\\t\\t\\t\\t\\n\\n\\r\\n\\t\\t\\t\\t\\t\\t\\t\\t\\t\\t\\t\\t\\t\\t\\t\\t\\t\\tP2P 투자, 안전하고 수익성 있는 투자 방법은?목차P2P 투자가 무엇인가요?P2P 투자의 장점과 단점1) P2P 투자의 장점2) P2P 투자의 위험성과 주의사항P2P 투자를 시작하는 방법1) P2P 투자 플랫폼 선택하기2) 투자 상품의 종류와 특성안전하고 효율적인 P2P 투자 팁1) 분산 투자로 위험 최소화하기2) 플랫폼의 안정성과 신뢰도 확인P2P 투자에 대한 자주 묻는 질문결론: 현명한 P2P 투자로 재테크 성공하기1. P2P 투자가 무엇…\\t\\t\\t\\t\\t\\t\\t\\t\\n\\n\\r\\n\\t\\t\\t\\t\\t\\t\\t\\t\\t\\t\\t\\t\\t\\t\\t\\t\\t\\t\\t\\t사제 전방 감지기: 안전한 운전을 위한 필수 아이템\\t\\t\\t\\t\\t\\t\\t\\t\\t\\n\\n\\r\\n\\t\\t\\t\\t\\t\\t\\t\\t\\t\\t\\t\\t\\t\\t\\t\\t\\t\\t목차사제 전방 감지기란 무엇인가?사제 전방 감지기의 필요성사고 예방과 안전 운전신차 대비 비용 절감 효과사제 전방 감지기의 주요 기능장애물 감지 및 경고 시스템자동 제동 기능사제 전방 감지기 설치 방법 및 주의사항적절한 설치 위치설치 후 주행 테스트사제 전방 감지기에 대한 자주 묻는 질문 (Q&A)사제 전방 감지기란 무엇인가?사제 전방 감지기는 차량의 전방 장애물을 감지해 운전자에게 경고를 제공하는 보조 장치입니다. 차량에 기본으로 장착…\\t\\t\\t\\t\\t\\t\\t\\t\\n본 사이트 일부 게시물은 쿠팡 파트너스 등 제휴 마케팅을 통해 수수료를 받을 수 있습니다.\\n게시글 삭제요청\\n\"}]\n",
      "==================================\u001b[1m Ai Message \u001b[0m==================================\n",
      "\n",
      "블록체인 기술에 대한 유용한 자료를 아래에 추천드립니다:\n",
      "\n",
      "1. **탈중앙화 금융 | 디파이 (DeFi) 뜻과 사용하는 법, 투자 가이드**\n",
      "   - [링크](https://moneyrich.kr/blog/탈중앙화-금융-디파이defi-뜻과-사용하는-법-투자/)\n",
      "   - 이 글에서는 디파이의 개념과 투자 방법, 주의사항 등을 설명하고 있습니다. 블록체인 기술을 활용한 금융 서비스의 특징과 장점에 대해 배울 수 있습니다.\n",
      "\n",
      "2. **디파이(DeFi)란? 탈중앙화 금융의 개념과 투자 방법**\n",
      "   - [링크](https://nomadcareer.kr/blog/디파이defi란-탈중앙화-금융의-개념과-투자-방법/)\n",
      "   - 디파이의 기본 개념과 다양한 투자 방법에 대해 설명하며, 블록체인 기술이 어떻게 금융 시스템을 혁신하는지에 대한 통찰을 제공합니다.\n",
      "\n",
      "3. **디파이(DeFi): 탈중앙화 금융의 의미와 투자 방법**\n",
      "   - [링크](https://realestatehub.kr/contents/디파이defi-탈중앙화-금융의-의미와-투자-방법/)\n",
      "   - 이 자료는 디파이의 정의와 특징, 그리고 투자 방법에 대해 자세히 설명하고 있습니다. 블록체인 기술을 통한 금융 서비스의 접근성과 리스크에 대해서도 다룹니다.\n",
      "\n",
      "이 자료들을 통해 블록체인 기술과 디파이에 대한 이해를 높일 수 있을 것입니다.\n"
     ]
    }
   ],
   "source": [
    "# 그래프 스트림에서 이벤트 수신\n",
    "events = graph.stream(None, config, stream_mode=\"values\")\n",
    "\n",
    "# 각 이벤트에 대한 처리\n",
    "for event in events:\n",
    "    # 메시지가 있는 경우 마지막 메시지 출력\n",
    "    if \"messages\" in event:\n",
    "        event[\"messages\"][-1].pretty_print()"
   ]
  },
  {
   "cell_type": "code",
   "execution_count": 129,
   "metadata": {},
   "outputs": [
    {
     "name": "stdout",
     "output_type": "stream",
     "text": [
      "================================\u001b[1m Human Message \u001b[0m=================================\n",
      "\n",
      "내가 지금까지 배운 내용에 대해서 매우 친절하고 정성스럽게 한국어로 답변해줘! 출처를 반드시 포함해줘!\n",
      "==================================\u001b[1m Ai Message \u001b[0m==================================\n",
      "\n",
      "블록체인 기술에 대해 배운 내용을 정리해 드리겠습니다.\n",
      "\n",
      "1. **블록체인 기술의 기본 개념**:\n",
      "   - 블록체인은 데이터를 안전하게 저장하고 관리하는 분산 원장 기술입니다. 이 기술은 중앙 기관 없이도 거래를 기록하고 검증할 수 있게 해줍니다. 모든 거래는 블록에 기록되고, 이 블록들은 체인 형태로 연결되어 있어 데이터의 무결성을 보장합니다.\n",
      "\n",
      "2. **탈중앙화 금융(DeFi)**:\n",
      "   - 디파이는 \"탈중앙화 금융(Decentralized Finance)\"의 약자로, 기존의 중앙화된 금융 시스템을 벗어나 블록체인 기술을 통해 금융 서비스를 제공하는 것을 의미합니다. 디파이는 주로 이더리움 블록체인 위에서 작동하며, 스마트 계약을 통해 자동화된 금융 거래가 이루어집니다. 이를 통해 대출, 투자, 송금 등의 금융 활동을 중앙 기관 없이도 가능하게 합니다.\n",
      "\n",
      "3. **디파이의 주요 특징**:\n",
      "   - **탈중앙화**: 중앙 기관 없이 개인 간의 직접 거래가 이루어집니다.\n",
      "   - **투명성**: 모든 거래는 블록체인에 기록되어 누구나 조회할 수 있습니다.\n",
      "   - **스마트 계약**: 미리 설정된 조건에 따라 자동으로 계약이 실행되는 프로그램으로, 중개자 없이도 거래가 이루어집니다.\n",
      "\n",
      "4. **디파이 투자 방법**:\n",
      "   - 디파이에 투자하는 방법은 크게 대출, 스테이킹, 유동성 공급 등의 서비스에 자산을 예치하거나, 디파이 토큰에 투자하는 방식으로 나눌 수 있습니다. 예를 들어, 디파이 플랫폼에 자산을 예치하고 이자를 받거나, 스테이킹을 통해 보상을 받을 수 있습니다.\n",
      "\n",
      "5. **리스크 관리**:\n",
      "   - 디파이는 높은 수익을 제공할 수 있지만, 그만큼 리스크도 큽니다. 자산이 스마트 계약을 통해 운영되기 때문에 보안 취약성이나 해킹의 위험이 있으며, 암호화폐 가격 변동성이 커서 손실 위험도 존재합니다. 따라서 신뢰할 수 있는 플랫폼을 선택하고, 투자 금액을 분산시키는 등의 리스크 관리가 필요합니다.\n",
      "\n",
      "이 내용은 다음의 출처에서 확인할 수 있습니다:\n",
      "- [탈중앙화 금융 | 디파이 (DeFi) 뜻과 사용하는 법, 투자 가이드](https://moneyrich.kr/blog/탈중앙화-금융-디파이defi-뜻과-사용하는-법-투자/)\n",
      "- [디파이(DeFi)란? 탈중앙화 금융의 개념과 투자 방법](https://nomadcareer.kr/blog/디파이defi란-탈중앙화-금융의-개념과-투자-방법/)\n",
      "- [디파이(DeFi): 탈중앙화 금융의 의미와 투자 방법](https://realestatehub.kr/contents/디파이defi-탈중앙화-금융의-의미와-투자-방법/)\n",
      "\n",
      "이 자료들을 통해 블록체인 기술과 디파이에 대한 이해를 높일 수 있을 것입니다. 추가적인 질문이 있다면 언제든지 물어보세요!\n"
     ]
    }
   ],
   "source": [
    "# 이벤트 스트림 생성\n",
    "events = graph.stream(\n",
    "    {\n",
    "        \"messages\": (\n",
    "            \"user\",\n",
    "            \"내가 지금까지 배운 내용에 대해서 매우 친절하고 정성스럽게 한국어로 답변해줘! 출처를 반드시 포함해줘!\",\n",
    "        )\n",
    "    },\n",
    "    config,\n",
    "    stream_mode=\"values\",\n",
    ")\n",
    "\n",
    "# 메시지 이벤트 처리\n",
    "for event in events:\n",
    "    if \"messages\" in event:\n",
    "        # 마지막 메시지 출력\n",
    "        event[\"messages\"][-1].pretty_print()"
   ]
  },
  {
   "cell_type": "code",
   "execution_count": 130,
   "metadata": {},
   "outputs": [
    {
     "name": "stdout",
     "output_type": "stream",
     "text": [
      "==================================\u001b[1m Ai Message \u001b[0m==================================\n",
      "\n",
      "블록체인 기술에 대해 배운 내용을 정리해 드리겠습니다.\n",
      "\n",
      "1. **블록체인 기술의 기본 개념**:\n",
      "   - 블록체인은 데이터를 안전하게 저장하고 관리하는 분산 원장 기술입니다. 이 기술은 중앙 기관 없이도 거래를 기록하고 검증할 수 있게 해줍니다. 모든 거래는 블록에 기록되고, 이 블록들은 체인 형태로 연결되어 있어 데이터의 무결성을 보장합니다.\n",
      "\n",
      "2. **탈중앙화 금융(DeFi)**:\n",
      "   - 디파이는 \"탈중앙화 금융(Decentralized Finance)\"의 약자로, 기존의 중앙화된 금융 시스템을 벗어나 블록체인 기술을 통해 금융 서비스를 제공하는 것을 의미합니다. 디파이는 주로 이더리움 블록체인 위에서 작동하며, 스마트 계약을 통해 자동화된 금융 거래가 이루어집니다. 이를 통해 대출, 투자, 송금 등의 금융 활동을 중앙 기관 없이도 가능하게 합니다.\n",
      "\n",
      "3. **디파이의 주요 특징**:\n",
      "   - **탈중앙화**: 중앙 기관 없이 개인 간의 직접 거래가 이루어집니다.\n",
      "   - **투명성**: 모든 거래는 블록체인에 기록되어 누구나 조회할 수 있습니다.\n",
      "   - **스마트 계약**: 미리 설정된 조건에 따라 자동으로 계약이 실행되는 프로그램으로, 중개자 없이도 거래가 이루어집니다.\n",
      "\n",
      "4. **디파이 투자 방법**:\n",
      "   - 디파이에 투자하는 방법은 크게 대출, 스테이킹, 유동성 공급 등의 서비스에 자산을 예치하거나, 디파이 토큰에 투자하는 방식으로 나눌 수 있습니다. 예를 들어, 디파이 플랫폼에 자산을 예치하고 이자를 받거나, 스테이킹을 통해 보상을 받을 수 있습니다.\n",
      "\n",
      "5. **리스크 관리**:\n",
      "   - 디파이는 높은 수익을 제공할 수 있지만, 그만큼 리스크도 큽니다. 자산이 스마트 계약을 통해 운영되기 때문에 보안 취약성이나 해킹의 위험이 있으며, 암호화폐 가격 변동성이 커서 손실 위험도 존재합니다. 따라서 신뢰할 수 있는 플랫폼을 선택하고, 투자 금액을 분산시키는 등의 리스크 관리가 필요합니다.\n",
      "\n",
      "이 내용은 다음의 출처에서 확인할 수 있습니다:\n",
      "- [탈중앙화 금융 | 디파이 (DeFi) 뜻과 사용하는 법, 투자 가이드](https://moneyrich.kr/blog/탈중앙화-금융-디파이defi-뜻과-사용하는-법-투자/)\n",
      "- [디파이(DeFi)란? 탈중앙화 금융의 개념과 투자 방법](https://nomadcareer.kr/blog/디파이defi란-탈중앙화-금융의-개념과-투자-방법/)\n",
      "- [디파이(DeFi): 탈중앙화 금융의 의미와 투자 방법](https://realestatehub.kr/contents/디파이defi-탈중앙화-금융의-의미와-투자-방법/)\n",
      "\n",
      "이 자료들을 통해 블록체인 기술과 디파이에 대한 이해를 높일 수 있을 것입니다. 추가적인 질문이 있다면 언제든지 물어보세요!\n"
     ]
    }
   ],
   "source": [
    "# 마지막 최종 메시지 확인\n",
    "graph.get_state(config).values[\"messages\"][-1].pretty_print()"
   ]
  },
  {
   "cell_type": "markdown",
   "metadata": {},
   "source": [
    "#### 지난 스냅샷의 결과 수정 및 Replay\n",
    "\n",
    "지난 스냅샷의 결과를 수정하여 Replay 하는 방법입니다.  \n",
    "  \n",
    "지난 스냅샷을 확인 후 특정 노드로 되돌아가 상태를 수정한 후 해당 노드부터 다시 진행합니다.  \n",
    "  \n",
    "이를 Replay 이라고 합니다.  \n",
    "\n",
    "##### 1. 지난 스냅샷을 가져옵니다."
   ]
  },
  {
   "cell_type": "code",
   "execution_count": 131,
   "metadata": {},
   "outputs": [
    {
     "name": "stdout",
     "output_type": "stream",
     "text": [
      "run-e2674a85-594a-463e-9b84-fab6d9c4e8e8-0\n",
      "메시지 수:  6 다음 노드:  ()\n",
      "--------------------------------------------------------------------------------\n",
      "78eaba40-9270-4316-8bcb-7cf782ec9695\n",
      "메시지 수:  5 다음 노드:  ('chatbot',)\n",
      "--------------------------------------------------------------------------------\n",
      "run-20a8c483-f371-4068-b348-8df13eddb0aa-0\n",
      "메시지 수:  4 다음 노드:  ('__start__',)\n",
      "--------------------------------------------------------------------------------\n",
      "run-20a8c483-f371-4068-b348-8df13eddb0aa-0\n",
      "메시지 수:  4 다음 노드:  ()\n",
      "--------------------------------------------------------------------------------\n",
      "b51dab41-3a75-4fcf-91d1-b2980b9a3221\n",
      "메시지 수:  3 다음 노드:  ('chatbot',)\n",
      "--------------------------------------------------------------------------------\n",
      "run-180949cd-9e94-4b61-83de-d2cbc19625c6-0\n",
      "메시지 수:  2 다음 노드:  ('tools',)\n",
      "--------------------------------------------------------------------------------\n",
      "run-180949cd-9e94-4b61-83de-d2cbc19625c6-0\n",
      "메시지 수:  2 다음 노드:  ('tools',)\n",
      "--------------------------------------------------------------------------------\n",
      "fd58b8b1-cc94-4380-88e9-f60a1a8d37d4\n",
      "메시지 수:  1 다음 노드:  ('chatbot',)\n",
      "--------------------------------------------------------------------------------\n"
     ]
    }
   ],
   "source": [
    "to_replay_state = None\n",
    "\n",
    "# 상태 기록 가져오기\n",
    "for state in graph.get_state_history(config):\n",
    "\n",
    "    messages = state.values[\"messages\"]\n",
    "\n",
    "    if len(messages) > 0:\n",
    "        print(state.values[\"messages\"][-1].id)\n",
    "        # 메시지 수 및 다음 상태 출력\n",
    "        print(\"메시지 수: \", len(state.values[\"messages\"]), \"다음 노드: \", state.next)\n",
    "        print(\"-\" * 80)\n",
    "        # 특정 상태 선택 기준: 채팅 메시지 수\n",
    "        if len(state.values[\"messages\"]) == 2:\n",
    "            # 특정 메시지 ID 선택\n",
    "            to_replay_state = state"
   ]
  },
  {
   "cell_type": "markdown",
   "metadata": {},
   "source": [
    "##### 2. 선택한 메시지의 내용을 확인합니다."
   ]
  },
  {
   "cell_type": "code",
   "execution_count": 132,
   "metadata": {},
   "outputs": [
    {
     "name": "stdout",
     "output_type": "stream",
     "text": [
      "    \u001b[93mcontent\u001b[0m: \"\"\n",
      "    \u001b[93madditional_kwargs\u001b[0m:\n",
      "        \u001b[94mtool_calls\u001b[0m:\n",
      "            \u001b[94mindex [0]\u001b[0m\n",
      "                \u001b[92mid\u001b[0m: \"call_V4WgLFZ9YTrZHrCM1GYXYToX\"\n",
      "                \u001b[92mfunction\u001b[0m:\n",
      "                    \u001b[96marguments\u001b[0m: \"{\"query\":\"블록체인 기술 자료 추천\"}\"\n",
      "                    \u001b[96mname\u001b[0m: \"tavily_web_search\"\n",
      "                \u001b[92mtype\u001b[0m: \"function\"\n",
      "        \u001b[94mrefusal\u001b[0m: None\n",
      "    \u001b[93mresponse_metadata\u001b[0m:\n",
      "        \u001b[94mtoken_usage\u001b[0m:\n",
      "            \u001b[95mcompletion_tokens\u001b[0m: 23\n",
      "            \u001b[95mprompt_tokens\u001b[0m: 113\n",
      "            \u001b[95mtotal_tokens\u001b[0m: 136\n",
      "            \u001b[95mcompletion_tokens_details\u001b[0m:\n",
      "                \u001b[92maccepted_prediction_tokens\u001b[0m: 0\n",
      "                \u001b[92maudio_tokens\u001b[0m: 0\n",
      "                \u001b[92mreasoning_tokens\u001b[0m: 0\n",
      "                \u001b[92mrejected_prediction_tokens\u001b[0m: 0\n",
      "            \u001b[95mprompt_tokens_details\u001b[0m:\n",
      "                \u001b[92maudio_tokens\u001b[0m: 0\n",
      "                \u001b[92mcached_tokens\u001b[0m: 0\n",
      "        \u001b[94mmodel_name\u001b[0m: \"gpt-4o-mini-2024-07-18\"\n",
      "        \u001b[94msystem_fingerprint\u001b[0m: \"fp_6fc10e10eb\"\n",
      "        \u001b[94mfinish_reason\u001b[0m: \"tool_calls\"\n",
      "        \u001b[94mlogprobs\u001b[0m: None\n",
      "    \u001b[93mtype\u001b[0m: \"ai\"\n",
      "    \u001b[93mname\u001b[0m: None\n",
      "    \u001b[93mid\u001b[0m: \"run-180949cd-9e94-4b61-83de-d2cbc19625c6-0\"\n",
      "    \u001b[93mexample\u001b[0m: False\n",
      "    \u001b[93mtool_calls\u001b[0m:\n",
      "        \u001b[93mindex [0]\u001b[0m\n",
      "            \u001b[95mname\u001b[0m: \"tavily_web_search\"\n",
      "            \u001b[95margs\u001b[0m:\n",
      "                \u001b[92mquery\u001b[0m: \"블록체인 기술 자료 추천\"\n",
      "            \u001b[95mid\u001b[0m: \"call_V4WgLFZ9YTrZHrCM1GYXYToX\"\n",
      "            \u001b[95mtype\u001b[0m: \"tool_call\"\n",
      "    \u001b[93minvalid_tool_calls\u001b[0m:\n",
      "    \u001b[93musage_metadata\u001b[0m:\n",
      "        \u001b[94minput_tokens\u001b[0m: 113\n",
      "        \u001b[94moutput_tokens\u001b[0m: 23\n",
      "        \u001b[94mtotal_tokens\u001b[0m: 136\n",
      "        \u001b[94minput_token_details\u001b[0m:\n",
      "            \u001b[95maudio\u001b[0m: 0\n",
      "            \u001b[95mcache_read\u001b[0m: 0\n",
      "        \u001b[94moutput_token_details\u001b[0m:\n",
      "            \u001b[95maudio\u001b[0m: 0\n",
      "            \u001b[95mreasoning\u001b[0m: 0\n"
     ]
    }
   ],
   "source": [
    "from langchain_print import display_message_tree\n",
    "\n",
    "# 선택한 메시지 가져오기\n",
    "existing_message = to_replay_state.values[\"messages\"][-1]\n",
    "\n",
    "# 메시지 트리 출력\n",
    "display_message_tree(existing_message)"
   ]
  },
  {
   "cell_type": "markdown",
   "metadata": {},
   "source": [
    "##### 3. 검색 쿼리 업데이트 한 tool_call 을 생성합니다."
   ]
  },
  {
   "cell_type": "code",
   "execution_count": 133,
   "metadata": {},
   "outputs": [
    {
     "name": "stdout",
     "output_type": "stream",
     "text": [
      "{'name': 'tavily_web_search', 'args': {'query': '디파이 투자 관련 자료 추천'}, 'id': 'call_V4WgLFZ9YTrZHrCM1GYXYToX', 'type': 'tool_call'}\n"
     ]
    }
   ],
   "source": [
    "tool_call = existing_message.tool_calls[0].copy()\n",
    "\n",
    "tool_call[\"args\"][\"query\"] = \"디파이 투자 관련 자료 추천\"\n",
    "\n",
    "# 업데이트된 도구 호출 출력\n",
    "print(tool_call)"
   ]
  },
  {
   "cell_type": "markdown",
   "metadata": {},
   "source": [
    "##### 4. 업데이트된 도구 호출을 사용하여 새로운 AIMessage를 생성합니다."
   ]
  },
  {
   "cell_type": "code",
   "execution_count": 134,
   "metadata": {},
   "outputs": [
    {
     "name": "stdout",
     "output_type": "stream",
     "text": [
      "==================================\u001b[1m Ai Message \u001b[0m==================================\n",
      "Tool Calls:\n",
      "  tavily_web_search (call_V4WgLFZ9YTrZHrCM1GYXYToX)\n",
      " Call ID: call_V4WgLFZ9YTrZHrCM1GYXYToX\n",
      "  Args:\n",
      "    query: 디파이 투자 관련 자료 추천\n"
     ]
    },
    {
     "data": {
      "text/plain": [
       "{'query': '디파이 투자 관련 자료 추천'}"
      ]
     },
     "execution_count": 134,
     "metadata": {},
     "output_type": "execute_result"
    }
   ],
   "source": [
    "# 새로운 AIMessage 생성\n",
    "new_message = AIMessage(\n",
    "    content=existing_message.content,\n",
    "    tool_calls=[tool_call],\n",
    "    id=existing_message.id,\n",
    ")\n",
    "\n",
    "# 업데이트된 메시지 출력\n",
    "new_message.pretty_print()\n",
    "\n",
    "new_message.tool_calls[0][\"args\"]"
   ]
  },
  {
   "cell_type": "markdown",
   "metadata": {},
   "source": [
    "아래는 업데이트가 되기 전의 메시지 입니다."
   ]
  },
  {
   "cell_type": "code",
   "execution_count": 135,
   "metadata": {},
   "outputs": [
    {
     "data": {
      "text/plain": [
       "[{'name': 'tavily_web_search',\n",
       "  'args': {'query': '블록체인 기술 자료 추천'},\n",
       "  'id': 'call_V4WgLFZ9YTrZHrCM1GYXYToX',\n",
       "  'type': 'tool_call'}]"
      ]
     },
     "execution_count": 135,
     "metadata": {},
     "output_type": "execute_result"
    }
   ],
   "source": [
    "# 업데이터 전 메시지 확인\n",
    "graph.get_state(to_replay_state.config).values[\"messages\"][-1].tool_calls"
   ]
  },
  {
   "cell_type": "markdown",
   "metadata": {},
   "source": [
    "##### 5. 업데이트된 메시지를 그래프에 적용합니다.\n"
   ]
  },
  {
   "cell_type": "code",
   "execution_count": 136,
   "metadata": {},
   "outputs": [
    {
     "name": "stdout",
     "output_type": "stream",
     "text": [
      "{'configurable': {'thread_id': 'a772aa', 'checkpoint_ns': '', 'checkpoint_id': '1efb8fbb-3408-6f0e-8002-dd88618841a4'}}\n",
      "content='' additional_kwargs={} response_metadata={} id='run-180949cd-9e94-4b61-83de-d2cbc19625c6-0' tool_calls=[{'name': 'tavily_web_search', 'args': {'query': '디파이 투자 관련 자료 추천'}, 'id': 'call_V4WgLFZ9YTrZHrCM1GYXYToX', 'type': 'tool_call'}]\n"
     ]
    }
   ],
   "source": [
    "updated_state = graph.update_state(to_replay_state.config, {\"messages\": [new_message]})\n",
    "\n",
    "# 업데이트된 메시지 확인\n",
    "print(updated_state)\n",
    "print(graph.get_state(config).values[\"messages\"][-1])"
   ]
  },
  {
   "cell_type": "markdown",
   "metadata": {},
   "source": [
    "##### 6. 업데이트 된 상태를 스트리밍 합니다."
   ]
  },
  {
   "cell_type": "code",
   "execution_count": 137,
   "metadata": {},
   "outputs": [
    {
     "name": "stdout",
     "output_type": "stream",
     "text": [
      "==================================\u001b[1m Ai Message \u001b[0m==================================\n",
      "Tool Calls:\n",
      "  tavily_web_search (call_V4WgLFZ9YTrZHrCM1GYXYToX)\n",
      " Call ID: call_V4WgLFZ9YTrZHrCM1GYXYToX\n",
      "  Args:\n",
      "    query: 디파이 투자 관련 자료 추천\n",
      "=================================\u001b[1m Tool Message \u001b[0m=================================\n",
      "Name: tavily_web_search\n",
      "\n",
      "[{\"title\": \"디파이(DeFi)란? 탈중앙화 금융의 개념과 투자 방법\", \"url\": \"https://nomadcareer.kr/blog/디파이defi란-탈중앙화-금융의-개념과-투자-방법/\", \"content\": \"디파이 투자 방법과 주의사항. 디파이에 투자하는 방법은 크게 대출, 스테이킹, 유동성 공급 등의 서비스에 자산을 예치하거나, 디파이 토큰에 투자하는 방식으로 나눌 수 있습니다. 1. 투자 방법. 디파이 대출 플랫폼에 자산을 예치하고 이자를 받는 방식.\", \"score\": 0.9940659, \"raw_content\": null}, {\"title\": \"디파이(DeFi)란 무엇인가? 의미와 활용 방법, 투자 전략 알아보기\", \"url\": \"https://dreamyo.kr/contents/디파이defi란-무엇인가-의미와-활용-방법-투자-전략-알아보기/\", \"content\": \"관련 키워드. 탈중앙화 금융 스마트컨트랙트 암호화폐 예치 스테이킹 . 디파이(DeFi)는 기존 금융 시스템과는 달리 탈중앙화된 금융 서비스를 제공하며 개인에게 더 많은 투자 기회와 수익 창출의 가능성을 제공합니다. 다양한 디파이 플랫폼과 서비스를 통해\", \"score\": 0.98975134, \"raw_content\": null}, {\"title\": \"디파이(Defi) 총정리 (뜻, 대출, 유동성공급, 스테이킹 서비스) : 네이버 블로그\", \"url\": \"https://m.blog.naver.com/red_sori/222843331416\", \"content\": \"디파이(Defi)란 Decentralized Finance의 약어로 '탈중앙화 금융' 이라는 뜻인데요. 은행, 거래소 등 중앙화된 기관을 거치지 않고 블록체인 기술을 활용해 대출, 예금, 투자 등의 . 여러 가지 금융활동을 하는 것을 의미 합니다.\", \"score\": 0.9828892, \"raw_content\": \"블로그\\n카테고리 이동\\n주리니의 재테크\\n디파이(Defi) 총정리 (뜻, 대출, 유동성공급, 스테이킹 서비스)\\n2022. 8. 8. 22:52\\n​\\n안녕하세요. 주리니입니다.\\n​\\n오늘은 디파이(Defi)에 대해 포스팅해보려고 합니다.\\n​\\n아마 한 번쯤 어디서 들어보신 분들도 많으실거에요.\\n디파이는 탈중앙화와 혁신적인 금융 서비스로 100조원에 가까운 시장 규모로 성장했고,\\n개인적으로도 앞으로 디파이는 점차 성장할거라 기대하고 있습니다.\\n​\\n처음 보시는 분들은 생소한 내용일 수 있지만 읽어보시면 이해하실거라 생각합니다.\\n바로 한 번 알아볼게요!\\n디파이 시장규모\\n디파이란? 뜻, 의미\\n디파이(Defi)란 Decentralized Finance의 약어로 '탈중앙화 금융'이라는 뜻인데요.\\n​\\n은행, 거래소 등 중앙화된 기관을 거치지 않고 블록체인 기술을 활용해 대출, 예금, 투자 등의\\n여러 가지 금융활동을 하는 것을 의미합니다.\\n​\\n참고로 디파이의 반대말은 씨파이(CEFI)로 Centralized Finance입니다.\\n​\\n디파이에서는 '스마트컨트랙트' 라는 일종의 프로그래밍된 계약조건에 의해 중개자 없이 거래가 가능합니다.\\n​\\n중앙화된 기관을 거치지 않고 금융 활동을 할 수 있기 때문에 이용하기가 굉장이 편리하죠.\\n현재의 금융 서비스들을 이용하려면 개인 인증이며, 각종 서류 등등..\\n처리해야할 절차가 많지만 디파이에서는 그런 정보는 전혀 필요 없고 단지 개인 암호화폐 지갑만 있으면 되니까요.\\nCEFI vs DEFI\\n디파이 종류\\n그렇다면 디파이의 종류는 어떤 게 있을까요?\\n우리가 흔히 활용하는 금융서비스인 예금, 대출, 보험, 펀드 등 뿐만이 아니라\\n블록체인기술을 활용한 디파이에서만 볼 수 있는 금융서비스도 있는데요.\\n​\\n자세히 한 번 살펴보겠습니다.\\n​\\n​\\n1. 대출\\n대출은 말 그대로 돈을 빌리는 금융 거래인데요.\\n은행에서는 신용대출, 주택담보대출, 전세대출 등 다양하게 있지만 디파이에서는 암호화폐 담보대출만 가능합니다.\\n​\\n디파이에서는 거래자의 개인정보를 전혀 취득하지 않기 때문에 어떻게보면 당연하겠죠?\\n​\\n예를 들어, A라는 코인을 맡기고 담보금의 가치의 일부를 B라는 코인으로 대출 해주는 것이죠.\\n디파이에서 대출이 재밌는 점은 대출을 하고도 보상을 받을 수 있는 경우도 있다는 게 특이한 점이에요.\\n​\\n자기네들 대출 프로토콜을 이용해줘서 고맙다고 리워드를 준다고 생각하시면 됩니다.\\n물론 대출 금액에 대한 이자는 지불해야하지만, 어떤 경우엔 보상이 이자보다 더 커서 빌렸는데 돈을 버는 경우도 발생합니다.\\n​\\n코코아파이낸스 대출 예시\\n위 그림은 디파이 플랫폼 중 하나인 코코아 파이낸스 대출 기능인데요.\\n​\\nKLAY 코인을 맡기면 그 가치의 60%까지 KSD라는 코인으로 대출을 해주고 있습니다.\\n​\\n여기서 INTEREST가 지불 이자, REWARD는 보상, NET APR은 보상에서 이자를 뺀 값으로 생각하시면 됩니다.\\nNET APR이 6%니까 KLAY를 맡겨서 KSD를 대출하게되면 오히려 6%만큼 돈을 벌게되는 재밌는 상황이되죠.\\n​\\n​\\n뭐야. 대출했는데 돈을 왜줘, 이거 폰지사기아니야? 라고 하실수도 있지만\\n대출 담보금으로 KLAY를 맡겼기 때문에 코코아파이낸스측에서는 이 담보금을 활용해서\\n다른 디파이 플랫폼에서 수익을 창출해 일부를 나눠준다고 생각하시면 되겠습니다.\\n​\\n2. 단일 예치\\n​\\n단일 예치는 한 종류의 단일 코인을 예치해서 수익을 받는 것을 말합니다. 가장 간단하죠.\\n은행에 예금을 하게되면 대출자로부터 받는 이자 수익의 일부를 예금 이자로 받는 것과 동일한 원리입니다.\\n​\\n디파이는 중개자가 없기 떄문에 보통 높은 이율을 제공하는 경우가 많습니다.\\n디파이 내 대출, 단일예치 개념도\\n​\\n아래는 디파이 플랫폼 중 하나인 클레이스왑의 단일 예치 현황입니다.\\n최근 암호화폐시장 침체로 이율이 많이 떨어지긴 했는데 그래도 꽤나 매력적인 이율입니다.\\n​\\n클레이스왑 단일 예치 예시\\n3. 유동성 공급 (페어 예치)\\n​\\n다음은 유동성 공급입니다.\\n블록체인에만 있는 특이한 금융방식인데요.\\n​\\n유동성 공급을 이해하기 위해서는 먼저 DEX(Decentralized Exchange), 탈중앙화 거래소를 먼저 이해하셔야합니다.\\n(머리 아프시겠지만 어려운 내용아닙니다! ㅠㅠ)\\n​\\n중앙화된 거래소에서는 아래처럼 오더북을 활용해 매수자와 매도자의 호가에 의해 거래가 체결되는 방식인데요.\\n이 거래 과정에서 중앙화된 중개자인 거래소에서는 거래수수료를 받아가고, 거래 과정을 감시,제한도 가능합니다.\\n비트코인 빗썸 거래소 호가창 (오더북)\\n​\\n하지만 탈중앙화거래소(DEX)는 그렇지 않습니다.\\n탈중앙화거래소에서 사용되는 거래 방식을 'Swap(스왑)' 이라고 하는데요.\\n​\\n교환하고자 하는 두 개의 코인을 일정한 비율로 교환해주고 , 이는 프로그래밍되어 자동으로 진행됩니다.\\n즉, 중간에서 중앙화된 중개자가 없는 것이죠.\\n​\\n​\\n예를 들어, 1000원의 가치를 가진 A코인과 2000원의 가치를 가진 B코인을 교환하는 경우\\n​\\nA코인 1개로는 B코인 0.5개\\nB코인 1개로는 A코인 2개로 교환이 가능합니다.\\n​\\n​\\n하지만 이런 많은 거래가 이루어지기 위해서는 A코인과 B코인이\\n탈중앙화 거래소에서 많이 갖고있어야 가능하겠죠?\\n​\\n그래서 이런 교환이 필요한 코인들을 페어(pair)로 예치시키는데 이를 '유동성 공급' 이라고 합니다.\\n유동성 공급과 스왑\\n이렇게 일반 유저들이 A,B 코인의 유동성 공급을 하게되고, 유동성 공급을 한 사람들은 스왑(Swap) 수수료와 이자를 받을 수 있습니다.\\n​\\n아래는 클레이 스왑 유동성 공급(페어 예치) 예시입니다.\\n​\\n단일 예치와 마찬가지로 중앙화된 중개자가 없기 때문에 유저들에게 더 많은 수익이 지급될 수 있는 것이죠.\\n클레이스왑 유동성 공급(페어 예치) 예시\\n3. 스테이킹 (Staking)\\n​\\n마지막으로 스테이킹입니다.\\n스테이킹도 블록체인에서만 있는 금융 시스템입니다.\\n​\\n스테이킹을 이해하기 앞서서 채굴 방식에 대한 이해가 조금 필요합니다.\\n...ㅠㅠ 너무 복잡한가요? 조금만 힘내세요..!\\n​\\n​\\n암호화폐 채굴 방식은 크게 2가지입니다.\\n① 작업증명(PoW, Proof of Work)\\n: 비트코인이 해당하며 각종 연산을 해결하여 보상을 받는 방식으로\\n에너지 및 리소스 소모가 크다는 단점이 있습니다.\\n​\\n② 지분증명 (PoS, Proof of Stake)\\n: 에이다 등의 코인이 해당하며 지분 증명방식으로 블록체인의 데이터 검증에 기여하고 보상을 받습니다.\\n코인으로 코인을 만들기에 에너지 및 리소스 소모가 불필요하며 지분이 클 수록 많은 보상을 받게 됩니다.\\n​\\n​\\n이렇게 스테이킹은 지분증명 방식 코인에서 예치하게되면 보상으로 받는 것을 의미하는데요.\\n방식은 단일 예치와 비슷하지만 원리는 다르죠?\\n​\\n지분 증명 방식의 코인에 투자하시는 분들은 가만히 두기 보다는 스테이킹해서 코인 갯수를 늘리는게 이득입니다.\\n​\\n지분증명(PoS) 방식 스테이킹 원리\\n마치며..\\n이렇게 이번 포스팅에서는 디파이에 대해서 알아보았는데요.\\n위 소개드린 종류 외에도 디파이 세계에서는 보험, 펀드, 합성자산 등 여러 가지 금융서비스가 있습니다.\\n​\\n이들 모두 프로그래밍되어 블록체인 안에서 100% 자동화 운영되며, 중개자의 개입이 없다는 것이 특징입니다.\\n​\\n물론 아직까지 접근성이 떨어져서 쉽게 접할 수 있는 투자처는 아닙니다.\\n코인을 개인지갑으로 옮기고 다시 디파이 플랫폼으로 이동시키는 일련의 과정이 쉽지 않습니다.\\n또, 블록체인 자체는 해킹당할 우려는 없지만 일부 중앙화된 디파이 플랫폼에서 해킹 사례가 나오고 있기도 합니다.\\n그럼에도 불구하고 디파이는 탈중앙화와 혁신적인 금융 서비스로 앞으로도 더욱 주목받지 않을까 싶습니다.\\n​\\n궁금하신 사항은 댓글 남겨주시면 답변드리겠습니다.\\n긴 글 읽어주셔서 감사합니다.\\n​\\n​\\n▼함께보면 좋은 정보 =================\\n​\\n▶ 스테이블 코인 총정리\\n▶ 연이율 30% 스테이블 코인 디파이 소개\\n​\\n​\\n주식,코인 등 재테크 정보 공유드리고자합니다.\\n카테고리\"}]\n",
      "==================================\u001b[1m Ai Message \u001b[0m==================================\n",
      "\n",
      "블록체인 기술에 대한 유용한 자료를 몇 가지 추천드립니다:\n",
      "\n",
      "1. **디파이(DeFi)란? 탈중앙화 금융의 개념과 투자 방법**\n",
      "   - [링크](https://nomadcareer.kr/blog/디파이defi란-탈중앙화-금융의-개념과-투자-방법/)\n",
      "   - 이 글에서는 디파이의 투자 방법과 주의사항에 대해 설명하고 있습니다. 대출, 스테이킹, 유동성 공급 등의 서비스에 자산을 예치하는 방법을 다룹니다.\n",
      "\n",
      "2. **디파이(DeFi)란 무엇인가? 의미와 활용 방법, 투자 전략 알아보기**\n",
      "   - [링크](https://dreamyo.kr/contents/디파이defi란-무엇인가-의미와-활용-방법-투자-전략-알아보기/)\n",
      "   - 디파이의 개념과 다양한 플랫폼 및 서비스에 대해 설명하며, 개인에게 더 많은 투자 기회와 수익 창출의 가능성을 제공합니다.\n",
      "\n",
      "3. **디파이(Defi) 총정리 (뜻, 대출, 유동성공급, 스테이킹 서비스)**\n",
      "   - [링크](https://m.blog.naver.com/red_sori/222843331416)\n",
      "   - 디파이의 기본 개념과 다양한 금융 서비스에 대해 자세히 설명하고 있으며, 디파이의 종류와 그 작동 원리에 대해 쉽게 이해할 수 있도록 돕습니다.\n",
      "\n",
      "이 자료들을 통해 블록체인 기술과 디파이에 대한 이해를 높일 수 있을 것입니다.\n"
     ]
    }
   ],
   "source": [
    "# config 에는 updated_state 를 전달합니다. 이는 임의로 갱신한 상태를 전달하는 것입니다.\n",
    "for event in graph.stream(None, updated_state, stream_mode=\"values\"):\n",
    "    # 메시지가 이벤트에 포함된 경우\n",
    "    if \"messages\" in event:\n",
    "        # 마지막 메시지 출력\n",
    "        event[\"messages\"][-1].pretty_print()"
   ]
  },
  {
   "cell_type": "markdown",
   "metadata": {},
   "source": [
    "##### 최종 결과를 출력합니다."
   ]
  },
  {
   "cell_type": "code",
   "execution_count": 138,
   "metadata": {},
   "outputs": [
    {
     "name": "stdout",
     "output_type": "stream",
     "text": [
      "================================\u001b[1m Human Message \u001b[0m=================================\n",
      "\n",
      "블록체인 기술에 대해서 배워보고 싶습니다. 유용한 자료를 추천해 주세요!\n",
      "==================================\u001b[1m Ai Message \u001b[0m==================================\n",
      "Tool Calls:\n",
      "  tavily_web_search (call_V4WgLFZ9YTrZHrCM1GYXYToX)\n",
      " Call ID: call_V4WgLFZ9YTrZHrCM1GYXYToX\n",
      "  Args:\n",
      "    query: 디파이 투자 관련 자료 추천\n",
      "=================================\u001b[1m Tool Message \u001b[0m=================================\n",
      "Name: tavily_web_search\n",
      "\n",
      "[{\"title\": \"디파이(DeFi)란? 탈중앙화 금융의 개념과 투자 방법\", \"url\": \"https://nomadcareer.kr/blog/디파이defi란-탈중앙화-금융의-개념과-투자-방법/\", \"content\": \"디파이 투자 방법과 주의사항. 디파이에 투자하는 방법은 크게 대출, 스테이킹, 유동성 공급 등의 서비스에 자산을 예치하거나, 디파이 토큰에 투자하는 방식으로 나눌 수 있습니다. 1. 투자 방법. 디파이 대출 플랫폼에 자산을 예치하고 이자를 받는 방식.\", \"score\": 0.9940659, \"raw_content\": null}, {\"title\": \"디파이(DeFi)란 무엇인가? 의미와 활용 방법, 투자 전략 알아보기\", \"url\": \"https://dreamyo.kr/contents/디파이defi란-무엇인가-의미와-활용-방법-투자-전략-알아보기/\", \"content\": \"관련 키워드. 탈중앙화 금융 스마트컨트랙트 암호화폐 예치 스테이킹 . 디파이(DeFi)는 기존 금융 시스템과는 달리 탈중앙화된 금융 서비스를 제공하며 개인에게 더 많은 투자 기회와 수익 창출의 가능성을 제공합니다. 다양한 디파이 플랫폼과 서비스를 통해\", \"score\": 0.98975134, \"raw_content\": null}, {\"title\": \"디파이(Defi) 총정리 (뜻, 대출, 유동성공급, 스테이킹 서비스) : 네이버 블로그\", \"url\": \"https://m.blog.naver.com/red_sori/222843331416\", \"content\": \"디파이(Defi)란 Decentralized Finance의 약어로 '탈중앙화 금융' 이라는 뜻인데요. 은행, 거래소 등 중앙화된 기관을 거치지 않고 블록체인 기술을 활용해 대출, 예금, 투자 등의 . 여러 가지 금융활동을 하는 것을 의미 합니다.\", \"score\": 0.9828892, \"raw_content\": \"블로그\\n카테고리 이동\\n주리니의 재테크\\n디파이(Defi) 총정리 (뜻, 대출, 유동성공급, 스테이킹 서비스)\\n2022. 8. 8. 22:52\\n​\\n안녕하세요. 주리니입니다.\\n​\\n오늘은 디파이(Defi)에 대해 포스팅해보려고 합니다.\\n​\\n아마 한 번쯤 어디서 들어보신 분들도 많으실거에요.\\n디파이는 탈중앙화와 혁신적인 금융 서비스로 100조원에 가까운 시장 규모로 성장했고,\\n개인적으로도 앞으로 디파이는 점차 성장할거라 기대하고 있습니다.\\n​\\n처음 보시는 분들은 생소한 내용일 수 있지만 읽어보시면 이해하실거라 생각합니다.\\n바로 한 번 알아볼게요!\\n디파이 시장규모\\n디파이란? 뜻, 의미\\n디파이(Defi)란 Decentralized Finance의 약어로 '탈중앙화 금융'이라는 뜻인데요.\\n​\\n은행, 거래소 등 중앙화된 기관을 거치지 않고 블록체인 기술을 활용해 대출, 예금, 투자 등의\\n여러 가지 금융활동을 하는 것을 의미합니다.\\n​\\n참고로 디파이의 반대말은 씨파이(CEFI)로 Centralized Finance입니다.\\n​\\n디파이에서는 '스마트컨트랙트' 라는 일종의 프로그래밍된 계약조건에 의해 중개자 없이 거래가 가능합니다.\\n​\\n중앙화된 기관을 거치지 않고 금융 활동을 할 수 있기 때문에 이용하기가 굉장이 편리하죠.\\n현재의 금융 서비스들을 이용하려면 개인 인증이며, 각종 서류 등등..\\n처리해야할 절차가 많지만 디파이에서는 그런 정보는 전혀 필요 없고 단지 개인 암호화폐 지갑만 있으면 되니까요.\\nCEFI vs DEFI\\n디파이 종류\\n그렇다면 디파이의 종류는 어떤 게 있을까요?\\n우리가 흔히 활용하는 금융서비스인 예금, 대출, 보험, 펀드 등 뿐만이 아니라\\n블록체인기술을 활용한 디파이에서만 볼 수 있는 금융서비스도 있는데요.\\n​\\n자세히 한 번 살펴보겠습니다.\\n​\\n​\\n1. 대출\\n대출은 말 그대로 돈을 빌리는 금융 거래인데요.\\n은행에서는 신용대출, 주택담보대출, 전세대출 등 다양하게 있지만 디파이에서는 암호화폐 담보대출만 가능합니다.\\n​\\n디파이에서는 거래자의 개인정보를 전혀 취득하지 않기 때문에 어떻게보면 당연하겠죠?\\n​\\n예를 들어, A라는 코인을 맡기고 담보금의 가치의 일부를 B라는 코인으로 대출 해주는 것이죠.\\n디파이에서 대출이 재밌는 점은 대출을 하고도 보상을 받을 수 있는 경우도 있다는 게 특이한 점이에요.\\n​\\n자기네들 대출 프로토콜을 이용해줘서 고맙다고 리워드를 준다고 생각하시면 됩니다.\\n물론 대출 금액에 대한 이자는 지불해야하지만, 어떤 경우엔 보상이 이자보다 더 커서 빌렸는데 돈을 버는 경우도 발생합니다.\\n​\\n코코아파이낸스 대출 예시\\n위 그림은 디파이 플랫폼 중 하나인 코코아 파이낸스 대출 기능인데요.\\n​\\nKLAY 코인을 맡기면 그 가치의 60%까지 KSD라는 코인으로 대출을 해주고 있습니다.\\n​\\n여기서 INTEREST가 지불 이자, REWARD는 보상, NET APR은 보상에서 이자를 뺀 값으로 생각하시면 됩니다.\\nNET APR이 6%니까 KLAY를 맡겨서 KSD를 대출하게되면 오히려 6%만큼 돈을 벌게되는 재밌는 상황이되죠.\\n​\\n​\\n뭐야. 대출했는데 돈을 왜줘, 이거 폰지사기아니야? 라고 하실수도 있지만\\n대출 담보금으로 KLAY를 맡겼기 때문에 코코아파이낸스측에서는 이 담보금을 활용해서\\n다른 디파이 플랫폼에서 수익을 창출해 일부를 나눠준다고 생각하시면 되겠습니다.\\n​\\n2. 단일 예치\\n​\\n단일 예치는 한 종류의 단일 코인을 예치해서 수익을 받는 것을 말합니다. 가장 간단하죠.\\n은행에 예금을 하게되면 대출자로부터 받는 이자 수익의 일부를 예금 이자로 받는 것과 동일한 원리입니다.\\n​\\n디파이는 중개자가 없기 떄문에 보통 높은 이율을 제공하는 경우가 많습니다.\\n디파이 내 대출, 단일예치 개념도\\n​\\n아래는 디파이 플랫폼 중 하나인 클레이스왑의 단일 예치 현황입니다.\\n최근 암호화폐시장 침체로 이율이 많이 떨어지긴 했는데 그래도 꽤나 매력적인 이율입니다.\\n​\\n클레이스왑 단일 예치 예시\\n3. 유동성 공급 (페어 예치)\\n​\\n다음은 유동성 공급입니다.\\n블록체인에만 있는 특이한 금융방식인데요.\\n​\\n유동성 공급을 이해하기 위해서는 먼저 DEX(Decentralized Exchange), 탈중앙화 거래소를 먼저 이해하셔야합니다.\\n(머리 아프시겠지만 어려운 내용아닙니다! ㅠㅠ)\\n​\\n중앙화된 거래소에서는 아래처럼 오더북을 활용해 매수자와 매도자의 호가에 의해 거래가 체결되는 방식인데요.\\n이 거래 과정에서 중앙화된 중개자인 거래소에서는 거래수수료를 받아가고, 거래 과정을 감시,제한도 가능합니다.\\n비트코인 빗썸 거래소 호가창 (오더북)\\n​\\n하지만 탈중앙화거래소(DEX)는 그렇지 않습니다.\\n탈중앙화거래소에서 사용되는 거래 방식을 'Swap(스왑)' 이라고 하는데요.\\n​\\n교환하고자 하는 두 개의 코인을 일정한 비율로 교환해주고 , 이는 프로그래밍되어 자동으로 진행됩니다.\\n즉, 중간에서 중앙화된 중개자가 없는 것이죠.\\n​\\n​\\n예를 들어, 1000원의 가치를 가진 A코인과 2000원의 가치를 가진 B코인을 교환하는 경우\\n​\\nA코인 1개로는 B코인 0.5개\\nB코인 1개로는 A코인 2개로 교환이 가능합니다.\\n​\\n​\\n하지만 이런 많은 거래가 이루어지기 위해서는 A코인과 B코인이\\n탈중앙화 거래소에서 많이 갖고있어야 가능하겠죠?\\n​\\n그래서 이런 교환이 필요한 코인들을 페어(pair)로 예치시키는데 이를 '유동성 공급' 이라고 합니다.\\n유동성 공급과 스왑\\n이렇게 일반 유저들이 A,B 코인의 유동성 공급을 하게되고, 유동성 공급을 한 사람들은 스왑(Swap) 수수료와 이자를 받을 수 있습니다.\\n​\\n아래는 클레이 스왑 유동성 공급(페어 예치) 예시입니다.\\n​\\n단일 예치와 마찬가지로 중앙화된 중개자가 없기 때문에 유저들에게 더 많은 수익이 지급될 수 있는 것이죠.\\n클레이스왑 유동성 공급(페어 예치) 예시\\n3. 스테이킹 (Staking)\\n​\\n마지막으로 스테이킹입니다.\\n스테이킹도 블록체인에서만 있는 금융 시스템입니다.\\n​\\n스테이킹을 이해하기 앞서서 채굴 방식에 대한 이해가 조금 필요합니다.\\n...ㅠㅠ 너무 복잡한가요? 조금만 힘내세요..!\\n​\\n​\\n암호화폐 채굴 방식은 크게 2가지입니다.\\n① 작업증명(PoW, Proof of Work)\\n: 비트코인이 해당하며 각종 연산을 해결하여 보상을 받는 방식으로\\n에너지 및 리소스 소모가 크다는 단점이 있습니다.\\n​\\n② 지분증명 (PoS, Proof of Stake)\\n: 에이다 등의 코인이 해당하며 지분 증명방식으로 블록체인의 데이터 검증에 기여하고 보상을 받습니다.\\n코인으로 코인을 만들기에 에너지 및 리소스 소모가 불필요하며 지분이 클 수록 많은 보상을 받게 됩니다.\\n​\\n​\\n이렇게 스테이킹은 지분증명 방식 코인에서 예치하게되면 보상으로 받는 것을 의미하는데요.\\n방식은 단일 예치와 비슷하지만 원리는 다르죠?\\n​\\n지분 증명 방식의 코인에 투자하시는 분들은 가만히 두기 보다는 스테이킹해서 코인 갯수를 늘리는게 이득입니다.\\n​\\n지분증명(PoS) 방식 스테이킹 원리\\n마치며..\\n이렇게 이번 포스팅에서는 디파이에 대해서 알아보았는데요.\\n위 소개드린 종류 외에도 디파이 세계에서는 보험, 펀드, 합성자산 등 여러 가지 금융서비스가 있습니다.\\n​\\n이들 모두 프로그래밍되어 블록체인 안에서 100% 자동화 운영되며, 중개자의 개입이 없다는 것이 특징입니다.\\n​\\n물론 아직까지 접근성이 떨어져서 쉽게 접할 수 있는 투자처는 아닙니다.\\n코인을 개인지갑으로 옮기고 다시 디파이 플랫폼으로 이동시키는 일련의 과정이 쉽지 않습니다.\\n또, 블록체인 자체는 해킹당할 우려는 없지만 일부 중앙화된 디파이 플랫폼에서 해킹 사례가 나오고 있기도 합니다.\\n그럼에도 불구하고 디파이는 탈중앙화와 혁신적인 금융 서비스로 앞으로도 더욱 주목받지 않을까 싶습니다.\\n​\\n궁금하신 사항은 댓글 남겨주시면 답변드리겠습니다.\\n긴 글 읽어주셔서 감사합니다.\\n​\\n​\\n▼함께보면 좋은 정보 =================\\n​\\n▶ 스테이블 코인 총정리\\n▶ 연이율 30% 스테이블 코인 디파이 소개\\n​\\n​\\n주식,코인 등 재테크 정보 공유드리고자합니다.\\n카테고리\"}]\n",
      "==================================\u001b[1m Ai Message \u001b[0m==================================\n",
      "\n",
      "블록체인 기술에 대한 유용한 자료를 몇 가지 추천드립니다:\n",
      "\n",
      "1. **디파이(DeFi)란? 탈중앙화 금융의 개념과 투자 방법**\n",
      "   - [링크](https://nomadcareer.kr/blog/디파이defi란-탈중앙화-금융의-개념과-투자-방법/)\n",
      "   - 이 글에서는 디파이의 투자 방법과 주의사항에 대해 설명하고 있습니다. 대출, 스테이킹, 유동성 공급 등의 서비스에 자산을 예치하는 방법을 다룹니다.\n",
      "\n",
      "2. **디파이(DeFi)란 무엇인가? 의미와 활용 방법, 투자 전략 알아보기**\n",
      "   - [링크](https://dreamyo.kr/contents/디파이defi란-무엇인가-의미와-활용-방법-투자-전략-알아보기/)\n",
      "   - 디파이의 개념과 다양한 플랫폼 및 서비스에 대해 설명하며, 개인에게 더 많은 투자 기회와 수익 창출의 가능성을 제공합니다.\n",
      "\n",
      "3. **디파이(Defi) 총정리 (뜻, 대출, 유동성공급, 스테이킹 서비스)**\n",
      "   - [링크](https://m.blog.naver.com/red_sori/222843331416)\n",
      "   - 디파이의 기본 개념과 다양한 금융 서비스에 대해 자세히 설명하고 있으며, 디파이의 종류와 그 작동 원리에 대해 쉽게 이해할 수 있도록 돕습니다.\n",
      "\n",
      "이 자료들을 통해 블록체인 기술과 디파이에 대한 이해를 높일 수 있을 것입니다.\n"
     ]
    }
   ],
   "source": [
    "# 최종 결과 출력\n",
    "for msg in graph.get_state(config).values[\"messages\"]:\n",
    "    msg.pretty_print()"
   ]
  }
 ],
 "metadata": {
  "kernelspec": {
   "display_name": "langchain-note-2024-PFhCXHTX-py3.12",
   "language": "python",
   "name": "python3"
  },
  "language_info": {
   "codemirror_mode": {
    "name": "ipython",
    "version": 3
   },
   "file_extension": ".py",
   "mimetype": "text/x-python",
   "name": "python",
   "nbconvert_exporter": "python",
   "pygments_lexer": "ipython3",
   "version": "3.12.7"
  }
 },
 "nbformat": 4,
 "nbformat_minor": 2
}
