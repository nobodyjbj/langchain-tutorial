{
 "cells": [
  {
   "cell_type": "code",
   "execution_count": 1,
   "metadata": {},
   "outputs": [
    {
     "data": {
      "text/plain": [
       "True"
      ]
     },
     "execution_count": 1,
     "metadata": {},
     "output_type": "execute_result"
    }
   ],
   "source": [
    "from dotenv import load_dotenv\n",
    "import sys\n",
    "\n",
    "sys.path.append(\"../../common\")\n",
    "load_dotenv()"
   ]
  },
  {
   "cell_type": "code",
   "execution_count": 2,
   "metadata": {},
   "outputs": [
    {
     "name": "stdout",
     "output_type": "stream",
     "text": [
      "Langsmith 추적이 활성화되었습니다. [프로젝트명: 17.LangGraph-Use-Case]\n"
     ]
    }
   ],
   "source": [
    "import os\n",
    "from langsmith_tracker import set_tracking\n",
    "\n",
    "# 인스턴스를 생성할 때 필요한 매개변수를 전달합니다.\n",
    "set_tracking(project_name=\"17.LangGraph-Use-Case\")"
   ]
  },
  {
   "cell_type": "markdown",
   "metadata": {},
   "source": [
    "## Self-RAG\n",
    "\n",
    "[LnagGraph 공식문서](https://langchain-ai.github.io/langgraph/)\n",
    "\n",
    "Self-RAG 는 검색된 문서와 생성된 응답에 대한 자기 반성(self-reflection) 및 자기 평가(self-evaluation)를 포함한 RAG 전략입니다.  \n",
    "RAG 시스템 성능 향상 효과가 있습니다.  \n",
    "\n",
    "---\n",
    "\n",
    "#### Self-RAG 란 무엇인가?\n",
    "\n",
    "Self-RAG 는 검색된 문서와 생성된 응답 모두에 대해 점검하고 검증하는 추가 단계를 포함하는 RAG 전략입니다.  \n",
    "전통적인 RAG에서는 검색된 정보를 기반으로 LLM이 답변을 생성하는 것이 주된 과정이었다면, Self-RAG에서는 자체 평가를 통해 다음과 같은 사항을 검증합니다.\n",
    "\n",
    "1. 검색할 필요성 판단: 현재 질문에 대해 추가 검색이 필요한지 여부를 판단합니다.\n",
    "2. 검색 결과 관련성 평가: 검색된 문서 조각(청크)이 질문 해결에 도움이 되는지 확인합니다.\n",
    "3. 응답 사실성 검증: 생성된 답변이 제공된 문서 청크에 의해 충분히 뒷받침되는지 평가합니다.\n",
    "4. 응답 품질 평가: 생성된 답변이 실제로 질문을 잘 해결하는지 측정합니다.\n",
    "이 과정을 통해 단순히 검색하고 답변을 생성하는 단계를 넘어, 생성된 응답의 품질과 사실성을 스스로 모니터링하고 향상시킬 수 있습니다.\n",
    "\n",
    "##### 그래프 흐름\n",
    "\n",
    "![self-rag](./assets/langgraph_use_case_self_rag.png)\n",
    "\n",
    "---\n",
    "\n",
    "[Self-RAG 논문 바로가기](https://arxiv.org/abs/2310.11511)\n",
    "\n",
    "#### 주요 개념 정리\n",
    "\n",
    "논문에서는 Self-RAG를 통해 다음과 같은 결정 과정을 제안합니다.\n",
    "\n",
    "1. Retriever 사용 여부 결정\n",
    "    - 입력: x (question) 또는 (x (question), y (generation))\n",
    "    - 출력: yes, no, continue  \n",
    "    \n",
    "    이 단계는 추가 검색을 진행할지, 검색 없이 그대로 진행할지, 혹은 더 기다려볼지 결정합니다.\n",
    "\n",
    "2. 관련성 평가 (Retrieval Grader)\n",
    "    - 입력: (x (question), d (chunk)) for each d in D\n",
    "    - 출력: relevant 또는 irrelevant\n",
    "\n",
    "    검색된 문서 청크들이 실제로 질문에 답하는데 유용한 정보인지 판별합니다.\n",
    "\n",
    "3. 사실성 검증 (Hallucination Grader)\n",
    "\n",
    "    - 입력: x (question), d (chunk), y (generation) for each d in D\n",
    "    - 출력: {fully supported, partially supported, no support}\n",
    "\n",
    "    생성된 응답이 검색 결과에 근거한 사실을 반영하는지, 혹은 환각(Hallucination)이 발생했는지 판단합니다.\n",
    "\n",
    "4. 정답 품질 평가 (Answer Grader)\n",
    "\n",
    "    - 입력: x (question), y (generation)\n",
    "    - 출력: {5, 4, 3, 2, 1}\n",
    "\n",
    "    생성된 응답이 질문을 어느 정도 해결하는지 점수화하여 평가합니다.\n",
    "\n",
    "\n",
    "---\n",
    "\n",
    "#### 이 튜토리얼에서 다룰 내용\n",
    "\n",
    "이 튜토리얼은 LangGraph를 활용하여 Self-RAG 전략의 일부 아이디어를 구현하는 과정을 다룹니다.\n",
    "다음과 같은 단계를 통해 Self-RAG 전략을 구축하고 실행하는 방법을 익히게 됩니다.\n",
    "\n",
    "- Retriever: 문서를 검색\n",
    "- Retrieval Grader: 검색된 문서의 관련성 평가\n",
    "- Generate: 질문에 대한 답변 생성\n",
    "- Hallucination Grader: 생성된 답변의 사실성(환각 여부) 검증\n",
    "- Answer Grader: 답변의 질문에 대한 관련성 평가\n",
    "- Question Re-writer: 쿼리 재작성\n",
    "- 그래프 생성 및 실행: 정의한 노드로 그래프를 빌드하고 실행"
   ]
  },
  {
   "cell_type": "markdown",
   "metadata": {},
   "source": [
    "### 기능 구현\n",
    "\n",
    "#### PDF 기반 Retrieval Chain 생성"
   ]
  },
  {
   "cell_type": "code",
   "execution_count": 3,
   "metadata": {},
   "outputs": [],
   "source": [
    "from rag.pdf import PDFRetrievalChain\n",
    "\n",
    "# PDF 문서 검색 체인 생성, 체인 안에는 llm 이 포함되어 있음\n",
    "pdf = PDFRetrievalChain(\n",
    "    source_uri=[\"./data/IS-183_AI 위험 유형 및 사례 분석(최종).pdf\"]\n",
    ").create_chain()\n",
    "\n",
    "pdf_retriever = pdf.retriever\n",
    "pdf_chain = pdf.chain"
   ]
  },
  {
   "cell_type": "markdown",
   "metadata": {},
   "source": [
    "#### 문서 검색 평가기 (Retrieval Grader)"
   ]
  },
  {
   "cell_type": "code",
   "execution_count": 10,
   "metadata": {},
   "outputs": [],
   "source": [
    "from pydantic import BaseModel, Field\n",
    "from langchain_core.prompts import ChatPromptTemplate\n",
    "from langchain_openai import ChatOpenAI\n",
    "from models import get_model_name, LLMs\n",
    "\n",
    "# 최신모델 이름 설정\n",
    "MODEL_NAME = get_model_name(LLMs.GPT4o_MINI)\n",
    "\n",
    "\n",
    "# 데이터 모델 정의: 검색된 문서의 관련성을 이진 점수로 평가하기 위한 데이터 모델\n",
    "class GradeDocuments(BaseModel):\n",
    "    \"\"\"A binary score to determine the relevance of the retrieved documents.\"\"\"\n",
    "\n",
    "    # 문서가 질문에 관련이 있는지 여부를 'yes' 또는 'no'로 나타내는 필드\n",
    "    binary_score: str = Field(\n",
    "        description=\"Documents are relevant to the question, 'yes' or 'no'\"\n",
    "    )\n",
    "\n",
    "\n",
    "# LLM 초기화\n",
    "llm = ChatOpenAI(model=MODEL_NAME, temperature=0)\n",
    "\n",
    "# GradeDocuments 데이터 모델을 사용하여 LLM의 구조화된 출력 생성\n",
    "structured_llm_grader = llm.with_structured_output(GradeDocuments)\n",
    "\n",
    "# 시스템 프롬프트 정의: 검색된 문서가 사용자 질문에 관련이 있는지 평가하는 시스템 역할 정의\n",
    "system = \"\"\"You are a grader assessing relevance of a retrieved document to a user question. \\n \n",
    "    It does not need to be a stringent test. The goal is to filter out erroneous retrievals. \\n\n",
    "    If the document contains keyword(s) or semantic meaning related to the user question, grade it as relevant. \\n\n",
    "    Give a binary score 'yes' or 'no' score to indicate whether the document is relevant to the question.\"\"\"\n",
    "\n",
    "# 채팅 프롬프트 템플릿 생성\n",
    "grade_prompt = ChatPromptTemplate.from_messages(\n",
    "    [\n",
    "        (\"system\", system),\n",
    "        (\"human\", \"Retrieved document: \\n\\n {document} \\n\\n User question: {question}\"),\n",
    "    ]\n",
    ")\n",
    "\n",
    "# 검색 평가기 생성\n",
    "retrieval_grader = grade_prompt | structured_llm_grader"
   ]
  },
  {
   "cell_type": "markdown",
   "metadata": {},
   "source": [
    "`retrieval_grader` 를 실행하여 검색된 문서와 질의의 관련성을 평가합니다."
   ]
  },
  {
   "cell_type": "code",
   "execution_count": 11,
   "metadata": {},
   "outputs": [
    {
     "name": "stdout",
     "output_type": "stream",
     "text": [
      "binary_score='yes'\n"
     ]
    }
   ],
   "source": [
    "# 질문 정의\n",
    "question = \"AI 위험 유형에 대해 설명하세요.\"\n",
    "\n",
    "# 문서 검색\n",
    "docs = pdf_retriever.invoke(question)\n",
    "\n",
    "# 검색된 문서 중 두 번째 문서의 페이지 콘텐츠 추출\n",
    "doc_txt = docs[1].page_content\n",
    "\n",
    "# 검색 평가기 호출 및 결과 출력\n",
    "print(retrieval_grader.invoke({\"question\": question, \"document\": doc_txt}))"
   ]
  },
  {
   "cell_type": "markdown",
   "metadata": {},
   "source": [
    "#### 답변 체인 생성"
   ]
  },
  {
   "cell_type": "code",
   "execution_count": 12,
   "metadata": {},
   "outputs": [
    {
     "name": "stdout",
     "output_type": "stream",
     "text": [
      "AI 위험 유형은 다음과 같이 분류됩니다:\n",
      "\n",
      "1. **가짜 콘텐츠를 통한 개인 위해**: 사기, 피싱, 합성, 복제 등.\n",
      "2. **허위 정보 생성**: 광고, 마이크로 타게팅 등.\n",
      "3. **사용자 설득 및 여론 조작**: 악의적 사용, 대화형 AI를 통한 설득.\n",
      "4. **사이버 공격 및 보안**: 시스템의 기밀성, 무결성, 사용 가능성 관련 위험.\n",
      "\n",
      "이 외에도 AI의 오작동 위험, 교차 위험 등이 있으며, 다양한 연구에서 AI 위험 요인들이 정의되고 분석되고 있습니다.\n",
      "\n",
      "**Source**\n",
      "- ./data/IS-183_AI 위험 유형 및 사례 분석(최종).pdf (페이지 15)\n"
     ]
    }
   ],
   "source": [
    "from langchain import hub\n",
    "from langchain_core.output_parsers import StrOutputParser\n",
    "\n",
    "# LangChain Hub에서 프롬프트 가져오기\n",
    "prompt = hub.pull(\"teddynote/rag-prompt\")\n",
    "\n",
    "# 기본 LLM 초기화, 모델 이름과 온도 설정\n",
    "llm = ChatOpenAI(model_name=MODEL_NAME, temperature=0)\n",
    "\n",
    "\n",
    "# 문서 포맷팅 함수\n",
    "def format_docs(docs):\n",
    "    return \"\\n\\n\".join(\n",
    "        [\n",
    "            f'<document><content>{doc.page_content}</content><source>{doc.metadata[\"source\"]}</source><page>{doc.metadata[\"page\"]+1}</page></document>'\n",
    "            for doc in docs\n",
    "        ]\n",
    "    )\n",
    "\n",
    "\n",
    "# RAG 체인 생성\n",
    "rag_chain = prompt | llm | StrOutputParser()\n",
    "\n",
    "# 체인 실행\n",
    "generation = rag_chain.invoke({\"context\": format_docs(docs), \"question\": question})\n",
    "print(generation)"
   ]
  },
  {
   "cell_type": "markdown",
   "metadata": {},
   "source": [
    "#### 할루시네이션 평가"
   ]
  },
  {
   "cell_type": "code",
   "execution_count": 14,
   "metadata": {},
   "outputs": [],
   "source": [
    "from pydantic import BaseModel, Field\n",
    "from langchain_core.prompts import ChatPromptTemplate\n",
    "from langchain_openai import ChatOpenAI\n",
    "\n",
    "\n",
    "# 데이터 모델 정의: 생성된 답변이 사실에 기반하고 있는지 여부를 이진 점수로 평가하기 위한 데이터 모델\n",
    "class Groundednesss(BaseModel):\n",
    "    \"\"\"A binary score indicating whether the generated answer is grounded in the facts.\"\"\"\n",
    "\n",
    "    # 답변이 사실에 기반하고 있는지 여부를 'yes' 또는 'no'로 나타내는 필드\n",
    "    binary_score: str = Field(\n",
    "        description=\"Answer is grounded in the facts, 'yes' or 'no'\"\n",
    "    )\n",
    "\n",
    "\n",
    "# LLM 초기화\n",
    "llm = ChatOpenAI(model=MODEL_NAME, temperature=0)\n",
    "\n",
    "# 구조화된 출력과 함께 LLM 설정\n",
    "structured_llm_grader = llm.with_structured_output(Groundednesss)\n",
    "\n",
    "# 시스템 프롬프트 정의\n",
    "system = \"\"\"You are a grader assessing whether an LLM generation is grounded in / supported by a set of retrieved facts. \\n \n",
    "Give a binary score 'yes' or 'no'. 'Yes' means that the answer is grounded in / supported by the set of facts.\"\"\"\n",
    "\n",
    "# 채팅 프롬프트 템플릿 생성\n",
    "groundedness_checking_prompt = ChatPromptTemplate.from_messages(\n",
    "    [\n",
    "        (\"system\", system),\n",
    "        (\"human\", \"Set of facts: \\n\\n {documents} \\n\\n LLM generation: {generation}\"),\n",
    "    ]\n",
    ")\n",
    "\n",
    "# 답변의 할루시네이션 평가기 생성\n",
    "groundedness_grader = groundedness_checking_prompt | structured_llm_grader"
   ]
  },
  {
   "cell_type": "code",
   "execution_count": 15,
   "metadata": {},
   "outputs": [
    {
     "data": {
      "text/plain": [
       "Groundednesss(binary_score='yes')"
      ]
     },
     "execution_count": 15,
     "metadata": {},
     "output_type": "execute_result"
    }
   ],
   "source": [
    "# 할루시네이션 평가기 호출(yes: 사실에 기반하고 있음, no: 사실에 기반하고 있지 않음)\n",
    "groundedness_grader.invoke({\"documents\": format_docs(docs), \"generation\": generation})"
   ]
  },
  {
   "cell_type": "markdown",
   "metadata": {},
   "source": [
    "#### 답변의 관련성 평가"
   ]
  },
  {
   "cell_type": "code",
   "execution_count": 16,
   "metadata": {},
   "outputs": [],
   "source": [
    "from pydantic import BaseModel, Field\n",
    "from langchain_core.prompts import ChatPromptTemplate\n",
    "from langchain_openai import ChatOpenAI\n",
    "\n",
    "\n",
    "class GradeAnswer(BaseModel):\n",
    "    \"\"\"A binary score indicating whether the question is addressed.\"\"\"\n",
    "\n",
    "    # 답변의 관련성 평가: 'yes' 또는 'no'로 표기(yes: 관련성 있음, no: 관련성 없음)\n",
    "    binary_score: str = Field(\n",
    "        description=\"Answer addresses the question, 'yes' or 'no'\"\n",
    "    )\n",
    "\n",
    "\n",
    "llm = ChatOpenAI(model=MODEL_NAME, temperature=0)\n",
    "\n",
    "# llm 에 GradeAnswer 바인딩\n",
    "structured_llm_grader = llm.with_structured_output(GradeAnswer)\n",
    "\n",
    "# 시스템 프롬프트 정의\n",
    "system = \"\"\"You are a grader assessing whether an answer addresses / resolves a question \\n \n",
    "     Give a binary score 'yes' or 'no'. Yes' means that the answer resolves the question.\"\"\"\n",
    "\n",
    "# 프롬프트 생성\n",
    "answer_grader_prompt = ChatPromptTemplate.from_messages(\n",
    "    [\n",
    "        (\"system\", system),\n",
    "        (\"human\", \"User question: \\n\\n {question} \\n\\n LLM generation: {generation}\"),\n",
    "    ]\n",
    ")\n",
    "\n",
    "# 답변 평가기 생성\n",
    "answer_grader = answer_grader_prompt | structured_llm_grader"
   ]
  },
  {
   "cell_type": "code",
   "execution_count": 17,
   "metadata": {},
   "outputs": [
    {
     "data": {
      "text/plain": [
       "GradeAnswer(binary_score='yes')"
      ]
     },
     "execution_count": 17,
     "metadata": {},
     "output_type": "execute_result"
    }
   ],
   "source": [
    "# 답변 평가기 호출(yes: 질문을 해결함, no: 질문을 해결하지 않음)\n",
    "answer_grader.invoke({\"question\": question, \"generation\": generation})"
   ]
  },
  {
   "cell_type": "markdown",
   "metadata": {},
   "source": [
    "#### 질문 재작성기(Question Rewriter)"
   ]
  },
  {
   "cell_type": "code",
   "execution_count": 18,
   "metadata": {},
   "outputs": [],
   "source": [
    "from langchain_core.prompts import ChatPromptTemplate\n",
    "from langchain_openai import ChatOpenAI\n",
    "from langchain_core.output_parsers import StrOutputParser\n",
    "\n",
    "\n",
    "llm = ChatOpenAI(model=MODEL_NAME, temperature=0)\n",
    "\n",
    "# 시스템 프롬프트 정의\n",
    "# 입력 질문을 벡터스토어 검색에 최적화된 형태로 변환하는 시스템 역할 정의\n",
    "system = \"\"\"You a question re-writer that converts an input question to a better version that is optimized \\n \n",
    "     for vectorstore retrieval. Look at the input and try to reason about the underlying semantic intent / meaning.\"\"\"\n",
    "\n",
    "# 시스템 메시지와 초기 질문을 포함한 프롬프트 템플릿 생성\n",
    "re_write_prompt = ChatPromptTemplate.from_messages(\n",
    "    [\n",
    "        (\"system\", system),\n",
    "        (\n",
    "            \"human\",\n",
    "            \"Here is the initial question: \\n\\n {question} \\n Formulate an improved question.\",\n",
    "        ),\n",
    "    ]\n",
    ")\n",
    "\n",
    "# 질문 재작성기 생성\n",
    "question_rewriter = re_write_prompt | llm | StrOutputParser()"
   ]
  },
  {
   "cell_type": "code",
   "execution_count": 19,
   "metadata": {},
   "outputs": [
    {
     "data": {
      "text/plain": [
       "'AI의 위험 유형에 대해 자세히 설명해 주시겠습니까?'"
      ]
     },
     "execution_count": 19,
     "metadata": {},
     "output_type": "execute_result"
    }
   ],
   "source": [
    "# 질문 재작성기 호출\n",
    "question_rewriter.invoke({\"question\": question})"
   ]
  },
  {
   "cell_type": "markdown",
   "metadata": {},
   "source": [
    "### 그래프 정의\n",
    "\n",
    "#### 1. 상태 정의"
   ]
  },
  {
   "cell_type": "code",
   "execution_count": 20,
   "metadata": {},
   "outputs": [],
   "source": [
    "from typing import List\n",
    "from typing_extensions import TypedDict, Annotated\n",
    "\n",
    "\n",
    "# 그래프의 상태를 나타내는 클래스 정의\n",
    "class GraphState(TypedDict):\n",
    "    # 질문을 나타내는 문자열\n",
    "    question: Annotated[str, \"Question\"]\n",
    "    # LLM에 의해 생성된 응답을 나타내는 문자열\n",
    "    generation: Annotated[str, \"LLM Generation\"]\n",
    "    # 문서의 목록을 나타내는 문자열 리스트\n",
    "    documents: Annotated[List[str], \"Retrieved Documents\"]"
   ]
  },
  {
   "cell_type": "markdown",
   "metadata": {},
   "source": [
    "#### 2. 노드 정의"
   ]
  },
  {
   "cell_type": "code",
   "execution_count": 21,
   "metadata": {},
   "outputs": [],
   "source": [
    "# 문서 검색\n",
    "def retrieve(state):\n",
    "    question = state[\"question\"]\n",
    "\n",
    "    # 검색 수행\n",
    "    documents = pdf_retriever.invoke(question)\n",
    "    return GraphState(documents=documents)\n",
    "\n",
    "\n",
    "# 답변 생성\n",
    "def generate(state):\n",
    "    question = state[\"question\"]\n",
    "    documents = state[\"documents\"]\n",
    "\n",
    "    # RAG 생성\n",
    "    generation = rag_chain.invoke({\"context\": documents, \"question\": question})\n",
    "\n",
    "    return GraphState(generation=generation)\n",
    "\n",
    "\n",
    "# 검색된 문서의 관련성 평가\n",
    "def grade_documents(state):\n",
    "    question = state[\"question\"]\n",
    "    documents = state[\"documents\"]\n",
    "\n",
    "    # 각 문서 점수 평가\n",
    "    filtered_docs = []\n",
    "    for d in documents:\n",
    "        score = retrieval_grader.invoke(\n",
    "            {\"question\": question, \"document\": d.page_content}\n",
    "        )\n",
    "        grade = score.binary_score\n",
    "        if grade == \"yes\":\n",
    "            filtered_docs.append(d)\n",
    "        else:\n",
    "            continue\n",
    "\n",
    "    return GraphState(documents=filtered_docs)\n",
    "\n",
    "\n",
    "# 질문 변환\n",
    "def transform_query(state):\n",
    "    question = state[\"question\"]\n",
    "\n",
    "    # 질문 재작성\n",
    "    better_question = question_rewriter.invoke({\"question\": question})\n",
    "    return GraphState(question=better_question)"
   ]
  },
  {
   "cell_type": "markdown",
   "metadata": {},
   "source": [
    "#### 3. 조건부 엣지 함수 정의"
   ]
  },
  {
   "cell_type": "code",
   "execution_count": 22,
   "metadata": {},
   "outputs": [],
   "source": [
    "# 답변 생성 여부 결정\n",
    "def decide_to_generate(state):\n",
    "    state[\"question\"]\n",
    "    filtered_documents = state[\"documents\"]\n",
    "\n",
    "    if not filtered_documents:\n",
    "        # 모든 문서가 관련성이 없는 경우\n",
    "        # 새로운 쿼리 생성\n",
    "        print(\n",
    "            \"==== [DECISION: ALL DOCUMENTS ARE NOT RELEVANT TO QUESTION, TRANSFORM QUERY] ====\"\n",
    "        )\n",
    "        return \"transform_query\"\n",
    "    else:\n",
    "        # 관련 문서가 있는 경우 답변 생성\n",
    "        print(\"==== [DECISION: GENERATE] ====\")\n",
    "        return \"generate\"\n",
    "\n",
    "\n",
    "# 생성된 답변의 문서 및 질문과의 관련성 평가\n",
    "def grade_generation_v_documents_and_question(state):\n",
    "    question = state[\"question\"]\n",
    "    documents = state[\"documents\"]\n",
    "    generation = state[\"generation\"]\n",
    "\n",
    "    score = groundedness_grader.invoke(\n",
    "        {\"documents\": documents, \"generation\": generation}\n",
    "    )\n",
    "    grade = score.binary_score\n",
    "\n",
    "    # 환각 여부 확인\n",
    "    if grade == \"yes\":\n",
    "        print(\"==== [DECISION: GENERATION IS GROUNDED IN DOCUMENTS] ====\")\n",
    "        # 질문 해결 여부 확인\n",
    "        print(\"==== [GRADE GENERATION vs QUESTION] ====\")\n",
    "        score = answer_grader.invoke({\"question\": question, \"generation\": generation})\n",
    "        grade = score.binary_score\n",
    "        if grade == \"yes\":\n",
    "            print(\"==== [DECISION: GENERATION ADDRESSES QUESTION] ====\")\n",
    "            return \"relevant\"\n",
    "        else:\n",
    "            print(\"==== [DECISION: GENERATION DOES NOT ADDRESS QUESTION] ====\")\n",
    "            return \"not relevant\"\n",
    "    else:\n",
    "        print(\"==== [DECISION: GENERATION IS NOT GROUNDED IN DOCUMENTS, RE-TRY] ====\")\n",
    "        return \"hallucination\""
   ]
  },
  {
   "cell_type": "markdown",
   "metadata": {},
   "source": [
    "#### 4. 엣지 설정 및 그래프 컴파일"
   ]
  },
  {
   "cell_type": "code",
   "execution_count": 23,
   "metadata": {},
   "outputs": [],
   "source": [
    "from langgraph.graph import END, StateGraph, START\n",
    "from langgraph.checkpoint.memory import MemorySaver\n",
    "\n",
    "# 그래프 상태 초기화\n",
    "workflow = StateGraph(GraphState)\n",
    "\n",
    "# 노드 정의\n",
    "workflow.add_node(\"retrieve\", retrieve)  # retrieve\n",
    "workflow.add_node(\"grade_documents\", grade_documents)  # grade documents\n",
    "workflow.add_node(\"generate\", generate)  # generatae\n",
    "workflow.add_node(\"transform_query\", transform_query)  # transform_query\n",
    "\n",
    "# 엣지 정의\n",
    "workflow.add_edge(START, \"retrieve\")\n",
    "workflow.add_edge(\"retrieve\", \"grade_documents\")\n",
    "\n",
    "# 문서 평가 노드에서 조건부 엣지 추가\n",
    "workflow.add_conditional_edges(\n",
    "    \"grade_documents\",\n",
    "    decide_to_generate,\n",
    "    {\n",
    "        \"transform_query\": \"transform_query\",\n",
    "        \"generate\": \"generate\",\n",
    "    },\n",
    ")\n",
    "\n",
    "# 엣지 정의\n",
    "workflow.add_edge(\"transform_query\", \"retrieve\")\n",
    "\n",
    "# 답변 생성 노드에서 조건부 엣지 추가\n",
    "workflow.add_conditional_edges(\n",
    "    \"generate\",\n",
    "    grade_generation_v_documents_and_question,\n",
    "    {\n",
    "        \"hallucination\": \"generate\",\n",
    "        \"relevant\": END,\n",
    "        \"not relevant\": \"transform_query\",\n",
    "    },\n",
    ")\n",
    "\n",
    "# 그래프 컴파일\n",
    "app = workflow.compile(checkpointer=MemorySaver())"
   ]
  },
  {
   "cell_type": "markdown",
   "metadata": {},
   "source": [
    "#### 5. 그래프 시각화"
   ]
  },
  {
   "cell_type": "code",
   "execution_count": 24,
   "metadata": {},
   "outputs": [
    {
     "data": {
      "image/png": "[encoded data removed]",
      "text/plain": [
       "<IPython.core.display.Image object>"
      ]
     },
     "metadata": {},
     "output_type": "display_data"
    }
   ],
   "source": [
    "from graphs import visualize_graph\n",
    "\n",
    "visualize_graph(app)"
   ]
  },
  {
   "cell_type": "markdown",
   "metadata": {},
   "source": [
    "#### 6. 실행"
   ]
  },
  {
   "cell_type": "code",
   "execution_count": 25,
   "metadata": {},
   "outputs": [
    {
     "name": "stdout",
     "output_type": "stream",
     "text": [
      "\n",
      "==================================================\n",
      "🔄 Node: \u001b[1;36mretrieve\u001b[0m 🔄\n",
      "- - - - - - - - - - - - - - - - - - - - - - - - - \n",
      "page_content='SPRi\u0000이슈리포트IS-183 AI\u0000위험유형및사례분석\n",
      "<표 2-4> AI 위험 요인 분류 및 범위\n",
      "AI 위험 주요 자료\n",
      "요슈아 벤지오 NIST\n",
      "대분류 중분류 MIT 연구진14 Yi Zeng 외16\n",
      "외12 AI RMF13\n",
      "ㅇ 가짜 콘텐츠를 통한 개인 위해11\n",
      "● ◑ ● ●\n",
      "(사기, 피싱, 합성, 복제)\n",
      "ㅇ 허위 정보 생성11,12,13\n",
      "● ● ● ◑\n",
      "(광고, 마이크로 타게팅)\n",
      "ㅇ 사용자 설득 및 여론 조작11\n",
      "● ● ◑ ●\n",
      "악의적 사용 (대화형 AI를 통한 설득)\n",
      "위험 ㅇ 사이버 공격 및 보안11,15 ● ● ● ●' metadata={'source': './data/IS-183_AI 위험 유형 및 사례 분석(최종).pdf', 'file_path': './data/IS-183_AI 위험 유형 및 사례 분석(최종).pdf', 'page': 14, 'total_pages': 32, 'Author': 'user', 'Creator': 'Hwp 2018 10.0.0.14241', 'Producer': 'Hancom PDF 1.3.0.547', 'CreationDate': \"D:20241106094709+09'00'\", 'ModDate': \"D:20241106094709+09'00'\", 'PDFVersion': '1.4'}\n",
      "page_content='위험이 존재하나, 기존의 기술 도구로는 의미 있는 보호가 어려운 상황\n",
      "<표 2-1> 요슈아 벤지오 연구팀의 AI 위험 분류 및 주요 내용\n",
      "대분류 중분류 주요 내용\n",
      "-강화된 피싱 등의 공격을 통한 사기\n",
      "가짜 콘텐츠를 통한 개인에 대한 피해\n",
      "-개인 동의 없는 가짜 콘텐츠 생성\n",
      "악의적 사용 위험 허위 정보 및 여론 조작 -허위 정보 생성 및 전파\n",
      "(Malicious use -전문지식 제공을 통한 사이버 공격 지원\n",
      "사이버 공격\n",
      "risks) -사이버보안 작업 자동화 가능성에 따른 위험\n",
      "-생물학, 화학, 방사능 및 핵 무기 분야' metadata={'source': './data/IS-183_AI 위험 유형 및 사례 분석(최종).pdf', 'file_path': './data/IS-183_AI 위험 유형 및 사례 분석(최종).pdf', 'page': 10, 'total_pages': 32, 'Author': 'user', 'Creator': 'Hwp 2018 10.0.0.14241', 'Producer': 'Hancom PDF 1.3.0.547', 'CreationDate': \"D:20241106094709+09'00'\", 'ModDate': \"D:20241106094709+09'00'\", 'PDFVersion': '1.4'}\n",
      "page_content='SPRi\u0000이슈리포트IS-183 AI\u0000위험유형및사례분석\n",
      "■ 결과적으로 모든 제시되고 있는 위험 요인을 포함한 자료는 부재한 상태이고,\u0000광의의 AI\u0000\n",
      "안전범위에서사회적영향과관련된위험요인들에대한추가적인연구가필요\n",
      "● 선제적인 연구인 요슈아 벤지오 연구팀의 위험 분류 체계를 기준으로 <표 2-5>과 같이 주요\n",
      "자료들에서 제시하고 있는 AI 위험 요인에 대한 분류와 고려 범위를 비교·분석하여 도출\n",
      "∙ 요슈아 벤지오 연구팀의 분류에서 정의되어 있지 않은 위험 요인은 추가하고, 각 자료에서 특정 위험에 대해' metadata={'source': './data/IS-183_AI 위험 유형 및 사례 분석(최종).pdf', 'file_path': './data/IS-183_AI 위험 유형 및 사례 분석(최종).pdf', 'page': 13, 'total_pages': 32, 'Author': 'user', 'Creator': 'Hwp 2018 10.0.0.14241', 'Producer': 'Hancom PDF 1.3.0.547', 'CreationDate': \"D:20241106094709+09'00'\", 'ModDate': \"D:20241106094709+09'00'\", 'PDFVersion': '1.4'}\n",
      "page_content='SPRi\u0000이슈리포트IS-183 AI\u0000위험유형및사례분석\n",
      "■ 현재의연구들은 다양한관점과범위에따라AI\u0000위험요인을정의하고 있어,\u0000본장에서는\n",
      "네가지주요연구자료에서제시하고있는위험과위험요인들을비교하고분석을수행\n",
      "● 현재 논의되고 있는 AI 위험 요인들은 다양한 기준에 의해 수집 및 분류되어 제시되고 있어, AI\n",
      "위험에 관한 포괄적 분류체계 마련을 위해 비교·분석이 필요\n",
      "∙ AI 위험 요인들은 유사하지만 다양한 정의와 분류에 따라 혼재하고 있고, 각 위험 요인의 대응 방안에 관한' metadata={'source': './data/IS-183_AI 위험 유형 및 사례 분석(최종).pdf', 'file_path': './data/IS-183_AI 위험 유형 및 사례 분석(최종).pdf', 'page': 9, 'total_pages': 32, 'Author': 'user', 'Creator': 'Hwp 2018 10.0.0.14241', 'Producer': 'Hancom PDF 1.3.0.547', 'CreationDate': \"D:20241106094709+09'00'\", 'ModDate': \"D:20241106094709+09'00'\", 'PDFVersion': '1.4'}\n",
      "page_content='문서 총 16건을 분석하여 AI 위험 요소의 고려 범위를 비교\n",
      "<표 2-3> 중국 연구진의 AI 위험에 관한 세부 분류\n",
      "대분류(Level 1) 중분류(Level 2) 세분류(Level 3)\n",
      "보안 위험 기밀성, 무결성, 사용가능성\n",
      "시스템 및 작동\n",
      "자동화된 의사결정, 시스템의 자동적인 불안전 작동, 엄격한\n",
      "위험 작동상의 오용\n",
      "규제를 받는 산업 분야에서의 조언\n",
      "악의적 조직 지원, 고통 축하, 폭력행위, 폭력 묘사, 무기 사\n",
      "폭력 및 극단주의\n",
      "용 및 개발, 군사 및 전쟁' metadata={'source': './data/IS-183_AI 위험 유형 및 사례 분석(최종).pdf', 'file_path': './data/IS-183_AI 위험 유형 및 사례 분석(최종).pdf', 'page': 12, 'total_pages': 32, 'Author': 'user', 'Creator': 'Hwp 2018 10.0.0.14241', 'Producer': 'Hancom PDF 1.3.0.547', 'CreationDate': \"D:20241106094709+09'00'\", 'ModDate': \"D:20241106094709+09'00'\", 'PDFVersion': '1.4'}\n",
      "page_content='SPRi\u0000이슈리포트IS-183 AI\u0000위험유형및사례분석\n",
      "3.4\u0000교차(cross-cutting)\u0000위험 요인\n",
      "■(기술적위험요인)\u0000범용AI의위험을유발하는주요기술적요인을7가지로구분\n",
      "<표 3-4> 7가지 기술적 위험 요인\n",
      "구분 내용\n",
      "범용 AI 시스템은 다양한 방식과 컨텍스트로 적용될 수 있어, 모든 사용 사례에\n",
      "신뢰성 검증 및 보장\n",
      "대한 안전성 확보가 어려움\n",
      "개발자가 모델 및 시스템이 특정 목표를 달성하기 위해 내부적으로 작동되는 방\n",
      "내부 작동방식 이해 부족\n",
      "식에 대해 이해가 부족' metadata={'source': './data/IS-183_AI 위험 유형 및 사례 분석(최종).pdf', 'file_path': './data/IS-183_AI 위험 유형 및 사례 분석(최종).pdf', 'page': 24, 'total_pages': 32, 'Author': 'user', 'Creator': 'Hwp 2018 10.0.0.14241', 'Producer': 'Hancom PDF 1.3.0.547', 'CreationDate': \"D:20241106094709+09'00'\", 'ModDate': \"D:20241106094709+09'00'\", 'PDFVersion': '1.4'}\n",
      "page_content='Ⅲ. AI 위험별 사례 분석 ·······························································11\n",
      "3.1 악의적 사용 위험 ·····························································11\n",
      "3.2 오작동 위험 ······································································14' metadata={'source': './data/IS-183_AI 위험 유형 및 사례 분석(최종).pdf', 'file_path': './data/IS-183_AI 위험 유형 및 사례 분석(최종).pdf', 'page': 2, 'total_pages': 32, 'Author': 'user', 'Creator': 'Hwp 2018 10.0.0.14241', 'Producer': 'Hancom PDF 1.3.0.547', 'CreationDate': \"D:20241106094709+09'00'\", 'ModDate': \"D:20241106094709+09'00'\", 'PDFVersion': '1.4'}\n",
      "page_content='상황으로 명확한 가이드라인 제시를 위한 기준 마련이 필요\n",
      "∙ 위험 요인들이 다양하게 식별되어 분류가 제시되고 있으나 합의된 체계는 없으며, 표준의 관점에서는 AI\n",
      "안전 측정 및 평가에 초점을 맞추고 있어 모든 위험 요인을 다루기에는 한계가 존재\n",
      "● 이는 AI 안전성에 관한 초기 개념이 최근 변화하였으나 합의된 정의가 없는 것과 유사한 맥락으로,\n",
      "기술적 접근 외에 사람의 의도에 의해 발생하는 위험과 피해, 국가 간 기술 격차, 지역적 불평등\n",
      "등으로 인해 AI 기술이 야기할 수 있는 위험이 논의 되어야 함을 시사' metadata={'source': './data/IS-183_AI 위험 유형 및 사례 분석(최종).pdf', 'file_path': './data/IS-183_AI 위험 유형 및 사례 분석(최종).pdf', 'page': 26, 'total_pages': 32, 'Author': 'user', 'Creator': 'Hwp 2018 10.0.0.14241', 'Producer': 'Hancom PDF 1.3.0.547', 'CreationDate': \"D:20241106094709+09'00'\", 'ModDate': \"D:20241106094709+09'00'\", 'PDFVersion': '1.4'}\n",
      "page_content='● 도메인별 분류에서는 AI 위험 도메인을 7가지로 정의하고, 총 23개의 세부 위험 요인으로 구분\n",
      "∙ (차별 및 독성 ) △ 불공정한 차별 및 허위 진술, △ 독성 콘텐츠에 대한 노출, △ 그룹 간 성능의 차이\n",
      "∙ (개인정보 보호 및 보안) △ 민감한 정보의 획득·유출·추론을 통한 프라이버시 침해, △ AI 시스템 보안 취약점 및 공격' metadata={'source': './data/IS-183_AI 위험 유형 및 사례 분석(최종).pdf', 'file_path': './data/IS-183_AI 위험 유형 및 사례 분석(최종).pdf', 'page': 11, 'total_pages': 32, 'Author': 'user', 'Creator': 'Hwp 2018 10.0.0.14241', 'Producer': 'Hancom PDF 1.3.0.547', 'CreationDate': \"D:20241106094709+09'00'\", 'ModDate': \"D:20241106094709+09'00'\", 'PDFVersion': '1.4'}\n",
      "page_content='SPRi\u0000이슈리포트IS-183 AI\u0000위험유형및사례분석\n",
      "CONTENT\n",
      "Ⅰ. 배경 ·····························································································1\n",
      "Ⅱ. AI 안전과 위험 유형 ·································································4' metadata={'source': './data/IS-183_AI 위험 유형 및 사례 분석(최종).pdf', 'file_path': './data/IS-183_AI 위험 유형 및 사례 분석(최종).pdf', 'page': 2, 'total_pages': 32, 'Author': 'user', 'Creator': 'Hwp 2018 10.0.0.14241', 'Producer': 'Hancom PDF 1.3.0.547', 'CreationDate': \"D:20241106094709+09'00'\", 'ModDate': \"D:20241106094709+09'00'\", 'PDFVersion': '1.4'}\n",
      "==================================================\n",
      "==== [DECISION: GENERATE] ====\n",
      "\n",
      "==================================================\n",
      "🔄 Node: \u001b[1;36mgrade_documents\u001b[0m 🔄\n",
      "- - - - - - - - - - - - - - - - - - - - - - - - - \n",
      "page_content='SPRi\u0000이슈리포트IS-183 AI\u0000위험유형및사례분석\n",
      "<표 2-4> AI 위험 요인 분류 및 범위\n",
      "AI 위험 주요 자료\n",
      "요슈아 벤지오 NIST\n",
      "대분류 중분류 MIT 연구진14 Yi Zeng 외16\n",
      "외12 AI RMF13\n",
      "ㅇ 가짜 콘텐츠를 통한 개인 위해11\n",
      "● ◑ ● ●\n",
      "(사기, 피싱, 합성, 복제)\n",
      "ㅇ 허위 정보 생성11,12,13\n",
      "● ● ● ◑\n",
      "(광고, 마이크로 타게팅)\n",
      "ㅇ 사용자 설득 및 여론 조작11\n",
      "● ● ◑ ●\n",
      "악의적 사용 (대화형 AI를 통한 설득)\n",
      "위험 ㅇ 사이버 공격 및 보안11,15 ● ● ● ●' metadata={'source': './data/IS-183_AI 위험 유형 및 사례 분석(최종).pdf', 'file_path': './data/IS-183_AI 위험 유형 및 사례 분석(최종).pdf', 'page': 14, 'total_pages': 32, 'Author': 'user', 'Creator': 'Hwp 2018 10.0.0.14241', 'Producer': 'Hancom PDF 1.3.0.547', 'CreationDate': \"D:20241106094709+09'00'\", 'ModDate': \"D:20241106094709+09'00'\", 'PDFVersion': '1.4'}\n",
      "page_content='위험이 존재하나, 기존의 기술 도구로는 의미 있는 보호가 어려운 상황\n",
      "<표 2-1> 요슈아 벤지오 연구팀의 AI 위험 분류 및 주요 내용\n",
      "대분류 중분류 주요 내용\n",
      "-강화된 피싱 등의 공격을 통한 사기\n",
      "가짜 콘텐츠를 통한 개인에 대한 피해\n",
      "-개인 동의 없는 가짜 콘텐츠 생성\n",
      "악의적 사용 위험 허위 정보 및 여론 조작 -허위 정보 생성 및 전파\n",
      "(Malicious use -전문지식 제공을 통한 사이버 공격 지원\n",
      "사이버 공격\n",
      "risks) -사이버보안 작업 자동화 가능성에 따른 위험\n",
      "-생물학, 화학, 방사능 및 핵 무기 분야' metadata={'source': './data/IS-183_AI 위험 유형 및 사례 분석(최종).pdf', 'file_path': './data/IS-183_AI 위험 유형 및 사례 분석(최종).pdf', 'page': 10, 'total_pages': 32, 'Author': 'user', 'Creator': 'Hwp 2018 10.0.0.14241', 'Producer': 'Hancom PDF 1.3.0.547', 'CreationDate': \"D:20241106094709+09'00'\", 'ModDate': \"D:20241106094709+09'00'\", 'PDFVersion': '1.4'}\n",
      "page_content='SPRi\u0000이슈리포트IS-183 AI\u0000위험유형및사례분석\n",
      "■ 결과적으로 모든 제시되고 있는 위험 요인을 포함한 자료는 부재한 상태이고,\u0000광의의 AI\u0000\n",
      "안전범위에서사회적영향과관련된위험요인들에대한추가적인연구가필요\n",
      "● 선제적인 연구인 요슈아 벤지오 연구팀의 위험 분류 체계를 기준으로 <표 2-5>과 같이 주요\n",
      "자료들에서 제시하고 있는 AI 위험 요인에 대한 분류와 고려 범위를 비교·분석하여 도출\n",
      "∙ 요슈아 벤지오 연구팀의 분류에서 정의되어 있지 않은 위험 요인은 추가하고, 각 자료에서 특정 위험에 대해' metadata={'source': './data/IS-183_AI 위험 유형 및 사례 분석(최종).pdf', 'file_path': './data/IS-183_AI 위험 유형 및 사례 분석(최종).pdf', 'page': 13, 'total_pages': 32, 'Author': 'user', 'Creator': 'Hwp 2018 10.0.0.14241', 'Producer': 'Hancom PDF 1.3.0.547', 'CreationDate': \"D:20241106094709+09'00'\", 'ModDate': \"D:20241106094709+09'00'\", 'PDFVersion': '1.4'}\n",
      "page_content='SPRi\u0000이슈리포트IS-183 AI\u0000위험유형및사례분석\n",
      "■ 현재의연구들은 다양한관점과범위에따라AI\u0000위험요인을정의하고 있어,\u0000본장에서는\n",
      "네가지주요연구자료에서제시하고있는위험과위험요인들을비교하고분석을수행\n",
      "● 현재 논의되고 있는 AI 위험 요인들은 다양한 기준에 의해 수집 및 분류되어 제시되고 있어, AI\n",
      "위험에 관한 포괄적 분류체계 마련을 위해 비교·분석이 필요\n",
      "∙ AI 위험 요인들은 유사하지만 다양한 정의와 분류에 따라 혼재하고 있고, 각 위험 요인의 대응 방안에 관한' metadata={'source': './data/IS-183_AI 위험 유형 및 사례 분석(최종).pdf', 'file_path': './data/IS-183_AI 위험 유형 및 사례 분석(최종).pdf', 'page': 9, 'total_pages': 32, 'Author': 'user', 'Creator': 'Hwp 2018 10.0.0.14241', 'Producer': 'Hancom PDF 1.3.0.547', 'CreationDate': \"D:20241106094709+09'00'\", 'ModDate': \"D:20241106094709+09'00'\", 'PDFVersion': '1.4'}\n",
      "page_content='문서 총 16건을 분석하여 AI 위험 요소의 고려 범위를 비교\n",
      "<표 2-3> 중국 연구진의 AI 위험에 관한 세부 분류\n",
      "대분류(Level 1) 중분류(Level 2) 세분류(Level 3)\n",
      "보안 위험 기밀성, 무결성, 사용가능성\n",
      "시스템 및 작동\n",
      "자동화된 의사결정, 시스템의 자동적인 불안전 작동, 엄격한\n",
      "위험 작동상의 오용\n",
      "규제를 받는 산업 분야에서의 조언\n",
      "악의적 조직 지원, 고통 축하, 폭력행위, 폭력 묘사, 무기 사\n",
      "폭력 및 극단주의\n",
      "용 및 개발, 군사 및 전쟁' metadata={'source': './data/IS-183_AI 위험 유형 및 사례 분석(최종).pdf', 'file_path': './data/IS-183_AI 위험 유형 및 사례 분석(최종).pdf', 'page': 12, 'total_pages': 32, 'Author': 'user', 'Creator': 'Hwp 2018 10.0.0.14241', 'Producer': 'Hancom PDF 1.3.0.547', 'CreationDate': \"D:20241106094709+09'00'\", 'ModDate': \"D:20241106094709+09'00'\", 'PDFVersion': '1.4'}\n",
      "page_content='SPRi\u0000이슈리포트IS-183 AI\u0000위험유형및사례분석\n",
      "3.4\u0000교차(cross-cutting)\u0000위험 요인\n",
      "■(기술적위험요인)\u0000범용AI의위험을유발하는주요기술적요인을7가지로구분\n",
      "<표 3-4> 7가지 기술적 위험 요인\n",
      "구분 내용\n",
      "범용 AI 시스템은 다양한 방식과 컨텍스트로 적용될 수 있어, 모든 사용 사례에\n",
      "신뢰성 검증 및 보장\n",
      "대한 안전성 확보가 어려움\n",
      "개발자가 모델 및 시스템이 특정 목표를 달성하기 위해 내부적으로 작동되는 방\n",
      "내부 작동방식 이해 부족\n",
      "식에 대해 이해가 부족' metadata={'source': './data/IS-183_AI 위험 유형 및 사례 분석(최종).pdf', 'file_path': './data/IS-183_AI 위험 유형 및 사례 분석(최종).pdf', 'page': 24, 'total_pages': 32, 'Author': 'user', 'Creator': 'Hwp 2018 10.0.0.14241', 'Producer': 'Hancom PDF 1.3.0.547', 'CreationDate': \"D:20241106094709+09'00'\", 'ModDate': \"D:20241106094709+09'00'\", 'PDFVersion': '1.4'}\n",
      "page_content='Ⅲ. AI 위험별 사례 분석 ·······························································11\n",
      "3.1 악의적 사용 위험 ·····························································11\n",
      "3.2 오작동 위험 ······································································14' metadata={'source': './data/IS-183_AI 위험 유형 및 사례 분석(최종).pdf', 'file_path': './data/IS-183_AI 위험 유형 및 사례 분석(최종).pdf', 'page': 2, 'total_pages': 32, 'Author': 'user', 'Creator': 'Hwp 2018 10.0.0.14241', 'Producer': 'Hancom PDF 1.3.0.547', 'CreationDate': \"D:20241106094709+09'00'\", 'ModDate': \"D:20241106094709+09'00'\", 'PDFVersion': '1.4'}\n",
      "page_content='상황으로 명확한 가이드라인 제시를 위한 기준 마련이 필요\n",
      "∙ 위험 요인들이 다양하게 식별되어 분류가 제시되고 있으나 합의된 체계는 없으며, 표준의 관점에서는 AI\n",
      "안전 측정 및 평가에 초점을 맞추고 있어 모든 위험 요인을 다루기에는 한계가 존재\n",
      "● 이는 AI 안전성에 관한 초기 개념이 최근 변화하였으나 합의된 정의가 없는 것과 유사한 맥락으로,\n",
      "기술적 접근 외에 사람의 의도에 의해 발생하는 위험과 피해, 국가 간 기술 격차, 지역적 불평등\n",
      "등으로 인해 AI 기술이 야기할 수 있는 위험이 논의 되어야 함을 시사' metadata={'source': './data/IS-183_AI 위험 유형 및 사례 분석(최종).pdf', 'file_path': './data/IS-183_AI 위험 유형 및 사례 분석(최종).pdf', 'page': 26, 'total_pages': 32, 'Author': 'user', 'Creator': 'Hwp 2018 10.0.0.14241', 'Producer': 'Hancom PDF 1.3.0.547', 'CreationDate': \"D:20241106094709+09'00'\", 'ModDate': \"D:20241106094709+09'00'\", 'PDFVersion': '1.4'}\n",
      "page_content='● 도메인별 분류에서는 AI 위험 도메인을 7가지로 정의하고, 총 23개의 세부 위험 요인으로 구분\n",
      "∙ (차별 및 독성 ) △ 불공정한 차별 및 허위 진술, △ 독성 콘텐츠에 대한 노출, △ 그룹 간 성능의 차이\n",
      "∙ (개인정보 보호 및 보안) △ 민감한 정보의 획득·유출·추론을 통한 프라이버시 침해, △ AI 시스템 보안 취약점 및 공격' metadata={'source': './data/IS-183_AI 위험 유형 및 사례 분석(최종).pdf', 'file_path': './data/IS-183_AI 위험 유형 및 사례 분석(최종).pdf', 'page': 11, 'total_pages': 32, 'Author': 'user', 'Creator': 'Hwp 2018 10.0.0.14241', 'Producer': 'Hancom PDF 1.3.0.547', 'CreationDate': \"D:20241106094709+09'00'\", 'ModDate': \"D:20241106094709+09'00'\", 'PDFVersion': '1.4'}\n",
      "page_content='SPRi\u0000이슈리포트IS-183 AI\u0000위험유형및사례분석\n",
      "CONTENT\n",
      "Ⅰ. 배경 ·····························································································1\n",
      "Ⅱ. AI 안전과 위험 유형 ·································································4' metadata={'source': './data/IS-183_AI 위험 유형 및 사례 분석(최종).pdf', 'file_path': './data/IS-183_AI 위험 유형 및 사례 분석(최종).pdf', 'page': 2, 'total_pages': 32, 'Author': 'user', 'Creator': 'Hwp 2018 10.0.0.14241', 'Producer': 'Hancom PDF 1.3.0.547', 'CreationDate': \"D:20241106094709+09'00'\", 'ModDate': \"D:20241106094709+09'00'\", 'PDFVersion': '1.4'}\n",
      "==================================================\n",
      "==== [DECISION: GENERATION IS GROUNDED IN DOCUMENTS] ====\n",
      "==== [GRADE GENERATION vs QUESTION] ====\n",
      "==== [DECISION: GENERATION ADDRESSES QUESTION] ====\n",
      "\n",
      "==================================================\n",
      "🔄 Node: \u001b[1;36mgenerate\u001b[0m 🔄\n",
      "- - - - - - - - - - - - - - - - - - - - - - - - - \n",
      "\u001b[94mgeneration\u001b[0m:\n",
      "AI 위험 유형은 다음과 같습니다:\n",
      "\n",
      "1. 가짜 콘텐츠를 통한 개인 위해 (사기, 피싱, 합성, 복제)\n",
      "2. 허위 정보 생성 (광고, 마이크로 타게팅)\n",
      "3. 사용자 설득 및 여론 조작 (악의적 사용)\n",
      "4. 사이버 공격 및 보안 위험\n",
      "\n",
      "**Source**\n",
      "- ./data/IS-183_AI 위험 유형 및 사례 분석(최종).pdf (page 14)\n",
      "==================================================\n"
     ]
    }
   ],
   "source": [
    "from langchain_core.runnables import RunnableConfig\n",
    "from langchain_print import stream_graph, invoke_graph, random_uuid\n",
    "\n",
    "# config 설정(재귀 최대 횟수, thread_id)\n",
    "config = RunnableConfig(recursion_limit=10, configurable={\"thread_id\": random_uuid()})\n",
    "\n",
    "# 질문 입력\n",
    "inputs = {\n",
    "    \"question\": \"AI 위험 유형은?\",\n",
    "}\n",
    "\n",
    "# 그래프 실행\n",
    "invoke_graph(\n",
    "    app, inputs, config, [\"retrieve\", \"transform_query\", \"grade_documents\", \"generate\"]\n",
    ")"
   ]
  },
  {
   "cell_type": "markdown",
   "metadata": {},
   "source": [
    "재귀에 빠질 수 있는 경우에는 `GraphRecursionError` 처리를 꼭 해주어 루프를 빠져나올 수 있어야 합니다."
   ]
  },
  {
   "cell_type": "code",
   "execution_count": 27,
   "metadata": {},
   "outputs": [
    {
     "name": "stdout",
     "output_type": "stream",
     "text": [
      "\n",
      "==================================================\n",
      "🔄 Node: \u001b[1;36mgrade_documents\u001b[0m 🔄\n",
      "- - - - - - - - - - - - - - - - - - - - - - - - - \n",
      "==== [DECISION: ALL DOCUMENTS ARE NOT RELEVANT TO QUESTION, TRANSFORM QUERY] ====\n",
      "\n",
      "==================================================\n",
      "🔄 Node: \u001b[1;36mtransform_query\u001b[0m 🔄\n",
      "- - - - - - - - - - - - - - - - - - - - - - - - - \n",
      "JUNE이 개발한 생성형 AI의 정확한 이름은 무엇인가요?\n",
      "==================================================\n",
      "🔄 Node: \u001b[1;36mgrade_documents\u001b[0m 🔄\n",
      "- - - - - - - - - - - - - - - - - - - - - - - - - \n",
      "==== [DECISION: ALL DOCUMENTS ARE NOT RELEVANT TO QUESTION, TRANSFORM QUERY] ====\n",
      "\n",
      "==================================================\n",
      "🔄 Node: \u001b[1;36mtransform_query\u001b[0m 🔄\n",
      "- - - - - - - - - - - - - - - - - - - - - - - - - \n",
      "JUNE이 개발한 생성형 AI의 공식 명칭은 무엇인가요?\n",
      "==================================================\n",
      "🔄 Node: \u001b[1;36mgrade_documents\u001b[0m 🔄\n",
      "- - - - - - - - - - - - - - - - - - - - - - - - - \n",
      "==== [DECISION: ALL DOCUMENTS ARE NOT RELEVANT TO QUESTION, TRANSFORM QUERY] ====\n",
      "\n",
      "==================================================\n",
      "🔄 Node: \u001b[1;36mtransform_query\u001b[0m 🔄\n",
      "- - - - - - - - - - - - - - - - - - - - - - - - - \n",
      "JUNE이 개발한 생성형 AI의 공식 명칭은 무엇인지 알려주세요.GraphRecursionError: Recursion limit of 10 reached without hitting a stop condition. You can increase the limit by setting the `recursion_limit` config key.\n",
      "For troubleshooting, visit: https://python.langchain.com/docs/troubleshooting/errors/GRAPH_RECURSION_LIMIT\n"
     ]
    }
   ],
   "source": [
    "from langgraph.errors import GraphRecursionError\n",
    "\n",
    "# config 설정(재귀 최대 횟수, thread_id)\n",
    "config = RunnableConfig(recursion_limit=10, configurable={\"thread_id\": random_uuid()})\n",
    "\n",
    "# 질문 입력\n",
    "inputs = {\n",
    "    \"question\": \"JUNE이 개발한 생성형 AI 의 이름은?\",\n",
    "}\n",
    "\n",
    "try:\n",
    "    # 그래프 실행\n",
    "    stream_graph(\n",
    "        app,\n",
    "        inputs,\n",
    "        config,\n",
    "        [\"retrieve\", \"transform_query\", \"grade_documents\", \"generate\"],\n",
    "    )\n",
    "except GraphRecursionError as recursion_error:\n",
    "    print(f\"GraphRecursionError: {recursion_error}\")"
   ]
  }
 ],
 "metadata": {
  "kernelspec": {
   "display_name": "langchain-note-2024-PFhCXHTX-py3.12",
   "language": "python",
   "name": "python3"
  },
  "language_info": {
   "codemirror_mode": {
    "name": "ipython",
    "version": 3
   },
   "file_extension": ".py",
   "mimetype": "text/x-python",
   "name": "python",
   "nbconvert_exporter": "python",
   "pygments_lexer": "ipython3",
   "version": "3.12.7"
  }
 },
 "nbformat": 4,
 "nbformat_minor": 2
}
