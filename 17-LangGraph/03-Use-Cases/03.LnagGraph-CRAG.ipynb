{
 "cells": [
  {
   "cell_type": "code",
   "execution_count": 1,
   "metadata": {},
   "outputs": [
    {
     "data": {
      "text/plain": [
       "True"
      ]
     },
     "execution_count": 1,
     "metadata": {},
     "output_type": "execute_result"
    }
   ],
   "source": [
    "from dotenv import load_dotenv\n",
    "import sys\n",
    "\n",
    "sys.path.append(\"../../common\")\n",
    "load_dotenv()"
   ]
  },
  {
   "cell_type": "code",
   "execution_count": 2,
   "metadata": {},
   "outputs": [
    {
     "name": "stdout",
     "output_type": "stream",
     "text": [
      "Langsmith 추적이 활성화되었습니다. [프로젝트명: 17.LangGraph-Use-Case]\n"
     ]
    }
   ],
   "source": [
    "import os\n",
    "from langsmith_tracker import set_tracking\n",
    "\n",
    "# 인스턴스를 생성할 때 필요한 매개변수를 전달합니다.\n",
    "set_tracking(project_name=\"17.LangGraph-Use-Case\")"
   ]
  },
  {
   "cell_type": "markdown",
   "metadata": {},
   "source": [
    "## CRAG: Corrective RAG\n",
    "\n",
    "Corrective RAG 전략을 사용하여 RAG 기반 시스템을 개선하는 방법입니다.  \n",
    "  \n",
    "CRAG는 검색된 문서들에 대한 자기 반성(self-reflection) 및 자기 평가(self-evaluation) 단계를 포함하여, 검색-생성 파이프라인을 정교하게 다루는 접근법입니다."
   ]
  },
  {
   "cell_type": "markdown",
   "metadata": {},
   "source": [
    "##### 그래프 흐름\n",
    "\n",
    "![crag](./assets/langgraph_use_case_crag.png)"
   ]
  },
  {
   "cell_type": "markdown",
   "metadata": {},
   "source": [
    "#### CRAG 란?\n",
    "\n",
    "[LangGraph CRAG 튜토리얼 (공식 문서)](https://langchain-ai.github.io/langgraph/tutorials/rag/langgraph_crag_local/)\n",
    "\n",
    "Corrective-RAG (CRAG) 는 RAG(Retrieval Augmented Generation) 전략에서 **검색 과정에서 찾아온 문서를 평가하고, 지식을 정제(refine) 하는 단계를 추가한 방법론**입니다. 생성에 앞서 검색 결과를 점검하고 필요하다면 보조적인 검색을 수행하며, 최종적으로 품질 높은 답변을 생성하기 위한 일련의 프로세스를 포함합니다.  \n",
    "  \n",
    "##### CRAG의 핵심 아이디어\n",
    "\n",
    "[논문(Corrective Retrieval Augmented Generation) 링크](https://arxiv.org/pdf/2401.15884)\n",
    "\n",
    "1. 검색된 문서 중 하나 이상이 사전 정의된 관련성 임계값(retrieval validation score) 을 초과하면 생성 단계로 진행합니다.\n",
    "2. 생성 전에 지식 정제 단계를 수행합니다.\n",
    "3. 문서를 \"knowledge strips\" 로 세분화합니다. (여기서, 문서 검색 결과수, k 를 의미합니다.)\n",
    "4. 각 지식 스트립을 평가하고 관련성 여부를 score 로 평가합니다. (여기서는 문서 chunk 단위로 평가합니다.)\n",
    "5. 모든 문서가 관련성 임계값 이하이거나 평가 결과 신뢰도가 낮을 경우, 추가 데이터 소스(예: 웹 검색)로 보강합니다.\n",
    "6. 웹 검색을 통한 보강 시, 쿼리 재작성(Query-Rewrite) 을 통해 검색 결과를 최적화합니다.\n",
    "\n",
    "##### 이번 실습 주요 내용\n",
    "  \n",
    "이 튜토리얼에서는 LangGraph를 활용하여 CRAG 접근법의 일부 아이디어를 구현합니다.  \n",
    "여기서는 지식 정제 단계는 생략하고, 필요하다면 노드로 추가할 수 있는 형태로 설계합니다.\n",
    "또한, 관련 있는 문서가 하나도 없으면 웹 검색을 활용하여 검색을 보완할 것입니다.\n",
    "웹 검색에는 Tavily Search를 사용하고, 검색 최적화를 위해 질문 재작성(Question Re-writing) 을 도입합니다.\n",
    "  \n",
    "\n",
    "##### 주요 단계 개요\n",
    "\n",
    "- Retrieval Grader: 검색된 문서의 관련성을 평가\n",
    "- Generate: LLM을 통한 답변 생성\n",
    "- Question Re-writer: 질문 재작성을 통한 검색 질의 최적화\n",
    "- Web Search Tool: Tavily Search를 통한 웹 검색 활용\n",
    "- Create Graph: LangGraph를 통한 CRAG 전략 그래프 생성\n",
    "- Use the graph: 생성된 그래프를 활용하는 방법"
   ]
  },
  {
   "cell_type": "markdown",
   "metadata": {},
   "source": [
    "### 기능 구현\n",
    "\n",
    "#### PDF 기반 Retrieval Chain 생성"
   ]
  },
  {
   "cell_type": "code",
   "execution_count": 3,
   "metadata": {},
   "outputs": [],
   "source": [
    "from rag.pdf import PDFRetrievalChain\n",
    "\n",
    "# PDF 문서 검색 체인 생성, 체인 안에는 llm 이 포함되어 있음\n",
    "pdf = PDFRetrievalChain(\n",
    "    source_uri=[\"./data/IS-183_AI 위험 유형 및 사례 분석(최종).pdf\"]\n",
    ").create_chain()\n",
    "\n",
    "pdf_retriever = pdf.retriever\n",
    "pdf_chain = pdf.chain"
   ]
  },
  {
   "cell_type": "markdown",
   "metadata": {},
   "source": [
    "#### 검색 문서의 관련성 평가 (Question-Retrieval Evaluation)"
   ]
  },
  {
   "cell_type": "code",
   "execution_count": 6,
   "metadata": {},
   "outputs": [],
   "source": [
    "from langchain_core.prompts import ChatPromptTemplate\n",
    "from langchain_openai import ChatOpenAI\n",
    "from models import get_model_name, LLMs\n",
    "from pydantic import BaseModel, Field\n",
    "\n",
    "# 모델 이름 가져오기\n",
    "MODEL_NAME = get_model_name(LLMs.GPT4)\n",
    "\n",
    "\n",
    "# 검색된 문서의 관련성 여부를 이진 점수로 평가하는 데이터 모델\n",
    "class GradeDocuments(BaseModel):\n",
    "    \"\"\"A binary score to determine the relevance of the retrieved document.\"\"\"\n",
    "\n",
    "    # 문서가 질문과 관련이 있는지 여부를 'yes' 또는 'no'로 나타내는 필드\n",
    "    binary_score: str = Field(\n",
    "        description=\"Documents are relevant to the question, 'yes' or 'no'\"\n",
    "    )\n",
    "\n",
    "\n",
    "# LLM 초기화\n",
    "llm = ChatOpenAI(model=MODEL_NAME, temperature=0)\n",
    "\n",
    "# GradeDocuments 데이터 모델을 사용하여 구조화된 출력을 생성하는 LLM\n",
    "structured_llm_grader = llm.with_structured_output(GradeDocuments)\n",
    "\n",
    "# 시스템 프롬프트 정의\n",
    "system = \"\"\"You are a grader assessing relevance of a retrieved document to a user question. \\n \n",
    "    If the document contains keyword(s) or semantic meaning related to the question, grade it as relevant. \\n\n",
    "    Give a binary score 'yes' or 'no' score to indicate whether the document is relevant to the question.\"\"\"\n",
    "\n",
    "# 채팅 프롬프트 템플릿 생성\n",
    "grade_prompt = ChatPromptTemplate.from_messages(\n",
    "    [\n",
    "        (\"system\", system),\n",
    "        (\"human\", \"Retrieved document: \\n\\n {document} \\n\\n User question: {question}\"),\n",
    "    ]\n",
    ")\n",
    "\n",
    "# Retrieval 평가기 초기화\n",
    "retrieval_grader = grade_prompt | structured_llm_grader"
   ]
  },
  {
   "cell_type": "markdown",
   "metadata": {},
   "source": [
    "`retrieval_grader`를 사용하여 질문이 이 문서와 관련이 있는지 없는지를 평가합니다.  \n",
    "한 개의 문서에 대한 평가를 수행합니다.  \n",
    "결과는 단일 무서에 대한 관련성 여부가 yes or no 로 반환됩니다."
   ]
  },
  {
   "cell_type": "code",
   "execution_count": 7,
   "metadata": {},
   "outputs": [
    {
     "name": "stdout",
     "output_type": "stream",
     "text": [
      "binary_score='yes'\n"
     ]
    }
   ],
   "source": [
    "# 질문 정의\n",
    "question = \"AI 위험 유형에 대해 설명하세요.\"\n",
    "\n",
    "# 문서 검색\n",
    "docs = pdf_retriever.invoke(question)\n",
    "\n",
    "# 검색된 문서 중 1번 index 문서의 페이지 내용을 추출\n",
    "doc_txt = docs[1].page_content\n",
    "\n",
    "# 검색된 문서와 질문을 사용하여 관련성 평가를 실행하고 결과 출력\n",
    "print(retrieval_grader.invoke({\"question\": question, \"document\": doc_txt}))"
   ]
  },
  {
   "cell_type": "markdown",
   "metadata": {},
   "source": [
    "#### 답변 생성 체인"
   ]
  },
  {
   "cell_type": "code",
   "execution_count": 8,
   "metadata": {},
   "outputs": [
    {
     "name": "stdout",
     "output_type": "stream",
     "text": [
      "AI 위험 유형은 다음과 같이 분류됩니다:\n",
      "\n",
      "1. **가짜 콘텐츠를 통한 개인 위해**: 사기, 피싱, 합성, 복제 등.\n",
      "2. **허위 정보 생성**: 광고, 마이크로 타게팅 등.\n",
      "3. **사용자 설득 및 여론 조작**: 대화형 AI를 통한 악의적 사용.\n",
      "4. **사이버 공격 및 보안**: 시스템의 기밀성, 무결성, 사용 가능성에 대한 위협.\n",
      "\n",
      "이 외에도 AI의 오작동 위험, 교차 위험 등이 있으며, 다양한 연구에서 AI 위험 요인들이 정의되고 분석되고 있습니다.\n",
      "\n",
      "**Source**\n",
      "- ./data/IS-183_AI 위험 유형 및 사례 분석(최종).pdf (페이지 15)\n"
     ]
    }
   ],
   "source": [
    "from langchain import hub\n",
    "from langchain_core.output_parsers import StrOutputParser\n",
    "from langchain_openai import ChatOpenAI\n",
    "\n",
    "\n",
    "# LangChain Hub에서 RAG 프롬프트를 가져와 사용\n",
    "prompt = hub.pull(\"teddynote/rag-prompt\")\n",
    "\n",
    "# LLM 초기화\n",
    "llm = ChatOpenAI(model_name=MODEL_NAME, temperature=0)\n",
    "\n",
    "\n",
    "# 문서 포맷팅\n",
    "def format_docs(docs):\n",
    "    return \"\\n\\n\".join(\n",
    "        [\n",
    "            f'<document><content>{doc.page_content}</content><source>{doc.metadata[\"source\"]}</source><page>{doc.metadata[\"page\"]+1}</page></document>'\n",
    "            for doc in docs\n",
    "        ]\n",
    "    )\n",
    "\n",
    "\n",
    "# 체인 생성\n",
    "rag_chain = prompt | llm | StrOutputParser()\n",
    "\n",
    "\n",
    "# 체인 실행 및 결과 출력\n",
    "generation = rag_chain.invoke({\"context\": format_docs(docs), \"question\": question})\n",
    "print(generation)"
   ]
  },
  {
   "cell_type": "markdown",
   "metadata": {},
   "source": [
    "#### 쿼리 재작성(Question Re-writer)"
   ]
  },
  {
   "cell_type": "code",
   "execution_count": 9,
   "metadata": {},
   "outputs": [],
   "source": [
    "from langchain_core.prompts import ChatPromptTemplate\n",
    "from langchain_core.output_parsers import StrOutputParser\n",
    "from langchain_openai import ChatOpenAI\n",
    "\n",
    "# LLM 설정\n",
    "llm = ChatOpenAI(model=MODEL_NAME, temperature=0)\n",
    "\n",
    "# Query Rewrite 시스템 프롬프트\n",
    "system = \"\"\"You a question re-writer that converts an input question to a better version that is optimized \n",
    "for web search. Look at the input and try to reason about the underlying semantic intent / meaning.\"\"\"\n",
    "\n",
    "# 프롬프트 정의\n",
    "re_write_prompt = ChatPromptTemplate.from_messages(\n",
    "    [\n",
    "        (\"system\", system),\n",
    "        (\n",
    "            \"human\",\n",
    "            \"Here is the initial question: \\n\\n {question} \\n Formulate an improved question.\",\n",
    "        ),\n",
    "    ]\n",
    ")\n",
    "\n",
    "# Question Re-writer 체인 초기화\n",
    "question_rewriter = re_write_prompt | llm | StrOutputParser()"
   ]
  },
  {
   "cell_type": "code",
   "execution_count": 10,
   "metadata": {},
   "outputs": [
    {
     "name": "stdout",
     "output_type": "stream",
     "text": [
      "[원본 질문]: \"AI 위험 유형에 대해 설명하세요.\"\n",
      "[쿼리 재작성]: AI의 다양한 위험 유형에 대해 자세히 설명해 주실 수 있나요?\n"
     ]
    }
   ],
   "source": [
    "# 실행 및 결과 확인\n",
    "print(f'[원본 질문]: \"{question}\"')\n",
    "print(\"[쿼리 재작성]:\", question_rewriter.invoke({\"question\": question}))"
   ]
  },
  {
   "cell_type": "markdown",
   "metadata": {},
   "source": [
    "#### 웹 겸색 도구"
   ]
  },
  {
   "cell_type": "code",
   "execution_count": 11,
   "metadata": {},
   "outputs": [],
   "source": [
    "# 웹 검색 도구 초기화\n",
    "from tools_tavily import TavilySearch\n",
    "\n",
    "# 최대 검색 결과를 3으로 설정\n",
    "web_search_tool = TavilySearch(max_results=3)"
   ]
  },
  {
   "cell_type": "code",
   "execution_count": 12,
   "metadata": {},
   "outputs": [
    {
     "name": "stdout",
     "output_type": "stream",
     "text": [
      "[{'title': 'Ai 위험 유형과 사례 분석으로 안전 확보해야 < 보안 < Ai·보안·Sw < 기사본문 - 테크월드뉴스 - 한평훈 기자', 'url': 'https://www.epnc.co.kr/news/articleView.html?idxno=308497', 'content': 'ai의 주요 위험 유형은 크게 악의적 사용 위험, 오작동 위험, 시스템적 위험, 교차 위험 요인으로 나눌 수 있다. 악의적 사용 위험은 ai가 범죄나 불법적 목적으로 악용될 가능성을 의미한다. ai를 활용한 피싱 공격이나 가짜 뉴스 생성, 딥페이크 등의 문제는 이미', 'score': 0.8755427, 'raw_content': None}, {'title': 'AI 위험 유형 및 사례 분석 (A Comprehensive Review on AI Risks and Cases)', 'url': 'https://www.ifs.or.kr/bbs/board.php?bo_table=research&wr_id=10946', 'content': 'ai 위험 요인은 기술적 논의를 넘어선 사회적,제도적 요인을 포함 - 최근 연구를 살펴본 결과, ai의 위험 요인은 단순히 기술적 결함을 넘어서 사용자에 의한 악용, 국가별·지역별 격차로 인한 사회적 위험 요인까지 확대되고 있음을 확인', 'score': 0.7959917, 'raw_content': 'AI 위험 유형 및 사례 분석(A Comprehensive Review on AI Risks and Cases) > 보고서\\n본문 바로가기\\n 사이트맵\\n 검색\\n홈페이지 메뉴\\nHOME\\n(current)\\n뉴스인사이트\\n(current)\\n정책연구\\n(current)\\n김광두의 1년 후\\n(current)\\n여론광장\\n(current)\\nIFS소개\\n(current)\\n보고서\\n보고서\\nINDEX\\n기획시리즈\\n전체 카테고리 보기\\n국가미래연구원에서는 연구진의 논문 및 자료와 함께 연구원 주최 세미나의 주제발표 및 토론내용 등을 PDF 파일로 서비스하고 있습니다.\\n 인쇄  크게  작게\\nAI 위험 유형 및 사례 분석(A Comprehensive Review on AI Risks and Cases)  본문듣기 준비중\\n작성시간\\n기사입력 2024년11월02일 17시15분 최종수정 2024년11월02일 17시15분\\n작성자\\n노재원·유재흥·장진철·조지연*\\n메타정보\\n 3 \\n관련링크\\n본문\\n<요약>\\n최근 몇 년간 인공지능(AI) 기술의 발전은 챗GPT의 출시 이후 거대 언어 모델(LLM) 개발 경쟁을 거치며 가속화되었다. 현재 공개된 AI 모델들의 성능은 특정 분야에서는 이미 인간의 능력을 뛰어넘었고, 이에 따라 활용 범위 또한 급격히 확장되었다. 특히 생성 AI를 기반으로 하는 범용 AI는 제조, 의료, 금융, 교육 등의 여러 산업 분야에서 활용되고 있다.\\xa0\\n하지만, AI 기반의 서비스들이 다양한 이점을 제공하는 한편, 고성능 AI에 대한 접근성의 향상으로 인해 새로운 위험에 대한 우려 또한 증가했다. 이에 따라, 기존 AI 신뢰성, 책임성, 윤리 등의 논의와 더불어, ‘AI 안전’이 더욱 중요해졌다. 악의적인 사용, 오작동과 같은 위험들이 실제 피해까지 야기하고 있는 만큼, AI의 안전 확보를 위한 대응책 마련이 시급해진 상황이다.\\xa0\\n앞으로 등장할 더 강력한 성능을 가진 프론티어 AI 모델은 의도치 않은 결과의 도출, 제어 불가, 사회적 악영향 등 여러 잠재적인 위험을 포함할 가능성이 높아, 규제와 지침 마련을 비롯하여 다양한 국제적 노력이 이루어지고 있다.\\n각국의 정부, 기업 등 이해관계자들은 AI의 안전성을 확보하기 위해, 위험을 식별하여 평가 기준을 마련하고, 안전한 AI 개발 및 배포와 위험 대응책을 마련하기 위해 노력하고 있다. 최근 연구들에서는 사고 사례나 발생 가능한 시나리오에 따른 위험들을 분류하여 제시하고 있다. 하지만, 연구마다 다양한 위험 분류 체계를 제시하고 있어, 합의된 AI 안전 평가 체계를 마련하기에는 아직 더 많은 논의가 필요한 상황이다.\\xa0\\n미국, 영국, 일본 등은 AI 시스템의 안전성 확보를 위해 AI 안전연구소를 통해 AI 안전 및 위험 연구, 위험성 평가, 안전한 AI 개발·구현을 위한 기준 마련 등의 기능을 수행 중이다. 대표적으로 AI 위험 관리 프레임워크(미), AI 안전에 관한 과학 보고서(영) 등을 통해 AI의 위험에 대한 대응 방안을 제시하고 있으며, 한국도 설립될 AI 안전연구소를 통해 AI 안전 수요에 대응할 예정이다.\\xa0\\n본 보고서에서는 AI 안전과 관련된 개념을 정리하고, 최근 수행된 연구들이 제시하고 있는 AI 위험 유형 및 요인을 정리하여, 사례와 함께 분석함으로써 앞으로의 AI 위험 대응에 관한 정책적 시사점을 제공하고자 한다.\\n< 결론 및 시사점 >\\n■ AI 위험 요인은 기술적 논의를 넘어선 사회적,제도적 요인을 포함\\n- 최근 연구를 살펴본 결과, AI의 위험 요인은 단순히 기술적 결함을 넘어서 사용자에 의한 악용, 국가별·지역별 격차로 인한 사회적 위험 요인까지 확대되고 있음을 확인\\n- 위험 요인들이 다양하게 식별되어 분류가 제시되었으나, 아직까지 합의된 위험 분류 체계는 없는 상황으로 명확한 가이드라인 제시를 위한 기준 마련이 필요\\n∙위험 요인들이 다양하게 식별되어 분류가 제시되고 있으나 합의된 체계는 없으며, 표준의 관점에서는 AI 안전 측정 및 평가에 초점을 맞추고 있어 모든 위험 요인을 다루기에는 한계가 존재\\n- 이는 AI 안전성에 관한 초기 개념이 최근 변화하였으나 합의된 정의가 없는 것과 유사한 맥락으로, 기술적 접근 외에 사람의 의도에 의해 발생하는 위험과 피해, 국가 간 기술 격차, 지역적 불평등 등으로 인해 AI 기술이 야기할 수 있는 위험이 논의 되어야 함을 시사\\n- 종합하면, AI 안전의 개념과 위험을 분석하여 대응하기 위해서는 기술적 안전성을 넘어선\\n포괄적 접근이 필요\\n∙이는 AI 안전 정책이 지향해야 할 방향을 시사하고 있으며, 사회적 요인이 야기하는 AI 안전 위협에도 대응할 수 있는 제도적, 정책적 대응에 관한 규제 체계적 논의의 필요성을 제기\\n■ 그러나 현재까지의 AI 위험 대응은 기술적 보호 장치를 마련하거나, AI 기술 개발 단계의 위험 관리 프레임워크를 설계하여 대응하는 방식이 대부분\\n- 대부분의 생성 AI 오용 관련 사례는 AI 시스템에 대한 정교한 공격보다는, 최소한의 기술\\n지식만으로 쉽게 접근할 수 있는 생성 AI의 기능을 악용하는 경우가 일반적\\n∙전통적인 공격 방식도 생성 AI 기술을 통해 낮은 비용으로 접근이 용이해짐에 따라, 기존의 위험보다 더욱 광범위하게 피해가 발생할 수 있음\\n- 그러나 기존에 논의된 대응 방안은, 합성 미디어를 탐지할 수 있는 도구와 워터마킹 기술 등의 솔루션을 적용하거나, 특수한 경우 모델의 기능 제한이나 사용 제한 같은 극단적인 기술 개입\\n∙하지만 탐지 방법이 개선되어 성능이 향상되어도, 새로운 우회 방법이 등장하여 이용자들이 악용하는 사례가 있으므로 지속적인 모니터링과 대응이 필요\\n- 위험 관리 프레임워크 또한 AI 개발의 전 주기에 걸쳐 발생 가능한 잠재적 위험에 대한 체계를 구축하는 것으로, AI RMF 1.0과 같은 지침을 기반으로 기술 기업들이 대응하는 형태\\n∙ 하지만, 위험관리 프로세스는 위험을 식별하고 평가하고, 위험성에 따라 우선순위를 지정하는 것으로 위험을 모니터링하고 보고하는 체계의 구축이 더욱 중요\\n∙ 악의적 콘텐츠 생성 위험 완화를 위한 측면에서도 명확한 AI 원칙 및 가이드라인 수립과 조직이 이를 수용하는 것이 중요하고, 워터마킹, 조직 내 통제된 환경 구축(예: 개인정보 관리 도구의 사용) 은 피해를 예방하기 위한 선결적 요구사항 필요\\n∙콘텐츠 소비 위험 완화 측면에서도 기술적으로는 AI 출력 검증이나 경고 매커니즘을 수립 필요가 있으나, 악의적 콘텐츠에 대한 소비자의 인식 개선과 리터러시 향상도 동시에 요구됨\\n- 종합하면, AI 기술 개발 기업뿐만 아니라 생성 AI 모델이나 서비스 개발자를 통해, 발생할 수 있는 위험을 사전에 방지하여 AI 안전을 확보할 수 있는 방식을 고려해야 함\\n∙학습 데이터에서의 유해 콘텐츠 제거 작업을 수행 또는 생성 AI 도구의 서비스 약관을 위반하는 프롬프트를 제한하는 등의 보호 장치를 마련하는 위험 대응 방식이 고려되어야 함\\n- 최근 논의되는 위험 대응 방식으로는 사전폭로(Prebunking)을 통한 사용자의 경각심 제고 방식도 존재\\n∙이러한 조치는 기술적 대응 방안이 아닌, 사람들로 하여금 조작적 콘텐츠에 대한 심리적 경계를 야기하여, 조작 콘텐츠를 식별하고 저항할 수 있는 환경을 조성하는 방식\\n* 인도네시아 총선을 앞두고 Jigsaw와 구글은 Prebunking 캠페인 영상을 공개하여, 유권자들이 감정 조작, 탈맥락화, 불신 또는 명예훼손 등의 생성 AI 기반의 잘못된 정보에 대한 위험을 사전 고지함으로써, 사용자들의 인식을 제고\\n∙ 사전폭로 방식을 통해 정보를 사전 고지 받은 사용자들은 AI 위험을 상대적으로 더 잘 구분하는 것을 확인\\n■ AI 안전을 위한 사회적,제도적 논의의 글로벌 협력의 필요성 증대\\n- 고성능 범용 AI가 다양한 분야에 도입되고 일상화되어 많은 긍정적 영향을 끼치고 있으나, AI에 의한 사건·사고 또한 급격히 증가하고 있어, 안전한 AI 활용은 더욱 중요해지고 있음\\n- 향후 프론티어 AI 모델에 의한 피해는 기존보다 더욱 광범위하게 사회 전반에 영향을 미칠 수 있으며, 국가적 범위를 넘어서는 피해를 야기할 수 있을 것으로 예상됨에 따라 각국 정부를 비롯한 이해관계자들은 AI의 안전성·신뢰성 확보를 위한 대응 방안이 필요함을 시사\\n- 미국 AI 안전연구소는 영국, 일본, 한국 등 다른 국가들과 글로벌 AI 안전 네트워크를 구축하고, 오는 11월 샌프란시스코에서 국제 AI 안전연구소 네트워크 행사를 개최할 예정\\n∙ 딥페이크 등 합성 콘텐츠 대응, AI 기반모델 평가, 위험평가 방안 등을 의제로 논의가 이루어질 예정\\n■ 현재는 특정 기업 또는 기관이 자체적으로 AI 위험을\\xa0 대응·관리하기 위한 체계를 구축하고 있는 초기 단계로 AI 안전 대응을 위한 일원화 된 대응 체계 구축이 시급\\n- 미국과 영국은 각국의 AI 안전연구소를 통해 대규모 언어 모델의 안전성 점검을 위한 협약을 체결(‘24.04)하는 등 주요국의 국제협력이 활발히 진행되고 있는 상황\\n∙미국은 AI 안전연구소 컨소시엄(AISIC)을 통해 여러 기업들과의 협력을 통해 가이드라인을 개발 중\\n- 한국도 오는 11월 AI 안전연구소 출범이 예정되어 있으며, 연구소 설립 후 즉각적인 국제 협력 네트워크를 구축하고 글로벌 논의를 함께 주도할 수 있는 정책 마련이 요구됨\\n∙EU의 AI법, 미국의 행정명령 및 인공지능 법 등 주요국은 제도적 기반도 마련하고 있으나, 국내 AI기본법은 현재 여러 안이 발의되어 논의 중임\\n■ AI 위험 요인 영향평가를 통해 심각성을 판단하고,선제적 대응이 필요한 위험 요인의 식별 및 AI의 안전성 평가·검증을 위한 정부 정책 및 제도적 지원이 필요\\n- 최근 한국은 AI의 윤리 영향평가(KISDI), 사회적 영향평가(NIA) 등을 추진하고 있으며, 국가인권위원회는 과기정통부에 AI 인권 영향평가 도구 보급을 촉구하는 등 AI 안전 확보를 위한 제도적 환경조성을 적극적으로 추진하고 있음\\n- 그러나, 미국 NIST의 AI RMF와 같은 정부 주도의 가이드라인이 부재한 상황으로, 국가 AI 안전 프레임워크 개발을 촉진하여 AI 안전성 확보를 위한 일원화 된 지침을 제공할 필요가 있음\\n- 주요국의 정부는 민간과 협력하여 AI 안전에 관한 국제 표준화 활동과 더불어 AI 신뢰성 인증체계를 구축하고 있는 만큼, 한국도 관련 지원 정책을 마련해야 함\\n∙과기정통부와 TTA는 ‘신뢰할 수 있는 인공지능 개발 안내서’ 8종* 개발, ‘인공지능 시스템 신뢰성 제고를 위한 요구사항’ 표준 수립, AI 제품 등에 대한 신뢰성 인증 등을 추진하고 있음\\n* 일반, 의료, 공공사회, 자율주행(2023.7), 일반, 생성 AI 기반 서비스, 스마트 치안, 채용(2024.3)\\n\\n저자\\n\\n소프트웨어정책연구소(SPRi) AI정책연구실\\n▲ 노재원 선임연구원\\xa0\\n▲ 유재흥 책임연구원\\xa0\\n▲ 장진철 선임연구원\\xa0\\n▲ 조지연 선임연구원\\n\\n※ 이 자료는 소프트웨어정책연구소(SPRi)가 발간한 이슈리포트 IS-183에\\xa0 실린 것으로 연구소의 동의를 얻어 게재합니다. <편집자>\\u200b\\n\\u200b\\xa0\\n3 \\n기사입력 2024년11월02일 17시15분\\n최종수정 2024년11월01일 13시06분\\n이전글 목록 다음글\\n댓글목록\\n등록된 댓글이 없습니다.\\n인기 포스트 (최근 3개월)\\n내용 열고 닫는 버튼\\n“독립적 재정기구 설립 절실하다”… 건전재정포럼 제40차 세미나\\u200b\\n건전재정포럼\\n미국 트럼프 2.0 행정부의 경제정책 전망과 시사점\\n대외경제정책연구원\\n금융연 ‘2025년 경제 및 금융전망 세미나’ 발표 상세내용\\n한국금융연구원\\n글로벌 방산생태계 최근 동향과 K-방산 혁신생태계 조성방안\\n산업연구원\\n2025년 경제·산업 전망\\n산업연구원\\nSW기업의 ESG 경영 현황과 경영전략 수립\\n유두호 신환창 *\\nAI 위험 유형 및 사례 분석(A Comprehensive Review on AI Risks and Cases)\\n노재원·유재흥·장진철·조지연*\\n트럼프 2기 전기차 및 배터리 분야의 대중국 정책 변화 가능성 및 시사점\\n최재희 KIEP 중국팀 전문연구원\\n트럼프 보편관세의 효과 분석: 대미 수출과 부가가치 효과를 중심으로\\n산업연구원\\n국미연, 2025년 경제전망 발표\\u200b…성장률 1.67% \\u200b소비자물가 상 1.47% 상승\\u200b\\n국가미래연구원\\n사이트 내 전체검색\\n검색하기\\nifs POST 후원하기\\n약관 링크 모음\\n 개인정보보호정책 저작권정책 이메일주소 무단수집거부\\n명칭(회사명):(사)국가미래연구원\\n등록번호:서울, 아03286\\n등록일자:2014년 8월 7일\\n제호(신문명) : ifsPOST\\n발행인:김광두\\n편집인:이계민\\n발행소:서울시 서초구 청계산로 189, 내곡드림시티 2차 401호\\n발행연월일:2014년 8월 7일\\n청소년보호책임자:홍석철\\nTEL. 02-715-2669\\nFAX. 02-706-2669\\nE-MAIL. ifs2010@ifs.or.kr\\n사업자등록번호:105-82-19095\\n대표(원장): 김광두\\nCopyright ©2016 IFS All Rights Reserved. Designed by WEBS.'}, {'title': 'Ai 보안 위험 및 위협 - 체크 포인트 소프트웨어', 'url': 'https://www.checkpoint.com/kr/cyber-hub/cyber-security/what-is-ai-security/ai-security-risks-and-threats/', 'content': 'ai는 사이버 보안을 비롯한 많은 산업에 혁신을 가져올 잠재력을 가지고 있습니다. 하지만 ai의 힘에는 상당한 보안 위험도 수반됩니다. #1. 데이터 유출. ai 모델은 대량의 데이터로 학습됩니다. 이 데이터에는 ai가 감지하도록 설계된 이벤트 유형에 대한 레이블이', 'score': 0.68064564, 'raw_content': 'AI Security Risks and Threats \\n지난 몇 년 동안 인공 지능은 빠르게 발전해 왔습니다. 생성형 AI(GenAI)의 등장으로 많은 기업이 AI를 통해 운영의 모든 측면을 개선하고 향상시킬 수 있는 방법을 모색하고 있습니다. 사이버 보안은 AI가 특히 잠재력을 보이는 분야 중 하나입니다. AI 기반 사이버 보안 솔루션은 조직에 대한 사이버 공격을 식별하고 차단하는 보안팀의 능력을 획기적으로 향상시킬 수 있는 잠재력을 가지고 있습니다.\\n Request a free trial  Read the Forrester report  \\n상위 7가지 AI 보안 위험 및 위협\\nAI는 사이버 보안을 비롯한 많은 산업에 혁신을 가져올 잠재력을 가지고 있습니다. 하지만 AI의 힘에는 상당한 보안 위험도 수반됩니다.\\n#1. 데이터 유출\\nAI 모델은 대량의 데이터로 학습됩니다. 이 데이터에는 AI가 감지하도록 설계된 이벤트 유형에 대한 레이블이 지정된 인스턴스가 포함됩니다. 예를 들어, 네트워크 트래픽에서 위협을 식별하도록 훈련된 AI는 정상 트래픽과 악성 트래픽의 예가 모두 포함된 훈련 데이터가 필요합니다. 이러한 교육 데이터 모음에는 조직의 고객 및 비즈니스에 대한 민감한 정보가 포함될 수 있습니다. 이 데이터를 저장하고 사용하여 AI를 학습시키면 공격자에 의해 침해될 위험이 있습니다.\\n#2. 적대적 공격\\nAI 시스템은 특정 목표를 달성하는 데 유용한 모델을 개발하도록 학습됩니다. 예를 들어, 네트워크 트래픽에서 정상 파일과 잠재적인 멀웨어를 구분하도록 AI 시스템을 학습시킬 수 있습니다.\\n사이버 공격자는 자체 AI 시스템을 학습시켜 방어 시스템을 학습시키려고 시도할 수 있습니다. 이를 통해 공격자는 AI 모델의 빈틈을 발견하여 AI 시스템을 통과할 수 있는 방법을 파악할 수 있습니다.\\n#3. 데이터 조작 및 데이터 중독\\n데이터 조작 및 포이즈닝 공격은 AI 모델 학습에 사용되는 레이블이 지정된 데이터를 대상으로 합니다. 공격자는 이 데이터 수집에 라벨이 잘못 지정된 인스턴스를 추가로 도입합니다. 이러한 공격의 목표는 AI의 모델을 잘못 학습시키는 것입니다. 학습 데이터 세트에 양성으로 분류된 공격 트래픽이 있는 경우 AI 모델은 해당 공격을 인식하지 못합니다. 따라서 공격자는 AI 시스템이 배포된 후 이를 통과할 수 있는 기회를 얻게 됩니다.\\n#4. 편견과 차별\\nAI 모델은 학습 데이터만큼만 우수합니다. AI 모델은 레이블이 지정된 많은 입력을 제시하고 원하는 출력을 생성하는 모델을 구축하도록 함으로써 학습됩니다. 이 접근 방식의 문제점은 편향된 학습 데이터가 편향된 AI 모델을 생성한다는 것입니다. 가장 일반적인 예는 얼굴 인식 시스템이 주로 특정 인구 집단에 속하는 사람들의 이미지로 학습된다는 사실입니다. 종종 이러한 시스템은 훈련 데이터 세트가 대표하는 인구통계학적 그룹을 벗어난 사람들에게 훨씬 더 높은 오류율을 보입니다.\\n#5. 투명성 부족\\nAI는 데이터 내의 패턴, 트렌드, 관계를 파악하는 데 매우 적합합니다. AI를 학습시킨 후 모델은 이러한 트렌드를 반영하고 이러한 패턴을 기반으로 의사 결정과 식별을 할 수 있게 됩니다. 그러나 AI 시스템에서 사용하는 모델은 투명하지도 해석할 수도 없습니다. 따라서 AI 모델에 손상된 학습 데이터 세트에 의한 편향이나 오류가 포함되어 있는지 여부를 판단하는 것은 불가능합니다.\\n#6. 자동화된 멀웨어 생성\\nChatGPT 및 이와 유사한 도구는 이미 프로그래밍에 대해 일정 수준의 숙련도를 입증했습니다. GenAI가 작성한 코드에는 오류가 있을 수 있지만, 코드 개발 프로세스를 가속화하고 정교한 앱을 개발할 수 있습니다. GenAI 도구에는 멀웨어 작성에 대한 보호 기능이 있지만, 이러한 보호 장치에는 종종 이를 우회할 수 있는 허점이 있습니다. GenAI는 덜 정교한 위협 행위자도 지능형 멀웨어를 개발할 수 있으며, 그 기능은 앞으로 더욱 발전할 것입니다.\\n#7. 공급망 공격 모델\\nAI 모델 학습은 복잡한 과제입니다. 조직은 레이블이 지정된 대규모 데이터 코퍼스를 수집하여 AI 모델을 학습시키는 데 사용해야 합니다. 이를 위해서는 데이터에 대한 접근성과 머신 러닝 및 데이터 과학에 대한 전문 지식이 모두 필요합니다. 그 결과 많은 조직에서 타사에서 개발하고 학습한 AI 모델을 사용하게 됩니다. 그러나 이는 공격자가 모델을 개발하는 조직을 표적으로 삼아 악성 학습 데이터를 주입하거나 모델을 손상시키기 위한 다른 조치를 취할 위험이 있습니다.\\nAI 위험으로부터 자신을 보호하는 방법\\n대부분의 AI 보안 위험은 데이터 보안과 품질로 귀결됩니다. 조직이 AI 모델의 학습 데이터를 노출로부터 안전하게 보호하고 학습 데이터가 완전하고 정확한지 확인할 수 있다면 해당 데이터로 학습된 모델도 정확해야 합니다.\\n그러나 많은 조직은 자체적으로 AI 모델을 학습시킬 리소스, 전문 지식 또는 열망이 부족합니다. 이러한 경우 강력한 보안 태세를 갖춘 평판이 좋은 공급업체로부터 AI 솔루션을 소싱하는 것이 해당 솔루션의 품질, 정확성 및 보안을 보장하는 가장 좋은 방법입니다.\\nZero Trust Networks with the Infinity Platform\\nThe introduction of LLMs and GenAI makes implementing a zero-trust security architecture more important than ever. At the same time, the capabilities of these systems also dramatically complicate zero-trust implementations and make ZTAI essential. Implementing ZTAI can be complex and requires granular visibility and control over all actions performed by LLM-integrated applications within an organization’s environment. Check Point’s Infinity Platform offers the tools that your organization needs to implement effective zero-trust in the age of AI, including GenAI security for safe GenAI adoption in the enterprise and integrated AI capabilities for advanced threat prevention and response.\\n시작하기\\n인피니티 AI 서비스\\xa0\\n인피니티 코플리엇 AI\\nThreatCloud AI\\nInfinity AI 코파일럿 - 프리뷰 프로그램\\n관련 항목\\n인공 지능(AI) 사이버 보안\\nWhat is AI Security?\\xa0\\n사이버 보안\\n공급망 공격\\n'}]\n"
     ]
    }
   ],
   "source": [
    "# 웹 검색 도구 실행\n",
    "results = web_search_tool.invoke({\"query\": question})\n",
    "print(results)"
   ]
  },
  {
   "cell_type": "markdown",
   "metadata": {},
   "source": [
    "### 그래프 정의\n",
    "\n",
    "#### 1. 상태 정의"
   ]
  },
  {
   "cell_type": "code",
   "execution_count": 13,
   "metadata": {},
   "outputs": [],
   "source": [
    "from typing import Annotated, List\n",
    "from typing_extensions import TypedDict\n",
    "\n",
    "\n",
    "# 상태 정의\n",
    "class GraphState(TypedDict):\n",
    "    question: Annotated[str, \"The question to answer\"]\n",
    "    generation: Annotated[str, \"The generation from the LLM\"]\n",
    "    web_search: Annotated[str, \"Whether to add search\"]\n",
    "    documents: Annotated[List[str], \"The documents retrieved\"]"
   ]
  },
  {
   "cell_type": "markdown",
   "metadata": {},
   "source": [
    "#### 2. 노드 정의"
   ]
  },
  {
   "cell_type": "code",
   "execution_count": 15,
   "metadata": {},
   "outputs": [],
   "source": [
    "from langchain.schema import Document\n",
    "\n",
    "\n",
    "# 문서 검색 노드\n",
    "def retrieve(state: GraphState):\n",
    "    question = state[\"question\"]\n",
    "\n",
    "    # 문서 검색 수행\n",
    "    documents = pdf_retriever.invoke(question)\n",
    "    return {\"documents\": documents}\n",
    "\n",
    "\n",
    "# 답변 생성 노드\n",
    "def generate(state: GraphState):\n",
    "    question = state[\"question\"]\n",
    "    documents = state[\"documents\"]\n",
    "\n",
    "    # RAG를 사용한 답변 생성\n",
    "    generation = rag_chain.invoke({\"context\": documents, \"question\": question})\n",
    "    return {\"generation\": generation}\n",
    "\n",
    "\n",
    "# 문서 평가 노드\n",
    "def grade_documents(state: GraphState):\n",
    "    question = state[\"question\"]\n",
    "    documents = state[\"documents\"]\n",
    "\n",
    "    # 필터링된 문서\n",
    "    filtered_docs = []\n",
    "    relevant_doc_count = 0\n",
    "\n",
    "    for d in documents:\n",
    "        # Question-Document 의 관련성 평가\n",
    "        score = retrieval_grader.invoke(\n",
    "            {\"question\": question, \"document\": d.page_content}\n",
    "        )\n",
    "        grade = score.binary_score\n",
    "\n",
    "        if grade == \"yes\":\n",
    "            # 관련 있는 문서를 filtered_docs 에 추가\n",
    "            filtered_docs.append(d)\n",
    "            relevant_doc_count += 1\n",
    "        else:\n",
    "            continue\n",
    "\n",
    "    # 관련 문서가 없으면 웹 검색 수행\n",
    "    web_search = \"Yes\" if relevant_doc_count == 0 else \"No\"\n",
    "    return {\"documents\": filtered_docs, \"web_search\": web_search}\n",
    "\n",
    "\n",
    "# 쿼리 재작성 노드\n",
    "def query_rewrite(state: GraphState):\n",
    "    question = state[\"question\"]\n",
    "\n",
    "    # 질문 재작성\n",
    "    better_question = question_rewriter.invoke({\"question\": question})\n",
    "    return {\"question\": better_question}\n",
    "\n",
    "\n",
    "# 웹 검색 노드\n",
    "def web_search(state: GraphState):\n",
    "    question = state[\"question\"]\n",
    "    documents = state[\"documents\"]\n",
    "\n",
    "    # 웹 검색 수행\n",
    "    docs = web_search_tool.invoke({\"query\": question})\n",
    "    # 검색 결과를 문서 형식으로 변환\n",
    "    web_results = \"\\n\".join([d[\"content\"] for d in docs])\n",
    "    web_results = Document(page_content=web_results)\n",
    "    documents.append(web_results)\n",
    "\n",
    "    return {\"documents\": documents}\n",
    "\n",
    "# 조건부 엣지에 활용\n",
    "def decide_to_generate(state: GraphState):\n",
    "    # 평가된 문서를 기반으로 다음 단계 결정\n",
    "    print(\"==== [ASSESS GRADED DOCUMENTS] ====\")\n",
    "    # 웹 검색 필요 여부\n",
    "    web_search = state[\"web_search\"]\n",
    "\n",
    "    if web_search == \"Yes\":\n",
    "        # 웹 검색으로 정보 보강이 필요한 경우\n",
    "        print(\n",
    "            \"==== [DECISION: ALL DOCUMENTS ARE NOT RELEVANT TO QUESTION, QUERY REWRITE] ====\"\n",
    "        )\n",
    "        # 쿼리 재작성 노드로 라우팅\n",
    "        return \"query_rewrite\"\n",
    "    else:\n",
    "        # 관련 문서가 존재하므로 답변 생성 단계(generate) 로 진행\n",
    "        print(\"==== [DECISION: GENERATE] ====\")\n",
    "        return \"generate\""
   ]
  },
  {
   "cell_type": "markdown",
   "metadata": {},
   "source": [
    "#### 3. 엣지 설정 및 그래프 컴파일"
   ]
  },
  {
   "cell_type": "code",
   "execution_count": 16,
   "metadata": {},
   "outputs": [],
   "source": [
    "from langgraph.graph import END, StateGraph, START\n",
    "\n",
    "# 그래프 상태 초기화\n",
    "workflow = StateGraph(GraphState)\n",
    "\n",
    "# 노드 정의\n",
    "workflow.add_node(\"retrieve\", retrieve)\n",
    "workflow.add_node(\"grade_documents\", grade_documents)\n",
    "workflow.add_node(\"generate\", generate)\n",
    "workflow.add_node(\"query_rewrite\", query_rewrite)\n",
    "workflow.add_node(\"web_search_node\", web_search)\n",
    "\n",
    "# 엣지 연결\n",
    "workflow.add_edge(START, \"retrieve\")\n",
    "workflow.add_edge(\"retrieve\", \"grade_documents\")\n",
    "\n",
    "# 문서 평가 노드에서 조건부 엣지 추가\n",
    "workflow.add_conditional_edges(\n",
    "    \"grade_documents\",\n",
    "    decide_to_generate,\n",
    "    {\n",
    "        \"query_rewrite\": \"query_rewrite\",\n",
    "        \"generate\": \"generate\",\n",
    "    },\n",
    ")\n",
    "\n",
    "# 엣지 연결\n",
    "workflow.add_edge(\"query_rewrite\", \"web_search_node\")\n",
    "workflow.add_edge(\"web_search_node\", \"generate\")\n",
    "workflow.add_edge(\"generate\", END)\n",
    "\n",
    "# 그래프 컴파일\n",
    "app = workflow.compile()"
   ]
  },
  {
   "cell_type": "markdown",
   "metadata": {},
   "source": [
    "#### 4. 그래프 시각화"
   ]
  },
  {
   "cell_type": "code",
   "execution_count": 17,
   "metadata": {},
   "outputs": [
    {
     "data": {
      "image/png": "[encoded data removed]",
      "text/plain": [
       "<IPython.core.display.Image object>"
      ]
     },
     "metadata": {},
     "output_type": "display_data"
    }
   ],
   "source": [
    "from graphs import visualize_graph\n",
    "\n",
    "visualize_graph(app)"
   ]
  },
  {
   "cell_type": "markdown",
   "metadata": {},
   "source": [
    "#### 5. 그래프 실행"
   ]
  },
  {
   "cell_type": "code",
   "execution_count": 19,
   "metadata": {},
   "outputs": [
    {
     "name": "stdout",
     "output_type": "stream",
     "text": [
      "\n",
      "==================================================\n",
      "🔄 Node: \u001b[1;36mgrade_documents\u001b[0m 🔄\n",
      "- - - - - - - - - - - - - - - - - - - - - - - - - \n",
      "==== [ASSESS GRADED DOCUMENTS] ====\n",
      "==== [DECISION: ALL DOCUMENTS ARE NOT RELEVANT TO QUESTION, QUERY REWRITE] ====\n",
      "\n",
      "==================================================\n",
      "🔄 Node: \u001b[1;36mquery_rewrite\u001b[0m 🔄\n",
      "- - - - - - - - - - - - - - - - - - - - - - - - - \n",
      "삼성전자가 개발한 생성형 AI의 이름은 무엇인가요?\n",
      "==================================================\n",
      "🔄 Node: \u001b[1;36mgenerate\u001b[0m 🔄\n",
      "- - - - - - - - - - - - - - - - - - - - - - - - - \n",
      "삼성전자가 개발한 생성형 AI의 이름은 '삼성 가우스'(Samsung Gauss)입니다.\n",
      "\n",
      "**Source**\n",
      "- Document (page content)"
     ]
    }
   ],
   "source": [
    "from langchain_core.runnables import RunnableConfig\n",
    "from langchain_print import stream_graph, invoke_graph, random_uuid\n",
    "\n",
    "# config 설정(재귀 최대 횟수, thread_id)\n",
    "config = RunnableConfig(recursion_limit=20, configurable={\"thread_id\": random_uuid()})\n",
    "\n",
    "# 질문 입력\n",
    "inputs = {\n",
    "    \"question\": \"삼성전자가 개발한 생성형 AI 의 이름은?\",\n",
    "}\n",
    "\n",
    "# 스트리밍 형식으로 그래프 실행\n",
    "stream_graph(\n",
    "    app,\n",
    "    inputs,\n",
    "    config,\n",
    "    [\"retrieve\", \"grade_documents\", \"query_rewrite\", \"web_search_node\", \"generate\"],\n",
    ")"
   ]
  },
  {
   "cell_type": "code",
   "execution_count": 20,
   "metadata": {},
   "outputs": [],
   "source": [
    "# config 설정(재귀 최대 횟수, thread_id)\n",
    "config = RunnableConfig(recursion_limit=20, configurable={\"thread_id\": random_uuid()})\n",
    "\n",
    "# 질문 입력\n",
    "inputs = {\n",
    "    \"question\": \"2024년 노벨문학상 수상자의 이름은?\",\n",
    "}"
   ]
  },
  {
   "cell_type": "code",
   "execution_count": 21,
   "metadata": {},
   "outputs": [
    {
     "name": "stdout",
     "output_type": "stream",
     "text": [
      "\n",
      "==================================================\n",
      "🔄 Node: \u001b[1;36mretrieve\u001b[0m 🔄\n",
      "- - - - - - - - - - - - - - - - - - - - - - - - - \n",
      "page_content='∙ 유재흥, 노재원, 장진철, 조지연 (2024.07), 해외 AI안전연구소 추진 현황과 시사점, SPRi 이슈리포트\n",
      "∙ 한미정 (2024. 03), 삼성 SDS 인사이트 리포트: AI 리스크에 대한 글로벌 대응 동향 및 시사점\n",
      "∙ 이은경, 이동현, 조원영 (2024.06), SW로 탄소중립을 지원하는 기후 기술·기업 사례 연구, SPRi 이슈리포트\n",
      "25' metadata={'source': './data/IS-183_AI 위험 유형 및 사례 분석(최종).pdf', 'file_path': './data/IS-183_AI 위험 유형 및 사례 분석(최종).pdf', 'page': 29, 'total_pages': 32, 'Author': 'user', 'Creator': 'Hwp 2018 10.0.0.14241', 'Producer': 'Hancom PDF 1.3.0.547', 'CreationDate': \"D:20241106094709+09'00'\", 'ModDate': \"D:20241106094709+09'00'\", 'PDFVersion': '1.4'}\n",
      "page_content='국내문헌\n",
      "∙ 외교부 (2024.05), AI 서울 정상회의 서울 선언 및 의향서\n",
      "∙ 한국정보통신기술협회(TTA) (2023.12), 인공지능 시스템 신뢰성 제고를 위한 요구사항\n",
      "∙ 김태순 (2024.05), The AI Report: 美 NIST AI 위험관리 프레임워크(AI RMF) 1.0 분석 및 시사점, NIA\n",
      "∙ 장진철, 노재원, 유재흥, 조지연 (2024.08), 책임 있는 AI를 위한 기업의 노력과 시사점, SPRi 이슈리포트' metadata={'source': './data/IS-183_AI 위험 유형 및 사례 분석(최종).pdf', 'file_path': './data/IS-183_AI 위험 유형 및 사례 분석(최종).pdf', 'page': 29, 'total_pages': 32, 'Author': 'user', 'Creator': 'Hwp 2018 10.0.0.14241', 'Producer': 'Hancom PDF 1.3.0.547', 'CreationDate': \"D:20241106094709+09'00'\", 'ModDate': \"D:20241106094709+09'00'\", 'PDFVersion': '1.4'}\n",
      "page_content='41 조선경제(2024.9.24.), “세계는 빅테크 독점 규제”\n",
      "42 이은경, 이동현, 조원영 (2024.06), “SW로 탄소중립을 지원하는 기후 기술·기업 사례 연구”, SPRi 이슈리포트\n",
      "18' metadata={'source': './data/IS-183_AI 위험 유형 및 사례 분석(최종).pdf', 'file_path': './data/IS-183_AI 위험 유형 및 사례 분석(최종).pdf', 'page': 22, 'total_pages': 32, 'Author': 'user', 'Creator': 'Hwp 2018 10.0.0.14241', 'Producer': 'Hancom PDF 1.3.0.547', 'CreationDate': \"D:20241106094709+09'00'\", 'ModDate': \"D:20241106094709+09'00'\", 'PDFVersion': '1.4'}\n",
      "page_content='실전에 투입되어, 시뮬레이션, 공격대상 타격, 적 탐지 등의 용도로 활용\n",
      "29 Jinzhe Tan 외 (2023.7), \"ChatGPT as an Artificial Lawyer?\"\n",
      "30 Yixin Wan 외 (2023.12), ““Kelly is a Warm Person, Joseph is a Role Model”: Gender Biases in LLM-Generated Reference Letters“' metadata={'source': './data/IS-183_AI 위험 유형 및 사례 분석(최종).pdf', 'file_path': './data/IS-183_AI 위험 유형 및 사례 분석(최종).pdf', 'page': 19, 'total_pages': 32, 'Author': 'user', 'Creator': 'Hwp 2018 10.0.0.14241', 'Producer': 'Hancom PDF 1.3.0.547', 'CreationDate': \"D:20241106094709+09'00'\", 'ModDate': \"D:20241106094709+09'00'\", 'PDFVersion': '1.4'}\n",
      "page_content='투표를 억제하는 전화 메시지를 전달(2024.1.22)18\n",
      "ㅇ 美 연방통신위원회는 사칭 전화를 기획한 정치 컨설턴트 스티븐 크레이머(Steven\n",
      "Kramer)에게 벌금형을 부과(2024.5.24)19\n",
      "(사례3) 딥페이크 포르노\n",
      "ㅇ 미국과 호주의 공동 연구진은 NSII의 특정 형태인 “딥페이크 포르노”와 관련된\n",
      "태도와 행동에 대해 10개국* 국민 대상 조사를 실시(2024.1.26)20\n",
      "* 미국, 호주, 스페인, 한국, 폴란드, 네덜란드, 멕시코, 프랑스, 덴마크, 벨기에' metadata={'source': './data/IS-183_AI 위험 유형 및 사례 분석(최종).pdf', 'file_path': './data/IS-183_AI 위험 유형 및 사례 분석(최종).pdf', 'page': 16, 'total_pages': 32, 'Author': 'user', 'Creator': 'Hwp 2018 10.0.0.14241', 'Producer': 'Hancom PDF 1.3.0.547', 'CreationDate': \"D:20241106094709+09'00'\", 'ModDate': \"D:20241106094709+09'00'\", 'PDFVersion': '1.4'}\n",
      "page_content='AI의 노동 대체 가능성을 제시3637\n",
      "∙ 제조업 분야가 93만 개로 가장 많은 일자리 대체가 전망되었으며, 직종으로는 193만 개의 전문직(약 60%)이\n",
      "소멸할 것으로 전망\n",
      "33 Juan-Pablo Rivera 외(2024.7), “Escalation Risks from Language Models in Military and Diplomatic Decision-Making”' metadata={'source': './data/IS-183_AI 위험 유형 및 사례 분석(최종).pdf', 'file_path': './data/IS-183_AI 위험 유형 및 사례 분석(최종).pdf', 'page': 20, 'total_pages': 32, 'Author': 'user', 'Creator': 'Hwp 2018 10.0.0.14241', 'Producer': 'Hancom PDF 1.3.0.547', 'CreationDate': \"D:20241106094709+09'00'\", 'ModDate': \"D:20241106094709+09'00'\", 'PDFVersion': '1.4'}\n",
      "page_content='31 Kelly Avery Mack 외 (2024.5), ““They only care to show us the wheelchair”: disability representation in text-to-image AI models“\n",
      "32 Lilian Mitrou 외(2022.1), “Human Control and Discretion in AI-driven Decision-making in Government”\n",
      "15' metadata={'source': './data/IS-183_AI 위험 유형 및 사례 분석(최종).pdf', 'file_path': './data/IS-183_AI 위험 유형 및 사례 분석(최종).pdf', 'page': 19, 'total_pages': 32, 'Author': 'user', 'Creator': 'Hwp 2018 10.0.0.14241', 'Producer': 'Hancom PDF 1.3.0.547', 'CreationDate': \"D:20241106094709+09'00'\", 'ModDate': \"D:20241106094709+09'00'\", 'PDFVersion': '1.4'}\n",
      "page_content='SPRi\u0000이슈리포트IS-183 AI\u0000위험유형및사례분석\n",
      "가능하게 하여 남용될 가능성 존재\n",
      "(사례14) 개인데이터 노출 사례\n",
      "ㅇ 구글 딥마인드와 대학 공동 연구진은 챗GPT(GPT3.5-Turbo)에 단순한 프롬프트\n",
      "공격으로 개인 정보를 비롯한 1만개 훈련 데이터를 추출할 수 있었다는 논문이 arXiv에\n",
      "게재(‘23.7)43\n",
      "ㅇ 개인정보보호위원회는 챗GPT 이용자들의 개인정보를 유출하고 신고하지 않은 오픈AI에\n",
      "대해 신고의무 위반으로 과태료를 부과 (‘23.7)' metadata={'source': './data/IS-183_AI 위험 유형 및 사례 분석(최종).pdf', 'file_path': './data/IS-183_AI 위험 유형 및 사례 분석(최종).pdf', 'page': 23, 'total_pages': 32, 'Author': 'user', 'Creator': 'Hwp 2018 10.0.0.14241', 'Producer': 'Hancom PDF 1.3.0.547', 'CreationDate': \"D:20241106094709+09'00'\", 'ModDate': \"D:20241106094709+09'00'\", 'PDFVersion': '1.4'}\n",
      "page_content='22 Kai-Cheng Yang 외 (2023.7), “Anatomy of an AI-powered malicious social botnet”, arXiv:2307.16336\n",
      "23 Li Zhong 외 (2024.3),“Can LLM Replace Stack Overflow? A Study on Robustness and Reliability of Large Language\n",
      "Model Code Generation”, Proceedings of the AAAI Conference on Artificial Intelligence.' metadata={'source': './data/IS-183_AI 위험 유형 및 사례 분석(최종).pdf', 'file_path': './data/IS-183_AI 위험 유형 및 사례 분석(최종).pdf', 'page': 17, 'total_pages': 32, 'Author': 'user', 'Creator': 'Hwp 2018 10.0.0.14241', 'Producer': 'Hancom PDF 1.3.0.547', 'CreationDate': \"D:20241106094709+09'00'\", 'ModDate': \"D:20241106094709+09'00'\", 'PDFVersion': '1.4'}\n",
      "page_content='28 Eric Martinez (2024.3), “Re-evaluating GPT-4’s bar exam performance”, Artificial Intelligence and Law.\n",
      "14' metadata={'source': './data/IS-183_AI 위험 유형 및 사례 분석(최종).pdf', 'file_path': './data/IS-183_AI 위험 유형 및 사례 분석(최종).pdf', 'page': 18, 'total_pages': 32, 'Author': 'user', 'Creator': 'Hwp 2018 10.0.0.14241', 'Producer': 'Hancom PDF 1.3.0.547', 'CreationDate': \"D:20241106094709+09'00'\", 'ModDate': \"D:20241106094709+09'00'\", 'PDFVersion': '1.4'}\n",
      "==================================================\n",
      "==== [ASSESS GRADED DOCUMENTS] ====\n",
      "==== [DECISION: ALL DOCUMENTS ARE NOT RELEVANT TO QUESTION, QUERY REWRITE] ====\n",
      "\n",
      "==================================================\n",
      "🔄 Node: \u001b[1;36mgrade_documents\u001b[0m 🔄\n",
      "- - - - - - - - - - - - - - - - - - - - - - - - - \n",
      "\u001b[94mweb_search\u001b[0m:\n",
      "Yes\n",
      "==================================================\n",
      "\n",
      "==================================================\n",
      "🔄 Node: \u001b[1;36mquery_rewrite\u001b[0m 🔄\n",
      "- - - - - - - - - - - - - - - - - - - - - - - - - \n",
      "\u001b[94mquestion\u001b[0m:\n",
      "2024년 노벨 문학상 수상자는 누구인가요?\n",
      "==================================================\n",
      "\n",
      "==================================================\n",
      "🔄 Node: \u001b[1;36mweb_search_node\u001b[0m 🔄\n",
      "- - - - - - - - - - - - - - - - - - - - - - - - - \n",
      "page_content='2024 노벨문학상 수상자인 한강(가운데) 작가가 10일 스웨덴 스톡홀름콘서트홀에서 칼 구스타프 16세 스웨덴 국왕으로부터 노벨상 증서와 메달을 받은 뒤, 자리로 돌아가 환하게 웃고 있다. 곧이어 한강 작가가 칼 구스타프 16세 스웨덴 국왕으로부터 노벨문학상 증서와 메달을 받았고, 장내에서는 기립 박수가 터졌다. 2024 노벨문학상 수상자인 한강(아래 왼쪽) 작가가 10일 스웨덴 스톡홀름콘서트홀에서 칼 구스타프 16세(오른쪽) 스웨덴 국왕으로부터 노벨문학상 증서와 메달을 받은 뒤 미소를 짓고 있다. 2024 노벨문학상 수상자인 한강(아래) 작가가 10일 스웨덴 스톡홀름콘서트홀에서 칼 구스타프 16세 스웨덴 국왕으로부터 노벨상 증서와 메달을 받은 뒤, 행사 참석자들로부터 축하의 기립 박수를 받고 있다. 스웨덴 국왕 부부가 무대에 오른 뒤, 한강 작가 등 올해 노벨상 수상자들도 오랜 전통에 따라 ‘블루 카펫’으로 덮인 단상에 올랐다. 스웨덴 스톡홀름 워터프런트 콘그레스센터에 스웨덴 화가 니클라스 엘메헤드가 그린 한강 작가(가운데 줄 맨 오른쪽) 등 2024 노벨상 수상자들의 초상화가 걸려 있다.\n",
      "한국인 최초의 노벨문학상 수상자는 한강 작가였다.스웨덴 한림원은 10일(현지시간) 2024년 노벨문학상 수상자로 한강 작가를 선정했다고 발표했다. 이로써 한 작가는 한국인 최초의 노벨문학상 수상자이자, 2022년 프랑스의 아니 에르노에 이어 열여덟 번째로 노벨문학상을 수상한 여성 작가가 됐다\n",
      "[영상] \"온몸에 전율, 소리 질렀다\"…한강, 첫 한국인 노벨 문학상 쾌거 | 연합뉴스 뉴스, 포토, 영상, 그래픽을 검색하실 수 있습니다. 영상 영상 플레이어 닫기 [영상] \"온몸에 전율, 소리 질렀다\"…한강, 첫 한국인 노벨 문학상 쾌거 (서울=연합뉴스) \"2024년 노벨문학상 수상자는 한국 작가 한강입니다\" 한강은 한국 작가 최초로 노벨 문학상을 받게 됐으며 한국인으로는 지난 2000년 평화상을 탄 고(故) 김대중 전 대통령에 이어 두 번째 노벨상 수상자가 됐습니다. 시민들은 한국 작가 최초 노벨 문학상 수상자 탄생에 \"온몸에 전율이 흘렀다\", \"퇴근길에 소리를 질렀다\", \"눈물이 고였다\"는 반응을 보이며 감격스러워했습니다. 영상: 로이터·AFP·연합뉴스TV·노벨상 홈페이지 최신 영상 [영상] \"자신 일처럼 기뻐해주셔서 감동\"…'활짝' 웃은 한강, 첫 소감은 10-17 20:24 [영상] 한국인 마약사범, 태국 호송차·유치장서 '라이브방송' 논란 10-17 17:32 [영상] 스웨덴 대사관에 '우르르'…\"왜곡작가 노벨상 규탄\" 시위에 발칵 10-17 17:22'\n",
      "==================================================\n",
      "\n",
      "==================================================\n",
      "🔄 Node: \u001b[1;36mgenerate\u001b[0m 🔄\n",
      "- - - - - - - - - - - - - - - - - - - - - - - - - \n",
      "\u001b[94mgeneration\u001b[0m:\n",
      "2024년 노벨 문학상 수상자는 한강입니다. \n",
      "\n",
      "**Source**\n",
      "- Document (page content)\n",
      "==================================================\n"
     ]
    }
   ],
   "source": [
    "# 그래프 실행\n",
    "invoke_graph(app, inputs, config)"
   ]
  },
  {
   "cell_type": "code",
   "execution_count": 22,
   "metadata": {},
   "outputs": [
    {
     "name": "stdout",
     "output_type": "stream",
     "text": [
      "\n",
      "==================================================\n",
      "🔄 Node: \u001b[1;36mgrade_documents\u001b[0m 🔄\n",
      "- - - - - - - - - - - - - - - - - - - - - - - - - \n",
      "==== [ASSESS GRADED DOCUMENTS] ====\n",
      "==== [DECISION: ALL DOCUMENTS ARE NOT RELEVANT TO QUESTION, QUERY REWRITE] ====\n",
      "\n",
      "==================================================\n",
      "🔄 Node: \u001b[1;36mquery_rewrite\u001b[0m 🔄\n",
      "- - - - - - - - - - - - - - - - - - - - - - - - - \n",
      "2024년 노벨 문학상 수상자는 누구인가요?\n",
      "==================================================\n",
      "🔄 Node: \u001b[1;36mgenerate\u001b[0m 🔄\n",
      "- - - - - - - - - - - - - - - - - - - - - - - - - \n",
      "2024년 노벨 문학상 수상자는 한국 작가 한강입니다.\n",
      "\n",
      "**Source**\n",
      "- Document (page 1)"
     ]
    }
   ],
   "source": [
    "# 그래프 실행\n",
    "stream_graph(\n",
    "    app,\n",
    "    inputs,\n",
    "    config,\n",
    "    [\"retrieve\", \"grade_documents\", \"query_rewrite\", \"generate\"],\n",
    ")"
   ]
  }
 ],
 "metadata": {
  "kernelspec": {
   "display_name": "langchain-note-2024-PFhCXHTX-py3.12",
   "language": "python",
   "name": "python3"
  },
  "language_info": {
   "codemirror_mode": {
    "name": "ipython",
    "version": 3
   },
   "file_extension": ".py",
   "mimetype": "text/x-python",
   "name": "python",
   "nbconvert_exporter": "python",
   "pygments_lexer": "ipython3",
   "version": "3.12.7"
  }
 },
 "nbformat": 4,
 "nbformat_minor": 2
}
