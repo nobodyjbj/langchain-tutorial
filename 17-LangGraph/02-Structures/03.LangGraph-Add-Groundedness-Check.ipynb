{
 "cells": [
  {
   "cell_type": "code",
   "execution_count": 5,
   "metadata": {},
   "outputs": [
    {
     "data": {
      "text/plain": [
       "True"
      ]
     },
     "execution_count": 5,
     "metadata": {},
     "output_type": "execute_result"
    }
   ],
   "source": [
    "from dotenv import load_dotenv\n",
    "import sys\n",
    "\n",
    "sys.path.append(\"../../common\")\n",
    "load_dotenv()"
   ]
  },
  {
   "cell_type": "code",
   "execution_count": 2,
   "metadata": {},
   "outputs": [
    {
     "name": "stdout",
     "output_type": "stream",
     "text": [
      "Langsmith 추적이 활성화되었습니다. [프로젝트명: 17.LangGraph-Structures]\n"
     ]
    }
   ],
   "source": [
    "import os\n",
    "from langsmith_tracker import set_tracking\n",
    "\n",
    "# 인스턴스를 생성할 때 필요한 매개변수를 전달합니다.\n",
    "set_tracking(project_name=\"17.LangGraph-Structures\")"
   ]
  },
  {
   "cell_type": "markdown",
   "metadata": {},
   "source": [
    "## 관련성 체크 추가\n",
    "\n",
    "*이제 작성자가 노드, 엣지, 그래프 정의는 할 수 있다는 가정으로 전체 코드를 한 세레 작성합니다.*\n",
    "\n",
    "#### 주요 구성 요소\n",
    "\n",
    "##### 1. 상태 정의 (GraphState)\n",
    "```python\n",
    "class GraphState(TypedDict):\n",
    "    question: Annotated[str, \"Question\"]      # 사용자 질문\n",
    "    context: Annotated[list, \"Context\"]       # 검색된 문서 컨텍스트\n",
    "    answer: Annotated[str, \"Answer\"]          # 생성된 답변\n",
    "    messages: Annotated[list, add_messages]   # 대화 이력\n",
    "    relevance: Annotated[bool, \"Relevance\"]   # 관련성 체크 결과\n",
    "```\n",
    "\n",
    "##### 2. 주요 노드 기능\n",
    "\n",
    "- retrieve_document: PDF 문서에서 관련 내용을 검색\n",
    "- relevance_check: 검색된 문서가 질문과 관련이 있는지 평가\n",
    "- llm_answer: 검색된 문서를 바탕으로 답변 생성\n",
    "- is_relevant: 관련성 체크 결과에 따라 다음 단계 결정\n",
    "\n",
    "##### 3. 워크플로우 특징\n",
    "\n",
    "- 조건부 실행: 관련성 체크 결과에 따라 다른 경로로 진행\n",
    "  - 관련성 있음 → 답변 생성\n",
    "  - 관련성 없음 → 다시 문서 검색\n",
    "\n",
    "- 그래프 흐름:\n",
    "\n",
    "```\n",
    "retrieve_document → relevance_check → [조건부 분기]\n",
    "    ├─ relevant → llm_answer → END\n",
    "    └─ not relevant → retrieve_document (다시 검색)\n",
    "```\n",
    "\n",
    "##### 4. 실행 방식\n",
    "\n",
    "- invoke_graph() 또는 stream_graph()를 통해 그래프 실행\n",
    "- 실행결과는 질문과 답변을 포함한 상태 정보로 반환\n",
    "- 재귀 제한과 스레드 ID 등의 설정이 가능\n",
    "\n",
    "\n",
    "**참고**\n",
    "- 문서 검색에 대한 결과를 생성하는 llm과 관련성 체크를 위한 llm이 다릅니다."
   ]
  },
  {
   "cell_type": "code",
   "execution_count": 10,
   "metadata": {},
   "outputs": [],
   "source": [
    "from rag.pdf import PDFRetrievalChain\n",
    "\n",
    "from typing import Annotated\n",
    "from typing_extensions import TypedDict\n",
    "from langgraph.graph.message import add_messages\n",
    "\n",
    "\n",
    "# PDF 문서 검색 체인 생성, 체인 안에는 llm 이 포함되어 있음\n",
    "pdf = PDFRetrievalChain(\n",
    "    source_uri=[\"./data/IS-183_AI 위험 유형 및 사례 분석(최종).pdf\"]\n",
    ").create_chain()\n",
    "\n",
    "pdf_retriever = pdf.retriever\n",
    "pdf_chain = pdf.chain\n",
    "\n",
    "\n",
    "# 그래프 상태 정의\n",
    "class GraphState(TypedDict):\n",
    "    question: Annotated[str, \"Question\"]  # 질문\n",
    "    context: Annotated[list, \"Context\"]  # 문서의 검색 결과\n",
    "    answer: Annotated[str, \"Answer\"]  # 답변\n",
    "    messages: Annotated[list, add_messages]  # 메시지(누적)\n",
    "    relevance: Annotated[bool, \"Relevance\"]  # 관련성 체크"
   ]
  },
  {
   "cell_type": "code",
   "execution_count": 17,
   "metadata": {},
   "outputs": [],
   "source": [
    "from langchain_openai import ChatOpenAI\n",
    "from evaluators import GroundednessChecker\n",
    "from langchain_print import messages_to_history\n",
    "from rag.utils import format_docs\n",
    "\n",
    "\n",
    "# 노드 정의\n",
    "# 문서 검색 노드\n",
    "def retrieve_document(state: GraphState) -> GraphState:\n",
    "    latest_question = state[\"question\"]\n",
    "    retrieved_docs = pdf_retriever.invoke(latest_question)\n",
    "    retrieved_docs_formatted = format_docs(retrieved_docs)\n",
    "\n",
    "    return GraphState(context=retrieved_docs_formatted)\n",
    "\n",
    "\n",
    "# 답변 생성 노드\n",
    "def llm_answer(state: GraphState) -> GraphState:\n",
    "    # 마지막 질문 추출\n",
    "    latest_question = state[\"question\"]\n",
    "    # 검색된 문서 추출\n",
    "    context = state[\"context\"]\n",
    "\n",
    "    # 답변 생성\n",
    "    response = pdf_chain.invoke(\n",
    "        {\n",
    "            \"question\": latest_question,\n",
    "            \"context\": context,\n",
    "            \"chat_history\": messages_to_history(state[\"messages\"]),\n",
    "        }\n",
    "    )\n",
    "\n",
    "    return GraphState(\n",
    "        answer=response, messages=[(\"user\", latest_question), (\"assistant\", response)]\n",
    "    )\n",
    "\n",
    "\n",
    "# 관령성 체크 노드\n",
    "def relevance_check(state: GraphState) -> GraphState:\n",
    "    llm = ChatOpenAI(model=\"gpt-4o-mini\", temperature=0)\n",
    "\n",
    "    # 검색된 문서와 관련성 평가 생성\n",
    "    # question-retrieval - 모드는 검색된 문서가 질문과 관련이 있는지 평가\n",
    "    checker = GroundednessChecker(llm=llm, target=\"question-retrieval\")\n",
    "    evaluator = checker.create()\n",
    "\n",
    "    response = evaluator.invoke(\n",
    "        {\n",
    "            \"question\": state[\"question\"],  # 질문\n",
    "            \"context\": state[\"context\"],  # 문서의 검색 결과\n",
    "        }\n",
    "    )\n",
    "\n",
    "    print(\"==== [Relevance Check] ====\")\n",
    "    print(response.score)\n",
    "\n",
    "    return {\"relevance\": response.score}\n",
    "\n",
    "\n",
    "# 관련성 체크 결과에 따라 체크 결과를 반환하는 노드\n",
    "def is_relevant(state: GraphState) -> GraphState:\n",
    "    if state[\"relevance\"] == \"yes\":\n",
    "        return \"relevant\"\n",
    "    else:\n",
    "        return \"not relevant\""
   ]
  },
  {
   "cell_type": "code",
   "execution_count": 18,
   "metadata": {},
   "outputs": [
    {
     "data": {
      "image/png": "[encoded data removed]",
      "text/plain": [
       "<IPython.core.display.Image object>"
      ]
     },
     "metadata": {},
     "output_type": "display_data"
    }
   ],
   "source": [
    "from langgraph.graph import END, StateGraph\n",
    "from langgraph.checkpoint.memory import MemorySaver\n",
    "from graphs import visualize_graph\n",
    "\n",
    "# 그래프 정의 및 엣지 설정\n",
    "workflow = StateGraph(GraphState)\n",
    "\n",
    "# 노드 및 엣지 설정\n",
    "workflow.add_node(\"retrieve_document\", retrieve_document)\n",
    "workflow.add_node(\"relevance_check\", relevance_check)\n",
    "workflow.add_node(\"llm_answer\", llm_answer)\n",
    "\n",
    "workflow.add_edge(\"retrieve_document\", \"relevance_check\")\n",
    "\n",
    "# 조건부 노드 추가\n",
    "workflow.add_conditional_edges(\n",
    "    \"relevance_check\",\n",
    "    is_relevant,\n",
    "    {\"relevant\": \"llm_answer\", \"not relevant\": \"retrieve_document\"},\n",
    ")\n",
    "\n",
    "workflow.add_edge(\"llm_answer\", END)\n",
    "\n",
    "# 시작 노드 설정\n",
    "workflow.set_entry_point(\"retrieve_document\")\n",
    "\n",
    "# 메모리 설정\n",
    "memory = MemorySaver()\n",
    "\n",
    "# 그래프 생성\n",
    "app = workflow.compile(checkpointer=memory)\n",
    "\n",
    "# 그래프 시각화\n",
    "visualize_graph(app)"
   ]
  },
  {
   "cell_type": "code",
   "execution_count": 20,
   "metadata": {},
   "outputs": [
    {
     "name": "stdout",
     "output_type": "stream",
     "text": [
      "==== [Relevance Check] ====\n",
      "yes\n",
      "\n",
      "==================================================\n",
      "🔄 Node: \u001b[1;36mrelevance_check\u001b[0m 🔄\n",
      "- - - - - - - - - - - - - - - - - - - - - - - - - \n",
      "==================================================\n",
      "\n",
      "==================================================\n",
      "🔄 Node: \u001b[1;36mllm_answer\u001b[0m 🔄\n",
      "- - - - - - - - - - - - - - - - - - - - - - - - - \n",
      "('user', 'What is the purpose of the IS-183? in Korean')\n",
      "('assistant', 'IS-183의 목적은 AI의 위험 유형을 식별하고 분석하여 안전한 AI 개발 및 활용을 촉진하는 것입니다. 이 보고서는 AI의 위험 요소를 분류하고, 각국의 AI 안전 전담기관과 기업들이 AI 위험에 대한 대응 방안을 수립하는 데 기여하고자 합니다.\\n\\n**Source**\\n- ./data/IS-183_AI 위험 유형 및 사례 분석(최종).pdf (페이지 8)')\n",
      "==================================================\n"
     ]
    }
   ],
   "source": [
    "from langchain_core.runnables import RunnableConfig\n",
    "from langchain_print import stream_graph, invoke_graph, random_uuid\n",
    "\n",
    "# 그래프 환경 설정\n",
    "config = RunnableConfig(recursion_limit=10, configurable={\"thread_id\": random_uuid()})\n",
    "\n",
    "# 입력 설정\n",
    "inputs = GraphState(question=\"What is the purpose of the IS-183? in Korean\")\n",
    "\n",
    "# 그래프 실행\n",
    "invoke_graph(app, inputs, config, [\"relevance_check\", \"llm_answer\"])"
   ]
  },
  {
   "cell_type": "code",
   "execution_count": 21,
   "metadata": {},
   "outputs": [
    {
     "name": "stdout",
     "output_type": "stream",
     "text": [
      "\n",
      "==================================================\n",
      "🔄 Node: \u001b[1;36mrelevance_check\u001b[0m 🔄\n",
      "- - - - - - - - - - - - - - - - - - - - - - - - - \n",
      "==== [Relevance Check] ====\n",
      "yes\n",
      "\n",
      "==================================================\n",
      "🔄 Node: \u001b[1;36mllm_answer\u001b[0m 🔄\n",
      "- - - - - - - - - - - - - - - - - - - - - - - - - \n",
      "IS-183의 목적은 AI의 위험 요소를 식별하고 분석하여 안전한 AI 개발 및 활용을 촉진하는 것입니다. 이 보고서는 AI의 위험 요소를 분류하고, 각국의 AI 안전 전담기관과 기업들이 AI 위험에 대한 대응 방안을 수립하는 데 기여하고자 합니다.\n",
      "\n",
      "**Source**\n",
      "- ./data/IS-183_AI 위험 유형 및 사례 분석(최종).pdf (페이지 8)"
     ]
    }
   ],
   "source": [
    "# 그래프 토큰 스트리밍 출력\n",
    "stream_graph(app, inputs, config, [\"relevance_check\", \"llm_answer\"])"
   ]
  },
  {
   "cell_type": "code",
   "execution_count": 23,
   "metadata": {},
   "outputs": [
    {
     "name": "stdout",
     "output_type": "stream",
     "text": [
      "Question: What is the purpose of the IS-183? in Korean\n",
      "============================================================\n",
      "Answer:\n",
      "IS-183의 목적은 AI의 위험 요소를 식별하고 분석하여 안전한 AI 개발 및 활용을 촉진하는 것입니다. 이 보고서는 AI의 위험 요소를 분류하고, 각국의 AI 안전 전담기관과 기업들이 AI 위험에 대한 대응 방안을 수립하는 데 기여하고자 합니다.\n",
      "\n",
      "**Source**\n",
      "- ./data/IS-183_AI 위험 유형 및 사례 분석(최종).pdf (페이지 8)\n"
     ]
    }
   ],
   "source": [
    "# get_state 는 그래프의 현재 상태를 가져옴\n",
    "outputs = app.get_state(config).values\n",
    "\n",
    "# 현재 상태의 질문을 출력\n",
    "print(f'Question: {outputs[\"question\"]}')\n",
    "print(\"===\" * 20)\n",
    "# 현재 상태의 답변을 출력\n",
    "print(f'Answer:\\n{outputs[\"answer\"]}')"
   ]
  },
  {
   "cell_type": "code",
   "execution_count": 25,
   "metadata": {},
   "outputs": [
    {
     "name": "stdout",
     "output_type": "stream",
     "text": [
      "yes\n"
     ]
    }
   ],
   "source": [
    "# 현재 상태의 관련성 체크 결과를 출력\n",
    "print(outputs[\"relevance\"])"
   ]
  },
  {
   "cell_type": "markdown",
   "metadata": {},
   "source": [
    "현재 코드의 문제점 :  \n",
    "- `relevance_check` 가 실패할 경우, 반복하여 동일한 Query 가 다시 `retrieve_document` 노드로 전달됩니다.\n",
    "- 반복하여 동일한 Query 가 다시 `retrieve_document` 노드로 전달되면, 동일한 검색결과로 이어지기 때문에 결국 재귀상태에 빠지게 됩니다.\n",
    "- 이러한 예외상황을 처리하기 위해, **재귀 최대 횟수(recursion_limit)** 를 설정합니다. 그리고 에러처리를 위해 `GraphRecursionError` 를 처리합니다."
   ]
  },
  {
   "cell_type": "code",
   "execution_count": 26,
   "metadata": {},
   "outputs": [
    {
     "name": "stdout",
     "output_type": "stream",
     "text": [
      "==== [Relevance Check] ====\n",
      "yes\n",
      "\n",
      "==================================================\n",
      "🔄 Node: \u001b[1;36mrelevance_check\u001b[0m 🔄\n",
      "- - - - - - - - - - - - - - - - - - - - - - - - - \n",
      "==================================================\n",
      "\n",
      "==================================================\n",
      "🔄 Node: \u001b[1;36mllm_answer\u001b[0m 🔄\n",
      "- - - - - - - - - - - - - - - - - - - - - - - - - \n",
      "('user', 'What is the purpose of the IS-183? in Korean')\n",
      "('assistant', 'IS-183의 목적은 AI의 위험 유형을 식별하고 분석하여 안전한 AI 개발 및 활용을 촉진하는 것입니다. 이 보고서는 AI의 위험 요소를 분류하고, 각국의 AI 안전 전담기관과 기업들이 AI 위험에 대한 대응 방안을 수립하는 데 기여합니다.\\n\\n**Source**\\n- ./data/IS-183_AI 위험 유형 및 사례 분석(최종).pdf (페이지 8)')\n",
      "==================================================\n"
     ]
    }
   ],
   "source": [
    "from langchain_core.runnables import RunnableConfig\n",
    "from langchain_print import stream_graph, invoke_graph, random_uuid\n",
    "from langgraph.errors import GraphRecursionError\n",
    "\n",
    "# 그래프 환경 설정\n",
    "config = RunnableConfig(recursion_limit=10, configurable={\"thread_id\": random_uuid()})\n",
    "\n",
    "# 입력 설정\n",
    "inputs = GraphState(question=\"What is the purpose of the IS-183? in Korean\")\n",
    "\n",
    "try:\n",
    "    invoke_graph(app, inputs, config, [\"relevance_check\", \"llm_answer\"])\n",
    "except GraphRecursionError as recursion_error:\n",
    "    print(f\"GraphRecursionError: {recursion_error}\")"
   ]
  }
 ],
 "metadata": {
  "kernelspec": {
   "display_name": "langchain-note-2024-PFhCXHTX-py3.12",
   "language": "python",
   "name": "python3"
  },
  "language_info": {
   "codemirror_mode": {
    "name": "ipython",
    "version": 3
   },
   "file_extension": ".py",
   "mimetype": "text/x-python",
   "name": "python",
   "nbconvert_exporter": "python",
   "pygments_lexer": "ipython3",
   "version": "3.12.7"
  }
 },
 "nbformat": 4,
 "nbformat_minor": 2
}
