{
 "cells": [
  {
   "cell_type": "code",
   "execution_count": 1,
   "metadata": {},
   "outputs": [
    {
     "data": {
      "text/plain": [
       "True"
      ]
     },
     "execution_count": 1,
     "metadata": {},
     "output_type": "execute_result"
    }
   ],
   "source": [
    "from dotenv import load_dotenv\n",
    "import sys\n",
    "\n",
    "sys.path.append(\"../../common\")\n",
    "load_dotenv()"
   ]
  },
  {
   "cell_type": "code",
   "execution_count": 2,
   "metadata": {},
   "outputs": [
    {
     "name": "stdout",
     "output_type": "stream",
     "text": [
      "Langsmith 추적이 활성화되었습니다. [프로젝트명: 17.LangGraph-Structures]\n"
     ]
    }
   ],
   "source": [
    "import os\n",
    "from langsmith_tracker import set_tracking\n",
    "\n",
    "# 인스턴스를 생성할 때 필요한 매개변수를 전달합니다.\n",
    "set_tracking(project_name=\"17.LangGraph-Structures\")"
   ]
  },
  {
   "cell_type": "markdown",
   "metadata": {},
   "source": [
    "## 웹 검색 모듈 추가\n",
    "\n",
    "03.LangGraph-Add-Groundedness-Check.ipynb 에서 이어서 진행합니다.  \n",
    "  \n",
    "03.LangGraph-Add-Groundedness-Check.ipynb 에서 관령성 체크 실패시 다시 문서를 검색하는 것이 아니라 웹 검색을 통해 정보를 찾는 것을 구현합니다.\n",
    "  \n",
    "##### 그래프 흐름\n",
    "\n",
    "![langgraph_structures_web_search.png](./assets/langgraph_structures_add_web_search.png)"
   ]
  },
  {
   "cell_type": "code",
   "execution_count": 3,
   "metadata": {},
   "outputs": [],
   "source": [
    "from rag.pdf import PDFRetrievalChain\n",
    "\n",
    "from typing import Annotated\n",
    "from typing_extensions import TypedDict\n",
    "from langgraph.graph.message import add_messages\n",
    "\n",
    "\n",
    "# PDF 문서 검색 체인 생성, 체인 안에는 llm 이 포함되어 있음\n",
    "pdf = PDFRetrievalChain(\n",
    "    source_uri=[\"./data/IS-183_AI 위험 유형 및 사례 분석(최종).pdf\"]\n",
    ").create_chain()\n",
    "\n",
    "pdf_retriever = pdf.retriever\n",
    "pdf_chain = pdf.chain\n",
    "\n",
    "\n",
    "# 그래프 상태 정의\n",
    "class GraphState(TypedDict):\n",
    "    question: Annotated[str, \"Question\"]  # 질문\n",
    "    context: Annotated[list, \"Context\"]  # 문서의 검색 결과\n",
    "    answer: Annotated[str, \"Answer\"]  # 답변\n",
    "    messages: Annotated[list, add_messages]  # 메시지(누적)\n",
    "    relevance: Annotated[bool, \"Relevance\"]  # 관련성 체크"
   ]
  },
  {
   "cell_type": "code",
   "execution_count": 4,
   "metadata": {},
   "outputs": [],
   "source": [
    "from langchain_openai import ChatOpenAI\n",
    "from evaluators import GroundednessChecker\n",
    "from langchain_print import messages_to_history\n",
    "from rag.utils import format_docs\n",
    "\n",
    "\n",
    "# 노드 정의\n",
    "# 문서 검색 노드\n",
    "def retrieve_document(state: GraphState) -> GraphState:\n",
    "    latest_question = state[\"question\"]\n",
    "    retrieved_docs = pdf_retriever.invoke(latest_question)\n",
    "    retrieved_docs_formatted = format_docs(retrieved_docs)\n",
    "\n",
    "    return GraphState(context=retrieved_docs_formatted)\n",
    "\n",
    "\n",
    "# 답변 생성 노드\n",
    "def llm_answer(state: GraphState) -> GraphState:\n",
    "    # 마지막 질문 추출\n",
    "    latest_question = state[\"question\"]\n",
    "    # 검색된 문서 추출\n",
    "    context = state[\"context\"]\n",
    "\n",
    "    # 답변 생성\n",
    "    response = pdf_chain.invoke(\n",
    "        {\n",
    "            \"question\": latest_question,\n",
    "            \"context\": context,\n",
    "            \"chat_history\": messages_to_history(state[\"messages\"]),\n",
    "        }\n",
    "    )\n",
    "\n",
    "    return GraphState(\n",
    "        answer=response, messages=[(\"user\", latest_question), (\"assistant\", response)]\n",
    "    )\n",
    "\n",
    "\n",
    "# 관령성 체크 노드\n",
    "def relevance_check(state: GraphState) -> GraphState:\n",
    "    llm = ChatOpenAI(model=\"gpt-4o-mini\", temperature=0)\n",
    "\n",
    "    # 검색된 문서와 관련성 평가 생성\n",
    "    # question-retrieval - 모드는 검색된 문서가 질문과 관련이 있는지 평가\n",
    "    checker = GroundednessChecker(llm=llm, target=\"question-retrieval\")\n",
    "    evaluator = checker.create()\n",
    "\n",
    "    response = evaluator.invoke(\n",
    "        {\n",
    "            \"question\": state[\"question\"],  # 질문\n",
    "            \"context\": state[\"context\"],  # 문서의 검색 결과\n",
    "        }\n",
    "    )\n",
    "\n",
    "    print(\"==== [Relevance Check] ====\")\n",
    "    print(response.score)\n",
    "\n",
    "    return {\"relevance\": response.score}\n",
    "\n",
    "\n",
    "# 관련성 체크 결과에 따라 체크 결과를 반환하는 노드\n",
    "def is_relevant(state: GraphState) -> GraphState:\n",
    "    if state[\"relevance\"] == \"yes\":\n",
    "        return \"relevant\"\n",
    "    else:\n",
    "        return \"not relevant\""
   ]
  },
  {
   "cell_type": "markdown",
   "metadata": {},
   "source": [
    "웹 검색 노드를 추가합니다."
   ]
  },
  {
   "cell_type": "code",
   "execution_count": 10,
   "metadata": {},
   "outputs": [],
   "source": [
    "from tools_tavily import TavilySearch\n",
    "\n",
    "\n",
    "def web_search(state: GraphState) -> GraphState:\n",
    "    tavily_tool = TavilySearch()\n",
    "    search_query = state[\"question\"]\n",
    "\n",
    "    search_results = tavily_tool.invoke(\n",
    "        input=search_query,  # 검색 쿼리\n",
    "        topic=\"general\",  # 주제\n",
    "        max_results=5,  # 최대 검색 결과 수\n",
    "        format_output=True,  # 결과 포매팅\n",
    "    )\n",
    "\n",
    "    return GraphState(context=search_results)"
   ]
  },
  {
   "cell_type": "code",
   "execution_count": 11,
   "metadata": {},
   "outputs": [
    {
     "data": {
      "image/png": "[encoded data removed]",
      "text/plain": [
       "<IPython.core.display.Image object>"
      ]
     },
     "metadata": {},
     "output_type": "display_data"
    }
   ],
   "source": [
    "from langgraph.graph import END, StateGraph\n",
    "from langgraph.checkpoint.memory import MemorySaver\n",
    "from graphs import visualize_graph\n",
    "\n",
    "# 그래프 정의 및 엣지 설정\n",
    "workflow = StateGraph(GraphState)\n",
    "\n",
    "# 노드 및 엣지 설정\n",
    "workflow.add_node(\"retrieve_document\", retrieve_document)\n",
    "workflow.add_node(\"relevance_check\", relevance_check)\n",
    "workflow.add_node(\"llm_answer\", llm_answer)\n",
    "# 웹검색 노드 추가\n",
    "workflow.add_node(\"web_search\", web_search)\n",
    "\n",
    "workflow.add_edge(\"retrieve_document\", \"relevance_check\")\n",
    "\n",
    "# 조건부 노드 추가\n",
    "workflow.add_conditional_edges(\n",
    "    \"relevance_check\",\n",
    "    is_relevant,\n",
    "    {\"relevant\": \"llm_answer\", \"not relevant\": \"web_search\"},\n",
    ")\n",
    "\n",
    "\n",
    "workflow.add_edge(\"web_search\", \"llm_answer\")\n",
    "workflow.add_edge(\"llm_answer\", END)\n",
    "\n",
    "# 시작 노드 설정\n",
    "workflow.set_entry_point(\"retrieve_document\")\n",
    "\n",
    "# 메모리 설정\n",
    "memory = MemorySaver()\n",
    "\n",
    "# 그래프 생성\n",
    "app = workflow.compile(checkpointer=memory)\n",
    "\n",
    "# 그래프 시각화\n",
    "visualize_graph(app)"
   ]
  },
  {
   "cell_type": "code",
   "execution_count": 12,
   "metadata": {},
   "outputs": [
    {
     "name": "stdout",
     "output_type": "stream",
     "text": [
      "\n",
      "==================================================\n",
      "🔄 Node: \u001b[1;36mretrieve_document\u001b[0m 🔄\n",
      "- - - - - - - - - - - - - - - - - - - - - - - - - \n",
      "==================================================\n",
      "==== [Relevance Check] ====\n",
      "no\n",
      "\n",
      "==================================================\n",
      "🔄 Node: \u001b[1;36mweb_search\u001b[0m 🔄\n",
      "- - - - - - - - - - - - - - - - - - - - - - - - - \n",
      "{'title': '[K-Lit] Han Kang (한강): 2024 Nobel Prize Winner in Literature', 'url': 'https://koreancultureblog.com/2024/10/13/k-lit-han-kang-한강-2024-nobel-prize-winner-in-literature/', 'content': 'Congratulations to Korean novelist and poet Han Kang (한강) for winning the 2024 Nobel Prize in Literature! In 2016, Han became the first Korean writer to win the Man Booker International Prize for this work, alongside translator Deborah Smith. Han’s recognition as a Nobel laureate not only highlights Han’s literary achievements but also signifies the growing global influence of Korean culture, following the footsteps of director Bong Joon-ho’s Oscar-winning K-movie Parasite, the global success of K-drama Squid Game, and the international popularity of K-pop groups like BTS and BLACKPINK. Kim Tong-hyung, “South Koreans are joyful after Han Kang wins Nobel Prize for literature”, ABC News, 2024-10-11 Ella Creamer, “South Korean author Han Kang wins the 2024 Nobel prize in literature”, The Guardian, 2024-10-10', 'score': 0.93338853, 'raw_content': 'Korean Culture Blog\\n\\n[K-Lit] Han Kang (한강): 2024 Nobel Prize Winner in\\xa0Literature\\nCongratulations to Korean novelist and poet Han Kang (한강) for winning the 2024 Nobel Prize in Literature! 🥳🎉\\nThis prestigious accolade marks several significant milestones:\\xa0 she is the first South Korean writer and the first Asian woman to claim this honor.\\xa0 She is also the second Korean Nobel laureate, following the late former President Kim Dae-jung’s Nobel Peace Prize in 2000.\\xa0\\nThe news has sparked widespread celebration across South Korea, with even parliamentary hearings paused as lawmakers cheered and applauded Han’s achievement. Following the announcement, there was a surge in publicity and sales of Han’s works, causing some bookstore websites to crash from heavy traffic.\\xa0\\nEarly Life and Literary Journey\\nBorn in 1970 in Gwangju, Han grew up in a literary family, with her father being a renowned novelist and her elder brother also a writer. At the age of 10, she moved to Seoul, where she studied Korean language and literature at Yonsei University.\\xa0 Her literary career began in 1993 with poetry, followed by her debut as a novelist in 1994 with a short story. Over the past three decades, Han has become a celebrated author in South Korea, winning numerous awards, including the prestigious Yi Sang Literary Award – an honor also won by his father in 1988, making them the first father-daughter duo to receive this recognition.\\xa0\\nNotable Works\\nHan’s international fame skyrocketed with the English translation of her novel The Vegetarian (채식주의자) (2007) in 2015. This surreal narrative explores the life-altering consequences faced by a woman who chooses to stop eating meat, leading to violent repercussions from her family and society. In 2016, Han became the first Korean writer to win the Man Booker International Prize for this work, alongside translator Deborah Smith. The Man Booker International Prize, along with the Nobel Prize and France’s Prix Goncourt, is considered one of the world’s three major literary awards. Additionally, the novel has been adapted into a movie of the same title, further expanding its reach and impact. Click here for the movie’s trailer.\\nHan’s writing often delves into themes of human trauma, violence, and the complexities of identity. Some of her works also incorporate dark moments from Korea’s modern history, such as the 1980 Gwangju Uprising – a brutal crackdown on pro-democracy protesters that resulted in approximately 200 deaths and hundreds of injuries. This event serves as a backdrop for her novel Human Acts (소년이 온다) (2014), which follows a boy’s search for his friend amidst state violence and civil unrest.\\xa0\\nHer latest novel, We Do Not Part (작별하지 않는다) (2021), explores the impact of the 1948 Jeju uprising, during which nearly 10% of the island’s population at the time were killed in an anti-communist purge, through the perspectives of three women. The French translation of the novel won the Prix Medicis for foreign literature (one of the four major literary awards in France) in 2023, further solidifying Han’s international reputation.\\nOther works tackle more personal traumas. For instance, Greek Lessons (희랍어 시간)(2011) tells the story of a tender bond between a woman who loses her ability to speak after losing his mother and the custody of her son and a professor of Ancient Greek whose vision is slowly fading due to a hereditary condition. The work has garnered praise for its lyrical prose and emotional depth.\\xa0 The White Book (흰) (2016), is related to the loss of Han’s elder sister, who died only a couple of hours after birth. This work employs an unconventional narrative with short meditations on the color white to discuss grief, loss, and the fragile nature of the human spirit, structured around a list of white objects—like snow, rice, newborn gown, blank paper, and white hair — each serving as a meditation on loss and memory.\\xa0\\nNobel Prize Recognition and Significance\\nThe Nobel Prize Committee praised Han for her “intense poetic prose that confronts historical traumas and exposes the fragility of human life”. South Korean President Yoon Suk-yeol lauded Han’s work as a reflection of the nation’s painful history transformed into great literature.\\xa0\\nIn a telephone interview following the announcement, Han expressed surprise and honor. According to her father, Han initially thought the news of her win might be a scam when she received the call before the official announcement.\\nHan’s recognition as a Nobel laureate not only highlights Han’s literary achievements but also signifies the growing global influence of Korean culture, following the footsteps of director Bong Joon-ho’s Oscar-winning K-movie Parasite, the global success of K-drama Squid Game, and the international popularity of K-pop groups like BTS and BLACKPINK.\\xa0\\xa0\\nFurthermore, Han’s award shines a spotlight on the broader movement to translate and promote Korean literature around the world, an effort spearheaded by the Literature Translation Institute of Korea.\\xa0\\nAs we celebrate Han Kang’s monumental achievement, we look forward to the increasing recognition of Korean literature on the international stage.\\nHappy reading! 😀📚\\nNote: A\\xa0video version\\xa0of this post is available on “Korean Culture Village” YouTube channel.\\nReminder: You can follow my blog by clicking the “Follow” button on the sidebar to receive email notifications of new posts.\\xa0\\nReferences:\\nHwang Ji-yoon, “Discovering Han Kang: Nobel laureate bridging history and humanity through literature”, The Chosun Daily, 2024-10-11\\nKim Tong-hyung, “South Koreans are joyful after Han Kang wins Nobel Prize for literature”, ABC News, 2024-10-11\\nJoyce Lee and Ju-min Park, “Nobel Prize winner Han Kang’s books fly off the shelves in South Korea”, Reuters, 2024-10-11\\nJoyce Lee and Ju-min Park, “Han Kang’s Nobel spurs hope of global recognition for Korean literature”, Reuters, 2024-10-11\\nPark Han-sol, “Han Kang’s quiet literary revolution: from “The Vegetarian” to Nobel fame”, The Korean Times, 2024-10-11\\nSong Yoo-jin, “How Han Kang won the Nobel Prize”, Arirang News, 2024-10-11\\nSonja Anderson, “Han Kang Becomes the First South Korean Author to Win the Nobel Prize in Literature”, Smithsonian Magazine, 2024-10-10\\nElla Creamer, “South Korean author Han Kang wins the 2024 Nobel prize in literature”, The Guardian, 2024-10-10\\nAnnabel Rackham, “South Korea’s Han Kang wins Nobel Literature Prize”, BBC, 2024-10-10\\nShare this:\\nPost navigation\\nPlease share your comments or thoughts here Cancel reply\\n\\nΔ\\nSearch this site\\nRecent Posts\\nCategories\\nFollow Blog via Email\\nEnter your email address to follow this blog and receive notifications of new posts by email.\\n\\n\\n\\t\\t\\t\\t\\t\\tEmail Address:\\t\\t\\t\\t\\t\\n \\n\\n\\n\\n\\n\\n\\n \\n\\t\\t\\t\\t\\t\\tFollow\\t\\t\\t\\t\\t\\n\\nRSS Links\\n\\n\\n\\n'}\n",
      "{'title': \"Han Kang wins Nobel Prize in literature 2024 for 'intense ... - CNN\", 'url': 'https://www.cnn.com/2024/10/10/style/han-kang-nobel-prize-literature-intl/index.html', 'content': 'The 2024 Nobel Prize in literature has been awarded to Han Kang, a South Korean author, for her “intense poetic prose that confronts historical traumas and exposes the fragility of human life.” In a statement posted to Facebook on Thursday, South Korean President Yoon Suk Yeol described Han’s win as “a great achievement in the history of Korean literature” and a “national occasion.” He added: “Han has turned the painful scars of our modern history into great literature.” Anna-Karin Palm, a member of the Nobel Committee for literature, said readers unfamiliar with Han’s work should begin with “Human Acts,” a 2014 novel reflecting on the 1980 Gwangju Uprising, when more than 100 civilians were killed during pro-democracy demonstrations led by students in the South Korean city.', 'score': 0.9263638, 'raw_content': 'CNN values your feedback\\n\\n      Han Kang wins Nobel Prize in literature for ‘intense poetic prose’ confronting human fragility\\n    \\n\\n            The 2024 Nobel Prize in literature has been awarded to Han Kang, a South Korean author, for her “intense poetic prose that confronts historical traumas and exposes the fragility of human life.”\\n    \\n\\n            Han, 53, began her career with a group of poems in a South Korean magazine, before making her prose debut in 1995 with a short story collection.\\n    \\n\\n            She later began writing longer prose works, most notably “The Vegetarian,” one of her first books to be translated into English. The novel, which won the Man Booker International Prize in 2016, charts a young woman’s attempt to live a more “plant-like” existence after suffering macabre nightmares about human cruelty.\\n    \\n\\n            Han is the first South Korean author to win the literature prize, and just the 18th woman out of the 117 prizes awarded since 1901. The prize, announced in Sweden on Thursday, carries a cash award of 11 million Swedish kronor ($1 million).\\n    \\n\\n            In a statement posted to Facebook on Thursday, South Korean President Yoon Suk Yeol described Han’s win as “a great achievement in the history of Korean literature” and a “national occasion.” He added: “Han has turned the painful scars of our modern history into great literature.”\\n    \\n\\n            Much of Han’s work poses the question, voiced by a character in her 2019 novel “Europa,” whose protagonist is wracked by nightmares: “If you were able to live as you desire, what would you do with your life?”\\n    \\n\\n            Although many of Han’s protagonists are women, her prose works are often narrated from the perspective of men.\\n    \\n\\n            “Before my wife turned vegetarian, I’d always thought of her as completely unremarkable in every way,” her novel “The Vegetarian” begins. “However, if there wasn’t any special attraction, nor did any particular drawbacks present themselves, and therefore there was no reason for the two of us not to get married.”\\n    \\n\\n            Originally written and published in Korean, “The Vegetarian” was translated by Deborah Smith, who was 28 at the time. Smith, by her own admission, was “monolingual until the age of 21,” and only chose to pursue Korean due to a lack of English-Korean translators.\\n    \\n\\n            The Swedish Academy lauded Han’s work for her “unique awareness of the connections between body and soul, the living and the dead.” Through her “poetic and experimental style,” the Academy said, Han “has become an innovator in contemporary prose.”\\n    \\n\\n            Anna-Karin Palm, a member of the Nobel Committee for literature, said readers unfamiliar with Han’s work should begin with “Human Acts,” a 2014 novel reflecting on the 1980 Gwangju Uprising, when more than 100 civilians were killed during pro-democracy demonstrations led by students in the South Korean city.\\n    \\n\\nRelated article\\n‘Turning my life into something people can watch, pains me’: Wole Soyinka on having his memoir made into a movie\\n\\n\\n            “Human Acts” shows how “the living and the dead are always intertwined and how these kinds of traumas stay in a population for generations,” Palm said at Thursday’s announcement ceremony.\\n    \\n\\n            But Han’s “intense, lyrical” writing almost acts as consolation in the face of this historical violence, Palm added. “Her very tender, precise prose in itself almost becomes a counterforce to the brutal noisiness of power,” she said.\\n    \\n\\n            Han’s novels rocketed up South Korea’s bestseller lists following the announcement. As of Friday morning, her books occupied all of the top 10 spots in popular online retailer Yes24’s chart for Korean titles. The bookseller told CNN over the phone that three of them — “Human Acts,” “The Vegetarian” and “I Do Not Bid Farewell” — had racked up combined sales of 70,000 units during the 14 hours immediately following the news.\\n    \\n\\n            At the Seoul flagship of bookstore chain Kyobo Book Centre, shoppers welcomed Han’s win. “I’m very proud of her,” high-school teacher Choi Ji-hye told CNN, adding that she had been “shocked” to hear the news.\\n    \\n\\n            For engineering student Kim Jee-heon, meanwhile, the announcement sparked a newfound interest in the author’s work. “This is my first time hearing about her, but… I was really amazed to hear that a Korean woman writer had won the prize, so I came here to look for her books.”\\n    \\n\\n            Elsewhere, several high-profile figures paid tribute to the novelist via social media, including musicians RM and V, members of the K-pop group BTS. “I read ‘Human Acts’ in the army,” the latter wrote on Instagram Stories. “Congratulations!”\\n    \\n\\n            Before the announcement, Ellen Mattson, another member of the committee, detailed how the judging panel sets about selecting each year’s literature laureate.\\n    \\n\\n            “We start with a very long list of around 220 names,” Mattson said. “Then we have to navigate through this enormous mass of names – and there we need the help of experts from different parts of the world.”\\n    \\n\\n            Eventually, the committee reaches a collection of “about 20 names,” which is then narrowed down to a shortlist of five authors. “That’s where the real work starts,” Mattson said.\\n    \\n\\n            Each committee member then has to “read everything by these five writers” as they begin to home in on a single winner.\\n    \\n\\n            Announcing the award, Mats Malm, permanent secretary of the Swedish Academy, said Han was “having an ordinary day” and had “just finished supper with her son” when he phoned to congratulate her.\\n    \\n\\n            “She wasn’t really prepared for this, but we have begun to discuss preparations for December,” he said. The Nobel Prize award ceremony takes place in Stockholm on December 10, the anniversary of Alfred Nobel’s death in 1896.\\n    \\n\\n  This article has been updated with reactions to the announcement.\\n\\n\\n  CNN’s Gawon Bae, Charlie Miller and Oscar Holland contributed to this report.\\n\\n© 2024 Cable News Network. A Warner Bros. Discovery Company. All Rights Reserved.  CNN Sans ™ & © 2016 Cable News Network.\\n'}\n",
      "{'title': 'The Nobel Prize in Literature 2024 - दृष्टि आईएएस', 'url': 'https://www.drishtiias.com/daily-updates/daily-news-analysis/the-nobel-prize-in-literature-2024', 'content': 'South Korean author Han Kang has been awarded the 2024 Nobel Prize in Literature by the Swedish Academy, Stockholm, Sweden for her \"intense poetic prose\" that explores historical traumas and the fragility of life. Han Kang is the first South Korean writer to win the Nobel Prize in Literature, marking a historic moment for South Korea\\'s', 'score': 0.9049283, 'raw_content': 'The Nobel Prize in Literature 2024\\nKarol Bagh | IAS GS Foundation Course | date 26 November | 6 PM Call Us\\nThis just in:\\nUPSC CSE Mains 2024 Result - Roll Number ListUPSC CSE Mains 2024 Result - Namewise ListSambhav 2025UPSC CSE Prelims Test Series 2025 PCS ParikshanUPSC Calendar 2025\\nclose\\n\\n\\nHome\\nBlogs\\nClassroom Programme\\nInterview Guidance\\nOnline Programme\\nDrishti Store\\nDLP\\n\\nMy Account\\n\\nMy Profile\\nMy Quiz\\nChange Password\\nLogout\\n\\n\\n\\nLogin\\n\\nRegister\\n\\nLanguage: ENहिंदी\\nSearch\\nRSS\\nCart\\nClassroom\\nMenu\\n\\nAbout us\\nGeneral Introduction\\nDrishti - The Vision Foundation\\nDrishti Publications\\nDrishti Media\\nManaging Director\\nInfrastructure\\n\\n\\nPrelims\\nAbout Civil Services\\nSyllabus & Strategy\\nUPSC Prelims Syllabus\\nGS Prelims Strategy\\n\\n\\nPrelims Analysis\\nPrevious Years Papers\\nGS Paper-I (Year Wise)\\nGS Paper-I (Subject Wise)\\n\\n\\nCSAT\\nCSAT Strategy\\nCSAT MCQs\\nPrevious Years Papers\\n\\n\\nPrelims Special\\nSambhav-2025 New\\nPT Sprint\\n2024\\n2023\\n2022\\n\\n\\n60 Steps To Prelims\\nPrelims Refresher Programme 2020\\n\\n\\nUPSC CSE Results\\n\\n\\nPractice Quiz\\nPCS Parikshan New\\nPath To Prelims\\nCurrent Affairs\\nDaily Editorial Based Quiz\\nState PCS Quiz\\nYojana / Kurukshetra\\nDown To Earth\\nCSAT\\nWeekly CA Revision MCQs\\nMonthly Editorial Quiz Consolidation\\nCA Quiz Consolidation\\nPrevious Year Papers\\nNCERT BOOKS\\nEconomic Survey\\n\\n\\nMains & Interview\\nOptional Subjects\\nMains Special\\nSambhav-2025 New\\nMains Marathon\\n2024\\n2023\\n2022\\n\\n\\nBe MAINS Ready\\n2021\\n2020\\n2019\\n\\n\\n\\n\\nMains Syllabus & Strategy\\nMains GS Syllabus\\nMains GS Strategy\\n\\n\\nMains Answer Writing Practice\\nEssay\\nEssay Strategy\\nFodder For Essay\\nModel Essays\\nPrevious Years Papers\\n\\n\\nEthics\\nEthics Strategy\\nEthics Case Studies\\nEngage in Ethics\\nEthics Previous Years Q&As\\n\\n\\nMains Previous Years\\nPapers By Years\\nPapers By Subject\\n\\n\\nMains Solved Papers\\nPapers By Years\\nPapers By Subject\\n\\n\\nIndian Forest Services\\nPersonality Test\\nInterview Strategy\\nInterview Guidance Programme\\n\\n\\nUPSC CSE Results\\n\\n\\nCurrent Affairs\\nDaily Current Affairs & Editorials\\nDaily CA MCQs\\nWeekly Revision MCQs\\nSansad TV Discussions\\nGovernment Schemes\\nMonthly CA Consolidation\\nMonthly Editorial Consolidation\\nMonthly MCQ Consolidation\\nMonthly Editorial Quiz Consolidation\\n\\n\\nDrishti Specials\\nInspirational Icons\\nManthan\\nSambhav-2025 New\\nTo The Point\\nInfographics and Maps\\nImportant Institutions\\nLearning Through Maps\\nReports & Summaries\\nSummary of Important Reports\\nGist of Economic Survey\\nSummary of India Year Book\\nMonthly PRS Capsule\\n\\n\\nStudy Material\\nNCERT Books\\nNIOS Study Material\\nIGNOU Study Material\\n\\n\\n\\n\\nTest Series\\n JKAS\\nPrelims Test Series\\nMains Test Series\\n\\n\\nUPSC\\nPrelims Test Series\\nMains Test Series\\n\\n\\nBPSC\\nPrelims Test Series\\nMains Test Series\\n\\n\\nUPPCS\\nPrelims Test Series\\nMains Test Series\\n\\n\\nRAS/RTS\\nPrelims Test Series\\nMains Test Series\\n\\n\\nMPPSC\\nPrelims Test Series\\nMains Test Series\\n\\n\\nHPSC\\nPrelims Test Series\\nMains Test Series\\n\\n\\nOther Competitive Exams\\nCAPF\\nEPFO\\n\\n\\n\\n\\nState PCS\\n Jammu & Kashmir\\nBihar\\nChhattisgarh\\nHaryana\\nJharkhand\\nMadhya Pradesh\\nRajasthan\\nUttarakhand\\nUttar Pradesh\\nState PCS Quiz (Current Affairs)\\nPCS Parikshan New\\n\\n\\n\\nState PCS\\n\\nBihar\\nChhattisgarh\\nHaryana\\n\\nJharkhand\\n\\n\\nMadhya Pradesh\\n\\nRajasthan\\nUttarakhand\\n\\nUttar Pradesh\\n\\n\\nJammu & Kashmir New\\n\\nState PCS Quiz (Current Affairs)\\nPCS Parikshan New\\n\\n\\n\\nVideos\\n\\nImportant Institutions\\nDaily Editorial Analysis\\nYouTube PDF Downloads\\nMindmap For UPSC\\nDaily Current Affairs\\nScience & Tech\\nInternational Relations\\nIndian Culture & Historical Events\\nPolity & Nation\\nEconomic Development\\nEcology & Environment\\n\\n\\nWeekly Practice Questions\\nImportant Government Schemes\\nStrategy By Toppers\\nEthics - Definition & Concepts\\nMastering Mains Answer Writing\\nPlaces in News\\nUPSC Mock Interview\\nIFoS Mock Interview\\nPCS Mock Interview\\nUPPSC\\nBPSC\\n\\n\\nInterview Insights\\nPrelims 2019\\nStudy Plan\\nProduct Promos\\n\\n\\nQuick Links\\n\\nDrishti Store\\nclose\\n\\nBlog\\n\\nAchievers Corner\\n\\nTopper\\'s Interview\\n\\nPrelims\\n\\nAbout Civil Services\\nSyllabus & Strategy\\nUPSC Prelims Syllabus\\nGS Prelims Strategy\\n\\n\\nPrelims Analysis\\nPrevious Years Papers\\nGS Paper-I (Year Wise)\\nGS Paper-I (Subject Wise)\\n\\n\\nCSAT\\nCSAT Strategy\\nCSAT MCQs\\nPrevious Years Papers\\n\\n\\nPractice Quiz\\nWeekly Revision MCQs\\n60 Steps To Prelims\\nPrelims Refresher Programme 2020\\n\\nMains & Interview\\n\\nMains Syllabus & Strategy\\nMains GS Syllabus\\nMains GS Strategy\\n\\n\\nMains Answer Writing Practice\\nEssay\\nEssay Strategy\\nFodder For Essay\\nModel Essays\\nDrishti Essay Competition\\n\\n\\nEthics\\nEthics Strategy\\nEthics Case Studies\\nEthics Discussion\\nEthics Previous Years Q&As\\n\\n\\nMains Previous Years\\nPapers By Years\\nPapers By Subject\\n\\n\\nMains Solved Papers\\nPapers By Years\\nPapers By Subject\\n\\n\\nBe MAINS Ready\\nAwake Mains Examination 2020\\nPersonality Test\\nInterview Strategy\\nInterview Guidance Programme\\n\\n\\n\\nCurrent Affairs\\n\\nDaily Current Affairs & Editorials\\nDaily CA MCQs\\nWeekly Revision MCQs\\nSansad TV Discussions\\nGovernment Schemes\\nMonthly CA Consolidation\\nMonthly Editorial Consolidation\\nMonthly MCQ Consolidation\\n\\nDrishti Specials\\n\\nTo The Point\\nMind Map\\nImportant Institutions\\nLearning Through Maps\\nReports & Summaries\\nSummary of Important Reports\\nGist of Economic Survey\\nSummary of India Year Book\\nMonthly PRS Capsule\\n\\n\\n\\nStudy Material\\n\\nNCERT Books\\nNIOS Study Material\\nIGNOU Study Material\\nYojana & Kurukshetra\\n\\nState PCS\\n\\nBihar\\nChhatisgarh\\nRajasthan\\nUttar Pradesh\\nHaryana\\nJharkhand\\nUttrakhand\\nMadhya Pradesh\\n\\nTest Series\\n\\nUPSC Prelims Test Series\\nUPSC Mains Test Series\\nUPPCS Prelims Test Series\\nUPPCS Mains Test Series\\nBPSC Prelims Test Series\\nRAS/RTS Prelims Test Series\\n\\nVideos\\n\\nImportant Institutions\\nDaily Editorial Analysis\\nYouTube PDF Downloads\\nStrategy By Toppers\\nEthics - Definition & Concepts\\nMastering Mains Answer Writing\\nPlaces in News\\nUPSC Mock Interview\\nIFoS Mock Interview\\nPCS Mock Interview\\nInterview Insights\\nImportant Government Schemes\\nPrelims 2019\\nStudy Plan\\nProduct Promos\\n\\nDrishti Store\\nDaily Updates\\n\\nHome\\nDaily Updates\\n\\nfilterHide Menu\\nImportant Facts For Prelims\\nPrev Next\\nThe Nobel Prize in Literature 2024\\n\\n14 Oct 2024\\n3 min read\\n\\nTags:*   Quick Facts For Prelims\\n*   GS Paper - 1\\n*   Drama/Theatre\\nSource: IE\\nWhy in News?\\nSouth Korean author Han Kang has been awarded the 2024 Nobel Prize in Literature by the Swedish Academy, Stockholm, Sweden for her \"intense poetic prose\" that explores historical traumas and the fragility of life.\\n\\nHan Kang is the first South Korean writer to win the Nobel Prize in Literature, marking a historic moment for South Korea’s literary scene.\\xa0\\n\\n\\nWho is Han Kang?\\n\\nAbout: \\xa0Born in 1970, Han Kang is a renowned novelist and poet, she is recognized for her intense poetic prose, which combines lyricism with narrative. Her style has redefined contemporary literature by blending physical and emotional empathy in a unique manner.\\xa0\\nKey Literary Contributions:\\xa0\\nThe Vegetarian (2007): It was her breakthrough novel, translated by Deborah Smith in 2015, and it won the 2016 Man Booker International Prize.\\xa0\\nThe International Booker Prize, established in 2005 as the Man Booker International Prize, is awarded for a single book of fiction translated into English and published in the United Kingdom or Ireland, promoting global literature and celebrating the contributions of both the author and the translator.\\xa0\\n\\n\\nHuman Acts (2016): Focuses on the 1980 Gwangju massacre, where South Korean military forces killed protesting students and civilians.\\xa0\\nExplores trauma and collective memory in a visionary yet concise manner.\\xa0\\n\\n\\n\\n\\n\\nNote:\\nRabindranath Tagore was awarded the Nobel Prize in Literature 1913 for his profoundly sensitive, fresh and beautiful verse, which he expressed in his own English words and made a part of the literature of the West.\\n\\nNotable literary contributions by Rabindranath Tagore are Manasi, Gitanjali, Sâdhanâ: The Realisation of Life, and Chitra: a Play in One Act.\\xa0\\nThe Nobel Prize in Literature for 2023 was awarded to Jon Fosse, a Norwegian author and dramatist, for his innovative plays and prose which give voice to the unsayable.\"\\xa0\\n\\n\\nReference to Other Announcements of the Nobel Prizes 2024: Nobel Prize in\\xa0 Physics, Physiology or Medicine, Chemistry\\nPrint PDFPrint This Article\\nPrev Next\\nMore Links\\n\\nUPSC Prelims Test Series\\nDaily Current Affairs and Editorials\\nDaily Mains Answer Writing Practice\\nPractice Quiz\\nPrepare For State PCS\\nSummary of Important Reports\\n\\nArchives by Date\\nGo\\nArchives by Month & Year\\nGo\\nWhat’s New\\n\\n\\n\\nNewsletter Subscription\\nSubscribe Now\\nSMS Alerts\\nSubscribe Now\\n\\nReach Us\\n\\nC-171/2, Block A, Sector-15, Noida, UP- 201301 (Near Metro Station Noida Sector 15)\\n21, Pusa Rd, WEA, Karol Bagh, Delhi-110005\\n641, 1st Floor, Mukherjee Nagar, Delhi-110009\\nHarsh Tower 2, 45 45A, Tonk Rd, Jaipur, Rajasthan-302015\\n13/15, Tashkent Marg, Civil Lines, Prayagraj, UP-211001\\n47/CC, Burlington Arcade Mall, Vidhan Sabha Marg, Lucknow, Uttar Pradesh-226001\\n12, Main AB Road, Bhawar Kuan, Indore, Madhya Pradesh, 452007\\n\\nTop Searches\\n\\nClassroom Programs\\nBooks & Magazines\\nTest Series\\nOnline Programs\\nState PCS\\nFor 2nd/3rd/4th EMI - Pay Now\\nCareers\\n\\nConnect With Us\\n\\ncare@groupdrishti.in\\nEnglish : +91 8010440440\\nHindi : +91 8750187501\\nPress Releases\\n\\nHindi Social\\n\\n\\n\\n\\n\\n\\n\\n\\n\\n\\n\\nEnglish Social\\n\\n\\n\\n\\n\\n\\n\\n\\n\\n\\nDrishti Learning App - Learn Smart\\n\\n\\n\\n\\n\\nCopyright © 2018-2024 Drishti The Vision Foundation, India. All rights reserved\\n\\n\\nPrivacy Policy\\n\\n\\nTerms and Conditions\\n\\n\\nCancellation/Refund Policy\\n\\n\\nShare Page\\n\\nSubmit\\nClose\\n\\n\\nPrevNext\\nDecember\\xa02024\\n| Su | Mo | Tu | We | Th | Fr | Sa |\\n| --- | --- | --- | --- | --- | --- | --- |\\n| 1 | 2 | 3 | 4 | 5 | 6 | 7 |\\n| 8 | 9 | 10 | 11 | 12 | 13 | 14 |\\n| 15 | 16 | 17 | 18 | 19 | 20 | 21 |\\n| 22 | 23 | 24 | 25 | 26 | 27 | 28 |\\n| 29 | 30 | 31 | \\xa0 | \\xa0 | \\xa0 | \\xa0 |'}\n",
      "==================================================\n",
      "\n",
      "==================================================\n",
      "🔄 Node: \u001b[1;36mllm_answer\u001b[0m 🔄\n",
      "- - - - - - - - - - - - - - - - - - - - - - - - - \n",
      "('user', 'Who will win the 2024 Nobel Prize in Literature? Please answer in Korean.')\n",
      "('assistant', '2024년 노벨 문학상 수상자는 한강입니다.\\n\\n**Source**\\n- [K-Lit] Han Kang (한강): 2024 Nobel Prize Winner in Literature (https://koreancultureblog.com/2024/10/13/k-lit-han-kang-한강-2024-nobel-prize-winner-in-literature/)')\n",
      "==================================================\n"
     ]
    }
   ],
   "source": [
    "from langchain_core.runnables import RunnableConfig\n",
    "from langchain_print import stream_graph, invoke_graph, random_uuid\n",
    "\n",
    "config = RunnableConfig(recursion_limit=10, configurable={\"thread_id\": random_uuid()})\n",
    "\n",
    "inputs = GraphState(\n",
    "    question=\"Who will win the 2024 Nobel Prize in Literature? Please answer in Korean.\"\n",
    ")\n",
    "\n",
    "invoke_graph(app, inputs, config, [\"retrieve_document\", \"web_search\", \"llm_answer\"])"
   ]
  },
  {
   "cell_type": "code",
   "execution_count": 13,
   "metadata": {},
   "outputs": [
    {
     "name": "stdout",
     "output_type": "stream",
     "text": [
      "==== [Relevance Check] ====\n",
      "no\n",
      "\n",
      "==================================================\n",
      "🔄 Node: \u001b[1;36mllm_answer\u001b[0m 🔄\n",
      "- - - - - - - - - - - - - - - - - - - - - - - - - \n",
      "2024년 노벨 문학상 수상자는 한강입니다.\n",
      "\n",
      "**Source**\n",
      "- [K-Lit] Han Kang (한강): 2024 Nobel Prize Winner in Literature (https://koreancultureblog.com/2024/10/13/k-lit-han-kang-한강-2024-nobel-prize-winner-in-literature/)"
     ]
    }
   ],
   "source": [
    "stream_graph(app, inputs, config, [\"retrieve_document\", \"web_search\", \"llm_answer\"])"
   ]
  },
  {
   "cell_type": "code",
   "execution_count": 14,
   "metadata": {},
   "outputs": [
    {
     "name": "stdout",
     "output_type": "stream",
     "text": [
      "Question: Who will win the 2024 Nobel Prize in Literature? Please answer in Korean.\n",
      "============================================================\n",
      "Answer:\n",
      "2024년 노벨 문학상 수상자는 한강입니다.\n",
      "\n",
      "**Source**\n",
      "- [K-Lit] Han Kang (한강): 2024 Nobel Prize Winner in Literature (https://koreancultureblog.com/2024/10/13/k-lit-han-kang-한강-2024-nobel-prize-winner-in-literature/)\n"
     ]
    }
   ],
   "source": [
    "# get_state 는 그래프의 현재 상태를 가져옴\n",
    "outputs = app.get_state(config).values\n",
    "\n",
    "# 현재 상태의 질문을 출력\n",
    "print(f'Question: {outputs[\"question\"]}')\n",
    "print(\"===\" * 20)\n",
    "# 현재 상태의 답변을 출력\n",
    "print(f'Answer:\\n{outputs[\"answer\"]}')"
   ]
  }
 ],
 "metadata": {
  "kernelspec": {
   "display_name": "langchain-note-2024-PFhCXHTX-py3.12",
   "language": "python",
   "name": "python3"
  },
  "language_info": {
   "codemirror_mode": {
    "name": "ipython",
    "version": 3
   },
   "file_extension": ".py",
   "mimetype": "text/x-python",
   "name": "python",
   "nbconvert_exporter": "python",
   "pygments_lexer": "ipython3",
   "version": "3.12.7"
  }
 },
 "nbformat": 4,
 "nbformat_minor": 2
}
