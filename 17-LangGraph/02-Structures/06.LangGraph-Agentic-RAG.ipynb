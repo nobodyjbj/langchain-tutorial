{
 "cells": [
  {
   "cell_type": "code",
   "execution_count": 1,
   "metadata": {},
   "outputs": [
    {
     "data": {
      "text/plain": [
       "True"
      ]
     },
     "execution_count": 1,
     "metadata": {},
     "output_type": "execute_result"
    }
   ],
   "source": [
    "from dotenv import load_dotenv\n",
    "import sys\n",
    "\n",
    "sys.path.append(\"../../common\")\n",
    "load_dotenv()"
   ]
  },
  {
   "cell_type": "code",
   "execution_count": 2,
   "metadata": {},
   "outputs": [
    {
     "name": "stdout",
     "output_type": "stream",
     "text": [
      "Langsmith 추적이 활성화되었습니다. [프로젝트명: 17.LangGraph-Structures]\n"
     ]
    }
   ],
   "source": [
    "import os\n",
    "from langsmith_tracker import set_tracking\n",
    "\n",
    "# 인스턴스를 생성할 때 필요한 매개변수를 전달합니다.\n",
    "set_tracking(project_name=\"17.LangGraph-Structures\")"
   ]
  },
  {
   "cell_type": "markdown",
   "metadata": {},
   "source": [
    "## Agentic RAG\n",
    "\n",
    "##### 주요 작업\n",
    "\n",
    "- LLM 의 판단으로 문서 검색 도구를 활용\n",
    "- Agent 의 tools_condition 을 통해 도구 사용 여부 결정\n",
    "\n",
    "##### 그래프 흐름\n",
    "\n",
    "![Agentic RAG](./assets/langgraph_structures_agentic_rag.png)\n"
   ]
  },
  {
   "cell_type": "code",
   "execution_count": 3,
   "metadata": {},
   "outputs": [],
   "source": [
    "from rag.pdf import PDFRetrievalChain\n",
    "\n",
    "from typing import Annotated, List\n",
    "from typing_extensions import TypedDict\n",
    "from langgraph.graph.message import add_messages\n",
    "\n",
    "\n",
    "# PDF 문서 검색 체인 생성, 체인 안에는 llm 이 포함되어 있음\n",
    "pdf = PDFRetrievalChain(\n",
    "    source_uri=[\"./data/IS-183_AI 위험 유형 및 사례 분석(최종).pdf\"]\n",
    ").create_chain()\n",
    "\n",
    "pdf_retriever = pdf.retriever\n",
    "pdf_chain = pdf.chain"
   ]
  },
  {
   "cell_type": "markdown",
   "metadata": {},
   "source": [
    "#### 1. 문서 파싱 툴 생성"
   ]
  },
  {
   "cell_type": "code",
   "execution_count": 4,
   "metadata": {},
   "outputs": [],
   "source": [
    "from langchain_core.tools.retriever import create_retriever_tool\n",
    "from langchain_core.prompts import PromptTemplate\n",
    "\n",
    "retriever_tool = create_retriever_tool(\n",
    "    retriever=pdf_retriever,\n",
    "    name=\"pdf_retriever\",\n",
    "    description=\"Search and return information about the SPRI AI Brief PDF file. Contains recent information on AI risks. Published in early 2024.\",\n",
    "    document_prompt=PromptTemplate.from_template(\n",
    "        \"<document><context>{page_content}</context><metadata><source>{source}</source><page>{page}</page></metadata></document>\"\n",
    "    ),\n",
    ")\n",
    "\n",
    "tools = [retriever_tool]"
   ]
  },
  {
   "cell_type": "markdown",
   "metadata": {},
   "source": [
    "#### 2. Agent 상태 정의"
   ]
  },
  {
   "cell_type": "code",
   "execution_count": 5,
   "metadata": {},
   "outputs": [],
   "source": [
    "from typing_extensions import TypedDict\n",
    "from typing import Annotated, Sequence\n",
    "from langchain_core.messages import BaseMessage\n",
    "from langgraph.graph.message import add_messages\n",
    "\n",
    "\n",
    "class AgentState(TypedDict):\n",
    "    messages: Annotated[Sequence[BaseMessage], add_messages]"
   ]
  },
  {
   "cell_type": "markdown",
   "metadata": {},
   "source": [
    "#### 3. 노드 정의"
   ]
  },
  {
   "cell_type": "code",
   "execution_count": 12,
   "metadata": {},
   "outputs": [],
   "source": [
    "from typing import Literal\n",
    "from langchain import hub\n",
    "from langchain_core.messages import HumanMessage\n",
    "from langchain_core.output_parsers import StrOutputParser\n",
    "from langchain_core.prompts import PromptTemplate\n",
    "from pydantic import BaseModel, Field\n",
    "from langchain_openai import ChatOpenAI\n",
    "from langgraph.prebuilt import tools_condition\n",
    "\n",
    "\n",
    "# 최신 모델이름 가져오기\n",
    "MODEL_NAME = \"gpt-4o-mini\"\n",
    "\n",
    "\n",
    "# 데이터 모델 정의\n",
    "class grade(BaseModel):\n",
    "    \"\"\"A binary score for relevance checks\"\"\"\n",
    "\n",
    "    binary_score: str = Field(\n",
    "        description=\"Response 'yes' if the document is relevant to the question or 'no' if it is not.\"\n",
    "    )\n",
    "\n",
    "\n",
    "def grade_documents(state) -> Literal[\"generate\", \"rewrite\"]:\n",
    "    # LLM 모델 초기화\n",
    "    model = ChatOpenAI(temperature=0, model=MODEL_NAME, streaming=True)\n",
    "\n",
    "    # 구조화된 출력을 위한 LLM 설정\n",
    "    llm_with_tool = model.with_structured_output(grade)\n",
    "\n",
    "    # 프롬프트 템플릿 정의\n",
    "    prompt = PromptTemplate(\n",
    "        template=\"\"\"You are a grader assessing relevance of a retrieved document to a user question. \\n \n",
    "        Here is the retrieved document: \\n\\n {context} \\n\\n\n",
    "        Here is the user question: {question} \\n\n",
    "        If the document contains keyword(s) or semantic meaning related to the user question, grade it as relevant. \\n\n",
    "        Give a binary score 'yes' or 'no' score to indicate whether the document is relevant to the question.\"\"\",\n",
    "        input_variables=[\"context\", \"question\"],\n",
    "    )\n",
    "\n",
    "    # llm + tool 바인딩 체인 생성\n",
    "    chain = prompt | llm_with_tool\n",
    "\n",
    "    # 현재 상태에서 메시지 추출\n",
    "    messages = state[\"messages\"]\n",
    "\n",
    "    # 가장 마지막 메시지 추출\n",
    "    last_message = messages[-1]\n",
    "\n",
    "    # 원래 질문 추출\n",
    "    question = messages[0].content\n",
    "\n",
    "    # 검색된 문서 추출\n",
    "    retrieved_docs = last_message.content\n",
    "\n",
    "    # 관련성 평가 실행\n",
    "    scored_result = chain.invoke({\"question\": question, \"context\": retrieved_docs})\n",
    "\n",
    "    # 관련성 여부 추출\n",
    "    score = scored_result.binary_score\n",
    "\n",
    "    # 관련성 여부에 따른 결정\n",
    "    if score == \"yes\":\n",
    "        print(\"==== [DECISION: DOCS RELEVANT] ====\")\n",
    "        return \"generate\"\n",
    "\n",
    "    else:\n",
    "        print(\"==== [DECISION: DOCS NOT RELEVANT] ====\")\n",
    "        print(score)\n",
    "        return \"rewrite\"\n",
    "\n",
    "\n",
    "def agent(state):\n",
    "    # 현재 상태에서 메시지 추출\n",
    "    messages = state[\"messages\"]\n",
    "\n",
    "    # LLM 모델 초기화\n",
    "    model = ChatOpenAI(temperature=0, streaming=True, model=MODEL_NAME)\n",
    "\n",
    "    # retriever tool 바인딩\n",
    "    model = model.bind_tools(tools)\n",
    "\n",
    "    # 에이전트 응답 생성\n",
    "    response = model.invoke(messages)\n",
    "\n",
    "    # 기존 리스트에 추가되므로 리스트 형태로 반환\n",
    "    return {\"messages\": [response]}\n",
    "\n",
    "\n",
    "def rewrite(state):\n",
    "    print(\"==== [QUERY REWRITE] ====\")\n",
    "    # 현재 상태에서 메시지 추출\n",
    "    messages = state[\"messages\"]\n",
    "    # 원래 질문 추출\n",
    "    question = messages[0].content\n",
    "\n",
    "    # 질문 개선을 위한 프롬프트 구성\n",
    "    msg = [\n",
    "        HumanMessage(\n",
    "            content=f\"\"\" \\n \n",
    "    Look at the input and try to reason about the underlying semantic intent / meaning. \\n \n",
    "    Here is the initial question:\n",
    "    \\n ------- \\n\n",
    "    {question} \n",
    "    \\n ------- \\n\n",
    "    Formulate an improved question: \"\"\",\n",
    "        )\n",
    "    ]\n",
    "\n",
    "    # LLM 모델로 질문 개선\n",
    "    model = ChatOpenAI(temperature=0, model=MODEL_NAME, streaming=True)\n",
    "    # Query-Transform 체인 실행\n",
    "    response = model.invoke(msg)\n",
    "\n",
    "    # 재작성된 질문 반환\n",
    "    return {\"messages\": [response]}\n",
    "\n",
    "\n",
    "def generate(state):\n",
    "    # 현재 상태에서 메시지 추출\n",
    "    messages = state[\"messages\"]\n",
    "\n",
    "    # 원래 질문 추출\n",
    "    question = messages[0].content\n",
    "\n",
    "    # 가장 마지막 메시지 추출\n",
    "    docs = messages[-1].content\n",
    "\n",
    "    # RAG 프롬프트 템플릿 가져오기\n",
    "    prompt = hub.pull(\"teddynote/rag-prompt\")\n",
    "\n",
    "    # LLM 모델 초기화\n",
    "    llm = ChatOpenAI(model_name=MODEL_NAME, temperature=0, streaming=True)\n",
    "\n",
    "    # RAG 체인 구성\n",
    "    rag_chain = prompt | llm | StrOutputParser()\n",
    "\n",
    "    # 답변 생성 실행\n",
    "    response = rag_chain.invoke({\"context\": docs, \"question\": question})\n",
    "    return {\"messages\": [response]}"
   ]
  },
  {
   "cell_type": "markdown",
   "metadata": {},
   "source": [
    "#### 4. 그래프 정의, 엣지 설정"
   ]
  },
  {
   "cell_type": "code",
   "execution_count": 13,
   "metadata": {},
   "outputs": [],
   "source": [
    "from langgraph.graph import END, StateGraph, START\n",
    "from langgraph.prebuilt import ToolNode\n",
    "from langgraph.checkpoint.memory import MemorySaver\n",
    "\n",
    "# AgentState 기반 상태 그래프 워크플로우 초기화\n",
    "workflow = StateGraph(AgentState)\n",
    "\n",
    "# 노드 정의\n",
    "workflow.add_node(\"agent\", agent)  # 에이전트 노드\n",
    "retrieve = ToolNode([retriever_tool])\n",
    "workflow.add_node(\"retrieve\", retrieve)  # 검색 노드\n",
    "workflow.add_node(\"rewrite\", rewrite)  # 질문 재작성 노드\n",
    "workflow.add_node(\"generate\", generate)  # 관련 문서 확인 후 응답 생성 노드\n",
    "\n",
    "# 엣지 연결\n",
    "workflow.add_edge(START, \"agent\")\n",
    "\n",
    "# 검색 여부 결정을 위한 조건부 엣지 추가\n",
    "workflow.add_conditional_edges(\n",
    "    \"agent\",\n",
    "    # 에이전트 결정 평가\n",
    "    tools_condition,\n",
    "    {\n",
    "        # 조건 출력을 그래프 노드에 매핑\n",
    "        \"tools\": \"retrieve\",\n",
    "        END: END,\n",
    "    },\n",
    ")\n",
    "\n",
    "# 액션 노드 실행 후 처리될 엣지 정의\n",
    "workflow.add_conditional_edges(\n",
    "    \"retrieve\",\n",
    "    # 문서 품질 평가\n",
    "    grade_documents,\n",
    ")\n",
    "workflow.add_edge(\"generate\", END)\n",
    "workflow.add_edge(\"rewrite\", \"agent\")\n",
    "\n",
    "# 그래프 컴파일\n",
    "graph = workflow.compile(checkpointer=MemorySaver())"
   ]
  },
  {
   "cell_type": "markdown",
   "metadata": {},
   "source": [
    "#### 5. 시각화"
   ]
  },
  {
   "cell_type": "code",
   "execution_count": 14,
   "metadata": {},
   "outputs": [
    {
     "data": {
      "image/png": "[encoded data removed]",
      "text/plain": [
       "<IPython.core.display.Image object>"
      ]
     },
     "metadata": {},
     "output_type": "display_data"
    }
   ],
   "source": [
    "from graphs import visualize_graph\n",
    "\n",
    "visualize_graph(graph)"
   ]
  },
  {
   "cell_type": "markdown",
   "metadata": {},
   "source": [
    "#### 6. 그래프 실행"
   ]
  },
  {
   "cell_type": "code",
   "execution_count": 18,
   "metadata": {},
   "outputs": [
    {
     "name": "stdout",
     "output_type": "stream",
     "text": [
      "\n",
      "==================================================\n",
      "🔄 Node: \u001b[1;36magent\u001b[0m 🔄\n",
      "- - - - - - - - - - - - - - - - - - - - - - - - - \n",
      "==================================\u001b[1m Ai Message \u001b[0m==================================\n",
      "Tool Calls:\n",
      "  pdf_retriever (call_MKIVD7IYNT6mcowYmYM4mTk0)\n",
      " Call ID: call_MKIVD7IYNT6mcowYmYM4mTk0\n",
      "  Args:\n",
      "    query: AI 악용 사례\n",
      "==================================================\n",
      "==== [DECISION: DOCS RELEVANT] ====\n",
      "\n",
      "==================================================\n",
      "🔄 Node: \u001b[1;36mretrieve\u001b[0m 🔄\n",
      "- - - - - - - - - - - - - - - - - - - - - - - - - \n",
      "=================================\u001b[1m Tool Message \u001b[0m=================================\n",
      "Name: pdf_retriever\n",
      "\n",
      "<document><context>Ⅲ. AI 위험별 사례 분석 ·······························································11\n",
      "3.1 악의적 사용 위험 ·····························································11\n",
      "3.2 오작동 위험 ······································································14</context><metadata><source>./data/IS-183_AI 위험 유형 및 사례 분석(최종).pdf</source><page>2</page></metadata></document>\n",
      "\n",
      "<document><context>솔루션을 적용하거나, 특수한 경우 모델의 기능 제한이나 사용 제한 같은 극단적인 기술 개입\n",
      "∙ 하지만 탐지 방법이 개선되어 성능이 향상되어도, 새로운 우회 방법이 등장하여 이용자들이 악용하는\n",
      "사례가 있으므로 지속적인 모니터링과 대응이 필요\n",
      "● 위험 관리 프레임워크 또한 AI 개발의 전 주기에 걸쳐 발생 가능한 잠재적 위험에 대한 체계를\n",
      "구축하는 것으로, AI RMF 1.0과 같은 지침을 기반으로 기술 기업들이 대응하는 형태\n",
      "22</context><metadata><source>./data/IS-183_AI 위험 유형 및 사례 분석(최종).pdf</source><page>26</page></metadata></document>\n",
      "\n",
      "<document><context>6개월 동안 수행한 연구로, 향후 예상되는 첨단 AI의 기능과 위험, 기술적 대응 방안에 관한\n",
      "다양한 의견을 수렴\n",
      "● 범용 AI에 초점을 두고, 범용 AI가 유발할 수 있는 AI 위험을 △ 악의적 사용 위험, △ 오작동 위험\n",
      "△ 시스템적 위험 △ 교차(cross-cutting) 위험 요인의 4가지로 구분하여 제시\n",
      "∙ (악의적 사용 위험) 범용 AI는 광범위한 지식 영역을 다루는 만큼, 악의적인 목적으로 기존 용도가 변경되어\n",
      "사용될 위험이 존재</context><metadata><source>./data/IS-183_AI 위험 유형 및 사례 분석(최종).pdf</source><page>9</page></metadata></document>\n",
      "\n",
      "<document><context>SPRi\u0000이슈리포트IS-183 AI\u0000위험유형및사례분석\n",
      "∙ 인간이 보안 취약성을 식별하고 수정하는 데 소요되는 시간을 단축시키거나, 보안 패치를 구현함에 있어 AI를\n",
      "보조적으로 활용하는 사례도 존재25\n",
      "■(이중사용과학위험)\u0000생물학,\u0000화학,\u0000방사능및핵무기분야의AI\u0000사용으로인한위험우려\n",
      "● 범용 AI는 새로운 과학자를 양성하거나 연구 워크플로우를 개선하는 등 과학적 발전을 가속화 할\n",
      "수 있으나, 다양한 분야에서 악의적인 목적으로 활용될 가능성을 배제할 수 없음</context><metadata><source>./data/IS-183_AI 위험 유형 및 사례 분석(최종).pdf</source><page>18</page></metadata></document>\n",
      "\n",
      "<document><context>AI\u0000위험 유형 및 사례 분석\n",
      "A Comprehensive Review on AI Risks and Cases.\n",
      "경기도 성남시 분당구 대왕판교로 712번길 22 글로벌 R&D 연구동(B) 4층\n",
      "Global R&D Center 4F 22 Daewangpangyo-ro 712beon-gil, Bundang-gu, Seongnam-si, Gyeonggi-do\n",
      "www.spri.kr\u0000</context><metadata><source>./data/IS-183_AI 위험 유형 및 사례 분석(최종).pdf</source><page>31</page></metadata></document>\n",
      "\n",
      "<document><context>SPRi\u0000이슈리포트IS-183 AI\u0000위험유형및사례분석\n",
      "Ⅲ. AI 위험별 사례 분석\n",
      "■ 본 장에서는 2장의 AI\u0000위험 요인에 대해 중분류별 상세 내용과 사례를 분석하여,\u0000시의성\n",
      "있는대응이필요한위험요인을도출\n",
      "● 악의적 사용 위험, 오작동 위험, 시스템적 위험, 교차 위험 요인의 4가지 중분류에 대해 대표적인\n",
      "피해 사례 또는 피해 유형을 분석하여 제시\n",
      "3.1\u0000악의적 사용 위험\n",
      "■(가짜콘텐츠를통한개인의피해)\u0000사기및개인사생활·명예침해등에악용될가능성\n",
      "● 특정 개인이나 그룹을 대상으로 맞춤 설계된 사기 콘텐츠를 대량으로 생산하여 피해 유발</context><metadata><source>./data/IS-183_AI 위험 유형 및 사례 분석(최종).pdf</source><page>15</page></metadata></document>\n",
      "\n",
      "<document><context>환경\n",
      "사용량 증가 및 탄소 배출량 증가\n",
      "-훈련 데이터에서의 개인정보 유출\n",
      "개인정보보호\n",
      "-민감 정보 검색, 추론 등 침해 심화\n",
      "저작권 침해 -학습에서의 저작권 데이터 대량 사용 등\n",
      "-모든 실제 사용 사례에서의 테스트 어려움\n",
      "-내부 작동 이해의 어려움\n",
      "기술적 위험 요인\n",
      "교차 위험 요인 -의도하지 않은 작동에 따른 잠재적 유해\n",
      "(Cross-cutting 결과 초래, 결함 있는 AI의 배포 등\n",
      "risk factors) -위험 완화에 투자하는 것에 대한 이점 부족\n",
      "사회적 위험 요인 -빠른 발전 속도 대비 규제의 부족</context><metadata><source>./data/IS-183_AI 위험 유형 및 사례 분석(최종).pdf</source><page>10</page></metadata></document>\n",
      "\n",
      "<document><context>SPRi\u0000이슈리포트IS-183 AI\u0000위험유형및사례분석\n",
      "(사례12) 시장 독점 문제 및 주요 분야 활용\n",
      "ㅇ 미국 연방거래위원회와 법무부는 엔비디아, 오픈AI, MS 등 주요 AI 기업들의 독점적 행위로\n",
      "인한 경쟁 저해 가능성에 대한 집중 조사 예정 (2024.6)\n",
      "ㅇ EU 집행위원회는 2024년 3월부터 디지털시장법(DMA)를 시행해 첫 사례로 애플의 인앱\n",
      "결제 방식의 강제성을 인정하여 공정 경쟁 침해로 인해 18억유로의 과징금 처분(2024.9)41\n",
      "■(환경위험)\u0000AI의개발및배포과정에서의에너지사용증가로환경변화우려</context><metadata><source>./data/IS-183_AI 위험 유형 및 사례 분석(최종).pdf</source><page>22</page></metadata></document>\n",
      "\n",
      "<document><context>수 있으나, 다양한 분야에서 악의적인 목적으로 활용될 가능성을 배제할 수 없음\n",
      "∙ 즉, 일반 사용자가 범용 AI를 통해 과학적 지식이나 지침 등 정보에 대한 접근성이 증가함에 따라, 특정 정보를\n",
      "활용하여 악의적으로 사용할 가능성도 존재\n",
      "(사례6) 생물학적 무기 생산\n",
      "ㅇ LLM은 심각한 전염병 병원체를 생성하거나 표적화된 생물학적 무기를 빠르게 생산하는\n",
      "데 사용됨으로써 치명적인 위험을 야기(2023.6.24)26\n",
      "ㅇ 이에, 대량 살상 무기 대리(WMDP) 벤치마크를 통해 생물 보안, 사이버 보안 및 화학</context><metadata><source>./data/IS-183_AI 위험 유형 및 사례 분석(최종).pdf</source><page>18</page></metadata></document>\n",
      "\n",
      "<document><context>SPRi\u0000이슈리포트IS-183 AI\u0000위험유형및사례분석\n",
      "■ 안전한 AI\u0000개발 및 활용을 목표로 각국의 AI\u0000안전 전담기관과 기업들은 AI\u0000위험 요소를\n",
      "식별·분류하고,\u0000자체적인대응방안을수립하고있으나위험분류기준이혼재\n",
      "● 영국, 미국, 일본 등 주요국은 전담기관인 AI 안전연구소를 통해 AI의 위험에 관한 연구를\n",
      "수행하고, 안전성 평가 기반을 마련하는 등 AI 안전을 최우선 과제 중 하나로 추진 중\n",
      "∙ 영국 AISI에서 공개한 요슈아 벤지오 연구팀의 국제 과학보고서6에서는 △악의적 사용 △오작동</context><metadata><source>./data/IS-183_AI 위험 유형 및 사례 분석(최종).pdf</source><page>7</page></metadata></document>\n",
      "==================================================\n",
      "\n",
      "==================================================\n",
      "🔄 Node: \u001b[1;36mgenerate\u001b[0m 🔄\n",
      "- - - - - - - - - - - - - - - - - - - - - - - - - \n",
      "AI의 악용 사례로는 다음과 같은 것들이 있습니다:\n",
      "\n",
      "1. **가짜 콘텐츠 생성**: 특정 개인이나 그룹을 대상으로 맞춤 설계된 사기 콘텐츠를 대량으로 생산하여 피해를 유발할 수 있음.\n",
      "2. **생물학적 무기 생산**: LLM을 사용하여 심각한 전염병 병원체를 생성하거나 표적화된 생물학적 무기를 빠르게 생산하는 사례.\n",
      "3. **개인정보 유출**: 훈련 데이터에서의 개인정보 유출 및 민감 정보 검색, 추론 등으로 인한 침해.\n",
      "4. **저작권 침해**: 학습 과정에서 저작권 데이터의 대량 사용으로 인한 문제.\n",
      "\n",
      "**Source**\n",
      "- ./data/IS-183_AI 위험 유형 및 사례 분석(최종).pdf (페이지 15, 18, 10)\n",
      "==================================================\n"
     ]
    }
   ],
   "source": [
    "from langchain_core.runnables import RunnableConfig\n",
    "from langchain_print import stream_graph, invoke_graph, random_uuid\n",
    "\n",
    "# config 설정(재귀 최대 횟수, thread_id)\n",
    "config = RunnableConfig(recursion_limit=10, configurable={\"thread_id\": random_uuid()})\n",
    "\n",
    "# 사용자의 에이전트 메모리 유형에 대한 질문을 포함하는 입력 데이터 구조 정의\n",
    "inputs = {\n",
    "    \"messages\": [\n",
    "        (\"user\", \"AI의 악용 사례는?\"),\n",
    "    ]\n",
    "}\n",
    "\n",
    "# 그래프 실행\n",
    "invoke_graph(graph, inputs, config)"
   ]
  },
  {
   "cell_type": "code",
   "execution_count": 19,
   "metadata": {},
   "outputs": [
    {
     "name": "stdout",
     "output_type": "stream",
     "text": [
      "\n",
      "==================================================\n",
      "🔄 Node: \u001b[1;36magent\u001b[0m 🔄\n",
      "- - - - - - - - - - - - - - - - - - - - - - - - - \n",
      "AI의 악용 사례로는 다음과 같은 것들이 있습니다:\n",
      "\n",
      "1. **가짜 콘텐츠 생성**: 특정 개인이나 그룹을 대상으로 맞춤 설계된 사기 콘텐츠를 대량으로 생산하여 피해를 유발할 수 있습니다. 이는 사기, 개인 사생활 침해, 명예 훼손 등의 형태로 나타날 수 있습니다.\n",
      "\n",
      "2. **생물학적 무기 생산**: 대규모 언어 모델(LLM)을 사용하여 심각한 전염병 병원체를 생성하거나 표적화된 생물학적 무기를 빠르게 생산하는 사례가 있습니다. 이는 치명적인 위험을 초래할 수 있습니다.\n",
      "\n",
      "3. **개인정보 유출**: AI 훈련 데이터에서 개인정보가 유출되거나, 민감한 정보를 검색하고 추론하는 과정에서 개인정보 보호가 침해될 수 있습니다.\n",
      "\n",
      "4. **저작권 침해**: AI 모델이 학습 과정에서 저작권이 있는 데이터를 대량으로 사용함으로써 저작권 침해 문제가 발생할 수 있습니다.\n",
      "\n",
      "이러한 사례들은 AI 기술이 발전함에 따라 더욱 심각해질 수 있으며, 이에 대한 지속적인 모니터링과 대응이 필요합니다."
     ]
    }
   ],
   "source": [
    "# 그래프 스트리밍 출력\n",
    "stream_graph(graph, inputs, config, [\"agent\", \"rewrite\", \"generate\"])"
   ]
  },
  {
   "cell_type": "code",
   "execution_count": 20,
   "metadata": {},
   "outputs": [
    {
     "name": "stdout",
     "output_type": "stream",
     "text": [
      "\n",
      "==================================================\n",
      "🔄 Node: \u001b[1;36magent\u001b[0m 🔄\n",
      "- - - - - - - - - - - - - - - - - - - - - - - - - \n",
      "대한민국의 수도는 서울입니다."
     ]
    }
   ],
   "source": [
    "# 문서 검색이 불가능한 질문 예시\n",
    "inputs = {\n",
    "    \"messages\": [\n",
    "        (\"user\", \"대한민국의 수도는?\"),\n",
    "    ]\n",
    "}\n",
    "\n",
    "# 그래프 실행\n",
    "stream_graph(graph, inputs, config, [\"agent\", \"rewrite\", \"generate\"])"
   ]
  },
  {
   "cell_type": "code",
   "execution_count": 31,
   "metadata": {},
   "outputs": [
    {
     "name": "stdout",
     "output_type": "stream",
     "text": [
      "\n",
      "==================================================\n",
      "🔄 Node: \u001b[1;36magent\u001b[0m 🔄\n",
      "- - - - - - - - - - - - - - - - - - - - - - - - - \n",
      "==== [DECISION: DOCS NOT RELEVANT] ====\n",
      "no\n",
      "==== [QUERY REWRITE] ====\n",
      "\n",
      "==================================================\n",
      "🔄 Node: \u001b[1;36mrewrite\u001b[0m 🔄\n",
      "- - - - - - - - - - - - - - - - - - - - - - - - - \n",
      "네이버가 개발한 생성형 AI의 이름과 그 주요 기능은 무엇인가요?\n",
      "==================================================\n",
      "🔄 Node: \u001b[1;36magent\u001b[0m 🔄\n",
      "- - - - - - - - - - - - - - - - - - - - - - - - - \n",
      "==== [DECISION: DOCS NOT RELEVANT] ====\n",
      "no\n",
      "==== [QUERY REWRITE] ====\n",
      "\n",
      "==================================================\n",
      "🔄 Node: \u001b[1;36mrewrite\u001b[0m 🔄\n",
      "- - - - - - - - - - - - - - - - - - - - - - - - - \n",
      "네이버가 개발한 생성형 AI의 이름과 그 주요 기능은 무엇인가요?\n",
      "==================================================\n",
      "🔄 Node: \u001b[1;36magent\u001b[0m 🔄\n",
      "- - - - - - - - - - - - - - - - - - - - - - - - - \n",
      "==== [DECISION: DOCS NOT RELEVANT] ====\n",
      "no\n",
      "==== [QUERY REWRITE] ====\n",
      "\n",
      "==================================================\n",
      "🔄 Node: \u001b[1;36mrewrite\u001b[0m 🔄\n",
      "- - - - - - - - - - - - - - - - - - - - - - - - - \n",
      "네이버가 개발한 생성형 AI의 이름과 그 주요 기능은 무엇인가요?\n",
      "==================================================\n",
      "🔄 Node: \u001b[1;36magent\u001b[0m 🔄\n",
      "- - - - - - - - - - - - - - - - - - - - - - - - - \n",
      "GraphRecursionError: Recursion limit of 10 reached without hitting a stop condition. You can increase the limit by setting the `recursion_limit` config key.\n",
      "For troubleshooting, visit: https://python.langchain.com/docs/troubleshooting/errors/GRAPH_RECURSION_LIMIT\n"
     ]
    }
   ],
   "source": [
    "from langgraph.errors import GraphRecursionError\n",
    "\n",
    "config = RunnableConfig(recursion_limit=10, configurable={\"thread_id\": random_uuid()})\n",
    "\n",
    "# 문서 검색이 불가능한 질문 예시\n",
    "inputs = {\n",
    "    \"messages\": [\n",
    "        (\"user\", \"네이버가 개발한 생성형 AI 의 이름은\"),\n",
    "    ]\n",
    "}\n",
    "\n",
    "try:\n",
    "    # 그래프 실행\n",
    "    stream_graph(graph, inputs, config, [\"agent\", \"rewrite\", \"generate\"])\n",
    "except GraphRecursionError as recursion_error:\n",
    "    print(f\"GraphRecursionError: {recursion_error}\")"
   ]
  }
 ],
 "metadata": {
  "kernelspec": {
   "display_name": "langchain-note-2024-PFhCXHTX-py3.12",
   "language": "python",
   "name": "python3"
  },
  "language_info": {
   "codemirror_mode": {
    "name": "ipython",
    "version": 3
   },
   "file_extension": ".py",
   "mimetype": "text/x-python",
   "name": "python",
   "nbconvert_exporter": "python",
   "pygments_lexer": "ipython3",
   "version": "3.12.7"
  }
 },
 "nbformat": 4,
 "nbformat_minor": 2
}
