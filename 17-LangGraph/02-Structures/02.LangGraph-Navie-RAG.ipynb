{
 "cells": [
  {
   "cell_type": "code",
   "execution_count": 1,
   "metadata": {},
   "outputs": [
    {
     "data": {
      "text/plain": [
       "True"
      ]
     },
     "execution_count": 1,
     "metadata": {},
     "output_type": "execute_result"
    }
   ],
   "source": [
    "from dotenv import load_dotenv\n",
    "import sys\n",
    "\n",
    "sys.path.append(\"../../common\")\n",
    "load_dotenv()"
   ]
  },
  {
   "cell_type": "code",
   "execution_count": 2,
   "metadata": {},
   "outputs": [
    {
     "name": "stdout",
     "output_type": "stream",
     "text": [
      "Langsmith 추적이 활성화되었습니다. [프로젝트명: 17.LangGraph-Structures]\n"
     ]
    }
   ],
   "source": [
    "import os\n",
    "from langsmith_tracker import set_tracking\n",
    "\n",
    "# 인스턴스를 생성할 때 필요한 매개변수를 전달합니다.\n",
    "set_tracking(project_name=\"17.LangGraph-Structures\")"
   ]
  },
  {
   "cell_type": "markdown",
   "metadata": {},
   "source": [
    "## Naive RAG\n",
    "\n",
    "### 1. 기본 PDF 기반 Retrievel Chain 생성\n",
    "\n",
    "가장 단순한 Retrieval Chain을 생성합니다.  \n",
    "  \n",
    "단, LangGraph에서는 Retrieval 와 Chain 을 따로 생성합니다. 그래야 각 노드 별로 세부 처리를 할 수 있습니다.\n",
    "  \n",
    "아래 코드의 rag.pdf 는 base.py 를 상속받고 있습니다. 기본적인 세팅이 되어 있는 클래스입니다."
   ]
  },
  {
   "cell_type": "code",
   "execution_count": 3,
   "metadata": {},
   "outputs": [],
   "source": [
    "from rag.pdf import PDFRetrievalChain\n",
    "\n",
    "pdf = PDFRetrievalChain(\n",
    "    source_uri=[\"data/IS-183_AI 위험 유형 및 사례 분석(최종).pdf\"]\n",
    ").create_chain()\n",
    "pdf_retriever = pdf.retriever\n",
    "pdf_chain = pdf.chain"
   ]
  },
  {
   "cell_type": "markdown",
   "metadata": {},
   "source": [
    "pdf_retriever 를 사용하여 검색 결과를 가져옵니다."
   ]
  },
  {
   "cell_type": "code",
   "execution_count": 4,
   "metadata": {},
   "outputs": [
    {
     "data": {
      "text/plain": [
       "[Document(metadata={'source': 'data/IS-183_AI 위험 유형 및 사례 분석(최종).pdf', 'file_path': 'data/IS-183_AI 위험 유형 및 사례 분석(최종).pdf', 'page': 2, 'total_pages': 32, 'Author': 'user', 'Creator': 'Hwp 2018 10.0.0.14241', 'Producer': 'Hancom PDF 1.3.0.547', 'CreationDate': \"D:20241106094709+09'00'\", 'ModDate': \"D:20241106094709+09'00'\", 'PDFVersion': '1.4'}, page_content='Ⅲ. AI 위험별 사례 분석 ·······························································11\\n3.1 악의적 사용 위험 ·····························································11\\n3.2 오작동 위험 ······································································14'),\n",
       " Document(metadata={'source': 'data/IS-183_AI 위험 유형 및 사례 분석(최종).pdf', 'file_path': 'data/IS-183_AI 위험 유형 및 사례 분석(최종).pdf', 'page': 9, 'total_pages': 32, 'Author': 'user', 'Creator': 'Hwp 2018 10.0.0.14241', 'Producer': 'Hancom PDF 1.3.0.547', 'CreationDate': \"D:20241106094709+09'00'\", 'ModDate': \"D:20241106094709+09'00'\", 'PDFVersion': '1.4'}, page_content='SPRi\\x00이슈리포트IS-183 AI\\x00위험유형및사례분석\\n■ 현재의연구들은 다양한관점과범위에따라AI\\x00위험요인을정의하고 있어,\\x00본장에서는\\n네가지주요연구자료에서제시하고있는위험과위험요인들을비교하고분석을수행\\n● 현재 논의되고 있는 AI 위험 요인들은 다양한 기준에 의해 수집 및 분류되어 제시되고 있어, AI\\n위험에 관한 포괄적 분류체계 마련을 위해 비교·분석이 필요\\n∙ AI 위험 요인들은 유사하지만 다양한 정의와 분류에 따라 혼재하고 있고, 각 위험 요인의 대응 방안에 관한'),\n",
       " Document(metadata={'source': 'data/IS-183_AI 위험 유형 및 사례 분석(최종).pdf', 'file_path': 'data/IS-183_AI 위험 유형 및 사례 분석(최종).pdf', 'page': 14, 'total_pages': 32, 'Author': 'user', 'Creator': 'Hwp 2018 10.0.0.14241', 'Producer': 'Hancom PDF 1.3.0.547', 'CreationDate': \"D:20241106094709+09'00'\", 'ModDate': \"D:20241106094709+09'00'\", 'PDFVersion': '1.4'}, page_content='SPRi\\x00이슈리포트IS-183 AI\\x00위험유형및사례분석\\n<표 2-4> AI 위험 요인 분류 및 범위\\nAI 위험 주요 자료\\n요슈아 벤지오 NIST\\n대분류 중분류 MIT 연구진14 Yi Zeng 외16\\n외12 AI RMF13\\nㅇ 가짜 콘텐츠를 통한 개인 위해11\\n● ◑ ● ●\\n(사기, 피싱, 합성, 복제)\\nㅇ 허위 정보 생성11,12,13\\n● ● ● ◑\\n(광고, 마이크로 타게팅)\\nㅇ 사용자 설득 및 여론 조작11\\n● ● ◑ ●\\n악의적 사용 (대화형 AI를 통한 설득)\\n위험 ㅇ 사이버 공격 및 보안11,15 ● ● ● ●'),\n",
       " Document(metadata={'source': 'data/IS-183_AI 위험 유형 및 사례 분석(최종).pdf', 'file_path': 'data/IS-183_AI 위험 유형 및 사례 분석(최종).pdf', 'page': 13, 'total_pages': 32, 'Author': 'user', 'Creator': 'Hwp 2018 10.0.0.14241', 'Producer': 'Hancom PDF 1.3.0.547', 'CreationDate': \"D:20241106094709+09'00'\", 'ModDate': \"D:20241106094709+09'00'\", 'PDFVersion': '1.4'}, page_content='SPRi\\x00이슈리포트IS-183 AI\\x00위험유형및사례분석\\n■ 결과적으로 모든 제시되고 있는 위험 요인을 포함한 자료는 부재한 상태이고,\\x00광의의 AI\\x00\\n안전범위에서사회적영향과관련된위험요인들에대한추가적인연구가필요\\n● 선제적인 연구인 요슈아 벤지오 연구팀의 위험 분류 체계를 기준으로 <표 2-5>과 같이 주요\\n자료들에서 제시하고 있는 AI 위험 요인에 대한 분류와 고려 범위를 비교·분석하여 도출\\n∙ 요슈아 벤지오 연구팀의 분류에서 정의되어 있지 않은 위험 요인은 추가하고, 각 자료에서 특정 위험에 대해'),\n",
       " Document(metadata={'source': 'data/IS-183_AI 위험 유형 및 사례 분석(최종).pdf', 'file_path': 'data/IS-183_AI 위험 유형 및 사례 분석(최종).pdf', 'page': 2, 'total_pages': 32, 'Author': 'user', 'Creator': 'Hwp 2018 10.0.0.14241', 'Producer': 'Hancom PDF 1.3.0.547', 'CreationDate': \"D:20241106094709+09'00'\", 'ModDate': \"D:20241106094709+09'00'\", 'PDFVersion': '1.4'}, page_content='SPRi\\x00이슈리포트IS-183 AI\\x00위험유형및사례분석\\nCONTENT\\nⅠ. 배경 ·····························································································1\\nⅡ. AI 안전과 위험 유형 ·································································4'),\n",
       " Document(metadata={'source': 'data/IS-183_AI 위험 유형 및 사례 분석(최종).pdf', 'file_path': 'data/IS-183_AI 위험 유형 및 사례 분석(최종).pdf', 'page': 3, 'total_pages': 32, 'Author': 'user', 'Creator': 'Hwp 2018 10.0.0.14241', 'Producer': 'Hancom PDF 1.3.0.547', 'CreationDate': \"D:20241106094709+09'00'\", 'ModDate': \"D:20241106094709+09'00'\", 'PDFVersion': '1.4'}, page_content='관련된 개념을 정리하고, 최근 수행된 연구들이 제시하고 있는 AI 위험 유형 및 요인을 정리하여, 사례와\\n함께 분석함으로써 앞으로의 AI 위험 대응에 관한 정책적 시사점을 제공하고자 한다.'),\n",
       " Document(metadata={'source': 'data/IS-183_AI 위험 유형 및 사례 분석(최종).pdf', 'file_path': 'data/IS-183_AI 위험 유형 및 사례 분석(최종).pdf', 'page': 26, 'total_pages': 32, 'Author': 'user', 'Creator': 'Hwp 2018 10.0.0.14241', 'Producer': 'Hancom PDF 1.3.0.547', 'CreationDate': \"D:20241106094709+09'00'\", 'ModDate': \"D:20241106094709+09'00'\", 'PDFVersion': '1.4'}, page_content='SPRi\\x00이슈리포트IS-183 AI\\x00위험유형및사례분석\\nⅣ. 결론 및 시사점\\n■ AI\\x00위험요인은기술적논의를넘어선사회적,\\x00제도적요인을포함\\n● 최근 연구를 살펴본 결과, AI의 위험 요인은 단순히 기술적 결함을 넘어서 사용자에 의한 악용,\\n국가별·지역별 격차로 인한 사회적 위험 요인까지 확대되고 있음을 확인\\n● 위험 요인들이 다양하게 식별되어 분류가 제시되었으나, 아직까지 합의된 위험 분류 체계는 없는\\n상황으로 명확한 가이드라인 제시를 위한 기준 마련이 필요'),\n",
       " Document(metadata={'source': 'data/IS-183_AI 위험 유형 및 사례 분석(최종).pdf', 'file_path': 'data/IS-183_AI 위험 유형 및 사례 분석(최종).pdf', 'page': 0, 'total_pages': 32, 'Author': 'user', 'Creator': 'Hwp 2018 10.0.0.14241', 'Producer': 'Hancom PDF 1.3.0.547', 'CreationDate': \"D:20241106094709+09'00'\", 'ModDate': \"D:20241106094709+09'00'\", 'PDFVersion': '1.4'}, page_content='ISSUE\\x00REPORT\\x00l\\x002024.11.01.\\x00IS-183\\nAI\\x00위험 유형 및 사례 분석\\nA\\x00Comprehensive\\x00Review\\x00on\\x00AI\\x00Risks\\x00and\\x00Cases\\n노재원, 유재흥, 장진철, 조지연'),\n",
       " Document(metadata={'source': 'data/IS-183_AI 위험 유형 및 사례 분석(최종).pdf', 'file_path': 'data/IS-183_AI 위험 유형 및 사례 분석(최종).pdf', 'page': 12, 'total_pages': 32, 'Author': 'user', 'Creator': 'Hwp 2018 10.0.0.14241', 'Producer': 'Hancom PDF 1.3.0.547', 'CreationDate': \"D:20241106094709+09'00'\", 'ModDate': \"D:20241106094709+09'00'\", 'PDFVersion': '1.4'}, page_content='문서 총 16건을 분석하여 AI 위험 요소의 고려 범위를 비교\\n<표 2-3> 중국 연구진의 AI 위험에 관한 세부 분류\\n대분류(Level 1) 중분류(Level 2) 세분류(Level 3)\\n보안 위험 기밀성, 무결성, 사용가능성\\n시스템 및 작동\\n자동화된 의사결정, 시스템의 자동적인 불안전 작동, 엄격한\\n위험 작동상의 오용\\n규제를 받는 산업 분야에서의 조언\\n악의적 조직 지원, 고통 축하, 폭력행위, 폭력 묘사, 무기 사\\n폭력 및 극단주의\\n용 및 개발, 군사 및 전쟁'),\n",
       " Document(metadata={'source': 'data/IS-183_AI 위험 유형 및 사례 분석(최종).pdf', 'file_path': 'data/IS-183_AI 위험 유형 및 사례 분석(최종).pdf', 'page': 26, 'total_pages': 32, 'Author': 'user', 'Creator': 'Hwp 2018 10.0.0.14241', 'Producer': 'Hancom PDF 1.3.0.547', 'CreationDate': \"D:20241106094709+09'00'\", 'ModDate': \"D:20241106094709+09'00'\", 'PDFVersion': '1.4'}, page_content='상황으로 명확한 가이드라인 제시를 위한 기준 마련이 필요\\n∙ 위험 요인들이 다양하게 식별되어 분류가 제시되고 있으나 합의된 체계는 없으며, 표준의 관점에서는 AI\\n안전 측정 및 평가에 초점을 맞추고 있어 모든 위험 요인을 다루기에는 한계가 존재\\n● 이는 AI 안전성에 관한 초기 개념이 최근 변화하였으나 합의된 정의가 없는 것과 유사한 맥락으로,\\n기술적 접근 외에 사람의 의도에 의해 발생하는 위험과 피해, 국가 간 기술 격차, 지역적 불평등\\n등으로 인해 AI 기술이 야기할 수 있는 위험이 논의 되어야 함을 시사')]"
      ]
     },
     "execution_count": 4,
     "metadata": {},
     "output_type": "execute_result"
    }
   ],
   "source": [
    "search_result = pdf_retriever.invoke(\"AI 위험 유형 및 사례 분석에 대해 설명해주세요.\")\n",
    "search_result"
   ]
  },
  {
   "cell_type": "markdown",
   "metadata": {},
   "source": [
    "pdf_chain 으로 검색 결과를 처리합니다. context로 pdf_retriever 의 결과를 전달합니다."
   ]
  },
  {
   "cell_type": "code",
   "execution_count": 5,
   "metadata": {},
   "outputs": [
    {
     "name": "stdout",
     "output_type": "stream",
     "text": [
      "AI 위험 유형 및 사례 분석은 다양한 관점에서 AI의 위험 요인을 정의하고 분석하는 내용을 포함합니다. 주요 위험 유형으로는 악의적 사용 위험과 오작동 위험이 있으며, 각각의 사례로는 가짜 콘텐츠 생성, 허위 정보 생성, 사용자 설득 및 여론 조작 등이 있습니다. 이러한 위험 요인들은 기술적 결함을 넘어 사회적, 제도적 요인까지 포함하고 있으며, 명확한 위험 분류 체계가 필요합니다.\n",
      "\n",
      "**Source**\n",
      "- data/IS-183_AI 위험 유형 및 사례 분석(최종).pdf (page 2)\n",
      "- data/IS-183_AI 위험 유형 및 사례 분석(최종).pdf (page 14)\n",
      "- data/IS-183_AI 위험 유형 및 사례 분석(최종).pdf (page 26)\n"
     ]
    }
   ],
   "source": [
    "# 검색 결과를 기반으로 하는 답변\n",
    "answer = pdf_chain.invoke(\n",
    "    {\n",
    "        \"question\": \"AI 위험 유형 및 사례 분석에 대해 설명해주세요.\",\n",
    "        \"context\": search_result,\n",
    "        \"chat_history\": [],\n",
    "    }\n",
    ")\n",
    "\n",
    "print(answer)"
   ]
  },
  {
   "cell_type": "markdown",
   "metadata": {},
   "source": [
    "### 2. State 정의"
   ]
  },
  {
   "cell_type": "code",
   "execution_count": 6,
   "metadata": {},
   "outputs": [],
   "source": [
    "from typing import Annotated, TypedDict\n",
    "from langgraph.graph.message import add_messages\n",
    "\n",
    "\n",
    "class GraphState(TypedDict):\n",
    "    question: Annotated[str, \"Question\"]  # 질문\n",
    "    context: Annotated[str, \"Context\"]  # 문서의 검색 결과\n",
    "    answer: Annotated[str, \"Answer\"]  # 답변\n",
    "    messages: Annotated[list, add_messages]  # 메시지(누적되는 list)"
   ]
  },
  {
   "cell_type": "markdown",
   "metadata": {},
   "source": [
    "### 3. 노드 정의"
   ]
  },
  {
   "cell_type": "code",
   "execution_count": 7,
   "metadata": {},
   "outputs": [],
   "source": [
    "from langchain_print import messages_to_history\n",
    "from rag.utils import format_docs\n",
    "\n",
    "\n",
    "# 문서를 검색하는 노드\n",
    "def retrieve_documents(state: GraphState) -> GraphState:\n",
    "    # 상태에서 질문 추출\n",
    "    latest_question = state[\"question\"]\n",
    "\n",
    "    # 문서 검색 결과에서 관령성 있는 문서를 추출\n",
    "    retrieved_docs = pdf_retriever.invoke(latest_question)\n",
    "\n",
    "    # 검색된 문서 형식화 (프롬프트 입력으로 넣기 위함)\n",
    "    retrieved_docs = format_docs(retrieved_docs)\n",
    "\n",
    "    # 검색된 문서를 context 키에 저장\n",
    "    return {\"context\": retrieved_docs}\n",
    "\n",
    "\n",
    "# 답변 생성 노드\n",
    "def llm_answer(state: GraphState) -> GraphState:\n",
    "    # 상태에서 질문 추출\n",
    "    latest_question = state[\"question\"]\n",
    "\n",
    "    # 검색된 문서에서 내용 추출\n",
    "    context = state[\"context\"]\n",
    "\n",
    "    # 체인을 호출하여 답변 생성\n",
    "    answer = pdf_chain.invoke(\n",
    "        {\n",
    "            \"question\": latest_question,\n",
    "            \"context\": context,\n",
    "            \"chat_history\": messages_to_history(state[\"messages\"]),\n",
    "        }\n",
    "    )\n",
    "\n",
    "    # 생성된 답변을 상태에 저장\n",
    "    return {\n",
    "        \"answer\": answer,\n",
    "        \"messages\": [(\"user\", latest_question), (\"assistant\", answer)],\n",
    "    }"
   ]
  },
  {
   "cell_type": "markdown",
   "metadata": {},
   "source": [
    "### 4. 그래프 생성, 엣지 설정"
   ]
  },
  {
   "cell_type": "code",
   "execution_count": 8,
   "metadata": {},
   "outputs": [],
   "source": [
    "from langgraph.graph import END, StateGraph\n",
    "from langgraph.checkpoint.memory import MemorySaver\n",
    "\n",
    "\n",
    "graph = StateGraph(GraphState)\n",
    "\n",
    "# 노드 추가\n",
    "graph.add_node(\"retrieve_documents\", retrieve_documents)\n",
    "graph.add_node(\"llm_answer\", llm_answer)\n",
    "\n",
    "# 엣지 추가\n",
    "graph.add_edge(\"retrieve_documents\", \"llm_answer\")\n",
    "graph.add_edge(\"llm_answer\", END)\n",
    "\n",
    "# 그래프 진입점 설정\n",
    "graph.set_entry_point(\"retrieve_documents\")\n",
    "\n",
    "# 메모리 생성\n",
    "memory = MemorySaver()\n",
    "\n",
    "# 그래프 컴파일\n",
    "app = graph.compile(checkpointer=memory)"
   ]
  },
  {
   "cell_type": "code",
   "execution_count": 10,
   "metadata": {},
   "outputs": [
    {
     "data": {
      "image/png": "[encoded data removed]",
      "text/plain": [
       "<IPython.core.display.Image object>"
      ]
     },
     "metadata": {},
     "output_type": "display_data"
    }
   ],
   "source": [
    "from graphs import visualize_graph\n",
    "\n",
    "# 그래프 시각화\n",
    "visualize_graph(app)"
   ]
  },
  {
   "cell_type": "markdown",
   "metadata": {},
   "source": [
    "### 5. 그래프 실행"
   ]
  },
  {
   "cell_type": "code",
   "execution_count": 12,
   "metadata": {},
   "outputs": [
    {
     "name": "stdout",
     "output_type": "stream",
     "text": [
      "\n",
      "==================================================\n",
      "🔄 Node: \u001b[1;36mretrieve_documents\u001b[0m 🔄\n",
      "- - - - - - - - - - - - - - - - - - - - - - - - - \n",
      "==================================================\n",
      "\n",
      "==================================================\n",
      "🔄 Node: \u001b[1;36mllm_answer\u001b[0m 🔄\n",
      "- - - - - - - - - - - - - - - - - - - - - - - - - \n",
      "('user', 'AI 위험 유형 및 사례 분석에 대해 설명해주세요.')\n",
      "('assistant', 'AI 위험 유형은 크게 두 가지로 분류됩니다: \\n\\n1. **악의적 사용 위험**: 가짜 콘텐츠 생성, 허위 정보 생성, 사용자 설득 및 여론 조작, 사이버 공격 등.\\n2. **오작동 위험**: 시스템의 자동적인 불안전 작동 및 의사결정 오류.\\n\\n이러한 위험들은 기술적 결함을 넘어 사회적, 제도적 요인까지 포함하고 있으며, 명확한 가이드라인과 기준 마련이 필요합니다.\\n\\n**Source**\\n- data/IS-183_AI 위험 유형 및 사례 분석(최종).pdf (page 3, 10, 14, 27)')\n",
      "==================================================\n"
     ]
    }
   ],
   "source": [
    "from langchain_core.runnables import RunnableConfig\n",
    "from langchain_print import invoke_graph, stream_graph, random_uuid\n",
    "\n",
    "config = RunnableConfig(\n",
    "    recursion_limit=10,\n",
    "    configurable={\"thread_id\": random_uuid()},\n",
    ")\n",
    "\n",
    "inputs = GraphState(question=\"AI 위험 유형 및 사례 분석에 대해 설명해주세요.\")\n",
    "\n",
    "invoke_graph(app, inputs, config)"
   ]
  },
  {
   "cell_type": "code",
   "execution_count": 13,
   "metadata": {},
   "outputs": [
    {
     "name": "stdout",
     "output_type": "stream",
     "text": [
      "\n",
      "==================================================\n",
      "🔄 Node: \u001b[1;36mllm_answer\u001b[0m 🔄\n",
      "- - - - - - - - - - - - - - - - - - - - - - - - - \n",
      "AI 위험 유형은 크게 두 가지로 나눌 수 있습니다:\n",
      "\n",
      "1. **악의적 사용 위험**: 가짜 콘텐츠 생성, 허위 정보 생성, 사용자 설득 및 여론 조작, 사이버 공격 등.\n",
      "2. **오작동 위험**: 시스템의 자동적인 불안전 작동 및 의사결정 오류.\n",
      "\n",
      "이러한 위험들은 기술적 결함을 넘어 사회적, 제도적 요인까지 포함하고 있으며, 명확한 가이드라인과 기준 마련이 필요합니다.\n",
      "\n",
      "**Source**\n",
      "- data/IS-183_AI 위험 유형 및 사례 분석(최종).pdf (page 3, 10, 14, 27)"
     ]
    }
   ],
   "source": [
    "stream_graph(app, inputs, config)"
   ]
  },
  {
   "cell_type": "code",
   "execution_count": 15,
   "metadata": {},
   "outputs": [
    {
     "name": "stdout",
     "output_type": "stream",
     "text": [
      "Question: AI 위험 유형 및 사례 분석에 대해 설명해주세요.\n",
      "============================================================\n",
      "Answer:\n",
      "AI 위험 유형은 크게 두 가지로 나눌 수 있습니다:\n",
      "\n",
      "1. **악의적 사용 위험**: 가짜 콘텐츠 생성, 허위 정보 생성, 사용자 설득 및 여론 조작, 사이버 공격 등.\n",
      "2. **오작동 위험**: 시스템의 자동적인 불안전 작동 및 의사결정 오류.\n",
      "\n",
      "이러한 위험들은 기술적 결함을 넘어 사회적, 제도적 요인까지 포함하고 있으며, 명확한 가이드라인과 기준 마련이 필요합니다.\n",
      "\n",
      "**Source**\n",
      "- data/IS-183_AI 위험 유형 및 사례 분석(최종).pdf (page 3, 10, 14, 27)\n"
     ]
    }
   ],
   "source": [
    "outputs = app.get_state(config).values\n",
    "\n",
    "print(f'Question: {outputs[\"question\"]}')\n",
    "print(\"===\" * 20)\n",
    "print(f'Answer:\\n{outputs[\"answer\"]}')"
   ]
  }
 ],
 "metadata": {
  "kernelspec": {
   "display_name": "langchain-note-2024-PFhCXHTX-py3.12",
   "language": "python",
   "name": "python3"
  },
  "language_info": {
   "codemirror_mode": {
    "name": "ipython",
    "version": 3
   },
   "file_extension": ".py",
   "mimetype": "text/x-python",
   "name": "python",
   "nbconvert_exporter": "python",
   "pygments_lexer": "ipython3",
   "version": "3.12.7"
  }
 },
 "nbformat": 4,
 "nbformat_minor": 2
}
