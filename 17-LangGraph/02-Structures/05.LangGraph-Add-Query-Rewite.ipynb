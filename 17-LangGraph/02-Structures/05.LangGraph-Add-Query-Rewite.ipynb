{
 "cells": [
  {
   "cell_type": "code",
   "execution_count": 1,
   "metadata": {},
   "outputs": [
    {
     "data": {
      "text/plain": [
       "True"
      ]
     },
     "execution_count": 1,
     "metadata": {},
     "output_type": "execute_result"
    }
   ],
   "source": [
    "from dotenv import load_dotenv\n",
    "import sys\n",
    "\n",
    "sys.path.append(\"../../common\")\n",
    "load_dotenv()"
   ]
  },
  {
   "cell_type": "code",
   "execution_count": 2,
   "metadata": {},
   "outputs": [
    {
     "name": "stdout",
     "output_type": "stream",
     "text": [
      "Langsmith 추적이 활성화되었습니다. [프로젝트명: 17.LangGraph-Structures]\n"
     ]
    }
   ],
   "source": [
    "import os\n",
    "from langsmith_tracker import set_tracking\n",
    "\n",
    "# 인스턴스를 생성할 때 필요한 매개변수를 전달합니다.\n",
    "set_tracking(project_name=\"17.LangGraph-Structures\")"
   ]
  },
  {
   "cell_type": "markdown",
   "metadata": {},
   "source": [
    "## 웹 검색 모듈 추가\n",
    "\n",
    "03.LangGraph-Add-Groundedness-Check.ipynb 과 04.LangGraph-Add-WebSearch.ipynb 에서 이어서 진행합니다.  \n",
    "  \n",
    "문서 검색을 하기 전에 사용자의 질의를 재구성 하는 노드를 추가합니다.\n",
    "  \n",
    "##### 그래프 흐름\n",
    "\n",
    "![langgraph_structures_add_query_rewrite.png](./assets/langgraph_structures_add_query_rewrite.png)"
   ]
  },
  {
   "cell_type": "code",
   "execution_count": 3,
   "metadata": {},
   "outputs": [],
   "source": [
    "from rag.pdf import PDFRetrievalChain\n",
    "\n",
    "from typing import Annotated, List\n",
    "from typing_extensions import TypedDict\n",
    "from langgraph.graph.message import add_messages\n",
    "\n",
    "\n",
    "# PDF 문서 검색 체인 생성, 체인 안에는 llm 이 포함되어 있음\n",
    "pdf = PDFRetrievalChain(\n",
    "    source_uri=[\"./data/IS-183_AI 위험 유형 및 사례 분석(최종).pdf\"]\n",
    ").create_chain()\n",
    "\n",
    "pdf_retriever = pdf.retriever\n",
    "pdf_chain = pdf.chain"
   ]
  },
  {
   "cell_type": "code",
   "execution_count": 4,
   "metadata": {},
   "outputs": [],
   "source": [
    "# 그래프 상태 정의\n",
    "class GraphState(TypedDict):\n",
    "    question: Annotated[List[str], add_messages]  # 질문\n",
    "    context: Annotated[str, \"Context\"]  # 문서의 검색 결과\n",
    "    answer: Annotated[str, \"Answer\"]  # 답변\n",
    "    messages: Annotated[list, add_messages]  # 메시지(누적)\n",
    "    relevance: Annotated[str, \"Relevance\"]  # 관련성 체크"
   ]
  },
  {
   "cell_type": "code",
   "execution_count": 5,
   "metadata": {},
   "outputs": [],
   "source": [
    "from langchain_openai import ChatOpenAI\n",
    "from evaluators import GroundednessChecker\n",
    "from langchain_print import messages_to_history\n",
    "from rag.utils import format_docs\n",
    "from tools_tavily import TavilySearch\n",
    "\n",
    "\n",
    "# 노드 정의\n",
    "# 문서 검색 노드\n",
    "def retrieve_document(state: GraphState) -> GraphState:\n",
    "    latest_question = state[\"question\"][-1].content\n",
    "    retrieved_docs = pdf_retriever.invoke(latest_question)\n",
    "    retrieved_docs_formatted = format_docs(retrieved_docs)\n",
    "\n",
    "    return GraphState(context=retrieved_docs_formatted)\n",
    "\n",
    "\n",
    "# 답변 생성 노드\n",
    "def llm_answer(state: GraphState) -> GraphState:\n",
    "    # 마지막 질문 추출\n",
    "    latest_question = state[\"question\"][-1].content\n",
    "    # 검색된 문서 추출\n",
    "    context = state[\"context\"]\n",
    "\n",
    "    # 답변 생성\n",
    "    response = pdf_chain.invoke(\n",
    "        {\n",
    "            \"question\": latest_question,\n",
    "            \"context\": context,\n",
    "            \"chat_history\": messages_to_history(state[\"messages\"]),\n",
    "        }\n",
    "    )\n",
    "\n",
    "    return GraphState(\n",
    "        answer=response, messages=[(\"user\", latest_question), (\"assistant\", response)]\n",
    "    )\n",
    "\n",
    "\n",
    "# 관령성 체크 노드\n",
    "def relevance_check(state: GraphState) -> GraphState:\n",
    "    llm = ChatOpenAI(model=\"gpt-4o-mini\", temperature=0)\n",
    "\n",
    "    # 검색된 문서와 관련성 평가 생성\n",
    "    # question-retrieval - 모드는 검색된 문서가 질문과 관련이 있는지 평가\n",
    "    checker = GroundednessChecker(llm=llm, target=\"question-retrieval\")\n",
    "    evaluator = checker.create()\n",
    "\n",
    "    response = evaluator.invoke(\n",
    "        {\n",
    "            \"question\": state[\"question\"][-1].content,  # 질문\n",
    "            \"context\": state[\"context\"],  # 문서의 검색 결과\n",
    "        }\n",
    "    )\n",
    "\n",
    "    return GraphState(relevance=response.score)\n",
    "\n",
    "\n",
    "# 관련성 체크 결과에 따라 체크 결과를 반환하는 노드\n",
    "def is_relevant(state: GraphState) -> GraphState:\n",
    "    if state[\"relevance\"] == \"yes\":\n",
    "        return \"relevant\"\n",
    "    else:\n",
    "        return \"not relevant\"\n",
    "\n",
    "\n",
    "# 웹 검색 노드\n",
    "def web_search(state: GraphState) -> GraphState:\n",
    "    tavily_tool = TavilySearch()\n",
    "    search_query = state[\"question\"][-1].content\n",
    "\n",
    "    search_results = tavily_tool.invoke(\n",
    "        input=search_query,  # 검색 쿼리\n",
    "        topic=\"general\",  # 주제\n",
    "        max_results=5,  # 최대 검색 결과 수\n",
    "        format_output=True,  # 결과 포매팅\n",
    "    )\n",
    "\n",
    "    return GraphState(context=search_results)"
   ]
  },
  {
   "cell_type": "markdown",
   "metadata": {},
   "source": [
    "rewrite 노드를 추가합니다."
   ]
  },
  {
   "cell_type": "code",
   "execution_count": 6,
   "metadata": {},
   "outputs": [],
   "source": [
    "from langchain_core.prompts import PromptTemplate\n",
    "from langchain_core.output_parsers import StrOutputParser\n",
    "\n",
    "# Query Rewrite 프롬프트 생성\n",
    "re_write_prompt = PromptTemplate(\n",
    "    template=\"\"\"Reformulate the given question to enhance its effectiveness for vectorstore retrieval.\n",
    "\n",
    "- Analyze the initial question to identify areas for improvement such as specificity, clarity, and relevance.\n",
    "- Consider the context and potential keywords that would optimize retrieval.\n",
    "- Maintain the intent of the original question while enhancing its structure and vocabulary.\n",
    "\n",
    "# Steps\n",
    "\n",
    "1. **Understand the Original Question**: Identify the core intent and any keywords.\n",
    "2. **Enhance Clarity**: Simplify language and ensure the question is direct and to the point.\n",
    "3. **Optimize for Retrieval**: Add or rearrange keywords for better alignment with vectorstore indexing.\n",
    "4. **Review**: Ensure the improved question accurately reflects the original intent and is free of ambiguity.\n",
    "\n",
    "# Output Format\n",
    "\n",
    "- Provide a single, improved question.\n",
    "- Do not include any introductory or explanatory text; only the reformulated question.\n",
    "\n",
    "# Examples\n",
    "\n",
    "**Input**: \n",
    "\"What are the benefits of using renewable energy sources over fossil fuels?\"\n",
    "\n",
    "**Output**: \n",
    "\"How do renewable energy sources compare to fossil fuels in terms of benefits?\"\n",
    "\n",
    "**Input**: \n",
    "\"How does climate change impact polar bear populations?\"\n",
    "\n",
    "**Output**: \n",
    "\"What effects does climate change have on polar bear populations?\"\n",
    "\n",
    "# Notes\n",
    "\n",
    "- Ensure the improved question is concise and contextually relevant.\n",
    "- Avoid altering the fundamental intent or meaning of the original question.\n",
    "\n",
    "\n",
    "[REMEMBER] Re-written question should be in the same language as the original question.\n",
    "\n",
    "# Here is the original question that needs to be rewritten:\n",
    "{question}\n",
    "\"\"\",\n",
    "    input_variables=[\"question\"],\n",
    ")\n",
    "\n",
    "question_rewriter = (\n",
    "    re_write_prompt | ChatOpenAI(model=\"gpt-4o-mini\", temperature=0) | StrOutputParser()\n",
    ")"
   ]
  },
  {
   "cell_type": "code",
   "execution_count": 7,
   "metadata": {},
   "outputs": [
    {
     "data": {
      "text/plain": [
       "'\"AI에 대한 투자 금액은 얼마인가요?\"'"
      ]
     },
     "execution_count": 7,
     "metadata": {},
     "output_type": "execute_result"
    }
   ],
   "source": [
    "# 질문 재작성\n",
    "question = \"AI 투자 금액\"\n",
    "\n",
    "question_rewriter.invoke({\"question\": question})"
   ]
  },
  {
   "cell_type": "code",
   "execution_count": 8,
   "metadata": {},
   "outputs": [],
   "source": [
    "# 노드 생성\n",
    "def question_rewrite(state: GraphState) -> GraphState:\n",
    "    latest_question = state[\"question\"][-1].content\n",
    "    rewritten_question = question_rewriter.invoke({\"question\": latest_question})\n",
    "    return GraphState(question=rewritten_question)"
   ]
  },
  {
   "cell_type": "code",
   "execution_count": 9,
   "metadata": {},
   "outputs": [
    {
     "data": {
      "image/png": "[encoded data removed]",
      "text/plain": [
       "<IPython.core.display.Image object>"
      ]
     },
     "metadata": {},
     "output_type": "display_data"
    }
   ],
   "source": [
    "from langgraph.graph import END, StateGraph\n",
    "from langgraph.checkpoint.memory import MemorySaver\n",
    "from graphs import visualize_graph\n",
    "\n",
    "# 그래프 정의 및 엣지 설정\n",
    "workflow = StateGraph(GraphState)\n",
    "\n",
    "# 노드 및 엣지 설정\n",
    "workflow.add_node(\"retrieve_document\", retrieve_document)\n",
    "workflow.add_node(\"relevance_check\", relevance_check)\n",
    "workflow.add_node(\"llm_answer\", llm_answer)\n",
    "workflow.add_node(\"web_search\", web_search)\n",
    "\n",
    "# Query Rewrite 노드 추가\n",
    "workflow.add_node(\"question_rewrite\", question_rewrite)\n",
    "\n",
    "workflow.add_edge(\"question_rewrite\", \"retrieve_document\")\n",
    "workflow.add_edge(\"retrieve_document\", \"relevance_check\")\n",
    "\n",
    "# 조건부 노드 추가\n",
    "workflow.add_conditional_edges(\n",
    "    \"relevance_check\",\n",
    "    is_relevant,\n",
    "    {\"relevant\": \"llm_answer\", \"not relevant\": \"web_search\"},\n",
    ")\n",
    "\n",
    "workflow.add_edge(\"web_search\", \"llm_answer\")\n",
    "workflow.add_edge(\"llm_answer\", END)\n",
    "\n",
    "# 시작 노드 설정\n",
    "workflow.set_entry_point(\"question_rewrite\")\n",
    "\n",
    "# 메모리 설정\n",
    "memory = MemorySaver()\n",
    "\n",
    "# 그래프 생성\n",
    "app = workflow.compile(checkpointer=memory)\n",
    "\n",
    "# 그래프 시각화\n",
    "visualize_graph(app)"
   ]
  },
  {
   "cell_type": "code",
   "execution_count": 10,
   "metadata": {},
   "outputs": [
    {
     "name": "stdout",
     "output_type": "stream",
     "text": [
      "\n",
      "==================================================\n",
      "🔄 Node: \u001b[1;36mquestion_rewrite\u001b[0m 🔄\n",
      "- - - - - - - - - - - - - - - - - - - - - - - - - \n",
      "\u001b[94mquestion\u001b[0m:\n",
      "AI의 위험 유형과 사례를 분석해 주실 수 있나요?\n",
      "==================================================\n",
      "\n",
      "==================================================\n",
      "🔄 Node: \u001b[1;36mretrieve_document\u001b[0m 🔄\n",
      "- - - - - - - - - - - - - - - - - - - - - - - - - \n",
      "\u001b[94mcontext\u001b[0m:\n",
      "<document><content>Ⅲ. AI 위험별 사례 분석 ·······························································11\n",
      "3.1 악의적 사용 위험 ·····························································11\n",
      "3.2 오작동 위험 ······································································14</content><source>./data/IS-183_AI 위험 유형 및 사례 분석(최종).pdf</source><page>3</page></document>\n",
      "<document><content>관련된 개념을 정리하고, 최근 수행된 연구들이 제시하고 있는 AI 위험 유형 및 요인을 정리하여, 사례와\n",
      "함께 분석함으로써 앞으로의 AI 위험 대응에 관한 정책적 시사점을 제공하고자 한다.</content><source>./data/IS-183_AI 위험 유형 및 사례 분석(최종).pdf</source><page>4</page></document>\n",
      "<document><content>위해, 기존 AI 위험 프레임워크들에 대한 검토를 수행하고 개별적인 AI 위험을 추출\n",
      "∙ 총 43개의 논문 및 보고서 분석을 기반으로, AI 위험 요인들에 대해 인과 분류*와 도메인별 분류를 제시\n",
      "*인과 분류에서는 AI 위험의 주체(인간, AI), 의도(의도적, 비의도적), 발생 시기에 따른 분류(배포 전, 배포 후) 수행\n",
      "∙ 추출된 700개 이상의 위험들은 AI 위험 저장소(AI Risk Repository)15에서 데이터베이스 형태로 정보 제공</content><source>./data/IS-183_AI 위험 유형 및 사례 분석(최종).pdf</source><page>12</page></document>\n",
      "<document><content>SPRi\u0000이슈리포트IS-183 AI\u0000위험유형및사례분석\n",
      "<표 2-4> AI 위험 요인 분류 및 범위\n",
      "AI 위험 주요 자료\n",
      "요슈아 벤지오 NIST\n",
      "대분류 중분류 MIT 연구진14 Yi Zeng 외16\n",
      "외12 AI RMF13\n",
      "ㅇ 가짜 콘텐츠를 통한 개인 위해11\n",
      "● ◑ ● ●\n",
      "(사기, 피싱, 합성, 복제)\n",
      "ㅇ 허위 정보 생성11,12,13\n",
      "● ● ● ◑\n",
      "(광고, 마이크로 타게팅)\n",
      "ㅇ 사용자 설득 및 여론 조작11\n",
      "● ● ◑ ●\n",
      "악의적 사용 (대화형 AI를 통한 설득)\n",
      "위험 ㅇ 사이버 공격 및 보안11,15 ● ● ● ●</content><source>./data/IS-183_AI 위험 유형 및 사례 분석(최종).pdf</source><page>15</page></document>\n",
      "<document><content>문서 총 16건을 분석하여 AI 위험 요소의 고려 범위를 비교\n",
      "<표 2-3> 중국 연구진의 AI 위험에 관한 세부 분류\n",
      "대분류(Level 1) 중분류(Level 2) 세분류(Level 3)\n",
      "보안 위험 기밀성, 무결성, 사용가능성\n",
      "시스템 및 작동\n",
      "자동화된 의사결정, 시스템의 자동적인 불안전 작동, 엄격한\n",
      "위험 작동상의 오용\n",
      "규제를 받는 산업 분야에서의 조언\n",
      "악의적 조직 지원, 고통 축하, 폭력행위, 폭력 묘사, 무기 사\n",
      "폭력 및 극단주의\n",
      "용 및 개발, 군사 및 전쟁</content><source>./data/IS-183_AI 위험 유형 및 사례 분석(최종).pdf</source><page>13</page></document>\n",
      "<document><content>SPRi\u0000이슈리포트IS-183 AI\u0000위험유형및사례분석\n",
      "II. AI 안전과 위험 요인\n",
      "■ AI\u0000 안전은 다양한 관점에서 정의되고 있으나,\u0000 대부분의 정의에서는 AI의 잠재적인\n",
      "위험으로부터인간의피해를보호하는것을포함하는개념\n",
      "● 최근의 AI 안전에 관한 논의는 인간의 가치와 윤리적 원칙에 부합하게 하고, 의도치 않은 피해나\n",
      "부정적인 결과를 방지하는 것을 주요 목표로 포함시키면서 논의 범위가 더욱 확장\n",
      "∙ AI 시스템의 안전성을 확보함으로써 신뢰성을 확보할 수 있다는 점에서 신뢰성 개념과 상호 연관</content><source>./data/IS-183_AI 위험 유형 및 사례 분석(최종).pdf</source><page>9</page></document>\n",
      "<document><content>SPRi\u0000이슈리포트IS-183 AI\u0000위험유형및사례분석\n",
      "■ 현재의연구들은 다양한관점과범위에따라AI\u0000위험요인을정의하고 있어,\u0000본장에서는\n",
      "네가지주요연구자료에서제시하고있는위험과위험요인들을비교하고분석을수행\n",
      "● 현재 논의되고 있는 AI 위험 요인들은 다양한 기준에 의해 수집 및 분류되어 제시되고 있어, AI\n",
      "위험에 관한 포괄적 분류체계 마련을 위해 비교·분석이 필요\n",
      "∙ AI 위험 요인들은 유사하지만 다양한 정의와 분류에 따라 혼재하고 있고, 각 위험 요인의 대응 방안에 관한</content><source>./data/IS-183_AI 위험 유형 및 사례 분석(최종).pdf</source><page>10</page></document>\n",
      "<document><content>△시스템적 위험 △교차 위험으로 주요 위험 유형을 구분하고 위험 완화를 위한 접근 방식을 평가\n",
      "● 기업 및 학계에서도 AI 위험 요인을 정의하고 분석하는 등 다양한 AI 위험 연구 보고서를 공개\n",
      "∙ 오픈AI, 앤트로픽, 메타, 구글, 코히어 등은 기업의 AI 서비스 제공에 있어, 정책 문서에서 콘텐츠 안전,\n",
      "시스템, 법적·사회적 위험 등에 관한 규정을 정의하고 있음\n",
      "∙ MIT 연구진은 AI 위험 저장소를 개발하여 다양한 정보를 제공하고, AI 위험을 7개의 도메인으로 구분7</content><source>./data/IS-183_AI 위험 유형 및 사례 분석(최종).pdf</source><page>8</page></document>\n",
      "<document><content>*7개의 주요 위험 도메인 : △차별 및 독성 △프라이버시 및 보안 △잘못된 정보 △악의적 행위 및 오남용 △인간-컴퓨터 상호\n",
      "작용 △사회경제적 및 환경 피해 △AI 시스템 안전, 실패 및 한계\n",
      "● 여러 연구 결과에서 AI 위험 요인을 제시하고 있으나 상이한 정의 및 분류 기준을 바탕으로\n",
      "논의되고 있어, 다양한 위험 분류 체계가 혼재하고 있는 상황\n",
      "■ 본보고서에서는AI\u0000안전위험요인과사례들을종합적으로분석하여,\u0000국내AI\u0000안전정책\n",
      "수립을위한시사점을도출</content><source>./data/IS-183_AI 위험 유형 및 사례 분석(최종).pdf</source><page>8</page></document>\n",
      "<document><content>SPRi\u0000이슈리포트IS-183 AI\u0000위험유형및사례분석\n",
      "Ⅳ. 결론 및 시사점\n",
      "■ AI\u0000위험요인은기술적논의를넘어선사회적,\u0000제도적요인을포함\n",
      "● 최근 연구를 살펴본 결과, AI의 위험 요인은 단순히 기술적 결함을 넘어서 사용자에 의한 악용,\n",
      "국가별·지역별 격차로 인한 사회적 위험 요인까지 확대되고 있음을 확인\n",
      "● 위험 요인들이 다양하게 식별되어 분류가 제시되었으나, 아직까지 합의된 위험 분류 체계는 없는\n",
      "상황으로 명확한 가이드라인 제시를 위한 기준 마련이 필요</content><source>./data/IS-183_AI 위험 유형 및 사례 분석(최종).pdf</source><page>27</page></document>\n",
      "==================================================\n",
      "\n",
      "==================================================\n",
      "🔄 Node: \u001b[1;36mrelevance_check\u001b[0m 🔄\n",
      "- - - - - - - - - - - - - - - - - - - - - - - - - \n",
      "\u001b[94mrelevance\u001b[0m:\n",
      "yes\n",
      "==================================================\n",
      "\n",
      "==================================================\n",
      "🔄 Node: \u001b[1;36mllm_answer\u001b[0m 🔄\n",
      "- - - - - - - - - - - - - - - - - - - - - - - - - \n",
      "\u001b[94manswer\u001b[0m:\n",
      "AI의 위험 유형에는 악의적 사용 위험과 오작동 위험이 있습니다. 악의적 사용 위험은 가짜 콘텐츠 생성, 허위 정보 생성, 사용자 설득 및 여론 조작, 사이버 공격 등을 포함합니다. 오작동 위험은 시스템의 자동적인 불안전 작동과 관련이 있습니다.\n",
      "\n",
      "**Source**\n",
      "- ./data/IS-183_AI 위험 유형 및 사례 분석(최종).pdf (페이지 11, 14)\n",
      "('user', 'AI의 위험 유형과 사례를 분석해 주실 수 있나요?')\n",
      "('assistant', 'AI의 위험 유형에는 악의적 사용 위험과 오작동 위험이 있습니다. 악의적 사용 위험은 가짜 콘텐츠 생성, 허위 정보 생성, 사용자 설득 및 여론 조작, 사이버 공격 등을 포함합니다. 오작동 위험은 시스템의 자동적인 불안전 작동과 관련이 있습니다.\\n\\n**Source**\\n- ./data/IS-183_AI 위험 유형 및 사례 분석(최종).pdf (페이지 11, 14)')\n",
      "==================================================\n"
     ]
    }
   ],
   "source": [
    "from langchain_core.runnables import RunnableConfig\n",
    "from langchain_print import stream_graph, invoke_graph, random_uuid\n",
    "\n",
    "config = RunnableConfig(recursion_limit=10, configurable={\"thread_id\": random_uuid()})\n",
    "\n",
    "inputs = GraphState(question=\"AI 위험 유형 및 사례 분석에 대해 설명해주세요.\")\n",
    "\n",
    "invoke_graph(app, inputs, config)"
   ]
  },
  {
   "cell_type": "code",
   "execution_count": 11,
   "metadata": {},
   "outputs": [
    {
     "name": "stdout",
     "output_type": "stream",
     "text": [
      "\n",
      "==================================================\n",
      "🔄 Node: \u001b[1;36mllm_answer\u001b[0m 🔄\n",
      "- - - - - - - - - - - - - - - - - - - - - - - - - \n",
      "AI의 위험 유형은 크게 두 가지로 나눌 수 있습니다: \n",
      "\n",
      "1. **악의적 사용 위험**: \n",
      "   - 가짜 콘텐츠 생성\n",
      "   - 허위 정보 생성\n",
      "   - 사용자 설득 및 여론 조작\n",
      "   - 사이버 공격 및 보안 위협\n",
      "\n",
      "2. **오작동 위험**: \n",
      "   - 시스템의 자동적인 불안전 작동\n",
      "\n",
      "**Source**\n",
      "- ./data/IS-183_AI 위험 유형 및 사례 분석(최종).pdf (페이지 11, 14)"
     ]
    }
   ],
   "source": [
    "stream_graph(app, inputs, config, [\"query_rewrite\", \"llm_answer\"])"
   ]
  },
  {
   "cell_type": "code",
   "execution_count": 12,
   "metadata": {},
   "outputs": [
    {
     "name": "stdout",
     "output_type": "stream",
     "text": [
      "Original Question: AI 위험 유형 및 사례 분석에 대해 설명해주세요.\n",
      "Rewritten Question: AI의 위험 유형과 사례를 분석해 주실 수 있나요?\n",
      "============================================================\n",
      "Answer:\n",
      "AI의 위험 유형은 크게 두 가지로 나눌 수 있습니다: \n",
      "\n",
      "1. **악의적 사용 위험**: \n",
      "   - 가짜 콘텐츠 생성\n",
      "   - 허위 정보 생성\n",
      "   - 사용자 설득 및 여론 조작\n",
      "   - 사이버 공격 및 보안 위협\n",
      "\n",
      "2. **오작동 위험**: \n",
      "   - 시스템의 자동적인 불안전 작동\n",
      "\n",
      "**Source**\n",
      "- ./data/IS-183_AI 위험 유형 및 사례 분석(최종).pdf (페이지 11, 14)\n"
     ]
    }
   ],
   "source": [
    "# 최종 출력 확인\n",
    "outputs = app.get_state(config).values\n",
    "\n",
    "print(f'Original Question: {outputs[\"question\"][0].content}')\n",
    "print(f'Rewritten Question: {outputs[\"question\"][-1].content}')\n",
    "print(\"===\" * 20)\n",
    "print(f'Answer:\\n{outputs[\"answer\"]}')"
   ]
  }
 ],
 "metadata": {
  "kernelspec": {
   "display_name": "langchain-note-2024-PFhCXHTX-py3.12",
   "language": "python",
   "name": "python3"
  },
  "language_info": {
   "codemirror_mode": {
    "name": "ipython",
    "version": 3
   },
   "file_extension": ".py",
   "mimetype": "text/x-python",
   "name": "python",
   "nbconvert_exporter": "python",
   "pygments_lexer": "ipython3",
   "version": "3.12.7"
  }
 },
 "nbformat": 4,
 "nbformat_minor": 2
}
