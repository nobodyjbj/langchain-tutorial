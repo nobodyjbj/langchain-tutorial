{
 "cells": [
  {
   "cell_type": "code",
   "execution_count": 1,
   "metadata": {},
   "outputs": [
    {
     "data": {
      "text/plain": [
       "True"
      ]
     },
     "execution_count": 1,
     "metadata": {},
     "output_type": "execute_result"
    }
   ],
   "source": [
    "from dotenv import load_dotenv\n",
    "import sys\n",
    "\n",
    "sys.path.append(\"../common\")\n",
    "load_dotenv()"
   ]
  },
  {
   "cell_type": "code",
   "execution_count": 2,
   "metadata": {},
   "outputs": [
    {
     "name": "stdout",
     "output_type": "stream",
     "text": [
      "Langsmith 추적이 활성화되었습니다. [프로젝트명: 04.Models]\n"
     ]
    }
   ],
   "source": [
    "import os\n",
    "from langsmith_tracker import set_tracking\n",
    "from langchain_print import stream_response\n",
    "\n",
    "# 인스턴스를 생성할 때 필요한 매개변수를 전달합니다.\n",
    "set_tracking(project_name=\"04.Models\")"
   ]
  },
  {
   "cell_type": "markdown",
   "metadata": {},
   "source": [
    "### 캐싱(Caching)\n",
    "\n",
    "Langchain 은 LLM을 위한 선택적 캐싱 레이어를 제공합니다.  \n",
    "\n",
    "캐싱이 필요한 이유입니다. \n",
    "- 동일한 질문을 여러번 요청하는 경우 API 호출 횟수를 줄여서 비용을 절감할 수 있습니다. \n",
    "- LLM을 서빙하는 서버의 부하를 줄여(API 호출을 적게 하니까) 속도를 높일 수 있습니다."
   ]
  },
  {
   "cell_type": "code",
   "execution_count": 3,
   "metadata": {},
   "outputs": [],
   "source": [
    "from langchain_openai import ChatOpenAI\n",
    "from langchain_core.prompts import PromptTemplate\n",
    "\n",
    "llm = ChatOpenAI(model=\"gpt-4o-mini\", temperature=0)\n",
    "\n",
    "prompt = PromptTemplate.from_template(\"{coin}에 대해서 200자 내외로 요약해주세요.\")\n",
    "\n",
    "chain = prompt | llm"
   ]
  },
  {
   "cell_type": "code",
   "execution_count": 5,
   "metadata": {},
   "outputs": [
    {
     "name": "stdout",
     "output_type": "stream",
     "text": [
      "솔라나(Solana)는 고속 거래 처리와 낮은 수수료를 특징으로 하는 블록체인 플랫폼입니다. 2017년에 설계되었으며, Proof of History(PoH)라는 혁신적인 합의 알고리즘을 사용해 초당 수천 건의 거래를 처리할 수 있습니다. 이로 인해 디파이, NFT 등 다양한 애플리케이션이 활성화되고 있으며, 개발자와 사용자에게 인기를 끌고 있습니다. 솔라나는 확장성과 효율성을 중시하는 블록체인 생태계에서 중요한 역할을 하고 있습니다.\n",
      "CPU times: user 21 ms, sys: 4.52 ms, total: 25.5 ms\n",
      "Wall time: 2.35 s\n"
     ]
    }
   ],
   "source": [
    "%%time # CPU 시간과 실제 경과 시간(Wall time)으로 나뉘어 출력\n",
    "response = chain.invoke({\"coin\": \"솔라나\"})\n",
    "print(response.content)"
   ]
  },
  {
   "cell_type": "markdown",
   "metadata": {},
   "source": [
    "### InMemoryCache\n",
    "인메모리 캐시를 활용하여 동일한 질문에 대한 **답변** 을 저장하고 캐시에 저장된 답변을 반환합니다.  \n",
    "**사용자 벌로 캐시를 다르게** 가져가고 싶다면 InMemoryCache를 사용하는 것이 유리할 수 있습니다."
   ]
  },
  {
   "cell_type": "code",
   "execution_count": 6,
   "metadata": {},
   "outputs": [
    {
     "name": "stdout",
     "output_type": "stream",
     "text": [
      "솔라나(Solana)는 고속 거래 처리와 낮은 수수료를 특징으로 하는 블록체인 플랫폼입니다. 2017년에 설계되었으며, Proof of History(PoH)라는 혁신적인 합의 알고리즘을 사용하여 초당 수천 건의 거래를 처리할 수 있습니다. 이로 인해 디파이, NFT, 게임 등 다양한 애플리케이션에서 인기를 끌고 있습니다. 솔라나는 개발자 친화적인 환경을 제공하며, 생태계가 빠르게 성장하고 있습니다.\n",
      "CPU times: user 454 ms, sys: 50.1 ms, total: 504 ms\n",
      "Wall time: 3.01 s\n"
     ]
    }
   ],
   "source": [
    "%%time\n",
    "from langchain.globals import set_llm_cache\n",
    "from langchain.cache import InMemoryCache\n",
    "\n",
    "# 인메모리 캐시 사용\n",
    "set_llm_cache(InMemoryCache())\n",
    "\n",
    "# 체인 생성\n",
    "response = chain.invoke({\"coin\": \"솔라나\"})\n",
    "print(response.content)"
   ]
  },
  {
   "cell_type": "code",
   "execution_count": 9,
   "metadata": {},
   "outputs": [
    {
     "name": "stdout",
     "output_type": "stream",
     "text": [
      "솔라나(Solana)는 고속 거래 처리와 낮은 수수료를 특징으로 하는 블록체인 플랫폼입니다. 2017년에 설계되었으며, Proof of History(PoH)라는 혁신적인 합의 알고리즘을 사용하여 초당 수천 건의 거래를 처리할 수 있습니다. 이로 인해 디파이, NFT, 게임 등 다양한 애플리케이션에서 인기를 끌고 있습니다. 솔라나는 개발자 친화적인 환경을 제공하며, 생태계가 빠르게 성장하고 있습니다.\n",
      "CPU times: user 3.46 ms, sys: 231 μs, total: 3.7 ms\n",
      "Wall time: 3.61 ms\n"
     ]
    }
   ],
   "source": [
    "%%time\n",
    "\n",
    "response = chain.invoke({\"coin\": \"솔라나\"})\n",
    "print(response.content)"
   ]
  },
  {
   "cell_type": "markdown",
   "metadata": {},
   "source": [
    "### SQLLite Cache"
   ]
  },
  {
   "cell_type": "code",
   "execution_count": 10,
   "metadata": {},
   "outputs": [],
   "source": [
    "from langchain_community.cache import SQLiteCache\n",
    "from langchain_core.globals import set_llm_cache\n",
    "import os\n",
    "\n",
    "# 캐시 디렉토리 생성\n",
    "if not os.path.exists(\"cache\"):\n",
    "    os.makedirs(\"cache\")\n",
    "\n",
    "# SQLiteCache 사용\n",
    "set_llm_cache(SQLiteCache(database_path=\"cache/llm_cache.db\"))"
   ]
  },
  {
   "cell_type": "code",
   "execution_count": 11,
   "metadata": {},
   "outputs": [
    {
     "name": "stdout",
     "output_type": "stream",
     "text": [
      "솔라나(Solana)는 고속 거래 처리와 낮은 수수료를 특징으로 하는 블록체인 플랫폼입니다. 2017년에 설계되었으며, Proof of History(PoH)라는 혁신적인 합의 알고리즘을 사용하여 초당 수천 건의 거래를 처리할 수 있습니다. 이로 인해 디파이, NFT, 게임 등 다양한 애플리케이션에서 인기를 끌고 있습니다. 솔라나는 개발자 친화적인 환경을 제공하며, 생태계가 빠르게 성장하고 있습니다.\n",
      "CPU times: user 29.7 ms, sys: 4.6 ms, total: 34.3 ms\n",
      "Wall time: 2.22 s\n"
     ]
    }
   ],
   "source": [
    "%%time\n",
    "\n",
    "response = chain.invoke({\"coin\": \"솔라나\"})\n",
    "print(response.content)"
   ]
  },
  {
   "cell_type": "code",
   "execution_count": 12,
   "metadata": {},
   "outputs": [
    {
     "name": "stdout",
     "output_type": "stream",
     "text": [
      "솔라나(Solana)는 고속 거래 처리와 낮은 수수료를 특징으로 하는 블록체인 플랫폼입니다. 2017년에 설계되었으며, Proof of History(PoH)라는 혁신적인 합의 알고리즘을 사용하여 초당 수천 건의 거래를 처리할 수 있습니다. 이로 인해 디파이, NFT, 게임 등 다양한 애플리케이션에서 인기를 끌고 있습니다. 솔라나는 개발자 친화적인 환경을 제공하며, 생태계가 빠르게 성장하고 있습니다.\n",
      "CPU times: user 129 ms, sys: 77.9 ms, total: 207 ms\n",
      "Wall time: 207 ms\n"
     ]
    }
   ],
   "source": [
    "%%time\n",
    "\n",
    "response = chain.invoke({\"coin\": \"솔라나\"})\n",
    "print(response.content)"
   ]
  }
 ],
 "metadata": {
  "kernelspec": {
   "display_name": "langchain-note-2024-PFhCXHTX-py3.12",
   "language": "python",
   "name": "python3"
  },
  "language_info": {
   "codemirror_mode": {
    "name": "ipython",
    "version": 3
   },
   "file_extension": ".py",
   "mimetype": "text/x-python",
   "name": "python",
   "nbconvert_exporter": "python",
   "pygments_lexer": "ipython3",
   "version": "3.12.7"
  }
 },
 "nbformat": 4,
 "nbformat_minor": 2
}
