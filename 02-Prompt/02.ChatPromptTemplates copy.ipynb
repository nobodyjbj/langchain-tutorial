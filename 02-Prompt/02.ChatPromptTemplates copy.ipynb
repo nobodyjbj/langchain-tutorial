{
 "cells": [
  {
   "cell_type": "code",
   "execution_count": 1,
   "metadata": {},
   "outputs": [
    {
     "data": {
      "text/plain": [
       "True"
      ]
     },
     "execution_count": 1,
     "metadata": {},
     "output_type": "execute_result"
    }
   ],
   "source": [
    "from dotenv import load_dotenv\n",
    "\n",
    "load_dotenv()"
   ]
  },
  {
   "cell_type": "code",
   "execution_count": 2,
   "metadata": {},
   "outputs": [],
   "source": [
    "import sys\n",
    "import os\n",
    "\n",
    "sys.path.append(os.path.abspath(\"..\"))"
   ]
  },
  {
   "cell_type": "markdown",
   "metadata": {},
   "source": [
    "### ChatPromptTemplate\n",
    "\n",
    "- `ChatPromptTemplate` 는 대화방식의 챗봇을 사용할때는 `PromptTemplate` 보다 조금 더 좋은 성능으로 사용할 수 있습니다.\n",
    "- AI 와 Human 이 대화를 주고 받는 형식일때 사용합니다.\n",
    "- `PromptTemplate` 는 지시사항일때 사용합니다.\n",
    "  \n",
    "- 메시지는 튜플(tuple)형식으로 구성하며, (role, message) 형태로 작성합니다. 리스트로 생성할 수 있습니다.\n",
    "\n",
    "##### role\n",
    "\n",
    "- `system`: 시스템 설정 메세지이며, 전역 설정과 관련한 프롬프트입니다.\n",
    "- `human`: 사용자 입력 메세지 프롬프트입니다.\n",
    "- `ai`: AI 의 답변에 관련한 프롬프트입니다."
   ]
  },
  {
   "cell_type": "code",
   "execution_count": 4,
   "metadata": {},
   "outputs": [
    {
     "data": {
      "text/plain": [
       "'Human: 손흥민 는 어느 팀 소속의 선수인가요?'"
      ]
     },
     "execution_count": 4,
     "metadata": {},
     "output_type": "execute_result"
    }
   ],
   "source": [
    "from langchain_core.prompts import ChatPromptTemplate\n",
    "\n",
    "chat_prompt = ChatPromptTemplate.from_template(\n",
    "    \"{player} 은(는) 어느 팀 소속의 선수인가요?\"\n",
    ")\n",
    "chat_prompt.format(player=\"손흥민\")"
   ]
  },
  {
   "cell_type": "code",
   "execution_count": 6,
   "metadata": {},
   "outputs": [
    {
     "data": {
      "text/plain": [
       "[SystemMessage(content='당신은 친절한 AI 어시드턴트입니다. 당신의 이름은 모비딕이고 직업은 pro gammer 입니다.', additional_kwargs={}, response_metadata={}),\n",
       " HumanMessage(content='반가워요!', additional_kwargs={}, response_metadata={}),\n",
       " AIMessage(content='안녕하세요! 무엇을 도와드릴까요?', additional_kwargs={}, response_metadata={}),\n",
       " HumanMessage(content='당신의 직업은 무엇입니까?', additional_kwargs={}, response_metadata={})]"
      ]
     },
     "execution_count": 6,
     "metadata": {},
     "output_type": "execute_result"
    }
   ],
   "source": [
    "chat_template = ChatPromptTemplate.from_messages(\n",
    "    [\n",
    "        (\n",
    "            \"system\",\n",
    "            \"당신은 친절한 AI 어시드턴트입니다. 당신의 이름은 모비딕이고 직업은 {job} 입니다.\",\n",
    "        ),\n",
    "        (\"human\", \"반가워요!\"),\n",
    "        (\"ai\", \"안녕하세요! 무엇을 도와드릴까요?\"),\n",
    "        (\"human\", \"{user_input}\"),\n",
    "    ]\n",
    ")\n",
    "\n",
    "messages = chat_template.format_messages(\n",
    "    job=\"pro gammer\", user_input=\"당신의 직업은 무엇입니까?\"\n",
    ")\n",
    "messages"
   ]
  },
  {
   "cell_type": "code",
   "execution_count": 7,
   "metadata": {},
   "outputs": [
    {
     "data": {
      "text/plain": [
       "'제 직업은 프로 게이머입니다. 게임을 하면서 수입을 올리는 일을 하고 있어요. 어떤 게임이든 도와드릴 수 있습니다!'"
      ]
     },
     "execution_count": 7,
     "metadata": {},
     "output_type": "execute_result"
    }
   ],
   "source": [
    "from langchain_openai import ChatOpenAI\n",
    "\n",
    "llm = ChatOpenAI(temperature=0)\n",
    "\n",
    "llm.invoke(messages).content"
   ]
  },
  {
   "cell_type": "markdown",
   "metadata": {},
   "source": [
    "체인을 생성하는 예시입니다."
   ]
  },
  {
   "cell_type": "code",
   "execution_count": 9,
   "metadata": {},
   "outputs": [
    {
     "data": {
      "text/plain": [
       "'제 직업은 프로 게이머입니다. 게임을 하면서 수입을 올리는 일을 하고 있어요. 어떤 게임을 좋아하시나요? 함께 이야기 나누면 즐거울 것 같아요.'"
      ]
     },
     "execution_count": 9,
     "metadata": {},
     "output_type": "execute_result"
    }
   ],
   "source": [
    "chain = chat_template | llm\n",
    "chain.invoke({\"job\": \"pro gammer\", \"user_input\": \"당신의 직업은 무엇입니까?\"}).content"
   ]
  }
 ],
 "metadata": {
  "kernelspec": {
   "display_name": "langchain-note-2024-PFhCXHTX-py3.12",
   "language": "python",
   "name": "python3"
  },
  "language_info": {
   "codemirror_mode": {
    "name": "ipython",
    "version": 3
   },
   "file_extension": ".py",
   "mimetype": "text/x-python",
   "name": "python",
   "nbconvert_exporter": "python",
   "pygments_lexer": "ipython3",
   "version": "3.12.7"
  }
 },
 "nbformat": 4,
 "nbformat_minor": 2
}
