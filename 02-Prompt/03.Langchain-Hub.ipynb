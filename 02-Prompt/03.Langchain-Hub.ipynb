{
 "cells": [
  {
   "cell_type": "code",
   "execution_count": 1,
   "metadata": {},
   "outputs": [
    {
     "data": {
      "text/plain": [
       "True"
      ]
     },
     "execution_count": 1,
     "metadata": {},
     "output_type": "execute_result"
    }
   ],
   "source": [
    "from dotenv import load_dotenv\n",
    "\n",
    "load_dotenv()"
   ]
  },
  {
   "cell_type": "code",
   "execution_count": 2,
   "metadata": {},
   "outputs": [],
   "source": [
    "import sys\n",
    "import os\n",
    "\n",
    "sys.path.append(os.path.abspath(\"..\"))"
   ]
  },
  {
   "cell_type": "code",
   "execution_count": 3,
   "metadata": {},
   "outputs": [
    {
     "name": "stdout",
     "output_type": "stream",
     "text": [
      "Langsmith 추적이 활성화되었습니다. [프로젝트명: langchain_note_2024]\n"
     ]
    }
   ],
   "source": [
    "import os\n",
    "from langsmith_tracker import LangsmithTracker\n",
    "\n",
    "# 인스턴스를 생성할 때 필요한 매개변수를 전달합니다.\n",
    "tracker = LangsmithTracker(\n",
    "    project_name=os.getenv(\"LANGCHAIN_PROJECT\"), enable_tracking=True\n",
    ")\n",
    "\n",
    "# 인스턴스의 메서드를 호출합니다.\n",
    "tracker.configure_tracking()"
   ]
  },
  {
   "cell_type": "markdown",
   "metadata": {},
   "source": [
    "### Langchin Hub\n",
    "\n",
    "- LangChain Hub는 LangChain 프레임워크의 일부로, 프롬프트 템플릿과 체인을 공유하고 재사용할 수 있는 플랫폼입니다.\n",
    "- LangSmith 를 통해서도 Langchin Hub를 접속할 수 있습니다.\n",
    "- LnagSmith API Key 가 있으면 Langchain Hub의 Prompt 를 다운로드 하여 사용할 수 있습니다.\n",
    "- Prompt 를 pull, push 할 수 있기때문에 프로젝트를 진행할때 활용할 수 있습니다. (공개 비공개 전환이 가능합니다.)"
   ]
  },
  {
   "cell_type": "markdown",
   "metadata": {},
   "source": [
    "#### Prompt Hub 에서 Prompt 를 가져오는 방법입니다."
   ]
  },
  {
   "cell_type": "code",
   "execution_count": 4,
   "metadata": {},
   "outputs": [
    {
     "name": "stdout",
     "output_type": "stream",
     "text": [
      "input_variables=['context', 'question'] input_types={} partial_variables={} metadata={'lc_hub_owner': 'rlm', 'lc_hub_repo': 'rag-prompt', 'lc_hub_commit_hash': '50442af133e61576e74536c6556cefe1fac147cad032f4377b60c436e6cdcb6e'} messages=[HumanMessagePromptTemplate(prompt=PromptTemplate(input_variables=['context', 'question'], input_types={}, partial_variables={}, template=\"You are an assistant for question-answering tasks. Use the following pieces of retrieved context to answer the question. If you don't know the answer, just say that you don't know. Use three sentences maximum and keep the answer concise.\\nQuestion: {question} \\nContext: {context} \\nAnswer:\"), additional_kwargs={})]\n"
     ]
    }
   ],
   "source": [
    "from langchain import hub\n",
    "\n",
    "prompt = hub.pull(\"rlm/rag-prompt\")  # 프롬프트를 pull 하는 방법입니다.\n",
    "\n",
    "print(prompt)"
   ]
  },
  {
   "cell_type": "code",
   "execution_count": 5,
   "metadata": {},
   "outputs": [
    {
     "name": "stdout",
     "output_type": "stream",
     "text": [
      "input_variables=['input_documents', 'question'] input_types={} partial_variables={} metadata={'lc_hub_owner': 'rlm', 'lc_hub_repo': 'rag-prompt', 'lc_hub_commit_hash': '2d10ede50bd74033789d86d23a17cd421e15de5c41dc5292174a8285561debb4'} messages=[HumanMessagePromptTemplate(prompt=PromptTemplate(input_variables=['input_documents', 'question'], input_types={}, partial_variables={}, template=\"You are an assistant for question-answering tasks. Use the following pieces of retrieved context to answer the question. If you don't know the answer, just say that you don't know. Use three sentences maximum and keep the answer concise.\\nQuestion: {question} \\nContext: {input_documents} \\nAnswer:\"), additional_kwargs={})]\n"
     ]
    }
   ],
   "source": [
    "# 특정 버정의 프롬프트를 pull 하는 방법입니다.\n",
    "prompt = hub.pull(\"rlm/rag-prompt:2d10ede5\")\n",
    "print(prompt)"
   ]
  },
  {
   "cell_type": "markdown",
   "metadata": {},
   "source": [
    "#### Prompt Hub 에 Prompt 를 업로드 하는 방법입니다.\n"
   ]
  },
  {
   "cell_type": "code",
   "execution_count": 1,
   "metadata": {},
   "outputs": [
    {
     "data": {
      "text/plain": [
       "ChatPromptTemplate(input_variables=['context'], input_types={}, partial_variables={}, messages=[HumanMessagePromptTemplate(prompt=PromptTemplate(input_variables=['context'], input_types={}, partial_variables={}, template='입력받은 내용을 영어로 번역해주세요. \\n {context}\\n\\nEnglish:'), additional_kwargs={})])"
      ]
     },
     "execution_count": 1,
     "metadata": {},
     "output_type": "execute_result"
    }
   ],
   "source": [
    "from langchain.prompts import ChatPromptTemplate\n",
    "\n",
    "prompt = ChatPromptTemplate.from_template(\n",
    "    \"입력받은 내용을 영어로 번역해주세요. \\n {context}\\n\\nEnglish:\"\n",
    ")\n",
    "prompt"
   ]
  },
  {
   "cell_type": "code",
   "execution_count": 4,
   "metadata": {},
   "outputs": [
    {
     "data": {
      "text/plain": [
       "'https://smith.langchain.com/prompts/test-english-translation/fe187469?organizationId=01ad9260-e67b-50bc-8d86-a29eee5c8dc8'"
      ]
     },
     "execution_count": 4,
     "metadata": {},
     "output_type": "execute_result"
    }
   ],
   "source": [
    "from langchain import hub\n",
    "\n",
    "hub.push(\"nobodyj/test-english-translation\", prompt)"
   ]
  },
  {
   "cell_type": "markdown",
   "metadata": {},
   "source": [
    "#### nobodyj라는 아이디 만드는 방법입니다.\n",
    "1. langchain hub(https://smith.langchain.com/hub) 에서 아무 프롬프트를 fork 합니다.\n",
    "2. 포크할 때 설정을 public 으로 세팅한 후 fork 버튼을 누르면 아이디를 생성하는 팝업창이 나옵니다.\n",
    "3. 입력하면 아이디가 생성됩니다."
   ]
  }
 ],
 "metadata": {
  "kernelspec": {
   "display_name": "langchain-note-2024-PFhCXHTX-py3.12",
   "language": "python",
   "name": "python3"
  },
  "language_info": {
   "codemirror_mode": {
    "name": "ipython",
    "version": 3
   },
   "file_extension": ".py",
   "mimetype": "text/x-python",
   "name": "python",
   "nbconvert_exporter": "python",
   "pygments_lexer": "ipython3",
   "version": "3.12.7"
  }
 },
 "nbformat": 4,
 "nbformat_minor": 2
}
