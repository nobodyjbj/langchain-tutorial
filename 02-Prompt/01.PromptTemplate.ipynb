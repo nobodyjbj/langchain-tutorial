{
 "cells": [
  {
   "cell_type": "code",
   "execution_count": 2,
   "metadata": {},
   "outputs": [
    {
     "data": {
      "text/plain": [
       "True"
      ]
     },
     "execution_count": 2,
     "metadata": {},
     "output_type": "execute_result"
    }
   ],
   "source": [
    "from dotenv import load_dotenv\n",
    "\n",
    "load_dotenv()"
   ]
  },
  {
   "cell_type": "code",
   "execution_count": 5,
   "metadata": {},
   "outputs": [],
   "source": [
    "import sys\n",
    "import os\n",
    "\n",
    "sys.path.append(os.path.abspath(\"..\"))"
   ]
  },
  {
   "cell_type": "code",
   "execution_count": 6,
   "metadata": {},
   "outputs": [
    {
     "name": "stdout",
     "output_type": "stream",
     "text": [
      "Langsmith 추적이 활성화되었습니다. [프로젝트명: langchain_note_2024]\n"
     ]
    }
   ],
   "source": [
    "import os\n",
    "from langsmith_tracker import LangsmithTracker\n",
    "\n",
    "# 인스턴스를 생성할 때 필요한 매개변수를 전달합니다.\n",
    "tracker = LangsmithTracker(\n",
    "    project_name=os.getenv(\"LANGCHAIN_PROJECT\"), enable_tracking=True\n",
    ")\n",
    "\n",
    "# 인스턴스의 메서드를 호출합니다.\n",
    "tracker.configure_tracking()"
   ]
  },
  {
   "cell_type": "markdown",
   "metadata": {},
   "source": [
    "### PromptTemplate"
   ]
  },
  {
   "cell_type": "code",
   "execution_count": 7,
   "metadata": {},
   "outputs": [],
   "source": [
    "from langchain_openai import ChatOpenAI\n",
    "\n",
    "llm = ChatOpenAI()"
   ]
  },
  {
   "cell_type": "markdown",
   "metadata": {},
   "source": [
    "### 1. form_template() 를 사용한 prompt 생성 방법입니다.\n",
    "\n",
    "- 치환될 변수를 `{ 변수 }` 로 묶어서 템플릿을 사용합니다."
   ]
  },
  {
   "cell_type": "code",
   "execution_count": 7,
   "metadata": {},
   "outputs": [
    {
     "data": {
      "text/plain": [
       "PromptTemplate(input_variables=['player'], input_types={}, partial_variables={}, template='{player} 는 어느 팀 소속의 선수인가요?')"
      ]
     },
     "execution_count": 7,
     "metadata": {},
     "output_type": "execute_result"
    }
   ],
   "source": [
    "from langchain_core.prompts import PromptTemplate\n",
    "\n",
    "template = \"{player} 는 어느 팀 소속의 선수인가요?\"\n",
    "\n",
    "prompt = PromptTemplate.from_template(template)\n",
    "prompt"
   ]
  },
  {
   "cell_type": "markdown",
   "metadata": {},
   "source": [
    "`Player` 변수에 값을 넣어 프롬프트를 완성할 수 있습니다."
   ]
  },
  {
   "cell_type": "code",
   "execution_count": 8,
   "metadata": {},
   "outputs": [
    {
     "data": {
      "text/plain": [
       "'리오날 메시 는 어느 팀 소속의 선수인가요?'"
      ]
     },
     "execution_count": 8,
     "metadata": {},
     "output_type": "execute_result"
    }
   ],
   "source": [
    "prompt = prompt.format(player=\"리오날 메시\")\n",
    "prompt"
   ]
  },
  {
   "cell_type": "code",
   "execution_count": 43,
   "metadata": {},
   "outputs": [
    {
     "name": "stdout",
     "output_type": "stream",
     "text": [
      "선수이름: 리오넬 메시  \n",
      "종목: 축구  \n",
      "소속팀: 인터 마이애미 CF  \n",
      "연봉정보: 약 4,000만 달러 (2023년 기준)  \n"
     ]
    }
   ],
   "source": [
    "from langchain_openai import ChatOpenAI\n",
    "from langchain_core.prompts import PromptTemplate\n",
    "\n",
    "template = \"\"\"\n",
    "{player} 는 어느 팀 소속의 선수인가요?\n",
    "[FORMAT] 을 참고하여 답변해주세요.\n",
    "\n",
    "# FORMAT\n",
    "선수이름: \n",
    "종목: \n",
    "소속팀:\n",
    "연봉정보:\n",
    "\"\"\"\n",
    "\n",
    "prompt = PromptTemplate.from_template(template)\n",
    "\n",
    "llm = ChatOpenAI(model=\"gpt-4o-mini\", temperature=0)\n",
    "\n",
    "chain = prompt | llm\n",
    "answer = chain.invoke({\"player\": \"리오넬 메시\"})\n",
    "print(answer.content)"
   ]
  },
  {
   "cell_type": "markdown",
   "metadata": {},
   "source": [
    "### 2. PromptTemplate 객체 생성과 동시에 prompt를 생성하는 방법입니다.\n",
    "\n",
    "- input_variables 을 지정합니다."
   ]
  },
  {
   "cell_type": "code",
   "execution_count": 14,
   "metadata": {},
   "outputs": [
    {
     "name": "stdout",
     "output_type": "stream",
     "text": [
      "선수이름: 리오넬 메시  \n",
      "종목: 축구  \n",
      "소속팀: 인터 마이애미 CF  \n",
      "연봉정보: 약 4천만 달러 (2023년 기준)  \n"
     ]
    }
   ],
   "source": [
    "template = \"\"\"\n",
    "{player} 는 어느 팀 소속의 선수인가요?\n",
    "[FORMAT] 을 참고하여 답변해주세요.\n",
    "\n",
    "# FORMAT\n",
    "선수이름: \n",
    "종목: \n",
    "소속팀:\n",
    "연봉정보:\n",
    "\"\"\"\n",
    "\n",
    "prompt = PromptTemplate(template=template, input_variables=[\"player\"])\n",
    "\n",
    "chain = prompt | llm\n",
    "answer = chain.invoke({\"player\": \"리오넬 메시\"})\n",
    "print(answer.content)"
   ]
  },
  {
   "cell_type": "markdown",
   "metadata": {},
   "source": [
    "`partial_variables` : 처음에는 변동이 되는 변수이거나 변동이 예상되는 변수였지만, 확정되었을때 사용할 수 있는 문법입니다."
   ]
  },
  {
   "cell_type": "code",
   "execution_count": 17,
   "metadata": {},
   "outputs": [
    {
     "data": {
      "text/plain": [
       "PromptTemplate(input_variables=['player', 'question1'], input_types={}, partial_variables={'question2': '수상경력'}, template='{player} 의 {question1} 과(와) {question2} 정보를 알려주세요.')"
      ]
     },
     "execution_count": 17,
     "metadata": {},
     "output_type": "execute_result"
    }
   ],
   "source": [
    "template = \"{player} 의 {question1} 과(와) {question2} 정보를 알려주세요.\"\n",
    "\n",
    "prompt = PromptTemplate(\n",
    "    template=template,\n",
    "    input_variables=[\"player\", \"question1\"],\n",
    "    partial_variables={\"question2\": \"수상경력\"},\n",
    ")\n",
    "\n",
    "prompt"
   ]
  },
  {
   "cell_type": "code",
   "execution_count": 18,
   "metadata": {},
   "outputs": [
    {
     "data": {
      "text/plain": [
       "'리오넬 메시 의 소속팀 과(와) 수상경력 정보를 알려주세요.'"
      ]
     },
     "execution_count": 18,
     "metadata": {},
     "output_type": "execute_result"
    }
   ],
   "source": [
    "prompt.format(player=\"리오넬 메시\", question1=\"소속팀\")"
   ]
  },
  {
   "cell_type": "markdown",
   "metadata": {},
   "source": [
    "`from_template` 로 `patial` 을 사용하는 방법입니다."
   ]
  },
  {
   "cell_type": "code",
   "execution_count": 28,
   "metadata": {},
   "outputs": [
    {
     "data": {
      "text/plain": [
       "PromptTemplate(input_variables=['player', 'question1'], input_types={}, partial_variables={'question2': '수상경력'}, template='{player} 의 {question1} 과(와) {question2} 정보를 알려주세요.')"
      ]
     },
     "execution_count": 28,
     "metadata": {},
     "output_type": "execute_result"
    }
   ],
   "source": [
    "prompt = PromptTemplate.from_template(template)\n",
    "prompt_partial = prompt.partial(question2=\"수상경력\")\n",
    "prompt_partial"
   ]
  },
  {
   "cell_type": "code",
   "execution_count": 29,
   "metadata": {},
   "outputs": [
    {
     "data": {
      "text/plain": [
       "'리오넬 메시 의 소속팀 과(와) 수상경력 정보를 알려주세요.'"
      ]
     },
     "execution_count": 29,
     "metadata": {},
     "output_type": "execute_result"
    }
   ],
   "source": [
    "prompt_partial.format(player=\"리오넬 메시\", question1=\"소속팀\")"
   ]
  },
  {
   "cell_type": "code",
   "execution_count": 30,
   "metadata": {},
   "outputs": [
    {
     "name": "stdout",
     "output_type": "stream",
     "text": [
      "리오넬 메시(Lionel Messi)는 2021년부터 파리 생제르맹(Paris Saint-Germain, PSG) 소속으로 활동하고 있습니다. 이전에는 FC 바르셀로나에서 오랜 기간 동안 활약했습니다.\n",
      "\n",
      "메시의 주요 수상 경력은 다음과 같습니다:\n",
      "\n",
      "### 개인 수상\n",
      "- **발롱도르**: 7회 수상 (2009, 2010, 2011, 2012, 2015, 2019, 2021)\n",
      "- **FIFA 올해의 선수**: 1회 수상 (2019)\n",
      "- **UEFA 올해의 선수**: 1회 수상 (2011)\n",
      "- **Golden Shoe**: 6회 수상 (2010, 2012, 2013, 2017, 2018, 2019)\n",
      "\n",
      "### 클럽 수상 (FC 바르셀로나)\n",
      "- **라리가**: 10회 우승\n",
      "- **코파 델 레이**: 7회 우승\n",
      "- **UEFA 챔피언스리그**: 4회 우승\n",
      "- **슈퍼코파 데 에스파냐**: 8회 우승\n",
      "- **FIFA 클럽 월드컵**: 3회 우승\n",
      "- **UEFA 슈퍼컵**: 3회 우승\n",
      "\n",
      "### 국가대표 수상 (아르헨티나)\n",
      "- **코파 아메리카**: 1회 우승 (2021)\n",
      "- **FIFA 월드컵**: 1회 우승 (2022)\n",
      "- **FIFA U-20 월드컵**: 1회 우승 (2005)\n",
      "- **올림픽 금메달**: 1회 수상 (2008)\n",
      "\n",
      "메시는 축구 역사상 가장 위대한 선수 중 한 명으로 평가받고 있으며, 그의 경력은 계속해서 기록을 갱신하고 있습니다.\n"
     ]
    }
   ],
   "source": [
    "chain = prompt_partial | llm\n",
    "answer = chain.invoke({\"player\": \"리오넬 메시\", \"question1\": \"소속팀\"})\n",
    "print(answer.content)"
   ]
  },
  {
   "cell_type": "markdown",
   "metadata": {},
   "source": [
    "### `partial_variables` : 부분변수 채움\n",
    "\n",
    "- partial 을 자주 사용하는 용도는 함수 호출할 때입니다. 항상 동일한 방식으로 가져오고 싶은 변수가 있는 경우에 자주 사용합니다.\n",
    "- 대표적으로 날짜와 시간입니다. 또는 포맷이 있는 경우 사용합니다."
   ]
  },
  {
   "cell_type": "code",
   "execution_count": 32,
   "metadata": {},
   "outputs": [
    {
     "data": {
      "text/plain": [
       "'November 11'"
      ]
     },
     "execution_count": 32,
     "metadata": {},
     "output_type": "execute_result"
    }
   ],
   "source": [
    "from datetime import datetime\n",
    "\n",
    "\n",
    "def get_today():\n",
    "    return datetime.now().strftime(\"%B %d\")\n",
    "\n",
    "\n",
    "get_today()"
   ]
  },
  {
   "cell_type": "code",
   "execution_count": 58,
   "metadata": {},
   "outputs": [
    {
     "name": "stdout",
     "output_type": "stream",
     "text": [
      "정보가 없습니다.\n"
     ]
    }
   ],
   "source": [
    "prompt = PromptTemplate(\n",
    "    template=\"\"\"\n",
    "    모르거나 없는 정보라면 '정보가 없습니다.' 라고 답변해주세요. 유명인 정보를 나열하지 말아주세요.\n",
    "    {today} 와 같은 날짜에 생일인 한국의 유명인 {n} 명을 나열해주세요.\n",
    "    \n",
    "    # FORMAT\n",
    "    이름(생일)\n",
    "    \"\"\",\n",
    "    input_variables=[\"n\"],\n",
    "    partial_variables={\"today\": get_today},\n",
    ")\n",
    "\n",
    "chain = prompt | llm\n",
    "answer = chain.invoke({\"n\": 3})\n",
    "# answer = chain.invoke({\"today\":\"Jan 02\", \"n\": 3}) # today를 작성해주면 partial이 설정되어 있어도 내용을 덮어 쓰게 됩니다.\n",
    "print(answer.content)"
   ]
  }
 ],
 "metadata": {
  "kernelspec": {
   "display_name": "langchain-note-2024-PFhCXHTX-py3.12",
   "language": "python",
   "name": "python3"
  },
  "language_info": {
   "codemirror_mode": {
    "name": "ipython",
    "version": 3
   },
   "file_extension": ".py",
   "mimetype": "text/x-python",
   "name": "python",
   "nbconvert_exporter": "python",
   "pygments_lexer": "ipython3",
   "version": "3.12.7"
  }
 },
 "nbformat": 4,
 "nbformat_minor": 2
}
