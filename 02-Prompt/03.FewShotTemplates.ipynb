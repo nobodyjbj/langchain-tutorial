{
 "cells": [
  {
   "cell_type": "code",
   "execution_count": 1,
   "metadata": {},
   "outputs": [
    {
     "data": {
      "text/plain": [
       "True"
      ]
     },
     "execution_count": 1,
     "metadata": {},
     "output_type": "execute_result"
    }
   ],
   "source": [
    "from dotenv import load_dotenv\n",
    "\n",
    "load_dotenv()"
   ]
  },
  {
   "cell_type": "code",
   "execution_count": 2,
   "metadata": {},
   "outputs": [],
   "source": [
    "import sys\n",
    "import os\n",
    "\n",
    "sys.path.append(os.path.abspath(\"..\"))"
   ]
  },
  {
   "cell_type": "markdown",
   "metadata": {},
   "source": [
    "### FewShotPromptTemplate\n",
    "\n",
    "- 답변의 예시를 보여줘서 **AI 가 답변의 예시를 따라서 답변**할 수 있도록 하는 방법입니다.\n",
    "- `OneShot` 은 예시가 하나일때 사용입니다.\n",
    "- `FewShot` 은 과거의 이력을 모아서 여러개의 예시를 사용하는 것입니다.(사람이 하는 논리적인 추론과정을 먼저 보여주고 AI가 답변하게끔 유도하는 방법입니다.)\n",
    "- `ZeroShot` 은 아무런 예시를 보여주지 않는 형태를 말합니다."
   ]
  },
  {
   "cell_type": "code",
   "execution_count": 29,
   "metadata": {},
   "outputs": [
    {
     "name": "stdout",
     "output_type": "stream",
     "text": [
      "비트코인의 기본 단위는 '비트코인'이며, 기호로는 BTC라고 표기합니다. 비트코인은 더 작은 단위로도 나눌 수 있는데, 주요 단위로는 '밀리비트코인'(mBTC), '마이크로비트코인'(μBTC, 또는 비트), 그리고 '사토시'가 있습니다. 사토시는 비트코인의 가장 작은 단위로, 1비트코인은 1억 사토시(0.00000001 BTC)와 같습니다. 이러한 단위들은 비트코인의 거래 시 소액 거래를 용이하게 하기 위해 사용됩니다.\n"
     ]
    }
   ],
   "source": [
    "from langchain_openai import ChatOpenAI\n",
    "\n",
    "llm = ChatOpenAI(model=\"gpt-4-turbo\", temperature=0)\n",
    "\n",
    "question = \"비트코인의 단위는 무엇인가요?\"\n",
    "\n",
    "print(llm.invoke(question).content)"
   ]
  },
  {
   "cell_type": "code",
   "execution_count": 2,
   "metadata": {},
   "outputs": [],
   "source": [
    "from langchain_core.prompts.few_shot import FewShotPromptTemplate\n",
    "from langchain_core.prompts import PromptTemplate\n",
    "\n",
    "examples = [\n",
    "    {\n",
    "        \"question\": \"비트코인과 이더리움 중 어느 네트워크가 더 오래되었나요?\",\n",
    "        \"answer\": \"\"\"이 질문에 추가 질문이 필요한가요: 예.\n",
    "    추가 질문: 비트코인은 언제 출시되었나요?\n",
    "    중간 답변: 비트코인은 2009년에 출시되었습니다.\n",
    "    추가 질문: 이더리움은 언제 출시되었나요?\n",
    "    중간 답변: 이더리움은 2015년에 출시되었습니다.\n",
    "    최종 답변은: 비트코인\n",
    "    \"\"\",\n",
    "    },\n",
    "    {\n",
    "        \"question\": \"리플과 카르다노의 창립자가 같은 대륙 출신인가요?\",\n",
    "        \"answer\": \"\"\"이 질문에 추가 질문이 필요한가요: 예.\n",
    "    추가 질문: 리플의 창립자는 누구인가요?\n",
    "    중간 답변: 리플의 창립자는 크리스 라센입니다.\n",
    "    추가 질문: 크리스 라센은 어느 대륙 출신인가요?\n",
    "    중간 답변: 크리스 라센은 북미 출신입니다.\n",
    "    추가 질문: 카르다노의 창립자는 누구인가요?\n",
    "    중간 답변: 카르다노의 창립자는 찰스 호스킨슨입니다.\n",
    "    추가 질문: 찰스 호스킨슨은 어느 대륙 출신인가요?\n",
    "    중간 답변: 찰스 호스킨슨은 북미 출신입니다.\n",
    "    최종 답변은: 예\n",
    "    \"\"\",\n",
    "    },\n",
    "    {\n",
    "        \"question\": \"폴리곤과 솔라나 중 거래 속도가 더 빠른 네트워크는 무엇인가요?\",\n",
    "        \"answer\": \"\"\"이 질문에 추가 질문이 필요한가요: 예.\n",
    "    추가 질문: 폴리곤 네트워크의 거래 속도는 얼마인가요?\n",
    "    중간 답변: 폴리곤 네트워크는 초당 약 7,000 거래를 처리할 수 있습니다.\n",
    "    추가 질문: 솔라나 네트워크의 거래 속도는 얼마인가요?\n",
    "    중간 답변: 솔라나 네트워크는 초당 약 65,000 거래를 처리할 수 있습니다.\n",
    "    최종 답변은: 솔라나\n",
    "    \"\"\",\n",
    "    },\n",
    "    {\n",
    "        \"question\": \"체인링크와 테조스가 같은 스마트 계약 플랫폼인가요?\",\n",
    "        \"answer\": \"\"\"이 질문에 추가 질문이 필요한가요: 예.\n",
    "    추가 질문: 체인링크는 어떤 플랫폼인가요?\n",
    "    중간 답변: 체인링크는 스마트 계약을 위한 오라클 네트워크입니다.\n",
    "    추가 질문: 테조스는 어떤 플랫폼인가요?\n",
    "    중간 답변: 테조스는 자체 스마트 계약을 지원하는 블록체인 플랫폼입니다.\n",
    "    최종 답변은: 아니요\n",
    "    \"\"\",\n",
    "    },\n",
    "]"
   ]
  },
  {
   "cell_type": "markdown",
   "metadata": {},
   "source": [
    "#### OneShot"
   ]
  },
  {
   "cell_type": "code",
   "execution_count": 6,
   "metadata": {},
   "outputs": [
    {
     "name": "stdout",
     "output_type": "stream",
     "text": [
      "Question:\n",
      " 비트코인과 이더리움 중 어느 네트워크가 더 오래되었나요?\n",
      "Answer:\n",
      " 이 질문에 추가 질문이 필요한가요: 예.\n",
      "    추가 질문: 비트코인은 언제 출시되었나요?\n",
      "    중간 답변: 비트코인은 2009년에 출시되었습니다.\n",
      "    추가 질문: 이더리움은 언제 출시되었나요?\n",
      "    중간 답변: 이더리움은 2015년에 출시되었습니다.\n",
      "    최종 답변은: 비트코인\n",
      "    \n"
     ]
    }
   ],
   "source": [
    "example_prompt = PromptTemplate.from_template(\n",
    "    \"Question:\\n {question}\\nAnswer:\\n {answer}\"\n",
    ")\n",
    "\n",
    "# 하나만 찾아서 예시를 주었기 때문에 OneShot 입니다.\n",
    "print(\n",
    "    example_prompt.format(\n",
    "        **examples[0]  # ** 문법은 언패킹 문법입니다. {} 를 제거해줍니다.\n",
    "    )\n",
    ")"
   ]
  },
  {
   "cell_type": "markdown",
   "metadata": {},
   "source": [
    "#### FewShow"
   ]
  },
  {
   "cell_type": "code",
   "execution_count": 17,
   "metadata": {},
   "outputs": [
    {
     "name": "stdout",
     "output_type": "stream",
     "text": [
      "Question:\n",
      " 비트코인과 이더리움 중 어느 네트워크가 더 오래되었나요?\n",
      "Answer:\n",
      " 이 질문에 추가 질문이 필요한가요: 예.\n",
      "    추가 질문: 비트코인은 언제 출시되었나요?\n",
      "    중간 답변: 비트코인은 2009년에 출시되었습니다.\n",
      "    추가 질문: 이더리움은 언제 출시되었나요?\n",
      "    중간 답변: 이더리움은 2015년에 출시되었습니다.\n",
      "    최종 답변은: 비트코인\n",
      "    \n",
      "\n",
      "Question:\n",
      " 리플과 카르다노의 창립자가 같은 대륙 출신인가요?\n",
      "Answer:\n",
      " 이 질문에 추가 질문이 필요한가요: 예.\n",
      "    추가 질문: 리플의 창립자는 누구인가요?\n",
      "    중간 답변: 리플의 창립자는 크리스 라센입니다.\n",
      "    추가 질문: 크리스 라센은 어느 대륙 출신인가요?\n",
      "    중간 답변: 크리스 라센은 북미 출신입니다.\n",
      "    추가 질문: 카르다노의 창립자는 누구인가요?\n",
      "    중간 답변: 카르다노의 창립자는 찰스 호스킨슨입니다.\n",
      "    추가 질문: 찰스 호스킨슨은 어느 대륙 출신인가요?\n",
      "    중간 답변: 찰스 호스킨슨은 북미 출신입니다.\n",
      "    최종 답변은: 예\n",
      "    \n",
      "\n",
      "Question:\n",
      " 폴리곤과 솔라나 중 거래 속도가 더 빠른 네트워크는 무엇인가요?\n",
      "Answer:\n",
      " 이 질문에 추가 질문이 필요한가요: 예.\n",
      "    추가 질문: 폴리곤 네트워크의 거래 속도는 얼마인가요?\n",
      "    중간 답변: 폴리곤 네트워크는 초당 약 7,000 거래를 처리할 수 있습니다.\n",
      "    추가 질문: 솔라나 네트워크의 거래 속도는 얼마인가요?\n",
      "    중간 답변: 솔라나 네트워크는 초당 약 65,000 거래를 처리할 수 있습니다.\n",
      "    최종 답변은: 솔라나\n",
      "    \n",
      "\n",
      "Question:\n",
      " 체인링크와 테조스가 같은 스마트 계약 플랫폼인가요?\n",
      "Answer:\n",
      " 이 질문에 추가 질문이 필요한가요: 예.\n",
      "    추가 질문: 체인링크는 어떤 플랫폼인가요?\n",
      "    중간 답변: 체인링크는 스마트 계약을 위한 오라클 네트워크입니다.\n",
      "    추가 질문: 테조스는 어떤 플랫폼인가요?\n",
      "    중간 답변: 테조스는 자체 스마트 계약을 지원하는 블록체인 플랫폼입니다.\n",
      "    최종 답변은: 아니요\n",
      "    \n",
      "\n",
      "Question:\n",
      " 니어프로토콜은 어떤 체인인가요?\n",
      "Answer:\n",
      " \n"
     ]
    }
   ],
   "source": [
    "prompt = FewShotPromptTemplate(\n",
    "    examples=examples,\n",
    "    example_prompt=example_prompt,\n",
    "    suffix=\"Question:\\n {question}\\nAnswer:\\n \",\n",
    "    input_variables=[\"question\"],\n",
    ")\n",
    "\n",
    "question = \"니어프로토콜은 어떤 체인인가요?\"\n",
    "final_prompt = prompt.format(question=question)\n",
    "print(final_prompt)"
   ]
  },
  {
   "cell_type": "code",
   "execution_count": 18,
   "metadata": {},
   "outputs": [
    {
     "name": "stdout",
     "output_type": "stream",
     "text": [
      "이 질문에 추가 질문이 필요한가요: 예.  \n",
      "추가 질문: 니어프로토콜은 어떤 기능을 가지고 있나요?  \n",
      "중간 답변: 니어프로토콜은 분산형 애플리케이션(dApp)을 구축할 수 있는 블록체인 플랫폼입니다.  \n",
      "추가 질문: 니어프로토콜의 합의 알고리즘은 무엇인가요?  \n",
      "중간 답변: 니어프로토콜은 나이트샤드(Nightshade)라는 샤딩 기술을 사용하는 합의 알고리즘을 채택하고 있습니다.  \n",
      "최종 답변은: 니어프로토콜은 분산형 애플리케이션을 구축할 수 있는 블록체인 플랫폼입니다.\n"
     ]
    }
   ],
   "source": [
    "chain = prompt | llm\n",
    "\n",
    "print(chain.invoke(question).content)"
   ]
  },
  {
   "cell_type": "markdown",
   "metadata": {},
   "source": [
    "### Example Selector\n",
    "\n",
    "- 예제가 많은 경우 프롬프트에 포함된 예제를 선택할 수 있습니다. 질문과 유사도를 판단해서 전체 예제를 프롬프트에 포함시키지않고 **선택해서** 포함합니다.\n",
    "- SemanticSimilarityExampleSelector : 질문과 유사도 계산을 해서 유사도가 높은 몇 개를 선택해줍니다.\n",
    "\n",
    "프롬프트의 비용을 줄일 수 있는 방법 중에 하나입니다."
   ]
  },
  {
   "cell_type": "code",
   "execution_count": 22,
   "metadata": {},
   "outputs": [
    {
     "name": "stdout",
     "output_type": "stream",
     "text": [
      "입력에 가장 유사한 예시입니다 : \n",
      "니어프로토콜은 어떤 체인인가요?\n",
      "\n",
      "question:\n",
      "체인링크와 테조스가 같은 스마트 계약 플랫폼인가요?\n",
      "answer:\n",
      "이 질문에 추가 질문이 필요한가요: 예.\n",
      "    추가 질문: 체인링크는 어떤 플랫폼인가요?\n",
      "    중간 답변: 체인링크는 스마트 계약을 위한 오라클 네트워크입니다.\n",
      "    추가 질문: 테조스는 어떤 플랫폼인가요?\n",
      "    중간 답변: 테조스는 자체 스마트 계약을 지원하는 블록체인 플랫폼입니다.\n",
      "    최종 답변은: 아니요\n",
      "    \n"
     ]
    }
   ],
   "source": [
    "from langchain_core.example_selectors import SemanticSimilarityExampleSelector\n",
    "from langchain_openai import OpenAIEmbeddings\n",
    "from langchain_chroma import Chroma\n",
    "\n",
    "# Vector DB 생성 (저장소 이름, 임베딩 클래스)\n",
    "Chroma = Chroma(\"example_selector\", OpenAIEmbeddings())\n",
    "\n",
    "example_selector = SemanticSimilarityExampleSelector.from_examples(\n",
    "    # 예시 목록입니다.\n",
    "    examples,\n",
    "    # 유사성을 측정하는 임베딩 클래스입니다.\n",
    "    OpenAIEmbeddings(),\n",
    "    # 벡터 데이터베이스 클레스 입니다.\n",
    "    Chroma,\n",
    "    # 선택할 예시의 갯수입니다.\n",
    "    k=1,\n",
    ")\n",
    "\n",
    "question = \"니어프로토콜은 어떤 체인인가요?\"\n",
    "selected_examples = example_selector.select_examples({\"question\": question})\n",
    "\n",
    "print(f\"입력에 가장 유사한 예시입니다 : \\n{question}\\n\")\n",
    "for example in selected_examples:\n",
    "    print(f\"question:\\n{example['question']}\")\n",
    "    print(f\"answer:\\n{example['answer']}\")"
   ]
  },
  {
   "cell_type": "code",
   "execution_count": 27,
   "metadata": {},
   "outputs": [
    {
     "name": "stdout",
     "output_type": "stream",
     "text": [
      "Question:\n",
      " 체인링크와 테조스가 같은 스마트 계약 플랫폼인가요?\n",
      "Answer:\n",
      " 이 질문에 추가 질문이 필요한가요: 예.\n",
      "    추가 질문: 체인링크는 어떤 플랫폼인가요?\n",
      "    중간 답변: 체인링크는 스마트 계약을 위한 오라클 네트워크입니다.\n",
      "    추가 질문: 테조스는 어떤 플랫폼인가요?\n",
      "    중간 답변: 테조스는 자체 스마트 계약을 지원하는 블록체인 플랫폼입니다.\n",
      "    최종 답변은: 아니요\n",
      "    \n",
      "\n",
      "Question:\n",
      " 체인링크와 테조스가 같은 스마트 계약 플랫폼인가요?\n",
      "Answer:\n",
      " 이 질문에 추가 질문이 필요한가요: 예.\n",
      "    추가 질문: 체인링크는 어떤 플랫폼인가요?\n",
      "    중간 답변: 체인링크는 스마트 계약을 위한 오라클 네트워크입니다.\n",
      "    추가 질문: 테조스는 어떤 플랫폼인가요?\n",
      "    중간 답변: 테조스는 자체 스마트 계약을 지원하는 블록체인 플랫폼입니다.\n",
      "    최종 답변은: 아니요\n",
      "    \n",
      "\n",
      "Question:\n",
      " 니어프로토콜은 어떤 체인인가요?\n",
      "Answer:\n",
      " \n"
     ]
    }
   ],
   "source": [
    "from langchain_core.output_parsers import StrOutputParser\n",
    "from langchain_core.example_selectors import SemanticSimilarityExampleSelector\n",
    "from langchain_openai import OpenAIEmbeddings\n",
    "from langchain_chroma import Chroma\n",
    "\n",
    "examples = [\n",
    "    {\n",
    "        \"question\": \"비트코인과 이더리움 중 어느 네트워크가 더 오래되었나요?\",\n",
    "        \"answer\": \"\"\"이 질문에 추가 질문이 필요한가요: 예.\n",
    "    추가 질문: 비트코인은 언제 출시되었나요?\n",
    "    중간 답변: 비트코인은 2009년에 출시되었습니다.\n",
    "    추가 질문: 이더리움은 언제 출시되었나요?\n",
    "    중간 답변: 이더리움은 2015년에 출시되었습니다.\n",
    "    최종 답변은: 비트코인\n",
    "    \"\"\",\n",
    "    },\n",
    "    {\n",
    "        \"question\": \"리플과 카르다노의 창립자가 같은 대륙 출신인가요?\",\n",
    "        \"answer\": \"\"\"이 질문에 추가 질문이 필요한가요: 예.\n",
    "    추가 질문: 리플의 창립자는 누구인가요?\n",
    "    중간 답변: 리플의 창립자는 크리스 라센입니다.\n",
    "    추가 질문: 크리스 라센은 어느 대륙 출신인가요?\n",
    "    중간 답변: 크리스 라센은 북미 출신입니다.\n",
    "    추가 질문: 카르다노의 창립자는 누구인가요?\n",
    "    중간 답변: 카르다노의 창립자는 찰스 호스킨슨입니다.\n",
    "    추가 질문: 찰스 호스킨슨은 어느 대륙 출신인가요?\n",
    "    중간 답변: 찰스 호스킨슨은 북미 출신입니다.\n",
    "    최종 답변은: 예\n",
    "    \"\"\",\n",
    "    },\n",
    "    {\n",
    "        \"question\": \"폴리곤과 솔라나 중 거래 속도가 더 빠른 네트워크는 무엇인가요?\",\n",
    "        \"answer\": \"\"\"이 질문에 추가 질문이 필요한가요: 예.\n",
    "    추가 질문: 폴리곤 네트워크의 거래 속도는 얼마인가요?\n",
    "    중간 답변: 폴리곤 네트워크는 초당 약 7,000 거래를 처리할 수 있습니다.\n",
    "    추가 질문: 솔라나 네트워크의 거래 속도는 얼마인가요?\n",
    "    중간 답변: 솔라나 네트워크는 초당 약 65,000 거래를 처리할 수 있습니다.\n",
    "    최종 답변은: 솔라나\n",
    "    \"\"\",\n",
    "    },\n",
    "    {\n",
    "        \"question\": \"체인링크와 테조스가 같은 스마트 계약 플랫폼인가요?\",\n",
    "        \"answer\": \"\"\"이 질문에 추가 질문이 필요한가요: 예.\n",
    "    추가 질문: 체인링크는 어떤 플랫폼인가요?\n",
    "    중간 답변: 체인링크는 스마트 계약을 위한 오라클 네트워크입니다.\n",
    "    추가 질문: 테조스는 어떤 플랫폼인가요?\n",
    "    중간 답변: 테조스는 자체 스마트 계약을 지원하는 블록체인 플랫폼입니다.\n",
    "    최종 답변은: 아니요\n",
    "    \"\"\",\n",
    "    },\n",
    "]\n",
    "\n",
    "embeddings = OpenAIEmbeddings()\n",
    "chroma_db = Chroma(\"example_selector\", OpenAIEmbeddings())\n",
    "\n",
    "example_selector = SemanticSimilarityExampleSelector.from_examples(\n",
    "    examples=examples,\n",
    "    embeddings=embeddings,\n",
    "    vectorstore_cls=chroma_db,\n",
    "    k=2,\n",
    ")\n",
    "\n",
    "example_prompt = PromptTemplate.from_template(\n",
    "    \"Question:\\n {question}\\nAnswer:\\n {answer}\"\n",
    ")\n",
    "\n",
    "prompt = FewShotPromptTemplate(\n",
    "    example_selector=example_selector,\n",
    "    example_prompt=example_prompt,\n",
    "    suffix=\"Question:\\n {question}\\nAnswer:\\n \",\n",
    "    input_variables=[\"question\"],\n",
    ")\n",
    "\n",
    "question = \"니어프로토콜은 어떤 체인인가요?\"\n",
    "example_selector_prompt = prompt.format(question=question)\n",
    "print(example_selector_prompt)"
   ]
  },
  {
   "cell_type": "code",
   "execution_count": 33,
   "metadata": {},
   "outputs": [
    {
     "name": "stdout",
     "output_type": "stream",
     "text": [
      "이 질문에 추가 질문이 필요한가요: 예.\n",
      "    추가 질문: 니어프로토콜은 어떤 플랫폼인가요?\n",
      "    중간 답변: 니어프로토콜은 확장성이 뛰어난 블록체인 플랫폼으로, 스마트 계약과 분산 애플리케이션(dApps)을 지원합니다.\n",
      "    추가 질문: 아카시네트워크는 어떤 플랫폼인가요?\n",
      "    중간 답변: 아카시네트워크는 분산형 클라우드 컴퓨팅 플랫폼으로, 블록체인 기술을 사용하여 서버리스 컴퓨팅 환경을 제공합니다.\n",
      "    최종 답변은: 니어프로토콜과 아카시네트워크는 각각 다른 목적을 가진 체인입니다. 니어프로토콜은 스마트 계약과 dApps 지원을 위한 블록체인 플랫픔이며, 아카시네트워크는 분산형 클라우드 컴퓨팅을 제공하는 플랫폼입니다."
     ]
    }
   ],
   "source": [
    "from langchain_openai import ChatOpenAI\n",
    "\n",
    "llm = ChatOpenAI(model=\"gpt-4-turbo\", temperature=0)\n",
    "\n",
    "\n",
    "prompt = FewShotPromptTemplate(\n",
    "    example_selector=example_selector,\n",
    "    example_prompt=example_prompt,\n",
    "    suffix=\"Question:\\n {question}\\nAnswer:\\n \",\n",
    "    input_variables=[\"question\"],\n",
    ")\n",
    "\n",
    "chain = prompt | llm | StrOutputParser()\n",
    "\n",
    "answer = chain.stream(\n",
    "    {\n",
    "        \"question\": \"니어프로토콜과 아카시네트워크는 어떤 체인인가요?\"\n",
    "    }  # 질문이 올바르지 않으면 example_selector 처럼 원하는 형식의 답변을 받지 못 할 수도 있습니다.\n",
    ")\n",
    "\n",
    "for token in answer:\n",
    "    print(token, end=\"\", flush=True)"
   ]
  }
 ],
 "metadata": {
  "kernelspec": {
   "display_name": "langchain-note-2024-PFhCXHTX-py3.12",
   "language": "python",
   "name": "python3"
  },
  "language_info": {
   "codemirror_mode": {
    "name": "ipython",
    "version": 3
   },
   "file_extension": ".py",
   "mimetype": "text/x-python",
   "name": "python",
   "nbconvert_exporter": "python",
   "pygments_lexer": "ipython3",
   "version": "3.12.7"
  }
 },
 "nbformat": 4,
 "nbformat_minor": 2
}
