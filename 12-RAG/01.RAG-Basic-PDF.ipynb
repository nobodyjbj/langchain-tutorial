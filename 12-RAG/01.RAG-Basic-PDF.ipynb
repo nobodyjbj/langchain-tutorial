{
 "cells": [
  {
   "cell_type": "code",
   "execution_count": 1,
   "metadata": {},
   "outputs": [
    {
     "data": {
      "text/plain": [
       "True"
      ]
     },
     "execution_count": 1,
     "metadata": {},
     "output_type": "execute_result"
    }
   ],
   "source": [
    "from dotenv import load_dotenv\n",
    "import sys\n",
    "\n",
    "sys.path.append(\"../common\")\n",
    "load_dotenv()"
   ]
  },
  {
   "cell_type": "code",
   "execution_count": 3,
   "metadata": {},
   "outputs": [
    {
     "name": "stdout",
     "output_type": "stream",
     "text": [
      "Langsmith 추적이 활성화되었습니다. [프로젝트명: LangchainNote12-RAG]\n"
     ]
    }
   ],
   "source": [
    "import os\n",
    "from langsmith_tracker import set_tracking\n",
    "\n",
    "# 인스턴스를 생성할 때 필요한 매개변수를 전달합니다.\n",
    "set_tracking(project_name=os.getenv(\"LANGCHAIN_PROJECT\"))"
   ]
  },
  {
   "cell_type": "markdown",
   "metadata": {},
   "source": [
    "### RAG 기본 파이프라이(1~8단계)"
   ]
  },
  {
   "cell_type": "code",
   "execution_count": 6,
   "metadata": {},
   "outputs": [],
   "source": [
    "from langchain_text_splitters import RecursiveCharacterTextSplitter\n",
    "from langchain_community.document_loaders import PyMuPDFLoader\n",
    "from langchain_community.vectorstores import FAISS\n",
    "from langchain_core.output_parsers import StrOutputParser\n",
    "from langchain_core.runnables import RunnablePassthrough\n",
    "from langchain_core.prompts import PromptTemplate\n",
    "from langchain_openai import ChatOpenAI, OpenAIEmbeddings"
   ]
  },
  {
   "cell_type": "markdown",
   "metadata": {},
   "source": [
    "RAG 구조를 이해하기 위한 뼈대코드(sekeleton code) 입니다.  \n",
    "각 단계별로 다양한 옵션을 설정하거나 새로운 기법을 적용할 수 있습니다.  \n",
    "복사 해서 사용하면 됩니다.  "
   ]
  },
  {
   "cell_type": "markdown",
   "metadata": {},
   "source": [
    "#### 사전단계 (pre_processing)"
   ]
  },
  {
   "cell_type": "code",
   "execution_count": 17,
   "metadata": {},
   "outputs": [
    {
     "data": {
      "text/plain": [
       "{'source': 'data/IS-183_AI 위험 유형 및 사례 분석(최종).pdf',\n",
       " 'file_path': 'data/IS-183_AI 위험 유형 및 사례 분석(최종).pdf',\n",
       " 'page': 1,\n",
       " 'total_pages': 32,\n",
       " 'format': 'PDF 1.4',\n",
       " 'title': '',\n",
       " 'author': 'user',\n",
       " 'subject': '',\n",
       " 'keywords': '',\n",
       " 'creator': 'Hwp 2018 10.0.0.14241',\n",
       " 'producer': 'Hancom PDF 1.3.0.547',\n",
       " 'creationDate': \"D:20241106094709+09'00'\",\n",
       " 'modDate': \"D:20241106094709+09'00'\",\n",
       " 'trapped': ''}"
      ]
     },
     "execution_count": 17,
     "metadata": {},
     "output_type": "execute_result"
    }
   ],
   "source": [
    "# 1단계: 문서 로드(Load Documents)\n",
    "loader = PyMuPDFLoader(\"data/IS-183_AI 위험 유형 및 사례 분석(최종).pdf\")\n",
    "docs = loader.load()\n",
    "# len(docs)\n",
    "# docs[1].content\n",
    "docs[1].metadata"
   ]
  },
  {
   "cell_type": "code",
   "execution_count": null,
   "metadata": {},
   "outputs": [],
   "source": [
    "# 2단계: 문서 분할(split documents)\n",
    "text_splitter = RecursiveCharacterTextSplitter(chunk_size=1000, chunk_overlap=50)\n",
    "split_documents = text_splitter.split_documents(docs)\n",
    "split_documents"
   ]
  },
  {
   "cell_type": "code",
   "execution_count": 16,
   "metadata": {},
   "outputs": [],
   "source": [
    "# 3단계: 임베딩(Embedding) 생성\n",
    "embeddings = OpenAIEmbeddings()\n",
    "\n",
    "# 4단계: DB 생성(Create DB) 및 저장, VectorStore 생성, FAISS는 메모리 공간에 저장합니다.\n",
    "vectorstore = FAISS.from_documents(documents=split_documents, embedding=embeddings)"
   ]
  },
  {
   "cell_type": "markdown",
   "metadata": {},
   "source": [
    "#### 런타임 단계 (runtime_processing)"
   ]
  },
  {
   "cell_type": "code",
   "execution_count": 22,
   "metadata": {},
   "outputs": [
    {
     "data": {
      "text/plain": [
       "VectorStoreRetriever(tags=['FAISS', 'OpenAIEmbeddings'], vectorstore=<langchain_community.vectorstores.faiss.FAISS object at 0x105fe23f0>, search_kwargs={})"
      ]
     },
     "execution_count": 22,
     "metadata": {},
     "output_type": "execute_result"
    }
   ],
   "source": [
    "# 5단계: 검색기(Retriever) 생성\n",
    "retriever = vectorstore.as_retriever()\n",
    "retriever"
   ]
  },
  {
   "cell_type": "code",
   "execution_count": 23,
   "metadata": {},
   "outputs": [
    {
     "data": {
      "text/plain": [
       "[Document(metadata={'source': 'data/IS-183_AI 위험 유형 및 사례 분석(최종).pdf', 'file_path': 'data/IS-183_AI 위험 유형 및 사례 분석(최종).pdf', 'page': 7, 'total_pages': 32, 'format': 'PDF 1.4', 'title': '', 'author': 'user', 'subject': '', 'keywords': '', 'creator': 'Hwp 2018 10.0.0.14241', 'producer': 'Hancom PDF 1.3.0.547', 'creationDate': \"D:20241106094709+09'00'\", 'modDate': \"D:20241106094709+09'00'\", 'trapped': ''}, page_content='기술의 활용에 대한 위험 인식 수준은 낮은 상태로 활용 이점에 집중하는 경향\\n●AI 위험 요인들에 대한 체계적 분석과 대비가 시급한 상황이나, 세계적으로 공통적으로 참고될만한 \\n포괄적 분류체계가 없는 상황\\n∙AI 안전과 위험 요인에 대한 정의가 부족하고, 여러 기준 및 관점에 따라 다양한 위험 요인 분류 체계가 \\n혼재하고 있어 체계적인 대비가 어려움\\n●따라서, 본 보고서에서는 AI 안전의 개념을 정리하고, 혼재되어 있는 위험 유형을 사례와 함께 \\n분류하여 앞으로의 대응 방향과 AI 안전 확보를 위한 정책적 시사점을 제시\\n6 Yoshua Bengio 외 (2024.5), International Scientific Report on the Safety of Advanced AI : INTERIM REPORT \\n7 Peter Slattery 외 (2024.8), The AI Risk Repository: A Comprehensive Meta-Review, Database, and Taxonomy of \\nRisks From Artificial Intelligence'),\n",
       " Document(metadata={'source': 'data/IS-183_AI 위험 유형 및 사례 분석(최종).pdf', 'file_path': 'data/IS-183_AI 위험 유형 및 사례 분석(최종).pdf', 'page': 3, 'total_pages': 32, 'format': 'PDF 1.4', 'title': '', 'author': 'user', 'subject': '', 'keywords': '', 'creator': 'Hwp 2018 10.0.0.14241', 'producer': 'Hancom PDF 1.3.0.547', 'creationDate': \"D:20241106094709+09'00'\", 'modDate': \"D:20241106094709+09'00'\", 'trapped': ''}, page_content='SPRi\\x01이슈리포트IS-183\\nAI\\x01위험유형및사례분석\\n요약문\\n최근 몇 년간 인공지능(AI) 기술의 발전은 챗GPT의 출시 이후 거대 언어 모델(LLM) 개발 경쟁을 \\n거치며 가속화되었다. 현재 공개된 AI 모델들의 성능은 특정 분야에서는 이미 인간의 능력을 뛰어넘었고, \\n이에 따라 활용 범위 또한 급격히 확장되었다. 특히 생성 AI를 기반으로 하는 범용 AI는 제조, 의료, 금융, \\n교육 등의 여러 산업 분야에서 활용되고 있다. 하지만, AI 기반의 서비스들이 다양한 이점을 제공하는 한편, \\n고성능 AI에 대한 접근성의 향상으로 인해 새로운 위험에 대한 우려 또한 증가했다.  이에 따라, 기존 AI \\n신뢰성, 책임성, 윤리 등의 논의와 더불어, ‘AI 안전’이 더욱 중요해졌다. 악의적인 사용, 오작동과 같은 \\n위험들이 실제 피해까지 야기하고 있는 만큼, AI의 안전 확보를 위한 대응책 마련이 시급해진 상황이다. \\n앞으로 등장할 더 강력한 성능을 가진 프론티어 AI 모델은 의도치 않은 결과의 도출, 제어 불가, 사회적 \\n악영향 등 여러 잠재적인 위험을 포함할 가능성이 높아, 규제와 지침 마련을 비롯하여 다양한 국제적 노력이 \\n이루어지고 있다.\\n각 국의 정부, 기업 등 이해관계자들은 AI의 안전성을 확보하기 위해, 위험을 식별하여 평가 기준을 \\n마련하고, 안전한 AI 개발 및 배포와 위험 대응책을 마련하기 위해 노력하고 있다. 최근 연구들에서는 사고 \\n사례나 발생 가능한 시나리오에 따른 위험들을 분류하여 제시하고 있다. 하지만, 연구마다 다양한 위험 \\n분류 체계를 제시하고 있어, 합의된 AI 안전 평가 체계를 마련하기에는 아직 더 많은 논의가 필요한 \\n상황이다. 미국, 영국, 일본 등은 AI 시스템의 안전성 확보를 위해  AI 안전연구소를 통해 AI 안전 및 위험 \\n연구, 위험성 평가, 안전한 AI 개발·구현을 위한 기준 마련 등의 기능을 수행 중이다. 대표적으로 AI 위험'),\n",
       " Document(metadata={'source': 'data/IS-183_AI 위험 유형 및 사례 분석(최종).pdf', 'file_path': 'data/IS-183_AI 위험 유형 및 사례 분석(최종).pdf', 'page': 3, 'total_pages': 32, 'format': 'PDF 1.4', 'title': '', 'author': 'user', 'subject': '', 'keywords': '', 'creator': 'Hwp 2018 10.0.0.14241', 'producer': 'Hancom PDF 1.3.0.547', 'creationDate': \"D:20241106094709+09'00'\", 'modDate': \"D:20241106094709+09'00'\", 'trapped': ''}, page_content='관리 프레임워크(美), AI 안전에 관한 과학 보고서(英) 등을 통해 AI의 위험에 대한 대응 방안을 제시하고 \\n있으며, 한국도 설립될 AI 안전연구소를 통해 AI 안전 수요에 대응할 예정이다. 본 보고서에서는 AI 안전과 \\n관련된 개념을 정리하고, 최근 수행된 연구들이 제시하고 있는 AI 위험 유형 및 요인을 정리하여, 사례와 \\n함께 분석함으로써 앞으로의 AI 위험 대응에 관한 정책적 시사점을 제공하고자 한다.'),\n",
       " Document(metadata={'source': 'data/IS-183_AI 위험 유형 및 사례 분석(최종).pdf', 'file_path': 'data/IS-183_AI 위험 유형 및 사례 분석(최종).pdf', 'page': 8, 'total_pages': 32, 'format': 'PDF 1.4', 'title': '', 'author': 'user', 'subject': '', 'keywords': '', 'creator': 'Hwp 2018 10.0.0.14241', 'producer': 'Hancom PDF 1.3.0.547', 'creationDate': \"D:20241106094709+09'00'\", 'modDate': \"D:20241106094709+09'00'\", 'trapped': ''}, page_content='SPRi\\x01이슈리포트IS-183\\nAI\\x01위험유형및사례분석\\n4\\nII. AI 안전과 위험 요인\\n■AI\\x01 안전은다양한관점에서정의되고있으나,\\x01 대부분의정의에서는AI의잠재적인\\n위험으로부터인간의피해를보호하는것을포함하는개념\\n●최근의 AI 안전에 관한 논의는 인간의 가치와 윤리적 원칙에 부합하게 하고, 의도치 않은 피해나 \\n부정적인 결과를 방지하는 것을 주요 목표로 포함시키면서 논의 범위가 더욱 확장\\n∙AI 시스템의 안전성을 확보함으로써 신뢰성을 확보할 수 있다는 점에서 신뢰성 개념과 상호 연관\\n* 신뢰성(Trustworthiness)은 검증 가능한 방식으로 이해관계자의 기대치를 충족시키는 것으로 정의되며, 안전성, 책임성, 투명\\n성, 무결성, 보안성 등 다양한 요소를 포함한 포괄적 개념8\\n∙대표적으로 영국 AI 안전연구소9에서는 AI 안전을 ‘AI로 인한 피해*를 이해하고 예방하며 완화하는 것’으로 정의\\n* 인공지능 기술로 인해 발생하는 피해는 개인부터 전 세계적으로 발생할 수 있는 물리적 ·심리적·사회경제적 피해 등 모든 유형\\n의 피해를 포함\\n●최근의 AI 안전에 관한 논의 범위는 더 넓어졌으며, 다양한 잠재적 위험에 따른 피해를 방지하기 \\n위한 기술적·사회적 대응 방안을 마련하는 데 초점을 두고 있음\\n∙미국 백악관에서 공개한 기업들의 ‘자발적 AI 서약’10은 AI 제품의 안전 보장을 위해 출시 전 안전 확인 \\n의무를 강조하며, 이에 대한 대응으로 AI 시스템의 안전성 및 기능 테스트, 외부 테스트, 잠재적 \\n생물학·사이버보안·사회적 위험 평가 및 공개 등의 활동을 포함\\n∙국내외 AI 기업들은 ‘책임 있는 AI’의 실현을 위해 전담 조직을 운영하고, AI 위험 식별 및 평가를 수행하는 \\n등 개발 및 배포 과정에서 AI의 위험 완화를 위한 방안을 도입하고 있음11\\n●본 보고서에서는 ‘AI 안전’을 내부적 위험 요인을 제거 및 최소화하는 협의의 개념과 더불어, 다양한 \\n비기술적 위험 요인들까지 고려하여 이로 인한 피해를 대비하는 것을 포함하는 포괄적인 개념으로 \\n정의')]"
      ]
     },
     "execution_count": 23,
     "metadata": {},
     "output_type": "execute_result"
    }
   ],
   "source": [
    "retriever.invoke(\"AI가 어떤 점에서 위험한가요?\")"
   ]
  },
  {
   "cell_type": "code",
   "execution_count": 26,
   "metadata": {},
   "outputs": [
    {
     "name": "stdout",
     "output_type": "stream",
     "text": [
      "AI 위험 유형은 다음과 같이 구분됩니다:\n",
      "\n",
      "1. 악의적 사용 위험\n",
      "2. 오작동 위험\n",
      "3. 시스템적 위험\n",
      "4. 교차 위험 요인\n",
      "\n",
      "이 외에도 잘못된 정보, 악의적 행위자 및 오용, 인간-컴퓨터 상호작용, 사회경제적 및 환경적 피해, AI 시스템 안전, 실패 및 한계 등의 위험 요소가 존재합니다."
     ]
    }
   ],
   "source": [
    "# 6단계: 프롬프트 생성(Create Prompt)\n",
    "prompt = PromptTemplate.from_template(\n",
    "    \"\"\"You are an assistant for question-answering tasks. \n",
    "Use the following pieces of retrieved context to answer the question. \n",
    "If you don't know the answer, just say that you don't know. \n",
    "Answer in Korean.\n",
    "\n",
    "#Context: \n",
    "{context}\n",
    "\n",
    "#Question:\n",
    "{question}\n",
    "\n",
    "#Answer:\"\"\"\n",
    ")\n",
    "\n",
    "# 7단계: LLM 생성\n",
    "llm = ChatOpenAI(model=\"gpt-4o-mini\", temperature=0)\n",
    "\n",
    "# 8단계: Chain 생성, context=chunk 묶음, quetion=user_prompt\n",
    "chain = (\n",
    "    {\"context\": retriever, \"question\": RunnablePassthrough()}\n",
    "    | prompt\n",
    "    | llm\n",
    "    | StrOutputParser()\n",
    ")\n",
    "\n",
    "# 체인 실행\n",
    "question = \"AI 위험 유형은?\"\n",
    "response = chain.stream(question)\n",
    "\n",
    "for token in response:\n",
    "    print(f\"{token}\", end=\"\", flush=True)"
   ]
  },
  {
   "cell_type": "markdown",
   "metadata": {},
   "source": [
    "![image.png](images/langsmith_result.png)"
   ]
  }
 ],
 "metadata": {
  "kernelspec": {
   "display_name": "langchain-note-2024-PFhCXHTX-py3.12",
   "language": "python",
   "name": "python3"
  },
  "language_info": {
   "codemirror_mode": {
    "name": "ipython",
    "version": 3
   },
   "file_extension": ".py",
   "mimetype": "text/x-python",
   "name": "python",
   "nbconvert_exporter": "python",
   "pygments_lexer": "ipython3",
   "version": "3.12.7"
  }
 },
 "nbformat": 4,
 "nbformat_minor": 2
}
