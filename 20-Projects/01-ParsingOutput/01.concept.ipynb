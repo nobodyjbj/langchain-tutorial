{
 "cells": [
  {
   "cell_type": "code",
   "execution_count": 31,
   "metadata": {},
   "outputs": [
    {
     "data": {
      "text/plain": [
       "True"
      ]
     },
     "execution_count": 31,
     "metadata": {},
     "output_type": "execute_result"
    }
   ],
   "source": [
    "from dotenv import load_dotenv\n",
    "import sys\n",
    "\n",
    "sys.path.append(\"../../common\")\n",
    "load_dotenv()"
   ]
  },
  {
   "cell_type": "code",
   "execution_count": 32,
   "metadata": {},
   "outputs": [
    {
     "name": "stdout",
     "output_type": "stream",
     "text": [
      "Langsmith 추적이 활성화되었습니다. [프로젝트명: 20.Project]\n"
     ]
    }
   ],
   "source": [
    "import os\n",
    "from langsmith_tracker import set_tracking\n",
    "from langchain_print import stream_response\n",
    "\n",
    "# 인스턴스를 생성할 때 필요한 매개변수를 전달합니다.\n",
    "set_tracking(project_name=\"20.Project\")"
   ]
  },
  {
   "cell_type": "code",
   "execution_count": 33,
   "metadata": {},
   "outputs": [],
   "source": [
    "email_conversation = \"\"\"\n",
    "제목: 블록체인과 AI 기술 융합 프로젝트 논의 요청\n",
    "\n",
    "보내는 사람: 박은빈 (기획팀)\n",
    "이메일: silverempty@gmail.com\n",
    "\n",
    "받는 사람: 김태리 (개발팀)\n",
    "이메일: kimterry@gmail.com\n",
    "\n",
    "안녕하세요, 김태리 개발팀장님,\n",
    "기획팀 박은빈입니다.\n",
    "\n",
    "최근 기획팀에서 논의 중인 블록체인과 AI 기술 융합 프로젝트와 관련하여, 구체적인 방향을 설정하기 위해 개발팀의 전문적인 의견을 듣고자 합니다.\n",
    "이에 따라 아래와 같이 회의 일정을 제안드리오니, 확인 후 참석 부탁드립니다.\n",
    "\n",
    "회의 일정\n",
    "일시: 2024년 11월 28일(목) 오후 2시\n",
    "장소: 본사 3층 회의실 A\n",
    "참석 대상: 기획팀, 개발팀\n",
    "\n",
    "주요 논의 내용\n",
    "1. 블록체인 데이터 활용 방안\n",
    "- 스마트 계약 데이터를 AI 학습 데이터로 변환하는 과정에서의 기술적 고려사항\n",
    "- 트랜잭션 데이터의 실시간 분석 가능성\n",
    "\n",
    "2. AI 모델의 역할\n",
    "- 블록체인 네트워크 내 이상 감지 모델 설계\n",
    "- 사용자 행동 데이터를 분석해 트렌드 예측 시스템 구축\n",
    "\n",
    "3. 기술 스택 제안\n",
    "- 블록체인 네트워크와 호환 가능한 AI 모델 및 프레임워크 논의\n",
    "- 시스템 간 데이터 통합 및 처리 효율성 확보 방안\n",
    "\n",
    "이번 회의를 통해 프로젝트의 기술적 타당성을 검토하고, 초기 기술 스펙 초안을 확정하는 것이 목표입니다.\n",
    "혹시 일정에 어려움이 있으시다면, 조율이 가능하니 미리 말씀 부탁드립니다.\n",
    "\n",
    "바쁘신 와중에도 시간 내주셔서 감사합니다.\n",
    "회의에서 뵙겠습니다!\n",
    "\n",
    "감사합니다.\n",
    "박은빈 드림\n",
    "\n",
    "박은빈\n",
    "기획팀\n",
    "E: silverempty@gmail.com\n",
    "T: 010-1234-5678\n",
    "\"\"\""
   ]
  },
  {
   "cell_type": "code",
   "execution_count": 43,
   "metadata": {},
   "outputs": [],
   "source": [
    "from langchain_openai import ChatOpenAI\n",
    "from langchain_core.prompts import PromptTemplate\n",
    "from langchain_core.output_parsers import PydanticOutputParser\n",
    "from pydantic import BaseModel, Field\n",
    "\n",
    "\n",
    "class EmailSummury(BaseModel):  # BaseModel 기능을 상속받음\n",
    "    sender_name: str = Field(description=\"발신자 이름\")\n",
    "    sender_department: str = Field(description=\"발신자 부서\")\n",
    "    sender_email: str = Field(description=\"발신자 이메일\")\n",
    "    subject: str = Field(description=\"메일 제목\")\n",
    "    summury: str = Field(description=\"메일 본문의 중요 내용 요약\")\n",
    "    keyword: str = Field(description=\"메일 본문의 핵심 키워드\")\n",
    "    date: str = Field(description=\"회의 일정 일시\")"
   ]
  },
  {
   "cell_type": "code",
   "execution_count": 44,
   "metadata": {},
   "outputs": [],
   "source": [
    "## LCEL 구조\n",
    "output_parser = PydanticOutputParser(pydantic_object=EmailSummury)\n",
    "\n",
    "template = \"\"\"\n",
    "    당신은 AI 어시드던트입니다. 아래 내용에 대한 질문을 한글로 대답해주세요.\n",
    "    \n",
    "    #Qustion:\n",
    "    다음의 이메일 내용 중에서 주요 내용을 추출해주세요.\n",
    "    \n",
    "    #EMAIL CONVERSATION:\n",
    "    {email_conversation}\n",
    "    \n",
    "    #FORMAT:\n",
    "    {format_instruction}\n",
    "\"\"\"\n",
    "\n",
    "prompt = PromptTemplate.from_template(\n",
    "    template=template,\n",
    "    partial_variables={\"format_instruction\": output_parser.get_format_instructions()},\n",
    ")\n",
    "\n",
    "llm = ChatOpenAI(model=\"gpt-4o-mini\", temperature=0)\n",
    "\n",
    "chain = prompt | llm | output_parser"
   ]
  },
  {
   "cell_type": "code",
   "execution_count": 45,
   "metadata": {},
   "outputs": [
    {
     "data": {
      "text/plain": [
       "EmailSummury(sender_name='박은빈', sender_department='기획팀', sender_email='silverempty@gmail.com', subject='블록체인과 AI 기술 융합 프로젝트 논의 요청', summury='블록체인과 AI 기술 융합 프로젝트에 대한 개발팀의 의견을 듣기 위한 회의 요청.', keyword='블록체인, AI, 융합 프로젝트, 회의', date='2024년 11월 28일(목) 오후 2시')"
      ]
     },
     "execution_count": 45,
     "metadata": {},
     "output_type": "execute_result"
    }
   ],
   "source": [
    "response = chain.invoke({\"email_conversation\": email_conversation})\n",
    "response"
   ]
  },
  {
   "cell_type": "markdown",
   "metadata": {},
   "source": [
    "### 검색 SERP API\n",
    "\n",
    "홈페이지 : https://serpapi.com/integrations/python"
   ]
  },
  {
   "cell_type": "code",
   "execution_count": 41,
   "metadata": {},
   "outputs": [],
   "source": [
    "from langchain_community.utilities import SerpAPIWrapper\n",
    "\n",
    "params = {\"engine\": \"google\", \"gl\": \"kr\", \"hl\": \"ko\", \"num\": \"2\"}\n",
    "\n",
    "search = SerpAPIWrapper(params=params)"
   ]
  },
  {
   "cell_type": "code",
   "execution_count": 49,
   "metadata": {},
   "outputs": [
    {
     "data": {
      "text/plain": [
       "['14일 서울 신라호텔에서 진행된 이번 행사는 블록체인 기술의 발전과 융합 가능성에 대해 다루며 전 세계 금융 및 정보 시스템의 변화를 주제로 한 케이시 ...',\n",
       " 'AI와 블록체인의 융합에 대해서 회의적인 시각을 내는 것은 비단 부테린 뿐만이 아닙니다. 알고리즘의 투명성과 보안의 위협에 대해서도 끊임없는 ...']"
      ]
     },
     "execution_count": 49,
     "metadata": {},
     "output_type": "execute_result"
    }
   ],
   "source": [
    "search_query = f\"{response.keyword}\"\n",
    "\n",
    "search_result = search.run(search_query)\n",
    "\n",
    "search_result = eval(search_result)\n",
    "\n",
    "search_result"
   ]
  },
  {
   "cell_type": "markdown",
   "metadata": {},
   "source": [
    "구조화된 답변을 다음 체인의 입력으로 추가합니다."
   ]
  },
  {
   "cell_type": "code",
   "execution_count": 58,
   "metadata": {},
   "outputs": [],
   "source": [
    "from langchain_core.prompts import PromptTemplate\n",
    "\n",
    "template = \"\"\"\n",
    "당신은 미에일의 주요 정보를 바탕으로 요약 정리해주는 전문가 입니다.\n",
    "당신의 임무는 다음의 이메일 정보를 바탕으로 보고서 형식의 요약을 작성하는 것입니다.\n",
    "주어진 정보를 기반으로 양식(Format)에 맞추어 요약을 작성해주세요.\n",
    "답변에는 카테고리 별로 emoji를 적극 사용해서 답변해 주세요.\n",
    "\n",
    "#Information:\n",
    "- Sender: {sender}\n",
    "- Additional Information about sender: {additional_information}\n",
    "- Department: {department} \n",
    "- Email: {email}\n",
    "- Subject: {subject}\n",
    "- Summury: {summury}\n",
    "- Date: {date} \n",
    "\n",
    "#Format(in markdown format):\n",
    "🙇‍♂️ 보낸 사람:\n",
    "- (보낸 사람 이름, 회사 정보)\n",
    "\n",
    "📧 이메일 주소:\n",
    "- (보낸 사람의 이메일 주소)\n",
    "\n",
    "ℹ️ 보낸 사람과 관련하여 검색된 추가 정보:\n",
    "- (검색된 정보)\n",
    "\n",
    "❗️ 주요 내용:\n",
    "- (이메일 제목, 요약 or 주요 내용)\n",
    "\n",
    "🗓️ 일정\n",
    "- (회의 날짜 및 시간)\n",
    "\n",
    "#Answer\n",
    "\"\"\"\n",
    "\n",
    "report_prompt = PromptTemplate.from_template(template=template)"
   ]
  },
  {
   "cell_type": "code",
   "execution_count": 59,
   "metadata": {},
   "outputs": [
    {
     "name": "stdout",
     "output_type": "stream",
     "text": [
      "🙇‍♂️ 보낸 사람:\n",
      "- 박은빈, 기획팀\n",
      "\n",
      "📧 이메일 주소:\n",
      "- silverempty@gmail.com\n",
      "\n",
      "ℹ️ 보낸 사람과 관련하여 검색된 추가 정보:\n",
      "- 14일 서울 신라호텔에서 진행된 이번 행사는 블록체인 기술의 발전과 융합 가능성에 대해 다루며 전 세계 금융 및 정보 시스템의 변화를 주제로 한 케이시 ... \n",
      "- AI와 블록체인의 융합에 대해서 회의적인 시각을 내는 것은 비단 부테린 뿐만이 아닙니다. 알고리즘의 투명성과 보안의 위협에 대해서도 끊임없는 ...\n",
      "\n",
      "❗️ 주요 내용:\n",
      "- 블록체인과 AI 기술 융합 프로젝트 논의 요청, 개발팀의 의견을 듣기 위한 회의 요청.\n",
      "\n",
      "🗓️ 일정\n",
      "- 2024년 11월 28일(목) 오후 2시\n"
     ]
    }
   ],
   "source": [
    "from langchain_core.output_parsers import StrOutputParser\n",
    "\n",
    "report_chain = report_prompt | llm | StrOutputParser()\n",
    "\n",
    "report_response = report_chain.invoke(\n",
    "    {\n",
    "        \"sender\": response.sender_name,\n",
    "        \"additional_information\": search_result,\n",
    "        \"department\": response.sender_department,\n",
    "        \"email\": response.sender_email,\n",
    "        \"subject\": response.subject,\n",
    "        \"summury\": response.summury,\n",
    "        \"date\": response.date,\n",
    "    }\n",
    ")\n",
    "\n",
    "print(report_response)"
   ]
  }
 ],
 "metadata": {
  "kernelspec": {
   "display_name": "langchain-note-2024-PFhCXHTX-py3.12",
   "language": "python",
   "name": "python3"
  },
  "language_info": {
   "codemirror_mode": {
    "name": "ipython",
    "version": 3
   },
   "file_extension": ".py",
   "mimetype": "text/x-python",
   "name": "python",
   "nbconvert_exporter": "python",
   "pygments_lexer": "ipython3",
   "version": "3.12.7"
  }
 },
 "nbformat": 4,
 "nbformat_minor": 2
}
